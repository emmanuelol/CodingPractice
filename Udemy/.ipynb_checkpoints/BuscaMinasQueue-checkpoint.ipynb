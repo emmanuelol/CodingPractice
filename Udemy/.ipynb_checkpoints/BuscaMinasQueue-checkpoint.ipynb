{
 "cells": [
  {
   "cell_type": "code",
   "execution_count": 70,
   "metadata": {},
   "outputs": [],
   "source": [
    "import numpy as np"
   ]
  },
  {
   "cell_type": "code",
   "execution_count": 71,
   "metadata": {},
   "outputs": [],
   "source": [
    "field=np.zeros([3,4])"
   ]
  },
  {
   "cell_type": "code",
   "execution_count": 72,
   "metadata": {},
   "outputs": [],
   "source": [
    "bombas=[[0,0],[0,1]]"
   ]
  },
  {
   "cell_type": "code",
   "execution_count": 73,
   "metadata": {},
   "outputs": [
    {
     "data": {
      "text/plain": [
       "[[0, 0], [0, 1]]"
      ]
     },
     "execution_count": 73,
     "metadata": {},
     "output_type": "execute_result"
    }
   ],
   "source": [
    "A\n"
   ]
  },
  {
   "cell_type": "code",
   "execution_count": 74,
   "metadata": {},
   "outputs": [],
   "source": [
    "columnas=4\n",
    "renglones=3"
   ]
  },
  {
   "cell_type": "code",
   "execution_count": 77,
   "metadata": {},
   "outputs": [
    {
     "ename": "SyntaxError",
     "evalue": "'return' outside function (<ipython-input-77-7b9c8648313b>, line 15)",
     "output_type": "error",
     "traceback": [
      "\u001b[1;36m  File \u001b[1;32m\"<ipython-input-77-7b9c8648313b>\"\u001b[1;36m, line \u001b[1;32m15\u001b[0m\n\u001b[1;33m    return field\u001b[0m\n\u001b[1;37m    ^\u001b[0m\n\u001b[1;31mSyntaxError\u001b[0m\u001b[1;31m:\u001b[0m 'return' outside function\n"
     ]
    }
   ],
   "source": [
    "for bomba in bombas:\n",
    "    print(bomba)\n",
    "    \n",
    "    renglon=bomba[0]\n",
    "    columna=bomba[1]\n",
    "    \n",
    "    field[renglon][columna]=-1\n",
    "    \n",
    "    for i in range(renglon-1, renglon+2):\n",
    "        for j in range(columna-1, columna+2):\n",
    "            print(i, ',', j)\n",
    "       \n",
    "            if 0<=i<renglones and 0<=j<columnas and field[i][j]!=-1:\n",
    "                field[i][j]+=1\n"
   ]
  },
  {
   "cell_type": "code",
   "execution_count": 76,
   "metadata": {},
   "outputs": [
    {
     "data": {
      "text/plain": [
       "array([[-1., -1.,  1.,  0.],\n",
       "       [ 2.,  2.,  1.,  0.],\n",
       "       [ 0.,  0.,  0.,  0.]])"
      ]
     },
     "execution_count": 76,
     "metadata": {},
     "output_type": "execute_result"
    }
   ],
   "source": [
    "field"
   ]
  },
  {
   "cell_type": "code",
   "execution_count": 80,
   "metadata": {},
   "outputs": [],
   "source": [
    "def busca_minas(bombas,renglones,columnas):\n",
    "    field=np.zeros([renglones,columnas])\n",
    "    for bomba in bombas:    \n",
    "        renglon=bomba[0]\n",
    "        columna=bomba[1]\n",
    "        field[renglon][columna]=-1\n",
    "        for i in range(renglon-1, renglon+2):\n",
    "            for j in range(columna-1, columna+2):\n",
    "                if 0<=i<renglones and 0<=j<columnas and field[i][j]!=-1:\n",
    "                    field[i][j]+=1\n",
    "    return field\n",
    "    \n",
    "    "
   ]
  },
  {
   "cell_type": "code",
   "execution_count": 81,
   "metadata": {},
   "outputs": [
    {
     "data": {
      "text/plain": [
       "array([[-1., -1.,  1.,  0.],\n",
       "       [ 2.,  2.,  1.,  0.],\n",
       "       [ 0.,  0.,  0.,  0.]])"
      ]
     },
     "execution_count": 81,
     "metadata": {},
     "output_type": "execute_result"
    }
   ],
   "source": [
    "busca_minas(bombas,renglones,columnas)"
   ]
  },
  {
   "cell_type": "code",
   "execution_count": null,
   "metadata": {},
   "outputs": [],
   "source": []
  }
 ],
 "metadata": {
  "kernelspec": {
   "display_name": "Python 3",
   "language": "python",
   "name": "python3"
  },
  "language_info": {
   "codemirror_mode": {
    "name": "ipython",
    "version": 3
   },
   "file_extension": ".py",
   "mimetype": "text/x-python",
   "name": "python",
   "nbconvert_exporter": "python",
   "pygments_lexer": "ipython3",
   "version": "3.6.4rc1"
  }
 },
 "nbformat": 4,
 "nbformat_minor": 2
}
