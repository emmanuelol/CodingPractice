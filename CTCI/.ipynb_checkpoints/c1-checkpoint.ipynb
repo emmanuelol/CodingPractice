{
 "cells": [
  {
   "cell_type": "markdown",
   "metadata": {},
   "source": [
    "# Find if a string is made of unique characters\n",
    "## hashmap\n"
   ]
  },
  {
   "cell_type": "code",
   "execution_count": 1,
   "metadata": {},
   "outputs": [],
   "source": [
    "string='holaa'"
   ]
  },
  {
   "cell_type": "code",
   "execution_count": 2,
   "metadata": {},
   "outputs": [],
   "source": [
    "#def isUnique(string):\n",
    "mapa={}\n",
    "for word in string:\n",
    "    if word not in mapa:\n",
    "        mapa[word]=1\n",
    "    else:\n",
    "        mapa[word]+=1\n",
    "            \n",
    "        "
   ]
  },
  {
   "cell_type": "code",
   "execution_count": 3,
   "metadata": {},
   "outputs": [
    {
     "data": {
      "text/plain": [
       "{'h': 1, 'o': 1, 'l': 1, 'a': 2}"
      ]
     },
     "execution_count": 3,
     "metadata": {},
     "output_type": "execute_result"
    }
   ],
   "source": [
    "mapa"
   ]
  },
  {
   "cell_type": "code",
   "execution_count": 4,
   "metadata": {},
   "outputs": [
    {
     "name": "stdout",
     "output_type": "stream",
     "text": [
      "False\n",
      "True\n"
     ]
    }
   ],
   "source": [
    "for i in mapa.values():\n",
    "    if i>1:\n",
    "        print('False')\n",
    "print('True')"
   ]
  },
  {
   "cell_type": "code",
   "execution_count": 5,
   "metadata": {},
   "outputs": [
    {
     "name": "stdout",
     "output_type": "stream",
     "text": [
      "h\n",
      "o\n",
      "l\n",
      "a\n"
     ]
    }
   ],
   "source": [
    "for keys in mapa:\n",
    "    print(keys)"
   ]
  },
  {
   "cell_type": "code",
   "execution_count": 6,
   "metadata": {},
   "outputs": [],
   "source": [
    "string='mundo'"
   ]
  },
  {
   "cell_type": "code",
   "execution_count": 7,
   "metadata": {},
   "outputs": [],
   "source": [
    "def isUnique(string):\n",
    "    mapa={}\n",
    "    for word in string:\n",
    "        if word not in mapa:\n",
    "            mapa[word]=1\n",
    "        else:\n",
    "            mapa[word]+=1\n",
    "    for i in mapa.values():\n",
    "        if i>1:\n",
    "            return False\n",
    "            break\n",
    "    return True"
   ]
  },
  {
   "cell_type": "code",
   "execution_count": 8,
   "metadata": {},
   "outputs": [
    {
     "data": {
      "text/plain": [
       "True"
      ]
     },
     "execution_count": 8,
     "metadata": {},
     "output_type": "execute_result"
    }
   ],
   "source": [
    "isUnique(string)"
   ]
  },
  {
   "cell_type": "code",
   "execution_count": 9,
   "metadata": {},
   "outputs": [],
   "source": [
    "def isUnique2(string):\n",
    "    mapa={}\n",
    "    for i in string:\n",
    "        if i not in mapa:\n",
    "            mapa[i]=1\n",
    "        else:\n",
    "            break \n",
    "            return False\n",
    "    return True"
   ]
  },
  {
   "cell_type": "code",
   "execution_count": 10,
   "metadata": {},
   "outputs": [
    {
     "data": {
      "text/plain": [
       "True"
      ]
     },
     "execution_count": 10,
     "metadata": {},
     "output_type": "execute_result"
    }
   ],
   "source": [
    "isUnique2(string)"
   ]
  },
  {
   "cell_type": "markdown",
   "metadata": {},
   "source": [
    "## O(n)\n",
    "### bueno es n+m (tamaño del string+ numero de caracteres) "
   ]
  },
  {
   "cell_type": "markdown",
   "metadata": {},
   "source": [
    "# check permutation"
   ]
  },
  {
   "cell_type": "code",
   "execution_count": 24,
   "metadata": {},
   "outputs": [],
   "source": [
    "string1='abc'\n",
    "string2='cba'\n",
    "string3='a    cb'"
   ]
  },
  {
   "cell_type": "code",
   "execution_count": 25,
   "metadata": {},
   "outputs": [],
   "source": [
    "def crearMapa(texto):\n",
    "    mapa_palabras={}\n",
    "\n",
    "    for word in texto:\n",
    "        if word not in mapa_palabras:\n",
    "            mapa_palabras[word]=1\n",
    "        else:\n",
    "            mapa_palabras[word]+=1\n",
    "    \n",
    "    return mapa_palabras"
   ]
  },
  {
   "cell_type": "code",
   "execution_count": 26,
   "metadata": {},
   "outputs": [],
   "source": [
    "def check_permutation(texto1,texto2):\n",
    "    \n",
    "    if len(texto1)!=len(texto2):\n",
    "        return False\n",
    "    mapaTexto1=crearMapa(texto1)\n",
    "    mapaTexto2=crearMapa(texto2)\n",
    "    \n",
    "    for key in mapaTexto1:\n",
    "        if key not in mapaTexto2 or mapaTexto1[key]!=mapaTexto2[key]:\n",
    "            return False\n",
    "        \n",
    "    return True\n",
    "            \n",
    "            "
   ]
  },
  {
   "cell_type": "code",
   "execution_count": 27,
   "metadata": {},
   "outputs": [
    {
     "data": {
      "text/plain": [
       "False"
      ]
     },
     "execution_count": 27,
     "metadata": {},
     "output_type": "execute_result"
    }
   ],
   "source": [
    "check_permutation(string1,string3)"
   ]
  },
  {
   "cell_type": "markdown",
   "metadata": {},
   "source": [
    "### run time es O(n+n) osea O(n) peor escenario"
   ]
  },
  {
   "cell_type": "markdown",
   "metadata": {},
   "source": [
    "## URLfy"
   ]
  },
  {
   "cell_type": "code",
   "execution_count": 11,
   "metadata": {},
   "outputs": [],
   "source": [
    "input1='Mr John Smith       '"
   ]
  },
  {
   "cell_type": "code",
   "execution_count": 12,
   "metadata": {},
   "outputs": [
    {
     "name": "stdout",
     "output_type": "stream",
     "text": [
      "Mr%20John%20Smith%20%20%20%20%20%20%20\n"
     ]
    }
   ],
   "source": [
    "resultado=''\n",
    "for word in input1:\n",
    "    if word==' ':\n",
    "        word='%20'\n",
    "    resultado+=word\n",
    "\n",
    "print(resultado)\n",
    "        "
   ]
  },
  {
   "cell_type": "code",
   "execution_count": 17,
   "metadata": {},
   "outputs": [
    {
     "data": {
      "text/plain": [
       "'Mr%20John%20Smith'"
      ]
     },
     "execution_count": 17,
     "metadata": {},
     "output_type": "execute_result"
    }
   ],
   "source": [
    "input1.replace(' ','%20')[0:17]"
   ]
  },
  {
   "cell_type": "code",
   "execution_count": 19,
   "metadata": {},
   "outputs": [],
   "source": [
    "input1='Mr John Smith        '\n",
    "length=13\n"
   ]
  },
  {
   "cell_type": "code",
   "execution_count": 18,
   "metadata": {},
   "outputs": [],
   "source": [
    "def urlify(input1,length):\n",
    "    resultado=''\n",
    "    count=0\n",
    "    for word in input1:\n",
    "        if word==' ':\n",
    "            word='%20'\n",
    "        resultado+=word\n",
    "        count+=1\n",
    "        if count==length:\n",
    "            break\n",
    "            return resultado\n",
    "\n",
    "    return resultado"
   ]
  },
  {
   "cell_type": "code",
   "execution_count": 20,
   "metadata": {},
   "outputs": [
    {
     "data": {
      "text/plain": [
       "'Mr%20John%20Smith'"
      ]
     },
     "execution_count": 20,
     "metadata": {},
     "output_type": "execute_result"
    }
   ],
   "source": [
    "urlify(input1,length)"
   ]
  },
  {
   "cell_type": "markdown",
   "metadata": {},
   "source": [
    "### resultado en O(n)"
   ]
  },
  {
   "cell_type": "code",
   "execution_count": null,
   "metadata": {},
   "outputs": [],
   "source": []
  },
  {
   "cell_type": "markdown",
   "metadata": {},
   "source": [
    "\n",
    "# Palindrome Permutation\n"
   ]
  },
  {
   "cell_type": "markdown",
   "metadata": {},
   "source": [
    "se busca que todos los elementos del string sean pares, solo se permite un elemento impar."
   ]
  },
  {
   "cell_type": "code",
   "execution_count": 25,
   "metadata": {},
   "outputs": [],
   "source": [
    "def PalindromePermutation(string):\n",
    "    string=string.replace(' ','')\n",
    "    string=string.lower()\n",
    "    mapa={}\n",
    "    for i in string:\n",
    "        if i not in mapa:\n",
    "            mapa[i]=1\n",
    "        else:\n",
    "            mapa[i]+=1\n",
    "    \n",
    "    odd_count=0\n",
    "    \n",
    "    for key, value in mapa.items():\n",
    "        if value%2!=0 and odd_count==0:\n",
    "            odd_count+=1\n",
    "        elif value%2!=0 and odd_count!=0:\n",
    "            return False\n",
    "    return True"
   ]
  },
  {
   "cell_type": "code",
   "execution_count": 26,
   "metadata": {},
   "outputs": [
    {
     "data": {
      "text/plain": [
       "True"
      ]
     },
     "execution_count": 26,
     "metadata": {},
     "output_type": "execute_result"
    }
   ],
   "source": [
    "inputPalindrome=\"Tact Coa\"\n",
    "PalindromePermutation(inputPalindrome)"
   ]
  },
  {
   "cell_type": "markdown",
   "metadata": {},
   "source": [
    "### O(n) time and memory"
   ]
  },
  {
   "cell_type": "markdown",
   "metadata": {},
   "source": [
    "## One Way"
   ]
  },
  {
   "cell_type": "code",
   "execution_count": 32,
   "metadata": {},
   "outputs": [],
   "source": [
    "input1='pale'\n",
    "input2='ale'\n",
    "input3='pales'\n",
    "input4='bake'"
   ]
  },
  {
   "cell_type": "code",
   "execution_count": 33,
   "metadata": {},
   "outputs": [],
   "source": [
    "# cuando son del mismo largo\n",
    "def oneWaySame(input1,input2):\n",
    "    flag=0\n",
    "    for i in range(len(input2)):\n",
    "        if input1[i]!=input2[i]:\n",
    "            flag+=1\n",
    "    if flag>1:\n",
    "        return False\n",
    "    else:\n",
    "        return True\n",
    "    "
   ]
  },
  {
   "cell_type": "code",
   "execution_count": 34,
   "metadata": {},
   "outputs": [
    {
     "data": {
      "text/plain": [
       "False"
      ]
     },
     "execution_count": 34,
     "metadata": {},
     "output_type": "execute_result"
    }
   ],
   "source": [
    "oneWaySame(input1,input4)"
   ]
  },
  {
   "cell_type": "code",
   "execution_count": 35,
   "metadata": {},
   "outputs": [],
   "source": [
    "# cuando son de diferente tamaño\n",
    "def oneWayDiff(input1,input2):\n",
    "    flag=0\n",
    "    for i in range(len(input2)):\n",
    "        if input1[i+flag]!=input2[i]:\n",
    "            flag+=1\n",
    "    if flag>1:\n",
    "        return False\n",
    "    else:\n",
    "        return True"
   ]
  },
  {
   "cell_type": "code",
   "execution_count": 36,
   "metadata": {},
   "outputs": [
    {
     "data": {
      "text/plain": [
       "True"
      ]
     },
     "execution_count": 36,
     "metadata": {},
     "output_type": "execute_result"
    }
   ],
   "source": [
    "oneWayDiff(input1,input2)"
   ]
  },
  {
   "cell_type": "code",
   "execution_count": 37,
   "metadata": {},
   "outputs": [],
   "source": [
    "def oneWay(string1,string2):\n",
    "    if len(string1) <=(len(string2)-2) or len(string1)>=(len(string2)+2):\n",
    "        return False\n",
    "    elif len(string1)==len(string2):\n",
    "        return oneWaySame(string1,string2)\n",
    "    elif len(string1)>len(string2):\n",
    "        return oneWayDiff(string1,string2)\n",
    "    else:\n",
    "        return oneWayDiff(string2,string1)\n",
    "        "
   ]
  },
  {
   "cell_type": "code",
   "execution_count": 38,
   "metadata": {},
   "outputs": [
    {
     "data": {
      "text/plain": [
       "False"
      ]
     },
     "execution_count": 38,
     "metadata": {},
     "output_type": "execute_result"
    }
   ],
   "source": [
    "oneWay(input1,input4)"
   ]
  },
  {
   "cell_type": "code",
   "execution_count": 39,
   "metadata": {},
   "outputs": [
    {
     "data": {
      "text/plain": [
       "True"
      ]
     },
     "execution_count": 39,
     "metadata": {},
     "output_type": "execute_result"
    }
   ],
   "source": [
    "oneWay(input1,input3)"
   ]
  },
  {
   "cell_type": "markdown",
   "metadata": {},
   "source": [
    "### runtime O(n)"
   ]
  },
  {
   "cell_type": "code",
   "execution_count": null,
   "metadata": {},
   "outputs": [],
   "source": []
  },
  {
   "cell_type": "markdown",
   "metadata": {},
   "source": [
    "# String Compression"
   ]
  },
  {
   "cell_type": "code",
   "execution_count": 40,
   "metadata": {},
   "outputs": [],
   "source": [
    "string1='aabcccccaaa'"
   ]
  },
  {
   "cell_type": "code",
   "execution_count": 41,
   "metadata": {},
   "outputs": [],
   "source": [
    "def compress(string1):\n",
    "    S = len(string1)\n",
    "    result = []\n",
    "\n",
    "    if S < 2:\n",
    "        return string1\n",
    "\n",
    "    c = 1\n",
    "    for i in range(S):\n",
    "\n",
    "        # First pass\n",
    "        if not result:\n",
    "            result.append(string1[i])\n",
    "            continue\n",
    "\n",
    "        if result[-1] == string1[i]:\n",
    "            c += 1\n",
    "        else:\n",
    "            result.append(str(c))\n",
    "            result.append(string1[i])\n",
    "            c = 1\n",
    "\n",
    "        # Last pass\n",
    "        if S-1 == i:\n",
    "            result.append(str(c))\n",
    "\n",
    "        # Short-circuit if compression ends up bigger\n",
    "        if S < len(result):\n",
    "            return string1\n",
    "\n",
    "    return ''.join(result)"
   ]
  },
  {
   "cell_type": "code",
   "execution_count": 42,
   "metadata": {},
   "outputs": [
    {
     "data": {
      "text/plain": [
       "'a2b1c5a3'"
      ]
     },
     "execution_count": 42,
     "metadata": {},
     "output_type": "execute_result"
    }
   ],
   "source": [
    "compress(string1)"
   ]
  },
  {
   "cell_type": "markdown",
   "metadata": {},
   "source": [
    " runtime O(n) peor escenario"
   ]
  },
  {
   "cell_type": "code",
   "execution_count": null,
   "metadata": {},
   "outputs": [],
   "source": []
  },
  {
   "cell_type": "markdown",
   "metadata": {},
   "source": [
    "# rotate a matrix in place"
   ]
  },
  {
   "cell_type": "code",
   "execution_count": 1,
   "metadata": {},
   "outputs": [],
   "source": [
    "import numpy as np"
   ]
  },
  {
   "cell_type": "code",
   "execution_count": 50,
   "metadata": {},
   "outputs": [],
   "source": [
    "A=[[1,2,3],[4,5,6],[7,8,9]]"
   ]
  },
  {
   "cell_type": "code",
   "execution_count": 3,
   "metadata": {},
   "outputs": [
    {
     "data": {
      "text/plain": [
       "3"
      ]
     },
     "execution_count": 3,
     "metadata": {},
     "output_type": "execute_result"
    }
   ],
   "source": [
    "len(A)"
   ]
  },
  {
   "cell_type": "code",
   "execution_count": 6,
   "metadata": {},
   "outputs": [],
   "source": [
    "def rotationInPlace(A):\n",
    "    #encontrar el largo de la matriz\n",
    "    n=len(A) \n",
    "    # recorrer por bloques la matriz\n",
    "    # dividir 4 partes a partir del centro \n",
    "    # encontrar el centro n/2 redondeo al entero proximo ceil\n",
    "    for layer in range(int(np.ceil(n/2))):\n",
    "        # ancho del bloque a modificar\n",
    "        first=layer \n",
    "        last=n-1-layer\n",
    "    \n",
    "        for i in range(first,last):\n",
    "            # para iniciar desde [0,0] quitamos un offset\n",
    "            offset=i-first\n",
    "            #variable temporal guardar el primer elemento del bloque\n",
    "            top=A[first][i]\n",
    "            # manda la izquierda del bloque al primer elemento\n",
    "            #left->top\n",
    "            A[first][i]=A[last-offset][first]\n",
    "        \n",
    "            #bottom->left\n",
    "            # manda el  elemento a la izquierda al fondo\n",
    "            A[last-offset][first]=A[last][last-offset]\n",
    "        \n",
    "            # right-> bottom\n",
    "            # manda elemento de la derecha a fondo\n",
    "            A[last][last-offset]=A[i][last]\n",
    "        \n",
    "            # top->right\n",
    "            # elemento top a la derecha\n",
    "            A[i][last]=top"
   ]
  },
  {
   "cell_type": "code",
   "execution_count": 46,
   "metadata": {},
   "outputs": [],
   "source": [
    "def rotatatev2(matrix):\n",
    "    matrix=matrix[::-1]\n",
    "    n=len(matrix)\n",
    "\n",
    "    \n",
    "    for i in range(n):\n",
    "        for j in range(i):\n",
    "            matrix[i][j],matrix[j][i]=matrix[j][i],matrix[i][j]\n",
    "            \n",
    "    return matrix"
   ]
  },
  {
   "cell_type": "code",
   "execution_count": 51,
   "metadata": {},
   "outputs": [],
   "source": [
    "rotationInPlace(A)"
   ]
  },
  {
   "cell_type": "code",
   "execution_count": 52,
   "metadata": {},
   "outputs": [
    {
     "data": {
      "text/plain": [
       "[[7, 4, 1], [8, 5, 2], [9, 6, 3]]"
      ]
     },
     "execution_count": 52,
     "metadata": {},
     "output_type": "execute_result"
    }
   ],
   "source": [
    "A"
   ]
  },
  {
   "cell_type": "code",
   "execution_count": 53,
   "metadata": {},
   "outputs": [],
   "source": [
    "A=[[1,2,3],[4,5,6],[7,8,9]]"
   ]
  },
  {
   "cell_type": "code",
   "execution_count": 54,
   "metadata": {},
   "outputs": [
    {
     "data": {
      "text/plain": [
       "[[7, 4, 1], [8, 5, 2], [9, 6, 3]]"
      ]
     },
     "execution_count": 54,
     "metadata": {},
     "output_type": "execute_result"
    }
   ],
   "source": [
    "rotatatev2(A)"
   ]
  },
  {
   "cell_type": "code",
   "execution_count": 37,
   "metadata": {},
   "outputs": [
    {
     "data": {
      "text/plain": [
       "[[7, 8, 9], [4, 5, 6], [1, 2, 3]]"
      ]
     },
     "execution_count": 37,
     "metadata": {},
     "output_type": "execute_result"
    }
   ],
   "source": [
    "A[::-1]"
   ]
  },
  {
   "cell_type": "code",
   "execution_count": 31,
   "metadata": {},
   "outputs": [
    {
     "data": {
      "text/plain": [
       "[[9, 8, 7], [6, 5, 4], [3, 2, 1]]"
      ]
     },
     "execution_count": 31,
     "metadata": {},
     "output_type": "execute_result"
    }
   ],
   "source": [
    "A"
   ]
  },
  {
   "cell_type": "markdown",
   "metadata": {},
   "source": [
    "runtime O(n^2)"
   ]
  },
  {
   "cell_type": "markdown",
   "metadata": {},
   "source": [
    "# zero Matrix"
   ]
  },
  {
   "cell_type": "code",
   "execution_count": 55,
   "metadata": {},
   "outputs": [],
   "source": [
    "B=[[1,2,3],[4,5,0],[7,8,9]]"
   ]
  },
  {
   "cell_type": "code",
   "execution_count": 66,
   "metadata": {},
   "outputs": [],
   "source": [
    "C=[[1,2,3],[4,5,0],[7,8,9],[7,8,9]]"
   ]
  },
  {
   "cell_type": "code",
   "execution_count": 56,
   "metadata": {},
   "outputs": [
    {
     "data": {
      "text/plain": [
       "[[1, 2, 3], [4, 5, 0], [7, 8, 9]]"
      ]
     },
     "execution_count": 56,
     "metadata": {},
     "output_type": "execute_result"
    }
   ],
   "source": [
    "B"
   ]
  },
  {
   "cell_type": "code",
   "execution_count": 67,
   "metadata": {},
   "outputs": [
    {
     "data": {
      "text/plain": [
       "[[1, 2, 3], [4, 5, 0], [7, 8, 9], [7, 8, 9]]"
      ]
     },
     "execution_count": 67,
     "metadata": {},
     "output_type": "execute_result"
    }
   ],
   "source": [
    "C"
   ]
  },
  {
   "cell_type": "code",
   "execution_count": 80,
   "metadata": {},
   "outputs": [
    {
     "data": {
      "text/plain": [
       "3"
      ]
     },
     "execution_count": 80,
     "metadata": {},
     "output_type": "execute_result"
    }
   ],
   "source": [
    "len(C[0])"
   ]
  },
  {
   "cell_type": "code",
   "execution_count": 81,
   "metadata": {},
   "outputs": [],
   "source": [
    "def MatrixZero2(matrix):\n",
    "    M=len(matrix[:])\n",
    "    N=len(matrix[0])\n",
    "    \n",
    "    for i in range(M):\n",
    "        for j in range(N):\n",
    "            if matrix[i][j]==0:\n",
    "                row=i\n",
    "                col=j\n",
    "                break\n",
    "    \n",
    "    for l in range(N):\n",
    "        matrix[row][l]=0\n",
    "    for k in range(M):\n",
    "        matrix[k][col]=0\n",
    "    \n",
    "    return matrix"
   ]
  },
  {
   "cell_type": "code",
   "execution_count": 82,
   "metadata": {},
   "outputs": [
    {
     "data": {
      "text/plain": [
       "[[1, 2, 0], [0, 0, 0], [7, 8, 0], [7, 8, 0]]"
      ]
     },
     "execution_count": 82,
     "metadata": {},
     "output_type": "execute_result"
    }
   ],
   "source": [
    "MatrixZero2(C)"
   ]
  },
  {
   "cell_type": "code",
   "execution_count": 182,
   "metadata": {},
   "outputs": [],
   "source": [
    "def MatrixZero(B):\n",
    "    M,N=np.shape(B)\n",
    "    for i in range(M):\n",
    "        for j in range(N):\n",
    "            if B[i][j]==0:\n",
    "                c1=i\n",
    "                c2=j\n",
    "                break\n",
    "\n",
    "    for l in range(N):\n",
    "        B[c1][l]=0\n",
    "    for k in range(M):\n",
    "        B[k][c2]=0\n",
    "\n"
   ]
  },
  {
   "cell_type": "code",
   "execution_count": 183,
   "metadata": {},
   "outputs": [],
   "source": [
    "MatrixZero(B)"
   ]
  },
  {
   "cell_type": "code",
   "execution_count": 184,
   "metadata": {},
   "outputs": [
    {
     "data": {
      "text/plain": [
       "[[1, 2, 0], [0, 0, 0], [7, 8, 0]]"
      ]
     },
     "execution_count": 184,
     "metadata": {},
     "output_type": "execute_result"
    }
   ],
   "source": [
    "B"
   ]
  },
  {
   "cell_type": "code",
   "execution_count": 197,
   "metadata": {},
   "outputs": [],
   "source": [
    "B=[[0,2,3],[4,5,0],[7,8,9]]"
   ]
  },
  {
   "cell_type": "code",
   "execution_count": 198,
   "metadata": {},
   "outputs": [],
   "source": [
    "c1=[]\n",
    "c2=[]\n",
    "M,N=np.shape(B)\n",
    "for i in range(M):\n",
    "    for j in range(N):\n",
    "        if B[i][j]==0:\n",
    "            c1.append(i)\n",
    "            c2.append(j)\n",
    "                \n",
    "\n",
    "#for l in range(N):\n",
    "for row in c1:\n",
    "    for l in range(N):\n",
    "        B[row][l]=0\n",
    "for col in c2:\n",
    "    for k in range(M):\n",
    "        B[k][col]=0\n"
   ]
  },
  {
   "cell_type": "code",
   "execution_count": 199,
   "metadata": {},
   "outputs": [
    {
     "data": {
      "text/plain": [
       "[[0, 0, 0], [0, 0, 0], [0, 8, 0]]"
      ]
     },
     "execution_count": 199,
     "metadata": {},
     "output_type": "execute_result"
    }
   ],
   "source": [
    "B"
   ]
  },
  {
   "cell_type": "markdown",
   "metadata": {},
   "source": [
    "no estoy seguro creo que es O(n) pero podria ser O(n^2)"
   ]
  },
  {
   "cell_type": "code",
   "execution_count": null,
   "metadata": {},
   "outputs": [],
   "source": []
  },
  {
   "cell_type": "markdown",
   "metadata": {},
   "source": [
    "# String Rotation\n"
   ]
  },
  {
   "cell_type": "code",
   "execution_count": 10,
   "metadata": {},
   "outputs": [],
   "source": [
    "original='waterbottle'\n",
    "rotate='erbottlewat'\n",
    "false_rotate='esbottlewat'"
   ]
  },
  {
   "cell_type": "code",
   "execution_count": 2,
   "metadata": {},
   "outputs": [],
   "source": [
    "x=original[:3]"
   ]
  },
  {
   "cell_type": "code",
   "execution_count": 3,
   "metadata": {},
   "outputs": [],
   "source": [
    "y=original[3:]\n"
   ]
  },
  {
   "cell_type": "code",
   "execution_count": 4,
   "metadata": {},
   "outputs": [],
   "source": [
    "def isSubstring(original,substring):\n",
    "    x=original[:3]\n",
    "    y=original[3:]\n",
    "    for i in range(len(y)):\n",
    "        if y[i]!=substring[i]:\n",
    "            return False\n",
    "    return True"
   ]
  },
  {
   "cell_type": "code",
   "execution_count": 5,
   "metadata": {},
   "outputs": [
    {
     "data": {
      "text/plain": [
       "True"
      ]
     },
     "execution_count": 5,
     "metadata": {},
     "output_type": "execute_result"
    }
   ],
   "source": [
    "isSubstring(original,rotate)\n",
    "    "
   ]
  },
  {
   "cell_type": "code",
   "execution_count": 6,
   "metadata": {},
   "outputs": [],
   "source": [
    "s1 = \"barfoo\"\n",
    "s2 = \"foobar\""
   ]
  },
  {
   "cell_type": "code",
   "execution_count": 7,
   "metadata": {},
   "outputs": [
    {
     "data": {
      "text/plain": [
       "True"
      ]
     },
     "execution_count": 7,
     "metadata": {},
     "output_type": "execute_result"
    }
   ],
   "source": [
    "isSubstring(s2,s1)\n"
   ]
  },
  {
   "cell_type": "markdown",
   "metadata": {},
   "source": [
    "run time O(n)"
   ]
  },
  {
   "cell_type": "code",
   "execution_count": 8,
   "metadata": {},
   "outputs": [],
   "source": [
    "def is_rotation(str1, str2):                                                                                                                          \n",
    "    return(len(str1) == len(str2) and str1 in str2*2)"
   ]
  },
  {
   "cell_type": "code",
   "execution_count": 9,
   "metadata": {},
   "outputs": [
    {
     "data": {
      "text/plain": [
       "True"
      ]
     },
     "execution_count": 9,
     "metadata": {},
     "output_type": "execute_result"
    }
   ],
   "source": [
    "is_rotation(original,rotate)"
   ]
  },
  {
   "cell_type": "code",
   "execution_count": 11,
   "metadata": {},
   "outputs": [
    {
     "data": {
      "text/plain": [
       "False"
      ]
     },
     "execution_count": 11,
     "metadata": {},
     "output_type": "execute_result"
    }
   ],
   "source": [
    "is_rotation(original,false_rotate)"
   ]
  },
  {
   "cell_type": "code",
   "execution_count": 12,
   "metadata": {},
   "outputs": [],
   "source": [
    "def is_rotation_v2(string1,string2):\n",
    "    if len(string1)!=len(string2):\n",
    "        return False\n",
    "    for index in range(len(string1)):\n",
    "        if string2.startswith(string1[index:]) and string2.endswith(string1[:index]):\n",
    "            return True\n",
    "    return False"
   ]
  },
  {
   "cell_type": "code",
   "execution_count": 13,
   "metadata": {},
   "outputs": [
    {
     "data": {
      "text/plain": [
       "True"
      ]
     },
     "execution_count": 13,
     "metadata": {},
     "output_type": "execute_result"
    }
   ],
   "source": [
    "is_rotation_v2(original,rotate)"
   ]
  },
  {
   "cell_type": "code",
   "execution_count": 14,
   "metadata": {},
   "outputs": [
    {
     "data": {
      "text/plain": [
       "False"
      ]
     },
     "execution_count": 14,
     "metadata": {},
     "output_type": "execute_result"
    }
   ],
   "source": [
    "is_rotation_v2(original,false_rotate)"
   ]
  },
  {
   "cell_type": "markdown",
   "metadata": {},
   "source": [
    "O(n) en el caso de is_rotation_v2"
   ]
  },
  {
   "cell_type": "markdown",
   "metadata": {},
   "source": [
    "## version estilo python"
   ]
  },
  {
   "cell_type": "code",
   "execution_count": null,
   "metadata": {},
   "outputs": [],
   "source": []
  },
  {
   "cell_type": "code",
   "execution_count": null,
   "metadata": {},
   "outputs": [],
   "source": []
  },
  {
   "cell_type": "code",
   "execution_count": 226,
   "metadata": {},
   "outputs": [],
   "source": [
    "def isSubstring2(s2,s1):\n",
    "    s1=s1+s1\n",
    "    return s2 in s1"
   ]
  },
  {
   "cell_type": "code",
   "execution_count": 235,
   "metadata": {},
   "outputs": [
    {
     "data": {
      "text/plain": [
       "True"
      ]
     },
     "execution_count": 235,
     "metadata": {},
     "output_type": "execute_result"
    }
   ],
   "source": [
    "isSubstring2(original,rotate)"
   ]
  },
  {
   "cell_type": "code",
   "execution_count": 236,
   "metadata": {},
   "outputs": [
    {
     "data": {
      "text/plain": [
       "True"
      ]
     },
     "execution_count": 236,
     "metadata": {},
     "output_type": "execute_result"
    }
   ],
   "source": [
    "isSubstring2(s2,s1)"
   ]
  },
  {
   "cell_type": "code",
   "execution_count": null,
   "metadata": {},
   "outputs": [],
   "source": []
  }
 ],
 "metadata": {
  "kernelspec": {
   "display_name": "Python 3",
   "language": "python",
   "name": "python3"
  },
  "language_info": {
   "codemirror_mode": {
    "name": "ipython",
    "version": 3
   },
   "file_extension": ".py",
   "mimetype": "text/x-python",
   "name": "python",
   "nbconvert_exporter": "python",
   "pygments_lexer": "ipython3",
   "version": "3.6.8"
  }
 },
 "nbformat": 4,
 "nbformat_minor": 2
}
