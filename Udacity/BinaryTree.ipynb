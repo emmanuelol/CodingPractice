{
 "cells": [
  {
   "cell_type": "markdown",
   "metadata": {},
   "source": [
    "# Binary Tree"
   ]
  },
  {
   "cell_type": "code",
   "execution_count": 1,
   "metadata": {},
   "outputs": [],
   "source": [
    "class Node(object):\n",
    "    def __init__(self,value):\n",
    "        self.value=value\n",
    "        self.left=None\n",
    "        self.right=None"
   ]
  },
  {
   "cell_type": "code",
   "execution_count": 3,
   "metadata": {},
   "outputs": [],
   "source": [
    "class BinaryTree(object):\n",
    "    def __init__(self,root):\n",
    "        self.root=Node(root)\n",
    "    \n",
    "    def search(self,find_val):\n",
    "        return self.preorder_search(tree.root,find_val)\n",
    "    \n",
    "    def print_tree(self):\n",
    "        return self.preorder_print(tree.root,\"\")[:-1]\n",
    "    \n",
    "    def preorder_search(self,start,find_val):\n",
    "        if start:\n",
    "            if start.value==find_val:\n",
    "                return True\n",
    "            else:\n",
    "                return self.preorder_search(start.left,find_val) or self.preorder_search(start.right,find_val)\n",
    "        return False\n",
    "    \n",
    "    \n",
    "    def preorder_print(self,start,traversal):\n",
    "        if start:\n",
    "            traversal+=(str(start.value)+\"-\")\n",
    "            \n",
    "            traversal=self.preorder_print(start.left,traversal)\n",
    "            \n",
    "            traversal=self.preorder_print(start.right,traversal)\n",
    "        \n",
    "        return traversal"
   ]
  },
  {
   "cell_type": "code",
   "execution_count": 6,
   "metadata": {},
   "outputs": [],
   "source": [
    "# Set up tree\n",
    "tree = BinaryTree(7)\n",
    "tree.root.left = Node(8)\n",
    "tree.root.right = Node(6)\n",
    "tree.root.left.left = Node(4)\n",
    "tree.root.left.right = Node(5)\n",
    "\n"
   ]
  },
  {
   "cell_type": "code",
   "execution_count": 7,
   "metadata": {},
   "outputs": [
    {
     "name": "stdout",
     "output_type": "stream",
     "text": [
      "True\n",
      "True\n",
      "7-8-4-5-6\n"
     ]
    }
   ],
   "source": [
    "# Test search\n",
    "# Should be True\n",
    "print(tree.search(4))\n",
    "# Should be False\n",
    "print(tree.search(6))\n",
    "\n",
    "# Test print_tree\n",
    "# Should be 1-2-4-5-3\n",
    "print(tree.print_tree())"
   ]
  },
  {
   "cell_type": "code",
   "execution_count": null,
   "metadata": {},
   "outputs": [],
   "source": []
  }
 ],
 "metadata": {
  "kernelspec": {
   "display_name": "Python 3",
   "language": "python",
   "name": "python3"
  },
  "language_info": {
   "codemirror_mode": {
    "name": "ipython",
    "version": 3
   },
   "file_extension": ".py",
   "mimetype": "text/x-python",
   "name": "python",
   "nbconvert_exporter": "python",
   "pygments_lexer": "ipython3",
   "version": "3.6.4rc1"
  }
 },
 "nbformat": 4,
 "nbformat_minor": 2
}
