{
 "cells": [
  {
   "cell_type": "markdown",
   "metadata": {},
   "source": [
    "# declare Node for BT"
   ]
  },
  {
   "cell_type": "code",
   "execution_count": 1,
   "metadata": {},
   "outputs": [],
   "source": [
    "class Node(object):\n",
    "    def __init__(self,value=None,left=None,right=None):\n",
    "        self.value=value\n",
    "        self.left=left\n",
    "        self.right=right"
   ]
  },
  {
   "cell_type": "markdown",
   "metadata": {},
   "source": [
    "## test tree"
   ]
  },
  {
   "cell_type": "code",
   "execution_count": 2,
   "metadata": {},
   "outputs": [],
   "source": [
    "n1=Node(0)\n",
    "n2=Node(1)\n",
    "n3=Node(2)\n",
    "n4=Node(3)\n",
    "n5=Node(4)\n",
    "n6=Node(5)\n",
    "n7=Node(6)"
   ]
  },
  {
   "cell_type": "code",
   "execution_count": 3,
   "metadata": {},
   "outputs": [],
   "source": [
    "# setup children\n",
    "n1.left=n2\n",
    "n1.right=n3\n",
    "\n",
    "n2.left=n4\n",
    "n2.right=n5\n",
    "\n",
    "n5.left=n6\n",
    "n5.right=n7"
   ]
  },
  {
   "cell_type": "code",
   "execution_count": 4,
   "metadata": {},
   "outputs": [
    {
     "name": "stdout",
     "output_type": "stream",
     "text": [
      "0\n",
      "1\n",
      "3\n",
      "4\n",
      "5\n",
      "6\n",
      "2\n"
     ]
    }
   ],
   "source": [
    "# root\n",
    "print(n1.value)\n",
    "# left node 1\n",
    "print(n1.left.value)\n",
    "\n",
    "# children of the node1 left\n",
    "print(n1.left.left.value)\n",
    "print(n1.left.right.value)\n",
    "\n",
    "#children of the node1 right \n",
    "print(n1.left.right.left.value)\n",
    "\n",
    "print(n1.left.right.right.value)\n",
    "#right node 1\n",
    "print(n1.right.value)\n",
    "\n",
    "\n",
    "#print(n1.left.left.value)\n",
    "#print(n1.left.right.value)\n"
   ]
  },
  {
   "cell_type": "code",
   "execution_count": null,
   "metadata": {},
   "outputs": [],
   "source": []
  },
  {
   "cell_type": "code",
   "execution_count": 5,
   "metadata": {},
   "outputs": [],
   "source": [
    "\n",
    "def preOrder(root,nodos):\n",
    "    nodos.append(root.value)\n",
    "    if root and root.left:\n",
    "        preOrder(root.left,nodos)\n",
    "    if root and root.right:\n",
    "        preOrder(root.right,nodos)\n",
    "\n",
    "    return nodos"
   ]
  },
  {
   "cell_type": "code",
   "execution_count": 6,
   "metadata": {},
   "outputs": [
    {
     "data": {
      "text/plain": [
       "[0, 1, 3, 4, 5, 6, 2]"
      ]
     },
     "execution_count": 6,
     "metadata": {},
     "output_type": "execute_result"
    }
   ],
   "source": [
    "nodos=[]\n",
    "\n",
    "preOrder(n1,nodos)"
   ]
  },
  {
   "cell_type": "code",
   "execution_count": 7,
   "metadata": {},
   "outputs": [],
   "source": [
    "\n",
    "def inOrder(root,nodos):\n",
    "    if root and root.left:\n",
    "        preOrder(root.left,nodos)\n",
    "    nodos.append(root.value)\n",
    "\n",
    "    if root and root.right:\n",
    "        preOrder(root.right,nodos)\n",
    "\n",
    "    return nodos"
   ]
  },
  {
   "cell_type": "code",
   "execution_count": 8,
   "metadata": {},
   "outputs": [
    {
     "data": {
      "text/plain": [
       "[1, 3, 4, 5, 6, 0, 2]"
      ]
     },
     "execution_count": 8,
     "metadata": {},
     "output_type": "execute_result"
    }
   ],
   "source": [
    "nodos=[]\n",
    "\n",
    "inOrder(n1,nodos)"
   ]
  },
  {
   "cell_type": "code",
   "execution_count": 9,
   "metadata": {},
   "outputs": [],
   "source": [
    "def postOrder(root,nodos):\n",
    "    if root and root.left:\n",
    "        preOrder(root.left,nodos)\n",
    "\n",
    "    if root and root.right:\n",
    "        preOrder(root.right,nodos)\n",
    "    nodos.append(root.value)\n",
    "\n",
    "    return nodos"
   ]
  },
  {
   "cell_type": "code",
   "execution_count": 10,
   "metadata": {},
   "outputs": [
    {
     "data": {
      "text/plain": [
       "[1, 3, 4, 5, 6, 2, 0]"
      ]
     },
     "execution_count": 10,
     "metadata": {},
     "output_type": "execute_result"
    }
   ],
   "source": [
    "nodos=[]\n",
    "\n",
    "postOrder(n1,nodos)"
   ]
  },
  {
   "cell_type": "code",
   "execution_count": null,
   "metadata": {},
   "outputs": [],
   "source": []
  },
  {
   "cell_type": "markdown",
   "metadata": {},
   "source": [
    "# minimal tree"
   ]
  },
  {
   "cell_type": "code",
   "execution_count": 11,
   "metadata": {},
   "outputs": [],
   "source": [
    " sorted_array = [1, 2, 3, 4, 5, 6, 7, 8, 9]"
   ]
  },
  {
   "cell_type": "code",
   "execution_count": 12,
   "metadata": {},
   "outputs": [],
   "source": [
    "def minimalTree(array):\n",
    "    if len(array)==0:\n",
    "        return None\n",
    "    middle=len(array)//2\n",
    "    left=minimalTree(array[:middle])\n",
    "    right=minimalTree(array[(middle+1):])\n",
    "    \n",
    "    return Node(array[middle],left,right)"
   ]
  },
  {
   "cell_type": "code",
   "execution_count": 13,
   "metadata": {},
   "outputs": [],
   "source": [
    "resultado=minimalTree(sorted_array)"
   ]
  },
  {
   "cell_type": "code",
   "execution_count": 14,
   "metadata": {},
   "outputs": [
    {
     "data": {
      "text/plain": [
       "[3, 2, 1, 4, 5, 8, 7, 6, 9]"
      ]
     },
     "execution_count": 14,
     "metadata": {},
     "output_type": "execute_result"
    }
   ],
   "source": [
    "nodos=[]\n",
    "inOrder(resultado,nodos)"
   ]
  },
  {
   "cell_type": "code",
   "execution_count": 15,
   "metadata": {},
   "outputs": [
    {
     "data": {
      "text/plain": [
       "[5, 3, 2, 1, 4, 8, 7, 6, 9]"
      ]
     },
     "execution_count": 15,
     "metadata": {},
     "output_type": "execute_result"
    }
   ],
   "source": [
    "nodos=[]\n",
    "preOrder(resultado,nodos)"
   ]
  },
  {
   "cell_type": "code",
   "execution_count": 16,
   "metadata": {},
   "outputs": [
    {
     "data": {
      "text/plain": [
       "5"
      ]
     },
     "execution_count": 16,
     "metadata": {},
     "output_type": "execute_result"
    }
   ],
   "source": [
    "resultado.value"
   ]
  },
  {
   "cell_type": "markdown",
   "metadata": {},
   "source": [
    "## solucion recursiva O(N log N)"
   ]
  },
  {
   "cell_type": "markdown",
   "metadata": {},
   "source": [
    "# Lists of depth"
   ]
  },
  {
   "cell_type": "code",
   "execution_count": 17,
   "metadata": {},
   "outputs": [],
   "source": [
    "node_h = Node('H')\n",
    "node_g = Node('G')\n",
    "node_f = Node('F')\n",
    "node_e = Node('E', node_g) #node g left\n",
    "node_d = Node('D', node_h) #node h left\n",
    "node_c = Node('C', None, node_f) # node right\n",
    "node_b = Node('B', node_d, node_e)\n",
    "node_a = Node('A', node_b, node_c)\n",
    "\n",
    "\n",
    "\n",
    "#lists = list_of_depths(node_a)"
   ]
  },
  {
   "cell_type": "code",
   "execution_count": 18,
   "metadata": {},
   "outputs": [],
   "source": [
    "class ListNode(object):\n",
    "    def __init__(self,value=None,next=None):\n",
    "        self.value=value\n",
    "        self.next=next"
   ]
  },
  {
   "cell_type": "code",
   "execution_count": 19,
   "metadata": {},
   "outputs": [],
   "source": [
    "# find the level of node in a tree\n",
    "def height(node):\n",
    "    if node is None:\n",
    "        return 0\n",
    "    else :\n",
    "        # Compute the height of each subtree \n",
    "        lheight = height(node.left)\n",
    "        rheight = height(node.right)\n",
    " \n",
    "        #Use the larger one\n",
    "        if lheight > rheight :\n",
    "            return lheight+1\n",
    "        else:\n",
    "            return rheight+1\n",
    "        "
   ]
  },
  {
   "cell_type": "code",
   "execution_count": 20,
   "metadata": {},
   "outputs": [],
   "source": [
    "#convert a list to a linked list\n",
    "def listToLinkedList(array):\n",
    "    if len(array)==1:\n",
    "        return ListNode(array[0])\n",
    "    else:\n",
    "        return ListNode(array[0],listToLinkedList(array[1:]))"
   ]
  },
  {
   "cell_type": "code",
   "execution_count": 21,
   "metadata": {},
   "outputs": [],
   "source": [
    "# convert a list of lists in a list of linked lists\n",
    "def matriz2LL(array):\n",
    "    result=[]\n",
    "    for i in range(len(array)):\n",
    "        result.append(listToLinkedList(array[i]))\n",
    "    return result"
   ]
  },
  {
   "cell_type": "code",
   "execution_count": 22,
   "metadata": {},
   "outputs": [],
   "source": [
    "# create a list of the nodes in a tree were every list is a level in the tree, then convert this list into a linked list\n",
    "def levelOrder(root):\n",
    "    result = []\n",
    "    if not root:\n",
    "        return result\n",
    "    curr_level = [root]\n",
    "    while curr_level:\n",
    "        level_result = []\n",
    "        next_level = []\n",
    "        for temp in curr_level:\n",
    "            level_result.append(temp.value)\n",
    "            if temp.left:\n",
    "                next_level.append(temp.left)\n",
    "            if temp.right:\n",
    "                next_level.append(temp.right)\n",
    "        result.append(level_result)\n",
    "        curr_level = next_level\n",
    "    return matriz2LL(result)"
   ]
  },
  {
   "cell_type": "markdown",
   "metadata": {},
   "source": [
    "def levelOrder(root):\n",
    "    result = []\n",
    "    if not root:\n",
    "        return result\n",
    "    curr_level = [root]\n",
    "    while curr_level:\n",
    "        level_result = []\n",
    "        next_level = []\n",
    "        for temp in curr_level:\n",
    "            level_result.append(temp.value)\n",
    "            if temp.left:\n",
    "                next_level.append(temp.left)\n",
    "            if temp.right:\n",
    "                next_level.append(temp.right)\n",
    "        result.append(level_result)\n",
    "        curr_level = next_level\n",
    "    return result"
   ]
  },
  {
   "cell_type": "markdown",
   "metadata": {},
   "source": [
    "lista=levelOrder(node_a)\n",
    "lista"
   ]
  },
  {
   "cell_type": "code",
   "execution_count": 23,
   "metadata": {},
   "outputs": [],
   "source": [
    "p=levelOrder(node_a)"
   ]
  },
  {
   "cell_type": "code",
   "execution_count": 24,
   "metadata": {},
   "outputs": [
    {
     "data": {
      "text/plain": [
       "'C'"
      ]
     },
     "execution_count": 24,
     "metadata": {},
     "output_type": "execute_result"
    }
   ],
   "source": [
    "p[1].next.value"
   ]
  },
  {
   "cell_type": "markdown",
   "metadata": {},
   "source": [
    "in time I'm not sure O(n) but in memory is O(n) at least"
   ]
  },
  {
   "cell_type": "markdown",
   "metadata": {},
   "source": [
    "### Bonus expression Tree"
   ]
  },
  {
   "cell_type": "code",
   "execution_count": 119,
   "metadata": {},
   "outputs": [],
   "source": [
    "node7=Node(9)\n",
    "node6=Node(5)\n",
    "node5=Node(2)\n",
    "node4=Node('+',node6,node7)\n",
    "node3=Node('*',node4,node5)\n",
    "node2=Node(3)\n",
    "node1=Node('+',node2,node3)\n",
    "\n"
   ]
  },
  {
   "cell_type": "code",
   "execution_count": 120,
   "metadata": {},
   "outputs": [],
   "source": [
    "def inOrderRL(root,array):\n",
    "    if root and root.right:\n",
    "        inOrderRL(root.right,array)\n",
    "    array.append(root.value)\n",
    "    if root and root.left:\n",
    "        inOrderRL(root.left,array)\n",
    "    return array"
   ]
  },
  {
   "cell_type": "code",
   "execution_count": 121,
   "metadata": {},
   "outputs": [],
   "source": [
    "def preOrderRL(root,array):\n",
    "    array.append(root.value)\n",
    "\n",
    "    if root and root.right:\n",
    "        inOrderRL(root.right,array)\n",
    "    if root and root.left:\n",
    "        inOrderRL(root.left,array)\n",
    "    return array"
   ]
  },
  {
   "cell_type": "code",
   "execution_count": 122,
   "metadata": {},
   "outputs": [],
   "source": [
    "def postOrderRL(root,array):\n",
    "\n",
    "    if root and root.right:\n",
    "        inOrderRL(root.right,array)\n",
    "    if root and root.left:\n",
    "        inOrderRL(root.left,array)\n",
    "    array.append(root.value)\n",
    "\n",
    "    return array"
   ]
  },
  {
   "cell_type": "code",
   "execution_count": 123,
   "metadata": {},
   "outputs": [
    {
     "data": {
      "text/plain": [
       "[2, '*', 9, '+', 5, '+', 3]"
      ]
     },
     "execution_count": 123,
     "metadata": {},
     "output_type": "execute_result"
    }
   ],
   "source": [
    "nodos=[]\n",
    "inOrderRL(node1,nodos)"
   ]
  },
  {
   "cell_type": "code",
   "execution_count": 124,
   "metadata": {},
   "outputs": [
    {
     "data": {
      "text/plain": [
       "[3, '+', '*', '+', 5, 9, 2]"
      ]
     },
     "execution_count": 124,
     "metadata": {},
     "output_type": "execute_result"
    }
   ],
   "source": [
    "nodos=[]\n",
    "inOrder(node1,nodos)"
   ]
  },
  {
   "cell_type": "code",
   "execution_count": 125,
   "metadata": {},
   "outputs": [
    {
     "data": {
      "text/plain": [
       "['+', 3, '*', '+', 5, 9, 2]"
      ]
     },
     "execution_count": 125,
     "metadata": {},
     "output_type": "execute_result"
    }
   ],
   "source": [
    "nodos=[]\n",
    "preOrder(node1,nodos)"
   ]
  },
  {
   "cell_type": "code",
   "execution_count": 126,
   "metadata": {},
   "outputs": [
    {
     "data": {
      "text/plain": [
       "['+', 2, '*', 9, '+', 5, 3]"
      ]
     },
     "execution_count": 126,
     "metadata": {},
     "output_type": "execute_result"
    }
   ],
   "source": [
    "nodos=[]\n",
    "preOrderRL(node1,nodos)"
   ]
  },
  {
   "cell_type": "code",
   "execution_count": 127,
   "metadata": {},
   "outputs": [
    {
     "data": {
      "text/plain": [
       "[3, '*', '+', 5, 9, 2, '+']"
      ]
     },
     "execution_count": 127,
     "metadata": {},
     "output_type": "execute_result"
    }
   ],
   "source": [
    "nodos=[]\n",
    "postOrder(node1,nodos)"
   ]
  },
  {
   "cell_type": "code",
   "execution_count": 128,
   "metadata": {},
   "outputs": [
    {
     "data": {
      "text/plain": [
       "[2, '*', 9, '+', 5, 3, '+']"
      ]
     },
     "execution_count": 128,
     "metadata": {},
     "output_type": "execute_result"
    }
   ],
   "source": [
    "nodos=[]\n",
    "postOrderRL(node1,nodos)"
   ]
  },
  {
   "cell_type": "code",
   "execution_count": 129,
   "metadata": {},
   "outputs": [],
   "source": [
    "def expressionArray(root):\n",
    "    nodos=[]\n",
    "    nodos=inOrderRL(root,nodos)\n",
    "    \n",
    "    for i in range(len(nodos)):\n",
    "        if nodos[i]==\"+\":\n",
    "            temp=nodos[i-1]+nodos[i+1]\n",
    "            nodos[i+1]=temp\n",
    "        elif nodos[i]==\"*\":\n",
    "            temp=nodos[i-1]*nodos[i+1]\n",
    "            nodos[i+1]=temp\n",
    "    return nodos[-1]"
   ]
  },
  {
   "cell_type": "code",
   "execution_count": 130,
   "metadata": {},
   "outputs": [
    {
     "data": {
      "text/plain": [
       "26"
      ]
     },
     "execution_count": 130,
     "metadata": {},
     "output_type": "execute_result"
    }
   ],
   "source": [
    "expressionArray(node1)"
   ]
  },
  {
   "cell_type": "code",
   "execution_count": 131,
   "metadata": {},
   "outputs": [],
   "source": [
    "nodos=[]\n",
    "operacion=inOrder(node1,nodos)"
   ]
  },
  {
   "cell_type": "code",
   "execution_count": 132,
   "metadata": {},
   "outputs": [
    {
     "name": "stdout",
     "output_type": "stream",
     "text": [
      "3\n",
      "+\n",
      "*\n",
      "+\n",
      "5\n",
      "9\n",
      "2\n"
     ]
    }
   ],
   "source": [
    "for j in operacion:\n",
    "    print(j)"
   ]
  },
  {
   "cell_type": "code",
   "execution_count": 148,
   "metadata": {},
   "outputs": [],
   "source": [
    "def evaluateExpressionTree(root):\n",
    " \n",
    "    # empty tree\n",
    "    if root is None:\n",
    "        return 0\n",
    " \n",
    "    # leaf node si solo es es un simple nodo\n",
    "    if root.left is None and root.right is None:\n",
    "        return int(root.value)\n",
    " \n",
    "    # recorrer el arbol post order\n",
    "    # evaluate left tree\n",
    "    print('izquierda',root.value)\n",
    "    left_sum = evaluateExpressionTree(root.left)\n",
    "    print('left',left_sum)\n",
    "    # evaluate right tree\n",
    "    print('derecha',root.value)\n",
    "    right_sum = evaluateExpressionTree(root.right)\n",
    "    print('right',right_sum)\n",
    "    # check which operation to apply\n",
    "    if root.value == '+':\n",
    "        return left_sum + right_sum\n",
    "     \n",
    "    elif root.value == '-':\n",
    "        return left_sum - right_sum\n",
    "     \n",
    "    elif root.value == '*':\n",
    "        return left_sum * right_sum\n",
    "     \n",
    "    else:\n",
    "        return left_sum / right_sum"
   ]
  },
  {
   "cell_type": "code",
   "execution_count": 149,
   "metadata": {},
   "outputs": [
    {
     "name": "stdout",
     "output_type": "stream",
     "text": [
      "izquierda +\n",
      "left 3\n",
      "derecha +\n",
      "izquierda *\n",
      "izquierda +\n",
      "left 5\n",
      "derecha +\n",
      "right 9\n",
      "left 14\n",
      "derecha *\n",
      "right 2\n",
      "right 28\n"
     ]
    },
    {
     "data": {
      "text/plain": [
       "31"
      ]
     },
     "execution_count": 149,
     "metadata": {},
     "output_type": "execute_result"
    }
   ],
   "source": [
    "evaluateExpressionTree(node1)"
   ]
  },
  {
   "cell_type": "markdown",
   "metadata": {},
   "source": [
    "\n",
    "la version correcta es O(n)"
   ]
  },
  {
   "cell_type": "markdown",
   "metadata": {},
   "source": [
    "# Check balanced\n"
   ]
  },
  {
   "cell_type": "code",
   "execution_count": 201,
   "metadata": {},
   "outputs": [],
   "source": [
    "def diffheight(node):\n",
    "    if node is None:\n",
    "        return 0\n",
    "    else :\n",
    "        # Compute the height of each subtree \n",
    "        lheight = height(node.left)\n",
    "        rheight = height(node.right)\n",
    " \n",
    "       # medir las alturas de cada rama y restarlas\n",
    "        temp=abs(lheight - rheight)\n",
    "        print(temp)\n",
    "        if temp<=1 :\n",
    "            return True\n",
    "       \n",
    "        else:\n",
    "            return False"
   ]
  },
  {
   "cell_type": "code",
   "execution_count": 202,
   "metadata": {},
   "outputs": [
    {
     "name": "stdout",
     "output_type": "stream",
     "text": [
      "2\n"
     ]
    },
    {
     "data": {
      "text/plain": [
       "False"
      ]
     },
     "execution_count": 202,
     "metadata": {},
     "output_type": "execute_result"
    }
   ],
   "source": [
    "diffheight(node1)"
   ]
  },
  {
   "cell_type": "code",
   "execution_count": null,
   "metadata": {},
   "outputs": [],
   "source": []
  },
  {
   "cell_type": "code",
   "execution_count": 203,
   "metadata": {},
   "outputs": [],
   "source": [
    "no5=Node('E')\n",
    "no4=Node('D',no5)\n",
    "no3=Node('C',no4)\n",
    "no2=Node('B')\n",
    "no1=Node('A',no2,no3)"
   ]
  },
  {
   "cell_type": "code",
   "execution_count": 204,
   "metadata": {},
   "outputs": [
    {
     "name": "stdout",
     "output_type": "stream",
     "text": [
      "2\n"
     ]
    },
    {
     "data": {
      "text/plain": [
       "False"
      ]
     },
     "execution_count": 204,
     "metadata": {},
     "output_type": "execute_result"
    }
   ],
   "source": [
    "diffheight(no1)"
   ]
  },
  {
   "cell_type": "code",
   "execution_count": 205,
   "metadata": {},
   "outputs": [],
   "source": [
    "\n",
    "no4=Node('D',)\n",
    "no3=Node('C',no4)\n",
    "no2=Node('B')\n",
    "no1=Node('A',no2,no3)"
   ]
  },
  {
   "cell_type": "code",
   "execution_count": 206,
   "metadata": {},
   "outputs": [
    {
     "name": "stdout",
     "output_type": "stream",
     "text": [
      "1\n"
     ]
    },
    {
     "data": {
      "text/plain": [
       "True"
      ]
     },
     "execution_count": 206,
     "metadata": {},
     "output_type": "execute_result"
    }
   ],
   "source": [
    "diffheight(no1)"
   ]
  },
  {
   "cell_type": "markdown",
   "metadata": {},
   "source": [
    "run time O(n) memoria O(height)"
   ]
  },
  {
   "cell_type": "markdown",
   "metadata": {},
   "source": [
    "# Validate BST"
   ]
  },
  {
   "cell_type": "markdown",
   "metadata": {},
   "source": [
    "## solucion 1"
   ]
  },
  {
   "cell_type": "code",
   "execution_count": 279,
   "metadata": {},
   "outputs": [],
   "source": [
    "n1=Node(3)\n",
    "n2=Node(7)\n",
    "n3=Node(5,n1,n2)\n",
    "n4=Node(17)\n",
    "n5=Node(15,None,n4)\n",
    "n6=Node(10,n3,n5)\n",
    "n7=Node(30)\n",
    "n8=Node(20,n6,n7)"
   ]
  },
  {
   "cell_type": "code",
   "execution_count": 280,
   "metadata": {},
   "outputs": [],
   "source": [
    "# recorre in order el arbol, compara el nodo anterior con el actual, recordando que va recorriendo in order,\n",
    "def checkBST1(root,last_printed=0):\n",
    "    if root is None:\n",
    "        return True\n",
    "    \n",
    "    if not(checkBST1(root.left,last_printed)):\n",
    "        return False\n",
    "    if last_printed!=None and root.value<=last_printed:\n",
    "        return False\n",
    "    last_printed=root.value\n",
    "    \n",
    "    if not(checkBST1(root.right,last_printed)):\n",
    "        return False\n",
    "    \n",
    "    return True"
   ]
  },
  {
   "cell_type": "code",
   "execution_count": 281,
   "metadata": {},
   "outputs": [
    {
     "data": {
      "text/plain": [
       "True"
      ]
     },
     "execution_count": 281,
     "metadata": {},
     "output_type": "execute_result"
    }
   ],
   "source": [
    "\n",
    "\n",
    "checkBST1(n8,last_printed)"
   ]
  },
  {
   "cell_type": "code",
   "execution_count": null,
   "metadata": {},
   "outputs": [],
   "source": []
  },
  {
   "cell_type": "code",
   "execution_count": 282,
   "metadata": {},
   "outputs": [],
   "source": [
    "def checkBST2(root,minimo,maximo):\n",
    "    if root is None:\n",
    "        return True\n",
    "    \n",
    "    if (minimo is not None and root.value<=minimo) or (maximo is not None and root.value>maximo):\n",
    "        return False\n",
    "    \n",
    "    if not(checkBST2(root.left,min,root.value)) or not(checkBST2(root.right,root.value,max)):\n",
    "        return False\n",
    "    \n",
    "    return True"
   ]
  },
  {
   "cell_type": "code",
   "execution_count": 285,
   "metadata": {},
   "outputs": [
    {
     "data": {
      "text/plain": [
       "False"
      ]
     },
     "execution_count": 285,
     "metadata": {},
     "output_type": "execute_result"
    }
   ],
   "source": [
    "checkBST2(n8,0,0)"
   ]
  },
  {
   "cell_type": "code",
   "execution_count": null,
   "metadata": {},
   "outputs": [],
   "source": []
  }
 ],
 "metadata": {
  "kernelspec": {
   "display_name": "Python 3",
   "language": "python",
   "name": "python3"
  },
  "language_info": {
   "codemirror_mode": {
    "name": "ipython",
    "version": 3
   },
   "file_extension": ".py",
   "mimetype": "text/x-python",
   "name": "python",
   "nbconvert_exporter": "python",
   "pygments_lexer": "ipython3",
   "version": "3.6.4rc1"
  }
 },
 "nbformat": 4,
 "nbformat_minor": 2
}
