{
 "cells": [
  {
   "cell_type": "markdown",
   "metadata": {},
   "source": [
    "# two strings"
   ]
  },
  {
   "cell_type": "code",
   "execution_count": 1,
   "metadata": {},
   "outputs": [],
   "source": [
    "s1='hello'\n",
    "s2='world'"
   ]
  },
  {
   "cell_type": "code",
   "execution_count": 2,
   "metadata": {},
   "outputs": [],
   "source": [
    "def mapeo(string_input):\n",
    "    mapa={}\n",
    "    for i in string_input:\n",
    "        if i not in mapa:\n",
    "            mapa[i]=1\n",
    "        else:\n",
    "            mapa[i]+=1\n",
    "    return mapa"
   ]
  },
  {
   "cell_type": "code",
   "execution_count": 4,
   "metadata": {},
   "outputs": [],
   "source": [
    "mapa1=mapeo(s1)"
   ]
  },
  {
   "cell_type": "code",
   "execution_count": 6,
   "metadata": {},
   "outputs": [],
   "source": [
    "mapa2=mapeo(s2)"
   ]
  },
  {
   "cell_type": "code",
   "execution_count": 7,
   "metadata": {},
   "outputs": [
    {
     "data": {
      "text/plain": [
       "{'h': 1, 'e': 1, 'l': 2, 'o': 1}"
      ]
     },
     "execution_count": 7,
     "metadata": {},
     "output_type": "execute_result"
    }
   ],
   "source": [
    "mapa1"
   ]
  },
  {
   "cell_type": "code",
   "execution_count": 8,
   "metadata": {},
   "outputs": [
    {
     "data": {
      "text/plain": [
       "{'w': 1, 'o': 1, 'r': 1, 'l': 1, 'd': 1}"
      ]
     },
     "execution_count": 8,
     "metadata": {},
     "output_type": "execute_result"
    }
   ],
   "source": [
    "mapa2"
   ]
  },
  {
   "cell_type": "code",
   "execution_count": 25,
   "metadata": {},
   "outputs": [],
   "source": [
    "def twoStrings(s1, s2):\n",
    "    mapa1=mapeo(s1)\n",
    "    mapa2=mapeo(s2)\n",
    "    if bool(mapa1.keys() & mapa2.keys()) is True:\n",
    "        return 'YES'\n",
    "    else:\n",
    "        return 'NO'"
   ]
  },
  {
   "cell_type": "code",
   "execution_count": 26,
   "metadata": {},
   "outputs": [
    {
     "data": {
      "text/plain": [
       "'YES'"
      ]
     },
     "execution_count": 26,
     "metadata": {},
     "output_type": "execute_result"
    }
   ],
   "source": [
    "twoStrings(s1,s2)"
   ]
  },
  {
   "cell_type": "code",
   "execution_count": null,
   "metadata": {},
   "outputs": [],
   "source": []
  },
  {
   "cell_type": "markdown",
   "metadata": {},
   "source": [
    "# Sherlock Anagram"
   ]
  },
  {
   "cell_type": "code",
   "execution_count": 30,
   "metadata": {},
   "outputs": [],
   "source": [
    "s1='abba'\n",
    "s2='abcd'\n",
    "s3='ifailuhkqq'\n",
    "s4='kkkk'\n",
    "s5='cdcd'"
   ]
  },
  {
   "cell_type": "code",
   "execution_count": 34,
   "metadata": {},
   "outputs": [
    {
     "name": "stdout",
     "output_type": "stream",
     "text": [
      "i: 1\n",
      "j: 0\n",
      "['a']\n",
      "j: 1\n",
      "['b']\n",
      "j: 2\n",
      "['b']\n",
      "j: 3\n",
      "['a']\n",
      "i: 2\n",
      "j: 0\n",
      "['a', 'b']\n",
      "j: 1\n",
      "['b', 'b']\n",
      "j: 2\n",
      "['a', 'b']\n",
      "i: 3\n",
      "j: 0\n",
      "['a', 'b', 'b']\n",
      "j: 1\n",
      "['a', 'b', 'b']\n"
     ]
    }
   ],
   "source": [
    "#anagram_dict = {}\n",
    "#count = 0\n",
    "for i in range(1, len(s1)):\n",
    "    print('i: '+ str(i))\n",
    "    for j in range(len(s1)-i+1):\n",
    "        print('j: '+ str(j))\n",
    "        current_sorted = str(sorted(s[j:j+i]))\n",
    "        print(current_sorted)"
   ]
  },
  {
   "cell_type": "code",
   "execution_count": 35,
   "metadata": {},
   "outputs": [],
   "source": [
    "def sherlockAndAnagrams(s):\n",
    "    anagram_dict = {}\n",
    "    count = 0\n",
    "    for i in range(1, len(s)):\n",
    "        for j in range(len(s)-i+1):\n",
    "            current_sorted = str(sorted(s[j:j+i]))\n",
    "            if (current_sorted not in anagram_dict):\n",
    "                anagram_dict[current_sorted] = 1\n",
    "            else:\n",
    "                count += anagram_dict[current_sorted]\n",
    "                anagram_dict[current_sorted] += 1\n",
    "    return count"
   ]
  },
  {
   "cell_type": "code",
   "execution_count": 36,
   "metadata": {},
   "outputs": [
    {
     "data": {
      "text/plain": [
       "5"
      ]
     },
     "execution_count": 36,
     "metadata": {},
     "output_type": "execute_result"
    }
   ],
   "source": [
    "sherlockAndAnagrams(s5)"
   ]
  },
  {
   "cell_type": "code",
   "execution_count": null,
   "metadata": {},
   "outputs": [],
   "source": []
  }
 ],
 "metadata": {
  "kernelspec": {
   "display_name": "Python 3",
   "language": "python",
   "name": "python3"
  },
  "language_info": {
   "codemirror_mode": {
    "name": "ipython",
    "version": 3
   },
   "file_extension": ".py",
   "mimetype": "text/x-python",
   "name": "python",
   "nbconvert_exporter": "python",
   "pygments_lexer": "ipython3",
   "version": "3.6.8"
  }
 },
 "nbformat": 4,
 "nbformat_minor": 2
}
