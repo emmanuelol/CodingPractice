{
 "cells": [
  {
   "cell_type": "markdown",
   "metadata": {},
   "source": [
    "# Sort"
   ]
  },
  {
   "cell_type": "markdown",
   "metadata": {},
   "source": [
    "# Bubble sort"
   ]
  },
  {
   "cell_type": "code",
   "execution_count": 4,
   "metadata": {},
   "outputs": [],
   "source": [
    "def bubblesort(array_given):\n",
    "    ## recorrer en pares el arreglo\n",
    "    for  passnum in range(len(array_given)-1,0,-1):\n",
    "        \n",
    "        #comparar cada par y acomodar\n",
    "        for i in range(passnum):\n",
    "            if array_given[i]>array_given[i+1]:\n",
    "                temp=array_given[i]\n",
    "                array_given[i]=array_given[i+1]\n",
    "                array_given[i+1]=temp\n",
    "                \n",
    "            \n",
    "            "
   ]
  },
  {
   "cell_type": "markdown",
   "metadata": {},
   "source": [
    "# Merged Sort"
   ]
  },
  {
   "cell_type": "code",
   "execution_count": 29,
   "metadata": {},
   "outputs": [],
   "source": [
    "def mergesort(array):\n",
    "    if len(array)>1:\n",
    "        mid=len(array)//2\n",
    "        leftHalf=array[:mid]\n",
    "        rightHalf=array[mid:]\n",
    "        \n",
    "        # continuar dividiendo\n",
    "        mergesort(leftHalf)\n",
    "        mergesort(rightHalf)\n",
    "        \n",
    "        # inicializar contadores\n",
    "        i=0\n",
    "        j=0\n",
    "        k=0\n",
    "        \n",
    "        \n",
    "        # comparaciones y ordenamiento\n",
    "        \n",
    "        while i<len(leftHalf) and j<len(rightHalf):\n",
    "            if leftHalf[i]<rightHalf[i]:\n",
    "                array[k]=leftHalf[i]\n",
    "                i+=1\n",
    "            else:\n",
    "                array[k]=rightHalf[j]\n",
    "                j+=1\n",
    "            k+=1\n",
    "        while i<len(leftHalf):\n",
    "            array[k]=leftHalf[i]\n",
    "            i+=1\n",
    "            k+=1\n",
    "            \n",
    "        while j<len(rightHalf):\n",
    "            array[k]=rightHalf[j]\n",
    "            j+=1\n",
    "            k+=1\n",
    "            "
   ]
  },
  {
   "cell_type": "markdown",
   "metadata": {},
   "source": [
    "# Quick Sort"
   ]
  },
  {
   "cell_type": "code",
   "execution_count": 42,
   "metadata": {},
   "outputs": [],
   "source": [
    "def quicksort(array):\n",
    "    quickSortHelper(array,0,len(array)-1)\n",
    "\n",
    "    \n",
    "\n"
   ]
  },
  {
   "cell_type": "code",
   "execution_count": 43,
   "metadata": {},
   "outputs": [],
   "source": [
    "def quickSortHelper(array,first,last):\n",
    "    if first<last:\n",
    "        splitpoint=partition(array,first,last)\n",
    "        quickSortHelper(array,first,splitpoint-1)\n",
    "        quickSortHelper(array,splitpoint+1,last)\n",
    "        \n"
   ]
  },
  {
   "cell_type": "code",
   "execution_count": 44,
   "metadata": {},
   "outputs": [],
   "source": [
    "def partition(array,first,last):\n",
    "    pivotvalue=array[first]\n",
    "    leftmark=first+1\n",
    "    rightmark=last\n",
    "    done=False\n",
    "    \n",
    "    while not done:\n",
    "        while leftmark<=rightmark and array[leftmark]<=pivotvalue:\n",
    "            leftmark+=1\n",
    "        while array[rightmark]>=pivotvalue and rightmark>=leftmark:\n",
    "            rightmark-=1\n",
    "        if rightmark<leftmark:\n",
    "            done=True\n",
    "        else:\n",
    "            temp = array[leftmark]\n",
    "            array[leftmark] = array[rightmark]\n",
    "            array[rightmark] = temp\n",
    "\n",
    "    temp = array[first]\n",
    "    array[first] = array[rightmark]\n",
    "    array[rightmark] = temp\n",
    "\n",
    "    return rightmark\n",
    "            "
   ]
  },
  {
   "cell_type": "markdown",
   "metadata": {},
   "source": [
    "# test"
   ]
  },
  {
   "cell_type": "code",
   "execution_count": 45,
   "metadata": {},
   "outputs": [
    {
     "name": "stdout",
     "output_type": "stream",
     "text": [
      "[1, 3, 4, 6, 9, 14, 20, 21, 21, 25]\n"
     ]
    }
   ],
   "source": [
    "test = [21, 4, 1, 3, 9, 20, 25, 6, 21, 14]\n",
    "bubblesort(test)\n",
    "print(test)"
   ]
  },
  {
   "cell_type": "code",
   "execution_count": 46,
   "metadata": {},
   "outputs": [
    {
     "name": "stdout",
     "output_type": "stream",
     "text": [
      "[1, 3, 9, 4, 21, 6, 14, 21, 20, 25]\n"
     ]
    }
   ],
   "source": [
    "test = [21, 4, 1, 3, 9, 20, 25, 6, 21, 14]\n",
    "mergesort(test)\n",
    "print(test)"
   ]
  },
  {
   "cell_type": "code",
   "execution_count": 47,
   "metadata": {},
   "outputs": [
    {
     "name": "stdout",
     "output_type": "stream",
     "text": [
      "[1, 3, 4, 6, 9, 14, 20, 21, 21, 25]\n"
     ]
    }
   ],
   "source": [
    "test = [21, 4, 1, 3, 9, 20, 25, 6, 21, 14]\n",
    "quicksort(test)\n",
    "print(test)"
   ]
  },
  {
   "cell_type": "code",
   "execution_count": null,
   "metadata": {},
   "outputs": [],
   "source": []
  },
  {
   "cell_type": "code",
   "execution_count": null,
   "metadata": {},
   "outputs": [],
   "source": []
  }
 ],
 "metadata": {
  "kernelspec": {
   "display_name": "Python 3",
   "language": "python",
   "name": "python3"
  },
  "language_info": {
   "codemirror_mode": {
    "name": "ipython",
    "version": 3
   },
   "file_extension": ".py",
   "mimetype": "text/x-python",
   "name": "python",
   "nbconvert_exporter": "python",
   "pygments_lexer": "ipython3",
   "version": "3.6.4rc1"
  }
 },
 "nbformat": 4,
 "nbformat_minor": 2
}
