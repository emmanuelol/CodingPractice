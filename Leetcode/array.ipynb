{
 "cells": [
  {
   "cell_type": "code",
   "execution_count": 1,
   "metadata": {},
   "outputs": [],
   "source": [
    "array=[1,0,1,1,0,1]"
   ]
  },
  {
   "cell_type": "code",
   "execution_count": 2,
   "metadata": {},
   "outputs": [],
   "source": [
    "def findMaxConsecutiveOnes(nums) :\n",
    "    if nums is None:\n",
    "        return 0\n",
    "    result=0\n",
    "    count=0\n",
    "    for item in nums:\n",
    "        if item==1:\n",
    "            count+=1\n",
    "        else:\n",
    "            count=0\n",
    "        result=max(result,count)\n",
    "    return result"
   ]
  },
  {
   "cell_type": "code",
   "execution_count": null,
   "metadata": {},
   "outputs": [],
   "source": []
  },
  {
   "cell_type": "code",
   "execution_count": 3,
   "metadata": {},
   "outputs": [
    {
     "data": {
      "text/plain": [
       "2"
      ]
     },
     "execution_count": 3,
     "metadata": {},
     "output_type": "execute_result"
    }
   ],
   "source": [
    "findMaxConsecutiveOnes(array)"
   ]
  },
  {
   "cell_type": "code",
   "execution_count": 4,
   "metadata": {},
   "outputs": [],
   "source": [
    "def findMaxConsecutiveOnesII(nums):\n",
    "    left = 0\n",
    "    K=1\n",
    "    for right in range(len(nums)):\n",
    "        # If we included a zero in the window we reduce the value of K.\n",
    "        # Since K is the maximum zeros allowed in a window.\n",
    "        K -= 1 - nums[right]\n",
    "        # A negative K denotes we have consumed all allowed flips and window has\n",
    "        # more than allowed zeros, thus increment left pointer by 1 to keep the window size same.\n",
    "        if K < 0:\n",
    "            # If the left element to be thrown out is zero we increase K.\n",
    "            K += 1 - nums[left]\n",
    "            left += 1\n",
    "    return right - left + 1"
   ]
  },
  {
   "cell_type": "code",
   "execution_count": 5,
   "metadata": {},
   "outputs": [],
   "source": [
    "def findNumbers(nums):\n",
    "    count=0\n",
    "    for item in nums:\n",
    "        digits=[int(x) for x in str(item)]\n",
    "        if len(digits)%2==0:\n",
    "            count+=1\n",
    "    return count"
   ]
  },
  {
   "cell_type": "code",
   "execution_count": null,
   "metadata": {},
   "outputs": [],
   "source": []
  },
  {
   "cell_type": "code",
   "execution_count": 6,
   "metadata": {},
   "outputs": [],
   "source": [
    "A=[-4,-1,0,3,10]"
   ]
  },
  {
   "cell_type": "code",
   "execution_count": 7,
   "metadata": {},
   "outputs": [],
   "source": [
    "def sortedSquares(A):\n",
    "    if A is None:\n",
    "        return \n",
    "    for i in range(len(A)):\n",
    "        tmp=A[i]\n",
    "        A[i]=tmp*tmp\n",
    "    return quick_sort(A,0,len(A)-1)\n",
    "        \n",
    "    \n",
    "    \n",
    "def partition(array,low_index,high_index):\n",
    "    pivot=array[high_index]\n",
    "    current_index=low_index-1\n",
    "    for i in range(low_index, high_index):\n",
    "        if array[i]<=pivot:\n",
    "            current_index+=1\n",
    "            array[current_index],array[i]=array[i],array[current_index]\n",
    "    array[current_index+1],array[high_index]=array[high_index],array[current_index+1]\n",
    "    return current_index+1\n",
    "    \n",
    "def quick_sort(array,low_index,high_index):\n",
    "    if low_index<high_index:\n",
    "        partition_index=partition(array,low_index,high_index)\n",
    "        quick_sort(array,low_index,partition_index-1)\n",
    "        quick_sort(array,partition_index+1,high_index)"
   ]
  },
  {
   "cell_type": "code",
   "execution_count": 8,
   "metadata": {},
   "outputs": [],
   "source": [
    "sortedSquares(A)"
   ]
  },
  {
   "cell_type": "code",
   "execution_count": 9,
   "metadata": {},
   "outputs": [
    {
     "data": {
      "text/plain": [
       "[0, 1, 9, 16, 100]"
      ]
     },
     "execution_count": 9,
     "metadata": {},
     "output_type": "execute_result"
    }
   ],
   "source": [
    "A"
   ]
  },
  {
   "cell_type": "code",
   "execution_count": 10,
   "metadata": {},
   "outputs": [],
   "source": [
    "# O(N) time and space\n",
    "def sortedSquaresV2(A):\n",
    "    N = len(A)\n",
    "    # i, j: negative, positive parts\n",
    "    j = 0\n",
    "    while j < N and A[j] < 0:\n",
    "        j += 1\n",
    "    i = j - 1\n",
    "\n",
    "    ans = []\n",
    "    while 0 <= i and j < N:\n",
    "        if A[i]**2 < A[j]**2:\n",
    "            ans.append(A[i]**2)\n",
    "            i -= 1\n",
    "        else:\n",
    "            ans.append(A[j]**2)\n",
    "            j += 1\n",
    "\n",
    "    while i >= 0:\n",
    "        ans.append(A[i]**2)\n",
    "        i -= 1\n",
    "    while j < N:\n",
    "        ans.append(A[j]**2)\n",
    "        j += 1\n",
    "\n",
    "    return ans"
   ]
  },
  {
   "cell_type": "code",
   "execution_count": 11,
   "metadata": {},
   "outputs": [],
   "source": [
    "test=[1,0,2,3,0,4,5,0]\n",
    "test2=[1,2,3]"
   ]
  },
  {
   "cell_type": "code",
   "execution_count": 12,
   "metadata": {},
   "outputs": [],
   "source": [
    "def duplicateZeros(arr):\n",
    "    i=0\n",
    "    while i<len(arr):\n",
    "        if arr[i]==0:\n",
    "            arr.pop()\n",
    "            arr.insert(i,0)\n",
    "            i+=1\n",
    "        i+=1"
   ]
  },
  {
   "cell_type": "code",
   "execution_count": 13,
   "metadata": {},
   "outputs": [],
   "source": [
    "def duplicateZeros(arr):\n",
    "    zeroes = arr.count(0)\n",
    "    n = len(arr)\n",
    "    for i in range(n-1, -1, -1):\n",
    "        if i + zeroes < n:\n",
    "            arr[i + zeroes] = arr[i]\n",
    "        if arr[i] == 0: \n",
    "            zeroes -= 1\n",
    "            if i + zeroes < n:\n",
    "                arr[i + zeroes] = 0"
   ]
  },
  {
   "cell_type": "code",
   "execution_count": null,
   "metadata": {},
   "outputs": [],
   "source": []
  },
  {
   "cell_type": "code",
   "execution_count": 14,
   "metadata": {},
   "outputs": [],
   "source": [
    "def removeElement(nums, val):\n",
    "    n=len(nums)\n",
    "    i=0\n",
    "    while i<n:\n",
    "        if nums[i]==val:\n",
    "            nums[i]=nums[n-1]\n",
    "            n-=1\n",
    "        else:\n",
    "            i+=1\n",
    "    return n\n",
    "    "
   ]
  },
  {
   "cell_type": "code",
   "execution_count": 15,
   "metadata": {},
   "outputs": [],
   "source": [
    "#nums = [1,1,2]\n",
    "nums = [0,0,1,1,1,2,2,3,3,4]"
   ]
  },
  {
   "cell_type": "code",
   "execution_count": 16,
   "metadata": {},
   "outputs": [],
   "source": [
    "def removeDuplicates(nums):\n",
    "\n",
    "    len_ = 1\n",
    "    if len(nums)==0:\n",
    "        return 0\n",
    "    for i in range(1,len(nums)):\n",
    "        if nums[i] != nums[i-1]:\n",
    "            nums[len_] = nums[i]\n",
    "            len_ +=1\n",
    "    return nums[:len_]"
   ]
  },
  {
   "cell_type": "code",
   "execution_count": 17,
   "metadata": {},
   "outputs": [
    {
     "data": {
      "text/plain": [
       "[0, 1, 2, 3, 4]"
      ]
     },
     "execution_count": 17,
     "metadata": {},
     "output_type": "execute_result"
    }
   ],
   "source": [
    "removeDuplicates(nums)"
   ]
  },
  {
   "cell_type": "code",
   "execution_count": null,
   "metadata": {},
   "outputs": [],
   "source": []
  },
  {
   "cell_type": "code",
   "execution_count": 18,
   "metadata": {},
   "outputs": [],
   "source": [
    "def replaceElements(arr):\n",
    "    if arr is None:\n",
    "        raise valueError('not empties array')\n",
    "    rightMax=-1\n",
    "    for i in range(len(arr)-1,-1,-1):\n",
    "        newMax=max(arr[i],rightMax)\n",
    "        arr[i]=rightMax\n",
    "        rightMax=newMax\n",
    "    return arr"
   ]
  },
  {
   "cell_type": "code",
   "execution_count": 19,
   "metadata": {},
   "outputs": [],
   "source": [
    "arr = [17,18,5,4,6,1]"
   ]
  },
  {
   "cell_type": "code",
   "execution_count": 20,
   "metadata": {},
   "outputs": [
    {
     "data": {
      "text/plain": [
       "[18, 6, 6, 6, 1, -1]"
      ]
     },
     "execution_count": 20,
     "metadata": {},
     "output_type": "execute_result"
    }
   ],
   "source": [
    "replaceElements(arr)"
   ]
  },
  {
   "cell_type": "code",
   "execution_count": 21,
   "metadata": {},
   "outputs": [],
   "source": [
    "def sortArrayByParity(A):\n",
    "    j=0\n",
    "    for i in range(len(A)):\n",
    "        if A[i]%2==0:\n",
    "            A[i],A[j]=A[j],A[i]\n",
    "            j+=1\n",
    "                \n",
    "    return A"
   ]
  },
  {
   "cell_type": "code",
   "execution_count": 22,
   "metadata": {},
   "outputs": [],
   "source": [
    "A=[3,1,2,4]"
   ]
  },
  {
   "cell_type": "code",
   "execution_count": 23,
   "metadata": {},
   "outputs": [
    {
     "data": {
      "text/plain": [
       "[2, 4, 3, 1]"
      ]
     },
     "execution_count": 23,
     "metadata": {},
     "output_type": "execute_result"
    }
   ],
   "source": [
    "sortArrayByParity(A)"
   ]
  },
  {
   "cell_type": "code",
   "execution_count": 24,
   "metadata": {},
   "outputs": [],
   "source": [
    "def moveZeroes(arr):\n",
    "    j=0\n",
    "    for i in range(len(arr)):\n",
    "        if arr[i]!=0:\n",
    "            arr[i],arr[j]=arr[j],arr[i]\n",
    "            j+=1\n",
    "    return arr"
   ]
  },
  {
   "cell_type": "code",
   "execution_count": 25,
   "metadata": {},
   "outputs": [],
   "source": [
    "arr=[0,1,0,3,12]"
   ]
  },
  {
   "cell_type": "code",
   "execution_count": 26,
   "metadata": {},
   "outputs": [
    {
     "data": {
      "text/plain": [
       "[1, 3, 12, 0, 0]"
      ]
     },
     "execution_count": 26,
     "metadata": {},
     "output_type": "execute_result"
    }
   ],
   "source": [
    "moveZeroes(arr)"
   ]
  },
  {
   "cell_type": "code",
   "execution_count": 4,
   "metadata": {},
   "outputs": [],
   "source": [
    "heights = [1,1,4,2,1,3]"
   ]
  },
  {
   "cell_type": "code",
   "execution_count": 3,
   "metadata": {},
   "outputs": [],
   "source": [
    "def heightChecker(heights):\n",
    "    height_counts=[0]*(max(heights)+1)\n",
    "    for height in heights:\n",
    "        height_counts[height]+=1\n",
    "        \n",
    "    sorted_heights=[]\n",
    "        \n",
    "    for height in range(len(height_counts)):\n",
    "        count=height_counts[height]\n",
    "        for time in range(count):\n",
    "            sorted_heights.append(height)\n",
    "    count=0\n",
    "    for i in range(len(heights)):\n",
    "        if heights[i]!=sorted_heights[i]:\n",
    "            count+=1\n",
    "        \n",
    "    return count"
   ]
  },
  {
   "cell_type": "code",
   "execution_count": null,
   "metadata": {},
   "outputs": [],
   "source": []
  },
  {
   "cell_type": "code",
   "execution_count": 5,
   "metadata": {},
   "outputs": [
    {
     "data": {
      "text/plain": [
       "3"
      ]
     },
     "execution_count": 5,
     "metadata": {},
     "output_type": "execute_result"
    }
   ],
   "source": [
    "heightChecker(heights)"
   ]
  },
  {
   "cell_type": "code",
   "execution_count": 8,
   "metadata": {},
   "outputs": [],
   "source": [
    "arr=[2, 2, 3, 1]"
   ]
  },
  {
   "cell_type": "code",
   "execution_count": 6,
   "metadata": {},
   "outputs": [],
   "source": [
    "\n",
    "def thirdMax(nums):\n",
    "    maximus=set()\n",
    "    for num in nums:\n",
    "        maximus.add(num)\n",
    "        if len(maximus)>3:\n",
    "            maximus.remove(min(maximus))\n",
    "    if len(maximus)==3:\n",
    "        return min(maximus)\n",
    "    return max(maximus)"
   ]
  },
  {
   "cell_type": "code",
   "execution_count": 9,
   "metadata": {},
   "outputs": [
    {
     "data": {
      "text/plain": [
       "1"
      ]
     },
     "execution_count": 9,
     "metadata": {},
     "output_type": "execute_result"
    }
   ],
   "source": [
    "thirdMax(arr)"
   ]
  },
  {
   "cell_type": "code",
   "execution_count": null,
   "metadata": {},
   "outputs": [],
   "source": [
    "def findDisappearedNumbers(self, nums: List[int]) -> List[int]:\n",
    "    for idx in range(len(nums)):                       \n",
    "        while nums[nums[idx]-1] != nums[idx]: # value at target index misplaced\n",
    "            nums[nums[idx]-1], nums[idx] = nums[idx], nums[nums[idx]-1]  # swap\n",
    "\n",
    "    return [idx+1 for idx, num in enumerate(nums) if num != idx + 1] "
   ]
  },
  {
   "cell_type": "code",
   "execution_count": 12,
   "metadata": {},
   "outputs": [],
   "source": [
    "def findDisappearedNumbers(nums):\n",
    "    # Iterate over each of the elements in the original array\n",
    "    for i in range(len(nums)):\n",
    "            \n",
    "        # Treat the value as the new index\n",
    "        new_index = abs(nums[i]) - 1\n",
    "            \n",
    "        # Check the magnitude of value at this new index\n",
    "        # If the magnitude is positive, make it negative \n",
    "        # thus indicating that the number nums[i] has \n",
    "        # appeared or has been visited.\n",
    "        if nums[new_index] > 0:\n",
    "            nums[new_index] *= -1\n",
    "        \n",
    "    # Response array that would contain the missing numbers\n",
    "    result = []    \n",
    "        \n",
    "    # Iterate over the numbers from 1 to N and add all those\n",
    "    # that have positive magnitude in the array \n",
    "    for i in range(1, len(nums) + 1):\n",
    "        if nums[i - 1] > 0:\n",
    "            result.append(i)\n",
    "                \n",
    "    return result   "
   ]
  },
  {
   "cell_type": "code",
   "execution_count": 13,
   "metadata": {},
   "outputs": [],
   "source": [
    "def findDisappearedNumbersV2(nums):\n",
    "    hash_table={}\n",
    "    for num in nums:\n",
    "        hash_table[num]=1\n",
    "        \n",
    "    result = []    \n",
    "    \n",
    "    for num in range(1, len(nums) + 1):\n",
    "        if num not in hash_table:\n",
    "            result.append(num)\n",
    "                \n",
    "    return result    "
   ]
  },
  {
   "cell_type": "code",
   "execution_count": null,
   "metadata": {},
   "outputs": [],
   "source": []
  }
 ],
 "metadata": {
  "kernelspec": {
   "display_name": "Python 3",
   "language": "python",
   "name": "python3"
  },
  "language_info": {
   "codemirror_mode": {
    "name": "ipython",
    "version": 3
   },
   "file_extension": ".py",
   "mimetype": "text/x-python",
   "name": "python",
   "nbconvert_exporter": "python",
   "pygments_lexer": "ipython3",
   "version": "3.6.8"
  }
 },
 "nbformat": 4,
 "nbformat_minor": 4
}
