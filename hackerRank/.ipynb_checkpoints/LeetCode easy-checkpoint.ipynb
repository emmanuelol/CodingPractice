{
 "cells": [
  {
   "cell_type": "markdown",
   "metadata": {},
   "source": [
    "# Two Sum"
   ]
  },
  {
   "cell_type": "code",
   "execution_count": 1,
   "metadata": {},
   "outputs": [],
   "source": [
    "nums=[2,7,11,15]\n",
    "target=9"
   ]
  },
  {
   "cell_type": "code",
   "execution_count": 2,
   "metadata": {},
   "outputs": [],
   "source": [
    "# esto regresa los valores del array que suman el target\n",
    "def twoSum(array,suma):\n",
    "    sumas=[]\n",
    "    mapa={}\n",
    "    for i in range(len(array)):\n",
    "        sumMinus=suma-array[i]\n",
    "        if sumMinus in mapa:\n",
    "            sumas.append([array[i],sumMinus])\n",
    "        mapa[array[i]]=array[i]\n",
    "    return sumas"
   ]
  },
  {
   "cell_type": "code",
   "execution_count": 3,
   "metadata": {},
   "outputs": [
    {
     "data": {
      "text/plain": [
       "[7, 2]"
      ]
     },
     "execution_count": 3,
     "metadata": {},
     "output_type": "execute_result"
    }
   ],
   "source": [
    "twoSum(nums,target)[0]"
   ]
  },
  {
   "cell_type": "code",
   "execution_count": 4,
   "metadata": {},
   "outputs": [],
   "source": [
    "# esto entrega los indices de los valores que dan la suma\n",
    "def twoSum2(array,suma):\n",
    "    mapa={}\n",
    "    for i,m in enumerate(array):\n",
    "        if suma-m in mapa:\n",
    "            return [mapa[suma-m],i]\n",
    "        mapa[m]=i\n",
    "    return []"
   ]
  },
  {
   "cell_type": "code",
   "execution_count": 5,
   "metadata": {},
   "outputs": [
    {
     "data": {
      "text/plain": [
       "[0, 1]"
      ]
     },
     "execution_count": 5,
     "metadata": {},
     "output_type": "execute_result"
    }
   ],
   "source": [
    "twoSum2(nums,target)"
   ]
  },
  {
   "cell_type": "code",
   "execution_count": 6,
   "metadata": {},
   "outputs": [
    {
     "name": "stdout",
     "output_type": "stream",
     "text": [
      "0\n",
      "2\n",
      "1\n",
      "7\n",
      "2\n",
      "11\n",
      "3\n",
      "15\n"
     ]
    }
   ],
   "source": [
    "for i,m in enumerate(nums):\n",
    "    print(i)\n",
    "    print(m)"
   ]
  },
  {
   "cell_type": "markdown",
   "metadata": {},
   "source": [
    "## reverse integer\n",
    "reverse a integer number \n",
    "i.e.\n",
    "123->321\n",
    "-123>-321"
   ]
  },
  {
   "cell_type": "code",
   "execution_count": 27,
   "metadata": {},
   "outputs": [],
   "source": [
    "entero=210"
   ]
  },
  {
   "cell_type": "code",
   "execution_count": 54,
   "metadata": {},
   "outputs": [],
   "source": [
    "entero1=-123"
   ]
  },
  {
   "cell_type": "code",
   "execution_count": 65,
   "metadata": {},
   "outputs": [],
   "source": [
    "\n",
    "\n",
    "def reverse(entero):\n",
    "    numero=str(entero)\n",
    "    if numero.startswith('-'):\n",
    "        numero=numero[1:]\n",
    "        numero=numero[::-1]\n",
    "        numero='-'+numero\n",
    "        return int(numero) if (int(numero) > (-2**31)) and (int(numero) < (2**31) - 1) else 0 \n",
    "    elif numero!='0' and numero.endswith('0'):\n",
    "        numero=numero[:-1]\n",
    "        numero=numero[::-1]\n",
    "        return int(numero) if (int(numero) > (-2**31)) and (int(numero) < (2**31) - 1) else 0 \n",
    "    elif numero=='0':\n",
    "        return 0\n",
    "    else:\n",
    "        numero=numero[::-1]\n",
    "        return int(numero) if (int(numero) > (-2**31)) and (int(numero) < (2**31) - 1) else 0 \n",
    "        #print(numero[::-1])\n",
    "\n"
   ]
  },
  {
   "cell_type": "code",
   "execution_count": 66,
   "metadata": {},
   "outputs": [
    {
     "data": {
      "text/plain": [
       "12"
      ]
     },
     "execution_count": 66,
     "metadata": {},
     "output_type": "execute_result"
    }
   ],
   "source": [
    "reverse(entero)"
   ]
  },
  {
   "cell_type": "code",
   "execution_count": 68,
   "metadata": {},
   "outputs": [
    {
     "data": {
      "text/plain": [
       "-321"
      ]
     },
     "execution_count": 68,
     "metadata": {},
     "output_type": "execute_result"
    }
   ],
   "source": [
    "reverse(entero1)"
   ]
  },
  {
   "cell_type": "code",
   "execution_count": null,
   "metadata": {},
   "outputs": [],
   "source": []
  }
 ],
 "metadata": {
  "kernelspec": {
   "display_name": "Python 3",
   "language": "python",
   "name": "python3"
  },
  "language_info": {
   "codemirror_mode": {
    "name": "ipython",
    "version": 3
   },
   "file_extension": ".py",
   "mimetype": "text/x-python",
   "name": "python",
   "nbconvert_exporter": "python",
   "pygments_lexer": "ipython3",
   "version": "3.6.8"
  }
 },
 "nbformat": 4,
 "nbformat_minor": 2
}
