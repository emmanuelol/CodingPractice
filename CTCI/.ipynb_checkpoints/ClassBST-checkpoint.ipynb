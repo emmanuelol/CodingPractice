{
 "cells": [
  {
   "cell_type": "code",
   "execution_count": 83,
   "metadata": {},
   "outputs": [],
   "source": [
    "class Node(object):\n",
    "    def __init__(self,value):\n",
    "        self.value=value\n",
    "        self.left=None\n",
    "        self.right=None\n",
    "        self.size=0"
   ]
  },
  {
   "cell_type": "code",
   "execution_count": 106,
   "metadata": {},
   "outputs": [],
   "source": [
    "import random\n",
    "class BST(object):\n",
    "    def __init__(self):\n",
    "        self.root=None\n",
    "        \n",
    "    \n",
    "    def insert(self,value):\n",
    "        if self.root is None:\n",
    "            self.root=Node(value)\n",
    "            self.root.size+=1\n",
    "            \n",
    "        \n",
    "        elif self.root.value==value:\n",
    "            return False # BST no tiene duplicados\n",
    "        else:\n",
    "            self.insert2(value,self.root)\n",
    "        \n",
    "        \n",
    "    def insert2(self,value,current):\n",
    "        \n",
    "        #if current.value==value:\n",
    "         #   return False # BST no tiene duplicados\n",
    "    \n",
    "        if value<current.value:\n",
    "            if current.left:\n",
    "                return self.insert2(value,current.left)\n",
    "            else:\n",
    "                current.left=Node(value)\n",
    "                self.root.size+=1\n",
    "                self.root.left.size+=1\n",
    "\n",
    "                return True\n",
    "                \n",
    "        else:\n",
    "            if current.right:\n",
    "                return self.insert2(value,current.right)\n",
    "            else:\n",
    "                current.right=Node(value)\n",
    "                self.root.size+=1\n",
    "                self.root.right.size+=1\n",
    "\n",
    "                return True\n",
    "                    \n",
    "    def find(self,value):\n",
    "        if self.root.value==value:\n",
    "            return self.root\n",
    "        if self.root and self.root.left:\n",
    "            self.root.left.find(value)\n",
    "        if self.root and self.root.right:\n",
    "            self.root.right.find(value)\n",
    "        return None\n",
    "    \n",
    "    def delete(self,value):\n",
    "        if self.root is None:\n",
    "            return None\n",
    "        if value<self.root.value:\n",
    "            self.left=self.left.delete(value)\n",
    "        elif value>self.root.value:\n",
    "            self.right=self.root.right.delete(value)\n",
    "            \n",
    "        else:\n",
    "            if self.root.left is None:\n",
    "                temp=self.root.right\n",
    "                \n",
    "                self=None\n",
    "                return temp\n",
    "            elif self.root.right is None:\n",
    "                temp=self.root.left\n",
    "                self.root=None\n",
    "                return temp\n",
    "            \n",
    "            \n",
    "            temp=self.minValueNode(self.root.right)\n",
    "            self.root.value=temp.value\n",
    "            self.root.right=self.root.right.delete(temp.value)\n",
    "            \n",
    "        return self\n",
    "    \n",
    "    \n",
    "    def minValueNode(self,node):\n",
    "        current=node\n",
    "        while current.left:\n",
    "            current=current.left\n",
    "        \n",
    "        return current\n",
    "## esta funcion solo si se declara un nodo como otra clase aparte\n",
    "    \n",
    "#    def getRandomTree(self):\n",
    "#        if self.root.left is None:\n",
    "#            leftSize=0\n",
    "#        else:\n",
    "#            leftSize=self.root.left.size\n",
    "#            \n",
    "#        index=random.randint(0,self.root.size)\n",
    "#        if index<leftSize:\n",
    "\n",
    "#            return self.root.left.getRandomTree()\n",
    "#        elif index==leftSize:\n",
    "#            return self\n",
    "#        else:\n",
    "#           return self.root.right.getRandomTree()\n",
    " \n",
    "    #def getRandomTree(self):\n",
    "     #   index=random.randint(1,self.root.size)\n",
    "      #  current=self.root\n",
    "       # for i in range(1,index+1):\n",
    "        #    if current and current.left:\n",
    "         #       current=current.left\n",
    "          #  if current and current.right:\n",
    "           #     current=current.right\n",
    "        \n",
    "        #return current\n",
    " \n",
    "    def getRandomNode(self):\n",
    "     \n",
    "        # Set current to root of binary tree\n",
    "        current = self.root \n",
    "        s = [] # initialze stack\n",
    "        done = 0\n",
    "        count=0\n",
    "        limit=random.randint(1,current.size)\n",
    "        while(not done):\n",
    "         \n",
    "            # Reach the left most Node of the current Node\n",
    "            if current is not None:\n",
    "             \n",
    "                # Place pointer to a tree node on the stack \n",
    "                # before traversing the node's left subtree\n",
    "                s.append(current)\n",
    "         \n",
    "                current = current.left \n",
    " \n",
    "         \n",
    "            # BackTrack from the empty subtree and visit the Node\n",
    "            # at the top of the stack; however, if the stack is \n",
    "            # empty you are done\n",
    "            else:\n",
    "                if(len(s) >0 ):\n",
    "                    current = s.pop()\n",
    "    #                print(current.value)\n",
    "                    count+=1\n",
    "                if count==limit:\n",
    "                    done=1\n",
    "                \n",
    "                    return current.value\n",
    "\n",
    "         \n",
    "                # We have visited the node and its left \n",
    "                # subtree. Now, it's right subtree's turn\n",
    "                current = current.right \n",
    " \n",
    "           # else:\n",
    "            #    done = 1\n"
   ]
  },
  {
   "cell_type": "code",
   "execution_count": null,
   "metadata": {},
   "outputs": [],
   "source": []
  },
  {
   "cell_type": "code",
   "execution_count": 107,
   "metadata": {},
   "outputs": [],
   "source": [
    "arbol=BST()\n",
    "arbol.insert(20)\n",
    "arbol.insert(10)\n",
    "arbol.insert(30)\n",
    "arbol.insert(5)\n",
    "arbol.insert(15)\n",
    "arbol.insert(35)\n",
    "arbol.insert(3)\n",
    "arbol.insert(7)\n",
    "arbol.insert(17)"
   ]
  },
  {
   "cell_type": "code",
   "execution_count": 108,
   "metadata": {},
   "outputs": [
    {
     "data": {
      "text/plain": [
       "9"
      ]
     },
     "execution_count": 108,
     "metadata": {},
     "output_type": "execute_result"
    }
   ],
   "source": [
    "arbol.root.size"
   ]
  },
  {
   "cell_type": "code",
   "execution_count": 112,
   "metadata": {},
   "outputs": [
    {
     "data": {
      "text/plain": [
       "20"
      ]
     },
     "execution_count": 112,
     "metadata": {},
     "output_type": "execute_result"
    }
   ],
   "source": [
    "arbol.getRandomNode()"
   ]
  },
  {
   "cell_type": "code",
   "execution_count": 87,
   "metadata": {},
   "outputs": [],
   "source": [
    "def preOrder(root,array=[]):\n",
    "    array.append(root.value)\n",
    "    if root and root.left:\n",
    "        preOrder(root.left,array)\n",
    "    if root and root.right:\n",
    "        preOrder(root.right,array)\n",
    "    return array"
   ]
  },
  {
   "cell_type": "code",
   "execution_count": 88,
   "metadata": {},
   "outputs": [
    {
     "data": {
      "text/plain": [
       "[20, 10, 5, 3, 7, 15, 17, 30, 35]"
      ]
     },
     "execution_count": 88,
     "metadata": {},
     "output_type": "execute_result"
    }
   ],
   "source": [
    "preOrder(arbol.root)"
   ]
  },
  {
   "cell_type": "code",
   "execution_count": 89,
   "metadata": {},
   "outputs": [],
   "source": [
    "def inOrder(root,array=[]):\n",
    "    if root and root.left is not None:\n",
    "        inOrder(root.left,array)\n",
    "    array.append(root.value)\n",
    "\n",
    "    if root and root.right is not None:\n",
    "        inOrder(root.right,array)\n",
    "    return array"
   ]
  },
  {
   "cell_type": "code",
   "execution_count": 90,
   "metadata": {},
   "outputs": [
    {
     "data": {
      "text/plain": [
       "[3, 5, 7, 10, 15, 17, 20, 30, 35]"
      ]
     },
     "execution_count": 90,
     "metadata": {},
     "output_type": "execute_result"
    }
   ],
   "source": [
    "inOrder(arbol.root)"
   ]
  },
  {
   "cell_type": "code",
   "execution_count": 91,
   "metadata": {},
   "outputs": [],
   "source": [
    "def postOrder(root,array=[]):\n",
    "    if root and root.left:\n",
    "        postOrder(root.left,array)\n",
    "\n",
    "    if root and root.right:\n",
    "        postOrder(root.right,array)\n",
    "    array.append(root.value)\n",
    "\n",
    "    return array"
   ]
  },
  {
   "cell_type": "code",
   "execution_count": 92,
   "metadata": {},
   "outputs": [
    {
     "data": {
      "text/plain": [
       "[3, 7, 5, 17, 15, 10, 35, 30, 20]"
      ]
     },
     "execution_count": 92,
     "metadata": {},
     "output_type": "execute_result"
    }
   ],
   "source": [
    "postOrder(arbol.root)"
   ]
  },
  {
   "cell_type": "code",
   "execution_count": null,
   "metadata": {},
   "outputs": [],
   "source": []
  },
  {
   "cell_type": "code",
   "execution_count": 93,
   "metadata": {},
   "outputs": [],
   "source": [
    "def inOrderIterative(root):\n",
    "     \n",
    "    # Set current to root of binary tree\n",
    "    current = root \n",
    "    s = [] # initialze stack\n",
    "    done = 0\n",
    "     \n",
    "    while(not done):\n",
    "         \n",
    "        # Reach the left most Node of the current Node\n",
    "        if current is not None:\n",
    "             \n",
    "            # Place pointer to a tree node on the stack \n",
    "            # before traversing the node's left subtree\n",
    "            s.append(current)\n",
    "         \n",
    "            current = current.left \n",
    " \n",
    "         \n",
    "        # BackTrack from the empty subtree and visit the Node\n",
    "        # at the top of the stack; however, if the stack is \n",
    "        # empty you are done\n",
    "        else:\n",
    "            if(len(s) >0 ):\n",
    "                current = s.pop()\n",
    "                print(current.value)\n",
    "         \n",
    "                # We have visited the node and its left \n",
    "                # subtree. Now, it's right subtree's turn\n",
    "                current = current.right \n",
    " \n",
    "            else:\n",
    "                done = 1"
   ]
  },
  {
   "cell_type": "code",
   "execution_count": 94,
   "metadata": {},
   "outputs": [
    {
     "name": "stdout",
     "output_type": "stream",
     "text": [
      "3\n",
      "5\n",
      "7\n",
      "10\n",
      "15\n",
      "17\n",
      "20\n",
      "30\n",
      "35\n"
     ]
    }
   ],
   "source": [
    "inOrderIterative(arbol.root)"
   ]
  },
  {
   "cell_type": "code",
   "execution_count": 95,
   "metadata": {},
   "outputs": [],
   "source": [
    "def printInorder(root):\n",
    " \n",
    "    if root:\n",
    " \n",
    "        # First recur on left child\n",
    "        printInorder(root.left)\n",
    " \n",
    "        # then print the data of node\n",
    "        print(root.value)\n",
    " \n",
    "        # now recur on right child\n",
    "        printInorder(root.right)\n",
    " \n",
    " "
   ]
  },
  {
   "cell_type": "code",
   "execution_count": 96,
   "metadata": {},
   "outputs": [
    {
     "name": "stdout",
     "output_type": "stream",
     "text": [
      "3\n",
      "5\n",
      "7\n",
      "10\n",
      "15\n",
      "17\n",
      "20\n",
      "30\n",
      "35\n"
     ]
    }
   ],
   "source": [
    "printInorder(arbol.root)"
   ]
  },
  {
   "cell_type": "code",
   "execution_count": null,
   "metadata": {},
   "outputs": [],
   "source": []
  },
  {
   "cell_type": "code",
   "execution_count": 98,
   "metadata": {},
   "outputs": [
    {
     "data": {
      "text/plain": [
       "[3, 5, 7, 10, 15, 17, 20, 30, 35]"
      ]
     },
     "execution_count": 98,
     "metadata": {},
     "output_type": "execute_result"
    }
   ],
   "source": [
    "inOrder(arbol.root,[])"
   ]
  },
  {
   "cell_type": "code",
   "execution_count": 103,
   "metadata": {},
   "outputs": [],
   "source": [
    "def inOrderIterativeLimit(root,limit):\n",
    "     \n",
    "    # Set current to root of binary tree\n",
    "    current = root \n",
    "    s = [] # initialze stack\n",
    "    done = 0\n",
    "    count=0\n",
    "     \n",
    "    while(not done):\n",
    "         \n",
    "        # Reach the left most Node of the current Node\n",
    "        if current is not None:\n",
    "             \n",
    "            # Place pointer to a tree node on the stack \n",
    "            # before traversing the node's left subtree\n",
    "            s.append(current)\n",
    "         \n",
    "            current = current.left \n",
    " \n",
    "         \n",
    "        # BackTrack from the empty subtree and visit the Node\n",
    "        # at the top of the stack; however, if the stack is \n",
    "        # empty you are done\n",
    "        else:\n",
    "            if(len(s) >0 ):\n",
    "                current = s.pop()\n",
    "#                print(current.value)\n",
    "                count+=1\n",
    "                if count==limit:\n",
    "                    print(current.value)\n",
    "\n",
    "                    done=1\n",
    "         \n",
    "                # We have visited the node and its left \n",
    "                # subtree. Now, it's right subtree's turn\n",
    "                current = current.right \n",
    " \n",
    "            else:\n",
    "                done = 1"
   ]
  },
  {
   "cell_type": "code",
   "execution_count": 104,
   "metadata": {},
   "outputs": [
    {
     "name": "stdout",
     "output_type": "stream",
     "text": [
      "30\n"
     ]
    }
   ],
   "source": [
    "inOrderIterativeLimit(arbol.root,8)"
   ]
  },
  {
   "cell_type": "code",
   "execution_count": null,
   "metadata": {},
   "outputs": [],
   "source": []
  }
 ],
 "metadata": {
  "kernelspec": {
   "display_name": "Python 3",
   "language": "python",
   "name": "python3"
  },
  "language_info": {
   "codemirror_mode": {
    "name": "ipython",
    "version": 3
   },
   "file_extension": ".py",
   "mimetype": "text/x-python",
   "name": "python",
   "nbconvert_exporter": "python",
   "pygments_lexer": "ipython3",
   "version": "3.6.4rc1"
  }
 },
 "nbformat": 4,
 "nbformat_minor": 2
}
