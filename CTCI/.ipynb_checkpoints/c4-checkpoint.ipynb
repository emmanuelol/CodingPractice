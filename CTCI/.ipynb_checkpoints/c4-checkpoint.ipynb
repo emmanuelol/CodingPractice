{
 "cells": [
  {
   "cell_type": "markdown",
   "metadata": {},
   "source": [
    "# declare Node for BT"
   ]
  },
  {
   "cell_type": "code",
   "execution_count": 1,
   "metadata": {},
   "outputs": [],
   "source": [
    "class Node(object):\n",
    "    def __init__(self,value=None,left=None,right=None):\n",
    "        self.value=value\n",
    "        self.left=left\n",
    "        self.right=right"
   ]
  },
  {
   "cell_type": "markdown",
   "metadata": {},
   "source": [
    "## test tree"
   ]
  },
  {
   "cell_type": "code",
   "execution_count": 2,
   "metadata": {},
   "outputs": [],
   "source": [
    "n1=Node(0)\n",
    "n2=Node(1)\n",
    "n3=Node(2)\n",
    "n4=Node(3)\n",
    "n5=Node(4)\n",
    "n6=Node(5)\n",
    "n7=Node(6)"
   ]
  },
  {
   "cell_type": "code",
   "execution_count": 3,
   "metadata": {},
   "outputs": [],
   "source": [
    "# setup children\n",
    "n1.left=n2\n",
    "n1.right=n3\n",
    "\n",
    "n2.left=n4\n",
    "n2.right=n5\n",
    "\n",
    "n5.left=n6\n",
    "n5.right=n7"
   ]
  },
  {
   "cell_type": "code",
   "execution_count": 4,
   "metadata": {},
   "outputs": [
    {
     "name": "stdout",
     "output_type": "stream",
     "text": [
      "0\n",
      "1\n",
      "3\n",
      "4\n",
      "5\n",
      "6\n",
      "2\n"
     ]
    }
   ],
   "source": [
    "# root\n",
    "print(n1.value)\n",
    "# left node 1\n",
    "print(n1.left.value)\n",
    "\n",
    "# children of the node1 left\n",
    "print(n1.left.left.value)\n",
    "print(n1.left.right.value)\n",
    "\n",
    "#children of the node1 right \n",
    "print(n1.left.right.left.value)\n",
    "\n",
    "print(n1.left.right.right.value)\n",
    "#right node 1\n",
    "print(n1.right.value)\n",
    "\n",
    "\n",
    "#print(n1.left.left.value)\n",
    "#print(n1.left.right.value)\n"
   ]
  },
  {
   "cell_type": "code",
   "execution_count": null,
   "metadata": {},
   "outputs": [],
   "source": []
  },
  {
   "cell_type": "code",
   "execution_count": 5,
   "metadata": {},
   "outputs": [],
   "source": [
    "\n",
    "def preOrder(root,nodos):\n",
    "    nodos.append(root.value)\n",
    "    if root and root.left:\n",
    "        preOrder(root.left,nodos)\n",
    "    if root and root.right:\n",
    "        preOrder(root.right,nodos)\n",
    "\n",
    "    return nodos"
   ]
  },
  {
   "cell_type": "code",
   "execution_count": 6,
   "metadata": {},
   "outputs": [
    {
     "data": {
      "text/plain": [
       "[0, 1, 3, 4, 5, 6, 2]"
      ]
     },
     "execution_count": 6,
     "metadata": {},
     "output_type": "execute_result"
    }
   ],
   "source": [
    "nodos=[]\n",
    "\n",
    "preOrder(n1,nodos)"
   ]
  },
  {
   "cell_type": "code",
   "execution_count": 7,
   "metadata": {},
   "outputs": [],
   "source": [
    "\n",
    "def inOrder(root,nodos):\n",
    "    if root and root.left:\n",
    "        preOrder(root.left,nodos)\n",
    "    nodos.append(root.value)\n",
    "\n",
    "    if root and root.right:\n",
    "        preOrder(root.right,nodos)\n",
    "\n",
    "    return nodos"
   ]
  },
  {
   "cell_type": "code",
   "execution_count": 8,
   "metadata": {},
   "outputs": [
    {
     "data": {
      "text/plain": [
       "[1, 3, 4, 5, 6, 0, 2]"
      ]
     },
     "execution_count": 8,
     "metadata": {},
     "output_type": "execute_result"
    }
   ],
   "source": [
    "nodos=[]\n",
    "\n",
    "inOrder(n1,nodos)"
   ]
  },
  {
   "cell_type": "code",
   "execution_count": 9,
   "metadata": {},
   "outputs": [],
   "source": [
    "def postOrder(root,nodos):\n",
    "    if root and root.left:\n",
    "        preOrder(root.left,nodos)\n",
    "\n",
    "    if root and root.right:\n",
    "        preOrder(root.right,nodos)\n",
    "    nodos.append(root.value)\n",
    "\n",
    "    return nodos"
   ]
  },
  {
   "cell_type": "code",
   "execution_count": 10,
   "metadata": {},
   "outputs": [
    {
     "data": {
      "text/plain": [
       "[1, 3, 4, 5, 6, 2, 0]"
      ]
     },
     "execution_count": 10,
     "metadata": {},
     "output_type": "execute_result"
    }
   ],
   "source": [
    "nodos=[]\n",
    "\n",
    "postOrder(n1,nodos)"
   ]
  },
  {
   "cell_type": "code",
   "execution_count": null,
   "metadata": {},
   "outputs": [],
   "source": []
  },
  {
   "cell_type": "markdown",
   "metadata": {},
   "source": [
    "# minimal tree"
   ]
  },
  {
   "cell_type": "code",
   "execution_count": 11,
   "metadata": {},
   "outputs": [],
   "source": [
    " sorted_array = [1, 2, 3, 4, 5, 6, 7, 8, 9]"
   ]
  },
  {
   "cell_type": "code",
   "execution_count": 12,
   "metadata": {},
   "outputs": [],
   "source": [
    "def minimalTree(array):\n",
    "    if len(array)==0:\n",
    "        return None\n",
    "    middle=len(array)//2\n",
    "    left=minimalTree(array[:middle])\n",
    "    right=minimalTree(array[(middle+1):])\n",
    "    \n",
    "    return Node(array[middle],left,right)"
   ]
  },
  {
   "cell_type": "code",
   "execution_count": 13,
   "metadata": {},
   "outputs": [],
   "source": [
    "resultado=minimalTree(sorted_array)"
   ]
  },
  {
   "cell_type": "code",
   "execution_count": 14,
   "metadata": {},
   "outputs": [
    {
     "data": {
      "text/plain": [
       "[3, 2, 1, 4, 5, 8, 7, 6, 9]"
      ]
     },
     "execution_count": 14,
     "metadata": {},
     "output_type": "execute_result"
    }
   ],
   "source": [
    "nodos=[]\n",
    "inOrder(resultado,nodos)"
   ]
  },
  {
   "cell_type": "code",
   "execution_count": 15,
   "metadata": {},
   "outputs": [
    {
     "data": {
      "text/plain": [
       "[5, 3, 2, 1, 4, 8, 7, 6, 9]"
      ]
     },
     "execution_count": 15,
     "metadata": {},
     "output_type": "execute_result"
    }
   ],
   "source": [
    "nodos=[]\n",
    "preOrder(resultado,nodos)"
   ]
  },
  {
   "cell_type": "code",
   "execution_count": 16,
   "metadata": {},
   "outputs": [
    {
     "data": {
      "text/plain": [
       "5"
      ]
     },
     "execution_count": 16,
     "metadata": {},
     "output_type": "execute_result"
    }
   ],
   "source": [
    "resultado.value"
   ]
  },
  {
   "cell_type": "markdown",
   "metadata": {},
   "source": [
    "## solucion recursiva O(N log N)"
   ]
  },
  {
   "cell_type": "markdown",
   "metadata": {},
   "source": [
    "# Lists of depth"
   ]
  },
  {
   "cell_type": "code",
   "execution_count": 17,
   "metadata": {},
   "outputs": [],
   "source": [
    "node_h = Node('H')\n",
    "node_g = Node('G')\n",
    "node_f = Node('F')\n",
    "node_e = Node('E', node_g) #node g left\n",
    "node_d = Node('D', node_h) #node h left\n",
    "node_c = Node('C', None, node_f) # node right\n",
    "node_b = Node('B', node_d, node_e)\n",
    "node_a = Node('A', node_b, node_c)\n",
    "\n",
    "\n",
    "\n",
    "#lists = list_of_depths(node_a)"
   ]
  },
  {
   "cell_type": "code",
   "execution_count": 18,
   "metadata": {},
   "outputs": [],
   "source": [
    "class ListNode(object):\n",
    "    def __init__(self,value=None,next=None):\n",
    "        self.value=value\n",
    "        self.next=next"
   ]
  },
  {
   "cell_type": "code",
   "execution_count": 19,
   "metadata": {},
   "outputs": [],
   "source": [
    "# find the level of node in a tree\n",
    "def height(node):\n",
    "    if node is None:\n",
    "        return 0\n",
    "    else :\n",
    "        # Compute the height of each subtree \n",
    "        lheight = height(node.left)\n",
    "        rheight = height(node.right)\n",
    " \n",
    "        #Use the larger one\n",
    "        if lheight > rheight :\n",
    "            return lheight+1\n",
    "        else:\n",
    "            return rheight+1\n",
    "        "
   ]
  },
  {
   "cell_type": "code",
   "execution_count": 20,
   "metadata": {},
   "outputs": [],
   "source": [
    "#convert a list to a linked list\n",
    "def listToLinkedList(array):\n",
    "    if len(array)==1:\n",
    "        return ListNode(array[0])\n",
    "    else:\n",
    "        return ListNode(array[0],listToLinkedList(array[1:]))"
   ]
  },
  {
   "cell_type": "code",
   "execution_count": 21,
   "metadata": {},
   "outputs": [],
   "source": [
    "# convert a list of lists in a list of linked lists\n",
    "def matriz2LL(array):\n",
    "    result=[]\n",
    "    for i in range(len(array)):\n",
    "        result.append(listToLinkedList(array[i]))\n",
    "    return result"
   ]
  },
  {
   "cell_type": "code",
   "execution_count": 22,
   "metadata": {},
   "outputs": [],
   "source": [
    "# create a list of the nodes in a tree were every list is a level in the tree, then convert this list into a linked list\n",
    "def levelOrder(root):\n",
    "    result = []\n",
    "    if not root:\n",
    "        return result\n",
    "    curr_level = [root]\n",
    "    while curr_level:\n",
    "        level_result = []\n",
    "        next_level = []\n",
    "        for temp in curr_level:\n",
    "            level_result.append(temp.value)\n",
    "            if temp.left:\n",
    "                next_level.append(temp.left)\n",
    "            if temp.right:\n",
    "                next_level.append(temp.right)\n",
    "        result.append(level_result)\n",
    "        curr_level = next_level\n",
    "    return matriz2LL(result)"
   ]
  },
  {
   "cell_type": "markdown",
   "metadata": {},
   "source": [
    "def levelOrder(root):\n",
    "    result = []\n",
    "    if not root:\n",
    "        return result\n",
    "    curr_level = [root]\n",
    "    while curr_level:\n",
    "        level_result = []\n",
    "        next_level = []\n",
    "        for temp in curr_level:\n",
    "            level_result.append(temp.value)\n",
    "            if temp.left:\n",
    "                next_level.append(temp.left)\n",
    "            if temp.right:\n",
    "                next_level.append(temp.right)\n",
    "        result.append(level_result)\n",
    "        curr_level = next_level\n",
    "    return result"
   ]
  },
  {
   "cell_type": "markdown",
   "metadata": {},
   "source": [
    "lista=levelOrder(node_a)\n",
    "lista"
   ]
  },
  {
   "cell_type": "code",
   "execution_count": 23,
   "metadata": {},
   "outputs": [],
   "source": [
    "p=levelOrder(node_a)"
   ]
  },
  {
   "cell_type": "code",
   "execution_count": 24,
   "metadata": {},
   "outputs": [
    {
     "data": {
      "text/plain": [
       "'C'"
      ]
     },
     "execution_count": 24,
     "metadata": {},
     "output_type": "execute_result"
    }
   ],
   "source": [
    "p[1].next.value"
   ]
  },
  {
   "cell_type": "markdown",
   "metadata": {},
   "source": [
    "in time I'm not sure O(n) but in memory is O(n) at least"
   ]
  },
  {
   "cell_type": "markdown",
   "metadata": {},
   "source": [
    "### Bonus expression Tree"
   ]
  },
  {
   "cell_type": "code",
   "execution_count": 25,
   "metadata": {},
   "outputs": [],
   "source": [
    "node7=Node(9)\n",
    "node6=Node(5)\n",
    "node5=Node(2)\n",
    "node4=Node('+',node6,node7)\n",
    "node3=Node('*',node4,node5)\n",
    "node2=Node(3)\n",
    "node1=Node('+',node2,node3)\n",
    "\n"
   ]
  },
  {
   "cell_type": "code",
   "execution_count": 26,
   "metadata": {},
   "outputs": [],
   "source": [
    "def inOrderRL(root,array):\n",
    "    if root and root.right:\n",
    "        inOrderRL(root.right,array)\n",
    "    array.append(root.value)\n",
    "    if root and root.left:\n",
    "        inOrderRL(root.left,array)\n",
    "    return array"
   ]
  },
  {
   "cell_type": "code",
   "execution_count": 27,
   "metadata": {},
   "outputs": [],
   "source": [
    "def preOrderRL(root,array):\n",
    "    array.append(root.value)\n",
    "\n",
    "    if root and root.right:\n",
    "        inOrderRL(root.right,array)\n",
    "    if root and root.left:\n",
    "        inOrderRL(root.left,array)\n",
    "    return array"
   ]
  },
  {
   "cell_type": "code",
   "execution_count": 28,
   "metadata": {},
   "outputs": [],
   "source": [
    "def postOrderRL(root,array):\n",
    "\n",
    "    if root and root.right:\n",
    "        inOrderRL(root.right,array)\n",
    "    if root and root.left:\n",
    "        inOrderRL(root.left,array)\n",
    "    array.append(root.value)\n",
    "\n",
    "    return array"
   ]
  },
  {
   "cell_type": "code",
   "execution_count": 29,
   "metadata": {},
   "outputs": [
    {
     "data": {
      "text/plain": [
       "[2, '*', 9, '+', 5, '+', 3]"
      ]
     },
     "execution_count": 29,
     "metadata": {},
     "output_type": "execute_result"
    }
   ],
   "source": [
    "nodos=[]\n",
    "inOrderRL(node1,nodos)"
   ]
  },
  {
   "cell_type": "code",
   "execution_count": 30,
   "metadata": {},
   "outputs": [
    {
     "data": {
      "text/plain": [
       "[3, '+', '*', '+', 5, 9, 2]"
      ]
     },
     "execution_count": 30,
     "metadata": {},
     "output_type": "execute_result"
    }
   ],
   "source": [
    "nodos=[]\n",
    "inOrder(node1,nodos)"
   ]
  },
  {
   "cell_type": "code",
   "execution_count": 31,
   "metadata": {},
   "outputs": [
    {
     "data": {
      "text/plain": [
       "['+', 3, '*', '+', 5, 9, 2]"
      ]
     },
     "execution_count": 31,
     "metadata": {},
     "output_type": "execute_result"
    }
   ],
   "source": [
    "nodos=[]\n",
    "preOrder(node1,nodos)"
   ]
  },
  {
   "cell_type": "code",
   "execution_count": 32,
   "metadata": {},
   "outputs": [
    {
     "data": {
      "text/plain": [
       "['+', 2, '*', 9, '+', 5, 3]"
      ]
     },
     "execution_count": 32,
     "metadata": {},
     "output_type": "execute_result"
    }
   ],
   "source": [
    "nodos=[]\n",
    "preOrderRL(node1,nodos)"
   ]
  },
  {
   "cell_type": "code",
   "execution_count": 33,
   "metadata": {},
   "outputs": [
    {
     "data": {
      "text/plain": [
       "[3, '*', '+', 5, 9, 2, '+']"
      ]
     },
     "execution_count": 33,
     "metadata": {},
     "output_type": "execute_result"
    }
   ],
   "source": [
    "nodos=[]\n",
    "postOrder(node1,nodos)"
   ]
  },
  {
   "cell_type": "code",
   "execution_count": 34,
   "metadata": {},
   "outputs": [
    {
     "data": {
      "text/plain": [
       "[2, '*', 9, '+', 5, 3, '+']"
      ]
     },
     "execution_count": 34,
     "metadata": {},
     "output_type": "execute_result"
    }
   ],
   "source": [
    "nodos=[]\n",
    "postOrderRL(node1,nodos)"
   ]
  },
  {
   "cell_type": "code",
   "execution_count": 35,
   "metadata": {},
   "outputs": [],
   "source": [
    "def expressionArray(root):\n",
    "    nodos=[]\n",
    "    nodos=inOrderRL(root,nodos)\n",
    "    \n",
    "    for i in range(len(nodos)):\n",
    "        if nodos[i]==\"+\":\n",
    "            temp=nodos[i-1]+nodos[i+1]\n",
    "            nodos[i+1]=temp\n",
    "        elif nodos[i]==\"*\":\n",
    "            temp=nodos[i-1]*nodos[i+1]\n",
    "            nodos[i+1]=temp\n",
    "    return nodos[-1]"
   ]
  },
  {
   "cell_type": "code",
   "execution_count": 36,
   "metadata": {},
   "outputs": [
    {
     "data": {
      "text/plain": [
       "26"
      ]
     },
     "execution_count": 36,
     "metadata": {},
     "output_type": "execute_result"
    }
   ],
   "source": [
    "expressionArray(node1)"
   ]
  },
  {
   "cell_type": "code",
   "execution_count": 37,
   "metadata": {},
   "outputs": [],
   "source": [
    "nodos=[]\n",
    "operacion=inOrder(node1,nodos)"
   ]
  },
  {
   "cell_type": "code",
   "execution_count": 38,
   "metadata": {},
   "outputs": [
    {
     "name": "stdout",
     "output_type": "stream",
     "text": [
      "3\n",
      "+\n",
      "*\n",
      "+\n",
      "5\n",
      "9\n",
      "2\n"
     ]
    }
   ],
   "source": [
    "for j in operacion:\n",
    "    print(j)"
   ]
  },
  {
   "cell_type": "code",
   "execution_count": 39,
   "metadata": {},
   "outputs": [],
   "source": [
    "def evaluateExpressionTree(root):\n",
    " \n",
    "    # empty tree\n",
    "    if root is None:\n",
    "        return 0\n",
    " \n",
    "    # leaf node si solo es es un simple nodo\n",
    "    if root.left is None and root.right is None:\n",
    "        return int(root.value)\n",
    " \n",
    "    # recorrer el arbol post order\n",
    "    # evaluate left tree\n",
    "    print('izquierda',root.value)\n",
    "    left_sum = evaluateExpressionTree(root.left)\n",
    "    print('left',left_sum)\n",
    "    # evaluate right tree\n",
    "    print('derecha',root.value)\n",
    "    right_sum = evaluateExpressionTree(root.right)\n",
    "    print('right',right_sum)\n",
    "    # check which operation to apply\n",
    "    if root.value == '+':\n",
    "        return left_sum + right_sum\n",
    "     \n",
    "    elif root.value == '-':\n",
    "        return left_sum - right_sum\n",
    "     \n",
    "    elif root.value == '*':\n",
    "        return left_sum * right_sum\n",
    "     \n",
    "    else:\n",
    "        return left_sum / right_sum"
   ]
  },
  {
   "cell_type": "code",
   "execution_count": 40,
   "metadata": {},
   "outputs": [
    {
     "name": "stdout",
     "output_type": "stream",
     "text": [
      "izquierda +\n",
      "left 3\n",
      "derecha +\n",
      "izquierda *\n",
      "izquierda +\n",
      "left 5\n",
      "derecha +\n",
      "right 9\n",
      "left 14\n",
      "derecha *\n",
      "right 2\n",
      "right 28\n"
     ]
    },
    {
     "data": {
      "text/plain": [
       "31"
      ]
     },
     "execution_count": 40,
     "metadata": {},
     "output_type": "execute_result"
    }
   ],
   "source": [
    "evaluateExpressionTree(node1)"
   ]
  },
  {
   "cell_type": "markdown",
   "metadata": {},
   "source": [
    "\n",
    "la version correcta es O(n)"
   ]
  },
  {
   "cell_type": "markdown",
   "metadata": {},
   "source": [
    "# Check balanced\n"
   ]
  },
  {
   "cell_type": "code",
   "execution_count": 41,
   "metadata": {},
   "outputs": [],
   "source": [
    "def diffheight(node):\n",
    "    if node is None:\n",
    "        return 0\n",
    "    else :\n",
    "        # Compute the height of each subtree \n",
    "        lheight = height(node.left)\n",
    "        rheight = height(node.right)\n",
    " \n",
    "       # medir las alturas de cada rama y restarlas\n",
    "        temp=abs(lheight - rheight)\n",
    "        print(temp)\n",
    "        if temp<=1 :\n",
    "            return True\n",
    "       \n",
    "        else:\n",
    "            return False"
   ]
  },
  {
   "cell_type": "code",
   "execution_count": 42,
   "metadata": {},
   "outputs": [
    {
     "name": "stdout",
     "output_type": "stream",
     "text": [
      "2\n"
     ]
    },
    {
     "data": {
      "text/plain": [
       "False"
      ]
     },
     "execution_count": 42,
     "metadata": {},
     "output_type": "execute_result"
    }
   ],
   "source": [
    "diffheight(node1)"
   ]
  },
  {
   "cell_type": "code",
   "execution_count": null,
   "metadata": {},
   "outputs": [],
   "source": []
  },
  {
   "cell_type": "code",
   "execution_count": 43,
   "metadata": {},
   "outputs": [],
   "source": [
    "no5=Node('E')\n",
    "no4=Node('D',no5)\n",
    "no3=Node('C',no4)\n",
    "no2=Node('B')\n",
    "no1=Node('A',no2,no3)"
   ]
  },
  {
   "cell_type": "code",
   "execution_count": 44,
   "metadata": {},
   "outputs": [
    {
     "name": "stdout",
     "output_type": "stream",
     "text": [
      "2\n"
     ]
    },
    {
     "data": {
      "text/plain": [
       "False"
      ]
     },
     "execution_count": 44,
     "metadata": {},
     "output_type": "execute_result"
    }
   ],
   "source": [
    "diffheight(no1)"
   ]
  },
  {
   "cell_type": "code",
   "execution_count": 45,
   "metadata": {},
   "outputs": [],
   "source": [
    "\n",
    "no4=Node('D',)\n",
    "no3=Node('C',no4)\n",
    "no2=Node('B')\n",
    "no1=Node('A',no2,no3)"
   ]
  },
  {
   "cell_type": "code",
   "execution_count": 46,
   "metadata": {},
   "outputs": [
    {
     "name": "stdout",
     "output_type": "stream",
     "text": [
      "1\n"
     ]
    },
    {
     "data": {
      "text/plain": [
       "True"
      ]
     },
     "execution_count": 46,
     "metadata": {},
     "output_type": "execute_result"
    }
   ],
   "source": [
    "diffheight(no1)"
   ]
  },
  {
   "cell_type": "markdown",
   "metadata": {},
   "source": [
    "run time O(n) memoria O(height)"
   ]
  },
  {
   "cell_type": "markdown",
   "metadata": {},
   "source": [
    "# Validate BST"
   ]
  },
  {
   "cell_type": "markdown",
   "metadata": {},
   "source": [
    "## solucion 1"
   ]
  },
  {
   "cell_type": "code",
   "execution_count": 47,
   "metadata": {},
   "outputs": [],
   "source": [
    "n1=Node(3)\n",
    "n2=Node(7)\n",
    "n3=Node(5,n1,n2)\n",
    "n4=Node(17)\n",
    "n5=Node(15,None,n4)\n",
    "n6=Node(10,n3,n5)\n",
    "n7=Node(30)\n",
    "n8=Node(20,n6,n7)"
   ]
  },
  {
   "cell_type": "code",
   "execution_count": 48,
   "metadata": {},
   "outputs": [],
   "source": [
    "# recorre in order el arbol, compara el nodo anterior con el actual, recordando que va recorriendo in order,\n",
    "def checkBST1(root,last_printed=0):\n",
    "    if root is None:\n",
    "        return True\n",
    "    \n",
    "    if not(checkBST1(root.left,last_printed)):\n",
    "        return False\n",
    "    if last_printed!=None and root.value<=last_printed:\n",
    "        return False\n",
    "    last_printed=root.value\n",
    "    \n",
    "    if not(checkBST1(root.right,last_printed)):\n",
    "        return False\n",
    "    \n",
    "    return True"
   ]
  },
  {
   "cell_type": "code",
   "execution_count": 49,
   "metadata": {},
   "outputs": [
    {
     "data": {
      "text/plain": [
       "True"
      ]
     },
     "execution_count": 49,
     "metadata": {},
     "output_type": "execute_result"
    }
   ],
   "source": [
    "\n",
    "\n",
    "checkBST1(n8)"
   ]
  },
  {
   "cell_type": "markdown",
   "metadata": {},
   "source": [
    "## best Solution on book"
   ]
  },
  {
   "cell_type": "code",
   "execution_count": 50,
   "metadata": {},
   "outputs": [],
   "source": [
    "def checkBST2(root):\n",
    "    return BSTHelper(root,None,None)"
   ]
  },
  {
   "cell_type": "code",
   "execution_count": 51,
   "metadata": {},
   "outputs": [],
   "source": [
    "def BSTHelper(root,minimo,maximo):\n",
    "    if root is None:\n",
    "        return True\n",
    "    \n",
    "    if (minimo is not None and root.value<=minimo) or (maximo is not None and root.value>maximo):\n",
    "        return False\n",
    "    \n",
    "    if not(BSTHelper(root.left,minimo,root.value)) :\n",
    "        return False\n",
    "    \n",
    "    if not(BSTHelper(root.right,root.value,maximo)):\n",
    "        return False\n",
    "    \n",
    "    return True"
   ]
  },
  {
   "cell_type": "code",
   "execution_count": 52,
   "metadata": {},
   "outputs": [
    {
     "data": {
      "text/plain": [
       "True"
      ]
     },
     "execution_count": 52,
     "metadata": {},
     "output_type": "execute_result"
    }
   ],
   "source": [
    "checkBST2(n8)"
   ]
  },
  {
   "cell_type": "markdown",
   "metadata": {},
   "source": [
    "## run time O(n) and memory O(log N)"
   ]
  },
  {
   "cell_type": "markdown",
   "metadata": {},
   "source": [
    "# Successor"
   ]
  },
  {
   "cell_type": "markdown",
   "metadata": {},
   "source": [
    "para resolver este caso debemos agregar una propiedad mas a los nodos, una que permita retroceder osea encontrar el padre de cada hoja y nodo si lo tiene"
   ]
  },
  {
   "cell_type": "code",
   "execution_count": 53,
   "metadata": {},
   "outputs": [],
   "source": [
    "class BinaryNode(object):\n",
    "    def __init__(self,value,left=None,right=None,parent=None):\n",
    "        self.value=value\n",
    "        self.left=left\n",
    "        if self.left is not None:\n",
    "            self.left.parent=self\n",
    "        self.right=right\n",
    "        if self.right is not None:\n",
    "            self.right.parent=self\n",
    "        self.parent=parent\n",
    "        "
   ]
  },
  {
   "cell_type": "code",
   "execution_count": 54,
   "metadata": {},
   "outputs": [],
   "source": [
    "def succesorNode(root):\n",
    "    # si el arbol es None regresar None\n",
    "    if root is None:\n",
    "        return None\n",
    "    # si la rama de la derecha no es nula\n",
    "    if root.right is not None:\n",
    "        # como buscamos el sucesor primero revisamos la rama derecha\n",
    "        return leftMostChild(root.right)\n",
    "    else:\n",
    "        # es como fast and slow, para avanzar pero teniendo siempre su nodo padre\n",
    "        q=root\n",
    "        x=q.parent\n",
    "        \n",
    "        while (x is not None and x.left is not q):\n",
    "            q=x\n",
    "            x=x.parent\n",
    "        return x"
   ]
  },
  {
   "cell_type": "code",
   "execution_count": 55,
   "metadata": {},
   "outputs": [],
   "source": [
    "def leftMostChild(root):\n",
    "    # revisar si el nodo es None\n",
    "    if root is None:\n",
    "        return None\n",
    "    # mover hacia la izquierda de los elementos de la derecha\n",
    "    while root.left:\n",
    "        root=root.left\n",
    "        \n",
    "    return root"
   ]
  },
  {
   "cell_type": "code",
   "execution_count": 56,
   "metadata": {},
   "outputs": [],
   "source": [
    "binarySearchTree = BinaryNode(10,BinaryNode(4,BinaryNode(3)), BinaryNode(16,BinaryNode(12, BinaryNode(11),BinaryNode(13,None,BinaryNode(14)))))\n"
   ]
  },
  {
   "cell_type": "code",
   "execution_count": 57,
   "metadata": {},
   "outputs": [],
   "source": [
    "successor = succesorNode(binarySearchTree)"
   ]
  },
  {
   "cell_type": "code",
   "execution_count": 58,
   "metadata": {},
   "outputs": [
    {
     "data": {
      "text/plain": [
       "11"
      ]
     },
     "execution_count": 58,
     "metadata": {},
     "output_type": "execute_result"
    }
   ],
   "source": [
    "successor.value"
   ]
  },
  {
   "cell_type": "markdown",
   "metadata": {},
   "source": [
    "la raiz es 10 por lo tanto su sucesor a la derecha de este arbol deberia de ser el 11, (busca los elementos que sigan de 10)"
   ]
  },
  {
   "cell_type": "markdown",
   "metadata": {},
   "source": [
    "# First Common Ancestor"
   ]
  },
  {
   "cell_type": "code",
   "execution_count": 59,
   "metadata": {},
   "outputs": [],
   "source": [
    "nodoo1=Node(3)\n",
    "nodoo2=Node(7)\n",
    "nodoo3=Node(17)\n",
    "\n",
    "# level\n",
    "nodoo4=Node(5,nodoo1,nodoo2)\n",
    "nodoo5=Node(15,None,nodoo3)\n",
    "#\n",
    "nodoo6=Node(10,nodoo4,nodoo5)\n",
    "nodoo7=Node(30)\n",
    "\n",
    "# root\n",
    "nodoo8=Node(20,nodoo6,nodoo7)\n",
    "\n"
   ]
  },
  {
   "cell_type": "code",
   "execution_count": 60,
   "metadata": {},
   "outputs": [],
   "source": [
    "nd1=Node(8)\n",
    "nd2=Node(5,None,nd1)\n",
    "nd3=Node(1)\n",
    "nd4=Node(3,nd3,nd2)"
   ]
  },
  {
   "cell_type": "code",
   "execution_count": 61,
   "metadata": {},
   "outputs": [],
   "source": [
    "def covers(root,node):\n",
    "    if not root or not node:\n",
    "        return False\n",
    "    if root is node:\n",
    "        return True\n",
    "    return covers(root.left,node) or covers(root.right,node)"
   ]
  },
  {
   "cell_type": "code",
   "execution_count": 62,
   "metadata": {},
   "outputs": [],
   "source": [
    "# solution based on GitHub\n",
    "def firstCommonAncestor(root,node1,node2):\n",
    "    # revisa que no contenta elementos nulos\n",
    "    if not root or not node1 or not node2:\n",
    "        return None\n",
    "    # revisa que los nodos se encuentren en el arbol\n",
    "    elif not covers(root,node1) or not covers(root,node2):\n",
    "        return None\n",
    "    current=root\n",
    "    \n",
    "    while current:\n",
    "        # revisa si el elemento se encuentra a la izquierda de cada nodo\n",
    "        node1_left=covers(current.left,node1)\n",
    "        node2_left=covers(current.left,node2)\n",
    "        \n",
    "        # si se encuentra a la izquierda, y tmabien lo encontro pero no es el mismo elemento, el comun ancestro es el elemento actual\n",
    "        if node1_left is not node2_left:\n",
    "            return current\n",
    "        # si se encontro el nodo a la izquierda del arbol nos movemos a la izquierda\n",
    "        if node1_left:\n",
    "            current=current.left\n",
    "        # si el nodo no esta la izquierda nos movemos a la derecha\n",
    "        else:\n",
    "            current=current.right"
   ]
  },
  {
   "cell_type": "code",
   "execution_count": 63,
   "metadata": {},
   "outputs": [],
   "source": [
    "firstCommonAncestor(nd4,nd2,nd1)"
   ]
  },
  {
   "cell_type": "code",
   "execution_count": null,
   "metadata": {},
   "outputs": [],
   "source": []
  },
  {
   "cell_type": "code",
   "execution_count": 64,
   "metadata": {},
   "outputs": [],
   "source": [
    "resultado=firstCommonAncestor(nodoo8, nodoo2,nodoo3)"
   ]
  },
  {
   "cell_type": "code",
   "execution_count": 65,
   "metadata": {},
   "outputs": [
    {
     "data": {
      "text/plain": [
       "10"
      ]
     },
     "execution_count": 65,
     "metadata": {},
     "output_type": "execute_result"
    }
   ],
   "source": [
    "resultado.value"
   ]
  },
  {
   "cell_type": "markdown",
   "metadata": {},
   "source": [
    "O( n) O (log n)"
   ]
  },
  {
   "cell_type": "code",
   "execution_count": null,
   "metadata": {},
   "outputs": [],
   "source": []
  },
  {
   "cell_type": "markdown",
   "metadata": {},
   "source": [
    "# BST Sequences"
   ]
  },
  {
   "cell_type": "code",
   "execution_count": 66,
   "metadata": {},
   "outputs": [],
   "source": [
    "arbol1=Node(5)\n",
    "arbol2=Node(15)\n",
    "arbol3=Node(65)\n",
    "arbol4=Node(80)\n",
    "####\n",
    "arbol5=Node(10,arbol1,arbol2)\n",
    "arbol6=Node(25)\n",
    "arbol7=Node(70,arbol3,arbol4)\n",
    "####\n",
    "arbol8=Node(20,arbol5,arbol6)\n",
    "arbol9=Node(60,None,arbol7)\n",
    "#####\n",
    "arbol10=Node(50,arbol8,arbol9)"
   ]
  },
  {
   "cell_type": "code",
   "execution_count": 67,
   "metadata": {},
   "outputs": [
    {
     "data": {
      "text/plain": [
       "[20, 10, 5, 15, 25, 50, 60, 70, 65, 80]"
      ]
     },
     "execution_count": 67,
     "metadata": {},
     "output_type": "execute_result"
    }
   ],
   "source": [
    "inO=inOrder(arbol10,[])\n",
    "inO"
   ]
  },
  {
   "cell_type": "code",
   "execution_count": 68,
   "metadata": {},
   "outputs": [
    {
     "data": {
      "text/plain": [
       "[50, 20, 10, 5, 15, 25, 60, 70, 65, 80]"
      ]
     },
     "execution_count": 68,
     "metadata": {},
     "output_type": "execute_result"
    }
   ],
   "source": [
    "preOrder(arbol10,[])"
   ]
  },
  {
   "cell_type": "code",
   "execution_count": 69,
   "metadata": {},
   "outputs": [
    {
     "data": {
      "text/plain": [
       "[20, 10, 5, 15, 25, 60, 70, 65, 80, 50]"
      ]
     },
     "execution_count": 69,
     "metadata": {},
     "output_type": "execute_result"
    }
   ],
   "source": [
    "postOrder(arbol10,[])"
   ]
  },
  {
   "cell_type": "code",
   "execution_count": 70,
   "metadata": {},
   "outputs": [],
   "source": [
    "# dada la secuencia del arreglo, encontrar sus combinaciones validas para crear el bst\n",
    "def bst_sequence_mix(leftSource, rightSources):\n",
    "    # recibe el lado izquierdo y derecho del arbol\n",
    "    # si el lado izquierdo no tiene nada regresa solo el lado derecho\n",
    "    if leftSource is None or len(leftSource) == 0:\n",
    "        return rightSources\n",
    "    \n",
    "    sources = []\n",
    "    #solo busca el primer elemento para anexar el elemento izquierdo\n",
    "    for rightSource in rightSources:\n",
    "        if len(rightSource) == 0:\n",
    "            sources.append(leftSource)\n",
    "            continue\n",
    "            # ya unidos en un solo vector hara combinaciones de estos elementos\n",
    "        for i in range(0, len(leftSource) + 1):\n",
    "            prefix = leftSource[0:i] + [rightSource[0]]\n",
    "            # print('prefix: {0}'.format(prefix))\n",
    "            suffices = bst_sequence_mix(leftSource[i:], [rightSource[1:]])\n",
    "            # print('suffices: {0}'.format(suffices))\n",
    "\n",
    "            for suffix in suffices:\n",
    "                sources.append(prefix + suffix)\n",
    "\n",
    "    return sources\n"
   ]
  },
  {
   "cell_type": "code",
   "execution_count": 71,
   "metadata": {},
   "outputs": [],
   "source": [
    "def get_sequence_arrays(root):\n",
    "    # si no hay nodo regresar matriz vacia\n",
    "    if root is None:\n",
    "        return [[]]\n",
    "    \n",
    "    # funcion recursiva traversal por el orden esto es postorder\n",
    "    left_sources = get_sequence_arrays(root.left)\n",
    "    right_sources = get_sequence_arrays(root.right)\n",
    "    # inicializa un vector o lista\n",
    "    sources = []\n",
    "    \n",
    "    # recorre el lado izquierdo eleemento a elemento\n",
    "    for leftSource in left_sources:\n",
    "        # entrega cada combinacion y la agrega a la matriz\n",
    "        for source in bst_sequence_mix(leftSource, right_sources):\n",
    "            sources.append([root.value] + source)\n",
    "\n",
    "    return sources\n",
    "\n"
   ]
  },
  {
   "cell_type": "code",
   "execution_count": 72,
   "metadata": {},
   "outputs": [
    {
     "data": {
      "text/plain": [
       "[[50, 60, 70, 80, 65, 20, 25, 10, 15, 5],\n",
       " [50, 60, 70, 80, 20, 65, 25, 10, 15, 5],\n",
       " [50, 60, 70, 80, 20, 25, 65, 10, 15, 5],\n",
       " [50, 60, 70, 80, 20, 25, 10, 65, 15, 5],\n",
       " [50, 60, 70, 80, 20, 25, 10, 15, 65, 5],\n",
       " [50, 60, 70, 80, 20, 25, 10, 15, 5, 65],\n",
       " [50, 60, 70, 20, 80, 65, 25, 10, 15, 5],\n",
       " [50, 60, 70, 20, 80, 25, 65, 10, 15, 5],\n",
       " [50, 60, 70, 20, 80, 25, 10, 65, 15, 5],\n",
       " [50, 60, 70, 20, 80, 25, 10, 15, 65, 5],\n",
       " [50, 60, 70, 20, 80, 25, 10, 15, 5, 65],\n",
       " [50, 60, 70, 20, 25, 80, 65, 10, 15, 5],\n",
       " [50, 60, 70, 20, 25, 80, 10, 65, 15, 5],\n",
       " [50, 60, 70, 20, 25, 80, 10, 15, 65, 5],\n",
       " [50, 60, 70, 20, 25, 80, 10, 15, 5, 65],\n",
       " [50, 60, 70, 20, 25, 10, 80, 65, 15, 5],\n",
       " [50, 60, 70, 20, 25, 10, 80, 15, 65, 5],\n",
       " [50, 60, 70, 20, 25, 10, 80, 15, 5, 65],\n",
       " [50, 60, 70, 20, 25, 10, 15, 80, 65, 5],\n",
       " [50, 60, 70, 20, 25, 10, 15, 80, 5, 65],\n",
       " [50, 60, 70, 20, 25, 10, 15, 5, 80, 65],\n",
       " [50, 60, 20, 70, 80, 65, 25, 10, 15, 5],\n",
       " [50, 60, 20, 70, 80, 25, 65, 10, 15, 5],\n",
       " [50, 60, 20, 70, 80, 25, 10, 65, 15, 5],\n",
       " [50, 60, 20, 70, 80, 25, 10, 15, 65, 5],\n",
       " [50, 60, 20, 70, 80, 25, 10, 15, 5, 65],\n",
       " [50, 60, 20, 70, 25, 80, 65, 10, 15, 5],\n",
       " [50, 60, 20, 70, 25, 80, 10, 65, 15, 5],\n",
       " [50, 60, 20, 70, 25, 80, 10, 15, 65, 5],\n",
       " [50, 60, 20, 70, 25, 80, 10, 15, 5, 65],\n",
       " [50, 60, 20, 70, 25, 10, 80, 65, 15, 5],\n",
       " [50, 60, 20, 70, 25, 10, 80, 15, 65, 5],\n",
       " [50, 60, 20, 70, 25, 10, 80, 15, 5, 65],\n",
       " [50, 60, 20, 70, 25, 10, 15, 80, 65, 5],\n",
       " [50, 60, 20, 70, 25, 10, 15, 80, 5, 65],\n",
       " [50, 60, 20, 70, 25, 10, 15, 5, 80, 65],\n",
       " [50, 60, 20, 25, 70, 80, 65, 10, 15, 5],\n",
       " [50, 60, 20, 25, 70, 80, 10, 65, 15, 5],\n",
       " [50, 60, 20, 25, 70, 80, 10, 15, 65, 5],\n",
       " [50, 60, 20, 25, 70, 80, 10, 15, 5, 65],\n",
       " [50, 60, 20, 25, 70, 10, 80, 65, 15, 5],\n",
       " [50, 60, 20, 25, 70, 10, 80, 15, 65, 5],\n",
       " [50, 60, 20, 25, 70, 10, 80, 15, 5, 65],\n",
       " [50, 60, 20, 25, 70, 10, 15, 80, 65, 5],\n",
       " [50, 60, 20, 25, 70, 10, 15, 80, 5, 65],\n",
       " [50, 60, 20, 25, 70, 10, 15, 5, 80, 65],\n",
       " [50, 60, 20, 25, 10, 70, 80, 65, 15, 5],\n",
       " [50, 60, 20, 25, 10, 70, 80, 15, 65, 5],\n",
       " [50, 60, 20, 25, 10, 70, 80, 15, 5, 65],\n",
       " [50, 60, 20, 25, 10, 70, 15, 80, 65, 5],\n",
       " [50, 60, 20, 25, 10, 70, 15, 80, 5, 65],\n",
       " [50, 60, 20, 25, 10, 70, 15, 5, 80, 65],\n",
       " [50, 60, 20, 25, 10, 15, 70, 80, 65, 5],\n",
       " [50, 60, 20, 25, 10, 15, 70, 80, 5, 65],\n",
       " [50, 60, 20, 25, 10, 15, 70, 5, 80, 65],\n",
       " [50, 60, 20, 25, 10, 15, 5, 70, 80, 65],\n",
       " [50, 20, 60, 70, 80, 65, 25, 10, 15, 5],\n",
       " [50, 20, 60, 70, 80, 25, 65, 10, 15, 5],\n",
       " [50, 20, 60, 70, 80, 25, 10, 65, 15, 5],\n",
       " [50, 20, 60, 70, 80, 25, 10, 15, 65, 5],\n",
       " [50, 20, 60, 70, 80, 25, 10, 15, 5, 65],\n",
       " [50, 20, 60, 70, 25, 80, 65, 10, 15, 5],\n",
       " [50, 20, 60, 70, 25, 80, 10, 65, 15, 5],\n",
       " [50, 20, 60, 70, 25, 80, 10, 15, 65, 5],\n",
       " [50, 20, 60, 70, 25, 80, 10, 15, 5, 65],\n",
       " [50, 20, 60, 70, 25, 10, 80, 65, 15, 5],\n",
       " [50, 20, 60, 70, 25, 10, 80, 15, 65, 5],\n",
       " [50, 20, 60, 70, 25, 10, 80, 15, 5, 65],\n",
       " [50, 20, 60, 70, 25, 10, 15, 80, 65, 5],\n",
       " [50, 20, 60, 70, 25, 10, 15, 80, 5, 65],\n",
       " [50, 20, 60, 70, 25, 10, 15, 5, 80, 65],\n",
       " [50, 20, 60, 25, 70, 80, 65, 10, 15, 5],\n",
       " [50, 20, 60, 25, 70, 80, 10, 65, 15, 5],\n",
       " [50, 20, 60, 25, 70, 80, 10, 15, 65, 5],\n",
       " [50, 20, 60, 25, 70, 80, 10, 15, 5, 65],\n",
       " [50, 20, 60, 25, 70, 10, 80, 65, 15, 5],\n",
       " [50, 20, 60, 25, 70, 10, 80, 15, 65, 5],\n",
       " [50, 20, 60, 25, 70, 10, 80, 15, 5, 65],\n",
       " [50, 20, 60, 25, 70, 10, 15, 80, 65, 5],\n",
       " [50, 20, 60, 25, 70, 10, 15, 80, 5, 65],\n",
       " [50, 20, 60, 25, 70, 10, 15, 5, 80, 65],\n",
       " [50, 20, 60, 25, 10, 70, 80, 65, 15, 5],\n",
       " [50, 20, 60, 25, 10, 70, 80, 15, 65, 5],\n",
       " [50, 20, 60, 25, 10, 70, 80, 15, 5, 65],\n",
       " [50, 20, 60, 25, 10, 70, 15, 80, 65, 5],\n",
       " [50, 20, 60, 25, 10, 70, 15, 80, 5, 65],\n",
       " [50, 20, 60, 25, 10, 70, 15, 5, 80, 65],\n",
       " [50, 20, 60, 25, 10, 15, 70, 80, 65, 5],\n",
       " [50, 20, 60, 25, 10, 15, 70, 80, 5, 65],\n",
       " [50, 20, 60, 25, 10, 15, 70, 5, 80, 65],\n",
       " [50, 20, 60, 25, 10, 15, 5, 70, 80, 65],\n",
       " [50, 20, 25, 60, 70, 80, 65, 10, 15, 5],\n",
       " [50, 20, 25, 60, 70, 80, 10, 65, 15, 5],\n",
       " [50, 20, 25, 60, 70, 80, 10, 15, 65, 5],\n",
       " [50, 20, 25, 60, 70, 80, 10, 15, 5, 65],\n",
       " [50, 20, 25, 60, 70, 10, 80, 65, 15, 5],\n",
       " [50, 20, 25, 60, 70, 10, 80, 15, 65, 5],\n",
       " [50, 20, 25, 60, 70, 10, 80, 15, 5, 65],\n",
       " [50, 20, 25, 60, 70, 10, 15, 80, 65, 5],\n",
       " [50, 20, 25, 60, 70, 10, 15, 80, 5, 65],\n",
       " [50, 20, 25, 60, 70, 10, 15, 5, 80, 65],\n",
       " [50, 20, 25, 60, 10, 70, 80, 65, 15, 5],\n",
       " [50, 20, 25, 60, 10, 70, 80, 15, 65, 5],\n",
       " [50, 20, 25, 60, 10, 70, 80, 15, 5, 65],\n",
       " [50, 20, 25, 60, 10, 70, 15, 80, 65, 5],\n",
       " [50, 20, 25, 60, 10, 70, 15, 80, 5, 65],\n",
       " [50, 20, 25, 60, 10, 70, 15, 5, 80, 65],\n",
       " [50, 20, 25, 60, 10, 15, 70, 80, 65, 5],\n",
       " [50, 20, 25, 60, 10, 15, 70, 80, 5, 65],\n",
       " [50, 20, 25, 60, 10, 15, 70, 5, 80, 65],\n",
       " [50, 20, 25, 60, 10, 15, 5, 70, 80, 65],\n",
       " [50, 20, 25, 10, 60, 70, 80, 65, 15, 5],\n",
       " [50, 20, 25, 10, 60, 70, 80, 15, 65, 5],\n",
       " [50, 20, 25, 10, 60, 70, 80, 15, 5, 65],\n",
       " [50, 20, 25, 10, 60, 70, 15, 80, 65, 5],\n",
       " [50, 20, 25, 10, 60, 70, 15, 80, 5, 65],\n",
       " [50, 20, 25, 10, 60, 70, 15, 5, 80, 65],\n",
       " [50, 20, 25, 10, 60, 15, 70, 80, 65, 5],\n",
       " [50, 20, 25, 10, 60, 15, 70, 80, 5, 65],\n",
       " [50, 20, 25, 10, 60, 15, 70, 5, 80, 65],\n",
       " [50, 20, 25, 10, 60, 15, 5, 70, 80, 65],\n",
       " [50, 20, 25, 10, 15, 60, 70, 80, 65, 5],\n",
       " [50, 20, 25, 10, 15, 60, 70, 80, 5, 65],\n",
       " [50, 20, 25, 10, 15, 60, 70, 5, 80, 65],\n",
       " [50, 20, 25, 10, 15, 60, 5, 70, 80, 65],\n",
       " [50, 20, 25, 10, 15, 5, 60, 70, 80, 65],\n",
       " [50, 60, 70, 65, 80, 20, 25, 10, 15, 5],\n",
       " [50, 60, 70, 65, 20, 80, 25, 10, 15, 5],\n",
       " [50, 60, 70, 65, 20, 25, 80, 10, 15, 5],\n",
       " [50, 60, 70, 65, 20, 25, 10, 80, 15, 5],\n",
       " [50, 60, 70, 65, 20, 25, 10, 15, 80, 5],\n",
       " [50, 60, 70, 65, 20, 25, 10, 15, 5, 80],\n",
       " [50, 60, 70, 20, 65, 80, 25, 10, 15, 5],\n",
       " [50, 60, 70, 20, 65, 25, 80, 10, 15, 5],\n",
       " [50, 60, 70, 20, 65, 25, 10, 80, 15, 5],\n",
       " [50, 60, 70, 20, 65, 25, 10, 15, 80, 5],\n",
       " [50, 60, 70, 20, 65, 25, 10, 15, 5, 80],\n",
       " [50, 60, 70, 20, 25, 65, 80, 10, 15, 5],\n",
       " [50, 60, 70, 20, 25, 65, 10, 80, 15, 5],\n",
       " [50, 60, 70, 20, 25, 65, 10, 15, 80, 5],\n",
       " [50, 60, 70, 20, 25, 65, 10, 15, 5, 80],\n",
       " [50, 60, 70, 20, 25, 10, 65, 80, 15, 5],\n",
       " [50, 60, 70, 20, 25, 10, 65, 15, 80, 5],\n",
       " [50, 60, 70, 20, 25, 10, 65, 15, 5, 80],\n",
       " [50, 60, 70, 20, 25, 10, 15, 65, 80, 5],\n",
       " [50, 60, 70, 20, 25, 10, 15, 65, 5, 80],\n",
       " [50, 60, 70, 20, 25, 10, 15, 5, 65, 80],\n",
       " [50, 60, 20, 70, 65, 80, 25, 10, 15, 5],\n",
       " [50, 60, 20, 70, 65, 25, 80, 10, 15, 5],\n",
       " [50, 60, 20, 70, 65, 25, 10, 80, 15, 5],\n",
       " [50, 60, 20, 70, 65, 25, 10, 15, 80, 5],\n",
       " [50, 60, 20, 70, 65, 25, 10, 15, 5, 80],\n",
       " [50, 60, 20, 70, 25, 65, 80, 10, 15, 5],\n",
       " [50, 60, 20, 70, 25, 65, 10, 80, 15, 5],\n",
       " [50, 60, 20, 70, 25, 65, 10, 15, 80, 5],\n",
       " [50, 60, 20, 70, 25, 65, 10, 15, 5, 80],\n",
       " [50, 60, 20, 70, 25, 10, 65, 80, 15, 5],\n",
       " [50, 60, 20, 70, 25, 10, 65, 15, 80, 5],\n",
       " [50, 60, 20, 70, 25, 10, 65, 15, 5, 80],\n",
       " [50, 60, 20, 70, 25, 10, 15, 65, 80, 5],\n",
       " [50, 60, 20, 70, 25, 10, 15, 65, 5, 80],\n",
       " [50, 60, 20, 70, 25, 10, 15, 5, 65, 80],\n",
       " [50, 60, 20, 25, 70, 65, 80, 10, 15, 5],\n",
       " [50, 60, 20, 25, 70, 65, 10, 80, 15, 5],\n",
       " [50, 60, 20, 25, 70, 65, 10, 15, 80, 5],\n",
       " [50, 60, 20, 25, 70, 65, 10, 15, 5, 80],\n",
       " [50, 60, 20, 25, 70, 10, 65, 80, 15, 5],\n",
       " [50, 60, 20, 25, 70, 10, 65, 15, 80, 5],\n",
       " [50, 60, 20, 25, 70, 10, 65, 15, 5, 80],\n",
       " [50, 60, 20, 25, 70, 10, 15, 65, 80, 5],\n",
       " [50, 60, 20, 25, 70, 10, 15, 65, 5, 80],\n",
       " [50, 60, 20, 25, 70, 10, 15, 5, 65, 80],\n",
       " [50, 60, 20, 25, 10, 70, 65, 80, 15, 5],\n",
       " [50, 60, 20, 25, 10, 70, 65, 15, 80, 5],\n",
       " [50, 60, 20, 25, 10, 70, 65, 15, 5, 80],\n",
       " [50, 60, 20, 25, 10, 70, 15, 65, 80, 5],\n",
       " [50, 60, 20, 25, 10, 70, 15, 65, 5, 80],\n",
       " [50, 60, 20, 25, 10, 70, 15, 5, 65, 80],\n",
       " [50, 60, 20, 25, 10, 15, 70, 65, 80, 5],\n",
       " [50, 60, 20, 25, 10, 15, 70, 65, 5, 80],\n",
       " [50, 60, 20, 25, 10, 15, 70, 5, 65, 80],\n",
       " [50, 60, 20, 25, 10, 15, 5, 70, 65, 80],\n",
       " [50, 20, 60, 70, 65, 80, 25, 10, 15, 5],\n",
       " [50, 20, 60, 70, 65, 25, 80, 10, 15, 5],\n",
       " [50, 20, 60, 70, 65, 25, 10, 80, 15, 5],\n",
       " [50, 20, 60, 70, 65, 25, 10, 15, 80, 5],\n",
       " [50, 20, 60, 70, 65, 25, 10, 15, 5, 80],\n",
       " [50, 20, 60, 70, 25, 65, 80, 10, 15, 5],\n",
       " [50, 20, 60, 70, 25, 65, 10, 80, 15, 5],\n",
       " [50, 20, 60, 70, 25, 65, 10, 15, 80, 5],\n",
       " [50, 20, 60, 70, 25, 65, 10, 15, 5, 80],\n",
       " [50, 20, 60, 70, 25, 10, 65, 80, 15, 5],\n",
       " [50, 20, 60, 70, 25, 10, 65, 15, 80, 5],\n",
       " [50, 20, 60, 70, 25, 10, 65, 15, 5, 80],\n",
       " [50, 20, 60, 70, 25, 10, 15, 65, 80, 5],\n",
       " [50, 20, 60, 70, 25, 10, 15, 65, 5, 80],\n",
       " [50, 20, 60, 70, 25, 10, 15, 5, 65, 80],\n",
       " [50, 20, 60, 25, 70, 65, 80, 10, 15, 5],\n",
       " [50, 20, 60, 25, 70, 65, 10, 80, 15, 5],\n",
       " [50, 20, 60, 25, 70, 65, 10, 15, 80, 5],\n",
       " [50, 20, 60, 25, 70, 65, 10, 15, 5, 80],\n",
       " [50, 20, 60, 25, 70, 10, 65, 80, 15, 5],\n",
       " [50, 20, 60, 25, 70, 10, 65, 15, 80, 5],\n",
       " [50, 20, 60, 25, 70, 10, 65, 15, 5, 80],\n",
       " [50, 20, 60, 25, 70, 10, 15, 65, 80, 5],\n",
       " [50, 20, 60, 25, 70, 10, 15, 65, 5, 80],\n",
       " [50, 20, 60, 25, 70, 10, 15, 5, 65, 80],\n",
       " [50, 20, 60, 25, 10, 70, 65, 80, 15, 5],\n",
       " [50, 20, 60, 25, 10, 70, 65, 15, 80, 5],\n",
       " [50, 20, 60, 25, 10, 70, 65, 15, 5, 80],\n",
       " [50, 20, 60, 25, 10, 70, 15, 65, 80, 5],\n",
       " [50, 20, 60, 25, 10, 70, 15, 65, 5, 80],\n",
       " [50, 20, 60, 25, 10, 70, 15, 5, 65, 80],\n",
       " [50, 20, 60, 25, 10, 15, 70, 65, 80, 5],\n",
       " [50, 20, 60, 25, 10, 15, 70, 65, 5, 80],\n",
       " [50, 20, 60, 25, 10, 15, 70, 5, 65, 80],\n",
       " [50, 20, 60, 25, 10, 15, 5, 70, 65, 80],\n",
       " [50, 20, 25, 60, 70, 65, 80, 10, 15, 5],\n",
       " [50, 20, 25, 60, 70, 65, 10, 80, 15, 5],\n",
       " [50, 20, 25, 60, 70, 65, 10, 15, 80, 5],\n",
       " [50, 20, 25, 60, 70, 65, 10, 15, 5, 80],\n",
       " [50, 20, 25, 60, 70, 10, 65, 80, 15, 5],\n",
       " [50, 20, 25, 60, 70, 10, 65, 15, 80, 5],\n",
       " [50, 20, 25, 60, 70, 10, 65, 15, 5, 80],\n",
       " [50, 20, 25, 60, 70, 10, 15, 65, 80, 5],\n",
       " [50, 20, 25, 60, 70, 10, 15, 65, 5, 80],\n",
       " [50, 20, 25, 60, 70, 10, 15, 5, 65, 80],\n",
       " [50, 20, 25, 60, 10, 70, 65, 80, 15, 5],\n",
       " [50, 20, 25, 60, 10, 70, 65, 15, 80, 5],\n",
       " [50, 20, 25, 60, 10, 70, 65, 15, 5, 80],\n",
       " [50, 20, 25, 60, 10, 70, 15, 65, 80, 5],\n",
       " [50, 20, 25, 60, 10, 70, 15, 65, 5, 80],\n",
       " [50, 20, 25, 60, 10, 70, 15, 5, 65, 80],\n",
       " [50, 20, 25, 60, 10, 15, 70, 65, 80, 5],\n",
       " [50, 20, 25, 60, 10, 15, 70, 65, 5, 80],\n",
       " [50, 20, 25, 60, 10, 15, 70, 5, 65, 80],\n",
       " [50, 20, 25, 60, 10, 15, 5, 70, 65, 80],\n",
       " [50, 20, 25, 10, 60, 70, 65, 80, 15, 5],\n",
       " [50, 20, 25, 10, 60, 70, 65, 15, 80, 5],\n",
       " [50, 20, 25, 10, 60, 70, 65, 15, 5, 80],\n",
       " [50, 20, 25, 10, 60, 70, 15, 65, 80, 5],\n",
       " [50, 20, 25, 10, 60, 70, 15, 65, 5, 80],\n",
       " [50, 20, 25, 10, 60, 70, 15, 5, 65, 80],\n",
       " [50, 20, 25, 10, 60, 15, 70, 65, 80, 5],\n",
       " [50, 20, 25, 10, 60, 15, 70, 65, 5, 80],\n",
       " [50, 20, 25, 10, 60, 15, 70, 5, 65, 80],\n",
       " [50, 20, 25, 10, 60, 15, 5, 70, 65, 80],\n",
       " [50, 20, 25, 10, 15, 60, 70, 65, 80, 5],\n",
       " [50, 20, 25, 10, 15, 60, 70, 65, 5, 80],\n",
       " [50, 20, 25, 10, 15, 60, 70, 5, 65, 80],\n",
       " [50, 20, 25, 10, 15, 60, 5, 70, 65, 80],\n",
       " [50, 20, 25, 10, 15, 5, 60, 70, 65, 80],\n",
       " [50, 60, 70, 80, 65, 20, 10, 25, 15, 5],\n",
       " [50, 60, 70, 80, 20, 65, 10, 25, 15, 5],\n",
       " [50, 60, 70, 80, 20, 10, 65, 25, 15, 5],\n",
       " [50, 60, 70, 80, 20, 10, 25, 65, 15, 5],\n",
       " [50, 60, 70, 80, 20, 10, 25, 15, 65, 5],\n",
       " [50, 60, 70, 80, 20, 10, 25, 15, 5, 65],\n",
       " [50, 60, 70, 20, 80, 65, 10, 25, 15, 5],\n",
       " [50, 60, 70, 20, 80, 10, 65, 25, 15, 5],\n",
       " [50, 60, 70, 20, 80, 10, 25, 65, 15, 5],\n",
       " [50, 60, 70, 20, 80, 10, 25, 15, 65, 5],\n",
       " [50, 60, 70, 20, 80, 10, 25, 15, 5, 65],\n",
       " [50, 60, 70, 20, 10, 80, 65, 25, 15, 5],\n",
       " [50, 60, 70, 20, 10, 80, 25, 65, 15, 5],\n",
       " [50, 60, 70, 20, 10, 80, 25, 15, 65, 5],\n",
       " [50, 60, 70, 20, 10, 80, 25, 15, 5, 65],\n",
       " [50, 60, 70, 20, 10, 25, 80, 65, 15, 5],\n",
       " [50, 60, 70, 20, 10, 25, 80, 15, 65, 5],\n",
       " [50, 60, 70, 20, 10, 25, 80, 15, 5, 65],\n",
       " [50, 60, 70, 20, 10, 25, 15, 80, 65, 5],\n",
       " [50, 60, 70, 20, 10, 25, 15, 80, 5, 65],\n",
       " [50, 60, 70, 20, 10, 25, 15, 5, 80, 65],\n",
       " [50, 60, 20, 70, 80, 65, 10, 25, 15, 5],\n",
       " [50, 60, 20, 70, 80, 10, 65, 25, 15, 5],\n",
       " [50, 60, 20, 70, 80, 10, 25, 65, 15, 5],\n",
       " [50, 60, 20, 70, 80, 10, 25, 15, 65, 5],\n",
       " [50, 60, 20, 70, 80, 10, 25, 15, 5, 65],\n",
       " [50, 60, 20, 70, 10, 80, 65, 25, 15, 5],\n",
       " [50, 60, 20, 70, 10, 80, 25, 65, 15, 5],\n",
       " [50, 60, 20, 70, 10, 80, 25, 15, 65, 5],\n",
       " [50, 60, 20, 70, 10, 80, 25, 15, 5, 65],\n",
       " [50, 60, 20, 70, 10, 25, 80, 65, 15, 5],\n",
       " [50, 60, 20, 70, 10, 25, 80, 15, 65, 5],\n",
       " [50, 60, 20, 70, 10, 25, 80, 15, 5, 65],\n",
       " [50, 60, 20, 70, 10, 25, 15, 80, 65, 5],\n",
       " [50, 60, 20, 70, 10, 25, 15, 80, 5, 65],\n",
       " [50, 60, 20, 70, 10, 25, 15, 5, 80, 65],\n",
       " [50, 60, 20, 10, 70, 80, 65, 25, 15, 5],\n",
       " [50, 60, 20, 10, 70, 80, 25, 65, 15, 5],\n",
       " [50, 60, 20, 10, 70, 80, 25, 15, 65, 5],\n",
       " [50, 60, 20, 10, 70, 80, 25, 15, 5, 65],\n",
       " [50, 60, 20, 10, 70, 25, 80, 65, 15, 5],\n",
       " [50, 60, 20, 10, 70, 25, 80, 15, 65, 5],\n",
       " [50, 60, 20, 10, 70, 25, 80, 15, 5, 65],\n",
       " [50, 60, 20, 10, 70, 25, 15, 80, 65, 5],\n",
       " [50, 60, 20, 10, 70, 25, 15, 80, 5, 65],\n",
       " [50, 60, 20, 10, 70, 25, 15, 5, 80, 65],\n",
       " [50, 60, 20, 10, 25, 70, 80, 65, 15, 5],\n",
       " [50, 60, 20, 10, 25, 70, 80, 15, 65, 5],\n",
       " [50, 60, 20, 10, 25, 70, 80, 15, 5, 65],\n",
       " [50, 60, 20, 10, 25, 70, 15, 80, 65, 5],\n",
       " [50, 60, 20, 10, 25, 70, 15, 80, 5, 65],\n",
       " [50, 60, 20, 10, 25, 70, 15, 5, 80, 65],\n",
       " [50, 60, 20, 10, 25, 15, 70, 80, 65, 5],\n",
       " [50, 60, 20, 10, 25, 15, 70, 80, 5, 65],\n",
       " [50, 60, 20, 10, 25, 15, 70, 5, 80, 65],\n",
       " [50, 60, 20, 10, 25, 15, 5, 70, 80, 65],\n",
       " [50, 20, 60, 70, 80, 65, 10, 25, 15, 5],\n",
       " [50, 20, 60, 70, 80, 10, 65, 25, 15, 5],\n",
       " [50, 20, 60, 70, 80, 10, 25, 65, 15, 5],\n",
       " [50, 20, 60, 70, 80, 10, 25, 15, 65, 5],\n",
       " [50, 20, 60, 70, 80, 10, 25, 15, 5, 65],\n",
       " [50, 20, 60, 70, 10, 80, 65, 25, 15, 5],\n",
       " [50, 20, 60, 70, 10, 80, 25, 65, 15, 5],\n",
       " [50, 20, 60, 70, 10, 80, 25, 15, 65, 5],\n",
       " [50, 20, 60, 70, 10, 80, 25, 15, 5, 65],\n",
       " [50, 20, 60, 70, 10, 25, 80, 65, 15, 5],\n",
       " [50, 20, 60, 70, 10, 25, 80, 15, 65, 5],\n",
       " [50, 20, 60, 70, 10, 25, 80, 15, 5, 65],\n",
       " [50, 20, 60, 70, 10, 25, 15, 80, 65, 5],\n",
       " [50, 20, 60, 70, 10, 25, 15, 80, 5, 65],\n",
       " [50, 20, 60, 70, 10, 25, 15, 5, 80, 65],\n",
       " [50, 20, 60, 10, 70, 80, 65, 25, 15, 5],\n",
       " [50, 20, 60, 10, 70, 80, 25, 65, 15, 5],\n",
       " [50, 20, 60, 10, 70, 80, 25, 15, 65, 5],\n",
       " [50, 20, 60, 10, 70, 80, 25, 15, 5, 65],\n",
       " [50, 20, 60, 10, 70, 25, 80, 65, 15, 5],\n",
       " [50, 20, 60, 10, 70, 25, 80, 15, 65, 5],\n",
       " [50, 20, 60, 10, 70, 25, 80, 15, 5, 65],\n",
       " [50, 20, 60, 10, 70, 25, 15, 80, 65, 5],\n",
       " [50, 20, 60, 10, 70, 25, 15, 80, 5, 65],\n",
       " [50, 20, 60, 10, 70, 25, 15, 5, 80, 65],\n",
       " [50, 20, 60, 10, 25, 70, 80, 65, 15, 5],\n",
       " [50, 20, 60, 10, 25, 70, 80, 15, 65, 5],\n",
       " [50, 20, 60, 10, 25, 70, 80, 15, 5, 65],\n",
       " [50, 20, 60, 10, 25, 70, 15, 80, 65, 5],\n",
       " [50, 20, 60, 10, 25, 70, 15, 80, 5, 65],\n",
       " [50, 20, 60, 10, 25, 70, 15, 5, 80, 65],\n",
       " [50, 20, 60, 10, 25, 15, 70, 80, 65, 5],\n",
       " [50, 20, 60, 10, 25, 15, 70, 80, 5, 65],\n",
       " [50, 20, 60, 10, 25, 15, 70, 5, 80, 65],\n",
       " [50, 20, 60, 10, 25, 15, 5, 70, 80, 65],\n",
       " [50, 20, 10, 60, 70, 80, 65, 25, 15, 5],\n",
       " [50, 20, 10, 60, 70, 80, 25, 65, 15, 5],\n",
       " [50, 20, 10, 60, 70, 80, 25, 15, 65, 5],\n",
       " [50, 20, 10, 60, 70, 80, 25, 15, 5, 65],\n",
       " [50, 20, 10, 60, 70, 25, 80, 65, 15, 5],\n",
       " [50, 20, 10, 60, 70, 25, 80, 15, 65, 5],\n",
       " [50, 20, 10, 60, 70, 25, 80, 15, 5, 65],\n",
       " [50, 20, 10, 60, 70, 25, 15, 80, 65, 5],\n",
       " [50, 20, 10, 60, 70, 25, 15, 80, 5, 65],\n",
       " [50, 20, 10, 60, 70, 25, 15, 5, 80, 65],\n",
       " [50, 20, 10, 60, 25, 70, 80, 65, 15, 5],\n",
       " [50, 20, 10, 60, 25, 70, 80, 15, 65, 5],\n",
       " [50, 20, 10, 60, 25, 70, 80, 15, 5, 65],\n",
       " [50, 20, 10, 60, 25, 70, 15, 80, 65, 5],\n",
       " [50, 20, 10, 60, 25, 70, 15, 80, 5, 65],\n",
       " [50, 20, 10, 60, 25, 70, 15, 5, 80, 65],\n",
       " [50, 20, 10, 60, 25, 15, 70, 80, 65, 5],\n",
       " [50, 20, 10, 60, 25, 15, 70, 80, 5, 65],\n",
       " [50, 20, 10, 60, 25, 15, 70, 5, 80, 65],\n",
       " [50, 20, 10, 60, 25, 15, 5, 70, 80, 65],\n",
       " [50, 20, 10, 25, 60, 70, 80, 65, 15, 5],\n",
       " [50, 20, 10, 25, 60, 70, 80, 15, 65, 5],\n",
       " [50, 20, 10, 25, 60, 70, 80, 15, 5, 65],\n",
       " [50, 20, 10, 25, 60, 70, 15, 80, 65, 5],\n",
       " [50, 20, 10, 25, 60, 70, 15, 80, 5, 65],\n",
       " [50, 20, 10, 25, 60, 70, 15, 5, 80, 65],\n",
       " [50, 20, 10, 25, 60, 15, 70, 80, 65, 5],\n",
       " [50, 20, 10, 25, 60, 15, 70, 80, 5, 65],\n",
       " [50, 20, 10, 25, 60, 15, 70, 5, 80, 65],\n",
       " [50, 20, 10, 25, 60, 15, 5, 70, 80, 65],\n",
       " [50, 20, 10, 25, 15, 60, 70, 80, 65, 5],\n",
       " [50, 20, 10, 25, 15, 60, 70, 80, 5, 65],\n",
       " [50, 20, 10, 25, 15, 60, 70, 5, 80, 65],\n",
       " [50, 20, 10, 25, 15, 60, 5, 70, 80, 65],\n",
       " [50, 20, 10, 25, 15, 5, 60, 70, 80, 65],\n",
       " [50, 60, 70, 65, 80, 20, 10, 25, 15, 5],\n",
       " [50, 60, 70, 65, 20, 80, 10, 25, 15, 5],\n",
       " [50, 60, 70, 65, 20, 10, 80, 25, 15, 5],\n",
       " [50, 60, 70, 65, 20, 10, 25, 80, 15, 5],\n",
       " [50, 60, 70, 65, 20, 10, 25, 15, 80, 5],\n",
       " [50, 60, 70, 65, 20, 10, 25, 15, 5, 80],\n",
       " [50, 60, 70, 20, 65, 80, 10, 25, 15, 5],\n",
       " [50, 60, 70, 20, 65, 10, 80, 25, 15, 5],\n",
       " [50, 60, 70, 20, 65, 10, 25, 80, 15, 5],\n",
       " [50, 60, 70, 20, 65, 10, 25, 15, 80, 5],\n",
       " [50, 60, 70, 20, 65, 10, 25, 15, 5, 80],\n",
       " [50, 60, 70, 20, 10, 65, 80, 25, 15, 5],\n",
       " [50, 60, 70, 20, 10, 65, 25, 80, 15, 5],\n",
       " [50, 60, 70, 20, 10, 65, 25, 15, 80, 5],\n",
       " [50, 60, 70, 20, 10, 65, 25, 15, 5, 80],\n",
       " [50, 60, 70, 20, 10, 25, 65, 80, 15, 5],\n",
       " [50, 60, 70, 20, 10, 25, 65, 15, 80, 5],\n",
       " [50, 60, 70, 20, 10, 25, 65, 15, 5, 80],\n",
       " [50, 60, 70, 20, 10, 25, 15, 65, 80, 5],\n",
       " [50, 60, 70, 20, 10, 25, 15, 65, 5, 80],\n",
       " [50, 60, 70, 20, 10, 25, 15, 5, 65, 80],\n",
       " [50, 60, 20, 70, 65, 80, 10, 25, 15, 5],\n",
       " [50, 60, 20, 70, 65, 10, 80, 25, 15, 5],\n",
       " [50, 60, 20, 70, 65, 10, 25, 80, 15, 5],\n",
       " [50, 60, 20, 70, 65, 10, 25, 15, 80, 5],\n",
       " [50, 60, 20, 70, 65, 10, 25, 15, 5, 80],\n",
       " [50, 60, 20, 70, 10, 65, 80, 25, 15, 5],\n",
       " [50, 60, 20, 70, 10, 65, 25, 80, 15, 5],\n",
       " [50, 60, 20, 70, 10, 65, 25, 15, 80, 5],\n",
       " [50, 60, 20, 70, 10, 65, 25, 15, 5, 80],\n",
       " [50, 60, 20, 70, 10, 25, 65, 80, 15, 5],\n",
       " [50, 60, 20, 70, 10, 25, 65, 15, 80, 5],\n",
       " [50, 60, 20, 70, 10, 25, 65, 15, 5, 80],\n",
       " [50, 60, 20, 70, 10, 25, 15, 65, 80, 5],\n",
       " [50, 60, 20, 70, 10, 25, 15, 65, 5, 80],\n",
       " [50, 60, 20, 70, 10, 25, 15, 5, 65, 80],\n",
       " [50, 60, 20, 10, 70, 65, 80, 25, 15, 5],\n",
       " [50, 60, 20, 10, 70, 65, 25, 80, 15, 5],\n",
       " [50, 60, 20, 10, 70, 65, 25, 15, 80, 5],\n",
       " [50, 60, 20, 10, 70, 65, 25, 15, 5, 80],\n",
       " [50, 60, 20, 10, 70, 25, 65, 80, 15, 5],\n",
       " [50, 60, 20, 10, 70, 25, 65, 15, 80, 5],\n",
       " [50, 60, 20, 10, 70, 25, 65, 15, 5, 80],\n",
       " [50, 60, 20, 10, 70, 25, 15, 65, 80, 5],\n",
       " [50, 60, 20, 10, 70, 25, 15, 65, 5, 80],\n",
       " [50, 60, 20, 10, 70, 25, 15, 5, 65, 80],\n",
       " [50, 60, 20, 10, 25, 70, 65, 80, 15, 5],\n",
       " [50, 60, 20, 10, 25, 70, 65, 15, 80, 5],\n",
       " [50, 60, 20, 10, 25, 70, 65, 15, 5, 80],\n",
       " [50, 60, 20, 10, 25, 70, 15, 65, 80, 5],\n",
       " [50, 60, 20, 10, 25, 70, 15, 65, 5, 80],\n",
       " [50, 60, 20, 10, 25, 70, 15, 5, 65, 80],\n",
       " [50, 60, 20, 10, 25, 15, 70, 65, 80, 5],\n",
       " [50, 60, 20, 10, 25, 15, 70, 65, 5, 80],\n",
       " [50, 60, 20, 10, 25, 15, 70, 5, 65, 80],\n",
       " [50, 60, 20, 10, 25, 15, 5, 70, 65, 80],\n",
       " [50, 20, 60, 70, 65, 80, 10, 25, 15, 5],\n",
       " [50, 20, 60, 70, 65, 10, 80, 25, 15, 5],\n",
       " [50, 20, 60, 70, 65, 10, 25, 80, 15, 5],\n",
       " [50, 20, 60, 70, 65, 10, 25, 15, 80, 5],\n",
       " [50, 20, 60, 70, 65, 10, 25, 15, 5, 80],\n",
       " [50, 20, 60, 70, 10, 65, 80, 25, 15, 5],\n",
       " [50, 20, 60, 70, 10, 65, 25, 80, 15, 5],\n",
       " [50, 20, 60, 70, 10, 65, 25, 15, 80, 5],\n",
       " [50, 20, 60, 70, 10, 65, 25, 15, 5, 80],\n",
       " [50, 20, 60, 70, 10, 25, 65, 80, 15, 5],\n",
       " [50, 20, 60, 70, 10, 25, 65, 15, 80, 5],\n",
       " [50, 20, 60, 70, 10, 25, 65, 15, 5, 80],\n",
       " [50, 20, 60, 70, 10, 25, 15, 65, 80, 5],\n",
       " [50, 20, 60, 70, 10, 25, 15, 65, 5, 80],\n",
       " [50, 20, 60, 70, 10, 25, 15, 5, 65, 80],\n",
       " [50, 20, 60, 10, 70, 65, 80, 25, 15, 5],\n",
       " [50, 20, 60, 10, 70, 65, 25, 80, 15, 5],\n",
       " [50, 20, 60, 10, 70, 65, 25, 15, 80, 5],\n",
       " [50, 20, 60, 10, 70, 65, 25, 15, 5, 80],\n",
       " [50, 20, 60, 10, 70, 25, 65, 80, 15, 5],\n",
       " [50, 20, 60, 10, 70, 25, 65, 15, 80, 5],\n",
       " [50, 20, 60, 10, 70, 25, 65, 15, 5, 80],\n",
       " [50, 20, 60, 10, 70, 25, 15, 65, 80, 5],\n",
       " [50, 20, 60, 10, 70, 25, 15, 65, 5, 80],\n",
       " [50, 20, 60, 10, 70, 25, 15, 5, 65, 80],\n",
       " [50, 20, 60, 10, 25, 70, 65, 80, 15, 5],\n",
       " [50, 20, 60, 10, 25, 70, 65, 15, 80, 5],\n",
       " [50, 20, 60, 10, 25, 70, 65, 15, 5, 80],\n",
       " [50, 20, 60, 10, 25, 70, 15, 65, 80, 5],\n",
       " [50, 20, 60, 10, 25, 70, 15, 65, 5, 80],\n",
       " [50, 20, 60, 10, 25, 70, 15, 5, 65, 80],\n",
       " [50, 20, 60, 10, 25, 15, 70, 65, 80, 5],\n",
       " [50, 20, 60, 10, 25, 15, 70, 65, 5, 80],\n",
       " [50, 20, 60, 10, 25, 15, 70, 5, 65, 80],\n",
       " [50, 20, 60, 10, 25, 15, 5, 70, 65, 80],\n",
       " [50, 20, 10, 60, 70, 65, 80, 25, 15, 5],\n",
       " [50, 20, 10, 60, 70, 65, 25, 80, 15, 5],\n",
       " [50, 20, 10, 60, 70, 65, 25, 15, 80, 5],\n",
       " [50, 20, 10, 60, 70, 65, 25, 15, 5, 80],\n",
       " [50, 20, 10, 60, 70, 25, 65, 80, 15, 5],\n",
       " [50, 20, 10, 60, 70, 25, 65, 15, 80, 5],\n",
       " [50, 20, 10, 60, 70, 25, 65, 15, 5, 80],\n",
       " [50, 20, 10, 60, 70, 25, 15, 65, 80, 5],\n",
       " [50, 20, 10, 60, 70, 25, 15, 65, 5, 80],\n",
       " [50, 20, 10, 60, 70, 25, 15, 5, 65, 80],\n",
       " [50, 20, 10, 60, 25, 70, 65, 80, 15, 5],\n",
       " [50, 20, 10, 60, 25, 70, 65, 15, 80, 5],\n",
       " [50, 20, 10, 60, 25, 70, 65, 15, 5, 80],\n",
       " [50, 20, 10, 60, 25, 70, 15, 65, 80, 5],\n",
       " [50, 20, 10, 60, 25, 70, 15, 65, 5, 80],\n",
       " [50, 20, 10, 60, 25, 70, 15, 5, 65, 80],\n",
       " [50, 20, 10, 60, 25, 15, 70, 65, 80, 5],\n",
       " [50, 20, 10, 60, 25, 15, 70, 65, 5, 80],\n",
       " [50, 20, 10, 60, 25, 15, 70, 5, 65, 80],\n",
       " [50, 20, 10, 60, 25, 15, 5, 70, 65, 80],\n",
       " [50, 20, 10, 25, 60, 70, 65, 80, 15, 5],\n",
       " [50, 20, 10, 25, 60, 70, 65, 15, 80, 5],\n",
       " [50, 20, 10, 25, 60, 70, 65, 15, 5, 80],\n",
       " [50, 20, 10, 25, 60, 70, 15, 65, 80, 5],\n",
       " [50, 20, 10, 25, 60, 70, 15, 65, 5, 80],\n",
       " [50, 20, 10, 25, 60, 70, 15, 5, 65, 80],\n",
       " [50, 20, 10, 25, 60, 15, 70, 65, 80, 5],\n",
       " [50, 20, 10, 25, 60, 15, 70, 65, 5, 80],\n",
       " [50, 20, 10, 25, 60, 15, 70, 5, 65, 80],\n",
       " [50, 20, 10, 25, 60, 15, 5, 70, 65, 80],\n",
       " [50, 20, 10, 25, 15, 60, 70, 65, 80, 5],\n",
       " [50, 20, 10, 25, 15, 60, 70, 65, 5, 80],\n",
       " [50, 20, 10, 25, 15, 60, 70, 5, 65, 80],\n",
       " [50, 20, 10, 25, 15, 60, 5, 70, 65, 80],\n",
       " [50, 20, 10, 25, 15, 5, 60, 70, 65, 80],\n",
       " [50, 60, 70, 80, 65, 20, 10, 15, 25, 5],\n",
       " [50, 60, 70, 80, 20, 65, 10, 15, 25, 5],\n",
       " [50, 60, 70, 80, 20, 10, 65, 15, 25, 5],\n",
       " [50, 60, 70, 80, 20, 10, 15, 65, 25, 5],\n",
       " [50, 60, 70, 80, 20, 10, 15, 25, 65, 5],\n",
       " [50, 60, 70, 80, 20, 10, 15, 25, 5, 65],\n",
       " [50, 60, 70, 20, 80, 65, 10, 15, 25, 5],\n",
       " [50, 60, 70, 20, 80, 10, 65, 15, 25, 5],\n",
       " [50, 60, 70, 20, 80, 10, 15, 65, 25, 5],\n",
       " [50, 60, 70, 20, 80, 10, 15, 25, 65, 5],\n",
       " [50, 60, 70, 20, 80, 10, 15, 25, 5, 65],\n",
       " [50, 60, 70, 20, 10, 80, 65, 15, 25, 5],\n",
       " [50, 60, 70, 20, 10, 80, 15, 65, 25, 5],\n",
       " [50, 60, 70, 20, 10, 80, 15, 25, 65, 5],\n",
       " [50, 60, 70, 20, 10, 80, 15, 25, 5, 65],\n",
       " [50, 60, 70, 20, 10, 15, 80, 65, 25, 5],\n",
       " [50, 60, 70, 20, 10, 15, 80, 25, 65, 5],\n",
       " [50, 60, 70, 20, 10, 15, 80, 25, 5, 65],\n",
       " [50, 60, 70, 20, 10, 15, 25, 80, 65, 5],\n",
       " [50, 60, 70, 20, 10, 15, 25, 80, 5, 65],\n",
       " [50, 60, 70, 20, 10, 15, 25, 5, 80, 65],\n",
       " [50, 60, 20, 70, 80, 65, 10, 15, 25, 5],\n",
       " [50, 60, 20, 70, 80, 10, 65, 15, 25, 5],\n",
       " [50, 60, 20, 70, 80, 10, 15, 65, 25, 5],\n",
       " [50, 60, 20, 70, 80, 10, 15, 25, 65, 5],\n",
       " [50, 60, 20, 70, 80, 10, 15, 25, 5, 65],\n",
       " [50, 60, 20, 70, 10, 80, 65, 15, 25, 5],\n",
       " [50, 60, 20, 70, 10, 80, 15, 65, 25, 5],\n",
       " [50, 60, 20, 70, 10, 80, 15, 25, 65, 5],\n",
       " [50, 60, 20, 70, 10, 80, 15, 25, 5, 65],\n",
       " [50, 60, 20, 70, 10, 15, 80, 65, 25, 5],\n",
       " [50, 60, 20, 70, 10, 15, 80, 25, 65, 5],\n",
       " [50, 60, 20, 70, 10, 15, 80, 25, 5, 65],\n",
       " [50, 60, 20, 70, 10, 15, 25, 80, 65, 5],\n",
       " [50, 60, 20, 70, 10, 15, 25, 80, 5, 65],\n",
       " [50, 60, 20, 70, 10, 15, 25, 5, 80, 65],\n",
       " [50, 60, 20, 10, 70, 80, 65, 15, 25, 5],\n",
       " [50, 60, 20, 10, 70, 80, 15, 65, 25, 5],\n",
       " [50, 60, 20, 10, 70, 80, 15, 25, 65, 5],\n",
       " [50, 60, 20, 10, 70, 80, 15, 25, 5, 65],\n",
       " [50, 60, 20, 10, 70, 15, 80, 65, 25, 5],\n",
       " [50, 60, 20, 10, 70, 15, 80, 25, 65, 5],\n",
       " [50, 60, 20, 10, 70, 15, 80, 25, 5, 65],\n",
       " [50, 60, 20, 10, 70, 15, 25, 80, 65, 5],\n",
       " [50, 60, 20, 10, 70, 15, 25, 80, 5, 65],\n",
       " [50, 60, 20, 10, 70, 15, 25, 5, 80, 65],\n",
       " [50, 60, 20, 10, 15, 70, 80, 65, 25, 5],\n",
       " [50, 60, 20, 10, 15, 70, 80, 25, 65, 5],\n",
       " [50, 60, 20, 10, 15, 70, 80, 25, 5, 65],\n",
       " [50, 60, 20, 10, 15, 70, 25, 80, 65, 5],\n",
       " [50, 60, 20, 10, 15, 70, 25, 80, 5, 65],\n",
       " [50, 60, 20, 10, 15, 70, 25, 5, 80, 65],\n",
       " [50, 60, 20, 10, 15, 25, 70, 80, 65, 5],\n",
       " [50, 60, 20, 10, 15, 25, 70, 80, 5, 65],\n",
       " [50, 60, 20, 10, 15, 25, 70, 5, 80, 65],\n",
       " [50, 60, 20, 10, 15, 25, 5, 70, 80, 65],\n",
       " [50, 20, 60, 70, 80, 65, 10, 15, 25, 5],\n",
       " [50, 20, 60, 70, 80, 10, 65, 15, 25, 5],\n",
       " [50, 20, 60, 70, 80, 10, 15, 65, 25, 5],\n",
       " [50, 20, 60, 70, 80, 10, 15, 25, 65, 5],\n",
       " [50, 20, 60, 70, 80, 10, 15, 25, 5, 65],\n",
       " [50, 20, 60, 70, 10, 80, 65, 15, 25, 5],\n",
       " [50, 20, 60, 70, 10, 80, 15, 65, 25, 5],\n",
       " [50, 20, 60, 70, 10, 80, 15, 25, 65, 5],\n",
       " [50, 20, 60, 70, 10, 80, 15, 25, 5, 65],\n",
       " [50, 20, 60, 70, 10, 15, 80, 65, 25, 5],\n",
       " [50, 20, 60, 70, 10, 15, 80, 25, 65, 5],\n",
       " [50, 20, 60, 70, 10, 15, 80, 25, 5, 65],\n",
       " [50, 20, 60, 70, 10, 15, 25, 80, 65, 5],\n",
       " [50, 20, 60, 70, 10, 15, 25, 80, 5, 65],\n",
       " [50, 20, 60, 70, 10, 15, 25, 5, 80, 65],\n",
       " [50, 20, 60, 10, 70, 80, 65, 15, 25, 5],\n",
       " [50, 20, 60, 10, 70, 80, 15, 65, 25, 5],\n",
       " [50, 20, 60, 10, 70, 80, 15, 25, 65, 5],\n",
       " [50, 20, 60, 10, 70, 80, 15, 25, 5, 65],\n",
       " [50, 20, 60, 10, 70, 15, 80, 65, 25, 5],\n",
       " [50, 20, 60, 10, 70, 15, 80, 25, 65, 5],\n",
       " [50, 20, 60, 10, 70, 15, 80, 25, 5, 65],\n",
       " [50, 20, 60, 10, 70, 15, 25, 80, 65, 5],\n",
       " [50, 20, 60, 10, 70, 15, 25, 80, 5, 65],\n",
       " [50, 20, 60, 10, 70, 15, 25, 5, 80, 65],\n",
       " [50, 20, 60, 10, 15, 70, 80, 65, 25, 5],\n",
       " [50, 20, 60, 10, 15, 70, 80, 25, 65, 5],\n",
       " [50, 20, 60, 10, 15, 70, 80, 25, 5, 65],\n",
       " [50, 20, 60, 10, 15, 70, 25, 80, 65, 5],\n",
       " [50, 20, 60, 10, 15, 70, 25, 80, 5, 65],\n",
       " [50, 20, 60, 10, 15, 70, 25, 5, 80, 65],\n",
       " [50, 20, 60, 10, 15, 25, 70, 80, 65, 5],\n",
       " [50, 20, 60, 10, 15, 25, 70, 80, 5, 65],\n",
       " [50, 20, 60, 10, 15, 25, 70, 5, 80, 65],\n",
       " [50, 20, 60, 10, 15, 25, 5, 70, 80, 65],\n",
       " [50, 20, 10, 60, 70, 80, 65, 15, 25, 5],\n",
       " [50, 20, 10, 60, 70, 80, 15, 65, 25, 5],\n",
       " [50, 20, 10, 60, 70, 80, 15, 25, 65, 5],\n",
       " [50, 20, 10, 60, 70, 80, 15, 25, 5, 65],\n",
       " [50, 20, 10, 60, 70, 15, 80, 65, 25, 5],\n",
       " [50, 20, 10, 60, 70, 15, 80, 25, 65, 5],\n",
       " [50, 20, 10, 60, 70, 15, 80, 25, 5, 65],\n",
       " [50, 20, 10, 60, 70, 15, 25, 80, 65, 5],\n",
       " [50, 20, 10, 60, 70, 15, 25, 80, 5, 65],\n",
       " [50, 20, 10, 60, 70, 15, 25, 5, 80, 65],\n",
       " [50, 20, 10, 60, 15, 70, 80, 65, 25, 5],\n",
       " [50, 20, 10, 60, 15, 70, 80, 25, 65, 5],\n",
       " [50, 20, 10, 60, 15, 70, 80, 25, 5, 65],\n",
       " [50, 20, 10, 60, 15, 70, 25, 80, 65, 5],\n",
       " [50, 20, 10, 60, 15, 70, 25, 80, 5, 65],\n",
       " [50, 20, 10, 60, 15, 70, 25, 5, 80, 65],\n",
       " [50, 20, 10, 60, 15, 25, 70, 80, 65, 5],\n",
       " [50, 20, 10, 60, 15, 25, 70, 80, 5, 65],\n",
       " [50, 20, 10, 60, 15, 25, 70, 5, 80, 65],\n",
       " [50, 20, 10, 60, 15, 25, 5, 70, 80, 65],\n",
       " [50, 20, 10, 15, 60, 70, 80, 65, 25, 5],\n",
       " [50, 20, 10, 15, 60, 70, 80, 25, 65, 5],\n",
       " [50, 20, 10, 15, 60, 70, 80, 25, 5, 65],\n",
       " [50, 20, 10, 15, 60, 70, 25, 80, 65, 5],\n",
       " [50, 20, 10, 15, 60, 70, 25, 80, 5, 65],\n",
       " [50, 20, 10, 15, 60, 70, 25, 5, 80, 65],\n",
       " [50, 20, 10, 15, 60, 25, 70, 80, 65, 5],\n",
       " [50, 20, 10, 15, 60, 25, 70, 80, 5, 65],\n",
       " [50, 20, 10, 15, 60, 25, 70, 5, 80, 65],\n",
       " [50, 20, 10, 15, 60, 25, 5, 70, 80, 65],\n",
       " [50, 20, 10, 15, 25, 60, 70, 80, 65, 5],\n",
       " [50, 20, 10, 15, 25, 60, 70, 80, 5, 65],\n",
       " [50, 20, 10, 15, 25, 60, 70, 5, 80, 65],\n",
       " [50, 20, 10, 15, 25, 60, 5, 70, 80, 65],\n",
       " [50, 20, 10, 15, 25, 5, 60, 70, 80, 65],\n",
       " [50, 60, 70, 65, 80, 20, 10, 15, 25, 5],\n",
       " [50, 60, 70, 65, 20, 80, 10, 15, 25, 5],\n",
       " [50, 60, 70, 65, 20, 10, 80, 15, 25, 5],\n",
       " [50, 60, 70, 65, 20, 10, 15, 80, 25, 5],\n",
       " [50, 60, 70, 65, 20, 10, 15, 25, 80, 5],\n",
       " [50, 60, 70, 65, 20, 10, 15, 25, 5, 80],\n",
       " [50, 60, 70, 20, 65, 80, 10, 15, 25, 5],\n",
       " [50, 60, 70, 20, 65, 10, 80, 15, 25, 5],\n",
       " [50, 60, 70, 20, 65, 10, 15, 80, 25, 5],\n",
       " [50, 60, 70, 20, 65, 10, 15, 25, 80, 5],\n",
       " [50, 60, 70, 20, 65, 10, 15, 25, 5, 80],\n",
       " [50, 60, 70, 20, 10, 65, 80, 15, 25, 5],\n",
       " [50, 60, 70, 20, 10, 65, 15, 80, 25, 5],\n",
       " [50, 60, 70, 20, 10, 65, 15, 25, 80, 5],\n",
       " [50, 60, 70, 20, 10, 65, 15, 25, 5, 80],\n",
       " [50, 60, 70, 20, 10, 15, 65, 80, 25, 5],\n",
       " [50, 60, 70, 20, 10, 15, 65, 25, 80, 5],\n",
       " [50, 60, 70, 20, 10, 15, 65, 25, 5, 80],\n",
       " [50, 60, 70, 20, 10, 15, 25, 65, 80, 5],\n",
       " [50, 60, 70, 20, 10, 15, 25, 65, 5, 80],\n",
       " [50, 60, 70, 20, 10, 15, 25, 5, 65, 80],\n",
       " [50, 60, 20, 70, 65, 80, 10, 15, 25, 5],\n",
       " [50, 60, 20, 70, 65, 10, 80, 15, 25, 5],\n",
       " [50, 60, 20, 70, 65, 10, 15, 80, 25, 5],\n",
       " [50, 60, 20, 70, 65, 10, 15, 25, 80, 5],\n",
       " [50, 60, 20, 70, 65, 10, 15, 25, 5, 80],\n",
       " [50, 60, 20, 70, 10, 65, 80, 15, 25, 5],\n",
       " [50, 60, 20, 70, 10, 65, 15, 80, 25, 5],\n",
       " [50, 60, 20, 70, 10, 65, 15, 25, 80, 5],\n",
       " [50, 60, 20, 70, 10, 65, 15, 25, 5, 80],\n",
       " [50, 60, 20, 70, 10, 15, 65, 80, 25, 5],\n",
       " [50, 60, 20, 70, 10, 15, 65, 25, 80, 5],\n",
       " [50, 60, 20, 70, 10, 15, 65, 25, 5, 80],\n",
       " [50, 60, 20, 70, 10, 15, 25, 65, 80, 5],\n",
       " [50, 60, 20, 70, 10, 15, 25, 65, 5, 80],\n",
       " [50, 60, 20, 70, 10, 15, 25, 5, 65, 80],\n",
       " [50, 60, 20, 10, 70, 65, 80, 15, 25, 5],\n",
       " [50, 60, 20, 10, 70, 65, 15, 80, 25, 5],\n",
       " [50, 60, 20, 10, 70, 65, 15, 25, 80, 5],\n",
       " [50, 60, 20, 10, 70, 65, 15, 25, 5, 80],\n",
       " [50, 60, 20, 10, 70, 15, 65, 80, 25, 5],\n",
       " [50, 60, 20, 10, 70, 15, 65, 25, 80, 5],\n",
       " [50, 60, 20, 10, 70, 15, 65, 25, 5, 80],\n",
       " [50, 60, 20, 10, 70, 15, 25, 65, 80, 5],\n",
       " [50, 60, 20, 10, 70, 15, 25, 65, 5, 80],\n",
       " [50, 60, 20, 10, 70, 15, 25, 5, 65, 80],\n",
       " [50, 60, 20, 10, 15, 70, 65, 80, 25, 5],\n",
       " [50, 60, 20, 10, 15, 70, 65, 25, 80, 5],\n",
       " [50, 60, 20, 10, 15, 70, 65, 25, 5, 80],\n",
       " [50, 60, 20, 10, 15, 70, 25, 65, 80, 5],\n",
       " [50, 60, 20, 10, 15, 70, 25, 65, 5, 80],\n",
       " [50, 60, 20, 10, 15, 70, 25, 5, 65, 80],\n",
       " [50, 60, 20, 10, 15, 25, 70, 65, 80, 5],\n",
       " [50, 60, 20, 10, 15, 25, 70, 65, 5, 80],\n",
       " [50, 60, 20, 10, 15, 25, 70, 5, 65, 80],\n",
       " [50, 60, 20, 10, 15, 25, 5, 70, 65, 80],\n",
       " [50, 20, 60, 70, 65, 80, 10, 15, 25, 5],\n",
       " [50, 20, 60, 70, 65, 10, 80, 15, 25, 5],\n",
       " [50, 20, 60, 70, 65, 10, 15, 80, 25, 5],\n",
       " [50, 20, 60, 70, 65, 10, 15, 25, 80, 5],\n",
       " [50, 20, 60, 70, 65, 10, 15, 25, 5, 80],\n",
       " [50, 20, 60, 70, 10, 65, 80, 15, 25, 5],\n",
       " [50, 20, 60, 70, 10, 65, 15, 80, 25, 5],\n",
       " [50, 20, 60, 70, 10, 65, 15, 25, 80, 5],\n",
       " [50, 20, 60, 70, 10, 65, 15, 25, 5, 80],\n",
       " [50, 20, 60, 70, 10, 15, 65, 80, 25, 5],\n",
       " [50, 20, 60, 70, 10, 15, 65, 25, 80, 5],\n",
       " [50, 20, 60, 70, 10, 15, 65, 25, 5, 80],\n",
       " [50, 20, 60, 70, 10, 15, 25, 65, 80, 5],\n",
       " [50, 20, 60, 70, 10, 15, 25, 65, 5, 80],\n",
       " [50, 20, 60, 70, 10, 15, 25, 5, 65, 80],\n",
       " [50, 20, 60, 10, 70, 65, 80, 15, 25, 5],\n",
       " [50, 20, 60, 10, 70, 65, 15, 80, 25, 5],\n",
       " [50, 20, 60, 10, 70, 65, 15, 25, 80, 5],\n",
       " [50, 20, 60, 10, 70, 65, 15, 25, 5, 80],\n",
       " [50, 20, 60, 10, 70, 15, 65, 80, 25, 5],\n",
       " [50, 20, 60, 10, 70, 15, 65, 25, 80, 5],\n",
       " [50, 20, 60, 10, 70, 15, 65, 25, 5, 80],\n",
       " [50, 20, 60, 10, 70, 15, 25, 65, 80, 5],\n",
       " [50, 20, 60, 10, 70, 15, 25, 65, 5, 80],\n",
       " [50, 20, 60, 10, 70, 15, 25, 5, 65, 80],\n",
       " [50, 20, 60, 10, 15, 70, 65, 80, 25, 5],\n",
       " [50, 20, 60, 10, 15, 70, 65, 25, 80, 5],\n",
       " [50, 20, 60, 10, 15, 70, 65, 25, 5, 80],\n",
       " [50, 20, 60, 10, 15, 70, 25, 65, 80, 5],\n",
       " [50, 20, 60, 10, 15, 70, 25, 65, 5, 80],\n",
       " [50, 20, 60, 10, 15, 70, 25, 5, 65, 80],\n",
       " [50, 20, 60, 10, 15, 25, 70, 65, 80, 5],\n",
       " [50, 20, 60, 10, 15, 25, 70, 65, 5, 80],\n",
       " [50, 20, 60, 10, 15, 25, 70, 5, 65, 80],\n",
       " [50, 20, 60, 10, 15, 25, 5, 70, 65, 80],\n",
       " [50, 20, 10, 60, 70, 65, 80, 15, 25, 5],\n",
       " [50, 20, 10, 60, 70, 65, 15, 80, 25, 5],\n",
       " [50, 20, 10, 60, 70, 65, 15, 25, 80, 5],\n",
       " [50, 20, 10, 60, 70, 65, 15, 25, 5, 80],\n",
       " [50, 20, 10, 60, 70, 15, 65, 80, 25, 5],\n",
       " [50, 20, 10, 60, 70, 15, 65, 25, 80, 5],\n",
       " [50, 20, 10, 60, 70, 15, 65, 25, 5, 80],\n",
       " [50, 20, 10, 60, 70, 15, 25, 65, 80, 5],\n",
       " [50, 20, 10, 60, 70, 15, 25, 65, 5, 80],\n",
       " [50, 20, 10, 60, 70, 15, 25, 5, 65, 80],\n",
       " [50, 20, 10, 60, 15, 70, 65, 80, 25, 5],\n",
       " [50, 20, 10, 60, 15, 70, 65, 25, 80, 5],\n",
       " [50, 20, 10, 60, 15, 70, 65, 25, 5, 80],\n",
       " [50, 20, 10, 60, 15, 70, 25, 65, 80, 5],\n",
       " [50, 20, 10, 60, 15, 70, 25, 65, 5, 80],\n",
       " [50, 20, 10, 60, 15, 70, 25, 5, 65, 80],\n",
       " [50, 20, 10, 60, 15, 25, 70, 65, 80, 5],\n",
       " [50, 20, 10, 60, 15, 25, 70, 65, 5, 80],\n",
       " [50, 20, 10, 60, 15, 25, 70, 5, 65, 80],\n",
       " [50, 20, 10, 60, 15, 25, 5, 70, 65, 80],\n",
       " [50, 20, 10, 15, 60, 70, 65, 80, 25, 5],\n",
       " [50, 20, 10, 15, 60, 70, 65, 25, 80, 5],\n",
       " [50, 20, 10, 15, 60, 70, 65, 25, 5, 80],\n",
       " [50, 20, 10, 15, 60, 70, 25, 65, 80, 5],\n",
       " [50, 20, 10, 15, 60, 70, 25, 65, 5, 80],\n",
       " [50, 20, 10, 15, 60, 70, 25, 5, 65, 80],\n",
       " [50, 20, 10, 15, 60, 25, 70, 65, 80, 5],\n",
       " [50, 20, 10, 15, 60, 25, 70, 65, 5, 80],\n",
       " [50, 20, 10, 15, 60, 25, 70, 5, 65, 80],\n",
       " [50, 20, 10, 15, 60, 25, 5, 70, 65, 80],\n",
       " [50, 20, 10, 15, 25, 60, 70, 65, 80, 5],\n",
       " [50, 20, 10, 15, 25, 60, 70, 65, 5, 80],\n",
       " [50, 20, 10, 15, 25, 60, 70, 5, 65, 80],\n",
       " [50, 20, 10, 15, 25, 60, 5, 70, 65, 80],\n",
       " [50, 20, 10, 15, 25, 5, 60, 70, 65, 80],\n",
       " [50, 60, 70, 80, 65, 20, 10, 15, 5, 25],\n",
       " [50, 60, 70, 80, 20, 65, 10, 15, 5, 25],\n",
       " [50, 60, 70, 80, 20, 10, 65, 15, 5, 25],\n",
       " [50, 60, 70, 80, 20, 10, 15, 65, 5, 25],\n",
       " [50, 60, 70, 80, 20, 10, 15, 5, 65, 25],\n",
       " [50, 60, 70, 80, 20, 10, 15, 5, 25, 65],\n",
       " [50, 60, 70, 20, 80, 65, 10, 15, 5, 25],\n",
       " [50, 60, 70, 20, 80, 10, 65, 15, 5, 25],\n",
       " [50, 60, 70, 20, 80, 10, 15, 65, 5, 25],\n",
       " [50, 60, 70, 20, 80, 10, 15, 5, 65, 25],\n",
       " [50, 60, 70, 20, 80, 10, 15, 5, 25, 65],\n",
       " [50, 60, 70, 20, 10, 80, 65, 15, 5, 25],\n",
       " [50, 60, 70, 20, 10, 80, 15, 65, 5, 25],\n",
       " [50, 60, 70, 20, 10, 80, 15, 5, 65, 25],\n",
       " [50, 60, 70, 20, 10, 80, 15, 5, 25, 65],\n",
       " [50, 60, 70, 20, 10, 15, 80, 65, 5, 25],\n",
       " [50, 60, 70, 20, 10, 15, 80, 5, 65, 25],\n",
       " [50, 60, 70, 20, 10, 15, 80, 5, 25, 65],\n",
       " [50, 60, 70, 20, 10, 15, 5, 80, 65, 25],\n",
       " [50, 60, 70, 20, 10, 15, 5, 80, 25, 65],\n",
       " [50, 60, 70, 20, 10, 15, 5, 25, 80, 65],\n",
       " [50, 60, 20, 70, 80, 65, 10, 15, 5, 25],\n",
       " [50, 60, 20, 70, 80, 10, 65, 15, 5, 25],\n",
       " [50, 60, 20, 70, 80, 10, 15, 65, 5, 25],\n",
       " [50, 60, 20, 70, 80, 10, 15, 5, 65, 25],\n",
       " [50, 60, 20, 70, 80, 10, 15, 5, 25, 65],\n",
       " [50, 60, 20, 70, 10, 80, 65, 15, 5, 25],\n",
       " [50, 60, 20, 70, 10, 80, 15, 65, 5, 25],\n",
       " [50, 60, 20, 70, 10, 80, 15, 5, 65, 25],\n",
       " [50, 60, 20, 70, 10, 80, 15, 5, 25, 65],\n",
       " [50, 60, 20, 70, 10, 15, 80, 65, 5, 25],\n",
       " [50, 60, 20, 70, 10, 15, 80, 5, 65, 25],\n",
       " [50, 60, 20, 70, 10, 15, 80, 5, 25, 65],\n",
       " [50, 60, 20, 70, 10, 15, 5, 80, 65, 25],\n",
       " [50, 60, 20, 70, 10, 15, 5, 80, 25, 65],\n",
       " [50, 60, 20, 70, 10, 15, 5, 25, 80, 65],\n",
       " [50, 60, 20, 10, 70, 80, 65, 15, 5, 25],\n",
       " [50, 60, 20, 10, 70, 80, 15, 65, 5, 25],\n",
       " [50, 60, 20, 10, 70, 80, 15, 5, 65, 25],\n",
       " [50, 60, 20, 10, 70, 80, 15, 5, 25, 65],\n",
       " [50, 60, 20, 10, 70, 15, 80, 65, 5, 25],\n",
       " [50, 60, 20, 10, 70, 15, 80, 5, 65, 25],\n",
       " [50, 60, 20, 10, 70, 15, 80, 5, 25, 65],\n",
       " [50, 60, 20, 10, 70, 15, 5, 80, 65, 25],\n",
       " [50, 60, 20, 10, 70, 15, 5, 80, 25, 65],\n",
       " [50, 60, 20, 10, 70, 15, 5, 25, 80, 65],\n",
       " [50, 60, 20, 10, 15, 70, 80, 65, 5, 25],\n",
       " [50, 60, 20, 10, 15, 70, 80, 5, 65, 25],\n",
       " [50, 60, 20, 10, 15, 70, 80, 5, 25, 65],\n",
       " [50, 60, 20, 10, 15, 70, 5, 80, 65, 25],\n",
       " [50, 60, 20, 10, 15, 70, 5, 80, 25, 65],\n",
       " [50, 60, 20, 10, 15, 70, 5, 25, 80, 65],\n",
       " [50, 60, 20, 10, 15, 5, 70, 80, 65, 25],\n",
       " [50, 60, 20, 10, 15, 5, 70, 80, 25, 65],\n",
       " [50, 60, 20, 10, 15, 5, 70, 25, 80, 65],\n",
       " [50, 60, 20, 10, 15, 5, 25, 70, 80, 65],\n",
       " [50, 20, 60, 70, 80, 65, 10, 15, 5, 25],\n",
       " [50, 20, 60, 70, 80, 10, 65, 15, 5, 25],\n",
       " [50, 20, 60, 70, 80, 10, 15, 65, 5, 25],\n",
       " [50, 20, 60, 70, 80, 10, 15, 5, 65, 25],\n",
       " [50, 20, 60, 70, 80, 10, 15, 5, 25, 65],\n",
       " [50, 20, 60, 70, 10, 80, 65, 15, 5, 25],\n",
       " [50, 20, 60, 70, 10, 80, 15, 65, 5, 25],\n",
       " [50, 20, 60, 70, 10, 80, 15, 5, 65, 25],\n",
       " [50, 20, 60, 70, 10, 80, 15, 5, 25, 65],\n",
       " [50, 20, 60, 70, 10, 15, 80, 65, 5, 25],\n",
       " [50, 20, 60, 70, 10, 15, 80, 5, 65, 25],\n",
       " [50, 20, 60, 70, 10, 15, 80, 5, 25, 65],\n",
       " [50, 20, 60, 70, 10, 15, 5, 80, 65, 25],\n",
       " [50, 20, 60, 70, 10, 15, 5, 80, 25, 65],\n",
       " [50, 20, 60, 70, 10, 15, 5, 25, 80, 65],\n",
       " [50, 20, 60, 10, 70, 80, 65, 15, 5, 25],\n",
       " [50, 20, 60, 10, 70, 80, 15, 65, 5, 25],\n",
       " [50, 20, 60, 10, 70, 80, 15, 5, 65, 25],\n",
       " [50, 20, 60, 10, 70, 80, 15, 5, 25, 65],\n",
       " [50, 20, 60, 10, 70, 15, 80, 65, 5, 25],\n",
       " [50, 20, 60, 10, 70, 15, 80, 5, 65, 25],\n",
       " [50, 20, 60, 10, 70, 15, 80, 5, 25, 65],\n",
       " [50, 20, 60, 10, 70, 15, 5, 80, 65, 25],\n",
       " [50, 20, 60, 10, 70, 15, 5, 80, 25, 65],\n",
       " [50, 20, 60, 10, 70, 15, 5, 25, 80, 65],\n",
       " [50, 20, 60, 10, 15, 70, 80, 65, 5, 25],\n",
       " [50, 20, 60, 10, 15, 70, 80, 5, 65, 25],\n",
       " [50, 20, 60, 10, 15, 70, 80, 5, 25, 65],\n",
       " [50, 20, 60, 10, 15, 70, 5, 80, 65, 25],\n",
       " [50, 20, 60, 10, 15, 70, 5, 80, 25, 65],\n",
       " [50, 20, 60, 10, 15, 70, 5, 25, 80, 65],\n",
       " [50, 20, 60, 10, 15, 5, 70, 80, 65, 25],\n",
       " [50, 20, 60, 10, 15, 5, 70, 80, 25, 65],\n",
       " [50, 20, 60, 10, 15, 5, 70, 25, 80, 65],\n",
       " [50, 20, 60, 10, 15, 5, 25, 70, 80, 65],\n",
       " [50, 20, 10, 60, 70, 80, 65, 15, 5, 25],\n",
       " [50, 20, 10, 60, 70, 80, 15, 65, 5, 25],\n",
       " [50, 20, 10, 60, 70, 80, 15, 5, 65, 25],\n",
       " [50, 20, 10, 60, 70, 80, 15, 5, 25, 65],\n",
       " [50, 20, 10, 60, 70, 15, 80, 65, 5, 25],\n",
       " [50, 20, 10, 60, 70, 15, 80, 5, 65, 25],\n",
       " [50, 20, 10, 60, 70, 15, 80, 5, 25, 65],\n",
       " [50, 20, 10, 60, 70, 15, 5, 80, 65, 25],\n",
       " [50, 20, 10, 60, 70, 15, 5, 80, 25, 65],\n",
       " [50, 20, 10, 60, 70, 15, 5, 25, 80, 65],\n",
       " [50, 20, 10, 60, 15, 70, 80, 65, 5, 25],\n",
       " [50, 20, 10, 60, 15, 70, 80, 5, 65, 25],\n",
       " [50, 20, 10, 60, 15, 70, 80, 5, 25, 65],\n",
       " [50, 20, 10, 60, 15, 70, 5, 80, 65, 25],\n",
       " [50, 20, 10, 60, 15, 70, 5, 80, 25, 65],\n",
       " [50, 20, 10, 60, 15, 70, 5, 25, 80, 65],\n",
       " [50, 20, 10, 60, 15, 5, 70, 80, 65, 25],\n",
       " [50, 20, 10, 60, 15, 5, 70, 80, 25, 65],\n",
       " [50, 20, 10, 60, 15, 5, 70, 25, 80, 65],\n",
       " [50, 20, 10, 60, 15, 5, 25, 70, 80, 65],\n",
       " [50, 20, 10, 15, 60, 70, 80, 65, 5, 25],\n",
       " [50, 20, 10, 15, 60, 70, 80, 5, 65, 25],\n",
       " [50, 20, 10, 15, 60, 70, 80, 5, 25, 65],\n",
       " [50, 20, 10, 15, 60, 70, 5, 80, 65, 25],\n",
       " [50, 20, 10, 15, 60, 70, 5, 80, 25, 65],\n",
       " [50, 20, 10, 15, 60, 70, 5, 25, 80, 65],\n",
       " [50, 20, 10, 15, 60, 5, 70, 80, 65, 25],\n",
       " [50, 20, 10, 15, 60, 5, 70, 80, 25, 65],\n",
       " [50, 20, 10, 15, 60, 5, 70, 25, 80, 65],\n",
       " [50, 20, 10, 15, 60, 5, 25, 70, 80, 65],\n",
       " [50, 20, 10, 15, 5, 60, 70, 80, 65, 25],\n",
       " [50, 20, 10, 15, 5, 60, 70, 80, 25, 65],\n",
       " [50, 20, 10, 15, 5, 60, 70, 25, 80, 65],\n",
       " [50, 20, 10, 15, 5, 60, 25, 70, 80, 65],\n",
       " [50, 20, 10, 15, 5, 25, 60, 70, 80, 65],\n",
       " [50, 60, 70, 65, 80, 20, 10, 15, 5, 25],\n",
       " [50, 60, 70, 65, 20, 80, 10, 15, 5, 25],\n",
       " [50, 60, 70, 65, 20, 10, 80, 15, 5, 25],\n",
       " [50, 60, 70, 65, 20, 10, 15, 80, 5, 25],\n",
       " [50, 60, 70, 65, 20, 10, 15, 5, 80, 25],\n",
       " [50, 60, 70, 65, 20, 10, 15, 5, 25, 80],\n",
       " [50, 60, 70, 20, 65, 80, 10, 15, 5, 25],\n",
       " [50, 60, 70, 20, 65, 10, 80, 15, 5, 25],\n",
       " [50, 60, 70, 20, 65, 10, 15, 80, 5, 25],\n",
       " [50, 60, 70, 20, 65, 10, 15, 5, 80, 25],\n",
       " [50, 60, 70, 20, 65, 10, 15, 5, 25, 80],\n",
       " [50, 60, 70, 20, 10, 65, 80, 15, 5, 25],\n",
       " [50, 60, 70, 20, 10, 65, 15, 80, 5, 25],\n",
       " [50, 60, 70, 20, 10, 65, 15, 5, 80, 25],\n",
       " [50, 60, 70, 20, 10, 65, 15, 5, 25, 80],\n",
       " [50, 60, 70, 20, 10, 15, 65, 80, 5, 25],\n",
       " [50, 60, 70, 20, 10, 15, 65, 5, 80, 25],\n",
       " [50, 60, 70, 20, 10, 15, 65, 5, 25, 80],\n",
       " [50, 60, 70, 20, 10, 15, 5, 65, 80, 25],\n",
       " [50, 60, 70, 20, 10, 15, 5, 65, 25, 80],\n",
       " [50, 60, 70, 20, 10, 15, 5, 25, 65, 80],\n",
       " [50, 60, 20, 70, 65, 80, 10, 15, 5, 25],\n",
       " [50, 60, 20, 70, 65, 10, 80, 15, 5, 25],\n",
       " [50, 60, 20, 70, 65, 10, 15, 80, 5, 25],\n",
       " [50, 60, 20, 70, 65, 10, 15, 5, 80, 25],\n",
       " [50, 60, 20, 70, 65, 10, 15, 5, 25, 80],\n",
       " [50, 60, 20, 70, 10, 65, 80, 15, 5, 25],\n",
       " [50, 60, 20, 70, 10, 65, 15, 80, 5, 25],\n",
       " [50, 60, 20, 70, 10, 65, 15, 5, 80, 25],\n",
       " [50, 60, 20, 70, 10, 65, 15, 5, 25, 80],\n",
       " [50, 60, 20, 70, 10, 15, 65, 80, 5, 25],\n",
       " [50, 60, 20, 70, 10, 15, 65, 5, 80, 25],\n",
       " [50, 60, 20, 70, 10, 15, 65, 5, 25, 80],\n",
       " [50, 60, 20, 70, 10, 15, 5, 65, 80, 25],\n",
       " [50, 60, 20, 70, 10, 15, 5, 65, 25, 80],\n",
       " [50, 60, 20, 70, 10, 15, 5, 25, 65, 80],\n",
       " [50, 60, 20, 10, 70, 65, 80, 15, 5, 25],\n",
       " [50, 60, 20, 10, 70, 65, 15, 80, 5, 25],\n",
       " [50, 60, 20, 10, 70, 65, 15, 5, 80, 25],\n",
       " [50, 60, 20, 10, 70, 65, 15, 5, 25, 80],\n",
       " [50, 60, 20, 10, 70, 15, 65, 80, 5, 25],\n",
       " [50, 60, 20, 10, 70, 15, 65, 5, 80, 25],\n",
       " [50, 60, 20, 10, 70, 15, 65, 5, 25, 80],\n",
       " [50, 60, 20, 10, 70, 15, 5, 65, 80, 25],\n",
       " [50, 60, 20, 10, 70, 15, 5, 65, 25, 80],\n",
       " [50, 60, 20, 10, 70, 15, 5, 25, 65, 80],\n",
       " [50, 60, 20, 10, 15, 70, 65, 80, 5, 25],\n",
       " [50, 60, 20, 10, 15, 70, 65, 5, 80, 25],\n",
       " [50, 60, 20, 10, 15, 70, 65, 5, 25, 80],\n",
       " [50, 60, 20, 10, 15, 70, 5, 65, 80, 25],\n",
       " [50, 60, 20, 10, 15, 70, 5, 65, 25, 80],\n",
       " [50, 60, 20, 10, 15, 70, 5, 25, 65, 80],\n",
       " [50, 60, 20, 10, 15, 5, 70, 65, 80, 25],\n",
       " [50, 60, 20, 10, 15, 5, 70, 65, 25, 80],\n",
       " [50, 60, 20, 10, 15, 5, 70, 25, 65, 80],\n",
       " [50, 60, 20, 10, 15, 5, 25, 70, 65, 80],\n",
       " [50, 20, 60, 70, 65, 80, 10, 15, 5, 25],\n",
       " [50, 20, 60, 70, 65, 10, 80, 15, 5, 25],\n",
       " [50, 20, 60, 70, 65, 10, 15, 80, 5, 25],\n",
       " [50, 20, 60, 70, 65, 10, 15, 5, 80, 25],\n",
       " [50, 20, 60, 70, 65, 10, 15, 5, 25, 80],\n",
       " [50, 20, 60, 70, 10, 65, 80, 15, 5, 25],\n",
       " [50, 20, 60, 70, 10, 65, 15, 80, 5, 25],\n",
       " [50, 20, 60, 70, 10, 65, 15, 5, 80, 25],\n",
       " [50, 20, 60, 70, 10, 65, 15, 5, 25, 80],\n",
       " [50, 20, 60, 70, 10, 15, 65, 80, 5, 25],\n",
       " [50, 20, 60, 70, 10, 15, 65, 5, 80, 25],\n",
       " [50, 20, 60, 70, 10, 15, 65, 5, 25, 80],\n",
       " [50, 20, 60, 70, 10, 15, 5, 65, 80, 25],\n",
       " [50, 20, 60, 70, 10, 15, 5, 65, 25, 80],\n",
       " [50, 20, 60, 70, 10, 15, 5, 25, 65, 80],\n",
       " [50, 20, 60, 10, 70, 65, 80, 15, 5, 25],\n",
       " [50, 20, 60, 10, 70, 65, 15, 80, 5, 25],\n",
       " [50, 20, 60, 10, 70, 65, 15, 5, 80, 25],\n",
       " [50, 20, 60, 10, 70, 65, 15, 5, 25, 80],\n",
       " [50, 20, 60, 10, 70, 15, 65, 80, 5, 25],\n",
       " [50, 20, 60, 10, 70, 15, 65, 5, 80, 25],\n",
       " [50, 20, 60, 10, 70, 15, 65, 5, 25, 80],\n",
       " [50, 20, 60, 10, 70, 15, 5, 65, 80, 25],\n",
       " [50, 20, 60, 10, 70, 15, 5, 65, 25, 80],\n",
       " [50, 20, 60, 10, 70, 15, 5, 25, 65, 80],\n",
       " [50, 20, 60, 10, 15, 70, 65, 80, 5, 25],\n",
       " [50, 20, 60, 10, 15, 70, 65, 5, 80, 25],\n",
       " [50, 20, 60, 10, 15, 70, 65, 5, 25, 80],\n",
       " [50, 20, 60, 10, 15, 70, 5, 65, 80, 25],\n",
       " [50, 20, 60, 10, 15, 70, 5, 65, 25, 80],\n",
       " [50, 20, 60, 10, 15, 70, 5, 25, 65, 80],\n",
       " [50, 20, 60, 10, 15, 5, 70, 65, 80, 25],\n",
       " [50, 20, 60, 10, 15, 5, 70, 65, 25, 80],\n",
       " [50, 20, 60, 10, 15, 5, 70, 25, 65, 80],\n",
       " [50, 20, 60, 10, 15, 5, 25, 70, 65, 80],\n",
       " [50, 20, 10, 60, 70, 65, 80, 15, 5, 25],\n",
       " [50, 20, 10, 60, 70, 65, 15, 80, 5, 25],\n",
       " [50, 20, 10, 60, 70, 65, 15, 5, 80, 25],\n",
       " [50, 20, 10, 60, 70, 65, 15, 5, 25, 80],\n",
       " [50, 20, 10, 60, 70, 15, 65, 80, 5, 25],\n",
       " [50, 20, 10, 60, 70, 15, 65, 5, 80, 25],\n",
       " [50, 20, 10, 60, 70, 15, 65, 5, 25, 80],\n",
       " [50, 20, 10, 60, 70, 15, 5, 65, 80, 25],\n",
       " [50, 20, 10, 60, 70, 15, 5, 65, 25, 80],\n",
       " [50, 20, 10, 60, 70, 15, 5, 25, 65, 80],\n",
       " [50, 20, 10, 60, 15, 70, 65, 80, 5, 25],\n",
       " [50, 20, 10, 60, 15, 70, 65, 5, 80, 25],\n",
       " [50, 20, 10, 60, 15, 70, 65, 5, 25, 80],\n",
       " [50, 20, 10, 60, 15, 70, 5, 65, 80, 25],\n",
       " [50, 20, 10, 60, 15, 70, 5, 65, 25, 80],\n",
       " [50, 20, 10, 60, 15, 70, 5, 25, 65, 80],\n",
       " [50, 20, 10, 60, 15, 5, 70, 65, 80, 25],\n",
       " [50, 20, 10, 60, 15, 5, 70, 65, 25, 80],\n",
       " [50, 20, 10, 60, 15, 5, 70, 25, 65, 80],\n",
       " [50, 20, 10, 60, 15, 5, 25, 70, 65, 80],\n",
       " [50, 20, 10, 15, 60, 70, 65, 80, 5, 25],\n",
       " [50, 20, 10, 15, 60, 70, 65, 5, 80, 25],\n",
       " [50, 20, 10, 15, 60, 70, 65, 5, 25, 80],\n",
       " [50, 20, 10, 15, 60, 70, 5, 65, 80, 25],\n",
       " [50, 20, 10, 15, 60, 70, 5, 65, 25, 80],\n",
       " [50, 20, 10, 15, 60, 70, 5, 25, 65, 80],\n",
       " [50, 20, 10, 15, 60, 5, 70, 65, 80, 25],\n",
       " ...]"
      ]
     },
     "execution_count": 72,
     "metadata": {},
     "output_type": "execute_result"
    }
   ],
   "source": [
    "get_sequence_arrays(arbol10)"
   ]
  },
  {
   "cell_type": "markdown",
   "metadata": {},
   "source": [
    "run time O(n) porque recorre todos los elementos del arbol, en memoria debe ser algo como factorial "
   ]
  },
  {
   "cell_type": "markdown",
   "metadata": {},
   "source": [
    "# check subtree"
   ]
  },
  {
   "cell_type": "code",
   "execution_count": 73,
   "metadata": {},
   "outputs": [],
   "source": [
    "# nodo prueba\n",
    "ndo1=Node(4)\n",
    "##\n",
    "ndo2=Node(2,ndo1)\n",
    "ndo3=Node(3)\n",
    "##\n",
    "ndo4=Node(1,ndo2,ndo3)"
   ]
  },
  {
   "cell_type": "code",
   "execution_count": 75,
   "metadata": {},
   "outputs": [],
   "source": [
    "def preOrder(root,nodos):\n",
    "    nodos.append(root.value)\n",
    "    if root and root.left:\n",
    "        preOrder(root.left,nodos)\n",
    "    if root and root.right:\n",
    "        preOrder(root.right,nodos)\n",
    "\n",
    "    return nodos"
   ]
  },
  {
   "cell_type": "code",
   "execution_count": 78,
   "metadata": {},
   "outputs": [
    {
     "data": {
      "text/plain": [
       "[1, 2, 4, 3]"
      ]
     },
     "execution_count": 78,
     "metadata": {},
     "output_type": "execute_result"
    }
   ],
   "source": [
    "preOrder(ndo4,[])"
   ]
  },
  {
   "cell_type": "code",
   "execution_count": null,
   "metadata": {},
   "outputs": [],
   "source": []
  },
  {
   "cell_type": "code",
   "execution_count": 83,
   "metadata": {},
   "outputs": [],
   "source": [
    "def matchTree(root1,root2):\n",
    "    if root1 is None and root2 is None:\n",
    "        return True\n",
    "    elif root1 is None or root2 is None:\n",
    "        return False\n",
    "    elif root1.value!= root2.value:\n",
    "        return False\n",
    "    else:\n",
    "        return  matchTree(root1.left,root2.left) and matchTree(root1.right,root2.right)"
   ]
  },
  {
   "cell_type": "code",
   "execution_count": 84,
   "metadata": {},
   "outputs": [],
   "source": [
    "def subTree(root1,root2):\n",
    "    if root1 is None:\n",
    "        return False\n",
    "    elif root1.value==root2.value and matchTree(root1,root2):\n",
    "        return True\n",
    "    return subTree(root1.left,root2) or subTree(root1.right,root2)"
   ]
  },
  {
   "cell_type": "code",
   "execution_count": 85,
   "metadata": {},
   "outputs": [],
   "source": [
    "def containsTree(root1,root2):\n",
    "    if root2 is None:\n",
    "        return True\n",
    "    return subTree(root1,root2)"
   ]
  },
  {
   "cell_type": "code",
   "execution_count": 87,
   "metadata": {},
   "outputs": [
    {
     "data": {
      "text/plain": [
       "True"
      ]
     },
     "execution_count": 87,
     "metadata": {},
     "output_type": "execute_result"
    }
   ],
   "source": [
    "containsTree(ndo4,ndo2)"
   ]
  },
  {
   "cell_type": "code",
   "execution_count": 88,
   "metadata": {},
   "outputs": [],
   "source": [
    "ndo5=Node(9)"
   ]
  },
  {
   "cell_type": "code",
   "execution_count": 89,
   "metadata": {},
   "outputs": [
    {
     "data": {
      "text/plain": [
       "False"
      ]
     },
     "execution_count": 89,
     "metadata": {},
     "output_type": "execute_result"
    }
   ],
   "source": [
    "containsTree(ndo4,ndo5)"
   ]
  },
  {
   "cell_type": "markdown",
   "metadata": {},
   "source": [
    "run time about O(n +km), memory O(n+m)"
   ]
  },
  {
   "cell_type": "markdown",
   "metadata": {},
   "source": [
    "# Random Node"
   ]
  },
  {
   "cell_type": "code",
   "execution_count": 131,
   "metadata": {},
   "outputs": [],
   "source": [
    "class BST(object):\n",
    "    def __init__(self,value):\n",
    "        self.value=value\n",
    "        self.left=None\n",
    "        self.right=None\n",
    "    \n",
    "    \n",
    "    def insert(self,value):\n",
    "        if self.value==value:\n",
    "            return False # BST no tiene duplicados\n",
    "        elif value<self.value:\n",
    "            if self.left:\n",
    "                return self.left.insert(value)\n",
    "            else:\n",
    "                self.left=BST(value)\n",
    "                return True\n",
    "                \n",
    "        else:\n",
    "            if self.right:\n",
    "                return self.right.insert(value)\n",
    "            else:\n",
    "                self.right=BST(value)\n",
    "                return True\n",
    "            \n",
    "            \n",
    "    def find(self,value):\n",
    "        if self.value==value:\n",
    "            return True\n",
    "        if self and self.left:\n",
    "            self.left.find(value)\n",
    "        if self and self.right:\n",
    "            self.right.find(value)\n",
    "        return False\n",
    "    \n",
    "    def delete(self,value):\n",
    "        if self is None:\n",
    "            return None\n",
    "        if value<self.value:\n",
    "            self.left=self.left.delete(value)\n",
    "        elif value>self.value:\n",
    "            self.right=self.right.delete(value)\n",
    "            \n",
    "        else:\n",
    "            if self.left is None:\n",
    "                temp=self.right\n",
    "                \n",
    "                self=None\n",
    "                return temp\n",
    "            elif self.right is None:\n",
    "                temp=self.left\n",
    "                self=None\n",
    "                return temp\n",
    "            \n",
    "            \n",
    "            temp=self.minValueNode(self.right)\n",
    "            self.value=temp.value\n",
    "            self.right=self.right.delete(temp.value)\n",
    "            \n",
    "        return self\n",
    "    \n",
    "    \n",
    "    def minValueNode(self,node):\n",
    "        current=node\n",
    "        while current.left:\n",
    "            current=current.left\n",
    "        \n",
    "        return current\n",
    "    \n",
    "\n",
    "        \n",
    "                            \n",
    "                \n",
    "    \n",
    "    \n",
    "    \n",
    "        \n",
    "        "
   ]
  },
  {
   "cell_type": "code",
   "execution_count": 133,
   "metadata": {},
   "outputs": [
    {
     "data": {
      "text/plain": [
       "True"
      ]
     },
     "execution_count": 133,
     "metadata": {},
     "output_type": "execute_result"
    }
   ],
   "source": [
    "tree = BST(10)\n",
    "#tree.insert(10)\n",
    "tree.insert(12)\n",
    "tree.insert(5)\n",
    "tree.insert(4)\n",
    "tree.insert(20)\n",
    "tree.insert(8)\n",
    "tree.insert(7)\n",
    "tree.insert(15)\n",
    "tree.insert(13)"
   ]
  },
  {
   "cell_type": "code",
   "execution_count": 136,
   "metadata": {},
   "outputs": [
    {
     "data": {
      "text/plain": [
       "[10, 5, 4, 8, 7, 12, 20, 15, 13]"
      ]
     },
     "execution_count": 136,
     "metadata": {},
     "output_type": "execute_result"
    }
   ],
   "source": [
    "preOrder(tree,[])"
   ]
  },
  {
   "cell_type": "code",
   "execution_count": 137,
   "metadata": {},
   "outputs": [
    {
     "data": {
      "text/plain": [
       "[5, 4, 8, 7, 10, 12, 20, 15, 13]"
      ]
     },
     "execution_count": 137,
     "metadata": {},
     "output_type": "execute_result"
    }
   ],
   "source": [
    "inOrder(tree,[])"
   ]
  },
  {
   "cell_type": "code",
   "execution_count": 138,
   "metadata": {},
   "outputs": [
    {
     "data": {
      "text/plain": [
       "[5, 4, 8, 7, 12, 20, 15, 13, 10]"
      ]
     },
     "execution_count": 138,
     "metadata": {},
     "output_type": "execute_result"
    }
   ],
   "source": [
    "postOrder(tree,[])"
   ]
  },
  {
   "cell_type": "code",
   "execution_count": 248,
   "metadata": {},
   "outputs": [],
   "source": [
    "class Node2(object):\n",
    "    def __init__(self,value):\n",
    "        self.value=value\n",
    "        self.left=None\n",
    "        self.right=None\n",
    "        self.size=0"
   ]
  },
  {
   "cell_type": "code",
   "execution_count": 277,
   "metadata": {},
   "outputs": [],
   "source": [
    "import random\n",
    "class BST2(object):\n",
    "    def __init__(self,value=None):\n",
    "        self.root=None\n",
    "        \n",
    "    \n",
    "    def insert(self,value):\n",
    "        if self.root is None:\n",
    "            self.root=Node2(value)\n",
    "            self.root.size+=1\n",
    "        \n",
    "        elif self.root.value==value:\n",
    "            return False # BST no tiene duplicados\n",
    "        else:\n",
    "            self.insert2(value,self.root)\n",
    "        \n",
    "        \n",
    "    def insert2(self,value,current):\n",
    "        \n",
    "        if current.value==value:\n",
    "            return False # BST no tiene duplicados\n",
    "    \n",
    "        if value<current.value:\n",
    "            if current.left:\n",
    "                return self.insert2(value,current.left)\n",
    "            else:\n",
    "                current.left=Node2(value)\n",
    "                self.root.size+=1\n",
    "\n",
    "                return True\n",
    "                \n",
    "        else:\n",
    "            if current.right:\n",
    "                return self.insert2(value,current.right)\n",
    "            else:\n",
    "                current.right=Node2(value)\n",
    "                self.root.size+=1\n",
    "\n",
    "                return True\n",
    "                    \n",
    "    def find(self,value):\n",
    "        if self.root.value==value:\n",
    "            return self\n",
    "        if self.root and self.root.left:\n",
    "            self.root.left.find(value)\n",
    "        if self.root and self.root.right:\n",
    "            self.root.right.find(value)\n",
    "        return None\n",
    "    \n",
    "    def delete(self,value):\n",
    "        if self.root is None:\n",
    "            return None\n",
    "        if value<self.root.value:\n",
    "            self.left=self.left.delete(value)\n",
    "        elif value>self.root.value:\n",
    "            self.right=self.root.right.delete(value)\n",
    "            \n",
    "        else:\n",
    "            if self.root.left is None:\n",
    "                temp=self.root.right\n",
    "                \n",
    "                self=None\n",
    "                return temp\n",
    "            elif self.root.right is None:\n",
    "                temp=self.root.left\n",
    "                self.root=None\n",
    "                return temp\n",
    "            \n",
    "            \n",
    "            temp=self.minValueNode(self.root.right)\n",
    "            self.root.value=temp.value\n",
    "            self.root.right=self.root.right.delete(temp.value)\n",
    "            \n",
    "        return self\n",
    "    \n",
    "    \n",
    "    def minValueNode(self,node):\n",
    "        current=node\n",
    "        while current.left:\n",
    "            current=current.left\n",
    "        \n",
    "        return current\n",
    "## esta funcion solo si se declara un nodo como otra clase aparte\n",
    "    \n",
    "    def getRandomTree(self):\n",
    "        if self.root.left is None:\n",
    "            leftSize=0\n",
    "        else:\n",
    "            leftSize=self.root.size\n",
    "            \n",
    "        index=random.randint(0,self.root.size)\n",
    "        if index<leftSize:\n",
    "            return self.root.left.getRandomTree()\n",
    "        elif index==leftSize:\n",
    "            return self.root\n",
    "        else:\n",
    "            return self.root.right.getRandomTree()\n",
    "            \n",
    " "
   ]
  },
  {
   "cell_type": "code",
   "execution_count": 278,
   "metadata": {},
   "outputs": [],
   "source": [
    "import random\n"
   ]
  },
  {
   "cell_type": "code",
   "execution_count": 279,
   "metadata": {},
   "outputs": [
    {
     "data": {
      "text/plain": [
       "3"
      ]
     },
     "execution_count": 279,
     "metadata": {},
     "output_type": "execute_result"
    }
   ],
   "source": [
    "random.randint(0,3)"
   ]
  },
  {
   "cell_type": "code",
   "execution_count": 280,
   "metadata": {},
   "outputs": [],
   "source": [
    "tree = BST2(10)\n",
    "#tree.insert2(10)\n",
    "tree.insert(12)\n",
    "tree.insert(5)\n",
    "tree.insert(4)\n",
    "tree.insert(20)\n",
    "tree.insert(8)\n",
    "tree.insert(7)\n",
    "tree.insert(15)\n",
    "tree.insert(13)"
   ]
  },
  {
   "cell_type": "code",
   "execution_count": 281,
   "metadata": {},
   "outputs": [
    {
     "data": {
      "text/plain": [
       "8"
      ]
     },
     "execution_count": 281,
     "metadata": {},
     "output_type": "execute_result"
    }
   ],
   "source": [
    "tree.root.size"
   ]
  },
  {
   "cell_type": "code",
   "execution_count": 285,
   "metadata": {},
   "outputs": [
    {
     "ename": "AttributeError",
     "evalue": "'Node2' object has no attribute 'getRandomTree'",
     "output_type": "error",
     "traceback": [
      "\u001b[1;31m---------------------------------------------------------------------------\u001b[0m",
      "\u001b[1;31mAttributeError\u001b[0m                            Traceback (most recent call last)",
      "\u001b[1;32m<ipython-input-285-184068b7dd08>\u001b[0m in \u001b[0;36m<module>\u001b[1;34m()\u001b[0m\n\u001b[1;32m----> 1\u001b[1;33m \u001b[0mr\u001b[0m\u001b[1;33m=\u001b[0m\u001b[0mtree\u001b[0m\u001b[1;33m.\u001b[0m\u001b[0mgetRandomTree\u001b[0m\u001b[1;33m(\u001b[0m\u001b[1;33m)\u001b[0m\u001b[1;33m\u001b[0m\u001b[0m\n\u001b[0m",
      "\u001b[1;32m<ipython-input-277-7ae342bf531b>\u001b[0m in \u001b[0;36mgetRandomTree\u001b[1;34m(self)\u001b[0m\n\u001b[0;32m     91\u001b[0m         \u001b[0mindex\u001b[0m\u001b[1;33m=\u001b[0m\u001b[0mrandom\u001b[0m\u001b[1;33m.\u001b[0m\u001b[0mrandint\u001b[0m\u001b[1;33m(\u001b[0m\u001b[1;36m0\u001b[0m\u001b[1;33m,\u001b[0m\u001b[0mself\u001b[0m\u001b[1;33m.\u001b[0m\u001b[0mroot\u001b[0m\u001b[1;33m.\u001b[0m\u001b[0msize\u001b[0m\u001b[1;33m)\u001b[0m\u001b[1;33m\u001b[0m\u001b[0m\n\u001b[0;32m     92\u001b[0m         \u001b[1;32mif\u001b[0m \u001b[0mindex\u001b[0m\u001b[1;33m<\u001b[0m\u001b[0mleftSize\u001b[0m\u001b[1;33m:\u001b[0m\u001b[1;33m\u001b[0m\u001b[0m\n\u001b[1;32m---> 93\u001b[1;33m             \u001b[1;32mreturn\u001b[0m \u001b[0mself\u001b[0m\u001b[1;33m.\u001b[0m\u001b[0mroot\u001b[0m\u001b[1;33m.\u001b[0m\u001b[0mleft\u001b[0m\u001b[1;33m.\u001b[0m\u001b[0mgetRandomTree\u001b[0m\u001b[1;33m(\u001b[0m\u001b[1;33m)\u001b[0m\u001b[1;33m\u001b[0m\u001b[0m\n\u001b[0m\u001b[0;32m     94\u001b[0m         \u001b[1;32melif\u001b[0m \u001b[0mindex\u001b[0m\u001b[1;33m==\u001b[0m\u001b[0mleftSize\u001b[0m\u001b[1;33m:\u001b[0m\u001b[1;33m\u001b[0m\u001b[0m\n\u001b[0;32m     95\u001b[0m             \u001b[1;32mreturn\u001b[0m \u001b[0mself\u001b[0m\u001b[1;33m.\u001b[0m\u001b[0mroot\u001b[0m\u001b[1;33m\u001b[0m\u001b[0m\n",
      "\u001b[1;31mAttributeError\u001b[0m: 'Node2' object has no attribute 'getRandomTree'"
     ]
    }
   ],
   "source": [
    "r=tree.getRandomTree()"
   ]
  },
  {
   "cell_type": "code",
   "execution_count": 286,
   "metadata": {},
   "outputs": [
    {
     "data": {
      "text/plain": [
       "12"
      ]
     },
     "execution_count": 286,
     "metadata": {},
     "output_type": "execute_result"
    }
   ],
   "source": [
    "r.value"
   ]
  },
  {
   "cell_type": "raw",
   "metadata": {},
   "source": []
  }
 ],
 "metadata": {
  "kernelspec": {
   "display_name": "Python 3",
   "language": "python",
   "name": "python3"
  },
  "language_info": {
   "codemirror_mode": {
    "name": "ipython",
    "version": 3
   },
   "file_extension": ".py",
   "mimetype": "text/x-python",
   "name": "python",
   "nbconvert_exporter": "python",
   "pygments_lexer": "ipython3",
   "version": "3.6.4rc1"
  }
 },
 "nbformat": 4,
 "nbformat_minor": 2
}
