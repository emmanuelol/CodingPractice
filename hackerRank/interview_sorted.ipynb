{
 "cells": [
  {
   "cell_type": "markdown",
   "metadata": {},
   "source": [
    "# interview sorted"
   ]
  },
  {
   "cell_type": "markdown",
   "metadata": {},
   "source": [
    "## Fraudulent Activity Notifications"
   ]
  },
  {
   "cell_type": "code",
   "execution_count": 1,
   "metadata": {},
   "outputs": [],
   "source": [
    "days=5\n",
    "expenses=[2, 3, 4, 2, 3, 6, 8, 4, 5]\n",
    "\n",
    "days2=4\n",
    "expenses2=[1, 2, 3, 4, 4]"
   ]
  },
  {
   "cell_type": "code",
   "execution_count": 2,
   "metadata": {},
   "outputs": [
    {
     "name": "stdout",
     "output_type": "stream",
     "text": [
      "0\n",
      "[2, 3, 4, 2, 3]\n",
      "1\n",
      "[3, 4, 2, 3, 6]\n",
      "2\n",
      "[4, 2, 3, 6, 8]\n",
      "3\n",
      "[2, 3, 6, 8, 4]\n",
      "4\n",
      "[3, 6, 8, 4, 5]\n"
     ]
    }
   ],
   "source": [
    "for i in range(days):\n",
    "    print(i)\n",
    "    if len(expenses[i:i+days])==days:\n",
    "        print(expenses[i:i+days])"
   ]
  },
  {
   "cell_type": "code",
   "execution_count": 3,
   "metadata": {},
   "outputs": [],
   "source": [
    "def quickSort(arr,low,high): \n",
    "    if low < high: \n",
    "  \n",
    "        # pi is partitioning index, arr[p] is now \n",
    "        # at right place \n",
    "        pi = partition(arr,low,high) \n",
    "  \n",
    "        # Separately sort elements before \n",
    "        # partition and after partition \n",
    "        quickSort(arr, low, pi-1) \n",
    "        quickSort(arr, pi+1, high)     "
   ]
  },
  {
   "cell_type": "code",
   "execution_count": 4,
   "metadata": {},
   "outputs": [],
   "source": [
    "def partition(arr,low,high): \n",
    "    i = ( low-1 )         # index of smaller element \n",
    "    pivot = arr[high]     # pivot \n",
    "  \n",
    "    for j in range(low , high): \n",
    "  \n",
    "        # If current element is smaller than or \n",
    "        # equal to pivot \n",
    "        if   arr[j] <= pivot: \n",
    "          \n",
    "            # increment index of smaller element \n",
    "            i = i+1 \n",
    "            arr[i],arr[j] = arr[j],arr[i] \n",
    "  \n",
    "    arr[i+1],arr[high] = arr[high],arr[i+1] \n",
    "    return ( i+1 ) "
   ]
  },
  {
   "cell_type": "code",
   "execution_count": 5,
   "metadata": {},
   "outputs": [
    {
     "name": "stdout",
     "output_type": "stream",
     "text": [
      "0\n",
      "[2, 2, 3, 3, 4]\n",
      "1\n",
      "[2, 3, 3, 4, 6]\n",
      "2\n",
      "[2, 3, 4, 6, 8]\n",
      "3\n",
      "[2, 3, 4, 6, 8]\n",
      "4\n",
      "[3, 4, 5, 6, 8]\n"
     ]
    }
   ],
   "source": [
    "for i in range(days):\n",
    "    print(i)\n",
    "    n=len(expenses[i:i+days])\n",
    "    array=expenses[i:i+days]\n",
    "    if n==days:\n",
    "        quickSort(array,0,n-1)\n",
    "        print(array)"
   ]
  },
  {
   "cell_type": "code",
   "execution_count": 6,
   "metadata": {},
   "outputs": [],
   "source": [
    "def findMedian(l):   \n",
    "    # check for even case \n",
    "    l_len = len(l)\n",
    "    if l_len < 1:\n",
    "        return None\n",
    "    if l_len % 2 == 0 :\n",
    "        return ( l[(l_len-1)//2] + l[(l_len)//2] ) / 2.0\n",
    "    else:\n",
    "        return l[(l_len-1)//2]"
   ]
  },
  {
   "cell_type": "code",
   "execution_count": 7,
   "metadata": {},
   "outputs": [
    {
     "name": "stdout",
     "output_type": "stream",
     "text": [
      "\n",
      "0\n",
      "[2, 3, 4, 2, 3]\n",
      "[2, 2, 3, 3, 4]\n",
      "3\n",
      "0\n",
      "\n",
      "1\n",
      "[3, 4, 2, 3, 6]\n",
      "[2, 3, 3, 4, 6]\n",
      "3\n",
      "1\n",
      "\n",
      "2\n",
      "[4, 2, 3, 6, 8]\n",
      "[2, 3, 4, 6, 8]\n",
      "4\n",
      "2\n",
      "\n",
      "3\n",
      "[2, 3, 6, 8, 4]\n",
      "[2, 3, 4, 6, 8]\n",
      "4\n",
      "2\n",
      "\n",
      "4\n",
      "[3, 6, 8, 4, 5]\n",
      "[3, 4, 5, 6, 8]\n",
      "5\n",
      "2\n",
      "2\n"
     ]
    }
   ],
   "source": [
    "count=0\n",
    "for i in range((len(expenses)-days)+1):\n",
    "    print('\\n'+str(i))\n",
    "    \n",
    "    \n",
    "    array=expenses[i:i+days]\n",
    "    n=len(array)\n",
    "    \n",
    "    print(array)\n",
    "    quickSort(array,0,n-1)\n",
    "    print(array)\n",
    "    print(findMedian(array))\n",
    "    print(count) \n",
    "    median=findMedian(array)\n",
    "    try: \n",
    "        if expenses[i+days]>=2*median:\n",
    "            count+=1\n",
    "    except:\n",
    "        pass\n",
    "print(count)            "
   ]
  },
  {
   "cell_type": "code",
   "execution_count": 11,
   "metadata": {},
   "outputs": [],
   "source": [
    "def notification(expenses,days):\n",
    "    count=0\n",
    "    for i in range((len(expenses)-days)+1):\n",
    "        \n",
    "    \n",
    "    \n",
    "        array=expenses[i:i+days]\n",
    "        n=len(array)\n",
    "    \n",
    "    \n",
    "        quickSort(array,0,n-1)\n",
    "    \n",
    "    \n",
    "        median=findMedian(array)\n",
    "        try: \n",
    "            if expenses[i+days+1]<=2*median:\n",
    "                count+=1\n",
    "        except:\n",
    "            pass       \n",
    "    return count"
   ]
  },
  {
   "cell_type": "code",
   "execution_count": 12,
   "metadata": {},
   "outputs": [
    {
     "data": {
      "text/plain": [
       "2"
      ]
     },
     "execution_count": 12,
     "metadata": {},
     "output_type": "execute_result"
    }
   ],
   "source": [
    "notification(expenses,days)"
   ]
  },
  {
   "cell_type": "code",
   "execution_count": 13,
   "metadata": {},
   "outputs": [
    {
     "data": {
      "text/plain": [
       "0"
      ]
     },
     "execution_count": 13,
     "metadata": {},
     "output_type": "execute_result"
    }
   ],
   "source": [
    "notification(expenses2,days2)"
   ]
  },
  {
   "cell_type": "code",
   "execution_count": null,
   "metadata": {},
   "outputs": [],
   "source": [
    "count=0\n",
    "for i in range((len(expenses)-days)+1):\n",
    "    print('\\n'+str(i))\n",
    "    \n",
    "    \n",
    "    array=expenses[i:i+days]\n",
    "    n=len(array)\n",
    "    \n",
    "    print(array)\n",
    "    quickSort(array,0,n-1)\n",
    "    print(array)\n",
    "    \n",
    "    print(findMedian(array))\n",
    "    print(count) \n",
    "    median=findMedian(array)\n",
    "    try: \n",
    "        if expenses[i+days]>=2*median:\n",
    "            count+=1\n",
    "    except:\n",
    "        pass\n",
    "print(count)    \n",
    "\n"
   ]
  },
  {
   "cell_type": "code",
   "execution_count": null,
   "metadata": {},
   "outputs": [],
   "source": []
  },
  {
   "cell_type": "code",
   "execution_count": null,
   "metadata": {},
   "outputs": [],
   "source": []
  },
  {
   "cell_type": "code",
   "execution_count": null,
   "metadata": {},
   "outputs": [],
   "source": []
  },
  {
   "cell_type": "code",
   "execution_count": null,
   "metadata": {},
   "outputs": [],
   "source": []
  },
  {
   "cell_type": "markdown",
   "metadata": {},
   "source": [
    "## comparator sorting"
   ]
  },
  {
   "cell_type": "code",
   "execution_count": 11,
   "metadata": {},
   "outputs": [],
   "source": [
    "from functools import cmp_to_key\n",
    "class Player:\n",
    "    def __init__(self, name, score):\n",
    "        self.name=name\n",
    "        self.score=score\n",
    "        \n",
    "    def comparator(a, b):\n",
    "        val = b.score - a.score\n",
    "        if val == 0:\n",
    "            return -1 if a.name < b.name else 1\n",
    "        return val"
   ]
  },
  {
   "cell_type": "code",
   "execution_count": 18,
   "metadata": {},
   "outputs": [],
   "source": [
    "n=['amy 100','david 100','heraldo 50','aakansha 75','aleksa 150']\n",
    "data = []\n",
    "for i in range(len(n)):\n",
    "    name, score = n[i].split()\n",
    "    score = int(score)\n",
    "    player = Player(name, score)\n",
    "    data.append(player)\n",
    "\n"
   ]
  },
  {
   "cell_type": "code",
   "execution_count": 19,
   "metadata": {},
   "outputs": [
    {
     "name": "stdout",
     "output_type": "stream",
     "text": [
      "aleksa 150\n",
      "amy 100\n",
      "david 100\n",
      "aakansha 75\n",
      "heraldo 50\n"
     ]
    }
   ],
   "source": [
    "data = sorted(data, key=cmp_to_key(Player.comparator))\n",
    "for i in data:\n",
    "    print(i.name, i.score)"
   ]
  },
  {
   "cell_type": "code",
   "execution_count": null,
   "metadata": {},
   "outputs": [],
   "source": []
  },
  {
   "cell_type": "code",
   "execution_count": null,
   "metadata": {},
   "outputs": [],
   "source": []
  }
 ],
 "metadata": {
  "kernelspec": {
   "display_name": "Python 3",
   "language": "python",
   "name": "python3"
  },
  "language_info": {
   "codemirror_mode": {
    "name": "ipython",
    "version": 3
   },
   "file_extension": ".py",
   "mimetype": "text/x-python",
   "name": "python",
   "nbconvert_exporter": "python",
   "pygments_lexer": "ipython3",
   "version": "3.6.8"
  }
 },
 "nbformat": 4,
 "nbformat_minor": 2
}
