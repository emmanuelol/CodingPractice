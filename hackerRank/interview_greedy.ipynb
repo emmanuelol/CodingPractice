{
 "cells": [
  {
   "cell_type": "markdown",
   "metadata": {},
   "source": [
    "## greedy florist\n",
    "O(nlogn) time\n",
    "O(1) space\n"
   ]
  },
  {
   "cell_type": "code",
   "execution_count": 27,
   "metadata": {},
   "outputs": [],
   "source": [
    "def getMinimumCost(n,k, c):\n",
    "    cost = 0\n",
    "    c = sorted(c, reverse=True)\n",
    "    for i in range(0, n):\n",
    "        cost += (i // k + 1) * c[i]\n",
    "    return cost\n"
   ]
  },
  {
   "cell_type": "code",
   "execution_count": 28,
   "metadata": {},
   "outputs": [
    {
     "name": "stdout",
     "output_type": "stream",
     "text": [
      "13\n"
     ]
    }
   ],
   "source": [
    "k=3\n",
    "n=3\n",
    "c=[2,5,6]\n",
    "cost=getMinimumCost(n,k,c)\n",
    "print(cost)"
   ]
  },
  {
   "cell_type": "code",
   "execution_count": 29,
   "metadata": {},
   "outputs": [
    {
     "name": "stdout",
     "output_type": "stream",
     "text": [
      "15\n"
     ]
    }
   ],
   "source": [
    "k=2\n",
    "n=3\n",
    "c=[2,5,6]\n",
    "cost=getMinimumCost(n,k,c)\n",
    "print(cost)"
   ]
  },
  {
   "cell_type": "markdown",
   "metadata": {},
   "source": [
    "## Minimum Absolute difference"
   ]
  },
  {
   "cell_type": "code",
   "execution_count": 30,
   "metadata": {},
   "outputs": [],
   "source": [
    "arr=[3, -7, 0]"
   ]
  },
  {
   "cell_type": "markdown",
   "metadata": {},
   "source": [
    "This solutios gets all the possible pair of combinations of an array an do the difference of this, in order to find the minimum.\n",
    "#### Complexity\n",
    "O(n!) time, for the use of the iteratools.combinations.\n",
    "O(1) space\n"
   ]
  },
  {
   "cell_type": "code",
   "execution_count": 31,
   "metadata": {},
   "outputs": [],
   "source": [
    "import itertools\n",
    "\n",
    "# Complete the minimumAbsoluteDifference function below.\n",
    "def minimumAbsoluteDifference(arr):\n",
    "    if len(arr)<2:\n",
    "        raise IndexError('is need at least two elements')\n",
    "  \n",
    "    min_diff = abs(arr[0] - arr[1])\n",
    " \n",
    "    for n1, n2 in itertools.combinations(arr, 2): # Get the combinations of numbers\n",
    "        diff = abs(n1-n2) # Find the absolute difference of each combination\n",
    "        min_diff=min(min_diff,diff)\n",
    "    return min_diff  "
   ]
  },
  {
   "cell_type": "code",
   "execution_count": 32,
   "metadata": {},
   "outputs": [
    {
     "data": {
      "text/plain": [
       "3"
      ]
     },
     "execution_count": 32,
     "metadata": {},
     "output_type": "execute_result"
    }
   ],
   "source": [
    "minimo_absolute(arr)"
   ]
  },
  {
   "cell_type": "markdown",
   "metadata": {},
   "source": [
    "This solution is a better one, because is not required to do a comparation every element with the rest of the array, if we sort the array the minimum difference is between adjacent elements.\n",
    "#### complexity\n",
    "O(nlogn) time because the sorting.\n",
    "O(1) space"
   ]
  },
  {
   "cell_type": "code",
   "execution_count": 33,
   "metadata": {},
   "outputs": [],
   "source": [
    "def minimumAbsoluteDifference(arr):\n",
    "    if len(arr)<2:\n",
    "        raise IndexError('is need at least two elements')\n",
    "  \n",
    "    arr = sorted(arr) \n",
    "  \n",
    "    # Initialize difference as infinite \n",
    "    min_diff = 10**20\n",
    "  \n",
    "    # Find the min diff by comparing adjacent \n",
    "    # pairs in sorted array \n",
    "    for i in range(len(arr)-1): \n",
    "        diff=[i+1] - arr[i]\n",
    "        min_diff=min(min_diff,diff)\n",
    "  \n",
    "    # Return min diff \n",
    "    return min_dif "
   ]
  },
  {
   "cell_type": "markdown",
   "metadata": {},
   "source": [
    "## Luck balance\n",
    "The idea is understand that is a matrix the first column are the luck of the competence, the next one correspond to the importance of that competition, k is the number of important competence allowed to lose in order to increase our luck.\n",
    "### complexity\n",
    "O(nlogn) time, because we sort in decrease order, with this we can increase at the optimal our luck\n",
    "O(1) space"
   ]
  },
  {
   "cell_type": "code",
   "execution_count": 42,
   "metadata": {},
   "outputs": [],
   "source": [
    "competences=[[5,1],[2,1],[1,1],[8,1],[10,0],[5,0]]\n",
    "k=3"
   ]
  },
  {
   "cell_type": "code",
   "execution_count": 39,
   "metadata": {},
   "outputs": [
    {
     "name": "stdout",
     "output_type": "stream",
     "text": [
      "[[1, 1], [2, 1], [5, 0], [5, 1], [8, 1], [10, 0]]\n"
     ]
    }
   ],
   "source": [
    "print(sorted(competences))"
   ]
  },
  {
   "cell_type": "code",
   "execution_count": null,
   "metadata": {},
   "outputs": [],
   "source": [
    "def luckBalance(k, contests):\n",
    "    total_luck = 0\n",
    "    contests=sorted(contests,reverse=True)\n",
    "    for luck,important in contests:\n",
    "        if not important:\n",
    "            total_luck += luck\n",
    "        elif k:\n",
    "            total_luck += luck\n",
    "            k -= 1\n",
    "        else:\n",
    "            total_luck -= luck\n",
    "    return total_luck"
   ]
  },
  {
   "cell_type": "code",
   "execution_count": 43,
   "metadata": {},
   "outputs": [
    {
     "name": "stdout",
     "output_type": "stream",
     "text": [
      "29\n"
     ]
    }
   ],
   "source": [
    "print(luckBalance(k,competences))"
   ]
  },
  {
   "cell_type": "code",
   "execution_count": 40,
   "metadata": {},
   "outputs": [],
   "source": [
    "def luckBalance(k, contests):\n",
    "    total_luck = 0\n",
    "    for luck,important in sorted(contests, reverse=True):\n",
    "        if not important:\n",
    "            total_luck += luck\n",
    "        elif k:\n",
    "            total_luck += luck\n",
    "            k -= 1\n",
    "        else:\n",
    "            total_luck -= luck\n",
    "    return total_luck"
   ]
  },
  {
   "cell_type": "code",
   "execution_count": 41,
   "metadata": {},
   "outputs": [
    {
     "name": "stdout",
     "output_type": "stream",
     "text": [
      "29\n"
     ]
    }
   ],
   "source": [
    "print(luckBalance(k,competences))"
   ]
  },
  {
   "cell_type": "code",
   "execution_count": null,
   "metadata": {},
   "outputs": [],
   "source": []
  }
 ],
 "metadata": {
  "kernelspec": {
   "display_name": "Python 3",
   "language": "python",
   "name": "python3"
  },
  "language_info": {
   "codemirror_mode": {
    "name": "ipython",
    "version": 3
   },
   "file_extension": ".py",
   "mimetype": "text/x-python",
   "name": "python",
   "nbconvert_exporter": "python",
   "pygments_lexer": "ipython3",
   "version": "3.6.8"
  }
 },
 "nbformat": 4,
 "nbformat_minor": 4
}
