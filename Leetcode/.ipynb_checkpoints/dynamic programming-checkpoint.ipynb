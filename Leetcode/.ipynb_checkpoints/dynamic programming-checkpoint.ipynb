{
 "cells": [
  {
   "cell_type": "code",
   "execution_count": null,
   "metadata": {},
   "outputs": [],
   "source": [
    "def knightProbability( N, K, r, c):\n",
    "    total_moves = {(i, j) for i in {-2, -1, 1, 2} for j in {-2, -1, 1, 2} - {i} - {-i}}\n",
    "    mmap={}\n",
    "        \n",
    "    def dp(K,r,c,current_prob=1):\n",
    "        if K==0:\n",
    "            mmap[(K,r,c)]=current_prob\n",
    "            return current_prob\n",
    "        else:\n",
    "            pos_moves = {(r + dr, c + dc) for dr, dc in total_moves if 0 <= r + dr < N and 0 <= c + dc < N}\n",
    "            result=0\n",
    "                \n",
    "            for dr,dc in pos_moves:\n",
    "                if (K-1,dr,dc) in mmap:\n",
    "                    result+=mmap[(K-1,dr,dc)]\n",
    "                else:\n",
    "                    result+=dp(K-1,dr,dc,current_prob/8)\n",
    "            mmap[(K,r,c)]=result\n",
    "                    \n",
    "            return result\n",
    "                \n",
    "    return dp(K,r,c)"
   ]
  }
 ],
 "metadata": {
  "kernelspec": {
   "display_name": "Python 3",
   "language": "python",
   "name": "python3"
  },
  "language_info": {
   "codemirror_mode": {
    "name": "ipython",
    "version": 3
   },
   "file_extension": ".py",
   "mimetype": "text/x-python",
   "name": "python",
   "nbconvert_exporter": "python",
   "pygments_lexer": "ipython3",
   "version": "3.6.8"
  }
 },
 "nbformat": 4,
 "nbformat_minor": 4
}
