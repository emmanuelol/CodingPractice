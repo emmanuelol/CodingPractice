{
 "cells": [
  {
   "cell_type": "markdown",
   "metadata": {},
   "source": [
    "## greedy florist\n",
    "O(nlogn) time\n",
    "O(1) space\n"
   ]
  },
  {
   "cell_type": "code",
   "execution_count": 1,
   "metadata": {},
   "outputs": [],
   "source": [
    "def getMinimumCost(n,k, c):\n",
    "    cost = 0\n",
    "    c = sorted(c, reverse=True)\n",
    "    for i in range(0, n):\n",
    "        cost += (i // k + 1) * c[i]\n",
    "    return cost\n"
   ]
  },
  {
   "cell_type": "code",
   "execution_count": 2,
   "metadata": {},
   "outputs": [
    {
     "name": "stdout",
     "output_type": "stream",
     "text": [
      "13\n"
     ]
    }
   ],
   "source": [
    "k=3\n",
    "n=3\n",
    "c=[2,5,6]\n",
    "cost=getMinimumCost(n,k,c)\n",
    "print(cost)"
   ]
  },
  {
   "cell_type": "code",
   "execution_count": 3,
   "metadata": {},
   "outputs": [
    {
     "name": "stdout",
     "output_type": "stream",
     "text": [
      "15\n"
     ]
    }
   ],
   "source": [
    "k=2\n",
    "n=3\n",
    "c=[2,5,6]\n",
    "cost=getMinimumCost(n,k,c)\n",
    "print(cost)"
   ]
  },
  {
   "cell_type": "code",
   "execution_count": null,
   "metadata": {},
   "outputs": [],
   "source": []
  },
  {
   "cell_type": "code",
   "execution_count": 15,
   "metadata": {},
   "outputs": [],
   "source": [
    "arr=[3, -7, 0]"
   ]
  },
  {
   "cell_type": "code",
   "execution_count": 5,
   "metadata": {},
   "outputs": [
    {
     "name": "stdout",
     "output_type": "stream",
     "text": [
      "3\n"
     ]
    }
   ],
   "source": [
    "low=arr[0]\n",
    "print(low)"
   ]
  },
  {
   "cell_type": "code",
   "execution_count": 6,
   "metadata": {},
   "outputs": [
    {
     "name": "stdout",
     "output_type": "stream",
     "text": [
      "10\n"
     ]
    }
   ],
   "source": [
    "minimum=abs(arr[1]-low)\n",
    "print(minimum)"
   ]
  },
  {
   "cell_type": "code",
   "execution_count": 7,
   "metadata": {},
   "outputs": [
    {
     "name": "stdout",
     "output_type": "stream",
     "text": [
      "-7\n",
      "10\n",
      "minimo 10\n",
      "3\n",
      "0\n",
      "3\n",
      "minimo 3\n",
      "3\n"
     ]
    }
   ],
   "source": [
    "for i in arr[1:]:\n",
    "    print(i)\n",
    "    potential_minimum=abs(i-low)\n",
    "    print(potential_minimum)\n",
    "    minimum=min(minimum,potential_minimum)\n",
    "    print('minimo',minimum)\n",
    "    #if abs(i)<low:\n",
    "    #    low=i\n",
    "    print(low)"
   ]
  },
  {
   "cell_type": "code",
   "execution_count": null,
   "metadata": {},
   "outputs": [],
   "source": []
  },
  {
   "cell_type": "code",
   "execution_count": 18,
   "metadata": {},
   "outputs": [],
   "source": [
    "def minimumAbsoluteDifference(arr):\n",
    "    if len(arr)<2:\n",
    "        raise IndexError('is need at least two elements')\n",
    "    \n",
    "    minimum=abs(arr[1]-arr[0])\n",
    "    for i in range(len(arr[1:])):\n",
    "        potential_minimum=abs(arr[i]-arr[i-1])\n",
    "        minimum=min(minimum,potential_minimum)\n",
    "\n",
    "    return minimum"
   ]
  },
  {
   "cell_type": "code",
   "execution_count": 19,
   "metadata": {},
   "outputs": [
    {
     "data": {
      "text/plain": [
       "3"
      ]
     },
     "execution_count": 19,
     "metadata": {},
     "output_type": "execute_result"
    }
   ],
   "source": [
    "minimumAbsoluteDifference(arr)"
   ]
  },
  {
   "cell_type": "code",
   "execution_count": 21,
   "metadata": {},
   "outputs": [],
   "source": [
    "import itertools\n",
    "\n",
    "# Complete the minimumAbsoluteDifference function below.\n",
    "def minimumAbsoluteDifference(arr):\n",
    "    if len(arr)<2:\n",
    "        raise IndexError('is need at least two elements')\n",
    "  \n",
    "    min_diff = abs(arr[0] - arr[1])\n",
    " \n",
    "    for n1, n2 in itertools.combinations(arr, 2): # Get the combinations of numbers\n",
    "        diff = abs(n1-n2) # Find the absolute difference of each combination\n",
    "        min_diff=min(min_diff,diff)\n",
    "    return min_diff  "
   ]
  },
  {
   "cell_type": "code",
   "execution_count": 22,
   "metadata": {},
   "outputs": [
    {
     "data": {
      "text/plain": [
       "3"
      ]
     },
     "execution_count": 22,
     "metadata": {},
     "output_type": "execute_result"
    }
   ],
   "source": [
    "minimo_absolute(arr)"
   ]
  },
  {
   "cell_type": "code",
   "execution_count": null,
   "metadata": {},
   "outputs": [],
   "source": []
  }
 ],
 "metadata": {
  "kernelspec": {
   "display_name": "Python 3",
   "language": "python",
   "name": "python3"
  },
  "language_info": {
   "codemirror_mode": {
    "name": "ipython",
    "version": 3
   },
   "file_extension": ".py",
   "mimetype": "text/x-python",
   "name": "python",
   "nbconvert_exporter": "python",
   "pygments_lexer": "ipython3",
   "version": "3.6.8"
  }
 },
 "nbformat": 4,
 "nbformat_minor": 4
}
