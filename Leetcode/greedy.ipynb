{
 "cells": [
  {
   "cell_type": "code",
   "execution_count": 13,
   "metadata": {},
   "outputs": [],
   "source": [
    "def minDominoRotations(A, B):\n",
    "    def check(x):\n",
    "        rotations_a=0\n",
    "        rotations_b=0\n",
    "        for i in range(n):\n",
    "            if A[i]!=x and B[i]!=x:\n",
    "                return -1\n",
    "            elif A[i]!=x:\n",
    "                rotations_a+=1\n",
    "            elif B[i]!=x:\n",
    "                rotations_b+=1 \n",
    " \n",
    "        return min(rotations_a,rotations_b)\n",
    "    n=len(A)\n",
    "    rotations=check(A[0])\n",
    "    if rotations!=-1 or A[0]==B[0]:\n",
    "        return rotations\n",
    "    else: \n",
    "        return check(B[0])"
   ]
  },
  {
   "cell_type": "code",
   "execution_count": 14,
   "metadata": {},
   "outputs": [],
   "source": [
    "A = [2,1,2,4,2,2]\n",
    "B = [5,2,6,2,3,2]\n"
   ]
  },
  {
   "cell_type": "code",
   "execution_count": 15,
   "metadata": {},
   "outputs": [
    {
     "data": {
      "text/plain": [
       "2"
      ]
     },
     "execution_count": 15,
     "metadata": {},
     "output_type": "execute_result"
    }
   ],
   "source": [
    "minDominoRotations(A,B)"
   ]
  },
  {
   "cell_type": "code",
   "execution_count": null,
   "metadata": {},
   "outputs": [],
   "source": []
  },
  {
   "cell_type": "code",
   "execution_count": null,
   "metadata": {},
   "outputs": [],
   "source": []
  }
 ],
 "metadata": {
  "kernelspec": {
   "display_name": "Python 3",
   "language": "python",
   "name": "python3"
  },
  "language_info": {
   "codemirror_mode": {
    "name": "ipython",
    "version": 3
   },
   "file_extension": ".py",
   "mimetype": "text/x-python",
   "name": "python",
   "nbconvert_exporter": "python",
   "pygments_lexer": "ipython3",
   "version": "3.6.8"
  }
 },
 "nbformat": 4,
 "nbformat_minor": 4
}
