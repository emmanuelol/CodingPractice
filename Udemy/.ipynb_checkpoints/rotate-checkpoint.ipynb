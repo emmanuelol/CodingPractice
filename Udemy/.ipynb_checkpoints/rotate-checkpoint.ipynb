{
 "cells": [
  {
   "cell_type": "code",
   "execution_count": 24,
   "metadata": {},
   "outputs": [],
   "source": [
    "def rotation(A,B):\n",
    "    if len(A)!=len(B):\n",
    "        return False\n",
    "    key=A[0]\n",
    "    key_i=-1\n",
    "    \n",
    "    for i in range(len(A)):\n",
    "        if B[i]==key:\n",
    "            key_i=i\n",
    "            break\n",
    "    \n",
    "    if key_i==-1:\n",
    "        return False\n",
    "    \n",
    "    for i in range(len(B)):\n",
    "        j=(key_i+i)%len(A)\n",
    "        print(j)\n",
    "        if A[i]!=B[j]:\n",
    "            return False\n",
    "    \n",
    "    return True\n",
    "    "
   ]
  },
  {
   "cell_type": "code",
   "execution_count": 25,
   "metadata": {},
   "outputs": [],
   "source": [
    "A=[1,2,3,4,5,6,7]\n",
    "B=[4,5,6,7,1,2,3]\n"
   ]
  },
  {
   "cell_type": "code",
   "execution_count": 26,
   "metadata": {},
   "outputs": [
    {
     "name": "stdout",
     "output_type": "stream",
     "text": [
      "0\n",
      "1\n",
      "2\n",
      "3\n",
      "4\n",
      "5\n",
      "6\n"
     ]
    }
   ],
   "source": [
    "for i in range(len(A)):\n",
    "    print(i)"
   ]
  },
  {
   "cell_type": "code",
   "execution_count": 27,
   "metadata": {},
   "outputs": [
    {
     "name": "stdout",
     "output_type": "stream",
     "text": [
      "4\n",
      "5\n",
      "6\n",
      "0\n",
      "1\n",
      "2\n",
      "3\n"
     ]
    },
    {
     "data": {
      "text/plain": [
       "True"
      ]
     },
     "execution_count": 27,
     "metadata": {},
     "output_type": "execute_result"
    }
   ],
   "source": [
    "rotation(A,B)"
   ]
  },
  {
   "cell_type": "code",
   "execution_count": 31,
   "metadata": {},
   "outputs": [
    {
     "name": "stdout",
     "output_type": "stream",
     "text": [
      "0\n",
      "4\n",
      "1\n",
      "5\n",
      "2\n",
      "6\n",
      "3\n",
      "0\n",
      "4\n",
      "1\n",
      "5\n",
      "2\n",
      "6\n",
      "3\n"
     ]
    }
   ],
   "source": [
    "if len(A)!=len(B):\n",
    "     False\n",
    "key=A[0]\n",
    "key_i=-1\n",
    "    \n",
    "for i in range(len(A)):\n",
    "    if B[i]==key:\n",
    "        key_i=i\n",
    "        break\n",
    "    \n",
    "if key_i==-1:\n",
    "     False\n",
    "    \n",
    "for i in range(len(B)):\n",
    "    j=(key_i+i)%len(A)\n",
    "    print(i)\n",
    "    print(j)\n",
    "    if A[i]!=B[j]:\n",
    "        False\n",
    "    \n"
   ]
  },
  {
   "cell_type": "code",
   "execution_count": null,
   "metadata": {},
   "outputs": [],
   "source": []
  }
 ],
 "metadata": {
  "kernelspec": {
   "display_name": "Python 3",
   "language": "python",
   "name": "python3"
  },
  "language_info": {
   "codemirror_mode": {
    "name": "ipython",
    "version": 3
   },
   "file_extension": ".py",
   "mimetype": "text/x-python",
   "name": "python",
   "nbconvert_exporter": "python",
   "pygments_lexer": "ipython3",
   "version": "3.6.4rc1"
  }
 },
 "nbformat": 4,
 "nbformat_minor": 2
}
