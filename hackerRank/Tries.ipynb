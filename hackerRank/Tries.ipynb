{
 "cells": [
  {
   "cell_type": "markdown",
   "metadata": {},
   "source": [
    "# tries \n",
    "## es un arbol donde puedes guardar palabras "
   ]
  },
  {
   "cell_type": "code",
   "execution_count": 53,
   "metadata": {},
   "outputs": [],
   "source": [
    "class Node(object):\n",
    "    def __init__(self):\n",
    "        self.children={}\n",
    "        self.prefix_count = 0\n",
    "        self.endOfWord=False\n",
    "        "
   ]
  },
  {
   "cell_type": "code",
   "execution_count": 58,
   "metadata": {},
   "outputs": [],
   "source": [
    "class Trie(object):\n",
    "    def __init__(self):\n",
    "        self.root=Node()\n",
    "    \n",
    "    \n",
    "    # insertar\n",
    "    def insert(self,word):\n",
    "        current=self.root\n",
    "        for character in word:\n",
    "            if character not in current.children:\n",
    "                current.children[character]=Node()\n",
    "            current=current.children[character]\n",
    "            current.prefix_count += 1\n",
    "        current.endOfWord=True\n",
    "        \n",
    "    def count(self,word):\n",
    "        current=self.root\n",
    "        for character in word:\n",
    "            if character not in current.children:\n",
    "                return 0\n",
    "            current=current.children[character]\n",
    "        return current.prefix_count\n",
    "            \n",
    "    \n",
    "    \n",
    "    # buscar\n",
    "    def search(self,word):\n",
    "        current=self.root\n",
    "        for character in word:\n",
    "            if character not in current.children:\n",
    "                return False\n",
    "            current=current.children[character]\n",
    "            \n",
    "        return current.endOfWord\n",
    "    \n",
    "    #buscar si existe alguna palabra que inicie con \n",
    "    def startWith(self,word):\n",
    "        current=self.root\n",
    "        for character in word:\n",
    "            if character not in current.children:\n",
    "                return False\n",
    "            current=current.children[character]\n",
    "        return True\n",
    "    \n",
    "    \n",
    "    \n",
    "    \n",
    "    \n",
    "    \n",
    "    "
   ]
  },
  {
   "cell_type": "code",
   "execution_count": 59,
   "metadata": {},
   "outputs": [],
   "source": [
    "root=Trie()"
   ]
  },
  {
   "cell_type": "code",
   "execution_count": 60,
   "metadata": {},
   "outputs": [],
   "source": [
    "root.insert(\"hack\")\n",
    "root.insert(\"hackerrank\")\n"
   ]
  },
  {
   "cell_type": "code",
   "execution_count": 61,
   "metadata": {},
   "outputs": [
    {
     "data": {
      "text/plain": [
       "2"
      ]
     },
     "execution_count": 61,
     "metadata": {},
     "output_type": "execute_result"
    }
   ],
   "source": [
    "root.count('hac')"
   ]
  },
  {
   "cell_type": "code",
   "execution_count": 62,
   "metadata": {},
   "outputs": [
    {
     "data": {
      "text/plain": [
       "0"
      ]
     },
     "execution_count": 62,
     "metadata": {},
     "output_type": "execute_result"
    }
   ],
   "source": [
    "root.count('hak')"
   ]
  },
  {
   "cell_type": "code",
   "execution_count": null,
   "metadata": {},
   "outputs": [],
   "source": []
  }
 ],
 "metadata": {
  "kernelspec": {
   "display_name": "Python 3",
   "language": "python",
   "name": "python3"
  },
  "language_info": {
   "codemirror_mode": {
    "name": "ipython",
    "version": 3
   },
   "file_extension": ".py",
   "mimetype": "text/x-python",
   "name": "python",
   "nbconvert_exporter": "python",
   "pygments_lexer": "ipython3",
   "version": "3.6.4rc1"
  }
 },
 "nbformat": 4,
 "nbformat_minor": 2
}
