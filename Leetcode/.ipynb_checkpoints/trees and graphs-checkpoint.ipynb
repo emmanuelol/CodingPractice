{
 "cells": [
  {
   "cell_type": "code",
   "execution_count": 1,
   "metadata": {},
   "outputs": [],
   "source": [
    "class TreeNode(object):\n",
    "    def __init__(self,val=0,left=None,right=None):\n",
    "        self.val=val\n",
    "        self.left=left\n",
    "        self.right=right"
   ]
  },
  {
   "cell_type": "code",
   "execution_count": 2,
   "metadata": {},
   "outputs": [],
   "source": [
    "   ## delete nodes and return the forest\n",
    "    ## O(n) time and O(n) space\n",
    "def delNodes(root, to_delete):\n",
    "    queue=collections.deque([(root, False)])\n",
    "    result=[]\n",
    "    deletes=set(to_delete)\n",
    "    while queue:\n",
    "        node,has_parent=queue.popleft()\n",
    "        if not has_parent and node.val not in deletes:\n",
    "            result.append(node)\n",
    "        has_parent=not node.val in deletes\n",
    "            \n",
    "        if node.left:\n",
    "            queue.append((node.left,has_parent))\n",
    "            if node.left.val in deletes:\n",
    "                node.left=None\n",
    "        if node.right:\n",
    "            queue.append((node.right,has_parent))\n",
    "            if node.right.val in deletes:\n",
    "                node.right=None\n",
    "    return result\n",
    "        "
   ]
  },
  {
   "cell_type": "code",
   "execution_count": 3,
   "metadata": {},
   "outputs": [],
   "source": [
    "tree_array=[1,2,3,4,5,6,7]\n",
    "to_delete=[3,5]"
   ]
  },
  {
   "cell_type": "code",
   "execution_count": null,
   "metadata": {},
   "outputs": [],
   "source": []
  },
  {
   "cell_type": "code",
   "execution_count": 4,
   "metadata": {},
   "outputs": [],
   "source": [
    "class TreeNode:\n",
    "    def __init__(self, val=0, left=None, right=None):\n",
    "        self.val = val\n",
    "        self.left = left\n",
    "        self.right = right"
   ]
  },
  {
   "cell_type": "code",
   "execution_count": null,
   "metadata": {},
   "outputs": [],
   "source": []
  },
  {
   "cell_type": "code",
   "execution_count": 5,
   "metadata": {},
   "outputs": [],
   "source": [
    "node_tree1=TreeNode(7)\n",
    "node_tree2=TreeNode(15)\n",
    "node_tree3=TreeNode(9)\n",
    "node_tree4=TreeNode(20,node_tree2,node_tree1)\n",
    "node_root=TreeNode(3,node_tree3,node_tree4)"
   ]
  },
  {
   "cell_type": "code",
   "execution_count": 25,
   "metadata": {},
   "outputs": [],
   "source": [
    "def inOrder(root,nodos=[]):\n",
    "    if root is None:\n",
    "        return\n",
    "    if root and root.left:\n",
    "        inOrder(root.left,nodos)\n",
    "    nodos.append(root.val)\n",
    "    if root and root.right:\n",
    "        inOrder(root.right,nodos)\n",
    "    return nodos"
   ]
  },
  {
   "cell_type": "code",
   "execution_count": 7,
   "metadata": {},
   "outputs": [
    {
     "name": "stdout",
     "output_type": "stream",
     "text": [
      "[9, 3, 15, 20, 7]\n"
     ]
    }
   ],
   "source": [
    "print(inOrder(node_root))"
   ]
  },
  {
   "cell_type": "code",
   "execution_count": 8,
   "metadata": {},
   "outputs": [],
   "source": [
    "from collections import deque\n"
   ]
  },
  {
   "cell_type": "code",
   "execution_count": null,
   "metadata": {},
   "outputs": [],
   "source": []
  },
  {
   "cell_type": "code",
   "execution_count": 32,
   "metadata": {},
   "outputs": [],
   "source": [
    "def bfs(root):\n",
    "    if root is None:\n",
    "        return\n",
    "    levels=[]\n",
    "    queue=deque()\n",
    "    level=0\n",
    "    queue.append((node_root,level))\n",
    "    while len(queue)>0:\n",
    "        node,level=queue.popleft()\n",
    "        if len(levels)==level:\n",
    "            levels.append([])\n",
    "        levels[level].append(node.val)\n",
    "        if node.left:\n",
    "            queue.append((node.left,level+1))\n",
    "        if node.right:\n",
    "            queue.append((node.right,level+1))\n",
    "    return levels"
   ]
  },
  {
   "cell_type": "code",
   "execution_count": 10,
   "metadata": {},
   "outputs": [
    {
     "data": {
      "text/plain": [
       "[[3], [9, 20], [15, 7]]"
      ]
     },
     "execution_count": 10,
     "metadata": {},
     "output_type": "execute_result"
    }
   ],
   "source": [
    "bfs(node_root)"
   ]
  },
  {
   "cell_type": "code",
   "execution_count": 39,
   "metadata": {},
   "outputs": [],
   "source": [
    "node_mirror_1=TreeNode(3)\n",
    "node_mirror_2=TreeNode(4)\n",
    "node_mirror_3=TreeNode(4)\n",
    "node_mirror_4=TreeNode(3)\n",
    "node_mirror_5=TreeNode(2,node_mirror_1,node_mirror_2)\n",
    "node_mirror_6=TreeNode(2,node_mirror_3,node_mirror_4)\n",
    "node_head=TreeNode(1,node_mirror_5,node_mirror_6)"
   ]
  },
  {
   "cell_type": "code",
   "execution_count": 40,
   "metadata": {},
   "outputs": [
    {
     "name": "stdout",
     "output_type": "stream",
     "text": [
      "[3, 2, 4, 1, 4, 2, 3]\n"
     ]
    }
   ],
   "source": [
    "print(inOrder(node_head,nodos=[]))"
   ]
  },
  {
   "cell_type": "code",
   "execution_count": 41,
   "metadata": {},
   "outputs": [],
   "source": [
    "levels=bfs(node_head)"
   ]
  },
  {
   "cell_type": "code",
   "execution_count": 42,
   "metadata": {},
   "outputs": [
    {
     "name": "stdout",
     "output_type": "stream",
     "text": [
      "[[3], [9, 20], [15, 7]]\n"
     ]
    }
   ],
   "source": [
    "print(levels)"
   ]
  },
  {
   "cell_type": "code",
   "execution_count": 31,
   "metadata": {},
   "outputs": [
    {
     "name": "stdout",
     "output_type": "stream",
     "text": [
      "[3]\n",
      "[9, 20]\n",
      "1\n",
      "True\n",
      "[15, 7]\n",
      "1\n",
      "True\n"
     ]
    }
   ],
   "source": [
    "for i in levels:\n",
    "    print(i)\n",
    "    if len(i)//2:\n",
    "        print(len(i)//2)\n",
    "        print(True)"
   ]
  },
  {
   "cell_type": "code",
   "execution_count": 11,
   "metadata": {},
   "outputs": [
    {
     "name": "stdout",
     "output_type": "stream",
     "text": [
      "hello\n"
     ]
    }
   ],
   "source": [
    "print('hello')"
   ]
  },
  {
   "cell_type": "code",
   "execution_count": 65,
   "metadata": {},
   "outputs": [],
   "source": [
    "def dfs(root):\n",
    "    depths=[]\n",
    "    depth=1\n",
    "    nodes=[]\n",
    "    nodes.append((root,depth))\n",
    "    while len(nodes):\n",
    "        node,depth=nodes.pop()\n",
    "        if not(node.left) and not(node.right):\n",
    "            if depth not in depths:\n",
    "                depths.append(depth)\n",
    "     \n",
    "        else:\n",
    "            if node.left:\n",
    "                nodes.append((node.left,depth+1))\n",
    "            if node.right:\n",
    "                nodes.append((node.right,depth+1))\n",
    "    return max(depths)\n",
    "        "
   ]
  },
  {
   "cell_type": "code",
   "execution_count": 66,
   "metadata": {},
   "outputs": [
    {
     "data": {
      "text/plain": [
       "3"
      ]
     },
     "execution_count": 66,
     "metadata": {},
     "output_type": "execute_result"
    }
   ],
   "source": [
    "dfs(node_root)"
   ]
  },
  {
   "cell_type": "code",
   "execution_count": null,
   "metadata": {},
   "outputs": [],
   "source": []
  }
 ],
 "metadata": {
  "kernelspec": {
   "display_name": "Python 3",
   "language": "python",
   "name": "python3"
  },
  "language_info": {
   "codemirror_mode": {
    "name": "ipython",
    "version": 3
   },
   "file_extension": ".py",
   "mimetype": "text/x-python",
   "name": "python",
   "nbconvert_exporter": "python",
   "pygments_lexer": "ipython3",
   "version": "3.6.8"
  }
 },
 "nbformat": 4,
 "nbformat_minor": 4
}
