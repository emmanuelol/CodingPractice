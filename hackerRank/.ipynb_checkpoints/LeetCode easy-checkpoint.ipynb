{
 "cells": [
  {
   "cell_type": "markdown",
   "metadata": {},
   "source": [
    "# Two Sum"
   ]
  },
  {
   "cell_type": "code",
   "execution_count": 1,
   "metadata": {},
   "outputs": [],
   "source": [
    "nums=[2,7,11,15]\n",
    "target=9"
   ]
  },
  {
   "cell_type": "code",
   "execution_count": 2,
   "metadata": {},
   "outputs": [],
   "source": [
    "# esto regresa los valores del array que suman el target\n",
    "def twoSum(array,suma):\n",
    "    sumas=[]\n",
    "    mapa={}\n",
    "    for i in range(len(array)):\n",
    "        sumMinus=suma-array[i]\n",
    "        if sumMinus in mapa:\n",
    "            sumas.append([array[i],sumMinus])\n",
    "        mapa[array[i]]=array[i]\n",
    "    return sumas"
   ]
  },
  {
   "cell_type": "code",
   "execution_count": 3,
   "metadata": {},
   "outputs": [
    {
     "data": {
      "text/plain": [
       "[7, 2]"
      ]
     },
     "execution_count": 3,
     "metadata": {},
     "output_type": "execute_result"
    }
   ],
   "source": [
    "twoSum(nums,target)[0]"
   ]
  },
  {
   "cell_type": "code",
   "execution_count": 4,
   "metadata": {},
   "outputs": [],
   "source": [
    "# esto entrega los indices de los valores que dan la suma\n",
    "def twoSum2(array,suma):\n",
    "    mapa={}\n",
    "    for i,m in enumerate(array):\n",
    "        if suma-m in mapa:\n",
    "            return [mapa[suma-m],i]\n",
    "        mapa[m]=i\n",
    "    return []"
   ]
  },
  {
   "cell_type": "code",
   "execution_count": 5,
   "metadata": {},
   "outputs": [
    {
     "data": {
      "text/plain": [
       "[0, 1]"
      ]
     },
     "execution_count": 5,
     "metadata": {},
     "output_type": "execute_result"
    }
   ],
   "source": [
    "twoSum2(nums,target)"
   ]
  },
  {
   "cell_type": "code",
   "execution_count": 6,
   "metadata": {},
   "outputs": [
    {
     "name": "stdout",
     "output_type": "stream",
     "text": [
      "0\n",
      "2\n",
      "1\n",
      "7\n",
      "2\n",
      "11\n",
      "3\n",
      "15\n"
     ]
    }
   ],
   "source": [
    "for i,m in enumerate(nums):\n",
    "    print(i)\n",
    "    print(m)"
   ]
  },
  {
   "cell_type": "markdown",
   "metadata": {},
   "source": [
    "## reverse integer\n",
    "reverse a integer number \n",
    "i.e.\n",
    "123->321\n",
    "-123>-321"
   ]
  },
  {
   "cell_type": "code",
   "execution_count": 7,
   "metadata": {},
   "outputs": [],
   "source": [
    "entero=210"
   ]
  },
  {
   "cell_type": "code",
   "execution_count": 8,
   "metadata": {},
   "outputs": [],
   "source": [
    "entero1=-123"
   ]
  },
  {
   "cell_type": "code",
   "execution_count": 9,
   "metadata": {},
   "outputs": [],
   "source": [
    "\n",
    "\n",
    "def reverse(entero):\n",
    "    numero=str(entero)\n",
    "    if numero.startswith('-'):\n",
    "        numero=numero[1:]\n",
    "        numero=numero[::-1]\n",
    "        numero='-'+numero\n",
    "        return int(numero) if (int(numero) > (-2**31)) and (int(numero) < (2**31) - 1) else 0 \n",
    "    elif numero!='0' and numero.endswith('0'):\n",
    "        numero=numero[:-1]\n",
    "        numero=numero[::-1]\n",
    "        return int(numero) if (int(numero) > (-2**31)) and (int(numero) < (2**31) - 1) else 0 \n",
    "    elif numero=='0':\n",
    "        return 0\n",
    "    else:\n",
    "        numero=numero[::-1]\n",
    "        return int(numero) if (int(numero) > (-2**31)) and (int(numero) < (2**31) - 1) else 0 \n",
    "        #print(numero[::-1])\n",
    "\n"
   ]
  },
  {
   "cell_type": "code",
   "execution_count": 10,
   "metadata": {},
   "outputs": [
    {
     "data": {
      "text/plain": [
       "12"
      ]
     },
     "execution_count": 10,
     "metadata": {},
     "output_type": "execute_result"
    }
   ],
   "source": [
    "reverse(entero)"
   ]
  },
  {
   "cell_type": "code",
   "execution_count": 11,
   "metadata": {},
   "outputs": [
    {
     "data": {
      "text/plain": [
       "-321"
      ]
     },
     "execution_count": 11,
     "metadata": {},
     "output_type": "execute_result"
    }
   ],
   "source": [
    "reverse(entero1)"
   ]
  },
  {
   "cell_type": "markdown",
   "metadata": {},
   "source": [
    "# remove duplicates from a sorted array"
   ]
  },
  {
   "cell_type": "code",
   "execution_count": 12,
   "metadata": {},
   "outputs": [],
   "source": [
    "a=[1,1,2]\n",
    "b=[0,0,1,1,1,2,2,3,3,4]"
   ]
  },
  {
   "cell_type": "code",
   "execution_count": 13,
   "metadata": {},
   "outputs": [],
   "source": [
    "def removeDuplicates(nums):\n",
    "    mapa={}\n",
    "    for i in nums:\n",
    "        if i in mapa:\n",
    "            mapa[i]+=1\n",
    "        else:\n",
    "            mapa[i]=1\n",
    "    return list(mapa.keys())\n",
    "        "
   ]
  },
  {
   "cell_type": "code",
   "execution_count": 14,
   "metadata": {},
   "outputs": [],
   "source": [
    "mapa={}\n",
    "for i in a:\n",
    "    if i in mapa:\n",
    "        mapa[i]+=1\n",
    "    else:\n",
    "        mapa[i]=1"
   ]
  },
  {
   "cell_type": "code",
   "execution_count": 15,
   "metadata": {},
   "outputs": [
    {
     "data": {
      "text/plain": [
       "{1: 2, 2: 1}"
      ]
     },
     "execution_count": 15,
     "metadata": {},
     "output_type": "execute_result"
    }
   ],
   "source": [
    "mapa"
   ]
  },
  {
   "cell_type": "code",
   "execution_count": 16,
   "metadata": {},
   "outputs": [
    {
     "data": {
      "text/plain": [
       "[1, 2]"
      ]
     },
     "execution_count": 16,
     "metadata": {},
     "output_type": "execute_result"
    }
   ],
   "source": [
    "list(mapa.keys()) \n"
   ]
  },
  {
   "cell_type": "code",
   "execution_count": 17,
   "metadata": {},
   "outputs": [
    {
     "data": {
      "text/plain": [
       "2"
      ]
     },
     "execution_count": 17,
     "metadata": {},
     "output_type": "execute_result"
    }
   ],
   "source": [
    "len(list(mapa.keys()))\n"
   ]
  },
  {
   "cell_type": "code",
   "execution_count": 18,
   "metadata": {},
   "outputs": [
    {
     "data": {
      "text/plain": [
       "[1, 2]"
      ]
     },
     "execution_count": 18,
     "metadata": {},
     "output_type": "execute_result"
    }
   ],
   "source": [
    "removeDuplicates(a)"
   ]
  },
  {
   "cell_type": "code",
   "execution_count": 19,
   "metadata": {},
   "outputs": [
    {
     "data": {
      "text/plain": [
       "[0, 1, 2, 3, 4]"
      ]
     },
     "execution_count": 19,
     "metadata": {},
     "output_type": "execute_result"
    }
   ],
   "source": [
    "removeDuplicates(b)"
   ]
  },
  {
   "cell_type": "markdown",
   "metadata": {},
   "source": [
    "## Palindrome Number"
   ]
  },
  {
   "cell_type": "code",
   "execution_count": 20,
   "metadata": {},
   "outputs": [],
   "source": [
    "entrada=121"
   ]
  },
  {
   "cell_type": "code",
   "execution_count": 21,
   "metadata": {},
   "outputs": [
    {
     "data": {
      "text/plain": [
       "121"
      ]
     },
     "execution_count": 21,
     "metadata": {},
     "output_type": "execute_result"
    }
   ],
   "source": [
    "entrada"
   ]
  },
  {
   "cell_type": "code",
   "execution_count": 22,
   "metadata": {},
   "outputs": [],
   "source": [
    "from collections import deque\n"
   ]
  },
  {
   "cell_type": "code",
   "execution_count": 23,
   "metadata": {},
   "outputs": [],
   "source": [
    "def Int2List(num):\n",
    "    digits = deque()\n",
    "    while True:\n",
    "        num,r = divmod(num,10)\n",
    "        digits.appendleft(r)\n",
    "        if num == 0:\n",
    "            break\n",
    "    return list(digits)"
   ]
  },
  {
   "cell_type": "code",
   "execution_count": 24,
   "metadata": {},
   "outputs": [],
   "source": [
    "def palindromeNum(num):\n",
    "    if num<0:\n",
    "        return False\n",
    "    else:\n",
    "        lst=Int2List(num)\n",
    "        if lst==lst[::-1]:\n",
    "            return True\n",
    "        else:\n",
    "            return False"
   ]
  },
  {
   "cell_type": "code",
   "execution_count": 25,
   "metadata": {},
   "outputs": [
    {
     "data": {
      "text/plain": [
       "True"
      ]
     },
     "execution_count": 25,
     "metadata": {},
     "output_type": "execute_result"
    }
   ],
   "source": [
    "palindromeNum(entrada)"
   ]
  },
  {
   "cell_type": "code",
   "execution_count": 26,
   "metadata": {},
   "outputs": [
    {
     "data": {
      "text/plain": [
       "False"
      ]
     },
     "execution_count": 26,
     "metadata": {},
     "output_type": "execute_result"
    }
   ],
   "source": [
    "palindromeNum(10)"
   ]
  },
  {
   "cell_type": "code",
   "execution_count": 27,
   "metadata": {},
   "outputs": [
    {
     "data": {
      "text/plain": [
       "False"
      ]
     },
     "execution_count": 27,
     "metadata": {},
     "output_type": "execute_result"
    }
   ],
   "source": [
    "palindromeNum(-121)"
   ]
  },
  {
   "cell_type": "code",
   "execution_count": 28,
   "metadata": {},
   "outputs": [],
   "source": [
    "from collections import deque\n",
    "class Solution:\n",
    "    def isPalindrome(self, x: int) -> bool:\n",
    "        if x>=0:\n",
    "            digits = deque()\n",
    "            while True:\n",
    "                x,r = divmod(x,10)\n",
    "                digits.appendleft(r)\n",
    "                if x == 0:\n",
    "                    break\n",
    "            lst=list(digits)\n",
    "            if lst==lst[::-1]:\n",
    "                return True\n",
    "            else:\n",
    "                return False"
   ]
  },
  {
   "cell_type": "markdown",
   "metadata": {},
   "source": [
    "## Roman To Integer"
   ]
  },
  {
   "cell_type": "code",
   "execution_count": 29,
   "metadata": {},
   "outputs": [],
   "source": [
    "def roman2int(string):\n",
    "    mapa={'I':1,'V':5,'X':10,'L':50,'C':100,'D':500,'M':1000}\n",
    "    suma=0\n",
    "    for i in range(len(string)):\n",
    "        valor=mapa[string[i]]\n",
    "        if i+1<len(string) and mapa[string[i+1]]>valor:\n",
    "            suma-=valor\n",
    "        else:\n",
    "            suma+=valor\n",
    "    return suma\n",
    "        "
   ]
  },
  {
   "cell_type": "code",
   "execution_count": 30,
   "metadata": {},
   "outputs": [],
   "source": [
    "numero_entrada='III'"
   ]
  },
  {
   "cell_type": "code",
   "execution_count": 31,
   "metadata": {},
   "outputs": [
    {
     "data": {
      "text/plain": [
       "3"
      ]
     },
     "execution_count": 31,
     "metadata": {},
     "output_type": "execute_result"
    }
   ],
   "source": [
    "roman2int(numero_entrada)"
   ]
  },
  {
   "cell_type": "code",
   "execution_count": 32,
   "metadata": {},
   "outputs": [],
   "source": [
    "numero_entrada='LVIII'"
   ]
  },
  {
   "cell_type": "code",
   "execution_count": 33,
   "metadata": {},
   "outputs": [
    {
     "data": {
      "text/plain": [
       "58"
      ]
     },
     "execution_count": 33,
     "metadata": {},
     "output_type": "execute_result"
    }
   ],
   "source": [
    "roman2int(numero_entrada)"
   ]
  },
  {
   "cell_type": "code",
   "execution_count": 34,
   "metadata": {},
   "outputs": [],
   "source": [
    "numero_entrada='IV'"
   ]
  },
  {
   "cell_type": "code",
   "execution_count": 35,
   "metadata": {},
   "outputs": [
    {
     "data": {
      "text/plain": [
       "4"
      ]
     },
     "execution_count": 35,
     "metadata": {},
     "output_type": "execute_result"
    }
   ],
   "source": [
    "roman2int(numero_entrada)"
   ]
  },
  {
   "cell_type": "markdown",
   "metadata": {},
   "source": [
    "## Longest Common Prefix"
   ]
  },
  {
   "cell_type": "code",
   "execution_count": 36,
   "metadata": {},
   "outputs": [],
   "source": [
    "def commonPrefixUtil(str1,str2):\n",
    "    result=\"\"\n",
    "    print(str1)\n",
    "    print(str2)\n",
    "    n1=len(str1)\n",
    "    n2=len(str2)\n",
    "    i=0\n",
    "    j=0\n",
    "    while i<(n1) and j<(n2):\n",
    "        if(str1[i]!=str2[j]):\n",
    "            print(i)\n",
    "            break\n",
    "        result+=str1[i]\n",
    "        #print(str1[i])\n",
    "        i+=1\n",
    "        j+=1\n",
    "    return result"
   ]
  },
  {
   "cell_type": "code",
   "execution_count": 37,
   "metadata": {},
   "outputs": [],
   "source": [
    "def commonPrefix(array):\n",
    "    n=len(array)\n",
    "    prefix=array[0]\n",
    "    for i in range(1,n):\n",
    "        prefix=commonPrefixUtil(prefix,array[i])\n",
    "    return prefix"
   ]
  },
  {
   "cell_type": "code",
   "execution_count": 38,
   "metadata": {},
   "outputs": [],
   "source": [
    "array= [\"flower\",\"flow\",\"flight\"]"
   ]
  },
  {
   "cell_type": "code",
   "execution_count": 39,
   "metadata": {},
   "outputs": [
    {
     "name": "stdout",
     "output_type": "stream",
     "text": [
      "flower\n",
      "flow\n",
      "flow\n",
      "flight\n",
      "2\n"
     ]
    },
    {
     "data": {
      "text/plain": [
       "'fl'"
      ]
     },
     "execution_count": 39,
     "metadata": {},
     "output_type": "execute_result"
    }
   ],
   "source": [
    "commonPrefix(array)"
   ]
  },
  {
   "cell_type": "code",
   "execution_count": 40,
   "metadata": {},
   "outputs": [],
   "source": [
    "array=[\"dog\",\"racecar\",\"car\"]\n"
   ]
  },
  {
   "cell_type": "code",
   "execution_count": 41,
   "metadata": {},
   "outputs": [
    {
     "name": "stdout",
     "output_type": "stream",
     "text": [
      "dog\n",
      "racecar\n",
      "0\n",
      "\n",
      "car\n"
     ]
    },
    {
     "data": {
      "text/plain": [
       "''"
      ]
     },
     "execution_count": 41,
     "metadata": {},
     "output_type": "execute_result"
    }
   ],
   "source": [
    "commonPrefix(array)"
   ]
  },
  {
   "cell_type": "code",
   "execution_count": 42,
   "metadata": {},
   "outputs": [],
   "source": [
    "array=[\"c\",\"c\"]"
   ]
  },
  {
   "cell_type": "code",
   "execution_count": 43,
   "metadata": {},
   "outputs": [
    {
     "name": "stdout",
     "output_type": "stream",
     "text": [
      "c\n",
      "c\n"
     ]
    },
    {
     "data": {
      "text/plain": [
       "'c'"
      ]
     },
     "execution_count": 43,
     "metadata": {},
     "output_type": "execute_result"
    }
   ],
   "source": [
    "commonPrefix(array)"
   ]
  },
  {
   "cell_type": "code",
   "execution_count": null,
   "metadata": {},
   "outputs": [],
   "source": []
  },
  {
   "cell_type": "markdown",
   "metadata": {},
   "source": [
    "## Valid Parentheses"
   ]
  },
  {
   "cell_type": "code",
   "execution_count": 44,
   "metadata": {},
   "outputs": [],
   "source": [
    "mapa={'(':')','{':'}','[':']'}    "
   ]
  },
  {
   "cell_type": "code",
   "execution_count": 45,
   "metadata": {},
   "outputs": [],
   "source": [
    "test='[]()'"
   ]
  },
  {
   "cell_type": "code",
   "execution_count": 46,
   "metadata": {},
   "outputs": [],
   "source": [
    "test2='[)'"
   ]
  },
  {
   "cell_type": "code",
   "execution_count": 47,
   "metadata": {},
   "outputs": [
    {
     "name": "stdout",
     "output_type": "stream",
     "text": [
      "True\n",
      "True\n"
     ]
    }
   ],
   "source": [
    "for i in range(0,len(test),2):\n",
    "    if test[i] in mapa and mapa[test[i]]==test[i+1]:\n",
    "        print(True)\n",
    "    else:\n",
    "        print(False)"
   ]
  },
  {
   "cell_type": "code",
   "execution_count": 48,
   "metadata": {},
   "outputs": [
    {
     "name": "stdout",
     "output_type": "stream",
     "text": [
      "False\n"
     ]
    }
   ],
   "source": [
    "for i in range(0,len(test2),2):\n",
    "    if test2[i] in mapa and mapa[test2[i]]==test2[i+1]:\n",
    "        print(True)\n",
    "    else:\n",
    "        print(False)"
   ]
  },
  {
   "cell_type": "code",
   "execution_count": 49,
   "metadata": {},
   "outputs": [],
   "source": [
    "def validParentheses(string):\n",
    "    count=0\n",
    "    mapa={'(':')','{':'}','[':']'}    \n",
    "    for i in range(0,len(string),2):\n",
    "        if string[i] in mapa and mapa[string[i]]==string[i+1]:\n",
    "            count+=1 \n",
    "        else:\n",
    "            return False\n",
    "    return True"
   ]
  },
  {
   "cell_type": "code",
   "execution_count": 50,
   "metadata": {},
   "outputs": [
    {
     "data": {
      "text/plain": [
       "True"
      ]
     },
     "execution_count": 50,
     "metadata": {},
     "output_type": "execute_result"
    }
   ],
   "source": [
    "validParentheses(test)"
   ]
  },
  {
   "cell_type": "code",
   "execution_count": 51,
   "metadata": {},
   "outputs": [
    {
     "data": {
      "text/plain": [
       "False"
      ]
     },
     "execution_count": 51,
     "metadata": {},
     "output_type": "execute_result"
    }
   ],
   "source": [
    "validParentheses(test2)"
   ]
  },
  {
   "cell_type": "code",
   "execution_count": 52,
   "metadata": {},
   "outputs": [],
   "source": [
    "def is_valid_parenthese(str1):\n",
    "    stack, pchar = [], {\"(\": \")\", \"{\": \"}\", \"[\": \"]\"}\n",
    "    for parenthese in str1:\n",
    "        if parenthese in pchar:\n",
    "            print(parenthese)\n",
    "            stack.append(parenthese)\n",
    "            print(stack)\n",
    "        elif len(stack) == 0 or pchar[stack.pop()] != parenthese:\n",
    "            return False\n",
    "    return len(stack) == 0"
   ]
  },
  {
   "cell_type": "code",
   "execution_count": 53,
   "metadata": {},
   "outputs": [
    {
     "name": "stdout",
     "output_type": "stream",
     "text": [
      "[\n",
      "['[']\n",
      "(\n",
      "['(']\n"
     ]
    },
    {
     "data": {
      "text/plain": [
       "True"
      ]
     },
     "execution_count": 53,
     "metadata": {},
     "output_type": "execute_result"
    }
   ],
   "source": [
    "is_valid_parenthese(test)"
   ]
  },
  {
   "cell_type": "code",
   "execution_count": 54,
   "metadata": {},
   "outputs": [
    {
     "name": "stdout",
     "output_type": "stream",
     "text": [
      "[\n",
      "['[']\n"
     ]
    },
    {
     "data": {
      "text/plain": [
       "False"
      ]
     },
     "execution_count": 54,
     "metadata": {},
     "output_type": "execute_result"
    }
   ],
   "source": [
    "is_valid_parenthese(test2)"
   ]
  },
  {
   "cell_type": "markdown",
   "metadata": {},
   "source": [
    "esta solucion se basa en pila y hash map (este solo tiene como llave la apertura), compara cada elemento del string este dentro del hash si lo esta lo agrega a la pila, si es una un elemento que cierra busca que el valor almacenado en la pila para comparar si no tiene match se declara falso, si lo tuviera regresa verdadero "
   ]
  },
  {
   "cell_type": "markdown",
   "metadata": {},
   "source": [
    "O(N) tiempo y memoria O(N/2)"
   ]
  },
  {
   "cell_type": "markdown",
   "metadata": {},
   "source": [
    "## Count and say (todavia no le entiendo)"
   ]
  },
  {
   "cell_type": "code",
   "execution_count": 55,
   "metadata": {},
   "outputs": [],
   "source": [
    "def countAndSay(n):\n",
    "    if n == 0 :\n",
    "        return \"\"\n",
    "    actual =['1']\n",
    "    for i in range(1,n):\n",
    "        previous = actual\n",
    "        actual = []\n",
    "        actChar = previous[0]\n",
    "        count = 1\n",
    "        for j in range(1, len(previous)):\n",
    "            if previous[j] == actChar:\n",
    "                count += 1\n",
    "            else:\n",
    "                actual.append(str(count))\n",
    "                actual.append(actChar)\n",
    "                actChar = previous[j]\n",
    "                count = 1\n",
    "        actual.append(str(count))\n",
    "        actual.append(actChar)\n",
    "    return ''.join(actual)\n",
    "        "
   ]
  },
  {
   "cell_type": "code",
   "execution_count": 56,
   "metadata": {},
   "outputs": [
    {
     "data": {
      "text/plain": [
       "'1211'"
      ]
     },
     "execution_count": 56,
     "metadata": {},
     "output_type": "execute_result"
    }
   ],
   "source": [
    "countAndSay(4)"
   ]
  },
  {
   "cell_type": "markdown",
   "metadata": {},
   "source": [
    "## Maximum Subarray"
   ]
  },
  {
   "cell_type": "code",
   "execution_count": 71,
   "metadata": {},
   "outputs": [],
   "source": [
    "def maxSubArray(nums):\n",
    "    if len(nums)==0:\n",
    "        return 0\n",
    "    temp = 0\n",
    "    maxSum = nums[0]\n",
    "    for i in range(0, len(nums)):\n",
    "        temp = max(nums[i], nums[i]+temp)\n",
    "        if temp> maxSum:\n",
    "            maxSum = temp\n",
    "    return maxSum"
   ]
  },
  {
   "cell_type": "code",
   "execution_count": 74,
   "metadata": {},
   "outputs": [
    {
     "data": {
      "text/plain": [
       "-1"
      ]
     },
     "execution_count": 74,
     "metadata": {},
     "output_type": "execute_result"
    }
   ],
   "source": [
    "maxSubArray([-1])"
   ]
  },
  {
   "cell_type": "code",
   "execution_count": 75,
   "metadata": {},
   "outputs": [
    {
     "data": {
      "text/plain": [
       "6"
      ]
     },
     "execution_count": 75,
     "metadata": {},
     "output_type": "execute_result"
    }
   ],
   "source": [
    "maxSubArray([-2,1,-3,4,-1,2,1,-5,4])"
   ]
  },
  {
   "cell_type": "markdown",
   "metadata": {},
   "source": [
    "## Plus One"
   ]
  },
  {
   "cell_type": "code",
   "execution_count": 80,
   "metadata": {},
   "outputs": [],
   "source": [
    "def incrementVector(a): \n",
    "  \n",
    "    n = len(a) \n",
    "   \n",
    "    # Add 1 to last digit and find carry \n",
    "    a[n-1] += 1\n",
    "    carry = a[n-1]/10\n",
    "    a[n-1] = a[n-1] % 10\n",
    "   \n",
    "    # Traverse from second last digit \n",
    "    for i in range(n-2,-1,-1): \n",
    "        if (carry == 1): \n",
    "           a[i] += 1\n",
    "           carry = a[i]/10\n",
    "           a[i] = a[i] % 10\n",
    "          \n",
    "    # If carry is 1, we need to add \n",
    "    # a 1 at the beginning of vector \n",
    "    if (carry == 1): \n",
    "      a.insert(0, 1) \n",
    "    return a"
   ]
  },
  {
   "cell_type": "code",
   "execution_count": 81,
   "metadata": {},
   "outputs": [
    {
     "name": "stdout",
     "output_type": "stream",
     "text": [
      "[1, 2, 4]\n"
     ]
    }
   ],
   "source": [
    "print(incrementVector([1,2,3]))"
   ]
  },
  {
   "cell_type": "code",
   "execution_count": 82,
   "metadata": {},
   "outputs": [
    {
     "data": {
      "text/plain": [
       "[1, 0, 0, 0, 0]"
      ]
     },
     "execution_count": 82,
     "metadata": {},
     "output_type": "execute_result"
    }
   ],
   "source": [
    "incrementVector([9,9,9,9])"
   ]
  },
  {
   "cell_type": "code",
   "execution_count": null,
   "metadata": {},
   "outputs": [],
   "source": []
  }
 ],
 "metadata": {
  "kernelspec": {
   "display_name": "Python 3",
   "language": "python",
   "name": "python3"
  },
  "language_info": {
   "codemirror_mode": {
    "name": "ipython",
    "version": 3
   },
   "file_extension": ".py",
   "mimetype": "text/x-python",
   "name": "python",
   "nbconvert_exporter": "python",
   "pygments_lexer": "ipython3",
   "version": "3.6.8"
  }
 },
 "nbformat": 4,
 "nbformat_minor": 4
}
