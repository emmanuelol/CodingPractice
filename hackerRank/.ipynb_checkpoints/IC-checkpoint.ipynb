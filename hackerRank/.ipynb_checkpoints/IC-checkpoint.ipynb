{
 "cells": [
  {
   "cell_type": "code",
   "execution_count": 1,
   "metadata": {},
   "outputs": [],
   "source": [
    "s_p=[10,7,5,8,11,9]"
   ]
  },
  {
   "cell_type": "code",
   "execution_count": 2,
   "metadata": {},
   "outputs": [],
   "source": [
    "def get_max_profit(stock_prices):\n",
    "    if not stock_prices:\n",
    "        raise Exception('empty')\n",
    "    elif len(stock_prices)==1:\n",
    "        raise Exception('just one stock')\n",
    "    else:\n",
    "        # Calculate the max profit\n",
    "        max_profit=0\n",
    "        for outter_time in range(len(stock_prices)):\n",
    "            for inner_time in range(len(stock_prices)):\n",
    "                earlier_time=min(outter_time,inner_time)\n",
    "                later_time=max(outter_time,inner_time)\n",
    "            \n",
    "                earlier_price=stock_prices[earlier_time]\n",
    "                later_price=stock_prices[later_time]\n",
    "                potential_profit=later_price-earlier_price\n",
    "                max_profit=max(max_profit,potential_profit)\n",
    "\n",
    "    return max_profit"
   ]
  },
  {
   "cell_type": "code",
   "execution_count": 3,
   "metadata": {},
   "outputs": [
    {
     "data": {
      "text/plain": [
       "6"
      ]
     },
     "execution_count": 3,
     "metadata": {},
     "output_type": "execute_result"
    }
   ],
   "source": [
    "get_max_profit(s_p)"
   ]
  },
  {
   "cell_type": "code",
   "execution_count": 4,
   "metadata": {},
   "outputs": [],
   "source": [
    "def get_max_profit(stock_prices):\n",
    "    max_profit = 0\n",
    "    if not stock_prices:\n",
    "        raise Exception('empty')\n",
    "    elif len(stock_prices)==1:\n",
    "        raise Exception('just one stock')\n",
    "    else:\n",
    "        for earlier_time, earlier_price in enumerate(stock_prices):\n",
    "            for later_time in range(earlier_time + 1, len(stock_prices)):\n",
    "                later_price = stock_prices[later_time]\n",
    "                potential_profit = later_price - earlier_price\n",
    "                max_profit = max(max_profit, potential_profit)\n",
    "\n",
    "    return max_profit"
   ]
  },
  {
   "cell_type": "code",
   "execution_count": 5,
   "metadata": {},
   "outputs": [
    {
     "data": {
      "text/plain": [
       "0"
      ]
     },
     "execution_count": 5,
     "metadata": {},
     "output_type": "execute_result"
    }
   ],
   "source": [
    "get_max_profit([9, 7, 4, 1])"
   ]
  },
  {
   "cell_type": "code",
   "execution_count": 6,
   "metadata": {},
   "outputs": [],
   "source": [
    "\n",
    "def get_max_profit_greedy(stock_prices):\n",
    "    # check that the stock prices is not empty or just one value\n",
    "\n",
    "    max_profit=stock_prices[1]-stock_prices[0]\n",
    "    low=stock_prices[0]\n",
    "    for i in stock_prices[1:]:\n",
    "        potential_profit=i-low\n",
    "        max_profit=max(max_profit,potential_profit)\n",
    "        low=min(low,i)\n",
    "        \n",
    "    return max_profit"
   ]
  },
  {
   "cell_type": "code",
   "execution_count": 7,
   "metadata": {},
   "outputs": [
    {
     "data": {
      "text/plain": [
       "-2"
      ]
     },
     "execution_count": 7,
     "metadata": {},
     "output_type": "execute_result"
    }
   ],
   "source": [
    "get_max_profit_greedy([9, 7, 4, 1])"
   ]
  },
  {
   "cell_type": "markdown",
   "metadata": {},
   "source": [
    "## Merging Meeting times"
   ]
  },
  {
   "cell_type": "code",
   "execution_count": 8,
   "metadata": {},
   "outputs": [],
   "source": [
    "#a=[(1, 3), (2, 4)]\n",
    "a= [(1, 2), (2, 3)]\n",
    "#a=[(1, 5), (2, 3)]"
   ]
  },
  {
   "cell_type": "code",
   "execution_count": 9,
   "metadata": {},
   "outputs": [],
   "source": [
    "for i in range(len(a)-1):\n",
    "    if a[i][i+1]>=a[i+1][i]:\n",
    "        if a[i][i+1]>[i+1][i]:\n",
    "            result=a[i][i],a[i][i+1]\n",
    "        else:\n",
    "            result=a[i][i],a[i+1][i+1]"
   ]
  },
  {
   "cell_type": "code",
   "execution_count": 10,
   "metadata": {},
   "outputs": [
    {
     "data": {
      "text/plain": [
       "2"
      ]
     },
     "execution_count": 10,
     "metadata": {},
     "output_type": "execute_result"
    }
   ],
   "source": [
    "a[0][1]"
   ]
  },
  {
   "cell_type": "code",
   "execution_count": 11,
   "metadata": {},
   "outputs": [
    {
     "data": {
      "text/plain": [
       "3"
      ]
     },
     "execution_count": 11,
     "metadata": {},
     "output_type": "execute_result"
    }
   ],
   "source": [
    "a[1][1]"
   ]
  },
  {
   "cell_type": "code",
   "execution_count": 12,
   "metadata": {},
   "outputs": [
    {
     "data": {
      "text/plain": [
       "(1, 2)"
      ]
     },
     "execution_count": 12,
     "metadata": {},
     "output_type": "execute_result"
    }
   ],
   "source": [
    "result"
   ]
  },
  {
   "cell_type": "code",
   "execution_count": 13,
   "metadata": {},
   "outputs": [
    {
     "data": {
      "text/plain": [
       "[(1, 2), (2, 3)]"
      ]
     },
     "execution_count": 13,
     "metadata": {},
     "output_type": "execute_result"
    }
   ],
   "source": [
    "sorted(a)"
   ]
  },
  {
   "cell_type": "code",
   "execution_count": 14,
   "metadata": {},
   "outputs": [],
   "source": [
    "## greedy\n",
    "## time O(nlogn)\n",
    "## space O(ns)\n",
    "def mergeRanges(meetings):\n",
    "    sortMeetings=sorted(meetings)\n",
    "    mergedMeetings=[sortMeetings[0]]\n",
    "    \n",
    "    for currentMeetingStart,currentMeetingEnd in sortMeetings[1:]:\n",
    "        lastMergedMeetingStart,LastMergedMeetingEnd=mergedMeetings[-1]\n",
    "        if(currentMeetingStart<=LastMergedMeetingEnd):\n",
    "            mergedMeetings[-1]=(lastMergedMeetingStart,max(LastMergedMeetingEnd,currentMeetingEnd))\n",
    "        else:\n",
    "            mergedMeetings.append((currentMeetingStart,currentMeetingEnd))\n",
    "    return mergedMeetings"
   ]
  },
  {
   "cell_type": "code",
   "execution_count": 15,
   "metadata": {},
   "outputs": [
    {
     "data": {
      "text/plain": [
       "[(1, 3)]"
      ]
     },
     "execution_count": 15,
     "metadata": {},
     "output_type": "execute_result"
    }
   ],
   "source": [
    "mergeRanges(a)"
   ]
  },
  {
   "cell_type": "code",
   "execution_count": null,
   "metadata": {},
   "outputs": [],
   "source": []
  },
  {
   "cell_type": "markdown",
   "metadata": {},
   "source": [
    "## product of other numbers"
   ]
  },
  {
   "cell_type": "code",
   "execution_count": 16,
   "metadata": {},
   "outputs": [],
   "source": [
    "list_of_ints=[1,7,3,4]"
   ]
  },
  {
   "cell_type": "code",
   "execution_count": 17,
   "metadata": {},
   "outputs": [],
   "source": [
    "def get_products_of_all_ints_except_at_index(int_list):\n",
    "    if len(int_list)<2:\n",
    "        raise valueError('error')\n",
    "\n",
    "    # Make a list with the products\n",
    "    resultado=[]\n",
    "    for i in range(len(int_list)):\n",
    "        temp=1\n",
    "        for j in range(len(int_list[:])):\n",
    "            if j!=i:\n",
    "                temp*=int_list[j]\n",
    "        resultado.append(temp)\n",
    "    \n",
    "\n",
    "    return resultado"
   ]
  },
  {
   "cell_type": "code",
   "execution_count": 18,
   "metadata": {},
   "outputs": [],
   "source": [
    "resultado=get_products_of_all_ints_except_at_index"
   ]
  },
  {
   "cell_type": "code",
   "execution_count": 19,
   "metadata": {},
   "outputs": [],
   "source": [
    "def products_of_all_ints_except_at_index(list_of_ints):\n",
    "    if len(list_of_ints)<2:\n",
    "        raise IndexError('this functios need at least two elements')\n",
    "    product_of_all_except_at_index=[None]*len(list_of_ints)\n",
    "    product_so_far=1\n",
    "    for i in range(len(list_of_ints)):\n",
    "        product_of_all_except_at_index[i]=product_so_far\n",
    "        product_so_far*=list_of_ints[i]\n",
    "    product_so_far=1\n",
    "    for i in range(len(list_of_ints)-1,-1,-1):\n",
    "        product_of_all_except_at_index[i]*=product_so_far\n",
    "        product_so_far*=list_of_ints[i]\n",
    "    return product_of_all_except_at_index\n",
    "        \n",
    "    "
   ]
  },
  {
   "cell_type": "code",
   "execution_count": 20,
   "metadata": {},
   "outputs": [
    {
     "data": {
      "text/plain": [
       "[84, 12, 28, 21]"
      ]
     },
     "execution_count": 20,
     "metadata": {},
     "output_type": "execute_result"
    }
   ],
   "source": [
    "products_of_all_ints_except_at_index(list_of_ints)"
   ]
  },
  {
   "cell_type": "code",
   "execution_count": 21,
   "metadata": {},
   "outputs": [
    {
     "data": {
      "text/plain": [
       "[1, 7, 3, 4]"
      ]
     },
     "execution_count": 21,
     "metadata": {},
     "output_type": "execute_result"
    }
   ],
   "source": [
    "list_of_ints"
   ]
  },
  {
   "cell_type": "code",
   "execution_count": null,
   "metadata": {},
   "outputs": [],
   "source": []
  },
  {
   "cell_type": "markdown",
   "metadata": {},
   "source": [
    "## find duplicate (arrays)"
   ]
  },
  {
   "cell_type": "code",
   "execution_count": 22,
   "metadata": {},
   "outputs": [],
   "source": [
    "def find_repeat(numbers):\n",
    "    numbers_seen=set()\n",
    "    for number in numbers:\n",
    "        if number in numbers_seen:\n",
    "            return number\n",
    "        else:\n",
    "            numbers_seen.add(number)\n",
    "            \n",
    "    raise Exception('no duplicate')"
   ]
  },
  {
   "cell_type": "code",
   "execution_count": 23,
   "metadata": {},
   "outputs": [],
   "source": [
    "lista=[1,2,3,4,5,6,7,7,7,8,9]"
   ]
  },
  {
   "cell_type": "code",
   "execution_count": 24,
   "metadata": {},
   "outputs": [
    {
     "data": {
      "text/plain": [
       "7"
      ]
     },
     "execution_count": 24,
     "metadata": {},
     "output_type": "execute_result"
    }
   ],
   "source": [
    "find_repeat(lista)"
   ]
  },
  {
   "cell_type": "code",
   "execution_count": 25,
   "metadata": {},
   "outputs": [],
   "source": [
    "def find_repeat_space(numbers):\n",
    "    floor=1\n",
    "    ceiling=len(numbers)-1\n",
    "    while floor < ceiling:\n",
    "        midpoint=floor+((ceiling-floor)//2)\n",
    "        lower_range_floor, lower_range_ceiling=floor,midpoint\n",
    "        upper_range_floor,upper_range_ceiling=midpoint+1,ceiling\n",
    "        \n",
    "        items_in_lower_range=0\n",
    "        for item in numbers:\n",
    "            if item>=lower_range_floor and item<=lower_range_ceiling:\n",
    "                items_in_lower_range+=1\n",
    "            distinct_possible_integers_in_lower_range=(lower_range_ceiling-lower_range_floor+1)\n",
    "            if items_in_lower_range>distinct_possible_integers_in_lower_range:\n",
    "                floor,ceiling=lower_range_floor, lower_range_ceiling\n",
    "            else:\n",
    "                floor,ceiling=upper_range_floor,upper_range_ceiling\n",
    "                \n",
    "    return floor"
   ]
  },
  {
   "cell_type": "code",
   "execution_count": 26,
   "metadata": {},
   "outputs": [
    {
     "data": {
      "text/plain": [
       "7"
      ]
     },
     "execution_count": 26,
     "metadata": {},
     "output_type": "execute_result"
    }
   ],
   "source": [
    "find_repeat_space(lista)"
   ]
  },
  {
   "cell_type": "code",
   "execution_count": 27,
   "metadata": {},
   "outputs": [],
   "source": [
    "meetings=[[0,1], [3,5] ,[4,8]]"
   ]
  },
  {
   "cell_type": "code",
   "execution_count": 28,
   "metadata": {},
   "outputs": [
    {
     "name": "stdout",
     "output_type": "stream",
     "text": [
      "0\n",
      "1\n",
      "3\n",
      "5\n",
      "4\n",
      "8\n"
     ]
    }
   ],
   "source": [
    "for currentMeetingStart,currentMeetingEnd in meetings:\n",
    "    print(currentMeetingStart)\n",
    "    print(currentMeetingEnd)"
   ]
  },
  {
   "cell_type": "code",
   "execution_count": 29,
   "metadata": {},
   "outputs": [],
   "source": [
    "sortMeetings=sorted(meetings)\n",
    "mergedMeetings=[sortMeetings[0]]\n",
    "for currentMeetingStart,currentMeetingEnd in sortMeetings[1:]:\n",
    "    lastMeetingMergedStart, lastMeetingMergedEnd=mergedMeetings[-1]\n",
    "    if currentMeetingStart <=lastMeetingMergedEnd:\n",
    "        mergedMeetings[-1]=(lastMeetingMergedStart,max(lastMeetingMergedEnd,currentMeetingEnd))\n",
    "    else:\n",
    "        mergedMeetings.append((currentMeetingStart,currentMeetingEnd))\n",
    "\n",
    "    "
   ]
  },
  {
   "cell_type": "code",
   "execution_count": 30,
   "metadata": {},
   "outputs": [
    {
     "name": "stdout",
     "output_type": "stream",
     "text": [
      "[[0, 1], (3, 8)]\n"
     ]
    }
   ],
   "source": [
    "print(mergedMeetings)"
   ]
  },
  {
   "cell_type": "markdown",
   "metadata": {},
   "source": [
    "O(nlogn)\n",
    "O(n)"
   ]
  },
  {
   "cell_type": "code",
   "execution_count": 31,
   "metadata": {},
   "outputs": [],
   "source": [
    "\n",
    "def merge_ranges(meetings):\n",
    "    if len(meetings) <1:\n",
    "        raise indexError('need more data')\n",
    "    sortMeetings=sorted(meetings)\n",
    "    mergedMeetings=[sortMeetings[0]]\n",
    "    for currentMeetingStart,currentMeetingEnd in sortMeetings[1:]:\n",
    "        lastMeetingMergedStart, lastMeetingMergedEnd=mergedMeetings[-1]\n",
    "        if currentMeetingStart <=lastMeetingMergedEnd:\n",
    "            mergedMeetings[-1]=(lastMeetingMergedStart,max(lastMeetingMergedEnd,currentMeetingEnd))\n",
    "        else:\n",
    "            mergedMeetings.append((currentMeetingStart,currentMeetingEnd))\n",
    "\n",
    "    # Merge meeting ranges\n",
    "    return mergedMeetings\n",
    "\n"
   ]
  },
  {
   "cell_type": "markdown",
   "metadata": {},
   "source": [
    "### is a balanced tree?"
   ]
  },
  {
   "cell_type": "code",
   "execution_count": 32,
   "metadata": {},
   "outputs": [],
   "source": [
    "class binary_tree(object):\n",
    "    def __init__(self,value):\n",
    "        self.value=value\n",
    "        self.left=None\n",
    "        self.right=None\n",
    "    def insert_left(self,value):\n",
    "        self.left=binary_tree(value)\n",
    "        return self.left\n",
    "    def insert_right(self,value):\n",
    "        self.right=binary_tree(value)\n",
    "        return self.right"
   ]
  },
  {
   "cell_type": "code",
   "execution_count": 33,
   "metadata": {},
   "outputs": [],
   "source": [
    "def is_balanced(tree_root):\n",
    "    if tree_root is None:\n",
    "        return True\n",
    "    depths=[]\n",
    "    nodes=[]\n",
    "    nodes.append((tree_root,0))\n",
    "    while len(nodes):\n",
    "        node,depth=nodes.pop()\n",
    "        if (not node.left) and (not node.right):\n",
    "            if depth not in depths:\n",
    "                depths.append(depth)\n",
    "                if ((len(depths)>2)or (len(depths)==2 and abs(depths[0]-depths[1])>1 )):\n",
    "                    return False\n",
    "        else:\n",
    "            if node.left:\n",
    "                nodes.append((node.left,depth+1))\n",
    "                \n",
    "            if node.right:\n",
    "                nodes.append((node.right,depth+1))\n",
    "    return True"
   ]
  },
  {
   "cell_type": "markdown",
   "metadata": {},
   "source": [
    "O(n) time, O(n) space"
   ]
  },
  {
   "cell_type": "markdown",
   "metadata": {},
   "source": [
    "### bst checker \n",
    "O(n) time\n",
    "O(log n) space"
   ]
  },
  {
   "cell_type": "code",
   "execution_count": 34,
   "metadata": {},
   "outputs": [],
   "source": [
    "def BSTHelper(root,minimo,maximo):\n",
    "    if root is None:\n",
    "        return True\n",
    "    \n",
    "    if (minimo is not None and root.value<=minimo) or (maximo is not None and root.value>maximo):\n",
    "        return False\n",
    "    \n",
    "    if not(BSTHelper(root.left,minimo,root.value)) :\n",
    "        return False\n",
    "    \n",
    "    if not(BSTHelper(root.right,root.value,maximo)):\n",
    "        return False\n",
    "    \n",
    "    return True"
   ]
  },
  {
   "cell_type": "code",
   "execution_count": 35,
   "metadata": {},
   "outputs": [],
   "source": [
    "def is_binary_search_tree(root):\n",
    "    return BSTHelper(root,None,None)"
   ]
  },
  {
   "cell_type": "markdown",
   "metadata": {},
   "source": [
    "### find the second largest node of a tree\n",
    "O(h) worst case time\n",
    "O(log h) best casem time\n",
    "O(1) space"
   ]
  },
  {
   "cell_type": "code",
   "execution_count": 36,
   "metadata": {},
   "outputs": [],
   "source": [
    "def find_largest(root):\n",
    "    if root is None:\n",
    "        raise ValueError('at least 1 node is required')\n",
    "    current=root\n",
    "    while current.right:\n",
    "        current=current.right\n",
    "    return current.value"
   ]
  },
  {
   "cell_type": "code",
   "execution_count": 37,
   "metadata": {},
   "outputs": [
    {
     "data": {
      "text/plain": [
       "<__main__.binary_tree at 0x20cce43f400>"
      ]
     },
     "execution_count": 37,
     "metadata": {},
     "output_type": "execute_result"
    }
   ],
   "source": [
    "tree = binary_tree(50)\n",
    "left = tree.insert_left(30)\n",
    "right = tree.insert_right(70)\n",
    "left.insert_left(10)\n",
    "left.insert_right(40)\n",
    "right.insert_left(60)\n",
    "right.insert_right(80)"
   ]
  },
  {
   "cell_type": "code",
   "execution_count": 38,
   "metadata": {},
   "outputs": [
    {
     "data": {
      "text/plain": [
       "80"
      ]
     },
     "execution_count": 38,
     "metadata": {},
     "output_type": "execute_result"
    }
   ],
   "source": [
    "find_largest(tree)"
   ]
  },
  {
   "cell_type": "code",
   "execution_count": 39,
   "metadata": {},
   "outputs": [],
   "source": [
    "def find_second_largest(root):\n",
    "    \n",
    "    if (root is None or (root.left is None and root.right is None)):\n",
    "        raise ValueError('at least 2 nodes are required')\n",
    "    \n",
    "    current=root\n",
    "    \n",
    "    while current:\n",
    "        if current.left and not current.right:\n",
    "            return find_largest(current.left)\n",
    "\n",
    "        if (current.right and not current.right.left and not current.right.right):\n",
    "            return current.value\n",
    "        current=current.right\n"
   ]
  },
  {
   "cell_type": "markdown",
   "metadata": {},
   "source": [
    "### find duplicate space optimization"
   ]
  },
  {
   "cell_type": "code",
   "execution_count": 40,
   "metadata": {},
   "outputs": [],
   "source": [
    "def find_duplicate(int_list):\n",
    "    n = len(int_list) - 1    \n",
    "    position_in_cycle = n + 1    \n",
    "    for _ in range(n):\n",
    "        position_in_cycle = int_list[position_in_cycle - 1]\n",
    "        \n",
    "    remembered_position_in_cycle = position_in_cycle\n",
    "    current_position_in_cycle = int_list[position_in_cycle - 1]  # 1 step ahead\n",
    "    cycle_step_count = 1\n",
    "\n",
    "    \n",
    "    while current_position_in_cycle != remembered_position_in_cycle:\n",
    "        current_position_in_cycle = int_list[current_position_in_cycle - 1]\n",
    "        cycle_step_count += 1\n",
    "        \n",
    "    pointer_start = n + 1\n",
    "    pointer_ahead = n + 1\n",
    "    for _ in range(cycle_step_count):\n",
    "        pointer_ahead = int_list[pointer_ahead - 1]\n",
    "        \n",
    "    while pointer_start != pointer_ahead:\n",
    "        pointer_start = int_list[pointer_start - 1]\n",
    "        pointer_ahead = int_list[pointer_ahead - 1]\n",
    "        \n",
    "    return pointer_start\n",
    "\n",
    "\n"
   ]
  },
  {
   "cell_type": "markdown",
   "metadata": {},
   "source": [
    "### recursive String permutation"
   ]
  },
  {
   "cell_type": "code",
   "execution_count": 41,
   "metadata": {},
   "outputs": [],
   "source": [
    "def get_permutations(string):\n",
    "    if len(string)<1:\n",
    "        return set([string])\n",
    "\n",
    "    all_chars_except_last=string[:-1]\n",
    "    last_char=string[-1]    \n",
    "    permutations_of_all_chars_except_last=get_permutations(all_chars_except_last)\n",
    "    permutations=set()\n",
    "    for permutation_of_all_chars_except_last in permutations_of_all_chars_except_last:\n",
    "        for position in range(len(all_chars_except_last)+1):\n",
    "            permutation=(\n",
    "                permutation_of_all_chars_except_last[:position]\n",
    "                + last_char\n",
    "                + permutation_of_all_chars_except_last[position:]\n",
    "                )\n",
    "            permutations.add(permutation)\n",
    "    return permutations\n"
   ]
  },
  {
   "cell_type": "markdown",
   "metadata": {},
   "source": [
    "### nth fibonacci"
   ]
  },
  {
   "cell_type": "code",
   "execution_count": 42,
   "metadata": {},
   "outputs": [],
   "source": [
    "def fib(n):\n",
    "    if n<0:\n",
    "        raise ValueError('non negative numbers')\n",
    "    elif n in [0,1]:\n",
    "        return n\n",
    "    prev_prev=0\n",
    "    prev=1\n",
    "    for _ in range(n-1):\n",
    "        current=prev_prev+prev\n",
    "        print(current)\n",
    "        prev_prev=prev\n",
    "        prev=current\n",
    "    return current"
   ]
  },
  {
   "cell_type": "code",
   "execution_count": 43,
   "metadata": {},
   "outputs": [
    {
     "name": "stdout",
     "output_type": "stream",
     "text": [
      "1\n",
      "2\n",
      "3\n",
      "5\n",
      "8\n",
      "13\n",
      "21\n",
      "34\n"
     ]
    },
    {
     "data": {
      "text/plain": [
       "34"
      ]
     },
     "execution_count": 43,
     "metadata": {},
     "output_type": "execute_result"
    }
   ],
   "source": [
    "fib(9)"
   ]
  },
  {
   "cell_type": "markdown",
   "metadata": {},
   "source": [
    "### coin? O(n*m) time, O(n)space"
   ]
  },
  {
   "cell_type": "code",
   "execution_count": 44,
   "metadata": {},
   "outputs": [],
   "source": [
    "def change_possibilities(amount, denominations):\n",
    "    ways_of_doing_n_cents=[0]*(amount+1)\n",
    "    ways_of_doing_n_cents[0]=1\n",
    "    for coin in denominations:\n",
    "        for higher_amount in range(coin,amount+1):\n",
    "            higher_amount_remainder=higher_amount-coin\n",
    "            ways_of_doing_n_cents[higher_amount]+=(ways_of_doing_n_cents[higher_amount_remainder])\n",
    "            \n",
    "    return ways_of_doing_n_cents[amount]\n"
   ]
  },
  {
   "cell_type": "markdown",
   "metadata": {},
   "source": [
    "### cake thief, O(n*k) time, O(k) space, n- number of cakes, k- capacity"
   ]
  },
  {
   "cell_type": "code",
   "execution_count": 45,
   "metadata": {},
   "outputs": [],
   "source": [
    "def max_duffel_bag_value(cake_tuples, weight_capacity):\n",
    "    max_values_at_capacities=[0]*(weight_capacity+1)\n",
    "    for current_capacity in range(weight_capacity+1):\n",
    "        current_max_value=0\n",
    "        for cake_weight,cake_value in cake_tuples:\n",
    "            if cake_weight==0 and cake_value!=0:\n",
    "                return float('inf')\n",
    "            if cake_weight<=current_capacity:\n",
    "                max_value_using_cake=(cake_value + max_values_at_capacities[current_capacity-cake_weight])\n",
    "                current_max_value=max(max_value_using_cake,current_max_value)\n",
    "            \n",
    "        max_values_at_capacities[current_capacity]=current_max_value\n",
    "        \n",
    "    return max_values_at_capacities[weight_capacity]"
   ]
  },
  {
   "cell_type": "markdown",
   "metadata": {},
   "source": [
    "### balanced binary tree\n",
    "\"the difference between the depths of any two leaf nodes is no greater than 1\" "
   ]
  },
  {
   "cell_type": "code",
   "execution_count": 46,
   "metadata": {},
   "outputs": [],
   "source": [
    "def is_balanced(tree_root):\n",
    "    # A tree without nodes is superbalanced\n",
    "    if tree_root is None:\n",
    "        return True\n",
    "    # variable to break as soon we find more than 2\n",
    "    depths=[]\n",
    "    # this is an stack that will store a tupple of (node,depth)\n",
    "    nodes=[]\n",
    "    nodes.append((tree_root,0))\n",
    "    while len(nodes):\n",
    "        # pop a node and its depth from top of the stack\n",
    "        node,depth=nodes.pop()\n",
    "        # look for a leaf\n",
    "        if (not node.left) and (not node.right):\n",
    "            # only if is a new depth\n",
    "            if depth not in depths:\n",
    "                depths.append(depth)\n",
    "                # if more than 2 different leaf depths or 2 leafs depth are more than 1 apart is enough to no be superbalanced\n",
    "                if ((len(depths)>2)or (len(depths)==2 and abs(depths[0]-depths[1])>1 )):\n",
    "                    return False\n",
    "        else:\n",
    "            # if this isn't a leaf keep stepping down\n",
    "            if node.left:\n",
    "                nodes.append((node.left,depth+1))\n",
    "                \n",
    "            if node.right:\n",
    "                nodes.append((node.right,depth+1))\n",
    "    return True\n",
    "\n"
   ]
  },
  {
   "cell_type": "markdown",
   "metadata": {},
   "source": [
    "DFS because the use of Stacks\n",
    "O(n) time and space\n",
    "n--- nodes"
   ]
  },
  {
   "cell_type": "markdown",
   "metadata": {},
   "source": [
    "### largest element in a stack\n",
    "O(1) time\n",
    "O(m) space because the second stack of max elements"
   ]
  },
  {
   "cell_type": "code",
   "execution_count": 47,
   "metadata": {},
   "outputs": [],
   "source": [
    "class Stack(object):\n",
    "\n",
    "    def __init__(self):\n",
    "        \"\"\"Initialize an empty stack\"\"\"\n",
    "        self.items = []\n",
    "\n",
    "    def push(self, item):\n",
    "        \"\"\"Push a new item onto the stack\"\"\"\n",
    "        self.items.append(item)\n",
    "\n",
    "    def pop(self):\n",
    "        \"\"\"Remove and return the last item\"\"\"\n",
    "        # If the stack is empty, return None\n",
    "        # (it would also be reasonable to throw an exception)\n",
    "        if not self.items:\n",
    "            return None\n",
    "\n",
    "        return self.items.pop()\n",
    "\n",
    "    def peek(self):\n",
    "        \"\"\"Return the last item without removing it\"\"\"\n",
    "        if not self.items:\n",
    "            return None\n",
    "        return self.items[-1]\n",
    "\n",
    "\n",
    "class MaxStack(object):\n",
    "\n",
    "    # Implement the push, pop, and get_max methods\n",
    "\n",
    "\n",
    "    def __init__(self):\n",
    "        self.stack=Stack()\n",
    "        self.maxes_stack=Stack()\n",
    "\n",
    "    def push(self, item):\n",
    "        self.stack.push(item)\n",
    "        if self.maxes_stack.peek() is None or item>=self.maxes_stack.peek():\n",
    "            self.maxes_stack.push(item)\n",
    "\n",
    "    def pop(self):\n",
    "        item=self.stack.pop()\n",
    "        if item==self.maxes_stack.peek():\n",
    "            self.maxes_stack.pop()\n",
    "        return item\n",
    "\n",
    "    def get_max(self):\n",
    "        return self.maxes_stack.peek()"
   ]
  },
  {
   "cell_type": "markdown",
   "metadata": {},
   "source": [
    "### queue using two stacks\n",
    "O(m) time because the dequeue, O(1) queue\n",
    "O(1) Space"
   ]
  },
  {
   "cell_type": "code",
   "execution_count": 48,
   "metadata": {},
   "outputs": [],
   "source": [
    "class QueueTwoStacks(object):\n",
    "    def __init__(self):\n",
    "        self.in_stack=[]\n",
    "        self.out_stack=[]\n",
    "    def enqueue(self,item):\n",
    "        self.in_stack.append(item)\n",
    "    def dequeue(self):\n",
    "        if len(self.out_stack)==0:\n",
    "            while len(self.in_stack)>0:\n",
    "                newest_in_stack_item=self.in_stack.pop()\n",
    "                self.out_stack.append(newest_in_stack_item)\n",
    "            if len(self.out_stack)==0:\n",
    "                raise IndexError('cant dequeue a empty queue')\n",
    "        return self.out_stack.pop()"
   ]
  },
  {
   "cell_type": "markdown",
   "metadata": {},
   "source": [
    "### matching parenthesis\n",
    "O(n) time\n",
    "O(1) space"
   ]
  },
  {
   "cell_type": "code",
   "execution_count": 49,
   "metadata": {},
   "outputs": [],
   "source": [
    "\n",
    "def get_closing_paren(sentence, opening_paren_index):\n",
    "\n",
    "   open_nested_parens=0\n",
    "   for position in range(opening_paren_index+1,len(sentence)):\n",
    "       char=sentence[position]\n",
    "       if char=='(':\n",
    "           open_nested_parens+=1\n",
    "       elif char==')':\n",
    "           if open_nested_parens==0:\n",
    "               return position\n",
    "           else:\n",
    "               open_nested_parens-=1\n",
    "   raise Exception('No closing parenthesis')\n",
    "               "
   ]
  },
  {
   "cell_type": "markdown",
   "metadata": {},
   "source": [
    "### Linked list cycle?\n",
    "O(n) time\n",
    "O(1) space"
   ]
  },
  {
   "cell_type": "code",
   "execution_count": 1,
   "metadata": {},
   "outputs": [],
   "source": [
    "def contains_cycle(first_node):\n",
    "    slow_pointer=first_node\n",
    "    faster_pointer=first_node\n",
    "    \n",
    "    while faster_pointer is not None and faster_pointer.next is not None:\n",
    "        slow_pointer=slow_pointer.next\n",
    "        faster_pointer=faster_pointer.next.next\n",
    "        \n",
    "        if faster_pointer is slow_pointer:\n",
    "            return True\n",
    "            \n",
    "    return False\n"
   ]
  },
  {
   "cell_type": "markdown",
   "metadata": {},
   "source": [
    "### delete node from linked list\n",
    "O(1) time\n",
    "O(1) Space"
   ]
  },
  {
   "cell_type": "code",
   "execution_count": 2,
   "metadata": {},
   "outputs": [],
   "source": [
    "def delete_node(node_to_delete):\n",
    "    next_node=node_to_delete.next\n",
    "    if next_node:\n",
    "        node_to_delete.value=next_node.value\n",
    "        node_to_delete.next=next_node.next\n",
    "    else:\n",
    "        raise Exception('this method cannot delete the last element')"
   ]
  },
  {
   "cell_type": "markdown",
   "metadata": {},
   "source": [
    "### Reverse Linked in place\n",
    "O(n) time\n",
    "O(1) space"
   ]
  },
  {
   "cell_type": "code",
   "execution_count": 3,
   "metadata": {},
   "outputs": [],
   "source": [
    "def reverse_ll(head):\n",
    "    current=head\n",
    "    prev=None\n",
    "    next_node=None\n",
    "    while current:\n",
    "        next_node=current.next\n",
    "        current.next=prev\n",
    "        prev=current\n",
    "        current=next_node\n",
    "    return prev"
   ]
  },
  {
   "cell_type": "markdown",
   "metadata": {},
   "source": [
    "### kth to last node on singly linked list\n",
    "O(n) time\n",
    "O(1) space"
   ]
  },
  {
   "cell_type": "code",
   "execution_count": 5,
   "metadata": {},
   "outputs": [],
   "source": [
    "def kth_to_last_node(k, head):\n",
    "    slow_pointer=head\n",
    "    faster_pointer=head\n",
    "    if k< 1:\n",
    "        raise Exception('k must be equal or greater than 1')\n",
    "    \n",
    "    for _ in range(k):\n",
    "        faster_pointer=faster_pointer.next\n",
    "\n",
    "    while faster_pointer:\n",
    "        slow_pointer=slow_pointer.next\n",
    "        faster_pointer=faster_pointer.next\n",
    "    return slow_pointer\n"
   ]
  },
  {
   "cell_type": "markdown",
   "metadata": {},
   "source": [
    "### find duplicate beast mode\n",
    "O(n) time\n",
    "O(1) space"
   ]
  },
  {
   "cell_type": "code",
   "execution_count": 6,
   "metadata": {},
   "outputs": [],
   "source": [
    "def find_duplicate(int_list):\n",
    "    n = len(int_list) - 1    \n",
    "    position_in_cycle = n + 1    \n",
    "    for _ in range(n):\n",
    "        position_in_cycle = int_list[position_in_cycle - 1]\n",
    "        \n",
    "    remembered_position_in_cycle = position_in_cycle\n",
    "    current_position_in_cycle = int_list[position_in_cycle - 1]  # 1 step ahead\n",
    "    cycle_step_count = 1\n",
    "\n",
    "    \n",
    "    while current_position_in_cycle != remembered_position_in_cycle:\n",
    "        current_position_in_cycle = int_list[current_position_in_cycle - 1]\n",
    "        cycle_step_count += 1\n",
    "        \n",
    "    pointer_start = n + 1\n",
    "    pointer_ahead = n + 1\n",
    "    for _ in range(cycle_step_count):\n",
    "        pointer_ahead = int_list[pointer_ahead - 1]\n",
    "        \n",
    "    while pointer_start != pointer_ahead:\n",
    "        pointer_start = int_list[pointer_start - 1]\n",
    "        pointer_ahead = int_list[pointer_ahead - 1]\n",
    "        \n",
    "    return pointer_start\n",
    "\n",
    "\n",
    "\n"
   ]
  },
  {
   "cell_type": "markdown",
   "metadata": {},
   "source": [
    "this task already schedule     this a new one \n",
    "* [12:00, 1min], [12:30, 5min];  <4:00, 5min>\n"
   ]
  },
  {
   "cell_type": "code",
   "execution_count": null,
   "metadata": {},
   "outputs": [],
   "source": [
    "def merge_lists(my_list, alices_list):\n",
    "    if my_list is None:\n",
    "        return alices_list\n",
    "    elif alices_list is None:\n",
    "        return my_list\n",
    "    if my_list is None and alices_list is None:\n",
    "        raise valueError('no empties arrays')\n",
    "\n",
    "    # Combine the sorted lists into one large sorted list\n",
    "    p1=len(my_list)-1\n",
    "    p2=len(alices_list)-1\n",
    "    p=len(my_list)+len(alices_list)-1\n",
    "    for i in range(p2+1):\n",
    "        my_list.append(0)\n",
    "   \n",
    "    while p1>=0 and p2>=0:\n",
    "        if my_list[p1]<alices_list[p2]:\n",
    "            my_list[p]=alices_list[p2]\n",
    "            p2-=1\n",
    "        else:\n",
    "            my_list[p]=my_list[p1]\n",
    "            p1-=1\n",
    "        p-=1\n",
    "            \n",
    "    my_list[:p2+1]=alices_list[:p2+1]\n",
    "\n",
    "\n",
    "    return my_list"
   ]
  }
 ],
 "metadata": {
  "kernelspec": {
   "display_name": "Python 3",
   "language": "python",
   "name": "python3"
  },
  "language_info": {
   "codemirror_mode": {
    "name": "ipython",
    "version": 3
   },
   "file_extension": ".py",
   "mimetype": "text/x-python",
   "name": "python",
   "nbconvert_exporter": "python",
   "pygments_lexer": "ipython3",
   "version": "3.6.8"
  }
 },
 "nbformat": 4,
 "nbformat_minor": 4
}
