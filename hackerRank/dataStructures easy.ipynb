{
 "cells": [
  {
   "cell_type": "markdown",
   "metadata": {},
   "source": [
    "# Arrays"
   ]
  },
  {
   "cell_type": "markdown",
   "metadata": {},
   "source": [
    "#### reverse array"
   ]
  },
  {
   "cell_type": "code",
   "execution_count": 1,
   "metadata": {},
   "outputs": [],
   "source": [
    "array=[1,2,3,4]"
   ]
  },
  {
   "cell_type": "code",
   "execution_count": 2,
   "metadata": {},
   "outputs": [
    {
     "data": {
      "text/plain": [
       "[1, 2, 3, 4]"
      ]
     },
     "execution_count": 2,
     "metadata": {},
     "output_type": "execute_result"
    }
   ],
   "source": [
    "array"
   ]
  },
  {
   "cell_type": "code",
   "execution_count": 3,
   "metadata": {},
   "outputs": [
    {
     "data": {
      "text/plain": [
       "[4, 3, 2, 1]"
      ]
     },
     "execution_count": 3,
     "metadata": {},
     "output_type": "execute_result"
    }
   ],
   "source": [
    "array[::-1]"
   ]
  },
  {
   "cell_type": "markdown",
   "metadata": {},
   "source": [
    "## 2d array-DS"
   ]
  },
  {
   "cell_type": "code",
   "execution_count": 4,
   "metadata": {},
   "outputs": [],
   "source": [
    "array=[[1,1,1,0,0,0],[0,1,0,0,0,0],[1,1,1,0,0,0],[0,0,2,4,4,0],[0,0,0,2,0,0],[0,0,1,2,4,0]]"
   ]
  },
  {
   "cell_type": "code",
   "execution_count": 5,
   "metadata": {},
   "outputs": [
    {
     "data": {
      "text/plain": [
       "[[1, 1, 1, 0, 0, 0],\n",
       " [0, 1, 0, 0, 0, 0],\n",
       " [1, 1, 1, 0, 0, 0],\n",
       " [0, 0, 2, 4, 4, 0],\n",
       " [0, 0, 0, 2, 0, 0],\n",
       " [0, 0, 1, 2, 4, 0]]"
      ]
     },
     "execution_count": 5,
     "metadata": {},
     "output_type": "execute_result"
    }
   ],
   "source": [
    "array"
   ]
  },
  {
   "cell_type": "markdown",
   "metadata": {},
   "source": [
    "#### first hourglass"
   ]
  },
  {
   "cell_type": "code",
   "execution_count": 6,
   "metadata": {},
   "outputs": [
    {
     "data": {
      "text/plain": [
       "[1, 1, 1]"
      ]
     },
     "execution_count": 6,
     "metadata": {},
     "output_type": "execute_result"
    }
   ],
   "source": [
    "array[0][:3]"
   ]
  },
  {
   "cell_type": "code",
   "execution_count": 7,
   "metadata": {},
   "outputs": [
    {
     "data": {
      "text/plain": [
       "1"
      ]
     },
     "execution_count": 7,
     "metadata": {},
     "output_type": "execute_result"
    }
   ],
   "source": [
    "array[1][1]"
   ]
  },
  {
   "cell_type": "code",
   "execution_count": 8,
   "metadata": {},
   "outputs": [
    {
     "data": {
      "text/plain": [
       "[1, 1, 1]"
      ]
     },
     "execution_count": 8,
     "metadata": {},
     "output_type": "execute_result"
    }
   ],
   "source": [
    "array[2][:3]"
   ]
  },
  {
   "cell_type": "markdown",
   "metadata": {},
   "source": [
    "#### second hourglass"
   ]
  },
  {
   "cell_type": "code",
   "execution_count": 9,
   "metadata": {},
   "outputs": [
    {
     "data": {
      "text/plain": [
       "[1, 1, 0]"
      ]
     },
     "execution_count": 9,
     "metadata": {},
     "output_type": "execute_result"
    }
   ],
   "source": [
    "array[0][1:4]"
   ]
  },
  {
   "cell_type": "code",
   "execution_count": 10,
   "metadata": {},
   "outputs": [
    {
     "data": {
      "text/plain": [
       "0"
      ]
     },
     "execution_count": 10,
     "metadata": {},
     "output_type": "execute_result"
    }
   ],
   "source": [
    "array[1][2]"
   ]
  },
  {
   "cell_type": "code",
   "execution_count": 11,
   "metadata": {},
   "outputs": [
    {
     "data": {
      "text/plain": [
       "[1, 1, 0]"
      ]
     },
     "execution_count": 11,
     "metadata": {},
     "output_type": "execute_result"
    }
   ],
   "source": [
    "array[2][1:4]"
   ]
  },
  {
   "cell_type": "code",
   "execution_count": 12,
   "metadata": {},
   "outputs": [
    {
     "name": "stdout",
     "output_type": "stream",
     "text": [
      "19\n"
     ]
    }
   ],
   "source": [
    "print(max([sum(array[i-1][j-1:j+2] + [array[i][j]] + array[i+1][j-1:j+2]) for j in range(1, 5) for i in range(1, 5)]))"
   ]
  },
  {
   "cell_type": "code",
   "execution_count": 13,
   "metadata": {},
   "outputs": [
    {
     "name": "stdout",
     "output_type": "stream",
     "text": [
      "[1, 1, 1]\n",
      "1\n",
      "[1, 1, 1]\n",
      "[1, 1, 0]\n",
      "0\n",
      "[1, 1, 0]\n",
      "[1, 0, 0]\n",
      "0\n",
      "[1, 0, 0]\n",
      "[0, 0, 0]\n",
      "0\n",
      "[0, 0, 0]\n",
      "[0, 1, 0]\n",
      "1\n",
      "[0, 0, 2]\n",
      "[1, 0, 0]\n",
      "1\n",
      "[0, 2, 4]\n",
      "[0, 0, 0]\n",
      "0\n",
      "[2, 4, 4]\n",
      "[0, 0, 0]\n",
      "0\n",
      "[4, 4, 0]\n",
      "[1, 1, 1]\n",
      "0\n",
      "[0, 0, 0]\n",
      "[1, 1, 0]\n",
      "2\n",
      "[0, 0, 2]\n",
      "[1, 0, 0]\n",
      "4\n",
      "[0, 2, 0]\n",
      "[0, 0, 0]\n",
      "4\n",
      "[2, 0, 0]\n",
      "[0, 0, 2]\n",
      "0\n",
      "[0, 0, 1]\n",
      "[0, 2, 4]\n",
      "0\n",
      "[0, 1, 2]\n",
      "[2, 4, 4]\n",
      "2\n",
      "[1, 2, 4]\n",
      "[4, 4, 0]\n",
      "0\n",
      "[2, 4, 0]\n"
     ]
    }
   ],
   "source": [
    "temp=[]\n",
    "for i in range(1,5):\n",
    "    for j in range(1,5):\n",
    "        print(array[i-1][j-1:j+2])\n",
    "        print(array[i][j])\n",
    "        print(array[i+1][j-1:j+2])"
   ]
  },
  {
   "cell_type": "code",
   "execution_count": 14,
   "metadata": {},
   "outputs": [],
   "source": [
    "temp=[]\n",
    "for i in range(1,5):\n",
    "    for j in range(1,5):\n",
    "        #sum(array[i-1][j-1:j+2]) + sum(array[i][j]) + sum(array[i+1][j-1:j+2])\n",
    "        top=sum(array[i-1][j-1:j+2])\n",
    "        middle=array[i][j]\n",
    "        bottom=sum(array[i+1][j-1:j+2])\n",
    "        temp.append(top+middle+bottom)"
   ]
  },
  {
   "cell_type": "code",
   "execution_count": 15,
   "metadata": {},
   "outputs": [
    {
     "data": {
      "text/plain": [
       "19"
      ]
     },
     "execution_count": 15,
     "metadata": {},
     "output_type": "execute_result"
    }
   ],
   "source": [
    "max(temp)"
   ]
  },
  {
   "cell_type": "markdown",
   "metadata": {},
   "source": [
    "#### rotation left array"
   ]
  },
  {
   "cell_type": "code",
   "execution_count": 16,
   "metadata": {},
   "outputs": [],
   "source": [
    "x=list(range(1,6))"
   ]
  },
  {
   "cell_type": "code",
   "execution_count": 17,
   "metadata": {},
   "outputs": [
    {
     "data": {
      "text/plain": [
       "[1, 2, 3, 4, 5]"
      ]
     },
     "execution_count": 17,
     "metadata": {},
     "output_type": "execute_result"
    }
   ],
   "source": [
    "x"
   ]
  },
  {
   "cell_type": "code",
   "execution_count": 18,
   "metadata": {},
   "outputs": [],
   "source": [
    "x_r=x[4:]+x[:4]"
   ]
  },
  {
   "cell_type": "code",
   "execution_count": 19,
   "metadata": {},
   "outputs": [
    {
     "data": {
      "text/plain": [
       "[5, 1, 2, 3, 4]"
      ]
     },
     "execution_count": 19,
     "metadata": {},
     "output_type": "execute_result"
    }
   ],
   "source": [
    "x_r"
   ]
  },
  {
   "cell_type": "code",
   "execution_count": null,
   "metadata": {},
   "outputs": [],
   "source": []
  },
  {
   "cell_type": "markdown",
   "metadata": {},
   "source": [
    "# linked lists"
   ]
  },
  {
   "cell_type": "markdown",
   "metadata": {},
   "source": [
    "#### print linked list"
   ]
  },
  {
   "cell_type": "code",
   "execution_count": 20,
   "metadata": {},
   "outputs": [],
   "source": [
    "class LinkedList(object):\n",
    "    def __init__(self,value,next=None):\n",
    "        self.value=value\n",
    "        self.next=next"
   ]
  },
  {
   "cell_type": "code",
   "execution_count": 21,
   "metadata": {},
   "outputs": [],
   "source": [
    "nodo1=LinkedList(13)\n",
    "nodo2= LinkedList(16,nodo1)"
   ]
  },
  {
   "cell_type": "code",
   "execution_count": 22,
   "metadata": {},
   "outputs": [],
   "source": [
    "head=nodo2"
   ]
  },
  {
   "cell_type": "code",
   "execution_count": 23,
   "metadata": {},
   "outputs": [],
   "source": [
    "def printLinkedList(head):\n",
    "    current=head\n",
    "    while current:\n",
    "        print(current.value)\n",
    "        current=current.next"
   ]
  },
  {
   "cell_type": "code",
   "execution_count": 24,
   "metadata": {},
   "outputs": [
    {
     "name": "stdout",
     "output_type": "stream",
     "text": [
      "16\n",
      "13\n"
     ]
    }
   ],
   "source": [
    "printLinkedList(head)"
   ]
  },
  {
   "cell_type": "code",
   "execution_count": 25,
   "metadata": {},
   "outputs": [],
   "source": [
    "def append_linked_list(head,data):\n",
    "    current=head\n",
    "    if head:\n",
    "        while current.next:\n",
    "            current=current.next\n",
    "        current.next=LinkedList(data)\n",
    "    else:\n",
    "        head=LinkedList(data)\n",
    "    return head"
   ]
  },
  {
   "cell_type": "code",
   "execution_count": 26,
   "metadata": {},
   "outputs": [
    {
     "name": "stdout",
     "output_type": "stream",
     "text": [
      "16\n",
      "13\n",
      "15\n"
     ]
    }
   ],
   "source": [
    "append_linked_list(head,15)\n",
    "printLinkedList(head)"
   ]
  },
  {
   "cell_type": "markdown",
   "metadata": {},
   "source": [
    "#### insert element at the begging of a linked list"
   ]
  },
  {
   "cell_type": "code",
   "execution_count": 27,
   "metadata": {},
   "outputs": [],
   "source": [
    "def insert_begin_linked_list(head,data):\n",
    "    nodo=LinkedList(data)\n",
    "    if head:\n",
    "        nodo.next=head\n",
    "        head= nodo\n",
    "    else:\n",
    "        head=nodo\n",
    "    return head"
   ]
  },
  {
   "cell_type": "code",
   "execution_count": 28,
   "metadata": {},
   "outputs": [
    {
     "name": "stdout",
     "output_type": "stream",
     "text": [
      "2\n",
      "16\n",
      "13\n",
      "15\n"
     ]
    }
   ],
   "source": [
    "head=insert_begin_linked_list(head,2)\n",
    "printLinkedList(head)"
   ]
  },
  {
   "cell_type": "markdown",
   "metadata": {},
   "source": [
    "#### insert element on any position"
   ]
  },
  {
   "cell_type": "code",
   "execution_count": 29,
   "metadata": {},
   "outputs": [],
   "source": [
    "def insertNodeAtPosition(head, data, position):\n",
    "    counter=1\n",
    "    nodo=LinkedList(data)\n",
    "    current=head\n",
    "    if position>1:\n",
    "        while current and counter<position:\n",
    "            if counter==position-1:\n",
    "                nodo.next=current.next\n",
    "                current.next=nodo\n",
    "            current=current.next\n",
    "            counter+=1\n",
    "    elif position==1:\n",
    "        nodo.next=head\n",
    "        head=nodo\n",
    "    return head"
   ]
  },
  {
   "cell_type": "code",
   "execution_count": 30,
   "metadata": {},
   "outputs": [
    {
     "name": "stdout",
     "output_type": "stream",
     "text": [
      "2\n",
      "16\n",
      "78\n",
      "13\n",
      "15\n"
     ]
    }
   ],
   "source": [
    "head=insertNodeAtPosition(head,78,3)\n",
    "printLinkedList(head)"
   ]
  },
  {
   "cell_type": "code",
   "execution_count": 31,
   "metadata": {},
   "outputs": [
    {
     "name": "stdout",
     "output_type": "stream",
     "text": [
      "78\n",
      "2\n",
      "16\n",
      "78\n",
      "13\n",
      "15\n"
     ]
    }
   ],
   "source": [
    "head=insertNodeAtPosition(head,78,1)\n",
    "printLinkedList(head)"
   ]
  },
  {
   "cell_type": "code",
   "execution_count": 32,
   "metadata": {},
   "outputs": [],
   "source": [
    "head2=head"
   ]
  },
  {
   "cell_type": "code",
   "execution_count": 33,
   "metadata": {},
   "outputs": [
    {
     "name": "stdout",
     "output_type": "stream",
     "text": [
      "78\n",
      "2\n",
      "16\n",
      "78\n",
      "13\n",
      "15\n"
     ]
    }
   ],
   "source": [
    "printLinkedList(head2)"
   ]
  },
  {
   "cell_type": "markdown",
   "metadata": {},
   "source": [
    "### delete node"
   ]
  },
  {
   "cell_type": "code",
   "execution_count": 34,
   "metadata": {},
   "outputs": [],
   "source": [
    "def deleteNode(head,position):\n",
    "    current=head\n",
    "    prev_node=None\n",
    "    for i in range(position+1):\n",
    "        if prev_node==None:\n",
    "            prev_node=head\n",
    "        \n",
    "        if i==position:\n",
    "            prev_node.next=current.next\n",
    "            current=current.next\n",
    "  \n",
    "        else:\n",
    "            prev_node=current\n",
    "            current=current.next\n",
    "    return head\n",
    "            "
   ]
  },
  {
   "cell_type": "code",
   "execution_count": 35,
   "metadata": {},
   "outputs": [],
   "source": [
    "def deleteNode2(head,position):\n",
    "    if position==0:\n",
    "        head=head.next\n",
    "    else:\n",
    "        current=head\n",
    "        prev_node=head\n",
    "        for i in range(position+1):\n",
    "            if i==position:\n",
    "                prev_node.next=current.next\n",
    "                current=current.next\n",
    "            else:\n",
    "                prev_node=current\n",
    "                current=current.next\n",
    "    return head"
   ]
  },
  {
   "cell_type": "code",
   "execution_count": 36,
   "metadata": {},
   "outputs": [
    {
     "name": "stdout",
     "output_type": "stream",
     "text": [
      "78\n",
      "2\n",
      "16\n",
      "78\n",
      "13\n",
      "15\n"
     ]
    }
   ],
   "source": [
    "printLinkedList(head)"
   ]
  },
  {
   "cell_type": "code",
   "execution_count": 37,
   "metadata": {},
   "outputs": [
    {
     "data": {
      "text/plain": [
       "<__main__.LinkedList at 0x2c6d6f80a90>"
      ]
     },
     "execution_count": 37,
     "metadata": {},
     "output_type": "execute_result"
    }
   ],
   "source": [
    "deleteNode2(head,1)"
   ]
  },
  {
   "cell_type": "code",
   "execution_count": 38,
   "metadata": {},
   "outputs": [
    {
     "name": "stdout",
     "output_type": "stream",
     "text": [
      "78\n",
      "16\n",
      "78\n",
      "13\n",
      "15\n"
     ]
    }
   ],
   "source": [
    "printLinkedList(head)"
   ]
  },
  {
   "cell_type": "code",
   "execution_count": 39,
   "metadata": {},
   "outputs": [],
   "source": [
    "resultado=deleteNode2(head,0)"
   ]
  },
  {
   "cell_type": "code",
   "execution_count": 40,
   "metadata": {},
   "outputs": [
    {
     "name": "stdout",
     "output_type": "stream",
     "text": [
      "16\n",
      "78\n",
      "13\n",
      "15\n"
     ]
    }
   ],
   "source": [
    "printLinkedList(resultado)"
   ]
  },
  {
   "cell_type": "code",
   "execution_count": 41,
   "metadata": {},
   "outputs": [],
   "source": [
    "head=head.next"
   ]
  },
  {
   "cell_type": "code",
   "execution_count": 42,
   "metadata": {},
   "outputs": [
    {
     "name": "stdout",
     "output_type": "stream",
     "text": [
      "16\n",
      "78\n",
      "13\n",
      "15\n"
     ]
    }
   ],
   "source": [
    "printLinkedList(head)"
   ]
  },
  {
   "cell_type": "code",
   "execution_count": null,
   "metadata": {},
   "outputs": [],
   "source": []
  },
  {
   "cell_type": "markdown",
   "metadata": {},
   "source": [
    "### reverse a linked list"
   ]
  },
  {
   "cell_type": "code",
   "execution_count": 43,
   "metadata": {},
   "outputs": [],
   "source": [
    "n1=LinkedList(5,None)\n",
    "n2=LinkedList(4,n1)\n",
    "n3=LinkedList(3,n2)\n",
    "n4=LinkedList(2,n3)\n",
    "n5=LinkedList(1,n4)\n"
   ]
  },
  {
   "cell_type": "code",
   "execution_count": 44,
   "metadata": {},
   "outputs": [],
   "source": [
    "head=n5"
   ]
  },
  {
   "cell_type": "code",
   "execution_count": 45,
   "metadata": {},
   "outputs": [
    {
     "name": "stdout",
     "output_type": "stream",
     "text": [
      "1\n",
      "2\n",
      "3\n",
      "4\n",
      "5\n"
     ]
    }
   ],
   "source": [
    "printLinkedList(head)"
   ]
  },
  {
   "cell_type": "code",
   "execution_count": 46,
   "metadata": {},
   "outputs": [],
   "source": [
    "def reverseLinkedList(head):\n",
    "    temp=None\n",
    "    current=head\n",
    "    while current:\n",
    "        temp=LinkedList(current.value,temp)\n",
    "        current=current.next\n",
    "    return temp"
   ]
  },
  {
   "cell_type": "code",
   "execution_count": 47,
   "metadata": {},
   "outputs": [],
   "source": [
    "reverse=reverseLinkedList(head)"
   ]
  },
  {
   "cell_type": "code",
   "execution_count": 48,
   "metadata": {},
   "outputs": [
    {
     "name": "stdout",
     "output_type": "stream",
     "text": [
      "5\n",
      "4\n",
      "3\n",
      "2\n",
      "1\n"
     ]
    }
   ],
   "source": [
    "printLinkedList(reverse)"
   ]
  },
  {
   "cell_type": "code",
   "execution_count": 49,
   "metadata": {},
   "outputs": [],
   "source": [
    "# hacker rank solution\n",
    "def reverse_(head):\n",
    "    current = head \n",
    "    stack =[]\n",
    "    while current:\n",
    "        stack.append(current.data)\n",
    "        current = current.next\n",
    "    s = stack[::-1]\n",
    "    nlist = SinglyLinkedList()\n",
    "    for el in s:\n",
    "        nlist.insert_node(el)\n",
    "    return nlist.head"
   ]
  },
  {
   "cell_type": "code",
   "execution_count": 50,
   "metadata": {},
   "outputs": [
    {
     "name": "stdout",
     "output_type": "stream",
     "text": [
      "1\n",
      "2\n",
      "3\n",
      "4\n",
      "5\n"
     ]
    }
   ],
   "source": [
    "printLinkedList(head)"
   ]
  },
  {
   "cell_type": "markdown",
   "metadata": {},
   "source": [
    "### print reverse"
   ]
  },
  {
   "cell_type": "code",
   "execution_count": 51,
   "metadata": {},
   "outputs": [],
   "source": [
    "def print_reverse_ll(head):\n",
    "    current=head\n",
    "    stack=[]\n",
    "    while current:\n",
    "        stack.append(current.value)\n",
    "        current=current.next\n",
    "    s=stack[::-1]\n",
    "    for i in s:\n",
    "        print(i)\n"
   ]
  },
  {
   "cell_type": "code",
   "execution_count": 52,
   "metadata": {},
   "outputs": [
    {
     "name": "stdout",
     "output_type": "stream",
     "text": [
      "5\n",
      "4\n",
      "3\n",
      "2\n",
      "1\n"
     ]
    }
   ],
   "source": [
    "print_reverse_ll(head)"
   ]
  },
  {
   "cell_type": "code",
   "execution_count": 53,
   "metadata": {},
   "outputs": [],
   "source": [
    "## hacker rank solution\n",
    "def reversedPrint(head):\n",
    "    if head is None:\n",
    "        return None\n",
    "    else:\n",
    "        stack = []\n",
    "        while head:\n",
    "            stack.append(head.value)\n",
    "            head = head.next\n",
    "        while stack:\n",
    "            print(stack.pop())"
   ]
  },
  {
   "cell_type": "code",
   "execution_count": 54,
   "metadata": {},
   "outputs": [
    {
     "name": "stdout",
     "output_type": "stream",
     "text": [
      "5\n",
      "4\n",
      "3\n",
      "2\n",
      "1\n"
     ]
    }
   ],
   "source": [
    "reversedPrint(head)"
   ]
  },
  {
   "cell_type": "markdown",
   "metadata": {},
   "source": [
    "#### obtener k nodo desde el ultimo elemento"
   ]
  },
  {
   "cell_type": "code",
   "execution_count": 55,
   "metadata": {},
   "outputs": [],
   "source": [
    "## hacker rank solution\n",
    "def getNode(head, positionFromTail):\n",
    "    tracked = head\n",
    "    while positionFromTail > 0:\n",
    "        head = head.next\n",
    "        positionFromTail -= 1\n",
    "        \n",
    "    while head.next:\n",
    "        head = head.next\n",
    "        tracked = tracked.next\n",
    "        \n",
    "    return tracked.value"
   ]
  },
  {
   "cell_type": "code",
   "execution_count": 56,
   "metadata": {},
   "outputs": [],
   "source": [
    "def getNodeEmma(head,positionFromTail):\n",
    "    fast=head\n",
    "    slow=head\n",
    "    for i in range(positionFromTail):\n",
    "        fast=fast.next\n",
    "        \n",
    "    while fast.next:\n",
    "        fast=fast.next\n",
    "        slow=slow.next\n",
    "    return slow.value"
   ]
  },
  {
   "cell_type": "code",
   "execution_count": null,
   "metadata": {},
   "outputs": [],
   "source": []
  },
  {
   "cell_type": "markdown",
   "metadata": {},
   "source": [
    "### comparar dos listas enlazadas\n"
   ]
  },
  {
   "cell_type": "code",
   "execution_count": 57,
   "metadata": {},
   "outputs": [],
   "source": [
    "def listToArray(head):\n",
    "    if head==None:\n",
    "        return None\n",
    "    current=head\n",
    "    stack=[]\n",
    "    while current:\n",
    "        stack.append(current.value)\n",
    "        current=current.next\n",
    "    return stack"
   ]
  },
  {
   "cell_type": "code",
   "execution_count": 58,
   "metadata": {},
   "outputs": [],
   "source": [
    "def compararListas(lista1,lista2):\n",
    "    linkedList1=listToArray(lista1)\n",
    "    linkedList2=listToArray(lista2)\n",
    "    if len(linkedList1)!=len(linkedList2) :\n",
    "        return False\n",
    "    else:\n",
    "        \n",
    "        return (linkedList1==linkedList2)"
   ]
  },
  {
   "cell_type": "code",
   "execution_count": 59,
   "metadata": {},
   "outputs": [
    {
     "name": "stdout",
     "output_type": "stream",
     "text": [
      "1\n",
      "2\n",
      "3\n",
      "4\n",
      "5\n"
     ]
    }
   ],
   "source": [
    "printLinkedList(head)"
   ]
  },
  {
   "cell_type": "code",
   "execution_count": 60,
   "metadata": {},
   "outputs": [
    {
     "name": "stdout",
     "output_type": "stream",
     "text": [
      "5\n",
      "4\n",
      "3\n",
      "2\n",
      "1\n"
     ]
    }
   ],
   "source": [
    "printLinkedList(reverse)"
   ]
  },
  {
   "cell_type": "code",
   "execution_count": 61,
   "metadata": {},
   "outputs": [
    {
     "data": {
      "text/plain": [
       "True"
      ]
     },
     "execution_count": 61,
     "metadata": {},
     "output_type": "execute_result"
    }
   ],
   "source": [
    "compararListas(head,head)"
   ]
  },
  {
   "cell_type": "code",
   "execution_count": 62,
   "metadata": {},
   "outputs": [],
   "source": [
    "l1=[5, 4, 3, 2, 1]\n",
    "l2=[1,2,3,4,5]"
   ]
  },
  {
   "cell_type": "code",
   "execution_count": 63,
   "metadata": {},
   "outputs": [
    {
     "data": {
      "text/plain": [
       "False"
      ]
     },
     "execution_count": 63,
     "metadata": {},
     "output_type": "execute_result"
    }
   ],
   "source": [
    "l1 ==l2"
   ]
  },
  {
   "cell_type": "code",
   "execution_count": 64,
   "metadata": {},
   "outputs": [],
   "source": [
    "def compararListas2(lista1,lista2):\n",
    "    currentA = lista1\n",
    "    currentB = lista2\n",
    "    while currentA and currentB:\n",
    "        if currentA.value != currentB.value:\n",
    "            return False\n",
    "        currentA = currentA.next\n",
    "        currentB = currentB.next\n",
    "    return True if currentA == currentB else False"
   ]
  },
  {
   "cell_type": "code",
   "execution_count": 65,
   "metadata": {},
   "outputs": [
    {
     "data": {
      "text/plain": [
       "True"
      ]
     },
     "execution_count": 65,
     "metadata": {},
     "output_type": "execute_result"
    }
   ],
   "source": [
    "compararListas2(head,head)"
   ]
  },
  {
   "cell_type": "code",
   "execution_count": 66,
   "metadata": {},
   "outputs": [
    {
     "data": {
      "text/plain": [
       "False"
      ]
     },
     "execution_count": 66,
     "metadata": {},
     "output_type": "execute_result"
    }
   ],
   "source": [
    "compararListas2(head,reverse)"
   ]
  },
  {
   "cell_type": "code",
   "execution_count": 67,
   "metadata": {},
   "outputs": [],
   "source": [
    "n01=LinkedList(5,None)\n",
    "n02=LinkedList(4,n01)\n",
    "n04=LinkedList(2,n02)\n",
    "n05=LinkedList(1,n04)\n",
    "lista3=n05\n"
   ]
  },
  {
   "cell_type": "code",
   "execution_count": 68,
   "metadata": {},
   "outputs": [
    {
     "name": "stdout",
     "output_type": "stream",
     "text": [
      "1\n",
      "2\n",
      "4\n",
      "5\n"
     ]
    }
   ],
   "source": [
    "printLinkedList(lista3)"
   ]
  },
  {
   "cell_type": "code",
   "execution_count": 69,
   "metadata": {},
   "outputs": [
    {
     "data": {
      "text/plain": [
       "False"
      ]
     },
     "execution_count": 69,
     "metadata": {},
     "output_type": "execute_result"
    }
   ],
   "source": [
    "compararListas2(head,lista3)"
   ]
  },
  {
   "cell_type": "code",
   "execution_count": 70,
   "metadata": {},
   "outputs": [
    {
     "data": {
      "text/plain": [
       "False"
      ]
     },
     "execution_count": 70,
     "metadata": {},
     "output_type": "execute_result"
    }
   ],
   "source": [
    "compararListas(head,lista3)"
   ]
  },
  {
   "cell_type": "markdown",
   "metadata": {},
   "source": [
    "### merge two sorted linked lists\n"
   ]
  },
  {
   "cell_type": "code",
   "execution_count": 71,
   "metadata": {},
   "outputs": [],
   "source": [
    "def MergeLists(head1,head2):\n",
    "    if head1 is None:\n",
    "        return head2\n",
    "    elif head2 is None:\n",
    "        return head1\n",
    "    if head1.value<=head2.value:\n",
    "        result=head1\n",
    "        result.next=MergeLists(head1.next,head2)\n",
    "    else:\n",
    "        result=head2\n",
    "        result.next=MergeLists(head1,head2.next)\n",
    "    return result"
   ]
  },
  {
   "cell_type": "code",
   "execution_count": 72,
   "metadata": {},
   "outputs": [],
   "source": [
    "## hacker ranks solution because iterative run out of time\n",
    "def MergeLists(head1, head2):\n",
    "    if not head1 or not head2:\n",
    "        return head1 or head2\n",
    "\n",
    "    head, head1, head2 = (head1, head1.next, head2) if min([head1.data, head2.data]) == head1.data else (head2, head1, head2.next)\n",
    "    curr = head\n",
    "    while head1 or head2:\n",
    "\n",
    "        if not head1 or not head2:\n",
    "            curr.next = head1 or head2\n",
    "            return head\n",
    "\n",
    "        curr.next, head1, head2 = (head1, head1.next, head2) if min([head1.data, head2.data]) == head1.data else (head2, head1, head2.next)\n",
    "        curr = curr.next\n",
    "    return head"
   ]
  },
  {
   "cell_type": "markdown",
   "metadata": {},
   "source": [
    "### find node to merge two linked lists"
   ]
  },
  {
   "cell_type": "code",
   "execution_count": 73,
   "metadata": {},
   "outputs": [],
   "source": [
    "def findMergeNode(head1, head2):\n",
    "    current1=head1\n",
    "    current2=head2\n",
    "\n",
    "    while not current1==current2:\n",
    "        if current1.next is None:\n",
    "            current1=head2\n",
    "        else:\n",
    "            current1=current1.next\n",
    "        if current2.next is None:\n",
    "            current2=head1\n",
    "        else:\n",
    "            current2=current2.next\n",
    "    return current1.value\n"
   ]
  },
  {
   "cell_type": "markdown",
   "metadata": {},
   "source": [
    "### insert element in sorted double linked list"
   ]
  },
  {
   "cell_type": "code",
   "execution_count": 74,
   "metadata": {},
   "outputs": [],
   "source": [
    "class DoubleNodo(object):\n",
    "    def __init__(self,value,prev=None,next=None):\n",
    "        self.value=value\n",
    "        self.prev=prev\n",
    "        self.next=next"
   ]
  },
  {
   "cell_type": "code",
   "execution_count": 75,
   "metadata": {},
   "outputs": [],
   "source": [
    "nod3=DoubleNodo(10)\n",
    "nod2=DoubleNodo(4)\n",
    "nod1=DoubleNodo(3)\n",
    "nod0=DoubleNodo(1)\n"
   ]
  },
  {
   "cell_type": "code",
   "execution_count": 76,
   "metadata": {},
   "outputs": [],
   "source": [
    "nod0.next=nod1"
   ]
  },
  {
   "cell_type": "code",
   "execution_count": 77,
   "metadata": {},
   "outputs": [],
   "source": [
    "nod1.next=nod2\n",
    "nod1.prev=nod0"
   ]
  },
  {
   "cell_type": "code",
   "execution_count": 78,
   "metadata": {},
   "outputs": [],
   "source": [
    "nod2.next=nod3\n",
    "nod2.prev=nod1"
   ]
  },
  {
   "cell_type": "code",
   "execution_count": 79,
   "metadata": {},
   "outputs": [],
   "source": [
    "nod3.prev=nod2"
   ]
  },
  {
   "cell_type": "code",
   "execution_count": 80,
   "metadata": {},
   "outputs": [],
   "source": [
    "head_double=nod0"
   ]
  },
  {
   "cell_type": "code",
   "execution_count": 81,
   "metadata": {},
   "outputs": [
    {
     "name": "stdout",
     "output_type": "stream",
     "text": [
      "1\n",
      "3\n",
      "4\n",
      "10\n"
     ]
    }
   ],
   "source": [
    "printLinkedList(head_double)"
   ]
  },
  {
   "cell_type": "code",
   "execution_count": 82,
   "metadata": {},
   "outputs": [],
   "source": [
    "def insertNodeDouble(head, data):\n",
    "    new_node = DoubleNodo(data)   \n",
    "    # in the unlikely event new node data < 0? \n",
    "    if new_node.value < head.value:\n",
    "        new_node.next = head\n",
    "        head.prev = new_node\n",
    "        return new_node\n",
    "    else:\n",
    "        current = head\n",
    "        current_next = head.next\n",
    "        while current_next and (new_node.value > current_next.value):\n",
    "            current = current_next\n",
    "            current_next = current_next.next\n",
    "        if current_next == None:\n",
    "            current.next = new_node\n",
    "            new_node.prev = current\n",
    "        else:\n",
    "            current.next = new_node\n",
    "            current_next.prev = new_node\n",
    "            new_node.prev = current\n",
    "            new_node.next = current_next\n",
    "        \n",
    "        current = head\n",
    "        \n",
    "        while current:\n",
    "            current = current.next\n",
    "        return head"
   ]
  },
  {
   "cell_type": "code",
   "execution_count": 83,
   "metadata": {},
   "outputs": [
    {
     "data": {
      "text/plain": [
       "<__main__.DoubleNodo at 0x2c6d6f91be0>"
      ]
     },
     "execution_count": 83,
     "metadata": {},
     "output_type": "execute_result"
    }
   ],
   "source": [
    "insertNodeDouble(head_double,5)"
   ]
  },
  {
   "cell_type": "code",
   "execution_count": 84,
   "metadata": {},
   "outputs": [
    {
     "name": "stdout",
     "output_type": "stream",
     "text": [
      "1\n",
      "3\n",
      "4\n",
      "5\n",
      "10\n"
     ]
    }
   ],
   "source": [
    "printLinkedList(head_double)"
   ]
  },
  {
   "cell_type": "code",
   "execution_count": 85,
   "metadata": {},
   "outputs": [],
   "source": [
    "def reverseDoubleLinkedList(head):\n",
    "    temp=None\n",
    "    current=head\n",
    "    while current:\n",
    "        temp=DoubleNodo(current.value,current,temp)\n",
    "        current=current.next\n",
    "    return temp"
   ]
  },
  {
   "cell_type": "code",
   "execution_count": 86,
   "metadata": {},
   "outputs": [],
   "source": [
    "reverse_head=reverseDoubleLinkedList(head_double)"
   ]
  },
  {
   "cell_type": "code",
   "execution_count": 87,
   "metadata": {},
   "outputs": [
    {
     "name": "stdout",
     "output_type": "stream",
     "text": [
      "10\n",
      "5\n",
      "4\n",
      "3\n",
      "1\n"
     ]
    }
   ],
   "source": [
    "printLinkedList(reverse_head)"
   ]
  },
  {
   "cell_type": "code",
   "execution_count": 88,
   "metadata": {},
   "outputs": [],
   "source": [
    "def ReverseLL(head):\n",
    "    if not head:\n",
    "        return head\n",
    "    head.next, head.prev = head.prev, head.next\n",
    "    if not head.prev:\n",
    "        return head\n",
    "    return ReverseLL(head.prev)"
   ]
  },
  {
   "cell_type": "code",
   "execution_count": 89,
   "metadata": {},
   "outputs": [],
   "source": [
    "hacker=ReverseLL(head_double)"
   ]
  },
  {
   "cell_type": "code",
   "execution_count": 90,
   "metadata": {},
   "outputs": [
    {
     "name": "stdout",
     "output_type": "stream",
     "text": [
      "10\n",
      "5\n",
      "4\n",
      "3\n",
      "1\n"
     ]
    }
   ],
   "source": [
    "printLinkedList(hacker)"
   ]
  },
  {
   "cell_type": "markdown",
   "metadata": {},
   "source": [
    "# trees"
   ]
  },
  {
   "cell_type": "code",
   "execution_count": 91,
   "metadata": {},
   "outputs": [],
   "source": [
    "class treeNode(object):\n",
    "    def __init__(self,value,right=None,left=None):\n",
    "        self.value=value\n",
    "        self.right=right\n",
    "        self.left=left"
   ]
  },
  {
   "cell_type": "code",
   "execution_count": 92,
   "metadata": {},
   "outputs": [],
   "source": [
    "hoja7=treeNode(7)\n",
    "hoja6=treeNode(6)\n",
    "hoja5=treeNode(4)\n",
    "hoja4=treeNode(1)\n",
    "hoja3=treeNode(5)\n",
    "hoja2=treeNode(2)\n",
    "hoja1=treeNode(3)"
   ]
  },
  {
   "cell_type": "code",
   "execution_count": 93,
   "metadata": {},
   "outputs": [],
   "source": [
    "hoja1.right=hoja2\n",
    "hoja1.left=hoja3\n",
    "hoja2.right=hoja4\n",
    "hoja3.right=hoja5\n",
    "hoja3.left=hoja6\n",
    "hoja6.left=hoja7"
   ]
  },
  {
   "cell_type": "code",
   "execution_count": 94,
   "metadata": {},
   "outputs": [],
   "source": [
    "root=hoja1"
   ]
  },
  {
   "cell_type": "code",
   "execution_count": 95,
   "metadata": {},
   "outputs": [],
   "source": [
    "def preOrder(root,nodos=[]):\n",
    "    nodos.append(root.value)\n",
    "    if root and root.left:\n",
    "        preOrder(root.left,nodos)\n",
    "    if root and root.right:\n",
    "        preOrder(root.right,nodos)\n",
    "    return nodos"
   ]
  },
  {
   "cell_type": "code",
   "execution_count": 96,
   "metadata": {},
   "outputs": [
    {
     "name": "stdout",
     "output_type": "stream",
     "text": [
      "[3, 5, 6, 7, 4, 2, 1]\n"
     ]
    }
   ],
   "source": [
    "print(preOrder(root))"
   ]
  },
  {
   "cell_type": "code",
   "execution_count": 97,
   "metadata": {},
   "outputs": [],
   "source": [
    "def inOrder(root,nodos=[]):\n",
    "    if root and root.left:\n",
    "        inOrder(root.left,nodos)\n",
    "    nodos.append(root.value)\n",
    "    if root and root.right:\n",
    "        inOrder(root.right,nodos)\n",
    "    return nodos"
   ]
  },
  {
   "cell_type": "code",
   "execution_count": 98,
   "metadata": {},
   "outputs": [
    {
     "name": "stdout",
     "output_type": "stream",
     "text": [
      "[7, 6, 5, 4, 3, 2, 1]\n"
     ]
    }
   ],
   "source": [
    "print(inOrder(root))"
   ]
  },
  {
   "cell_type": "code",
   "execution_count": 99,
   "metadata": {},
   "outputs": [],
   "source": [
    "def postOrder(root,nodos=[]):\n",
    "    if root and root.left:\n",
    "        postOrder(root.left,nodos)\n",
    "    if root and root.right:\n",
    "        postOrder(root.right,nodos)\n",
    "    nodos.append(root.value)\n",
    "    return nodos"
   ]
  },
  {
   "cell_type": "code",
   "execution_count": 100,
   "metadata": {},
   "outputs": [
    {
     "name": "stdout",
     "output_type": "stream",
     "text": [
      "[7, 6, 4, 5, 1, 2, 3]\n"
     ]
    }
   ],
   "source": [
    "print(postOrder(root,nodos=[]))"
   ]
  },
  {
   "cell_type": "markdown",
   "metadata": {},
   "source": [
    "### height of tree"
   ]
  },
  {
   "cell_type": "code",
   "execution_count": 101,
   "metadata": {},
   "outputs": [],
   "source": [
    "def heightTree(root):\n",
    "    if root is None:\n",
    "        return -1\n",
    "    else:\n",
    "        left_height=heightTree(root.left)\n",
    "        right_height=heightTree(root.right)\n",
    "        \n",
    "        if left_height>right_height:\n",
    "            return left_height+1\n",
    "        else:\n",
    "            return right_height+1"
   ]
  },
  {
   "cell_type": "code",
   "execution_count": 102,
   "metadata": {},
   "outputs": [
    {
     "data": {
      "text/plain": [
       "3"
      ]
     },
     "execution_count": 102,
     "metadata": {},
     "output_type": "execute_result"
    }
   ],
   "source": [
    "heightTree(root)"
   ]
  },
  {
   "cell_type": "markdown",
   "metadata": {},
   "source": [
    "### tree level order traversal\n",
    "\n"
   ]
  },
  {
   "cell_type": "code",
   "execution_count": 103,
   "metadata": {},
   "outputs": [],
   "source": [
    "# esto breadth first search \n",
    "def bfs(root):\n",
    "    queue=[]\n",
    "    queue.append(root)\n",
    "    while len(queue)>0:\n",
    "        node=queue.pop(0)\n",
    "        print(node.value,end=' ')\n",
    "        if node.left:\n",
    "            queue.append(node.left)\n",
    "        if node.right:\n",
    "            queue.append(node.right)"
   ]
  },
  {
   "cell_type": "code",
   "execution_count": 104,
   "metadata": {},
   "outputs": [
    {
     "name": "stdout",
     "output_type": "stream",
     "text": [
      "3 5 2 6 4 1 7 "
     ]
    }
   ],
   "source": [
    "bfs(root)"
   ]
  },
  {
   "cell_type": "markdown",
   "metadata": {},
   "source": [
    "### Top view\n",
    "este problema no le he entendido, es una solucion que usa diccionarios (O(n^2)) "
   ]
  },
  {
   "cell_type": "code",
   "execution_count": 105,
   "metadata": {},
   "outputs": [],
   "source": [
    "def topView(root):\n",
    "    # Initialize the level\n",
    "    this_level = [(root, 0)]\n",
    "    scores = {}\n",
    "    while this_level:\n",
    "        # Basically iterate over the nodes on a single level\n",
    "        for _ in range(len(this_level)):\n",
    "            node, score = this_level.pop(0)\n",
    "            # Skip empty nodes\n",
    "            if not node:\n",
    "                continue\n",
    "            # Store the score if it's a new one!\n",
    "            if score not in scores:\n",
    "                scores[score] = node.value\n",
    "            # Add the node children to the next level\n",
    "            this_level.extend(\n",
    "                [(node.left, score - 1),\n",
    "                (node.right, score + 1)])\n",
    "\n",
    "    # Sort the scores and print their values \n",
    "    # (By default the sort is on the tuple first element: the score)\n",
    "    for _, value in sorted(list(scores.items())):\n",
    "        print(value, end=' ')"
   ]
  },
  {
   "cell_type": "code",
   "execution_count": 106,
   "metadata": {},
   "outputs": [
    {
     "name": "stdout",
     "output_type": "stream",
     "text": [
      "7 6 5 3 2 1 "
     ]
    }
   ],
   "source": [
    "topView(root)"
   ]
  },
  {
   "cell_type": "markdown",
   "metadata": {},
   "source": [
    "### insert node in a binary Tree"
   ]
  },
  {
   "cell_type": "code",
   "execution_count": 107,
   "metadata": {},
   "outputs": [],
   "source": [
    "head_bin_1=treeNode(4)\n",
    "head_bin_2=treeNode(2)\n",
    "head_bin_3=treeNode(7)\n",
    "head_bin_4=treeNode(1)\n",
    "head_bin_5=treeNode(3)\n",
    "\n"
   ]
  },
  {
   "cell_type": "code",
   "execution_count": 108,
   "metadata": {},
   "outputs": [],
   "source": [
    "head_bin_1.left=head_bin_2\n",
    "head_bin_1.right=head_bin_3\n",
    "head_bin_2.left=head_bin_4\n",
    "head_bin_2.right=head_bin_5\n",
    "root_bin=head_bin_1\n"
   ]
  },
  {
   "cell_type": "code",
   "execution_count": 109,
   "metadata": {},
   "outputs": [
    {
     "name": "stdout",
     "output_type": "stream",
     "text": [
      "[1, 2, 3, 4, 7]\n"
     ]
    }
   ],
   "source": [
    "print(inOrder(root_bin,nodos=[]))"
   ]
  },
  {
   "cell_type": "code",
   "execution_count": 110,
   "metadata": {},
   "outputs": [],
   "source": [
    "def insertBin(root,value):\n",
    "    if root is None:\n",
    "        root=treeNode(value)\n",
    "    if value<root.value:\n",
    "        if root.left is None:\n",
    "            root.left=treeNode(value)\n",
    "        else:\n",
    "            insertBin(root.left,value)\n",
    "    else:\n",
    "        if root.right is None:\n",
    "            root.right=treeNode(value)\n",
    "        else:\n",
    "            insertBin(root.right,value)\n",
    "    return root"
   ]
  },
  {
   "cell_type": "code",
   "execution_count": 111,
   "metadata": {},
   "outputs": [],
   "source": [
    "root_bin2=insertBin(root_bin,10)"
   ]
  },
  {
   "cell_type": "code",
   "execution_count": 112,
   "metadata": {},
   "outputs": [
    {
     "name": "stdout",
     "output_type": "stream",
     "text": [
      "[4, 2, 1, 3, 7, 10]\n"
     ]
    }
   ],
   "source": [
    "print(preOrder(root_bin2,nodos=[]))"
   ]
  },
  {
   "cell_type": "code",
   "execution_count": 113,
   "metadata": {},
   "outputs": [],
   "source": [
    "#### hacker rank\n",
    "class Noderank:\n",
    "    def __init__(self, info):\n",
    "        self.info = info  \n",
    "        self.left = None  \n",
    "        self.right = None \n",
    "        self.level = None \n",
    "\n",
    "    def __str__(self):\n",
    "        return str(self.info) \n",
    "\n",
    "def preOrder2(root):\n",
    "    if root == None:\n",
    "        return\n",
    "    print (root.info, end=\" \")\n",
    "    preOrder(root.left)\n",
    "    preOrder(root.right)\n",
    "    \n",
    "class BinarySearchTree:\n",
    "    def __init__(self): \n",
    "        self.root = None\n",
    "\n",
    "#Node is defined as\n",
    "#self.left (the left child of the node)\n",
    "#self.right (the right child of the node)\n",
    "#self.info (the value of the node)\n",
    "\n",
    "    def insert(self, val):\n",
    "        if self.root is None:\n",
    "            self.root=Noderank(val)\n",
    "        else:\n",
    "            current=self.root\n",
    "            if val<current.info:\n",
    "                if current.left is None:\n",
    "                    current.left=Noderank(val)\n",
    "                else:\n",
    "                    current.left.insert(val)\n",
    "            else:\n",
    "                if current.right is None:\n",
    "                    current.right=Noderank(val)\n",
    "                else:\n",
    "                    current.right.insert(val)\n",
    "        \n",
    "       \n",
    "       # if self.root == None:\n",
    "       #     self.root = Noderank(val)\n",
    "       # else:\n",
    "       #     current = self.root\n",
    "       #  \n",
    "       #     while True:\n",
    "       #         if val < current.info:\n",
    "       #             if current.left:\n",
    "       #                 current = current.left\n",
    "       #             else:\n",
    "       #                 current.left = Noderank(val)\n",
    "       #                 break\n",
    "       #         elif val > current.info:\n",
    "       #             if current.right:\n",
    "       #                 current = current.right\n",
    "       #             else:\n",
    "       #                 current.right = Noderank(val)\n",
    "       #                 break\n",
    "       #         else:\n",
    "       #             break\n",
    "        \n"
   ]
  },
  {
   "cell_type": "code",
   "execution_count": 114,
   "metadata": {},
   "outputs": [],
   "source": [
    "array=[1,2,3,4,7]"
   ]
  },
  {
   "cell_type": "code",
   "execution_count": 115,
   "metadata": {},
   "outputs": [
    {
     "ename": "AttributeError",
     "evalue": "'Noderank' object has no attribute 'insert'",
     "output_type": "error",
     "traceback": [
      "\u001b[1;31m---------------------------------------------------------------------------\u001b[0m",
      "\u001b[1;31mAttributeError\u001b[0m                            Traceback (most recent call last)",
      "\u001b[1;32m<ipython-input-115-72dd5fd9a424>\u001b[0m in \u001b[0;36m<module>\u001b[1;34m\u001b[0m\n\u001b[0;32m      1\u001b[0m \u001b[0mtree\u001b[0m \u001b[1;33m=\u001b[0m \u001b[0mBinarySearchTree\u001b[0m\u001b[1;33m(\u001b[0m\u001b[1;33m)\u001b[0m\u001b[1;33m\u001b[0m\u001b[1;33m\u001b[0m\u001b[0m\n\u001b[0;32m      2\u001b[0m \u001b[1;32mfor\u001b[0m \u001b[0mi\u001b[0m \u001b[1;32min\u001b[0m \u001b[0mrange\u001b[0m\u001b[1;33m(\u001b[0m\u001b[0mlen\u001b[0m\u001b[1;33m(\u001b[0m\u001b[0marray\u001b[0m\u001b[1;33m)\u001b[0m\u001b[1;33m)\u001b[0m\u001b[1;33m:\u001b[0m\u001b[1;33m\u001b[0m\u001b[1;33m\u001b[0m\u001b[0m\n\u001b[1;32m----> 3\u001b[1;33m     \u001b[0mtree\u001b[0m\u001b[1;33m.\u001b[0m\u001b[0minsert\u001b[0m\u001b[1;33m(\u001b[0m\u001b[0marray\u001b[0m\u001b[1;33m[\u001b[0m\u001b[0mi\u001b[0m\u001b[1;33m]\u001b[0m\u001b[1;33m)\u001b[0m\u001b[1;33m\u001b[0m\u001b[1;33m\u001b[0m\u001b[0m\n\u001b[0m\u001b[0;32m      4\u001b[0m \u001b[1;33m\u001b[0m\u001b[0m\n\u001b[0;32m      5\u001b[0m \u001b[1;33m\u001b[0m\u001b[0m\n",
      "\u001b[1;32m<ipython-input-113-82c016331dfb>\u001b[0m in \u001b[0;36minsert\u001b[1;34m(self, val)\u001b[0m\n\u001b[0;32m     40\u001b[0m                     \u001b[0mcurrent\u001b[0m\u001b[1;33m.\u001b[0m\u001b[0mright\u001b[0m\u001b[1;33m=\u001b[0m\u001b[0mNoderank\u001b[0m\u001b[1;33m(\u001b[0m\u001b[0mval\u001b[0m\u001b[1;33m)\u001b[0m\u001b[1;33m\u001b[0m\u001b[1;33m\u001b[0m\u001b[0m\n\u001b[0;32m     41\u001b[0m                 \u001b[1;32melse\u001b[0m\u001b[1;33m:\u001b[0m\u001b[1;33m\u001b[0m\u001b[1;33m\u001b[0m\u001b[0m\n\u001b[1;32m---> 42\u001b[1;33m                     \u001b[0mcurrent\u001b[0m\u001b[1;33m.\u001b[0m\u001b[0mright\u001b[0m\u001b[1;33m.\u001b[0m\u001b[0minsert\u001b[0m\u001b[1;33m(\u001b[0m\u001b[0mval\u001b[0m\u001b[1;33m)\u001b[0m\u001b[1;33m\u001b[0m\u001b[1;33m\u001b[0m\u001b[0m\n\u001b[0m\u001b[0;32m     43\u001b[0m \u001b[1;33m\u001b[0m\u001b[0m\n\u001b[0;32m     44\u001b[0m \u001b[1;33m\u001b[0m\u001b[0m\n",
      "\u001b[1;31mAttributeError\u001b[0m: 'Noderank' object has no attribute 'insert'"
     ]
    }
   ],
   "source": [
    "tree = BinarySearchTree()\n",
    "for i in range(len(array)):\n",
    "    tree.insert(array[i])\n",
    "    \n",
    "    "
   ]
  },
  {
   "cell_type": "code",
   "execution_count": 116,
   "metadata": {},
   "outputs": [
    {
     "data": {
      "text/plain": [
       "<__main__.BinarySearchTree at 0x2c6d6fa7278>"
      ]
     },
     "execution_count": 116,
     "metadata": {},
     "output_type": "execute_result"
    }
   ],
   "source": [
    "tree"
   ]
  },
  {
   "cell_type": "markdown",
   "metadata": {},
   "source": [
    "## first common ancestor"
   ]
  },
  {
   "cell_type": "code",
   "execution_count": 117,
   "metadata": {},
   "outputs": [],
   "source": [
    "def lca(root, v1, v2):\n",
    "    seek = root\n",
    "    while seek:\n",
    "        n = seek.info\n",
    "        if v1 > n and v2 > n: seek = seek.right\n",
    "        elif v1 < n and v2 < n: seek = seek.left\n",
    "        else: return(seek)"
   ]
  },
  {
   "cell_type": "code",
   "execution_count": null,
   "metadata": {},
   "outputs": [],
   "source": []
  },
  {
   "cell_type": "markdown",
   "metadata": {},
   "source": [
    "# Dynamic Array"
   ]
  },
  {
   "cell_type": "code",
   "execution_count": 121,
   "metadata": {},
   "outputs": [],
   "source": [
    "def dynamicArray(n, queries):\n",
    "    lastNumber = 0\n",
    "    seqList=[];\n",
    "    for i in range(n):\n",
    "        seqList.append([])\n",
    "    res = [];\n",
    "    for k, x, y in queries:\n",
    "        index = (x^lastNumber)%n\n",
    "        if k==1:\n",
    "            seqList[index].append(y)\n",
    "        else:\n",
    "            size = len(seqList[index])\n",
    "\n",
    "            lastNumber = seqList[index][y%size]\n",
    "            res.append(lastNumber)\n",
    "            \n",
    "    return res\n",
    "## no lo he entendido"
   ]
  },
  {
   "cell_type": "code",
   "execution_count": null,
   "metadata": {},
   "outputs": [],
   "source": []
  }
 ],
 "metadata": {
  "kernelspec": {
   "display_name": "Python 3",
   "language": "python",
   "name": "python3"
  },
  "language_info": {
   "codemirror_mode": {
    "name": "ipython",
    "version": 3
   },
   "file_extension": ".py",
   "mimetype": "text/x-python",
   "name": "python",
   "nbconvert_exporter": "python",
   "pygments_lexer": "ipython3",
   "version": "3.6.8"
  }
 },
 "nbformat": 4,
 "nbformat_minor": 2
}
