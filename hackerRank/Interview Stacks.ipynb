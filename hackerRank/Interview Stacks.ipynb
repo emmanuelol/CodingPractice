{
 "cells": [
  {
   "cell_type": "markdown",
   "metadata": {},
   "source": [
    "## Balanced brackets\n",
    "* find if a series of brackets []{}() have openings and closers\n",
    "### solution\n",
    "*  create a dictionary were the keys are the openers and the closers the value.\n",
    "* assign the keys to a set call openers\n",
    "* assing the values to a set call closers\n",
    "* init an empty stack\n",
    "* interate through every character in the string\n",
    "* if the character is in the openers, added to the stack\n",
    "* if a character is in the closers\n",
    "    * check that openers stack is not empty, if it is return False\n",
    "    * in a temp variable pop the stack ahd check if this key match with the character according to the dictionary openers to closers if not return False\n",
    "* if the stack is empty return True if not return False\n",
    "\n",
    "### Complexity\n",
    "* O(n) time\n",
    "* O(n) space"
   ]
  },
  {
   "cell_type": "code",
   "execution_count": 3,
   "metadata": {},
   "outputs": [],
   "source": [
    "def isBalanced(s):\n",
    "    openers_to_closers={\n",
    "        '(':')',\n",
    "        '[':']',\n",
    "        '{':'}'}\n",
    "\n",
    "    openers=set(openers_to_closers.keys())\n",
    "    closers=set(openers_to_closers.values())\n",
    "\n",
    "    openers_stack=[]\n",
    "\n",
    "    for character in s:\n",
    "        if character in openers:\n",
    "            openers_stack.append(character)\n",
    "        elif character in closers:\n",
    "            if not openers_stack:\n",
    "                return False\n",
    "            else: \n",
    "                latest_unclosed_opener=openers_stack.pop()\n",
    "                if not openers_to_closers[latest_unclosed_opener]==character:\n",
    "                    return False\n",
    "    return openers_stack==[]"
   ]
  },
  {
   "cell_type": "code",
   "execution_count": null,
   "metadata": {},
   "outputs": [],
   "source": []
  }
 ],
 "metadata": {
  "kernelspec": {
   "display_name": "Python 3",
   "language": "python",
   "name": "python3"
  },
  "language_info": {
   "codemirror_mode": {
    "name": "ipython",
    "version": 3
   },
   "file_extension": ".py",
   "mimetype": "text/x-python",
   "name": "python",
   "nbconvert_exporter": "python",
   "pygments_lexer": "ipython3",
   "version": "3.6.8"
  }
 },
 "nbformat": 4,
 "nbformat_minor": 4
}
