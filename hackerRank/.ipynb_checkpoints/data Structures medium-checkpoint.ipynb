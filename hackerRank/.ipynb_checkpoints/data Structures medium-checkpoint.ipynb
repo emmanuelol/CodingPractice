{
 "cells": [
  {
   "cell_type": "markdown",
   "metadata": {},
   "source": [
    "# Sparse Arrays"
   ]
  },
  {
   "cell_type": "code",
   "execution_count": 1,
   "metadata": {},
   "outputs": [],
   "source": [
    "strings=['abcde',\n",
    "         'sdaklfj',\n",
    "         'asdjf',\n",
    "         'na',\n",
    "         'basdn',\n",
    "         'sdaklfj',\n",
    "         'asdjf',\n",
    "         'na',\n",
    "         'asdjf',\n",
    "         'na',\n",
    "         'basdn',\n",
    "         'sdaklfj',\n",
    "         'asdjf']"
   ]
  },
  {
   "cell_type": "code",
   "execution_count": 2,
   "metadata": {},
   "outputs": [],
   "source": [
    "queries=['abcde','sdaklfj','asdjf','na','basdn']"
   ]
  },
  {
   "cell_type": "code",
   "execution_count": 3,
   "metadata": {},
   "outputs": [],
   "source": [
    "def mapa(string):\n",
    "    mapa={}\n",
    "    for word in string:\n",
    "        if word not in mapa:\n",
    "            mapa[word]=1\n",
    "        else:\n",
    "            mapa[word]+=1\n",
    "    return mapa"
   ]
  },
  {
   "cell_type": "code",
   "execution_count": 4,
   "metadata": {},
   "outputs": [],
   "source": [
    "mapa_string=mapa(strings)"
   ]
  },
  {
   "cell_type": "code",
   "execution_count": 5,
   "metadata": {},
   "outputs": [
    {
     "data": {
      "text/plain": [
       "{'abcde': 1, 'sdaklfj': 3, 'asdjf': 4, 'na': 3, 'basdn': 2}"
      ]
     },
     "execution_count": 5,
     "metadata": {},
     "output_type": "execute_result"
    }
   ],
   "source": [
    "mapa_string"
   ]
  },
  {
   "cell_type": "code",
   "execution_count": 6,
   "metadata": {},
   "outputs": [
    {
     "name": "stdout",
     "output_type": "stream",
     "text": [
      "abcde\n",
      "1\n",
      "sdaklfj\n",
      "3\n",
      "asdjf\n",
      "4\n",
      "na\n",
      "3\n",
      "basdn\n",
      "2\n"
     ]
    }
   ],
   "source": [
    "contador=[]\n",
    "\n",
    "for word in queries:\n",
    "    if word in mapa_string:\n",
    "        print(word)\n",
    "        print(mapa_string[word])\n",
    "        contador.append(mapa_string[word])\n",
    "    else:\n",
    "        contador.append(0)\n",
    "    \n",
    "    "
   ]
  },
  {
   "cell_type": "code",
   "execution_count": 7,
   "metadata": {},
   "outputs": [
    {
     "data": {
      "text/plain": [
       "[1, 3, 4, 3, 2]"
      ]
     },
     "execution_count": 7,
     "metadata": {},
     "output_type": "execute_result"
    }
   ],
   "source": [
    "contador"
   ]
  },
  {
   "cell_type": "code",
   "execution_count": 8,
   "metadata": {},
   "outputs": [],
   "source": [
    "def matchingStrings(strings, queries):\n",
    "    mapa_string=mapa(strings)\n",
    "    count=[]\n",
    "    for word in queries:\n",
    "        if word in mapa_string:\n",
    "            count.append(mapa_string[word])\n",
    "        else:\n",
    "            count.append(0)\n",
    "    return count\n",
    "    "
   ]
  },
  {
   "cell_type": "code",
   "execution_count": 9,
   "metadata": {},
   "outputs": [
    {
     "data": {
      "text/plain": [
       "[1, 3, 4, 3, 2]"
      ]
     },
     "execution_count": 9,
     "metadata": {},
     "output_type": "execute_result"
    }
   ],
   "source": [
    "matchingStrings(strings,queries)"
   ]
  },
  {
   "cell_type": "markdown",
   "metadata": {},
   "source": [
    "# find loop on linked list"
   ]
  },
  {
   "cell_type": "code",
   "execution_count": 10,
   "metadata": {},
   "outputs": [],
   "source": [
    "def has_cycle(head):\n",
    "    current=head\n",
    "    mapa={}\n",
    "    while current:\n",
    "        if current in mapa:\n",
    "            return True\n",
    "        else:\n",
    "            mapa[current]=True\n",
    "            current=current.next\n",
    "    return False"
   ]
  },
  {
   "cell_type": "code",
   "execution_count": null,
   "metadata": {},
   "outputs": [],
   "source": []
  },
  {
   "cell_type": "markdown",
   "metadata": {},
   "source": [
    "## swap nodes bts"
   ]
  },
  {
   "cell_type": "code",
   "execution_count": 11,
   "metadata": {},
   "outputs": [],
   "source": [
    "class TreeNode(object):\n",
    "    def __init__(self,data,left=None,right=None):\n",
    "        self.data=data\n",
    "        self.left=left\n",
    "        self.right=right"
   ]
  },
  {
   "cell_type": "code",
   "execution_count": 30,
   "metadata": {},
   "outputs": [],
   "source": [
    "node1=TreeNode(1)\n",
    "node2=TreeNode(2)\n",
    "node3=TreeNode(3)\n",
    "node4=TreeNode(4)\n",
    "node5=TreeNode(7)\n",
    "node6=TreeNode(8)\n"
   ]
  },
  {
   "cell_type": "code",
   "execution_count": 31,
   "metadata": {},
   "outputs": [],
   "source": [
    "node1.left=node2\n",
    "node1.right=node3\n",
    "node2.left=node4\n",
    "node3.left=node5\n",
    "node3.right=node6"
   ]
  },
  {
   "cell_type": "code",
   "execution_count": 32,
   "metadata": {},
   "outputs": [],
   "source": [
    "root=node1"
   ]
  },
  {
   "cell_type": "code",
   "execution_count": 27,
   "metadata": {},
   "outputs": [],
   "source": [
    "def inOrder(root,array=[]):\n",
    "    if root and root.left:\n",
    "        inOrder(root.left,array)\n",
    "    array.append(root.data)\n",
    "    if root and root.right:\n",
    "        inOrder(root.right,array)\n",
    "    return array"
   ]
  },
  {
   "cell_type": "code",
   "execution_count": 28,
   "metadata": {},
   "outputs": [
    {
     "data": {
      "text/plain": [
       "[4, 2, 1, 7, 3, 8]"
      ]
     },
     "execution_count": 28,
     "metadata": {},
     "output_type": "execute_result"
    }
   ],
   "source": [
    "inOrder(root)"
   ]
  },
  {
   "cell_type": "code",
   "execution_count": 17,
   "metadata": {},
   "outputs": [],
   "source": [
    "def swapEveryLevel(root):\n",
    "    if (root is None or (root.left is None and root.right is None)):\n",
    "        return\n",
    "    root.left,root.right=root.right,root.left\n",
    "    swapEveryLevel(root.left)\n",
    "    swapEveryLevel(root.right)\n",
    "    \n",
    "    "
   ]
  },
  {
   "cell_type": "code",
   "execution_count": 18,
   "metadata": {},
   "outputs": [],
   "source": [
    "swapEveryLevel(root)"
   ]
  },
  {
   "cell_type": "code",
   "execution_count": 19,
   "metadata": {},
   "outputs": [
    {
     "data": {
      "text/plain": [
       "[4, 2, 1, 7, 3, 8, 8, 3, 7, 1, 2, 4]"
      ]
     },
     "execution_count": 19,
     "metadata": {},
     "output_type": "execute_result"
    }
   ],
   "source": [
    "inOrder(root)"
   ]
  },
  {
   "cell_type": "code",
   "execution_count": 20,
   "metadata": {},
   "outputs": [],
   "source": [
    "## si se busca intercambiar nodos, cada k numero de niveles\n",
    "def swapKLevel(root,level=1,k=1):\n",
    "    if (root is None or (root.left is None and root.right is None)):\n",
    "        return\n",
    "    if (level+1)%k==0:\n",
    "        root.left,root.right=root.right,root.left\n",
    "    root.left,root.right=root.right,root.left\n",
    "    swapKLevel(root.left,level+1,k)\n",
    "    swapKLevel(root.right,level+1,k)"
   ]
  },
  {
   "cell_type": "markdown",
   "metadata": {},
   "source": [
    "## check BST"
   ]
  },
  {
   "cell_type": "code",
   "execution_count": 34,
   "metadata": {},
   "outputs": [],
   "source": [
    "# corregir cuando hay un valor repetido\n",
    "def check_bst_helper(root,minimo,maximo):\n",
    "    if root is None:\n",
    "        return True\n",
    "    if (minimo is not None and root.data<=minimo) or (maximo is not None and root.data>maximo):\n",
    "        return False\n",
    "    if not (check_bst_helper(root.left,minimo,root.data)):\n",
    "        return False\n",
    "    if not (check_bst_helper(root.right,root.data,maximo)):\n",
    "        return False\n",
    "    return True\n",
    "def check_duplicate(root,array=[]):\n",
    "    if root and root.left:\n",
    "        check_duplicate(root.left,array)\n",
    "    if root.data in array:\n",
    "        return False\n",
    "    array.append(root.data)\n",
    "    if root and root.right:\n",
    "        check_duplicate(root.right,array)\n",
    "    return return True\n",
    "    \n",
    "def check_binary_search_tree_(root):\n",
    "    return check_bst_helper(root,None,None) and check_duplicate(root)"
   ]
  },
  {
   "cell_type": "code",
   "execution_count": 35,
   "metadata": {},
   "outputs": [
    {
     "data": {
      "text/plain": [
       "False"
      ]
     },
     "execution_count": 35,
     "metadata": {},
     "output_type": "execute_result"
    }
   ],
   "source": [
    "check_binary_search_tree_(root)"
   ]
  },
  {
   "cell_type": "code",
   "execution_count": null,
   "metadata": {},
   "outputs": [],
   "source": []
  }
 ],
 "metadata": {
  "kernelspec": {
   "display_name": "Python 3",
   "language": "python",
   "name": "python3"
  },
  "language_info": {
   "codemirror_mode": {
    "name": "ipython",
    "version": 3
   },
   "file_extension": ".py",
   "mimetype": "text/x-python",
   "name": "python",
   "nbconvert_exporter": "python",
   "pygments_lexer": "ipython3",
   "version": "3.6.8"
  }
 },
 "nbformat": 4,
 "nbformat_minor": 2
}
