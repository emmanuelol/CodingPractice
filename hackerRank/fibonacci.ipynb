{
 "cells": [
  {
   "cell_type": "code",
   "execution_count": 113,
   "metadata": {},
   "outputs": [],
   "source": [
    "n=5"
   ]
  },
  {
   "cell_type": "code",
   "execution_count": 114,
   "metadata": {},
   "outputs": [
    {
     "data": {
      "text/plain": [
       "range(2, 5)"
      ]
     },
     "execution_count": 114,
     "metadata": {},
     "output_type": "execute_result"
    }
   ],
   "source": [
    "range(2,n)"
   ]
  },
  {
   "cell_type": "code",
   "execution_count": 115,
   "metadata": {},
   "outputs": [
    {
     "name": "stdout",
     "output_type": "stream",
     "text": [
      "2\n",
      "3\n",
      "4\n"
     ]
    }
   ],
   "source": [
    "for i in range(2,5):\n",
    "    print(i)"
   ]
  },
  {
   "cell_type": "code",
   "execution_count": 116,
   "metadata": {},
   "outputs": [],
   "source": [
    "def fibonacci(n):\n",
    "    temp=0\n",
    "    array=[0,1]\n",
    "    \n",
    "\n",
    "    for i in range(2,n+1):\n",
    " \n",
    "            \n",
    "        print('i',i)\n",
    "        temp=array[i-1]+array[i-2]\n",
    "        print(temp)\n",
    "        array.append(temp)\n",
    "        print(array)\n",
    "            \n",
    "    return temp\n",
    "        "
   ]
  },
  {
   "cell_type": "code",
   "execution_count": 119,
   "metadata": {},
   "outputs": [
    {
     "name": "stdout",
     "output_type": "stream",
     "text": [
      "i 2\n",
      "1\n",
      "[0, 1, 1]\n",
      "i 3\n",
      "2\n",
      "[0, 1, 1, 2]\n",
      "i 4\n",
      "3\n",
      "[0, 1, 1, 2, 3]\n",
      "i 5\n",
      "5\n",
      "[0, 1, 1, 2, 3, 5]\n",
      "i 6\n",
      "8\n",
      "[0, 1, 1, 2, 3, 5, 8]\n",
      "i 7\n",
      "13\n",
      "[0, 1, 1, 2, 3, 5, 8, 13]\n"
     ]
    },
    {
     "data": {
      "text/plain": [
       "13"
      ]
     },
     "execution_count": 119,
     "metadata": {},
     "output_type": "execute_result"
    }
   ],
   "source": [
    "fibonacci(7)"
   ]
  },
  {
   "cell_type": "code",
   "execution_count": 73,
   "metadata": {},
   "outputs": [],
   "source": [
    "array=[0,1,1,2,3,5]"
   ]
  },
  {
   "cell_type": "code",
   "execution_count": 74,
   "metadata": {},
   "outputs": [
    {
     "data": {
      "text/plain": [
       "8"
      ]
     },
     "execution_count": 74,
     "metadata": {},
     "output_type": "execute_result"
    }
   ],
   "source": [
    "array[6-1]+array[6-2]"
   ]
  },
  {
   "cell_type": "code",
   "execution_count": 110,
   "metadata": {},
   "outputs": [],
   "source": [
    "n=6"
   ]
  },
  {
   "cell_type": "code",
   "execution_count": 111,
   "metadata": {},
   "outputs": [],
   "source": [
    "array=[0,1]"
   ]
  },
  {
   "cell_type": "code",
   "execution_count": 112,
   "metadata": {},
   "outputs": [
    {
     "name": "stdout",
     "output_type": "stream",
     "text": [
      "i, 2\n",
      "resultado= 1\n",
      "[0, 1, 1]\n",
      "i, 3\n",
      "resultado= 2\n",
      "[0, 1, 1, 2]\n",
      "i, 4\n",
      "resultado= 3\n",
      "[0, 1, 1, 2, 3]\n",
      "i, 5\n",
      "resultado= 5\n",
      "[0, 1, 1, 2, 3, 5]\n",
      "i, 6\n",
      "resultado= 8\n",
      "[0, 1, 1, 2, 3, 5, 8]\n"
     ]
    }
   ],
   "source": [
    "for i in range(2,n+1):   \n",
    "    print('i,',i)\n",
    "    temp=array[i-1]+array[i-2]\n",
    "    print('resultado=',temp)\n",
    "    array.append(temp)\n",
    "    print(array)"
   ]
  },
  {
   "cell_type": "code",
   "execution_count": null,
   "metadata": {},
   "outputs": [],
   "source": []
  },
  {
   "cell_type": "code",
   "execution_count": null,
   "metadata": {},
   "outputs": [],
   "source": []
  }
 ],
 "metadata": {
  "kernelspec": {
   "display_name": "Python 3",
   "language": "python",
   "name": "python3"
  },
  "language_info": {
   "codemirror_mode": {
    "name": "ipython",
    "version": 3
   },
   "file_extension": ".py",
   "mimetype": "text/x-python",
   "name": "python",
   "nbconvert_exporter": "python",
   "pygments_lexer": "ipython3",
   "version": "3.6.4rc1"
  }
 },
 "nbformat": 4,
 "nbformat_minor": 2
}
