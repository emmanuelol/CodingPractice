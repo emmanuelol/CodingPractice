{
 "cells": [
  {
   "cell_type": "markdown",
   "metadata": {},
   "source": [
    "# left rotation array\n"
   ]
  },
  {
   "cell_type": "code",
   "execution_count": 1,
   "metadata": {},
   "outputs": [],
   "source": [
    "def rotate(l, n):\n",
    "    return l[n:] + l[:n]"
   ]
  },
  {
   "cell_type": "markdown",
   "metadata": {},
   "source": [
    "# check BST"
   ]
  },
  {
   "cell_type": "code",
   "execution_count": 2,
   "metadata": {},
   "outputs": [
    {
     "name": "stdout",
     "output_type": "stream",
     "text": [
      "Not a BST\n"
     ]
    }
   ],
   "source": [
    "# Python program to check if a binary tree is bst or not\n",
    " \n",
    "INT_MAX = 4294967296\n",
    "INT_MIN = -4294967296\n",
    " \n",
    "# A binary tree node\n",
    "class Node:\n",
    " \n",
    "    # Constructor to create a new node\n",
    "    def __init__(self, data):\n",
    "        self.data = data \n",
    "        self.left = None\n",
    "        self.right = None\n",
    " \n",
    " \n",
    "# Returns true if the given tree is a binary search tree\n",
    "# (efficient version)\n",
    "def isBST(node):\n",
    "    return (isBSTUtil(node, INT_MIN, INT_MAX))\n",
    " \n",
    "# Retusn true if the given tree is a BST and its values\n",
    "# >= min and <= max\n",
    "def isBSTUtil(node, mini, maxi):\n",
    "     \n",
    "    # An empty tree is BST\n",
    "    if node is None:\n",
    "        return True\n",
    " \n",
    "    # False if this node violates min/max constraint\n",
    "    if node.data < mini or node.data > maxi:\n",
    "        return False\n",
    " \n",
    "    # Otherwise check the subtrees recursively\n",
    "    # tightening the min or max constraint\n",
    "    return (isBSTUtil(node.left, mini, node.data -1) and\n",
    "          isBSTUtil(node.right, node.data+1, maxi))\n",
    " \n",
    "# Driver program to test above function\n",
    "root = Node(3)\n",
    "root.left = Node(2)\n",
    "root.right = Node(6)\n",
    "root.left.left = Node(1)\n",
    "root.left.right = Node(4)\n",
    "root.right.left=Node(5)\n",
    "root.right.right=Node(7)\n",
    " \n",
    "if (isBST(root)):\n",
    "    print(\"Is BST\")\n",
    "else:\n",
    "    print(\"Not a BST\")"
   ]
  },
  {
   "cell_type": "markdown",
   "metadata": {},
   "source": [
    "# hashTable sum"
   ]
  },
  {
   "cell_type": "code",
   "execution_count": 3,
   "metadata": {},
   "outputs": [],
   "source": [
    "helados=[1,4,5,3,2]\n",
    "money=4"
   ]
  },
  {
   "cell_type": "code",
   "execution_count": 4,
   "metadata": {},
   "outputs": [],
   "source": [
    "def sumTwo(array,money):\n",
    "    sumas=[]\n",
    "    hashTable={}\n",
    "    \n",
    "    for i in range(len(array)):\n",
    "        print('i',i)\n",
    "        print('helado',array[i])\n",
    "        sumDiff=money-array[i] \n",
    "        print('dif',sumDiff)\n",
    "        if sumDiff in hashTable and i!=money:\n",
    "            sumas.append(i)\n",
    "        \n",
    "        hashTable[i]=array[i]\n",
    "    return sumas"
   ]
  },
  {
   "cell_type": "code",
   "execution_count": 5,
   "metadata": {},
   "outputs": [
    {
     "name": "stdout",
     "output_type": "stream",
     "text": [
      "i 0\n",
      "helado 1\n",
      "dif 3\n",
      "i 1\n",
      "helado 4\n",
      "dif 0\n",
      "i 2\n",
      "helado 5\n",
      "dif -1\n",
      "i 3\n",
      "helado 3\n",
      "dif 1\n",
      "i 4\n",
      "helado 2\n",
      "dif 2\n"
     ]
    },
    {
     "data": {
      "text/plain": [
       "[1, 3]"
      ]
     },
     "execution_count": 5,
     "metadata": {},
     "output_type": "execute_result"
    }
   ],
   "source": [
    "sumTwo(helados,money)"
   ]
  },
  {
   "cell_type": "code",
   "execution_count": 6,
   "metadata": {},
   "outputs": [
    {
     "name": "stdout",
     "output_type": "stream",
     "text": [
      "1\n",
      "indice 1\n",
      "2\n",
      "3\n",
      "4\n",
      "indice 4\n",
      "5\n"
     ]
    }
   ],
   "source": [
    "hashTable={}\n",
    "dif=[]\n",
    "helado_1=[]\n",
    "counter=0\n",
    "for i in range(len(helados)):\n",
    "    hashTable[i+1]=helados[i]\n",
    "    \n",
    "for i in hashTable:\n",
    "    \n",
    "    print(i)\n",
    "    diff=money-hashTable[i]\n",
    "    dif.append(diff)\n",
    "    \n",
    "    if diff in hashTable and counter<2:\n",
    "        print('indice',i)\n",
    "        counter+=1"
   ]
  },
  {
   "cell_type": "code",
   "execution_count": 7,
   "metadata": {},
   "outputs": [
    {
     "name": "stdout",
     "output_type": "stream",
     "text": [
      "indice 3\n",
      "indice 4\n"
     ]
    }
   ],
   "source": [
    "hashTable={}\n",
    "dif=[]\n",
    "helado_1=[]\n",
    "counter=0\n",
    "for i in range(len(helados)):\n",
    "    hashTable[i+1]=helados[i]\n",
    "    diff=money-hashTable[i+1]\n",
    "    dif.append(diff)\n",
    "    if diff in hashTable and counter<2:\n",
    "        print('indice',i)\n",
    "        counter+=1"
   ]
  },
  {
   "cell_type": "code",
   "execution_count": 8,
   "metadata": {},
   "outputs": [
    {
     "data": {
      "text/plain": [
       "{1: 1, 2: 4, 3: 5, 4: 3, 5: 2}"
      ]
     },
     "execution_count": 8,
     "metadata": {},
     "output_type": "execute_result"
    }
   ],
   "source": [
    "hashTable"
   ]
  },
  {
   "cell_type": "code",
   "execution_count": 9,
   "metadata": {},
   "outputs": [
    {
     "data": {
      "text/plain": [
       "[3, 0, -1, 1, 2]"
      ]
     },
     "execution_count": 9,
     "metadata": {},
     "output_type": "execute_result"
    }
   ],
   "source": [
    "dif"
   ]
  },
  {
   "cell_type": "code",
   "execution_count": 10,
   "metadata": {},
   "outputs": [
    {
     "data": {
      "text/plain": [
       "[]"
      ]
     },
     "execution_count": 10,
     "metadata": {},
     "output_type": "execute_result"
    }
   ],
   "source": [
    "helado_1\n",
    "    "
   ]
  },
  {
   "cell_type": "code",
   "execution_count": 11,
   "metadata": {},
   "outputs": [],
   "source": [
    "def sumTwo2(array,money):\n",
    "    hashTable={}\n",
    "    dif=[]\n",
    "    counter=0\n",
    "    for i in range(len(helados)):\n",
    "        hashTable[i+1]=helados[i]\n",
    "    \n",
    "    for i in hashTable:\n",
    "    \n",
    "        diff=money-hashTable[i]\n",
    "    \n",
    "        if diff in hashTable and counter<2:\n",
    "            print('indice',i)\n",
    "            counter+=1\n",
    "            dif.append(i)\n",
    "    return dif\n",
    "            "
   ]
  },
  {
   "cell_type": "code",
   "execution_count": 12,
   "metadata": {},
   "outputs": [
    {
     "name": "stdout",
     "output_type": "stream",
     "text": [
      "indice 1\n",
      "indice 4\n"
     ]
    },
    {
     "data": {
      "text/plain": [
       "[1, 4]"
      ]
     },
     "execution_count": 12,
     "metadata": {},
     "output_type": "execute_result"
    }
   ],
   "source": [
    "sumTwo2(helados,money)"
   ]
  },
  {
   "cell_type": "code",
   "execution_count": 13,
   "metadata": {},
   "outputs": [],
   "source": [
    "helados=[2, 2, 4, 3]"
   ]
  },
  {
   "cell_type": "code",
   "execution_count": 14,
   "metadata": {},
   "outputs": [
    {
     "name": "stdout",
     "output_type": "stream",
     "text": [
      "indice 1\n",
      "indice 2\n"
     ]
    },
    {
     "data": {
      "text/plain": [
       "[1, 2]"
      ]
     },
     "execution_count": 14,
     "metadata": {},
     "output_type": "execute_result"
    }
   ],
   "source": [
    "sumTwo2(helados,money)"
   ]
  },
  {
   "cell_type": "code",
   "execution_count": 15,
   "metadata": {},
   "outputs": [
    {
     "name": "stdout",
     "output_type": "stream",
     "text": [
      "[]\n"
     ]
    }
   ],
   "source": [
    "# our two sum function which will return\n",
    "# all pairs in the list that sum up to S\n",
    "def twoSum(arr, S):\n",
    "\n",
    "  sums = []\n",
    "  hashTable = {}\n",
    "\n",
    "  # check each element in array\n",
    "  for i in range(0, len(arr)):\n",
    "\n",
    "    # calculate S minus current element\n",
    "    sumMinusElement = S - arr[i]\n",
    "\n",
    "    # check if this number exists in hash table\n",
    "    # if so then we found a pair of numbers that sum to S\n",
    "    if sumMinusElement in hashTable:\n",
    "      sums.append([arr[i], sumMinusElement])\n",
    "\n",
    "    # add the current number to the hash table\n",
    "    hashTable[arr[i]] = arr[i]\n",
    "\n",
    "  # return all pairs of integers that sum to S\n",
    "  return sums\n",
    "\n",
    "#print (twoSum([3, 5, 2, -4, 8, 11], 7))\n",
    "print (twoSum([3, 5, 1, -3, 8, 11], 7))\n"
   ]
  },
  {
   "cell_type": "code",
   "execution_count": null,
   "metadata": {},
   "outputs": [],
   "source": []
  },
  {
   "cell_type": "code",
   "execution_count": 17,
   "metadata": {},
   "outputs": [],
   "source": [
    "\n",
    "\n",
    "\n",
    "def sumTwo2(array,money):\n",
    "    hashTable={}\n",
    "    dif=[]\n",
    "    counter=0\n",
    "    for i in range(len(helados)):\n",
    "        hashTable[i+1]=helados[i]\n",
    "    \n",
    "    for i in hashTable:\n",
    "    \n",
    "        diff=money-hashTable[i]\n",
    "    \n",
    "        if diff in hashTable and counter<2:\n",
    "            print('indice',i)\n",
    "            counter+=1\n",
    "            dif.append(i)\n",
    "    return dif"
   ]
  },
  {
   "cell_type": "code",
   "execution_count": null,
   "metadata": {},
   "outputs": [],
   "source": []
  },
  {
   "cell_type": "code",
   "execution_count": 20,
   "metadata": {},
   "outputs": [
    {
     "data": {
      "text/plain": [
       "range(0, 3)"
      ]
     },
     "execution_count": 20,
     "metadata": {},
     "output_type": "execute_result"
    }
   ],
   "source": [
    "range(3)"
   ]
  },
  {
   "cell_type": "code",
   "execution_count": 1,
   "metadata": {},
   "outputs": [],
   "source": [
    "cadena=[1,1,2]"
   ]
  },
  {
   "cell_type": "code",
   "execution_count": 5,
   "metadata": {},
   "outputs": [
    {
     "name": "stdout",
     "output_type": "stream",
     "text": [
      "1\n",
      "0\n",
      "2\n"
     ]
    }
   ],
   "source": [
    "valor=0\n",
    "for i in cadena:\n",
    "    valor^=i\n",
    "    print(valor)"
   ]
  },
  {
   "cell_type": "code",
   "execution_count": 6,
   "metadata": {},
   "outputs": [
    {
     "data": {
      "text/plain": [
       "2"
      ]
     },
     "execution_count": 6,
     "metadata": {},
     "output_type": "execute_result"
    }
   ],
   "source": [
    "valor"
   ]
  },
  {
   "cell_type": "markdown",
   "metadata": {},
   "source": [
    "# otro ejercicio"
   ]
  },
  {
   "cell_type": "code",
   "execution_count": 66,
   "metadata": {},
   "outputs": [],
   "source": [
    "magazine='two times three is not four'\n",
    "ransom='two times two is four'"
   ]
  },
  {
   "cell_type": "code",
   "execution_count": 67,
   "metadata": {},
   "outputs": [],
   "source": [
    "mag_split = magazine.split()\n",
    "ransom_split = ransom.split()"
   ]
  },
  {
   "cell_type": "code",
   "execution_count": 68,
   "metadata": {},
   "outputs": [
    {
     "data": {
      "text/plain": [
       "['two', 'times', 'two', 'is', 'four']"
      ]
     },
     "execution_count": 68,
     "metadata": {},
     "output_type": "execute_result"
    }
   ],
   "source": [
    "ransom_split"
   ]
  },
  {
   "cell_type": "code",
   "execution_count": 69,
   "metadata": {},
   "outputs": [],
   "source": [
    "map_magazine={}\n",
    "for word in mag_split:\n",
    "    if word not in map_magazine:\n",
    "        map_magazine[word]=1\n",
    "    else:\n",
    "        map_magazine[word]+=1\n",
    "        "
   ]
  },
  {
   "cell_type": "code",
   "execution_count": 70,
   "metadata": {},
   "outputs": [
    {
     "data": {
      "text/plain": [
       "{'four': 1, 'is': 1, 'not': 1, 'three': 1, 'times': 1, 'two': 1}"
      ]
     },
     "execution_count": 70,
     "metadata": {},
     "output_type": "execute_result"
    }
   ],
   "source": [
    "map_magazine"
   ]
  },
  {
   "cell_type": "code",
   "execution_count": 71,
   "metadata": {},
   "outputs": [],
   "source": [
    "map_ransom={}\n",
    "for word in ransom_split:\n",
    "    if word not in map_ransom:\n",
    "        map_ransom[word]=1\n",
    "    else:\n",
    "        map_ransom[word]+=1\n",
    "        "
   ]
  },
  {
   "cell_type": "code",
   "execution_count": 72,
   "metadata": {},
   "outputs": [
    {
     "data": {
      "text/plain": [
       "{'four': 1, 'is': 1, 'times': 1, 'two': 2}"
      ]
     },
     "execution_count": 72,
     "metadata": {},
     "output_type": "execute_result"
    }
   ],
   "source": [
    "map_ransom"
   ]
  },
  {
   "cell_type": "code",
   "execution_count": 83,
   "metadata": {},
   "outputs": [],
   "source": [
    "valores=list(map_ransom.values())"
   ]
  },
  {
   "cell_type": "code",
   "execution_count": 92,
   "metadata": {},
   "outputs": [
    {
     "data": {
      "text/plain": [
       "[2, 1, 1, 1]"
      ]
     },
     "execution_count": 92,
     "metadata": {},
     "output_type": "execute_result"
    }
   ],
   "source": [
    "valores"
   ]
  },
  {
   "cell_type": "code",
   "execution_count": 96,
   "metadata": {},
   "outputs": [],
   "source": [
    "import numpy as np"
   ]
  },
  {
   "cell_type": "code",
   "execution_count": 97,
   "metadata": {},
   "outputs": [],
   "source": [
    "valores = np.asarray(valores)"
   ]
  },
  {
   "cell_type": "code",
   "execution_count": 98,
   "metadata": {},
   "outputs": [],
   "source": [
    "valores=valores>0"
   ]
  },
  {
   "cell_type": "code",
   "execution_count": 104,
   "metadata": {},
   "outputs": [
    {
     "data": {
      "text/plain": [
       "True"
      ]
     },
     "execution_count": 104,
     "metadata": {},
     "output_type": "execute_result"
    }
   ],
   "source": [
    "np.sum(valores*1)==len(valores)"
   ]
  },
  {
   "cell_type": "code",
   "execution_count": 73,
   "metadata": {},
   "outputs": [
    {
     "name": "stdout",
     "output_type": "stream",
     "text": [
      "False\n"
     ]
    }
   ],
   "source": [
    "for key in map_magazine:\n",
    "    if key in map_ransom:\n",
    "        if map_magazine[key]!=map_ransom[key]:\n",
    "            print('False')"
   ]
  },
  {
   "cell_type": "markdown",
   "metadata": {},
   "source": [
    "creandolo como funcion"
   ]
  },
  {
   "cell_type": "code",
   "execution_count": 74,
   "metadata": {},
   "outputs": [],
   "source": [
    "def map_count(mapa):\n",
    "    mapa_resultado={}\n",
    "    for word in mapa:\n",
    "        if word not in mapa_resultado:\n",
    "            mapa_resultado[word]=1\n",
    "        else:\n",
    "            mapa_resultado[word]+=1\n",
    "    return mapa_resultado"
   ]
  },
  {
   "cell_type": "code",
   "execution_count": null,
   "metadata": {},
   "outputs": [],
   "source": []
  },
  {
   "cell_type": "code",
   "execution_count": 124,
   "metadata": {},
   "outputs": [],
   "source": [
    "def ransom_note(magazine,ransom):\n",
    "    mag_split = magazine.split()\n",
    "    ransom_split = ransom.split()\n",
    "    mapa_magazine=map_count(mag_split)\n",
    "    mapa_ransom=map_count(ransom_split)\n",
    "    \n",
    "    for key in mapa_magazine:\n",
    "        if key in mapa_ransom:\n",
    "            if mapa_magazine[key]<mapa_ransom[key]:\n",
    "                return False\n",
    "    \n",
    "    return True\n",
    "    \n",
    "    "
   ]
  },
  {
   "cell_type": "code",
   "execution_count": null,
   "metadata": {},
   "outputs": [],
   "source": []
  },
  {
   "cell_type": "code",
   "execution_count": 125,
   "metadata": {},
   "outputs": [
    {
     "data": {
      "text/plain": [
       "True"
      ]
     },
     "execution_count": 125,
     "metadata": {},
     "output_type": "execute_result"
    }
   ],
   "source": [
    "ransom_note(magazine,ransom)"
   ]
  },
  {
   "cell_type": "code",
   "execution_count": 126,
   "metadata": {},
   "outputs": [],
   "source": [
    "magazine='give me one grand today night'\n",
    "ransom='give one grand today'"
   ]
  },
  {
   "cell_type": "code",
   "execution_count": 127,
   "metadata": {},
   "outputs": [
    {
     "data": {
      "text/plain": [
       "True"
      ]
     },
     "execution_count": 127,
     "metadata": {},
     "output_type": "execute_result"
    }
   ],
   "source": [
    "ransom_note(magazine,ransom)"
   ]
  },
  {
   "cell_type": "code",
   "execution_count": 128,
   "metadata": {},
   "outputs": [],
   "source": [
    "def ransom_note2(magazine,ransom):\n",
    "    mag_split = magazine.split()\n",
    "    ransom_split = ransom.split()\n",
    "    mapa_magazine=map_count(mag_split)\n",
    "    mapa_ransom=map_count(ransom_split)\n",
    "    \n",
    "    for key in mapa_magazine:\n",
    "        if key in mapa_ransom:\n",
    "             mapa_magazine[key]-=1\n",
    "                \n",
    "    valores=list(mapa_magazine.values())\n",
    "    valores = np.asarray(valores)\n",
    "    valores=valores>=0\n",
    "    \n",
    "    return  np.sum(valores*1)==len(valores)"
   ]
  },
  {
   "cell_type": "code",
   "execution_count": 129,
   "metadata": {},
   "outputs": [
    {
     "data": {
      "text/plain": [
       "True"
      ]
     },
     "execution_count": 129,
     "metadata": {},
     "output_type": "execute_result"
    }
   ],
   "source": [
    "ransom_note2(magazine,ransom)"
   ]
  },
  {
   "cell_type": "code",
   "execution_count": 133,
   "metadata": {},
   "outputs": [],
   "source": [
    "magazine='two times three is not four'\n",
    "ransom='two times two is four'"
   ]
  },
  {
   "cell_type": "code",
   "execution_count": 134,
   "metadata": {},
   "outputs": [
    {
     "data": {
      "text/plain": [
       "True"
      ]
     },
     "execution_count": 134,
     "metadata": {},
     "output_type": "execute_result"
    }
   ],
   "source": [
    "ransom_note2(magazine,ransom)"
   ]
  },
  {
   "cell_type": "code",
   "execution_count": 135,
   "metadata": {},
   "outputs": [],
   "source": [
    "magazine='h ghq g xxy wdnr anjst xxy wdnr h h anjst wdnr'\n",
    "ransom='h ghq'"
   ]
  },
  {
   "cell_type": "code",
   "execution_count": 136,
   "metadata": {},
   "outputs": [
    {
     "data": {
      "text/plain": [
       "True"
      ]
     },
     "execution_count": 136,
     "metadata": {},
     "output_type": "execute_result"
    }
   ],
   "source": [
    "ransom_note(magazine,ransom)"
   ]
  },
  {
   "cell_type": "code",
   "execution_count": null,
   "metadata": {},
   "outputs": [],
   "source": []
  }
 ],
 "metadata": {
  "kernelspec": {
   "display_name": "Python 3",
   "language": "python",
   "name": "python3"
  },
  "language_info": {
   "codemirror_mode": {
    "name": "ipython",
    "version": 3
   },
   "file_extension": ".py",
   "mimetype": "text/x-python",
   "name": "python",
   "nbconvert_exporter": "python",
   "pygments_lexer": "ipython3",
   "version": "3.6.4rc1"
  }
 },
 "nbformat": 4,
 "nbformat_minor": 2
}
