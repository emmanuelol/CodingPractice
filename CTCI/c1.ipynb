{
 "cells": [
  {
   "cell_type": "markdown",
   "metadata": {},
   "source": [
    "# Find if a string is made of unique characters\n",
    "## hashmap\n"
   ]
  },
  {
   "cell_type": "code",
   "execution_count": 16,
   "metadata": {},
   "outputs": [],
   "source": [
    "string='holaa'"
   ]
  },
  {
   "cell_type": "code",
   "execution_count": 17,
   "metadata": {},
   "outputs": [],
   "source": [
    "#def isUnique(string):\n",
    "mapa={}\n",
    "for word in string:\n",
    "    if word not in mapa:\n",
    "        mapa[word]=1\n",
    "    else:\n",
    "        mapa[word]+=1\n",
    "            \n",
    "        "
   ]
  },
  {
   "cell_type": "code",
   "execution_count": 18,
   "metadata": {},
   "outputs": [
    {
     "data": {
      "text/plain": [
       "{'a': 2, 'h': 1, 'l': 1, 'o': 1}"
      ]
     },
     "execution_count": 18,
     "metadata": {},
     "output_type": "execute_result"
    }
   ],
   "source": [
    "mapa"
   ]
  },
  {
   "cell_type": "code",
   "execution_count": 19,
   "metadata": {},
   "outputs": [
    {
     "name": "stdout",
     "output_type": "stream",
     "text": [
      "False\n",
      "True\n"
     ]
    }
   ],
   "source": [
    "for i in mapa.values():\n",
    "    if i>1:\n",
    "        print('False')\n",
    "print('True')"
   ]
  },
  {
   "cell_type": "code",
   "execution_count": 20,
   "metadata": {},
   "outputs": [
    {
     "name": "stdout",
     "output_type": "stream",
     "text": [
      "h\n",
      "o\n",
      "l\n",
      "a\n"
     ]
    }
   ],
   "source": [
    "for keys in mapa:\n",
    "    print(keys)"
   ]
  },
  {
   "cell_type": "code",
   "execution_count": 21,
   "metadata": {},
   "outputs": [],
   "source": [
    "string='mundo'"
   ]
  },
  {
   "cell_type": "code",
   "execution_count": 22,
   "metadata": {},
   "outputs": [],
   "source": [
    "def isUnique(string):\n",
    "    mapa={}\n",
    "    for word in string:\n",
    "        if word not in mapa:\n",
    "            mapa[word]=1\n",
    "        else:\n",
    "            mapa[word]+=1\n",
    "    for i in mapa.values():\n",
    "        if i>1:\n",
    "            return False\n",
    "            break\n",
    "    return True"
   ]
  },
  {
   "cell_type": "code",
   "execution_count": 23,
   "metadata": {},
   "outputs": [
    {
     "data": {
      "text/plain": [
       "True"
      ]
     },
     "execution_count": 23,
     "metadata": {},
     "output_type": "execute_result"
    }
   ],
   "source": [
    "isUnique(string)"
   ]
  },
  {
   "cell_type": "markdown",
   "metadata": {},
   "source": [
    "## O(n)\n",
    "### bueno es n+m (tamaño del string+ numero de caracteres) "
   ]
  },
  {
   "cell_type": "markdown",
   "metadata": {},
   "source": [
    "# check permutation"
   ]
  },
  {
   "cell_type": "code",
   "execution_count": 24,
   "metadata": {},
   "outputs": [],
   "source": [
    "string1='abc'\n",
    "string2='cba'\n",
    "string3='a    cb'"
   ]
  },
  {
   "cell_type": "code",
   "execution_count": 25,
   "metadata": {},
   "outputs": [],
   "source": [
    "def crearMapa(texto):\n",
    "    mapa_palabras={}\n",
    "\n",
    "    for word in texto:\n",
    "        if word not in mapa_palabras:\n",
    "            mapa_palabras[word]=1\n",
    "        else:\n",
    "            mapa_palabras[word]+=1\n",
    "    \n",
    "    return mapa_palabras"
   ]
  },
  {
   "cell_type": "code",
   "execution_count": 26,
   "metadata": {},
   "outputs": [],
   "source": [
    "def check_permutation(texto1,texto2):\n",
    "    \n",
    "    if len(texto1)!=len(texto2):\n",
    "        return False\n",
    "    mapaTexto1=crearMapa(texto1)\n",
    "    mapaTexto2=crearMapa(texto2)\n",
    "    \n",
    "    for key in mapaTexto1:\n",
    "        if key not in mapaTexto2 or mapaTexto1[key]!=mapaTexto2[key]:\n",
    "            return False\n",
    "        \n",
    "    return True\n",
    "            \n",
    "            "
   ]
  },
  {
   "cell_type": "code",
   "execution_count": 27,
   "metadata": {},
   "outputs": [
    {
     "data": {
      "text/plain": [
       "False"
      ]
     },
     "execution_count": 27,
     "metadata": {},
     "output_type": "execute_result"
    }
   ],
   "source": [
    "check_permutation(string1,string3)"
   ]
  },
  {
   "cell_type": "markdown",
   "metadata": {},
   "source": [
    "### run time es O(n+n) osea O(n) peor escenario"
   ]
  },
  {
   "cell_type": "markdown",
   "metadata": {},
   "source": [
    "## URLfy"
   ]
  },
  {
   "cell_type": "code",
   "execution_count": 28,
   "metadata": {},
   "outputs": [],
   "source": [
    "input1='Mr John Smith'"
   ]
  },
  {
   "cell_type": "code",
   "execution_count": 29,
   "metadata": {},
   "outputs": [
    {
     "name": "stdout",
     "output_type": "stream",
     "text": [
      "Mr%20John%20Smith\n"
     ]
    }
   ],
   "source": [
    "resultado=''\n",
    "for word in input1:\n",
    "    if word==' ':\n",
    "        word='%20'\n",
    "    resultado+=word\n",
    "\n",
    "print(resultado)\n",
    "        "
   ]
  },
  {
   "cell_type": "code",
   "execution_count": 31,
   "metadata": {},
   "outputs": [
    {
     "data": {
      "text/plain": [
       "'Mr%20John%20Smith'"
      ]
     },
     "execution_count": 31,
     "metadata": {},
     "output_type": "execute_result"
    }
   ],
   "source": [
    "input1.replace(' ','%20')"
   ]
  },
  {
   "cell_type": "markdown",
   "metadata": {},
   "source": [
    "### resultado en O(n)"
   ]
  },
  {
   "cell_type": "code",
   "execution_count": null,
   "metadata": {},
   "outputs": [],
   "source": []
  },
  {
   "cell_type": "markdown",
   "metadata": {},
   "source": [
    "\n",
    "# Palindrome Permutation\n"
   ]
  },
  {
   "cell_type": "code",
   "execution_count": null,
   "metadata": {},
   "outputs": [],
   "source": []
  },
  {
   "cell_type": "markdown",
   "metadata": {},
   "source": [
    "## One Way"
   ]
  },
  {
   "cell_type": "code",
   "execution_count": 32,
   "metadata": {},
   "outputs": [],
   "source": [
    "input1='pale'\n",
    "input2='ale'\n",
    "input3='pales'\n",
    "input4='bake'"
   ]
  },
  {
   "cell_type": "code",
   "execution_count": 33,
   "metadata": {},
   "outputs": [],
   "source": [
    "# cuando son del mismo largo\n",
    "def oneWaySame(input1,input2):\n",
    "    flag=0\n",
    "    for i in range(len(input2)):\n",
    "        if input1[i]!=input2[i]:\n",
    "            flag+=1\n",
    "    if flag>1:\n",
    "        return False\n",
    "    else:\n",
    "        return True\n",
    "    "
   ]
  },
  {
   "cell_type": "code",
   "execution_count": 34,
   "metadata": {},
   "outputs": [
    {
     "data": {
      "text/plain": [
       "False"
      ]
     },
     "execution_count": 34,
     "metadata": {},
     "output_type": "execute_result"
    }
   ],
   "source": [
    "oneWaySame(input1,input4)"
   ]
  },
  {
   "cell_type": "code",
   "execution_count": 35,
   "metadata": {},
   "outputs": [],
   "source": [
    "# cuando son de diferente tamaño\n",
    "def oneWayDiff(input1,input2):\n",
    "    flag=0\n",
    "    for i in range(len(input2)):\n",
    "        if input1[i+flag]!=input2[i]:\n",
    "            flag+=1\n",
    "    if flag>1:\n",
    "        return False\n",
    "    else:\n",
    "        return True"
   ]
  },
  {
   "cell_type": "code",
   "execution_count": 36,
   "metadata": {},
   "outputs": [
    {
     "data": {
      "text/plain": [
       "True"
      ]
     },
     "execution_count": 36,
     "metadata": {},
     "output_type": "execute_result"
    }
   ],
   "source": [
    "oneWayDiff(input1,input2)"
   ]
  },
  {
   "cell_type": "code",
   "execution_count": 37,
   "metadata": {},
   "outputs": [],
   "source": [
    "def oneWay(string1,string2):\n",
    "    if len(string1) <=(len(string2)-2) or len(string1)>=(len(string2)+2):\n",
    "        return False\n",
    "    elif len(string1)==len(string2):\n",
    "        return oneWaySame(string1,string2)\n",
    "    elif len(string1)>len(string2):\n",
    "        return oneWayDiff(string1,string2)\n",
    "    else:\n",
    "        return oneWayDiff(string2,string1)\n",
    "        "
   ]
  },
  {
   "cell_type": "code",
   "execution_count": 38,
   "metadata": {},
   "outputs": [
    {
     "data": {
      "text/plain": [
       "False"
      ]
     },
     "execution_count": 38,
     "metadata": {},
     "output_type": "execute_result"
    }
   ],
   "source": [
    "oneWay(input1,input4)"
   ]
  },
  {
   "cell_type": "code",
   "execution_count": 39,
   "metadata": {},
   "outputs": [
    {
     "data": {
      "text/plain": [
       "True"
      ]
     },
     "execution_count": 39,
     "metadata": {},
     "output_type": "execute_result"
    }
   ],
   "source": [
    "oneWay(input1,input3)"
   ]
  },
  {
   "cell_type": "markdown",
   "metadata": {},
   "source": [
    "### runtime O(n)"
   ]
  },
  {
   "cell_type": "code",
   "execution_count": null,
   "metadata": {},
   "outputs": [],
   "source": []
  },
  {
   "cell_type": "markdown",
   "metadata": {},
   "source": [
    "# String Compression"
   ]
  },
  {
   "cell_type": "code",
   "execution_count": 40,
   "metadata": {},
   "outputs": [],
   "source": [
    "string1='aabcccccaaa'"
   ]
  },
  {
   "cell_type": "code",
   "execution_count": 41,
   "metadata": {},
   "outputs": [],
   "source": [
    "def compress(string1):\n",
    "    S = len(string1)\n",
    "    result = []\n",
    "\n",
    "    if S < 2:\n",
    "        return string1\n",
    "\n",
    "    c = 1\n",
    "    for i in range(S):\n",
    "\n",
    "        # First pass\n",
    "        if not result:\n",
    "            result.append(string1[i])\n",
    "            continue\n",
    "\n",
    "        if result[-1] == string1[i]:\n",
    "            c += 1\n",
    "        else:\n",
    "            result.append(str(c))\n",
    "            result.append(string1[i])\n",
    "            c = 1\n",
    "\n",
    "        # Last pass\n",
    "        if S-1 == i:\n",
    "            result.append(str(c))\n",
    "\n",
    "        # Short-circuit if compression ends up bigger\n",
    "        if S < len(result):\n",
    "            return string1\n",
    "\n",
    "    return ''.join(result)"
   ]
  },
  {
   "cell_type": "code",
   "execution_count": 42,
   "metadata": {},
   "outputs": [
    {
     "data": {
      "text/plain": [
       "'a2b1c5a3'"
      ]
     },
     "execution_count": 42,
     "metadata": {},
     "output_type": "execute_result"
    }
   ],
   "source": [
    "compress(string1)"
   ]
  },
  {
   "cell_type": "markdown",
   "metadata": {},
   "source": [
    " runtime O(n) peor escenario"
   ]
  },
  {
   "cell_type": "code",
   "execution_count": null,
   "metadata": {},
   "outputs": [],
   "source": []
  },
  {
   "cell_type": "markdown",
   "metadata": {},
   "source": [
    "# rotate a matrix in place"
   ]
  },
  {
   "cell_type": "code",
   "execution_count": 118,
   "metadata": {},
   "outputs": [],
   "source": [
    "import numpy as np"
   ]
  },
  {
   "cell_type": "code",
   "execution_count": 119,
   "metadata": {},
   "outputs": [],
   "source": [
    "A=[[1,2,3],[4,5,6],[7,8,9]]"
   ]
  },
  {
   "cell_type": "code",
   "execution_count": null,
   "metadata": {},
   "outputs": [],
   "source": []
  },
  {
   "cell_type": "code",
   "execution_count": 123,
   "metadata": {},
   "outputs": [],
   "source": [
    "def rotationInPlace(A):\n",
    "    #encontrar el largo de la matriz\n",
    "    n=len(A) \n",
    "    # recorrer por bloques la matriz\n",
    "    # dividir 4 partes a partir del centro \n",
    "    # encontrar el centro n/2 redondeo al entero proximo ceil\n",
    "    for layer in range(int(np.ceil(n/2))):\n",
    "        # ancho del bloque a modificar\n",
    "        first=layer \n",
    "        last=n-1-layer\n",
    "    \n",
    "        for i in range(first,last):\n",
    "            # para iniciar desde [0,0] quitamos un offset\n",
    "            offset=i-first\n",
    "            #variable temporal guardar el primer elemento del bloque\n",
    "            top=A[first][i]\n",
    "            # manda la izquierda del bloque al primer elemento\n",
    "            #left->top\n",
    "            A[first][i]=A[last-offset][first]\n",
    "        \n",
    "            #bottom->left\n",
    "            # manda el  elemento a la izquierda al fondo\n",
    "            A[last-offset][first]=A[last][last-offset]\n",
    "        \n",
    "            # right-> bottom\n",
    "            # manda elemento de la derecha a fondo\n",
    "            A[last][last-offset]=A[i][last]\n",
    "        \n",
    "            # top->right\n",
    "            # elemento top a la derecha\n",
    "            A[i][last]=top"
   ]
  },
  {
   "cell_type": "code",
   "execution_count": 124,
   "metadata": {},
   "outputs": [],
   "source": [
    "rotationInPlace(A)"
   ]
  },
  {
   "cell_type": "code",
   "execution_count": 125,
   "metadata": {},
   "outputs": [
    {
     "data": {
      "text/plain": [
       "[[9, 8, 7], [6, 5, 4], [3, 2, 1]]"
      ]
     },
     "execution_count": 125,
     "metadata": {},
     "output_type": "execute_result"
    }
   ],
   "source": [
    "A"
   ]
  },
  {
   "cell_type": "markdown",
   "metadata": {},
   "source": [
    "runtime O(n^2)"
   ]
  },
  {
   "cell_type": "markdown",
   "metadata": {},
   "source": [
    "# zero Matrix"
   ]
  },
  {
   "cell_type": "code",
   "execution_count": 177,
   "metadata": {},
   "outputs": [],
   "source": [
    "B=[[1,2,3],[4,5,0],[7,8,9]]"
   ]
  },
  {
   "cell_type": "code",
   "execution_count": 178,
   "metadata": {},
   "outputs": [
    {
     "data": {
      "text/plain": [
       "[[1, 2, 3], [4, 5, 0], [7, 8, 9]]"
      ]
     },
     "execution_count": 178,
     "metadata": {},
     "output_type": "execute_result"
    }
   ],
   "source": [
    "B"
   ]
  },
  {
   "cell_type": "code",
   "execution_count": 182,
   "metadata": {},
   "outputs": [],
   "source": [
    "def MatrixZero(B):\n",
    "    M,N=np.shape(B)\n",
    "    for i in range(M):\n",
    "        for j in range(N):\n",
    "            if B[i][j]==0:\n",
    "                c1=i\n",
    "                c2=j\n",
    "                break\n",
    "\n",
    "    for l in range(N):\n",
    "        B[c1][l]=0\n",
    "    for k in range(M):\n",
    "        B[k][c2]=0\n",
    "\n"
   ]
  },
  {
   "cell_type": "code",
   "execution_count": 183,
   "metadata": {},
   "outputs": [],
   "source": [
    "MatrixZero(B)"
   ]
  },
  {
   "cell_type": "code",
   "execution_count": 184,
   "metadata": {},
   "outputs": [
    {
     "data": {
      "text/plain": [
       "[[1, 2, 0], [0, 0, 0], [7, 8, 0]]"
      ]
     },
     "execution_count": 184,
     "metadata": {},
     "output_type": "execute_result"
    }
   ],
   "source": [
    "B"
   ]
  },
  {
   "cell_type": "code",
   "execution_count": 197,
   "metadata": {},
   "outputs": [],
   "source": [
    "B=[[0,2,3],[4,5,0],[7,8,9]]"
   ]
  },
  {
   "cell_type": "code",
   "execution_count": 198,
   "metadata": {},
   "outputs": [],
   "source": [
    "c1=[]\n",
    "c2=[]\n",
    "M,N=np.shape(B)\n",
    "for i in range(M):\n",
    "    for j in range(N):\n",
    "        if B[i][j]==0:\n",
    "            c1.append(i)\n",
    "            c2.append(j)\n",
    "                \n",
    "\n",
    "#for l in range(N):\n",
    "for row in c1:\n",
    "    for l in range(N):\n",
    "        B[row][l]=0\n",
    "for col in c2:\n",
    "    for k in range(M):\n",
    "        B[k][col]=0\n"
   ]
  },
  {
   "cell_type": "code",
   "execution_count": 199,
   "metadata": {},
   "outputs": [
    {
     "data": {
      "text/plain": [
       "[[0, 0, 0], [0, 0, 0], [0, 8, 0]]"
      ]
     },
     "execution_count": 199,
     "metadata": {},
     "output_type": "execute_result"
    }
   ],
   "source": [
    "B"
   ]
  },
  {
   "cell_type": "markdown",
   "metadata": {},
   "source": [
    "no estoy seguro creo que es O(n) pero podria ser O(n^2)"
   ]
  },
  {
   "cell_type": "code",
   "execution_count": null,
   "metadata": {},
   "outputs": [],
   "source": []
  },
  {
   "cell_type": "markdown",
   "metadata": {},
   "source": [
    "# String Rotation\n"
   ]
  },
  {
   "cell_type": "code",
   "execution_count": 228,
   "metadata": {},
   "outputs": [],
   "source": [
    "original='waterbottle'\n",
    "rotate='erbottlewat'"
   ]
  },
  {
   "cell_type": "code",
   "execution_count": 229,
   "metadata": {},
   "outputs": [],
   "source": [
    "x=original[:3]"
   ]
  },
  {
   "cell_type": "code",
   "execution_count": 230,
   "metadata": {},
   "outputs": [],
   "source": [
    "y=original[3:]\n"
   ]
  },
  {
   "cell_type": "code",
   "execution_count": 231,
   "metadata": {},
   "outputs": [],
   "source": [
    "def isSubstring(original,substring):\n",
    "    x=original[:3]\n",
    "    y=original[3:]\n",
    "    for i in range(len(y)):\n",
    "        if y[i]!=substring[i]:\n",
    "            return False\n",
    "    return True"
   ]
  },
  {
   "cell_type": "code",
   "execution_count": 232,
   "metadata": {},
   "outputs": [
    {
     "data": {
      "text/plain": [
       "True"
      ]
     },
     "execution_count": 232,
     "metadata": {},
     "output_type": "execute_result"
    }
   ],
   "source": [
    "isSubstring(original,rotate)\n",
    "    "
   ]
  },
  {
   "cell_type": "code",
   "execution_count": 233,
   "metadata": {},
   "outputs": [],
   "source": [
    "s1 = \"barfoo\"\n",
    "s2 = \"foobar\""
   ]
  },
  {
   "cell_type": "code",
   "execution_count": 234,
   "metadata": {},
   "outputs": [
    {
     "data": {
      "text/plain": [
       "True"
      ]
     },
     "execution_count": 234,
     "metadata": {},
     "output_type": "execute_result"
    }
   ],
   "source": [
    "isSubstring(s2,s1)\n"
   ]
  },
  {
   "cell_type": "markdown",
   "metadata": {},
   "source": [
    "run time O(n)"
   ]
  },
  {
   "cell_type": "markdown",
   "metadata": {},
   "source": [
    "## version estilo python"
   ]
  },
  {
   "cell_type": "code",
   "execution_count": 226,
   "metadata": {},
   "outputs": [],
   "source": [
    "def isSubstring2(s2,s1):\n",
    "    s1=s1+s1\n",
    "    return s2 in s1"
   ]
  },
  {
   "cell_type": "code",
   "execution_count": 235,
   "metadata": {},
   "outputs": [
    {
     "data": {
      "text/plain": [
       "True"
      ]
     },
     "execution_count": 235,
     "metadata": {},
     "output_type": "execute_result"
    }
   ],
   "source": [
    "isSubstring2(original,rotate)"
   ]
  },
  {
   "cell_type": "code",
   "execution_count": 236,
   "metadata": {},
   "outputs": [
    {
     "data": {
      "text/plain": [
       "True"
      ]
     },
     "execution_count": 236,
     "metadata": {},
     "output_type": "execute_result"
    }
   ],
   "source": [
    "isSubstring2(s2,s1)"
   ]
  },
  {
   "cell_type": "code",
   "execution_count": null,
   "metadata": {},
   "outputs": [],
   "source": []
  }
 ],
 "metadata": {
  "kernelspec": {
   "display_name": "Python 3",
   "language": "python",
   "name": "python3"
  },
  "language_info": {
   "codemirror_mode": {
    "name": "ipython",
    "version": 3
   },
   "file_extension": ".py",
   "mimetype": "text/x-python",
   "name": "python",
   "nbconvert_exporter": "python",
   "pygments_lexer": "ipython3",
   "version": "3.6.4rc1"
  }
 },
 "nbformat": 4,
 "nbformat_minor": 2
}
