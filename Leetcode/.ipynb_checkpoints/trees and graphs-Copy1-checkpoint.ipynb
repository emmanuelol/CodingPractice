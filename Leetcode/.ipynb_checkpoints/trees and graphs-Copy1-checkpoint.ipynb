{
 "cells": [
  {
   "cell_type": "code",
   "execution_count": 1,
   "metadata": {},
   "outputs": [],
   "source": [
    "class TreeNode(object):\n",
    "    def __init__(self,val=0,left=None,right=None):\n",
    "        self.val=val\n",
    "        self.left=left\n",
    "        self.right=right"
   ]
  },
  {
   "cell_type": "code",
   "execution_count": 2,
   "metadata": {},
   "outputs": [],
   "source": [
    "   ## delete nodes and return the forest\n",
    "    ## O(n) time and O(n) space\n",
    "def delNodes(root, to_delete):\n",
    "    queue=collections.deque([(root, False)])\n",
    "    result=[]\n",
    "    deletes=set(to_delete)\n",
    "    while queue:\n",
    "        node,has_parent=queue.popleft()\n",
    "        if not has_parent and node.val not in deletes:\n",
    "            result.append(node)\n",
    "        has_parent=not node.val in deletes\n",
    "            \n",
    "        if node.left:\n",
    "            queue.append((node.left,has_parent))\n",
    "            if node.left.val in deletes:\n",
    "                node.left=None\n",
    "        if node.right:\n",
    "            queue.append((node.right,has_parent))\n",
    "            if node.right.val in deletes:\n",
    "                node.right=None\n",
    "    return result\n",
    "        "
   ]
  },
  {
   "cell_type": "code",
   "execution_count": 3,
   "metadata": {},
   "outputs": [],
   "source": [
    "tree_array=[1,2,3,4,5,6,7]\n",
    "to_delete=[3,5]"
   ]
  },
  {
   "cell_type": "code",
   "execution_count": null,
   "metadata": {},
   "outputs": [],
   "source": []
  },
  {
   "cell_type": "code",
   "execution_count": 4,
   "metadata": {},
   "outputs": [],
   "source": [
    "class TreeNode:\n",
    "    def __init__(self, val=0, left=None, right=None):\n",
    "        self.val = val\n",
    "        self.left = left\n",
    "        self.right = right"
   ]
  },
  {
   "cell_type": "code",
   "execution_count": null,
   "metadata": {},
   "outputs": [],
   "source": []
  },
  {
   "cell_type": "code",
   "execution_count": 5,
   "metadata": {},
   "outputs": [],
   "source": [
    "node_tree1=TreeNode(7)\n",
    "node_tree2=TreeNode(15)\n",
    "node_tree3=TreeNode(9)\n",
    "node_tree4=TreeNode(20,node_tree2,node_tree1)\n",
    "node_root=TreeNode(3,node_tree3,node_tree4)"
   ]
  },
  {
   "cell_type": "code",
   "execution_count": 6,
   "metadata": {},
   "outputs": [],
   "source": [
    "def inOrder(root,nodos=[]):\n",
    "    if root is None:\n",
    "        return\n",
    "    if root and root.left:\n",
    "        inOrder(root.left,nodos)\n",
    "    nodos.append(root.val)\n",
    "    if root and root.right:\n",
    "        inOrder(root.right,nodos)\n",
    "    return nodos"
   ]
  },
  {
   "cell_type": "code",
   "execution_count": 7,
   "metadata": {},
   "outputs": [
    {
     "name": "stdout",
     "output_type": "stream",
     "text": [
      "[9, 3, 15, 20, 7]\n"
     ]
    }
   ],
   "source": [
    "print(inOrder(node_root))"
   ]
  },
  {
   "cell_type": "code",
   "execution_count": 8,
   "metadata": {},
   "outputs": [],
   "source": [
    "from collections import deque\n"
   ]
  },
  {
   "cell_type": "code",
   "execution_count": null,
   "metadata": {},
   "outputs": [],
   "source": []
  },
  {
   "cell_type": "code",
   "execution_count": 9,
   "metadata": {},
   "outputs": [],
   "source": [
    "def bfs(root):\n",
    "    if root is None:\n",
    "        return\n",
    "    levels=[]\n",
    "    queue=deque()\n",
    "    level=0\n",
    "    queue.append((root,level))\n",
    "    while len(queue)>0:\n",
    "        node,level=queue.popleft()\n",
    "        if len(levels)==level:\n",
    "            levels.append([])\n",
    "        levels[level].append(node.val)\n",
    "        if node.left:\n",
    "            queue.append((node.left,level+1))\n",
    "        if node.right:\n",
    "            queue.append((node.right,level+1))\n",
    "    return levels"
   ]
  },
  {
   "cell_type": "code",
   "execution_count": 10,
   "metadata": {},
   "outputs": [
    {
     "data": {
      "text/plain": [
       "[[3], [9, 20], [15, 7]]"
      ]
     },
     "execution_count": 10,
     "metadata": {},
     "output_type": "execute_result"
    }
   ],
   "source": [
    "bfs(node_root)"
   ]
  },
  {
   "cell_type": "code",
   "execution_count": 11,
   "metadata": {},
   "outputs": [],
   "source": [
    "node_mirror_1=TreeNode(3)\n",
    "node_mirror_2=TreeNode(4)\n",
    "node_mirror_3=TreeNode(4)\n",
    "node_mirror_4=TreeNode(3)\n",
    "node_mirror_5=TreeNode(2,node_mirror_1,node_mirror_2)\n",
    "node_mirror_6=TreeNode(2,node_mirror_3,node_mirror_4)\n",
    "node_head=TreeNode(1,node_mirror_5,node_mirror_6)"
   ]
  },
  {
   "cell_type": "code",
   "execution_count": 12,
   "metadata": {},
   "outputs": [],
   "source": [
    "node_non_mirror_1=TreeNode(3)\n",
    "node_non_mirror_2=TreeNode(3)\n",
    "node_non_mirror_3=TreeNode(2,None,node_non_mirror_1)\n",
    "node_non_mirror_4=TreeNode(2,None,node_non_mirror_2)\n",
    "node_non_head=TreeNode(1,node_non_mirror_3,node_non_mirror_4)"
   ]
  },
  {
   "cell_type": "code",
   "execution_count": 13,
   "metadata": {},
   "outputs": [
    {
     "name": "stdout",
     "output_type": "stream",
     "text": [
      "[2, 3, 1, 2, 3]\n"
     ]
    }
   ],
   "source": [
    "print(inOrder(node_non_head,[]))"
   ]
  },
  {
   "cell_type": "code",
   "execution_count": 14,
   "metadata": {},
   "outputs": [],
   "source": [
    "levels=bfs(node_head)"
   ]
  },
  {
   "cell_type": "code",
   "execution_count": 15,
   "metadata": {},
   "outputs": [],
   "source": [
    "levels=bfs(node_non_head)"
   ]
  },
  {
   "cell_type": "code",
   "execution_count": 16,
   "metadata": {},
   "outputs": [
    {
     "name": "stdout",
     "output_type": "stream",
     "text": [
      "[[1], [2, 2], [3, 3]]\n"
     ]
    }
   ],
   "source": [
    "print(levels)"
   ]
  },
  {
   "cell_type": "code",
   "execution_count": 17,
   "metadata": {},
   "outputs": [
    {
     "name": "stdout",
     "output_type": "stream",
     "text": [
      "hello\n"
     ]
    }
   ],
   "source": [
    "print('hello')"
   ]
  },
  {
   "cell_type": "code",
   "execution_count": 18,
   "metadata": {},
   "outputs": [],
   "source": [
    "def dfs(root):\n",
    "    depths=[]\n",
    "    depth=1\n",
    "    nodes=[]\n",
    "    nodes.append((root,depth))\n",
    "    while len(nodes):\n",
    "        node,depth=nodes.pop()\n",
    "        if not(node.left) and not(node.right):\n",
    "            if depth not in depths:\n",
    "                depths.append(depth)\n",
    "     \n",
    "        else:\n",
    "            if node.left:\n",
    "                nodes.append((node.left,depth+1))\n",
    "            if node.right:\n",
    "                nodes.append((node.right,depth+1))\n",
    "    return max(depths)\n",
    "        "
   ]
  },
  {
   "cell_type": "code",
   "execution_count": 19,
   "metadata": {},
   "outputs": [
    {
     "data": {
      "text/plain": [
       "3"
      ]
     },
     "execution_count": 19,
     "metadata": {},
     "output_type": "execute_result"
    }
   ],
   "source": [
    "dfs(node_root)"
   ]
  },
  {
   "cell_type": "code",
   "execution_count": 20,
   "metadata": {},
   "outputs": [],
   "source": [
    "def symmetricTree(root):\n",
    "    levels=bfs(root)\n",
    "    for level in levels:\n",
    "        n=len(level)//2\n",
    "        if n:\n",
    "            if level[:n]!=level[n:][::-1]:\n",
    "                return False\n",
    "    return True"
   ]
  },
  {
   "cell_type": "code",
   "execution_count": 21,
   "metadata": {},
   "outputs": [],
   "source": [
    "def isSymmetric(root):\n",
    "    if not root:\n",
    "        return True\n",
    "        \n",
    "    depth_vals =[]        \n",
    "    queue = deque()\n",
    "    curr_depth = 0\n",
    "    queue.append((root, 0))\n",
    "    while len(queue)>0:\n",
    "        node, depth=queue.popleft()\n",
    "        if len(depth_vals)==depth:\n",
    "            depth_vals.append([])\n",
    "        if not node:\n",
    "            depth_vals[depth].append(None)\n",
    "        if node:\n",
    "            depth_vals[depth].append(node.val)\n",
    "            queue.append((node.left, depth+1))\n",
    "            queue.append((node.right, depth+1))\n",
    "        if depth > curr_depth:\n",
    "            if depth_vals[curr_depth] != depth_vals[curr_depth][::-1]:\n",
    "                return False\n",
    "            else:\n",
    "                curr_depth = depth\n",
    "    return True"
   ]
  },
  {
   "cell_type": "code",
   "execution_count": 22,
   "metadata": {},
   "outputs": [],
   "source": [
    "levels=isSymmetric(node_non_head)"
   ]
  },
  {
   "cell_type": "code",
   "execution_count": 23,
   "metadata": {},
   "outputs": [
    {
     "data": {
      "text/plain": [
       "False"
      ]
     },
     "execution_count": 23,
     "metadata": {},
     "output_type": "execute_result"
    }
   ],
   "source": [
    "levels"
   ]
  },
  {
   "cell_type": "code",
   "execution_count": 24,
   "metadata": {},
   "outputs": [],
   "source": [
    "node_path_1=TreeNode(7)\n",
    "node_path_2=TreeNode(2)\n",
    "node_path_3=TreeNode(1)\n",
    "node_path_4=TreeNode(11,node_path_1,node_path_2)\n",
    "node_path_5=TreeNode(13)\n",
    "node_path_6=TreeNode(4,None,node_path_3)\n",
    "node_path_7=TreeNode(4,node_path_4,None)\n",
    "node_path_8=TreeNode(8,node_path_5,node_path_6)\n",
    "node_path_root=TreeNode(5,node_path_7,node_path_8)"
   ]
  },
  {
   "cell_type": "code",
   "execution_count": 25,
   "metadata": {},
   "outputs": [],
   "source": [
    "## path with sum\n",
    "def hasPathSum(root, summ):\n",
    "    if root is None:\n",
    "        return False\n",
    "    stack=[]\n",
    "    stack.append((root,summ-root.val))\n",
    "    while len(stack):\n",
    "        node,current_sum=stack.pop()\n",
    "        if not node.left and not node.right and current_sum==0:\n",
    "            return True\n",
    "        if node.left:\n",
    "            stack.append((node.left,current_sum-node.left.val))\n",
    "        if node.right:\n",
    "            stack.append((node.right,current_sum-node.right.val))\n",
    "    return False"
   ]
  },
  {
   "cell_type": "code",
   "execution_count": 26,
   "metadata": {},
   "outputs": [
    {
     "data": {
      "text/plain": [
       "True"
      ]
     },
     "execution_count": 26,
     "metadata": {},
     "output_type": "execute_result"
    }
   ],
   "source": [
    "hasPathSum(node_path_root,22)"
   ]
  },
  {
   "cell_type": "code",
   "execution_count": 27,
   "metadata": {},
   "outputs": [],
   "source": [
    "node_unival_1=TreeNode(5)\n",
    "node_unival_2=TreeNode(5)\n",
    "node_unival_3=TreeNode(5)\n",
    "node_unival_4=TreeNode(1,node_unival_1,node_unival_2)\n",
    "node_unival_5=TreeNode(5,None,node_unival_3)\n",
    "node_unival_root=(5,node_unival_4,node_unival_5)"
   ]
  },
  {
   "cell_type": "code",
   "execution_count": 28,
   "metadata": {},
   "outputs": [],
   "source": [
    "class Solution:\n",
    "    def countUnivalSubtrees(self, root: TreeNode) -> int:\n",
    "        self.count=0\n",
    "        self.is_valid_subtree(root,0)\n",
    "        return self.count\n",
    "    \n",
    "    def is_valid_subtree(self,node,val):\n",
    "        if node is None:\n",
    "            return True\n",
    "        if not all([self.is_valid_subtree(node.left,node.val),self.is_valid_subtree(node.right,node.val)]):\n",
    "            return False\n",
    "        \n",
    "        self.count+=1\n",
    "        \n",
    "        return node.val==val\n",
    "        \n",
    "        "
   ]
  },
  {
   "cell_type": "code",
   "execution_count": 29,
   "metadata": {},
   "outputs": [],
   "source": [
    "resultado=Solution()"
   ]
  },
  {
   "cell_type": "code",
   "execution_count": 30,
   "metadata": {},
   "outputs": [],
   "source": [
    "# build tree from postorder and inorder\n",
    "def buildTree(inorder, postorder):\n",
    "        index_map = {val:index for index, val in enumerate(inorder)} \n",
    "\n",
    "        def helper(in_left, in_right):\n",
    "            if in_left > in_right:\n",
    "                return None\n",
    "            \n",
    "            val = postorder.pop()\n",
    "            root = TreeNode(val)\n",
    "            index = index_map[val]\n",
    "            root.right = helper(index + 1, in_right)\n",
    "            root.left = helper(in_left, index - 1)\n",
    "            return root\n",
    "        \n",
    "        return helper(0, len(inorder) - 1)"
   ]
  },
  {
   "cell_type": "code",
   "execution_count": 31,
   "metadata": {},
   "outputs": [],
   "source": [
    "inorder = [9,3,15,20,7]\n",
    "postorder = [9,15,7,20,3]"
   ]
  },
  {
   "cell_type": "code",
   "execution_count": 32,
   "metadata": {},
   "outputs": [],
   "source": [
    "resul_tree=buildTree(inorder,postorder)"
   ]
  },
  {
   "cell_type": "code",
   "execution_count": 33,
   "metadata": {},
   "outputs": [
    {
     "data": {
      "text/plain": [
       "[[3], [9, 20], [15, 7]]"
      ]
     },
     "execution_count": 33,
     "metadata": {},
     "output_type": "execute_result"
    }
   ],
   "source": [
    "bfs(resul_tree)"
   ]
  },
  {
   "cell_type": "code",
   "execution_count": 34,
   "metadata": {},
   "outputs": [],
   "source": [
    "### p and q are node from a tree this for a BST\n",
    "def lowestCommonAncestor(self, root , p, q):\n",
    "    def lca(root,p,q):\n",
    "        if root is None:\n",
    "            return None\n",
    "        if(root.val > p.val and root.val > q.val): \n",
    "            return lca(root.left, p, q) \n",
    "        if(root.val < p.val and root.val < q.val): \n",
    "            return lca(root.right, p, q) \n",
    "        return root \n",
    "    \n",
    "    return lca(root,p,q)"
   ]
  },
  {
   "cell_type": "code",
   "execution_count": 35,
   "metadata": {},
   "outputs": [],
   "source": [
    "def lowestCommonAncestor(root, p, q) :\n",
    "    if not root or p == root or q == root:\n",
    "        return root\n",
    "    left = self.lowestCommonAncestor(root.left, p, q)\n",
    "    right = self.lowestCommonAncestor(root.right, p, q)\n",
    "    if left and right: \n",
    "        return root\n",
    "    return left or right"
   ]
  },
  {
   "cell_type": "code",
   "execution_count": 36,
   "metadata": {},
   "outputs": [],
   "source": [
    "class Codec:\n",
    "\n",
    "    def serialize(self, root):\n",
    "        \"\"\"Encodes a tree to a single string.\n",
    "        \n",
    "        :type root: TreeNode\n",
    "        :rtype: str\n",
    "        \"\"\"\n",
    "        def encode(node):\n",
    "            if not node:\n",
    "                return 'None'\n",
    "            res = ''\n",
    "            res += str(node.val)\n",
    "            res += ',' + encode(node.left)\n",
    "            res += ',' + encode(node.right)\n",
    "            return res\n",
    "        \n",
    "        return encode(root)\n",
    "\n",
    "    def deserialize(self, data):\n",
    "        \"\"\"Decodes your encoded data to tree.\n",
    "        \n",
    "        :type data: str\n",
    "        :rtype: TreeNode\n",
    "        \"\"\"\n",
    "        def decode(nodes):\n",
    "\t\t\t# we are done\n",
    "            if not nodes:\n",
    "                return None\n",
    "\t\t\t\t\n",
    "            popped = nodes.pop(0)\n",
    "            if popped is None:\n",
    "                return None\n",
    "            node = TreeNode(popped)\n",
    "\t\t\t\n",
    "\t\t\t# nodes[0] should be the left child\n",
    "            node.left = decode(nodes)\n",
    "\t\t\t\n",
    "\t\t\t# by the time node.left subtree is constructed by the\n",
    "\t\t\t# first decode, nodes[0] should be the right child\n",
    "            node.right = decode(nodes)\n",
    "\t\t\t\n",
    "            return node\n",
    "        \n",
    "\t\t# transform the string into an array\n",
    "        f = lambda x: int(x) if x != 'None' else None \n",
    "        nodes = list(map(f, data.split(',')))\n",
    "\t\t\n",
    "        return decode(nodes)"
   ]
  },
  {
   "cell_type": "code",
   "execution_count": null,
   "metadata": {},
   "outputs": [],
   "source": []
  },
  {
   "cell_type": "code",
   "execution_count": 37,
   "metadata": {},
   "outputs": [],
   "source": [
    "## no funciona\n",
    "def isBalanced(root):\n",
    "    if root is None:\n",
    "        return True\n",
    "    depths=[]\n",
    "    nodes=[]\n",
    "    nodes.append((root,0))\n",
    "    while len(nodes):\n",
    "        node,depth=nodes.pop()\n",
    "        if (not node.left) and (not node.right):\n",
    "            if depth not in depths:\n",
    "                depths.append(depth)\n",
    "                if len(depths)>2 or len(depths)==2 and abs(depths[0]-depths[1])>1:\n",
    "                    return False\n",
    "        else:\n",
    "            if node.left:\n",
    "                nodes.append((node.left,depth+1))\n",
    "            if node.right:\n",
    "                nodes.append((node.right,depth+1))\n",
    "    return True"
   ]
  },
  {
   "cell_type": "code",
   "execution_count": 38,
   "metadata": {},
   "outputs": [],
   "source": [
    "node_balance_1=TreeNode(7)\n",
    "node_balance_2=TreeNode(15)\n",
    "node_balance_3=TreeNode(20,node_balance_2,node_balance_1)\n",
    "node_balance_4=TreeNode(9)\n",
    "node_balance_5=TreeNode(3,node_balance_4,node_balance_4)"
   ]
  },
  {
   "cell_type": "code",
   "execution_count": 39,
   "metadata": {},
   "outputs": [],
   "source": [
    "node_non_balance_1=TreeNode(3)\n",
    "node_non_balance_3=TreeNode(2,None,node_non_balance_1)\n",
    "node_non_balance_5=TreeNode(1,None,node_non_balance_3)"
   ]
  },
  {
   "cell_type": "code",
   "execution_count": 40,
   "metadata": {},
   "outputs": [
    {
     "data": {
      "text/plain": [
       "True"
      ]
     },
     "execution_count": 40,
     "metadata": {},
     "output_type": "execute_result"
    }
   ],
   "source": [
    "isBalanced(node_balance_5)"
   ]
  },
  {
   "cell_type": "code",
   "execution_count": 41,
   "metadata": {},
   "outputs": [
    {
     "data": {
      "text/plain": [
       "True"
      ]
     },
     "execution_count": 41,
     "metadata": {},
     "output_type": "execute_result"
    }
   ],
   "source": [
    "isBalanced(node_non_balance_5)"
   ]
  },
  {
   "cell_type": "code",
   "execution_count": 42,
   "metadata": {},
   "outputs": [],
   "source": [
    "## no funciona para todos los casos porque estoy acumulando la altura de los lados izquierdo y derecho en general y no con respecto a la raiz\n",
    "def isBalanced_v2(root):\n",
    "    if root is None:\n",
    "        return True\n",
    "    depths=[]\n",
    "    nodes=[]\n",
    "    nodes.append((root,0,0))\n",
    "    left_tmp=0\n",
    "    right_tmp=0\n",
    "    while len(nodes):\n",
    "        node,left_depth,right_depth=nodes.pop()\n",
    "        left_tmp=max(left_depth,left_tmp)\n",
    "        right_tmp=max(right_depth,right_tmp)\n",
    "        if (not node.left) and (not node.right):\n",
    "            print(left_depth)\n",
    "            print(right_depth)\n",
    "            if abs(left_tmp-right_tmp)>1:\n",
    "                return False\n",
    "        else:\n",
    "            if node.left:\n",
    "                nodes.append((node.left,left_tmp+1,right_tmp))\n",
    "            if node.right:\n",
    "                nodes.append((node.right,left_tmp,right_tmp+1))\n",
    "    return True"
   ]
  },
  {
   "cell_type": "code",
   "execution_count": 43,
   "metadata": {},
   "outputs": [
    {
     "name": "stdout",
     "output_type": "stream",
     "text": [
      "0\n",
      "1\n",
      "1\n",
      "0\n"
     ]
    },
    {
     "data": {
      "text/plain": [
       "True"
      ]
     },
     "execution_count": 43,
     "metadata": {},
     "output_type": "execute_result"
    }
   ],
   "source": [
    "isBalanced_v2(node_balance_5)"
   ]
  },
  {
   "cell_type": "code",
   "execution_count": 44,
   "metadata": {},
   "outputs": [
    {
     "name": "stdout",
     "output_type": "stream",
     "text": [
      "0\n",
      "2\n"
     ]
    },
    {
     "data": {
      "text/plain": [
       "False"
      ]
     },
     "execution_count": 44,
     "metadata": {},
     "output_type": "execute_result"
    }
   ],
   "source": [
    "isBalanced_v2(node_non_balance_5)"
   ]
  },
  {
   "cell_type": "code",
   "execution_count": 47,
   "metadata": {},
   "outputs": [],
   "source": [
    "node_let_1=TreeNode(4)\n",
    "node_let_2=TreeNode(4)\n",
    "node_let_3=TreeNode(3)\n",
    "node_let_4=TreeNode(3,node_let_2,node_let_1)\n",
    "node_let_5=TreeNode(2)\n",
    "node_let_6=TreeNode(2,node_let_4,node_let_3)\n",
    "node_let_7=TreeNode(1,node_let_6,node_let_5)\n",
    "\n",
    "\n",
    "\n",
    "\n",
    "\n"
   ]
  },
  {
   "cell_type": "code",
   "execution_count": 49,
   "metadata": {},
   "outputs": [
    {
     "data": {
      "text/plain": [
       "[4, 3, 4, 2, 3, 1, 2]"
      ]
     },
     "execution_count": 49,
     "metadata": {},
     "output_type": "execute_result"
    }
   ],
   "source": [
    "inOrder(node_let_7,[])"
   ]
  },
  {
   "cell_type": "code",
   "execution_count": 50,
   "metadata": {},
   "outputs": [
    {
     "name": "stdout",
     "output_type": "stream",
     "text": [
      "0\n",
      "1\n",
      "1\n",
      "2\n",
      "2\n",
      "3\n",
      "3\n",
      "2\n"
     ]
    },
    {
     "data": {
      "text/plain": [
       "True"
      ]
     },
     "execution_count": 50,
     "metadata": {},
     "output_type": "execute_result"
    }
   ],
   "source": [
    "isBalanced_v2(node_let_7)"
   ]
  },
  {
   "cell_type": "code",
   "execution_count": 107,
   "metadata": {},
   "outputs": [],
   "source": [
    "def isBalanced_v3(root):\n",
    "    if root is None:\n",
    "        return True\n",
    "    _,balanced=helper_bst(root,True)\n",
    "    return balanced\n",
    "def helper_bst(root,balanced):\n",
    "    if root is None:\n",
    "        return 0,balanced\n",
    "    \n",
    "    left_height,y=helper_bst(root.left,balanced)\n",
    "    right_height,x=helper_bst(root.right,balanced)\n",
    "    \n",
    "    if abs(left_height-right_height)>=2:\n",
    "        balanced=False\n",
    "    return (max(left_height,right_height)+1),balanced"
   ]
  },
  {
   "cell_type": "code",
   "execution_count": 108,
   "metadata": {},
   "outputs": [
    {
     "data": {
      "text/plain": [
       "False"
      ]
     },
     "execution_count": 108,
     "metadata": {},
     "output_type": "execute_result"
    }
   ],
   "source": [
    "isBalanced_v3(node_let_7)"
   ]
  },
  {
   "cell_type": "code",
   "execution_count": null,
   "metadata": {},
   "outputs": [],
   "source": [
    "class Solution:\n",
    "\n",
    "    def __init__(self):\n",
    "        self.Balanced = True\n",
    "        \n",
    "    def isBalanced(self, root: TreeNode) -> bool:\n",
    "        if not root:\n",
    "            return self.Balanced\n",
    "        self.maxDepth(root)\n",
    "        return self.Balanced\n",
    "    \n",
    "    def maxDepth(self, root):\n",
    "        if not root:\n",
    "            return 0\n",
    "        else:\n",
    "            ldepth = self.maxDepth(root.left)\n",
    "            rdepth = self.maxDepth(root.right)\n",
    "            if abs(ldepth - rdepth) >= 2:\n",
    "                self.Balanced = False\n",
    "            return max(ldepth, rdepth) + 1"
   ]
  }
 ],
 "metadata": {
  "kernelspec": {
   "display_name": "Python 3",
   "language": "python",
   "name": "python3"
  },
  "language_info": {
   "codemirror_mode": {
    "name": "ipython",
    "version": 3
   },
   "file_extension": ".py",
   "mimetype": "text/x-python",
   "name": "python",
   "nbconvert_exporter": "python",
   "pygments_lexer": "ipython3",
   "version": "3.6.8"
  }
 },
 "nbformat": 4,
 "nbformat_minor": 4
}
