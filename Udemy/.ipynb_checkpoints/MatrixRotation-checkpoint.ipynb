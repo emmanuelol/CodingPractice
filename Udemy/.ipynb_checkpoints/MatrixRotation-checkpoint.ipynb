{
 "cells": [
  {
   "cell_type": "markdown",
   "metadata": {},
   "source": [
    "# rotacion out of place"
   ]
  },
  {
   "cell_type": "code",
   "execution_count": 1,
   "metadata": {},
   "outputs": [],
   "source": [
    "A=[[1,2,3],[4,5,6],[7,8,9]]"
   ]
  },
  {
   "cell_type": "code",
   "execution_count": 2,
   "metadata": {},
   "outputs": [
    {
     "data": {
      "text/plain": [
       "9"
      ]
     },
     "execution_count": 2,
     "metadata": {},
     "output_type": "execute_result"
    }
   ],
   "source": [
    "A[2][2]"
   ]
  },
  {
   "cell_type": "code",
   "execution_count": 3,
   "metadata": {},
   "outputs": [],
   "source": [
    "R=[[7,4,1],[8,5,2],[9,6,3]]"
   ]
  },
  {
   "cell_type": "code",
   "execution_count": 4,
   "metadata": {},
   "outputs": [],
   "source": [
    "import numpy as np"
   ]
  },
  {
   "cell_type": "code",
   "execution_count": 5,
   "metadata": {},
   "outputs": [],
   "source": [
    "n=np.shape(A)[0]"
   ]
  },
  {
   "cell_type": "code",
   "execution_count": 6,
   "metadata": {},
   "outputs": [],
   "source": [
    "def rotate_out_place(array,n):\n",
    "    rotate=np.zeros((n,n))\n",
    "    for i in range(n):\n",
    "        for j in range(n):\n",
    "            i_rotate=j\n",
    "            j_rotate=(n-i)-1\n",
    "            print(\"sin rotar\",i,\",\",j)\n",
    "            print(\"rotar\",i_rotate,\",\",j_rotate)\n",
    "            rotate[i_rotate][j_rotate]=array[i][j]\n",
    "    return rotate\n",
    "        "
   ]
  },
  {
   "cell_type": "code",
   "execution_count": 7,
   "metadata": {},
   "outputs": [
    {
     "name": "stdout",
     "output_type": "stream",
     "text": [
      "sin rotar 0 , 0\n",
      "rotar 0 , 2\n",
      "sin rotar 0 , 1\n",
      "rotar 1 , 2\n",
      "sin rotar 0 , 2\n",
      "rotar 2 , 2\n",
      "sin rotar 1 , 0\n",
      "rotar 0 , 1\n",
      "sin rotar 1 , 1\n",
      "rotar 1 , 1\n",
      "sin rotar 1 , 2\n",
      "rotar 2 , 1\n",
      "sin rotar 2 , 0\n",
      "rotar 0 , 0\n",
      "sin rotar 2 , 1\n",
      "rotar 1 , 0\n",
      "sin rotar 2 , 2\n",
      "rotar 2 , 0\n"
     ]
    },
    {
     "data": {
      "text/plain": [
       "array([[7., 4., 1.],\n",
       "       [8., 5., 2.],\n",
       "       [9., 6., 3.]])"
      ]
     },
     "execution_count": 7,
     "metadata": {},
     "output_type": "execute_result"
    }
   ],
   "source": [
    "rotate_out_place(A,n)"
   ]
  },
  {
   "cell_type": "code",
   "execution_count": 12,
   "metadata": {},
   "outputs": [],
   "source": [
    "A[2][2]\n"
   ]
  },
  {
   "cell_type": "code",
   "execution_count": 75,
   "metadata": {},
   "outputs": [],
   "source": [
    "import math"
   ]
  },
  {
   "cell_type": "code",
   "execution_count": 110,
   "metadata": {},
   "outputs": [],
   "source": [
    "def rotate_sub(i, j, n):\n",
    "    return j, n - 1 - i"
   ]
  },
  {
   "cell_type": "markdown",
   "metadata": {},
   "source": [
    "# in place\n"
   ]
  },
  {
   "cell_type": "code",
   "execution_count": 125,
   "metadata": {},
   "outputs": [],
   "source": [
    "def rotate_in_place(array,n):\n",
    "    for i in range(int(np.ceil(n/2))):\n",
    "        for j in range(int(np.floor(n/2))):\n",
    "   \n",
    "            tmp=[-1,-1,-1,-1]\n",
    "            (current_i,current_j)=(i,j)\n",
    "            for k in range(len(tmp)):\n",
    "                tmp[k]=array[current_i][current_j]\n",
    "                (current_i,current_j)=rotate_sub(current_i,current_j,n)\n",
    "                \n",
    "            for k in range(len(tmp)):\n",
    "                array[current_i][current_j]=tmp[(k-1)%4]\n",
    "                current_i,current_j=rotate_sub(current_i,current_j,n)\n",
    "                \n",
    "    return array"
   ]
  },
  {
   "cell_type": "code",
   "execution_count": 126,
   "metadata": {},
   "outputs": [],
   "source": [
    "C=[[1,2,3],[4,5,6],[7,8,9]]"
   ]
  },
  {
   "cell_type": "code",
   "execution_count": 127,
   "metadata": {},
   "outputs": [],
   "source": [
    "n=np.shape(C)[0]"
   ]
  },
  {
   "cell_type": "code",
   "execution_count": 128,
   "metadata": {},
   "outputs": [
    {
     "data": {
      "text/plain": [
       "[[7, 4, 1], [8, 5, 2], [9, 6, 3]]"
      ]
     },
     "execution_count": 128,
     "metadata": {},
     "output_type": "execute_result"
    }
   ],
   "source": [
    "rotate_in_place(C,n)"
   ]
  },
  {
   "cell_type": "code",
   "execution_count": null,
   "metadata": {},
   "outputs": [],
   "source": []
  }
 ],
 "metadata": {
  "kernelspec": {
   "display_name": "Python 3",
   "language": "python",
   "name": "python3"
  },
  "language_info": {
   "codemirror_mode": {
    "name": "ipython",
    "version": 3
   },
   "file_extension": ".py",
   "mimetype": "text/x-python",
   "name": "python",
   "nbconvert_exporter": "python",
   "pygments_lexer": "ipython3",
   "version": "3.6.4rc1"
  }
 },
 "nbformat": 4,
 "nbformat_minor": 2
}
