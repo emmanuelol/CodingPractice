{
 "cells": [
  {
   "cell_type": "code",
   "execution_count": 6,
   "metadata": {},
   "outputs": [],
   "source": [
    "import math\n",
    "A=4\n",
    "B=17\n"
   ]
  },
  {
   "cell_type": "code",
   "execution_count": 9,
   "metadata": {},
   "outputs": [
    {
     "name": "stdout",
     "output_type": "stream",
     "text": [
      "4\n",
      "2.0\n",
      "resultado 4\n",
      "5\n",
      "2.23606797749979\n",
      "6\n",
      "2.449489742783178\n",
      "7\n",
      "2.6457513110645907\n",
      "8\n",
      "2.8284271247461903\n",
      "9\n",
      "3.0\n",
      "resultado 9\n",
      "10\n",
      "3.1622776601683795\n",
      "11\n",
      "3.3166247903554\n",
      "12\n",
      "3.4641016151377544\n",
      "13\n",
      "3.605551275463989\n",
      "14\n",
      "3.7416573867739413\n",
      "15\n",
      "3.872983346207417\n",
      "16\n",
      "4.0\n",
      "resultado 16\n",
      "17\n",
      "4.123105625617661\n"
     ]
    }
   ],
   "source": [
    "for i in range(4,18):\n",
    "    print(i)\n",
    "    print(math.sqrt(i))\n",
    "    if math.sqrt(i).is_integer():\n",
    "        print('resultado',i)"
   ]
  },
  {
   "cell_type": "code",
   "execution_count": 10,
   "metadata": {},
   "outputs": [],
   "source": [
    "# problema 2"
   ]
  },
  {
   "cell_type": "code",
   "execution_count": 11,
   "metadata": {},
   "outputs": [],
   "source": [
    "A=[1,0,1]"
   ]
  },
  {
   "cell_type": "code",
   "execution_count": 12,
   "metadata": {},
   "outputs": [
    {
     "data": {
      "text/plain": [
       "[1, 0, 1]"
      ]
     },
     "execution_count": 12,
     "metadata": {},
     "output_type": "execute_result"
    }
   ],
   "source": [
    "A or 1"
   ]
  },
  {
   "cell_type": "code",
   "execution_count": 13,
   "metadata": {},
   "outputs": [
    {
     "data": {
      "text/plain": [
       "2"
      ]
     },
     "execution_count": 13,
     "metadata": {},
     "output_type": "execute_result"
    }
   ],
   "source": [
    "A[-1]+1"
   ]
  },
  {
   "cell_type": "code",
   "execution_count": 19,
   "metadata": {},
   "outputs": [
    {
     "data": {
      "text/plain": [
       "1"
      ]
     },
     "execution_count": 19,
     "metadata": {},
     "output_type": "execute_result"
    }
   ],
   "source": [
    "int(2/2)"
   ]
  },
  {
   "cell_type": "code",
   "execution_count": 22,
   "metadata": {},
   "outputs": [
    {
     "data": {
      "text/plain": [
       "5"
      ]
     },
     "execution_count": 22,
     "metadata": {},
     "output_type": "execute_result"
    }
   ],
   "source": [
    "int('101', 2)"
   ]
  },
  {
   "cell_type": "code",
   "execution_count": 26,
   "metadata": {},
   "outputs": [],
   "source": [
    "re=bin(6)"
   ]
  },
  {
   "cell_type": "code",
   "execution_count": 36,
   "metadata": {},
   "outputs": [],
   "source": [
    "str1 = ''.join(str(e) for e in A)    "
   ]
  },
  {
   "cell_type": "code",
   "execution_count": 55,
   "metadata": {},
   "outputs": [],
   "source": [
    "numero=int(str1,2)"
   ]
  },
  {
   "cell_type": "code",
   "execution_count": 45,
   "metadata": {},
   "outputs": [],
   "source": [
    "numero+=1"
   ]
  },
  {
   "cell_type": "code",
   "execution_count": 46,
   "metadata": {},
   "outputs": [
    {
     "data": {
      "text/plain": [
       "6"
      ]
     },
     "execution_count": 46,
     "metadata": {},
     "output_type": "execute_result"
    }
   ],
   "source": [
    "numero\n"
   ]
  },
  {
   "cell_type": "code",
   "execution_count": 47,
   "metadata": {},
   "outputs": [],
   "source": [
    "numero=bin(numero)"
   ]
  },
  {
   "cell_type": "code",
   "execution_count": 49,
   "metadata": {},
   "outputs": [
    {
     "data": {
      "text/plain": [
       "'110'"
      ]
     },
     "execution_count": 49,
     "metadata": {},
     "output_type": "execute_result"
    }
   ],
   "source": [
    "numero[2:]"
   ]
  },
  {
   "cell_type": "code",
   "execution_count": 52,
   "metadata": {},
   "outputs": [],
   "source": [
    "\n",
    "resultado=[]\n",
    "for i in numero[2:]:\n",
    "    i=int(i)\n",
    "    resultado.append(i)"
   ]
  },
  {
   "cell_type": "code",
   "execution_count": 53,
   "metadata": {},
   "outputs": [
    {
     "data": {
      "text/plain": [
       "[1, 1, 0]"
      ]
     },
     "execution_count": 53,
     "metadata": {},
     "output_type": "execute_result"
    }
   ],
   "source": [
    "resultado"
   ]
  },
  {
   "cell_type": "code",
   "execution_count": 56,
   "metadata": {},
   "outputs": [],
   "source": [
    "def negabase(number, base):\n",
    "    \"\"\" Calculates the decimal value of a number\n",
    "        in a given negative base \"\"\"\n",
    "    hbase = 1\n",
    "    sign = 1\n",
    "    result = 0\n",
    "    while number>0:\n",
    "        digit = number % 10\n",
    "        result += sign*hbase*digit\n",
    "        number = int(number / 10)\n",
    "        sign = -1*sign\n",
    "        hbase *= base\n",
    "    return result"
   ]
  },
  {
   "cell_type": "code",
   "execution_count": 205,
   "metadata": {},
   "outputs": [],
   "source": [
    "B=[0,0,1]"
   ]
  },
  {
   "cell_type": "code",
   "execution_count": 206,
   "metadata": {},
   "outputs": [
    {
     "data": {
      "text/plain": [
       "-3"
      ]
     },
     "execution_count": 206,
     "metadata": {},
     "output_type": "execute_result"
    }
   ],
   "source": [
    "sum(B[i]*(-2)^i for i in range(len(B)))"
   ]
  },
  {
   "cell_type": "code",
   "execution_count": 198,
   "metadata": {},
   "outputs": [
    {
     "data": {
      "text/plain": [
       "'-0b111'"
      ]
     },
     "execution_count": 198,
     "metadata": {},
     "output_type": "execute_result"
    }
   ],
   "source": [
    "bin(-7)"
   ]
  },
  {
   "cell_type": "code",
   "execution_count": 208,
   "metadata": {},
   "outputs": [],
   "source": [
    "import math\n",
    "\n",
    "def number_to_digits( number, radix ):\n",
    "  #'Converts a number into a vector of digits in given radix'\n",
    "    digits = [0]*int(math.ceil(math.log(number,radix)))\n",
    "    for ii in range(len(digits)):\n",
    "        (number,digit) = divmod(number,radix)\n",
    "        digits[ii] = digit\n",
    "    return digits\n",
    "\n",
    "def digits_to_number( digits, radix ):\n",
    "    #'Converts a vector of non-negative digits in given radix into a number'\n",
    "    number = 0;\n",
    "    for ii in range(len(digits)-1,-1,-1):\n",
    "        number *= radix\n",
    "        number += digits[ii]\n",
    "    return number"
   ]
  },
  {
   "cell_type": "code",
   "execution_count": 212,
   "metadata": {},
   "outputs": [
    {
     "data": {
      "text/plain": [
       "[0, 1, 1]"
      ]
     },
     "execution_count": 212,
     "metadata": {},
     "output_type": "execute_result"
    }
   ],
   "source": [
    "number_to_digits(6,2)"
   ]
  },
  {
   "cell_type": "code",
   "execution_count": null,
   "metadata": {},
   "outputs": [],
   "source": [
    "string toNegativeBase(int n, int negBase)\n",
    "{\n",
    "    //  If n is zero then in any base it will be 0 only\n",
    "    if (n == 0)\n",
    "        return \"0\";\n",
    " \n",
    "    string converted = \"\";\n",
    "    while (n != 0)\n",
    "    {\n",
    "        // Get remainder by negative base, it can be\n",
    "        // negative also\n",
    "        int remainder = n % negBase;\n",
    "        n /= negBase;\n",
    " \n",
    "        // if remainder is negative, add abs(base) to\n",
    "        // it and add 1 to n\n",
    "        if (remainder < 0)\n",
    "        {\n",
    "            remainder += (-negBase);\n",
    "            n += 1;\n",
    "        }\n",
    " \n",
    "        // convert remainder to string add into the result\n",
    "        converted = toString(remainder) + converted;\n",
    "    }\n",
    " \n",
    "    return converted;\n",
    "}"
   ]
  },
  {
   "cell_type": "code",
   "execution_count": 217,
   "metadata": {},
   "outputs": [],
   "source": [
    "def toNegativeBase(n,negBase):\n",
    "    if n==0:\n",
    "        return 0\n",
    "    converted=[]\n",
    "    while n!=0:\n",
    "        remainder=n%negBase\n",
    "        n/=negBase\n",
    "        \n",
    "        if remainder<0:\n",
    "            remainder+=(-1*negBase)\n",
    "            n+=1\n",
    "        converted.append(remainder)\n",
    "    return converted"
   ]
  },
  {
   "cell_type": "code",
   "execution_count": 218,
   "metadata": {},
   "outputs": [
    {
     "ename": "KeyboardInterrupt",
     "evalue": "",
     "output_type": "error",
     "traceback": [
      "\u001b[1;31m---------------------------------------------------------------------------\u001b[0m",
      "\u001b[1;31mKeyboardInterrupt\u001b[0m                         Traceback (most recent call last)",
      "\u001b[1;32m<ipython-input-218-a862e4d3030a>\u001b[0m in \u001b[0;36m<module>\u001b[1;34m()\u001b[0m\n\u001b[1;32m----> 1\u001b[1;33m \u001b[0mtoNegativeBase\u001b[0m\u001b[1;33m(\u001b[0m\u001b[1;36m6\u001b[0m\u001b[1;33m,\u001b[0m\u001b[1;33m-\u001b[0m\u001b[1;36m2\u001b[0m\u001b[1;33m)\u001b[0m\u001b[1;33m\u001b[0m\u001b[0m\n\u001b[0m",
      "\u001b[1;32m<ipython-input-217-f4f249c555bc>\u001b[0m in \u001b[0;36mtoNegativeBase\u001b[1;34m(n, negBase)\u001b[0m\n\u001b[0;32m     10\u001b[0m             \u001b[0mremainder\u001b[0m\u001b[1;33m+=\u001b[0m\u001b[1;33m(\u001b[0m\u001b[1;33m-\u001b[0m\u001b[1;36m1\u001b[0m\u001b[1;33m*\u001b[0m\u001b[0mnegBase\u001b[0m\u001b[1;33m)\u001b[0m\u001b[1;33m\u001b[0m\u001b[0m\n\u001b[0;32m     11\u001b[0m             \u001b[0mn\u001b[0m\u001b[1;33m+=\u001b[0m\u001b[1;36m1\u001b[0m\u001b[1;33m\u001b[0m\u001b[0m\n\u001b[1;32m---> 12\u001b[1;33m         \u001b[0mconverted\u001b[0m\u001b[1;33m.\u001b[0m\u001b[0mappend\u001b[0m\u001b[1;33m(\u001b[0m\u001b[0mremainder\u001b[0m\u001b[1;33m)\u001b[0m\u001b[1;33m\u001b[0m\u001b[0m\n\u001b[0m\u001b[0;32m     13\u001b[0m     \u001b[1;32mreturn\u001b[0m \u001b[0mconverted\u001b[0m\u001b[1;33m\u001b[0m\u001b[0m\n",
      "\u001b[1;31mKeyboardInterrupt\u001b[0m: "
     ]
    }
   ],
   "source": [
    "toNegativeBase(6,-2)"
   ]
  },
  {
   "cell_type": "code",
   "execution_count": 66,
   "metadata": {},
   "outputs": [],
   "source": [
    "# problema 3"
   ]
  },
  {
   "cell_type": "code",
   "execution_count": 69,
   "metadata": {},
   "outputs": [],
   "source": [
    "test1=    \"Sun 10:00-20:00\\nFri 05:00-10:00\\nFri 16:30-23:50\\nSat 10:00-24:00\\nSun 01:00-04:00\\nSat 02:00-06:00\\nTue 03:30-18:15\\nTue 19:00-20:00\\nWed 04:25-15:14\\nWed 15:14-22:40\\nThu 00:00-23:59\\nMon 05:00-13:00\\nMon 15:00-21:00\""
   ]
  },
  {
   "cell_type": "code",
   "execution_count": 73,
   "metadata": {},
   "outputs": [],
   "source": [
    "test=test1.splitlines()"
   ]
  },
  {
   "cell_type": "code",
   "execution_count": 79,
   "metadata": {},
   "outputs": [
    {
     "data": {
      "text/plain": [
       "'Sun'"
      ]
     },
     "execution_count": 79,
     "metadata": {},
     "output_type": "execute_result"
    }
   ],
   "source": [
    "test[0][:3]"
   ]
  },
  {
   "cell_type": "code",
   "execution_count": 93,
   "metadata": {},
   "outputs": [
    {
     "data": {
      "text/plain": [
       "['Sun 10:00-20:00',\n",
       " 'Fri 05:00-10:00',\n",
       " 'Fri 16:30-23:50',\n",
       " 'Sat 10:00-24:00',\n",
       " 'Sun 01:00-04:00',\n",
       " 'Sat 02:00-06:00',\n",
       " 'Tue 03:30-18:15',\n",
       " 'Tue 19:00-20:00',\n",
       " 'Wed 04:25-15:14',\n",
       " 'Wed 15:14-22:40',\n",
       " 'Thu 00:00-23:59',\n",
       " 'Mon 05:00-13:00',\n",
       " 'Mon 15:00-21:00']"
      ]
     },
     "execution_count": 93,
     "metadata": {},
     "output_type": "execute_result"
    }
   ],
   "source": [
    "test"
   ]
  },
  {
   "cell_type": "code",
   "execution_count": 100,
   "metadata": {},
   "outputs": [],
   "source": [
    "def mapa1(array):\n",
    "    mapa={}\n",
    "    for i in range(len(array)):\n",
    "        if array[i][:3] not in mapa:\n",
    "            mapa[array[i][:3]]= array[i][3:]\n",
    "        else:\n",
    "            mapa[array[i][:3]+str(2)]=array[i][3:]\n",
    "    return mapa"
   ]
  },
  {
   "cell_type": "code",
   "execution_count": 101,
   "metadata": {},
   "outputs": [
    {
     "data": {
      "text/plain": [
       "{'Fri': ' 05:00-10:00',\n",
       " 'Fri2': ' 16:30-23:50',\n",
       " 'Mon': ' 05:00-13:00',\n",
       " 'Mon2': ' 15:00-21:00',\n",
       " 'Sat': ' 10:00-24:00',\n",
       " 'Sat2': ' 02:00-06:00',\n",
       " 'Sun': ' 10:00-20:00',\n",
       " 'Sun2': ' 01:00-04:00',\n",
       " 'Thu': ' 00:00-23:59',\n",
       " 'Tue': ' 03:30-18:15',\n",
       " 'Tue2': ' 19:00-20:00',\n",
       " 'Wed': ' 04:25-15:14',\n",
       " 'Wed2': ' 15:14-22:40'}"
      ]
     },
     "execution_count": 101,
     "metadata": {},
     "output_type": "execute_result"
    }
   ],
   "source": [
    "mapa1(test)"
   ]
  },
  {
   "cell_type": "code",
   "execution_count": 102,
   "metadata": {},
   "outputs": [],
   "source": [
    "day = dict()\n",
    "\n",
    "for line in test:\n",
    "    if line[:3] in day:\n",
    "        # append the new number to the existing array at this slot\n",
    "        day[line[:3]].append(line[3:])\n",
    "    else:\n",
    "        # create a new array in this slot\n",
    "        day[line[:3]] = [line[3:]]"
   ]
  },
  {
   "cell_type": "code",
   "execution_count": 103,
   "metadata": {},
   "outputs": [
    {
     "data": {
      "text/plain": [
       "{'Fri': [' 05:00-10:00', ' 16:30-23:50'],\n",
       " 'Mon': [' 05:00-13:00', ' 15:00-21:00'],\n",
       " 'Sat': [' 10:00-24:00', ' 02:00-06:00'],\n",
       " 'Sun': [' 10:00-20:00', ' 01:00-04:00'],\n",
       " 'Thu': [' 00:00-23:59'],\n",
       " 'Tue': [' 03:30-18:15', ' 19:00-20:00'],\n",
       " 'Wed': [' 04:25-15:14', ' 15:14-22:40']}"
      ]
     },
     "execution_count": 103,
     "metadata": {},
     "output_type": "execute_result"
    }
   ],
   "source": [
    "day"
   ]
  },
  {
   "cell_type": "code",
   "execution_count": 111,
   "metadata": {},
   "outputs": [
    {
     "data": {
      "text/plain": [
       "'23:50'"
      ]
     },
     "execution_count": 111,
     "metadata": {},
     "output_type": "execute_result"
    }
   ],
   "source": [
    "day['Fri'][-1][-5:]"
   ]
  },
  {
   "cell_type": "code",
   "execution_count": 116,
   "metadata": {},
   "outputs": [],
   "source": [
    "def get_sec(time_str):\n",
    "    h, m= time_str.split(':')\n",
    "    return int(h) * 3600 + int(m) * 60\n"
   ]
  },
  {
   "cell_type": "code",
   "execution_count": 136,
   "metadata": {},
   "outputs": [
    {
     "data": {
      "text/plain": [
       "67800"
      ]
     },
     "execution_count": 136,
     "metadata": {},
     "output_type": "execute_result"
    }
   ],
   "source": [
    "get_sec(day['Fri'][-1][-5:])-get_sec('05:00')"
   ]
  },
  {
   "cell_type": "code",
   "execution_count": 132,
   "metadata": {},
   "outputs": [
    {
     "data": {
      "text/plain": [
       "-18000"
      ]
     },
     "execution_count": 132,
     "metadata": {},
     "output_type": "execute_result"
    }
   ],
   "source": [
    "get_sec('00:00') - get_sec('05:00')"
   ]
  },
  {
   "cell_type": "code",
   "execution_count": 122,
   "metadata": {},
   "outputs": [
    {
     "data": {
      "text/plain": [
       "18000"
      ]
     },
     "execution_count": 122,
     "metadata": {},
     "output_type": "execute_result"
    }
   ],
   "source": [
    "get_sec('05:00')"
   ]
  },
  {
   "cell_type": "code",
   "execution_count": 124,
   "metadata": {},
   "outputs": [],
   "source": [
    "import datetime"
   ]
  },
  {
   "cell_type": "code",
   "execution_count": 131,
   "metadata": {},
   "outputs": [
    {
     "data": {
      "text/plain": [
       "'0:10:00'"
      ]
     },
     "execution_count": 131,
     "metadata": {},
     "output_type": "execute_result"
    }
   ],
   "source": [
    "str(datetime.timedelta(seconds=600))"
   ]
  },
  {
   "cell_type": "code",
   "execution_count": 128,
   "metadata": {},
   "outputs": [
    {
     "data": {
      "text/plain": [
       "0.16666666666666666"
      ]
     },
     "execution_count": 128,
     "metadata": {},
     "output_type": "execute_result"
    }
   ],
   "source": [
    "600/3600"
   ]
  },
  {
   "cell_type": "code",
   "execution_count": 135,
   "metadata": {},
   "outputs": [
    {
     "data": {
      "text/plain": [
       "'5:10:00'"
      ]
     },
     "execution_count": 135,
     "metadata": {},
     "output_type": "execute_result"
    }
   ],
   "source": [
    "str(datetime.timedelta(seconds=18600))"
   ]
  },
  {
   "cell_type": "code",
   "execution_count": 137,
   "metadata": {},
   "outputs": [
    {
     "data": {
      "text/plain": [
       "-86400"
      ]
     },
     "execution_count": 137,
     "metadata": {},
     "output_type": "execute_result"
    }
   ],
   "source": [
    "get_sec('00:00') - get_sec('24:00')"
   ]
  },
  {
   "cell_type": "code",
   "execution_count": 138,
   "metadata": {},
   "outputs": [
    {
     "data": {
      "text/plain": [
       "-18600"
      ]
     },
     "execution_count": 138,
     "metadata": {},
     "output_type": "execute_result"
    }
   ],
   "source": [
    "67800-86400"
   ]
  },
  {
   "cell_type": "code",
   "execution_count": 145,
   "metadata": {},
   "outputs": [
    {
     "ename": "SyntaxError",
     "evalue": "unexpected EOF while parsing (<ipython-input-145-f2416a357ecc>, line 6)",
     "output_type": "error",
     "traceback": [
      "\u001b[1;36m  File \u001b[1;32m\"<ipython-input-145-f2416a357ecc>\"\u001b[1;36m, line \u001b[1;32m6\u001b[0m\n\u001b[1;33m    if d=='Sun':\u001b[0m\n\u001b[1;37m                ^\u001b[0m\n\u001b[1;31mSyntaxError\u001b[0m\u001b[1;31m:\u001b[0m unexpected EOF while parsing\n"
     ]
    }
   ],
   "source": [
    "\n",
    "for d in day:\n",
    "    if d=='Mon':\n",
    "        if len(day[d])>1:\n",
    "            for i in range(len(day[d])):\n",
    "                \n",
    "    elif d=='Tue':\n",
    "    elif d=='Wed':\n",
    "    elif d=='Thu':\n",
    "    elif d=='Fri':\n",
    "    else:\n",
    "        "
   ]
  },
  {
   "cell_type": "code",
   "execution_count": 146,
   "metadata": {},
   "outputs": [
    {
     "name": "stdout",
     "output_type": "stream",
     "text": [
      "[' 10:00-20:00', ' 01:00-04:00']\n",
      "[' 05:00-10:00', ' 16:30-23:50']\n",
      "[' 10:00-24:00', ' 02:00-06:00']\n",
      "[' 03:30-18:15', ' 19:00-20:00']\n",
      "[' 04:25-15:14', ' 15:14-22:40']\n",
      "[' 00:00-23:59']\n",
      "[' 05:00-13:00', ' 15:00-21:00']\n"
     ]
    }
   ],
   "source": [
    "for d in day:\n",
    "    print(day[d])"
   ]
  },
  {
   "cell_type": "code",
   "execution_count": 174,
   "metadata": {},
   "outputs": [
    {
     "name": "stdout",
     "output_type": "stream",
     "text": [
      "12600\n"
     ]
    }
   ],
   "source": [
    "for i in range(len(day['Fri'])):\n",
    "    if i==0:\n",
    "        print(get_sec(day['Fri'][i][-5:])-get_sec(day['Fri'][i+1][-10:-6]))"
   ]
  },
  {
   "cell_type": "code",
   "execution_count": 175,
   "metadata": {},
   "outputs": [
    {
     "data": {
      "text/plain": [
       "'3:30:00'"
      ]
     },
     "execution_count": 175,
     "metadata": {},
     "output_type": "execute_result"
    }
   ],
   "source": [
    "str(datetime.timedelta(seconds=12600))"
   ]
  },
  {
   "cell_type": "code",
   "execution_count": null,
   "metadata": {},
   "outputs": [],
   "source": []
  }
 ],
 "metadata": {
  "kernelspec": {
   "display_name": "Python 3",
   "language": "python",
   "name": "python3"
  },
  "language_info": {
   "codemirror_mode": {
    "name": "ipython",
    "version": 3
   },
   "file_extension": ".py",
   "mimetype": "text/x-python",
   "name": "python",
   "nbconvert_exporter": "python",
   "pygments_lexer": "ipython3",
   "version": "3.6.4rc1"
  }
 },
 "nbformat": 4,
 "nbformat_minor": 2
}
