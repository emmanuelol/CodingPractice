{
 "cells": [
  {
   "cell_type": "markdown",
   "metadata": {},
   "source": [
    "this task already schedule     this a new one \n",
    "* [12:00, 1min], [12:30, 5min];  <4:00, 5min>"
   ]
  },
  {
   "cell_type": "code",
   "execution_count": 1,
   "metadata": {},
   "outputs": [],
   "source": [
    "\n",
    "tasks=[[12, 16], [20, 22]]"
   ]
  },
  {
   "cell_type": "markdown",
   "metadata": {},
   "source": [
    "* 12,15, collision\n",
    "\n",
    "* 13,15 collision\n",
    "\n",
    "* 16,20 not collision\n",
    "\n",
    "* 11, 13 collision"
   ]
  },
  {
   "cell_type": "code",
   "execution_count": 86,
   "metadata": {},
   "outputs": [],
   "source": [
    "def check_time_slot(tasks,new_task):\n",
    "    if tasks is None or new_task is None:\n",
    "        raise valueError('we need a list')\n",
    "    for start_time,end_time in tasks:\n",
    "\n",
    "        print(new_task)\n",
    "        if new_task[0]!=start_time:\n",
    "            if new_task[0]<=end_time:\n",
    "                if new_task[1]>=start_time:\n",
    "\n",
    "                    if new_task[1]>end_time:\n",
    "                        print('inside')\n",
    "                        print(start_time)\n",
    "                        print(end_time)\n",
    "                        return True\n",
    " #               elif new_task[1]<start_time:\n",
    " #                   print('n')\n",
    " #                   if new_task[1]<end_time:\n",
    " #                       return True\n",
    "    \n",
    "    return False\n"
   ]
  },
  {
   "cell_type": "code",
   "execution_count": 89,
   "metadata": {},
   "outputs": [
    {
     "name": "stdout",
     "output_type": "stream",
     "text": [
      "[20, 21]\n",
      "[20, 21]\n"
     ]
    },
    {
     "data": {
      "text/plain": [
       "False"
      ]
     },
     "execution_count": 89,
     "metadata": {},
     "output_type": "execute_result"
    }
   ],
   "source": [
    "#input=[12,15]\n",
    "#input=[13,15]\n",
    "#input=[20,21]\n",
    "#input=[16,20]\n",
    "#input=[11,13]\n",
    "#input=[8,9]\n",
    "check_time_slot(tasks,input)"
   ]
  },
  {
   "cell_type": "code",
   "execution_count": 2,
   "metadata": {},
   "outputs": [
    {
     "data": {
      "text/plain": [
       "0"
      ]
     },
     "execution_count": 2,
     "metadata": {},
     "output_type": "execute_result"
    }
   ],
   "source": [
    "10%10"
   ]
  },
  {
   "cell_type": "code",
   "execution_count": 8,
   "metadata": {},
   "outputs": [],
   "source": [
    "#digits=[9]\n",
    "digits=[1,0,0,0,0]\n"
   ]
  },
  {
   "cell_type": "code",
   "execution_count": 17,
   "metadata": {},
   "outputs": [],
   "source": [
    "def plus_one(digits):\n",
    "    carry=0\n",
    "    counter=True\n",
    "    output=[]\n",
    "    for current in digits[::-1]:\n",
    "        if counter:\n",
    "            counter=False\n",
    "            current+=1\n",
    "        print(current)    \n",
    "        current+=carry    \n",
    "        if current%10==0 and current!=0:\n",
    "            print(True)\n",
    "            carry=1\n",
    "            current=0\n",
    "        else:\n",
    "            carry=0\n",
    "        output.append(current)\n",
    "        \n",
    "    if carry==1:\n",
    "        output.append(carry)\n",
    "    return output[::-1]"
   ]
  },
  {
   "cell_type": "code",
   "execution_count": 18,
   "metadata": {},
   "outputs": [
    {
     "name": "stdout",
     "output_type": "stream",
     "text": [
      "1\n",
      "0\n",
      "0\n",
      "0\n",
      "1\n"
     ]
    },
    {
     "data": {
      "text/plain": [
       "[1, 0, 0, 0, 1]"
      ]
     },
     "execution_count": 18,
     "metadata": {},
     "output_type": "execute_result"
    }
   ],
   "source": [
    "plus_one(digits)"
   ]
  },
  {
   "cell_type": "code",
   "execution_count": 7,
   "metadata": {},
   "outputs": [
    {
     "data": {
      "text/plain": [
       "1"
      ]
     },
     "execution_count": 7,
     "metadata": {},
     "output_type": "execute_result"
    }
   ],
   "source": [
    "1%10"
   ]
  },
  {
   "cell_type": "code",
   "execution_count": 81,
   "metadata": {},
   "outputs": [],
   "source": [
    "S = \"abcd\"\n",
    "indexes = [0,2]\n",
    "sources = [\"a\",\"cd\"]\n",
    "targets = [\"eee\",\"ffff\"]"
   ]
  },
  {
   "cell_type": "code",
   "execution_count": 82,
   "metadata": {},
   "outputs": [
    {
     "name": "stdout",
     "output_type": "stream",
     "text": [
      "1\n",
      "True\n",
      "a\n",
      "eee\n",
      "2\n",
      "True\n",
      "\n",
      "ffff\n"
     ]
    }
   ],
   "source": [
    "for i in indexes:\n",
    "    source=sources.pop(0)\n",
    "    print(len(source))\n",
    "    target=targets.pop(0)\n",
    "    if source in S[i:]:\n",
    "         print(True)\n",
    "    #print(source)\n",
    "    print(S[i:len(source)])\n",
    "    print(target)"
   ]
  },
  {
   "cell_type": "code",
   "execution_count": 100,
   "metadata": {},
   "outputs": [],
   "source": [
    "S = \"abcd\"\n",
    "indexes = [0,2]\n",
    "sources = [\"a\",\"cd\"]\n",
    "targets = [\"eee\",\"ffff\"]\n",
    "def findReplaceString(S, indexes, sources, targets ):\n",
    "    s_temp=S\n",
    "    for i in indexes:\n",
    "        source=sources.pop(0)\n",
    "        target=targets.pop(0)\n",
    "        print(i)\n",
    "        print(len(source))\n",
    "        print(S[i:i+len(source)])\n",
    "        if source in S[i:i+len(source)]:\n",
    "            s_temp=s_temp.replace(source,target)\n",
    "    return s_temp"
   ]
  },
  {
   "cell_type": "code",
   "execution_count": 101,
   "metadata": {},
   "outputs": [
    {
     "name": "stdout",
     "output_type": "stream",
     "text": [
      "0\n",
      "1\n",
      "a\n",
      "2\n",
      "2\n",
      "cd\n"
     ]
    },
    {
     "data": {
      "text/plain": [
       "'eeebffff'"
      ]
     },
     "execution_count": 101,
     "metadata": {},
     "output_type": "execute_result"
    }
   ],
   "source": [
    "findReplaceString(S,indexes,sources,targets)"
   ]
  },
  {
   "cell_type": "code",
   "execution_count": 95,
   "metadata": {},
   "outputs": [
    {
     "data": {
      "text/plain": [
       "4"
      ]
     },
     "execution_count": 95,
     "metadata": {},
     "output_type": "execute_result"
    }
   ],
   "source": [
    "len(S[0:])"
   ]
  },
  {
   "cell_type": "code",
   "execution_count": 41,
   "metadata": {},
   "outputs": [
    {
     "data": {
      "text/plain": [
       "True"
      ]
     },
     "execution_count": 41,
     "metadata": {},
     "output_type": "execute_result"
    }
   ],
   "source": [
    " sources[0] in S[0:]"
   ]
  },
  {
   "cell_type": "code",
   "execution_count": null,
   "metadata": {},
   "outputs": [],
   "source": []
  },
  {
   "cell_type": "code",
   "execution_count": 42,
   "metadata": {},
   "outputs": [
    {
     "data": {
      "text/plain": [
       "True"
      ]
     },
     "execution_count": 42,
     "metadata": {},
     "output_type": "execute_result"
    }
   ],
   "source": [
    "sources[1] in S[1:]\n"
   ]
  },
  {
   "cell_type": "code",
   "execution_count": 45,
   "metadata": {},
   "outputs": [],
   "source": [
    "S=S.replace(sources[0],targets[0])"
   ]
  },
  {
   "cell_type": "code",
   "execution_count": 46,
   "metadata": {},
   "outputs": [
    {
     "data": {
      "text/plain": [
       "'eeebffff'"
      ]
     },
     "execution_count": 46,
     "metadata": {},
     "output_type": "execute_result"
    }
   ],
   "source": [
    "S.replace(sources[1],targets[1])"
   ]
  },
  {
   "cell_type": "code",
   "execution_count": 57,
   "metadata": {},
   "outputs": [],
   "source": [
    "S = \"abcd\"\n",
    "indexes = [0,2]\n",
    "sources = [\"ab\",\"ec\"]\n",
    "targets = [\"eee\",\"ffff\"]"
   ]
  },
  {
   "cell_type": "code",
   "execution_count": 58,
   "metadata": {},
   "outputs": [
    {
     "name": "stdout",
     "output_type": "stream",
     "text": [
      "0\n",
      "True\n",
      "ab\n",
      "abcd\n",
      "eee\n",
      "2\n",
      "ec\n",
      "cd\n",
      "ffff\n"
     ]
    }
   ],
   "source": [
    "for i in indexes:\n",
    "    print(i)\n",
    "    source=sources.pop(0)\n",
    "    target=targets.pop(0)\n",
    "    if source in S[i:]:\n",
    "         print(True)\n",
    "    print(source)\n",
    "    print(S[i:])\n",
    "    print(target)"
   ]
  },
  {
   "cell_type": "code",
   "execution_count": 50,
   "metadata": {},
   "outputs": [
    {
     "name": "stdout",
     "output_type": "stream",
     "text": [
      "0\n",
      "1\n"
     ]
    },
    {
     "data": {
      "text/plain": [
       "'eeffffd'"
      ]
     },
     "execution_count": 50,
     "metadata": {},
     "output_type": "execute_result"
    }
   ],
   "source": [
    "findReplaceString(S,indexes,sources,targets)"
   ]
  },
  {
   "cell_type": "code",
   "execution_count": 27,
   "metadata": {},
   "outputs": [
    {
     "data": {
      "text/plain": [
       "False"
      ]
     },
     "execution_count": 27,
     "metadata": {},
     "output_type": "execute_result"
    }
   ],
   "source": [
    "sources[] in S[1:]"
   ]
  },
  {
   "cell_type": "code",
   "execution_count": 28,
   "metadata": {},
   "outputs": [
    {
     "data": {
      "text/plain": [
       "'ec'"
      ]
     },
     "execution_count": 28,
     "metadata": {},
     "output_type": "execute_result"
    }
   ],
   "source": [
    "sources[1]"
   ]
  },
  {
   "cell_type": "code",
   "execution_count": null,
   "metadata": {},
   "outputs": [],
   "source": []
  }
 ],
 "metadata": {
  "kernelspec": {
   "display_name": "Python 3",
   "language": "python",
   "name": "python3"
  },
  "language_info": {
   "codemirror_mode": {
    "name": "ipython",
    "version": 3
   },
   "file_extension": ".py",
   "mimetype": "text/x-python",
   "name": "python",
   "nbconvert_exporter": "python",
   "pygments_lexer": "ipython3",
   "version": "3.6.8"
  }
 },
 "nbformat": 4,
 "nbformat_minor": 4
}
