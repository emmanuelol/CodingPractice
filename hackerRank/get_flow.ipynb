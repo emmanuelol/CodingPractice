{
 "cells": [
  {
   "cell_type": "code",
   "execution_count": 1,
   "metadata": {},
   "outputs": [],
   "source": [
    "import matplotlib.pyplot as plt\n",
    "import numpy as np"
   ]
  },
  {
   "cell_type": "code",
   "execution_count": 17,
   "metadata": {},
   "outputs": [
    {
     "data": {
      "text/plain": [
       "<Container object of 20 artists>"
      ]
     },
     "execution_count": 17,
     "metadata": {},
     "output_type": "execute_result"
    },
    {
     "data": {
      "image/png": "[encoded data removed]",
      "text/plain": [
       "<matplotlib.figure.Figure at 0x7f2c66c289b0>"
      ]
     },
     "metadata": {},
     "output_type": "display_data"
    }
   ],
   "source": [
    "N=20 #number of bars\n",
    "max_value=10 # max high of the bars\n",
    "walls=np.random.randint(max_value,size=(N))\n",
    "plt.bar(np.arange(N),walls,color='gray')"
   ]
  },
  {
   "cell_type": "code",
   "execution_count": 18,
   "metadata": {},
   "outputs": [
    {
     "name": "stdout",
     "output_type": "stream",
     "text": [
      "LW= 5 pos= 0\n",
      "RW= 5 pos= 3 \n",
      "\n",
      "LW= 6 pos= 4\n",
      "RW= 6 pos= 9 \n",
      "\n",
      "LW= 6 pos= 9\n",
      "RW= 7 pos= 11 \n",
      "\n",
      "LW= 7 pos= 12\n",
      "RW= 7 pos= 14 \n",
      "\n",
      "LW= 7 pos= 14\n",
      "RW= 7 pos= 16 \n",
      "\n",
      "LW= 7 pos= 16\n",
      "RW= 2 pos= 18 \n",
      "\n",
      "LW= 2 pos= 18\n",
      "RW= 0 pos= 19 \n",
      "\n",
      "[ 0.  3.  5.  0.  0.  5.  3.  1.  1.  0.  6.  0.  0.  4.  0.  3.  0.  1.\n",
      "  0.  0.]\n"
     ]
    }
   ],
   "source": [
    "#def get_Water(walls):\n",
    "LW=0# LEFT WALL INITIAL VALUE\n",
    "RW=0# RIGTH WALL INITIAL VALUE\n",
    "water=np.zeros(len(walls))\n",
    "idx=0\n",
    "while (idx< len(walls)):\n",
    "    value=walls[idx]\n",
    "    if(value>=LW):\n",
    "        LW=value\n",
    "        idx+=1\n",
    "    elif(LW>0): # if already have a Left Wall\n",
    "        print(\"LW=\",LW ,\"pos=\",idx-1)\n",
    "        for idx2,value2 in enumerate(walls[idx:]): #search for the Right Wall\n",
    "            water[idx+idx2]=LW-value2\n",
    "            if(value2>RW and value2>walls[idx+idx2-1]):\n",
    "                RW=value2\n",
    "                pos=idx+idx2\n",
    "            if(value2>=LW):\n",
    "                break\n",
    "            \n",
    "        \n",
    "        if(RW==0):\n",
    "            pos=idx+idx2\n",
    "            water[idx-1:pos+1]=0\n",
    "            \n",
    "        elif(RW<LW):\n",
    "            water[idx:pos+1]-=(LW-RW)\n",
    "        print(\"RW=\",RW ,\"pos=\",pos,\"\\n\")\n",
    "        LW=0 \n",
    "        RW=0\n",
    "        idx=pos\n",
    "    \n",
    "    \n",
    "        \n",
    "water[water<0]=0        \n",
    "print(water)"
   ]
  },
  {
   "cell_type": "code",
   "execution_count": 19,
   "metadata": {},
   "outputs": [
    {
     "data": {
      "text/plain": [
       "<Container object of 20 artists>"
      ]
     },
     "execution_count": 19,
     "metadata": {},
     "output_type": "execute_result"
    },
    {
     "data": {
      "image/png": "[encoded data removed]",
      "text/plain": [
       "<matplotlib.figure.Figure at 0x7f2c66b078d0>"
      ]
     },
     "metadata": {},
     "output_type": "display_data"
    }
   ],
   "source": [
    "plt.bar(np.arange(N),walls,color='gray')\n",
    "plt.bar(np.arange(N),water,bottom=walls,color='blue')"
   ]
  },
  {
   "cell_type": "code",
   "execution_count": 20,
   "metadata": {},
   "outputs": [
    {
     "data": {
      "text/plain": [
       "32.0"
      ]
     },
     "execution_count": 20,
     "metadata": {},
     "output_type": "execute_result"
    }
   ],
   "source": [
    "np.sum(water)"
   ]
  },
  {
   "cell_type": "code",
   "execution_count": 21,
   "metadata": {},
   "outputs": [],
   "source": [
    "import random"
   ]
  },
  {
   "cell_type": "code",
   "execution_count": 33,
   "metadata": {},
   "outputs": [],
   "source": [
    "MAX=20\n",
    "N_P=20\n",
    "points=np.random.randint(MAX,size=(N_P,2))"
   ]
  },
  {
   "cell_type": "code",
   "execution_count": 34,
   "metadata": {},
   "outputs": [
    {
     "data": {
      "text/plain": [
       "[<matplotlib.lines.Line2D at 0x7f3f3b393748>,\n",
       " <matplotlib.lines.Line2D at 0x7f3f3b393860>]"
      ]
     },
     "execution_count": 34,
     "metadata": {},
     "output_type": "execute_result"
    },
    {
     "data": {
      "image/png": "[encoded data removed]",
      "text/plain": [
       "<matplotlib.figure.Figure at 0x7f3f3b6b1dd8>"
      ]
     },
     "metadata": {},
     "output_type": "display_data"
    }
   ],
   "source": [
    "plt.plot(points,'bo')"
   ]
  },
  {
   "cell_type": "code",
   "execution_count": 36,
   "metadata": {},
   "outputs": [
    {
     "data": {
      "text/plain": [
       "array([[ 8, 16],\n",
       "       [ 4, 11],\n",
       "       [19,  5],\n",
       "       [10, 12],\n",
       "       [ 0,  3],\n",
       "       [ 1,  3],\n",
       "       [ 7,  8],\n",
       "       [ 6,  2],\n",
       "       [10, 12],\n",
       "       [ 2, 11],\n",
       "       [ 4, 16],\n",
       "       [ 7, 10],\n",
       "       [18, 14],\n",
       "       [12, 10],\n",
       "       [ 0, 11],\n",
       "       [13, 17],\n",
       "       [ 2,  2],\n",
       "       [18,  8],\n",
       "       [14, 14],\n",
       "       [ 7, 13]])"
      ]
     },
     "execution_count": 36,
     "metadata": {},
     "output_type": "execute_result"
    }
   ],
   "source": [
    "points"
   ]
  },
  {
   "cell_type": "code",
   "execution_count": 37,
   "metadata": {},
   "outputs": [
    {
     "data": {
      "text/plain": [
       "0"
      ]
     },
     "execution_count": 37,
     "metadata": {},
     "output_type": "execute_result"
    }
   ],
   "source": [
    "np.amin(points)"
   ]
  },
  {
   "cell_type": "code",
   "execution_count": null,
   "metadata": {},
   "outputs": [],
   "source": []
  }
 ],
 "metadata": {
  "kernelspec": {
   "display_name": "Python 3",
   "language": "python",
   "name": "python3"
  },
  "language_info": {
   "codemirror_mode": {
    "name": "ipython",
    "version": 3
   },
   "file_extension": ".py",
   "mimetype": "text/x-python",
   "name": "python",
   "nbconvert_exporter": "python",
   "pygments_lexer": "ipython3",
   "version": "3.6.4rc1"
  }
 },
 "nbformat": 4,
 "nbformat_minor": 2
}
