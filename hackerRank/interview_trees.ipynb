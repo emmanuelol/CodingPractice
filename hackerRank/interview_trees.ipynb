{
 "cells": [
  {
   "cell_type": "markdown",
   "metadata": {},
   "source": [
    "# tree"
   ]
  },
  {
   "cell_type": "code",
   "execution_count": 4,
   "metadata": {},
   "outputs": [],
   "source": [
    "class Node(object):\n",
    "    def __init__(self,value,left=None,right=None):\n",
    "        self.value=value\n",
    "        self.left=left\n",
    "        self.right=right"
   ]
  },
  {
   "cell_type": "code",
   "execution_count": 5,
   "metadata": {},
   "outputs": [],
   "source": [
    "n1=Node(0)\n",
    "n2=Node(1)\n",
    "n4=Node(3)\n",
    "n5=Node(4)\n",
    "n3=Node(2)\n",
    "n6=Node(5)\n",
    "n7=Node(6)\n",
    "head=n1"
   ]
  },
  {
   "cell_type": "code",
   "execution_count": 7,
   "metadata": {},
   "outputs": [],
   "source": [
    "# setup children\n",
    "n1.left=n2\n",
    "n1.right=n3\n",
    "n2.left=n4\n",
    "n2.right=n5\n",
    "n3.left=n6\n",
    "n3.right=n7"
   ]
  },
  {
   "cell_type": "markdown",
   "metadata": {},
   "source": [
    "# traversal"
   ]
  },
  {
   "cell_type": "code",
   "execution_count": 54,
   "metadata": {},
   "outputs": [],
   "source": [
    "n1=Node(1)\n",
    "n2=Node(2)\n",
    "n3=Node(3)\n",
    "\n",
    "head=n1"
   ]
  },
  {
   "cell_type": "code",
   "execution_count": 55,
   "metadata": {},
   "outputs": [],
   "source": [
    "# setup children\n",
    "n1.right=n2\n",
    "n2.left=n3\n",
    "nodos=[]\n"
   ]
  },
  {
   "cell_type": "code",
   "execution_count": 56,
   "metadata": {},
   "outputs": [],
   "source": [
    "def preorder(head,nodos):\n",
    "    current=head\n",
    "    print(current.value)\n",
    "    nodos.append(current.value)\n",
    "    if current and current.left:\n",
    "        return preorder(current.left,nodos)\n",
    "    if current and current.right:\n",
    "        return preorder(current.right,nodos)\n",
    "    return nodos"
   ]
  },
  {
   "cell_type": "code",
   "execution_count": 57,
   "metadata": {},
   "outputs": [
    {
     "name": "stdout",
     "output_type": "stream",
     "text": [
      "1\n",
      "2\n",
      "3\n"
     ]
    },
    {
     "data": {
      "text/plain": [
       "[1, 2, 3]"
      ]
     },
     "execution_count": 57,
     "metadata": {},
     "output_type": "execute_result"
    }
   ],
   "source": [
    "preorder(head,nodos)"
   ]
  },
  {
   "cell_type": "code",
   "execution_count": 70,
   "metadata": {},
   "outputs": [],
   "source": [
    "def inorder(head,nodos):\n",
    "    current=head\n",
    "    print(current.value)\n",
    "    if current and current.left:\n",
    "        return inorder(current.left,nodos)\n",
    "    nodos.append(current.value)\n",
    "\n",
    "    if current and current.right:\n",
    "        return inorder(current.right,nodos)\n",
    "\n",
    "    return nodos"
   ]
  },
  {
   "cell_type": "code",
   "execution_count": 71,
   "metadata": {},
   "outputs": [],
   "source": [
    "nodos=[]\n"
   ]
  },
  {
   "cell_type": "code",
   "execution_count": 72,
   "metadata": {},
   "outputs": [
    {
     "name": "stdout",
     "output_type": "stream",
     "text": [
      "1\n",
      "2\n",
      "3\n"
     ]
    },
    {
     "data": {
      "text/plain": [
       "[1, 3]"
      ]
     },
     "execution_count": 72,
     "metadata": {},
     "output_type": "execute_result"
    }
   ],
   "source": [
    "inorder(head,nodos)"
   ]
  },
  {
   "cell_type": "markdown",
   "metadata": {},
   "source": [
    "tengo dudas con lo recursivo para arboles no balanceados"
   ]
  },
  {
   "cell_type": "markdown",
   "metadata": {},
   "source": [
    "## Find the height of a Binary tree\n",
    "* is recursive solution, basically we traverse the tree\n",
    "### complexity\n",
    "* O(h) time were h is the height of the Tree\n",
    "* O(1) space"
   ]
  },
  {
   "cell_type": "code",
   "execution_count": 1,
   "metadata": {},
   "outputs": [],
   "source": [
    "def height_tree(root):\n",
    "    if root is None:\n",
    "        return -1\n",
    "    else:\n",
    "        left_height=height_tree(root.left)\n",
    "        right_height=height_tree(root.right)\n",
    "        if left_height>right_height:\n",
    "            return left_height+1\n",
    "        else:\n",
    "            return right_height+1\n",
    "        "
   ]
  },
  {
   "cell_type": "code",
   "execution_count": 8,
   "metadata": {},
   "outputs": [
    {
     "data": {
      "text/plain": [
       "2"
      ]
     },
     "execution_count": 8,
     "metadata": {},
     "output_type": "execute_result"
    }
   ],
   "source": [
    "height_tree(head)"
   ]
  },
  {
   "cell_type": "markdown",
   "metadata": {},
   "source": [
    "## Find the lowest common ancestor of a Binary Search Tree\n",
    "* the problem is that giving two values of nodes find the common ancestor of them.\n",
    "### solution\n",
    "* check if the current node is bigger than the values that we are looking for, we must move to the left\n",
    "* check if the current node is less than the values that we are lookiing, if it is we must move to the right.\n",
    "* if we found the nodes the loop is ended, and we have the lower common ancestor of this nodes\n",
    "### Complexity\n",
    "* O(h) time where h is the height of the Tree\n",
    "* O(1) space"
   ]
  },
  {
   "cell_type": "code",
   "execution_count": null,
   "metadata": {},
   "outputs": [],
   "source": []
  },
  {
   "cell_type": "code",
   "execution_count": 11,
   "metadata": {},
   "outputs": [],
   "source": [
    "def lowest_common_ancestor(root):\n",
    "    if root is None:\n",
    "        raise ValueError('a BST is requiered')\n",
    "    current=root\n",
    "    while current:\n",
    "        if current.value>n1 and current.value>n2:\n",
    "            current=current.left\n",
    "        elif current.value<n1 and current.value<n2:\n",
    "            current=current.right\n",
    "        else: \n",
    "            break\n",
    "    return current"
   ]
  },
  {
   "cell_type": "code",
   "execution_count": null,
   "metadata": {},
   "outputs": [],
   "source": []
  },
  {
   "cell_type": "code",
   "execution_count": null,
   "metadata": {},
   "outputs": [],
   "source": []
  },
  {
   "cell_type": "markdown",
   "metadata": {},
   "source": [
    "## is BST?\n",
    "* check if a tree is bst\n",
    "### solution\n",
    "* we create a helper function that requiere as input: the tree, a minimum an maximum value on reference to left and right node (rememeber in a bst the root have a higher value than the left node and small value than the right node).\n",
    "* if the root is None, that accomplish the condition of a bst\n",
    "*  if minimum have a value and if root.value is less than the minimum return  is False\n",
    "*  if maximum have a value and if root.value is bigger than the maximum return False\n",
    "* then we travel the next node at the left, and we set as maximum the current value, to check if the next can avoid  the previous conditions if not return False\n",
    "* then we travel the next node at the right, and we set as minimum the current value, to check if the next can avoid  the previous conditions if not return False\n",
    "* after all this condition return True.\n",
    "* additionally we can check if we have a duplicate values, basically this functions is a inorder traversal saving the elements in a array if an element is duplicated this will rise a flag hence this is not a BST.\n",
    "### Complexity\n",
    "* O(h) time, h correspond to the height of this tree.\n",
    "* O(n) space, n correspond to the number of elements in the tree."
   ]
  },
  {
   "cell_type": "code",
   "execution_count": 16,
   "metadata": {},
   "outputs": [],
   "source": [
    "def check_bst(root):\n",
    "    return bst_helper(root,None,None) and check_duplicate(root)\n",
    "def bst_helper(root,minimo,maximo):\n",
    "    if root is None:\n",
    "        return True\n",
    "    if (minimo is not None and root.value<=minimo) or (maximo is not None and root.value>maximo):\n",
    "        return False\n",
    "    if not(bst_helper(root.left,minimo,root.value)):\n",
    "        return False\n",
    "    if not(bst_helper(root.right,root.value,maximo)):\n",
    "        return False\n",
    "    return True\n",
    "def check_duplicate(root,array=[]):\n",
    "    if root and root.left:\n",
    "        check_duplicate(root.left,array)\n",
    "    if root.value in array:\n",
    "        return False\n",
    "    array.append(root.value)\n",
    "    if root and root.right:\n",
    "        check_duplicate(root.right,array)\n",
    "    return True"
   ]
  },
  {
   "cell_type": "code",
   "execution_count": null,
   "metadata": {},
   "outputs": [],
   "source": []
  },
  {
   "cell_type": "markdown",
   "metadata": {},
   "source": [
    "## Huffman decoding\n",
    "* this method decode a word by the frequency of repetition where every edge(path to every node) is a binary (0 left, 1 right) and the value of every node contains a letter. The nodes in the top view are the ones that have more repetation, in the bottom are the less frequent.\n",
    "### Solution\n",
    "* input is a tree and their corresponding huffman code.\n",
    "* first we check that we have a tree.\n",
    "* we create a pointer that points to the root.\n",
    "* is initialized a string where the result of the decoding should be.\n",
    "* iterate through the coding input an character at the time\n",
    "* if the code is 0 we move the current pointer to the left if not then to the right.\n",
    "* if our node doesnt have leafs, this is a character we add the value to result and set the current pointer once more at root.\n",
    "* after all the iterations we return the decoding string.\n",
    "### Complexity\n",
    "* O(n) time, because the number of characters in the encoding.\n",
    "* O(n) space because we create a variable to add every node."
   ]
  },
  {
   "cell_type": "code",
   "execution_count": 17,
   "metadata": {},
   "outputs": [],
   "source": [
    "def decoding_huffman(root,s):\n",
    "    if root is None:\n",
    "        raise valueError('provide a tree')\n",
    "    current=root\n",
    "    result=''\n",
    "    for code in s:\n",
    "        if int(code)==0:\n",
    "            current=current.left\n",
    "        else: \n",
    "            current=current.righ\n",
    "        if current.left is None and current.right is None:\n",
    "            result+=current.value\n",
    "            current=root\n",
    "    return result"
   ]
  },
  {
   "cell_type": "code",
   "execution_count": null,
   "metadata": {},
   "outputs": [],
   "source": []
  }
 ],
 "metadata": {
  "kernelspec": {
   "display_name": "Python 3",
   "language": "python",
   "name": "python3"
  },
  "language_info": {
   "codemirror_mode": {
    "name": "ipython",
    "version": 3
   },
   "file_extension": ".py",
   "mimetype": "text/x-python",
   "name": "python",
   "nbconvert_exporter": "python",
   "pygments_lexer": "ipython3",
   "version": "3.6.8"
  }
 },
 "nbformat": 4,
 "nbformat_minor": 4
}
