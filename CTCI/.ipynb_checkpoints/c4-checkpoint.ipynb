{
 "cells": [
  {
   "cell_type": "markdown",
   "metadata": {},
   "source": [
    "# declare Node for BT"
   ]
  },
  {
   "cell_type": "code",
   "execution_count": 1,
   "metadata": {},
   "outputs": [],
   "source": [
    "class Node(object):\n",
    "    def __init__(self,value=None,left=None,right=None):\n",
    "        self.value=value\n",
    "        self.left=left\n",
    "        self.right=right"
   ]
  },
  {
   "cell_type": "markdown",
   "metadata": {},
   "source": [
    "## test tree"
   ]
  },
  {
   "cell_type": "code",
   "execution_count": 2,
   "metadata": {},
   "outputs": [],
   "source": [
    "n1=Node(0)\n",
    "n2=Node(1)\n",
    "n3=Node(2)\n",
    "n4=Node(3)\n",
    "n5=Node(4)\n",
    "n6=Node(5)\n",
    "n7=Node(6)"
   ]
  },
  {
   "cell_type": "code",
   "execution_count": 3,
   "metadata": {},
   "outputs": [],
   "source": [
    "# setup children\n",
    "n1.left=n2\n",
    "n1.right=n3\n",
    "\n",
    "n2.left=n4\n",
    "n2.right=n5\n",
    "\n",
    "n3.left=n6\n",
    "n3.right=n7"
   ]
  },
  {
   "cell_type": "code",
   "execution_count": 4,
   "metadata": {},
   "outputs": [
    {
     "name": "stdout",
     "output_type": "stream",
     "text": [
      "0\n",
      "1\n",
      "2\n",
      "3\n",
      "4\n",
      "5\n",
      "6\n"
     ]
    }
   ],
   "source": [
    "# root\n",
    "print(n1.value)\n",
    "# left node 1\n",
    "print(n1.left.value)\n",
    "print(n1.right.value)\n",
    "# children of the node1 left\n",
    "print(n1.left.left.value)\n",
    "print(n1.left.right.value)\n",
    "\n",
    "#children of the node1 right \n",
    "print(n1.right.left.value)\n",
    "print(n1.right.right.value)\n"
   ]
  },
  {
   "cell_type": "code",
   "execution_count": null,
   "metadata": {},
   "outputs": [],
   "source": []
  },
  {
   "cell_type": "code",
   "execution_count": 5,
   "metadata": {},
   "outputs": [],
   "source": [
    "\n",
    "def preOrder(root,nodos):\n",
    "    nodos.append(root.value)\n",
    "    if root and root.left:\n",
    "        preOrder(root.left,nodos)\n",
    "    if root and root.right:\n",
    "        preOrder(root.right,nodos)\n",
    "\n",
    "    return nodos"
   ]
  },
  {
   "cell_type": "code",
   "execution_count": 6,
   "metadata": {},
   "outputs": [
    {
     "data": {
      "text/plain": [
       "[0, 1, 3, 4, 2, 5, 6]"
      ]
     },
     "execution_count": 6,
     "metadata": {},
     "output_type": "execute_result"
    }
   ],
   "source": [
    "nodos=[]\n",
    "\n",
    "preOrder(n1,nodos)"
   ]
  },
  {
   "cell_type": "code",
   "execution_count": 7,
   "metadata": {},
   "outputs": [],
   "source": [
    "\n",
    "def inOrder(root,nodos):\n",
    "    if root and root.left:\n",
    "        inOrder(root.left,nodos)\n",
    "    nodos.append(root.value)\n",
    "\n",
    "    if root and root.right:\n",
    "        inOrder(root.right,nodos)\n",
    "\n",
    "    return nodos"
   ]
  },
  {
   "cell_type": "code",
   "execution_count": 8,
   "metadata": {},
   "outputs": [
    {
     "data": {
      "text/plain": [
       "[3, 1, 4, 0, 5, 2, 6]"
      ]
     },
     "execution_count": 8,
     "metadata": {},
     "output_type": "execute_result"
    }
   ],
   "source": [
    "nodos=[]\n",
    "\n",
    "inOrder(n1,nodos)"
   ]
  },
  {
   "cell_type": "code",
   "execution_count": 9,
   "metadata": {},
   "outputs": [],
   "source": [
    "def postOrder(root,nodos):\n",
    "    if root and root.left:\n",
    "        postOrder(root.left,nodos)\n",
    "\n",
    "    if root and root.right:\n",
    "        postOrder(root.right,nodos)\n",
    "    nodos.append(root.value)\n",
    "\n",
    "    return nodos"
   ]
  },
  {
   "cell_type": "code",
   "execution_count": 10,
   "metadata": {},
   "outputs": [
    {
     "data": {
      "text/plain": [
       "[3, 4, 1, 5, 6, 2, 0]"
      ]
     },
     "execution_count": 10,
     "metadata": {},
     "output_type": "execute_result"
    }
   ],
   "source": [
    "nodos=[]\n",
    "\n",
    "postOrder(n1,nodos)"
   ]
  },
  {
   "cell_type": "markdown",
   "metadata": {},
   "source": [
    "#  Route Between nodes"
   ]
  },
  {
   "cell_type": "markdown",
   "metadata": {},
   "source": [
    " este problema es para breadth first search y deepth first search ambos algoritmos de *GRAFOS*"
   ]
  },
  {
   "cell_type": "code",
   "execution_count": 11,
   "metadata": {},
   "outputs": [],
   "source": [
    "\n",
    "# crear un grafo en python es manejarlos como un diccionario\n",
    "## TODO agregar la busqueda de la ruta con DFS\n",
    "class Graph(object):\n",
    "    # inicializacion\n",
    "    def __init__(self,graph_dict={}):\n",
    "        self.graph_dict=graph_dict\n",
    "    \n",
    "    # agregar elementos\n",
    "    def addEdge(self,node,neighbour):\n",
    "        if node not in self.graph_dict:\n",
    "            self.graph_dict[node]=[neighbour]\n",
    "        else:\n",
    "            self.graph_dict[node].append(neighbour)\n",
    "    \n",
    "    # print nodos y sus conexiones\n",
    "    def showEdge(self):\n",
    "        for node in self.graph_dict:\n",
    "            for neighbour in self.graph_dict[node]:\n",
    "                print(\"(\",node,\", \",neighbour,\")\")\n",
    "                \n",
    "    # adaptacion de breadth firsth search\n",
    "    # Use BFS to check path between s and d \n",
    "    def isReachable(self,start, goal): \n",
    "        # Mark all the vertices as not visited \n",
    "        visited={}\n",
    "        for i in self.graph_dict:\n",
    "            visited[i]=False\n",
    "   \n",
    "        # Create a queue for BFS \n",
    "        queue=[] \n",
    "   \n",
    "        # Mark the source node as visited and enqueue it \n",
    "        queue.append(start) \n",
    "        visited[start] = True\n",
    "   \n",
    "        while queue: \n",
    "            #Dequeue a vertex from queue  \n",
    "            current = queue.pop(0) \n",
    "              \n",
    "            # If this adjacent node is the destination node, \n",
    "            # then return true \n",
    "            if current == goal: \n",
    "                return True\n",
    "  \n",
    "            #  Else, continue to do BFS \n",
    "            for i in self.graph_dict[current]: \n",
    "                if visited[i] == False: \n",
    "                    queue.append(i) \n",
    "                    visited[i] = True\n",
    "             # If BFS is complete without visite\n",
    "        return False\n",
    "    "
   ]
  },
  {
   "cell_type": "code",
   "execution_count": 12,
   "metadata": {},
   "outputs": [],
   "source": [
    "g=Graph()"
   ]
  },
  {
   "cell_type": "code",
   "execution_count": 13,
   "metadata": {},
   "outputs": [],
   "source": [
    "g.addEdge('1', '2')\n",
    "g.addEdge('1', '3')\n",
    "g.addEdge('2', '3')\n",
    "g.addEdge('2', '1')\n",
    "g.addEdge('3', '1')\n",
    "g.addEdge('3', '2')\n",
    "g.addEdge('3', '4')\n",
    "g.addEdge('4', '3')"
   ]
  },
  {
   "cell_type": "code",
   "execution_count": 14,
   "metadata": {},
   "outputs": [
    {
     "name": "stdout",
     "output_type": "stream",
     "text": [
      "( 1 ,  2 )\n",
      "( 1 ,  3 )\n",
      "( 2 ,  3 )\n",
      "( 2 ,  1 )\n",
      "( 3 ,  1 )\n",
      "( 3 ,  2 )\n",
      "( 3 ,  4 )\n",
      "( 4 ,  3 )\n"
     ]
    }
   ],
   "source": [
    "g.showEdge()"
   ]
  },
  {
   "cell_type": "code",
   "execution_count": 15,
   "metadata": {},
   "outputs": [
    {
     "data": {
      "text/plain": [
       "True"
      ]
     },
     "execution_count": 15,
     "metadata": {},
     "output_type": "execute_result"
    }
   ],
   "source": [
    "g.isReachable('4','1')"
   ]
  },
  {
   "cell_type": "code",
   "execution_count": null,
   "metadata": {},
   "outputs": [],
   "source": []
  },
  {
   "cell_type": "code",
   "execution_count": 16,
   "metadata": {},
   "outputs": [],
   "source": [
    "# prueba nueva\n",
    "g2 = Graph() \n",
    "g2.addEdge(0, 1) \n",
    "g2.addEdge(0, 2) \n",
    "g2.addEdge(1, 2) \n",
    "g2.addEdge(2, 0) \n",
    "g2.addEdge(2, 3) \n",
    "g2.addEdge(3, 3) "
   ]
  },
  {
   "cell_type": "code",
   "execution_count": 17,
   "metadata": {},
   "outputs": [
    {
     "name": "stdout",
     "output_type": "stream",
     "text": [
      "( 1 ,  2 )\n",
      "( 1 ,  3 )\n",
      "( 2 ,  3 )\n",
      "( 2 ,  1 )\n",
      "( 3 ,  1 )\n",
      "( 3 ,  2 )\n",
      "( 3 ,  4 )\n",
      "( 4 ,  3 )\n",
      "( 0 ,  1 )\n",
      "( 0 ,  2 )\n",
      "( 1 ,  2 )\n",
      "( 2 ,  0 )\n",
      "( 2 ,  3 )\n",
      "( 3 ,  3 )\n"
     ]
    }
   ],
   "source": [
    "g2.showEdge()"
   ]
  },
  {
   "cell_type": "code",
   "execution_count": 18,
   "metadata": {},
   "outputs": [
    {
     "data": {
      "text/plain": [
       "False"
      ]
     },
     "execution_count": 18,
     "metadata": {},
     "output_type": "execute_result"
    }
   ],
   "source": [
    "g2.isReachable(3,1)"
   ]
  },
  {
   "cell_type": "code",
   "execution_count": 19,
   "metadata": {},
   "outputs": [
    {
     "data": {
      "text/plain": [
       "True"
      ]
     },
     "execution_count": 19,
     "metadata": {},
     "output_type": "execute_result"
    }
   ],
   "source": [
    "g2.isReachable(1,3)"
   ]
  },
  {
   "cell_type": "markdown",
   "metadata": {},
   "source": [
    "# minimal tree"
   ]
  },
  {
   "cell_type": "code",
   "execution_count": null,
   "metadata": {},
   "outputs": [],
   "source": []
  },
  {
   "cell_type": "code",
   "execution_count": 20,
   "metadata": {},
   "outputs": [],
   "source": [
    " sorted_array = [1, 2, 3, 4, 5, 6, 7, 8, 9]"
   ]
  },
  {
   "cell_type": "code",
   "execution_count": 21,
   "metadata": {},
   "outputs": [],
   "source": [
    "def minimalTree(array):\n",
    "    if len(array)==0:\n",
    "        return None\n",
    "    middle=len(array)//2\n",
    "    left=minimalTree(array[:middle])\n",
    "    right=minimalTree(array[(middle+1):])\n",
    "    \n",
    "    return Node(array[middle],left,right)"
   ]
  },
  {
   "cell_type": "code",
   "execution_count": 22,
   "metadata": {},
   "outputs": [],
   "source": [
    "resultado=minimalTree(sorted_array)"
   ]
  },
  {
   "cell_type": "code",
   "execution_count": 23,
   "metadata": {},
   "outputs": [
    {
     "data": {
      "text/plain": [
       "[1, 2, 3, 4, 5, 6, 7, 8, 9]"
      ]
     },
     "execution_count": 23,
     "metadata": {},
     "output_type": "execute_result"
    }
   ],
   "source": [
    "nodos=[]\n",
    "inOrder(resultado,nodos)"
   ]
  },
  {
   "cell_type": "code",
   "execution_count": 24,
   "metadata": {},
   "outputs": [
    {
     "data": {
      "text/plain": [
       "[5, 3, 2, 1, 4, 8, 7, 6, 9]"
      ]
     },
     "execution_count": 24,
     "metadata": {},
     "output_type": "execute_result"
    }
   ],
   "source": [
    "nodos=[]\n",
    "preOrder(resultado,nodos)"
   ]
  },
  {
   "cell_type": "code",
   "execution_count": 25,
   "metadata": {},
   "outputs": [
    {
     "data": {
      "text/plain": [
       "[1, 2, 4, 3, 6, 7, 9, 8, 5]"
      ]
     },
     "execution_count": 25,
     "metadata": {},
     "output_type": "execute_result"
    }
   ],
   "source": [
    "nodos=[]\n",
    "postOrder(resultado,nodos)"
   ]
  },
  {
   "cell_type": "code",
   "execution_count": 26,
   "metadata": {},
   "outputs": [
    {
     "data": {
      "text/plain": [
       "9"
      ]
     },
     "execution_count": 26,
     "metadata": {},
     "output_type": "execute_result"
    }
   ],
   "source": [
    "resultado.right.right.value"
   ]
  },
  {
   "cell_type": "markdown",
   "metadata": {},
   "source": [
    "## solucion recursiva O(N log N)"
   ]
  },
  {
   "cell_type": "markdown",
   "metadata": {},
   "source": [
    "# Lists of depth"
   ]
  },
  {
   "cell_type": "code",
   "execution_count": 27,
   "metadata": {},
   "outputs": [],
   "source": [
    "node_h = Node('H')\n",
    "node_g = Node('G')\n",
    "node_f = Node('F')\n",
    "node_e = Node('E', node_g) #node g left\n",
    "node_d = Node('D', node_h) #node h left\n",
    "node_c = Node('C', None, node_f) # node right\n",
    "node_b = Node('B', node_d, node_e)\n",
    "node_a = Node('A', node_b, node_c)\n",
    "\n",
    "\n",
    "\n",
    "#lists = list_of_depths(node_a)"
   ]
  },
  {
   "cell_type": "code",
   "execution_count": 28,
   "metadata": {},
   "outputs": [],
   "source": [
    "class ListNode(object):\n",
    "    def __init__(self,value=None,next=None):\n",
    "        self.value=value\n",
    "        self.next=next"
   ]
  },
  {
   "cell_type": "code",
   "execution_count": 29,
   "metadata": {},
   "outputs": [],
   "source": [
    "# find the level of node in a tree\n",
    "def height(node):\n",
    "    if node is None:\n",
    "        return 0\n",
    "    else :\n",
    "        # Compute the height of each subtree \n",
    "        lheight = height(node.left)\n",
    "        rheight = height(node.right)\n",
    " \n",
    "        #Use the larger one\n",
    "        if lheight > rheight :\n",
    "            return lheight+1\n",
    "        else:\n",
    "            return rheight+1\n",
    "        "
   ]
  },
  {
   "cell_type": "code",
   "execution_count": 30,
   "metadata": {},
   "outputs": [],
   "source": [
    "#convert a list to a linked list\n",
    "def listToLinkedList(array):\n",
    "    if len(array)==1:\n",
    "        return ListNode(array[0])\n",
    "    else:\n",
    "        return ListNode(array[0],listToLinkedList(array[1:]))"
   ]
  },
  {
   "cell_type": "code",
   "execution_count": 31,
   "metadata": {},
   "outputs": [],
   "source": [
    "# convert a list of lists in a list of linked lists\n",
    "def matriz2LL(array):\n",
    "    result=[]\n",
    "    for i in range(len(array)):\n",
    "        result.append(listToLinkedList(array[i]))\n",
    "    return result"
   ]
  },
  {
   "cell_type": "code",
   "execution_count": 32,
   "metadata": {},
   "outputs": [],
   "source": [
    "# create a list of the nodes in a tree were every list is a level in the tree, then convert this list into a linked list\n",
    "def levelOrder(root):\n",
    "    result = []\n",
    "    if not root:\n",
    "        return result\n",
    "    curr_level = [root]\n",
    "    while curr_level:\n",
    "        level_result = []\n",
    "        next_level = []\n",
    "        for temp in curr_level:\n",
    "            level_result.append(temp.value)\n",
    "            if temp.left:\n",
    "                next_level.append(temp.left)\n",
    "            if temp.right:\n",
    "                next_level.append(temp.right)\n",
    "        result.append(level_result)\n",
    "        curr_level = next_level\n",
    "    return matriz2LL(result)"
   ]
  },
  {
   "cell_type": "markdown",
   "metadata": {},
   "source": [
    "def levelOrder(root):\n",
    "    result = []\n",
    "    if not root:\n",
    "        return result\n",
    "    curr_level = [root]\n",
    "    while curr_level:\n",
    "        level_result = []\n",
    "        next_level = []\n",
    "        for temp in curr_level:\n",
    "            level_result.append(temp.value)\n",
    "            if temp.left:\n",
    "                next_level.append(temp.left)\n",
    "            if temp.right:\n",
    "                next_level.append(temp.right)\n",
    "        result.append(level_result)\n",
    "        curr_level = next_level\n",
    "    return result"
   ]
  },
  {
   "cell_type": "markdown",
   "metadata": {},
   "source": [
    "lista=levelOrder(node_a)\n",
    "lista"
   ]
  },
  {
   "cell_type": "code",
   "execution_count": 33,
   "metadata": {},
   "outputs": [],
   "source": [
    "p=levelOrder(node_a)"
   ]
  },
  {
   "cell_type": "code",
   "execution_count": 34,
   "metadata": {},
   "outputs": [
    {
     "data": {
      "text/plain": [
       "'C'"
      ]
     },
     "execution_count": 34,
     "metadata": {},
     "output_type": "execute_result"
    }
   ],
   "source": [
    "p[1].next.value"
   ]
  },
  {
   "cell_type": "markdown",
   "metadata": {},
   "source": [
    "in time I'm not sure O(n) but in memory is O(n) at least"
   ]
  },
  {
   "cell_type": "markdown",
   "metadata": {},
   "source": [
    "### Bonus expression Tree"
   ]
  },
  {
   "cell_type": "code",
   "execution_count": 35,
   "metadata": {},
   "outputs": [],
   "source": [
    "node7=Node(9)\n",
    "node6=Node(5)\n",
    "node5=Node(2)\n",
    "node4=Node('+',node6,node7)\n",
    "node3=Node('*',node4,node5)\n",
    "node2=Node(3)\n",
    "node1=Node('+',node2,node3)\n",
    "\n"
   ]
  },
  {
   "cell_type": "code",
   "execution_count": 36,
   "metadata": {},
   "outputs": [],
   "source": [
    "def inOrderRL(root,array):\n",
    "    if root and root.right:\n",
    "        inOrderRL(root.right,array)\n",
    "    array.append(root.value)\n",
    "    if root and root.left:\n",
    "        inOrderRL(root.left,array)\n",
    "    return array"
   ]
  },
  {
   "cell_type": "code",
   "execution_count": 37,
   "metadata": {},
   "outputs": [],
   "source": [
    "def preOrderRL(root,array):\n",
    "    array.append(root.value)\n",
    "\n",
    "    if root and root.right:\n",
    "        preOrderRL(root.right,array)\n",
    "    if root and root.left:\n",
    "        preOrderRL(root.left,array)\n",
    "    return array"
   ]
  },
  {
   "cell_type": "code",
   "execution_count": 38,
   "metadata": {},
   "outputs": [],
   "source": [
    "def postOrderRL(root,array):\n",
    "\n",
    "    if root and root.right:\n",
    "        postOrderRL(root.right,array)\n",
    "    if root and root.left:\n",
    "        postOrderRL(root.left,array)\n",
    "    array.append(root.value)\n",
    "\n",
    "    return array"
   ]
  },
  {
   "cell_type": "code",
   "execution_count": 39,
   "metadata": {},
   "outputs": [
    {
     "data": {
      "text/plain": [
       "[2, '*', 9, '+', 5, '+', 3]"
      ]
     },
     "execution_count": 39,
     "metadata": {},
     "output_type": "execute_result"
    }
   ],
   "source": [
    "nodos=[]\n",
    "inOrderRL(node1,nodos)"
   ]
  },
  {
   "cell_type": "code",
   "execution_count": 40,
   "metadata": {},
   "outputs": [
    {
     "data": {
      "text/plain": [
       "[3, '+', 5, '+', 9, '*', 2]"
      ]
     },
     "execution_count": 40,
     "metadata": {},
     "output_type": "execute_result"
    }
   ],
   "source": [
    "nodos=[]\n",
    "inOrder(node1,nodos)"
   ]
  },
  {
   "cell_type": "code",
   "execution_count": 41,
   "metadata": {},
   "outputs": [
    {
     "data": {
      "text/plain": [
       "['+', 3, '*', '+', 5, 9, 2]"
      ]
     },
     "execution_count": 41,
     "metadata": {},
     "output_type": "execute_result"
    }
   ],
   "source": [
    "nodos=[]\n",
    "preOrder(node1,nodos)"
   ]
  },
  {
   "cell_type": "code",
   "execution_count": 42,
   "metadata": {},
   "outputs": [
    {
     "data": {
      "text/plain": [
       "['+', '*', 2, '+', 9, 5, 3]"
      ]
     },
     "execution_count": 42,
     "metadata": {},
     "output_type": "execute_result"
    }
   ],
   "source": [
    "nodos=[]\n",
    "preOrderRL(node1,nodos)"
   ]
  },
  {
   "cell_type": "code",
   "execution_count": 43,
   "metadata": {},
   "outputs": [
    {
     "data": {
      "text/plain": [
       "[3, 5, 9, '+', 2, '*', '+']"
      ]
     },
     "execution_count": 43,
     "metadata": {},
     "output_type": "execute_result"
    }
   ],
   "source": [
    "nodos=[]\n",
    "postOrder(node1,nodos)"
   ]
  },
  {
   "cell_type": "code",
   "execution_count": 44,
   "metadata": {},
   "outputs": [
    {
     "data": {
      "text/plain": [
       "[2, 9, 5, '+', '*', 3, '+']"
      ]
     },
     "execution_count": 44,
     "metadata": {},
     "output_type": "execute_result"
    }
   ],
   "source": [
    "nodos=[]\n",
    "postOrderRL(node1,nodos)"
   ]
  },
  {
   "cell_type": "code",
   "execution_count": 45,
   "metadata": {},
   "outputs": [],
   "source": [
    "def expressionArray(root):\n",
    "    nodos=[]\n",
    "    nodos=inOrderRL(root,nodos)\n",
    "    \n",
    "    for i in range(len(nodos)):\n",
    "        if nodos[i]==\"+\":\n",
    "            temp=nodos[i-1]+nodos[i+1]\n",
    "            nodos[i+1]=temp\n",
    "        elif nodos[i]==\"*\":\n",
    "            temp=nodos[i-1]*nodos[i+1]\n",
    "            nodos[i+1]=temp\n",
    "    return nodos[-1]"
   ]
  },
  {
   "cell_type": "code",
   "execution_count": 46,
   "metadata": {},
   "outputs": [
    {
     "data": {
      "text/plain": [
       "26"
      ]
     },
     "execution_count": 46,
     "metadata": {},
     "output_type": "execute_result"
    }
   ],
   "source": [
    "expressionArray(node1)"
   ]
  },
  {
   "cell_type": "code",
   "execution_count": 47,
   "metadata": {},
   "outputs": [],
   "source": [
    "nodos=[]\n",
    "operacion=inOrder(node1,nodos)"
   ]
  },
  {
   "cell_type": "code",
   "execution_count": 48,
   "metadata": {},
   "outputs": [
    {
     "name": "stdout",
     "output_type": "stream",
     "text": [
      "3\n",
      "+\n",
      "5\n",
      "+\n",
      "9\n",
      "*\n",
      "2\n"
     ]
    }
   ],
   "source": [
    "for j in operacion:\n",
    "    print(j)"
   ]
  },
  {
   "cell_type": "code",
   "execution_count": 49,
   "metadata": {},
   "outputs": [],
   "source": [
    "def evaluateExpressionTree(root):\n",
    " \n",
    "    # empty tree\n",
    "    if root is None:\n",
    "        return 0\n",
    " \n",
    "    # leaf node si solo es es un simple nodo\n",
    "    if root.left is None and root.right is None:\n",
    "        return int(root.value)\n",
    " \n",
    "    # recorrer el arbol post order\n",
    "    # evaluate left tree\n",
    "    print('izquierda',root.value)\n",
    "    left_sum = evaluateExpressionTree(root.left)\n",
    "    print('left',left_sum)\n",
    "    # evaluate right tree\n",
    "    print('derecha',root.value)\n",
    "    right_sum = evaluateExpressionTree(root.right)\n",
    "    print('right',right_sum)\n",
    "    # check which operation to apply\n",
    "    if root.value == '+':\n",
    "        return left_sum + right_sum\n",
    "     \n",
    "    elif root.value == '-':\n",
    "        return left_sum - right_sum\n",
    "     \n",
    "    elif root.value == '*':\n",
    "        return left_sum * right_sum\n",
    "     \n",
    "    else:\n",
    "        return left_sum / right_sum"
   ]
  },
  {
   "cell_type": "code",
   "execution_count": 50,
   "metadata": {},
   "outputs": [
    {
     "name": "stdout",
     "output_type": "stream",
     "text": [
      "izquierda +\n",
      "left 3\n",
      "derecha +\n",
      "izquierda *\n",
      "izquierda +\n",
      "left 5\n",
      "derecha +\n",
      "right 9\n",
      "left 14\n",
      "derecha *\n",
      "right 2\n",
      "right 28\n"
     ]
    },
    {
     "data": {
      "text/plain": [
       "31"
      ]
     },
     "execution_count": 50,
     "metadata": {},
     "output_type": "execute_result"
    }
   ],
   "source": [
    "evaluateExpressionTree(node1)"
   ]
  },
  {
   "cell_type": "markdown",
   "metadata": {},
   "source": [
    "\n",
    "la version correcta es O(n)"
   ]
  },
  {
   "cell_type": "markdown",
   "metadata": {},
   "source": [
    "# Check balanced\n"
   ]
  },
  {
   "cell_type": "code",
   "execution_count": 51,
   "metadata": {},
   "outputs": [],
   "source": [
    "def diffheight(node):\n",
    "    if node is None:\n",
    "        return 0\n",
    "    else :\n",
    "        # Compute the height of each subtree \n",
    "        lheight = height(node.left)\n",
    "        rheight = height(node.right)\n",
    " \n",
    "       # medir las alturas de cada rama y restarlas\n",
    "        temp=abs(lheight - rheight)\n",
    "        print(temp)\n",
    "        if temp<=1 :\n",
    "            return True\n",
    "       \n",
    "        else:\n",
    "            return False"
   ]
  },
  {
   "cell_type": "code",
   "execution_count": 52,
   "metadata": {},
   "outputs": [
    {
     "name": "stdout",
     "output_type": "stream",
     "text": [
      "2\n"
     ]
    },
    {
     "data": {
      "text/plain": [
       "False"
      ]
     },
     "execution_count": 52,
     "metadata": {},
     "output_type": "execute_result"
    }
   ],
   "source": [
    "diffheight(node1)"
   ]
  },
  {
   "cell_type": "code",
   "execution_count": null,
   "metadata": {},
   "outputs": [],
   "source": []
  },
  {
   "cell_type": "code",
   "execution_count": 53,
   "metadata": {},
   "outputs": [],
   "source": [
    "no5=Node('E')\n",
    "no4=Node('D',no5)\n",
    "no3=Node('C',no4)\n",
    "no2=Node('B')\n",
    "no1=Node('A',no2,no3)"
   ]
  },
  {
   "cell_type": "code",
   "execution_count": 54,
   "metadata": {},
   "outputs": [
    {
     "name": "stdout",
     "output_type": "stream",
     "text": [
      "2\n"
     ]
    },
    {
     "data": {
      "text/plain": [
       "False"
      ]
     },
     "execution_count": 54,
     "metadata": {},
     "output_type": "execute_result"
    }
   ],
   "source": [
    "diffheight(no1)"
   ]
  },
  {
   "cell_type": "code",
   "execution_count": 55,
   "metadata": {},
   "outputs": [],
   "source": [
    "\n",
    "no4=Node('D',)\n",
    "no3=Node('C',no4)\n",
    "no2=Node('B')\n",
    "no1=Node('A',no2,no3)"
   ]
  },
  {
   "cell_type": "code",
   "execution_count": 56,
   "metadata": {},
   "outputs": [
    {
     "name": "stdout",
     "output_type": "stream",
     "text": [
      "1\n"
     ]
    },
    {
     "data": {
      "text/plain": [
       "True"
      ]
     },
     "execution_count": 56,
     "metadata": {},
     "output_type": "execute_result"
    }
   ],
   "source": [
    "diffheight(no1)"
   ]
  },
  {
   "cell_type": "markdown",
   "metadata": {},
   "source": [
    "run time O(n) memoria O(height)"
   ]
  },
  {
   "cell_type": "markdown",
   "metadata": {},
   "source": [
    "# Validate BST"
   ]
  },
  {
   "cell_type": "markdown",
   "metadata": {},
   "source": [
    "## solucion 1"
   ]
  },
  {
   "cell_type": "code",
   "execution_count": 57,
   "metadata": {},
   "outputs": [],
   "source": [
    "n1=Node(3)\n",
    "n2=Node(7)\n",
    "n3=Node(5,n1,n2)\n",
    "n4=Node(17)\n",
    "n5=Node(15,None,n4)\n",
    "n6=Node(10,n3,n5)\n",
    "n7=Node(30)\n",
    "n8=Node(20,n6,n7)"
   ]
  },
  {
   "cell_type": "code",
   "execution_count": 58,
   "metadata": {},
   "outputs": [],
   "source": [
    "# recorre in order el arbol, compara el nodo anterior con el actual, recordando que va recorriendo in order,\n",
    "def checkBST1(root,last_printed=0):\n",
    "    if root is None:\n",
    "        return True\n",
    "    \n",
    "    if not(checkBST1(root.left,last_printed)):\n",
    "        return False\n",
    "    if last_printed!=None and root.value<=last_printed:\n",
    "        return False\n",
    "    last_printed=root.value\n",
    "    \n",
    "    if not(checkBST1(root.right,last_printed)):\n",
    "        return False\n",
    "    \n",
    "    return True"
   ]
  },
  {
   "cell_type": "code",
   "execution_count": 59,
   "metadata": {},
   "outputs": [
    {
     "data": {
      "text/plain": [
       "True"
      ]
     },
     "execution_count": 59,
     "metadata": {},
     "output_type": "execute_result"
    }
   ],
   "source": [
    "\n",
    "\n",
    "checkBST1(n8)"
   ]
  },
  {
   "cell_type": "markdown",
   "metadata": {},
   "source": [
    "## best Solution on book"
   ]
  },
  {
   "cell_type": "code",
   "execution_count": 60,
   "metadata": {},
   "outputs": [],
   "source": [
    "def checkBST2(root):\n",
    "    return BSTHelper(root,None,None)"
   ]
  },
  {
   "cell_type": "code",
   "execution_count": 61,
   "metadata": {},
   "outputs": [],
   "source": [
    "def BSTHelper(root,minimo,maximo):\n",
    "    if root is None:\n",
    "        return True\n",
    "    \n",
    "    if (minimo is not None and root.value<=minimo) or (maximo is not None and root.value>maximo):\n",
    "        return False\n",
    "    \n",
    "    if not(BSTHelper(root.left,minimo,root.value)) :\n",
    "        return False\n",
    "    \n",
    "    if not(BSTHelper(root.right,root.value,maximo)):\n",
    "        return False\n",
    "    \n",
    "    return True"
   ]
  },
  {
   "cell_type": "code",
   "execution_count": 62,
   "metadata": {},
   "outputs": [
    {
     "data": {
      "text/plain": [
       "True"
      ]
     },
     "execution_count": 62,
     "metadata": {},
     "output_type": "execute_result"
    }
   ],
   "source": [
    "checkBST2(n8)"
   ]
  },
  {
   "cell_type": "markdown",
   "metadata": {},
   "source": [
    "## run time O(n) and memory O(log N)"
   ]
  },
  {
   "cell_type": "markdown",
   "metadata": {},
   "source": [
    "# Successor"
   ]
  },
  {
   "cell_type": "markdown",
   "metadata": {},
   "source": [
    "para resolver este caso debemos agregar una propiedad mas a los nodos, una que permita retroceder osea encontrar el padre de cada hoja y nodo si lo tiene"
   ]
  },
  {
   "cell_type": "code",
   "execution_count": 63,
   "metadata": {},
   "outputs": [],
   "source": [
    "class BinaryNode(object):\n",
    "    def __init__(self,value,left=None,right=None,parent=None):\n",
    "        self.value=value\n",
    "        self.left=left\n",
    "        if self.left is not None:\n",
    "            self.left.parent=self\n",
    "        self.right=right\n",
    "        if self.right is not None:\n",
    "            self.right.parent=self\n",
    "        self.parent=parent\n",
    "        "
   ]
  },
  {
   "cell_type": "code",
   "execution_count": 64,
   "metadata": {},
   "outputs": [],
   "source": [
    "def succesorNode(root):\n",
    "    # si el arbol es None regresar None\n",
    "    if root is None:\n",
    "        return None\n",
    "    # si la rama de la derecha no es nula\n",
    "    if root.right is not None:\n",
    "        # como buscamos el sucesor primero revisamos la rama derecha\n",
    "        return leftMostChild(root.right)\n",
    "    else:\n",
    "        # es como fast and slow, para avanzar pero teniendo siempre su nodo padre\n",
    "        q=root\n",
    "        x=q.parent\n",
    "        \n",
    "        while (x is not None and x.left is not q):\n",
    "            q=x\n",
    "            x=x.parent\n",
    "        return x"
   ]
  },
  {
   "cell_type": "code",
   "execution_count": 65,
   "metadata": {},
   "outputs": [],
   "source": [
    "def leftMostChild(root):\n",
    "    # revisar si el nodo es None\n",
    "    if root is None:\n",
    "        return None\n",
    "    # mover hacia la izquierda de los elementos de la derecha\n",
    "    while root.left:\n",
    "        root=root.left\n",
    "        \n",
    "    return root"
   ]
  },
  {
   "cell_type": "code",
   "execution_count": 66,
   "metadata": {},
   "outputs": [],
   "source": [
    "binarySearchTree = BinaryNode(10,BinaryNode(4,BinaryNode(3)), BinaryNode(16,BinaryNode(12, BinaryNode(11),BinaryNode(13,None,BinaryNode(14)))))\n"
   ]
  },
  {
   "cell_type": "code",
   "execution_count": 67,
   "metadata": {},
   "outputs": [],
   "source": [
    "successor = succesorNode(binarySearchTree)"
   ]
  },
  {
   "cell_type": "code",
   "execution_count": 68,
   "metadata": {},
   "outputs": [
    {
     "data": {
      "text/plain": [
       "11"
      ]
     },
     "execution_count": 68,
     "metadata": {},
     "output_type": "execute_result"
    }
   ],
   "source": [
    "successor.value"
   ]
  },
  {
   "cell_type": "markdown",
   "metadata": {},
   "source": [
    "la raiz es 10 por lo tanto su sucesor a la derecha de este arbol deberia de ser el 11, (busca los elementos que sigan de 10)"
   ]
  },
  {
   "cell_type": "markdown",
   "metadata": {},
   "source": [
    "# Build Order"
   ]
  },
  {
   "cell_type": "code",
   "execution_count": 69,
   "metadata": {},
   "outputs": [],
   "source": [
    "## pendiente porque es de grafos"
   ]
  },
  {
   "cell_type": "markdown",
   "metadata": {},
   "source": [
    "# First Common Ancestor"
   ]
  },
  {
   "cell_type": "code",
   "execution_count": 70,
   "metadata": {},
   "outputs": [],
   "source": [
    "nodoo1=Node(3)\n",
    "nodoo2=Node(7)\n",
    "nodoo3=Node(17)\n",
    "\n",
    "# level\n",
    "nodoo4=Node(5,nodoo1,nodoo2)\n",
    "nodoo5=Node(15,None,nodoo3)\n",
    "#\n",
    "nodoo6=Node(10,nodoo4,nodoo5)\n",
    "nodoo7=Node(30)\n",
    "\n",
    "# root\n",
    "nodoo8=Node(20,nodoo6,nodoo7)\n",
    "\n"
   ]
  },
  {
   "cell_type": "code",
   "execution_count": 71,
   "metadata": {},
   "outputs": [],
   "source": [
    "nd1=Node(8)\n",
    "nd2=Node(5,None,nd1)\n",
    "nd3=Node(1)\n",
    "nd4=Node(3,nd3,nd2)"
   ]
  },
  {
   "cell_type": "code",
   "execution_count": 72,
   "metadata": {},
   "outputs": [],
   "source": [
    "def covers(root,node):\n",
    "    if not root or not node:\n",
    "        return False\n",
    "    if root is node:\n",
    "        return True\n",
    "    return covers(root.left,node) or covers(root.right,node)"
   ]
  },
  {
   "cell_type": "code",
   "execution_count": 73,
   "metadata": {},
   "outputs": [],
   "source": [
    "# solution based on GitHub\n",
    "def firstCommonAncestor(root,node1,node2):\n",
    "    # revisa que no contenta elementos nulos\n",
    "    if not root or not node1 or not node2:\n",
    "        return None\n",
    "    # revisa que los nodos se encuentren en el arbol\n",
    "    elif not covers(root,node1) or not covers(root,node2):\n",
    "        return None\n",
    "    current=root\n",
    "    \n",
    "    while current:\n",
    "        # revisa si el elemento se encuentra a la izquierda de cada nodo\n",
    "        node1_left=covers(current.left,node1)\n",
    "        node2_left=covers(current.left,node2)\n",
    "        \n",
    "        # si se encuentra a la izquierda, y tmabien lo encontro pero no es el mismo elemento, el comun ancestro es el elemento actual\n",
    "        if node1_left is not node2_left:\n",
    "            return current\n",
    "        # si se encontro el nodo a la izquierda del arbol nos movemos a la izquierda\n",
    "        if node1_left:\n",
    "            current=current.left\n",
    "        # si el nodo no esta la izquierda nos movemos a la derecha\n",
    "        else:\n",
    "            current=current.right"
   ]
  },
  {
   "cell_type": "code",
   "execution_count": 74,
   "metadata": {},
   "outputs": [],
   "source": [
    "firstCommonAncestor(nd4,nd2,nd1)"
   ]
  },
  {
   "cell_type": "code",
   "execution_count": null,
   "metadata": {},
   "outputs": [],
   "source": []
  },
  {
   "cell_type": "code",
   "execution_count": 75,
   "metadata": {},
   "outputs": [],
   "source": [
    "resultado=firstCommonAncestor(nodoo8, nodoo2,nodoo3)"
   ]
  },
  {
   "cell_type": "code",
   "execution_count": 76,
   "metadata": {},
   "outputs": [
    {
     "data": {
      "text/plain": [
       "10"
      ]
     },
     "execution_count": 76,
     "metadata": {},
     "output_type": "execute_result"
    }
   ],
   "source": [
    "resultado.value"
   ]
  },
  {
   "cell_type": "markdown",
   "metadata": {},
   "source": [
    "#### O( n) O (log n)"
   ]
  },
  {
   "cell_type": "code",
   "execution_count": null,
   "metadata": {},
   "outputs": [],
   "source": []
  },
  {
   "cell_type": "markdown",
   "metadata": {},
   "source": [
    "# BST Sequences"
   ]
  },
  {
   "cell_type": "code",
   "execution_count": 77,
   "metadata": {},
   "outputs": [],
   "source": [
    "arbol1=Node(5)\n",
    "arbol2=Node(15)\n",
    "arbol3=Node(65)\n",
    "arbol4=Node(80)\n",
    "####\n",
    "arbol5=Node(10,arbol1,arbol2)\n",
    "arbol6=Node(25)\n",
    "arbol7=Node(70,arbol3,arbol4)\n",
    "####\n",
    "arbol8=Node(20,arbol5,arbol6)\n",
    "arbol9=Node(60,None,arbol7)\n",
    "#####\n",
    "arbol10=Node(50,arbol8,arbol9)"
   ]
  },
  {
   "cell_type": "code",
   "execution_count": 78,
   "metadata": {},
   "outputs": [
    {
     "data": {
      "text/plain": [
       "[5, 10, 15, 20, 25, 50, 60, 65, 70, 80]"
      ]
     },
     "execution_count": 78,
     "metadata": {},
     "output_type": "execute_result"
    }
   ],
   "source": [
    "inO=inOrder(arbol10,[])\n",
    "inO"
   ]
  },
  {
   "cell_type": "code",
   "execution_count": 79,
   "metadata": {},
   "outputs": [
    {
     "data": {
      "text/plain": [
       "[50, 20, 10, 5, 15, 25, 60, 70, 65, 80]"
      ]
     },
     "execution_count": 79,
     "metadata": {},
     "output_type": "execute_result"
    }
   ],
   "source": [
    "preOrder(arbol10,[])"
   ]
  },
  {
   "cell_type": "code",
   "execution_count": 80,
   "metadata": {},
   "outputs": [
    {
     "data": {
      "text/plain": [
       "[5, 15, 10, 25, 20, 65, 80, 70, 60, 50]"
      ]
     },
     "execution_count": 80,
     "metadata": {},
     "output_type": "execute_result"
    }
   ],
   "source": [
    "postOrder(arbol10,[])"
   ]
  },
  {
   "cell_type": "code",
   "execution_count": 81,
   "metadata": {},
   "outputs": [],
   "source": [
    "# dada la secuencia del arreglo, encontrar sus combinaciones validas para crear el bst\n",
    "def bst_sequence_mix(leftSource, rightSources):\n",
    "    # recibe el lado izquierdo y derecho del arbol\n",
    "    # si el lado izquierdo no tiene nada regresa solo el lado derecho\n",
    "    if leftSource is None or len(leftSource) == 0:\n",
    "        return rightSources\n",
    "    \n",
    "    sources = []\n",
    "    #solo busca el primer elemento para anexar el elemento izquierdo\n",
    "    for rightSource in rightSources:\n",
    "        if len(rightSource) == 0:\n",
    "            sources.append(leftSource)\n",
    "            continue\n",
    "            # ya unidos en un solo vector hara combinaciones de estos elementos\n",
    "        for i in range(0, len(leftSource) + 1):\n",
    "            prefix = leftSource[0:i] + [rightSource[0]]\n",
    "            # print('prefix: {0}'.format(prefix))\n",
    "            suffices = bst_sequence_mix(leftSource[i:], [rightSource[1:]])\n",
    "            # print('suffices: {0}'.format(suffices))\n",
    "\n",
    "            for suffix in suffices:\n",
    "                sources.append(prefix + suffix)\n",
    "\n",
    "    return sources\n"
   ]
  },
  {
   "cell_type": "code",
   "execution_count": 82,
   "metadata": {},
   "outputs": [],
   "source": [
    "def get_sequence_arrays(root):\n",
    "    # si no hay nodo regresar matriz vacia\n",
    "    if root is None:\n",
    "        return [[]]\n",
    "    \n",
    "    # funcion recursiva traversal por el orden esto es postorder\n",
    "    left_sources = get_sequence_arrays(root.left)\n",
    "    right_sources = get_sequence_arrays(root.right)\n",
    "    # inicializa un vector o lista\n",
    "    sources = []\n",
    "    \n",
    "    # recorre el lado izquierdo eleemento a elemento\n",
    "    for leftSource in left_sources:\n",
    "        # entrega cada combinacion y la agrega a la matriz\n",
    "        for source in bst_sequence_mix(leftSource, right_sources):\n",
    "            sources.append([root.value] + source)\n",
    "\n",
    "    return sources\n",
    "\n"
   ]
  },
  {
   "cell_type": "code",
   "execution_count": 83,
   "metadata": {},
   "outputs": [
    {
     "data": {
      "text/plain": [
       "[[50, 60, 70, 80, 65, 20, 25, 10, 15, 5],\n",
       " [50, 60, 70, 80, 20, 65, 25, 10, 15, 5],\n",
       " [50, 60, 70, 80, 20, 25, 65, 10, 15, 5],\n",
       " [50, 60, 70, 80, 20, 25, 10, 65, 15, 5],\n",
       " [50, 60, 70, 80, 20, 25, 10, 15, 65, 5],\n",
       " [50, 60, 70, 80, 20, 25, 10, 15, 5, 65],\n",
       " [50, 60, 70, 20, 80, 65, 25, 10, 15, 5],\n",
       " [50, 60, 70, 20, 80, 25, 65, 10, 15, 5],\n",
       " [50, 60, 70, 20, 80, 25, 10, 65, 15, 5],\n",
       " [50, 60, 70, 20, 80, 25, 10, 15, 65, 5],\n",
       " [50, 60, 70, 20, 80, 25, 10, 15, 5, 65],\n",
       " [50, 60, 70, 20, 25, 80, 65, 10, 15, 5],\n",
       " [50, 60, 70, 20, 25, 80, 10, 65, 15, 5],\n",
       " [50, 60, 70, 20, 25, 80, 10, 15, 65, 5],\n",
       " [50, 60, 70, 20, 25, 80, 10, 15, 5, 65],\n",
       " [50, 60, 70, 20, 25, 10, 80, 65, 15, 5],\n",
       " [50, 60, 70, 20, 25, 10, 80, 15, 65, 5],\n",
       " [50, 60, 70, 20, 25, 10, 80, 15, 5, 65],\n",
       " [50, 60, 70, 20, 25, 10, 15, 80, 65, 5],\n",
       " [50, 60, 70, 20, 25, 10, 15, 80, 5, 65],\n",
       " [50, 60, 70, 20, 25, 10, 15, 5, 80, 65],\n",
       " [50, 60, 20, 70, 80, 65, 25, 10, 15, 5],\n",
       " [50, 60, 20, 70, 80, 25, 65, 10, 15, 5],\n",
       " [50, 60, 20, 70, 80, 25, 10, 65, 15, 5],\n",
       " [50, 60, 20, 70, 80, 25, 10, 15, 65, 5],\n",
       " [50, 60, 20, 70, 80, 25, 10, 15, 5, 65],\n",
       " [50, 60, 20, 70, 25, 80, 65, 10, 15, 5],\n",
       " [50, 60, 20, 70, 25, 80, 10, 65, 15, 5],\n",
       " [50, 60, 20, 70, 25, 80, 10, 15, 65, 5],\n",
       " [50, 60, 20, 70, 25, 80, 10, 15, 5, 65],\n",
       " [50, 60, 20, 70, 25, 10, 80, 65, 15, 5],\n",
       " [50, 60, 20, 70, 25, 10, 80, 15, 65, 5],\n",
       " [50, 60, 20, 70, 25, 10, 80, 15, 5, 65],\n",
       " [50, 60, 20, 70, 25, 10, 15, 80, 65, 5],\n",
       " [50, 60, 20, 70, 25, 10, 15, 80, 5, 65],\n",
       " [50, 60, 20, 70, 25, 10, 15, 5, 80, 65],\n",
       " [50, 60, 20, 25, 70, 80, 65, 10, 15, 5],\n",
       " [50, 60, 20, 25, 70, 80, 10, 65, 15, 5],\n",
       " [50, 60, 20, 25, 70, 80, 10, 15, 65, 5],\n",
       " [50, 60, 20, 25, 70, 80, 10, 15, 5, 65],\n",
       " [50, 60, 20, 25, 70, 10, 80, 65, 15, 5],\n",
       " [50, 60, 20, 25, 70, 10, 80, 15, 65, 5],\n",
       " [50, 60, 20, 25, 70, 10, 80, 15, 5, 65],\n",
       " [50, 60, 20, 25, 70, 10, 15, 80, 65, 5],\n",
       " [50, 60, 20, 25, 70, 10, 15, 80, 5, 65],\n",
       " [50, 60, 20, 25, 70, 10, 15, 5, 80, 65],\n",
       " [50, 60, 20, 25, 10, 70, 80, 65, 15, 5],\n",
       " [50, 60, 20, 25, 10, 70, 80, 15, 65, 5],\n",
       " [50, 60, 20, 25, 10, 70, 80, 15, 5, 65],\n",
       " [50, 60, 20, 25, 10, 70, 15, 80, 65, 5],\n",
       " [50, 60, 20, 25, 10, 70, 15, 80, 5, 65],\n",
       " [50, 60, 20, 25, 10, 70, 15, 5, 80, 65],\n",
       " [50, 60, 20, 25, 10, 15, 70, 80, 65, 5],\n",
       " [50, 60, 20, 25, 10, 15, 70, 80, 5, 65],\n",
       " [50, 60, 20, 25, 10, 15, 70, 5, 80, 65],\n",
       " [50, 60, 20, 25, 10, 15, 5, 70, 80, 65],\n",
       " [50, 20, 60, 70, 80, 65, 25, 10, 15, 5],\n",
       " [50, 20, 60, 70, 80, 25, 65, 10, 15, 5],\n",
       " [50, 20, 60, 70, 80, 25, 10, 65, 15, 5],\n",
       " [50, 20, 60, 70, 80, 25, 10, 15, 65, 5],\n",
       " [50, 20, 60, 70, 80, 25, 10, 15, 5, 65],\n",
       " [50, 20, 60, 70, 25, 80, 65, 10, 15, 5],\n",
       " [50, 20, 60, 70, 25, 80, 10, 65, 15, 5],\n",
       " [50, 20, 60, 70, 25, 80, 10, 15, 65, 5],\n",
       " [50, 20, 60, 70, 25, 80, 10, 15, 5, 65],\n",
       " [50, 20, 60, 70, 25, 10, 80, 65, 15, 5],\n",
       " [50, 20, 60, 70, 25, 10, 80, 15, 65, 5],\n",
       " [50, 20, 60, 70, 25, 10, 80, 15, 5, 65],\n",
       " [50, 20, 60, 70, 25, 10, 15, 80, 65, 5],\n",
       " [50, 20, 60, 70, 25, 10, 15, 80, 5, 65],\n",
       " [50, 20, 60, 70, 25, 10, 15, 5, 80, 65],\n",
       " [50, 20, 60, 25, 70, 80, 65, 10, 15, 5],\n",
       " [50, 20, 60, 25, 70, 80, 10, 65, 15, 5],\n",
       " [50, 20, 60, 25, 70, 80, 10, 15, 65, 5],\n",
       " [50, 20, 60, 25, 70, 80, 10, 15, 5, 65],\n",
       " [50, 20, 60, 25, 70, 10, 80, 65, 15, 5],\n",
       " [50, 20, 60, 25, 70, 10, 80, 15, 65, 5],\n",
       " [50, 20, 60, 25, 70, 10, 80, 15, 5, 65],\n",
       " [50, 20, 60, 25, 70, 10, 15, 80, 65, 5],\n",
       " [50, 20, 60, 25, 70, 10, 15, 80, 5, 65],\n",
       " [50, 20, 60, 25, 70, 10, 15, 5, 80, 65],\n",
       " [50, 20, 60, 25, 10, 70, 80, 65, 15, 5],\n",
       " [50, 20, 60, 25, 10, 70, 80, 15, 65, 5],\n",
       " [50, 20, 60, 25, 10, 70, 80, 15, 5, 65],\n",
       " [50, 20, 60, 25, 10, 70, 15, 80, 65, 5],\n",
       " [50, 20, 60, 25, 10, 70, 15, 80, 5, 65],\n",
       " [50, 20, 60, 25, 10, 70, 15, 5, 80, 65],\n",
       " [50, 20, 60, 25, 10, 15, 70, 80, 65, 5],\n",
       " [50, 20, 60, 25, 10, 15, 70, 80, 5, 65],\n",
       " [50, 20, 60, 25, 10, 15, 70, 5, 80, 65],\n",
       " [50, 20, 60, 25, 10, 15, 5, 70, 80, 65],\n",
       " [50, 20, 25, 60, 70, 80, 65, 10, 15, 5],\n",
       " [50, 20, 25, 60, 70, 80, 10, 65, 15, 5],\n",
       " [50, 20, 25, 60, 70, 80, 10, 15, 65, 5],\n",
       " [50, 20, 25, 60, 70, 80, 10, 15, 5, 65],\n",
       " [50, 20, 25, 60, 70, 10, 80, 65, 15, 5],\n",
       " [50, 20, 25, 60, 70, 10, 80, 15, 65, 5],\n",
       " [50, 20, 25, 60, 70, 10, 80, 15, 5, 65],\n",
       " [50, 20, 25, 60, 70, 10, 15, 80, 65, 5],\n",
       " [50, 20, 25, 60, 70, 10, 15, 80, 5, 65],\n",
       " [50, 20, 25, 60, 70, 10, 15, 5, 80, 65],\n",
       " [50, 20, 25, 60, 10, 70, 80, 65, 15, 5],\n",
       " [50, 20, 25, 60, 10, 70, 80, 15, 65, 5],\n",
       " [50, 20, 25, 60, 10, 70, 80, 15, 5, 65],\n",
       " [50, 20, 25, 60, 10, 70, 15, 80, 65, 5],\n",
       " [50, 20, 25, 60, 10, 70, 15, 80, 5, 65],\n",
       " [50, 20, 25, 60, 10, 70, 15, 5, 80, 65],\n",
       " [50, 20, 25, 60, 10, 15, 70, 80, 65, 5],\n",
       " [50, 20, 25, 60, 10, 15, 70, 80, 5, 65],\n",
       " [50, 20, 25, 60, 10, 15, 70, 5, 80, 65],\n",
       " [50, 20, 25, 60, 10, 15, 5, 70, 80, 65],\n",
       " [50, 20, 25, 10, 60, 70, 80, 65, 15, 5],\n",
       " [50, 20, 25, 10, 60, 70, 80, 15, 65, 5],\n",
       " [50, 20, 25, 10, 60, 70, 80, 15, 5, 65],\n",
       " [50, 20, 25, 10, 60, 70, 15, 80, 65, 5],\n",
       " [50, 20, 25, 10, 60, 70, 15, 80, 5, 65],\n",
       " [50, 20, 25, 10, 60, 70, 15, 5, 80, 65],\n",
       " [50, 20, 25, 10, 60, 15, 70, 80, 65, 5],\n",
       " [50, 20, 25, 10, 60, 15, 70, 80, 5, 65],\n",
       " [50, 20, 25, 10, 60, 15, 70, 5, 80, 65],\n",
       " [50, 20, 25, 10, 60, 15, 5, 70, 80, 65],\n",
       " [50, 20, 25, 10, 15, 60, 70, 80, 65, 5],\n",
       " [50, 20, 25, 10, 15, 60, 70, 80, 5, 65],\n",
       " [50, 20, 25, 10, 15, 60, 70, 5, 80, 65],\n",
       " [50, 20, 25, 10, 15, 60, 5, 70, 80, 65],\n",
       " [50, 20, 25, 10, 15, 5, 60, 70, 80, 65],\n",
       " [50, 60, 70, 65, 80, 20, 25, 10, 15, 5],\n",
       " [50, 60, 70, 65, 20, 80, 25, 10, 15, 5],\n",
       " [50, 60, 70, 65, 20, 25, 80, 10, 15, 5],\n",
       " [50, 60, 70, 65, 20, 25, 10, 80, 15, 5],\n",
       " [50, 60, 70, 65, 20, 25, 10, 15, 80, 5],\n",
       " [50, 60, 70, 65, 20, 25, 10, 15, 5, 80],\n",
       " [50, 60, 70, 20, 65, 80, 25, 10, 15, 5],\n",
       " [50, 60, 70, 20, 65, 25, 80, 10, 15, 5],\n",
       " [50, 60, 70, 20, 65, 25, 10, 80, 15, 5],\n",
       " [50, 60, 70, 20, 65, 25, 10, 15, 80, 5],\n",
       " [50, 60, 70, 20, 65, 25, 10, 15, 5, 80],\n",
       " [50, 60, 70, 20, 25, 65, 80, 10, 15, 5],\n",
       " [50, 60, 70, 20, 25, 65, 10, 80, 15, 5],\n",
       " [50, 60, 70, 20, 25, 65, 10, 15, 80, 5],\n",
       " [50, 60, 70, 20, 25, 65, 10, 15, 5, 80],\n",
       " [50, 60, 70, 20, 25, 10, 65, 80, 15, 5],\n",
       " [50, 60, 70, 20, 25, 10, 65, 15, 80, 5],\n",
       " [50, 60, 70, 20, 25, 10, 65, 15, 5, 80],\n",
       " [50, 60, 70, 20, 25, 10, 15, 65, 80, 5],\n",
       " [50, 60, 70, 20, 25, 10, 15, 65, 5, 80],\n",
       " [50, 60, 70, 20, 25, 10, 15, 5, 65, 80],\n",
       " [50, 60, 20, 70, 65, 80, 25, 10, 15, 5],\n",
       " [50, 60, 20, 70, 65, 25, 80, 10, 15, 5],\n",
       " [50, 60, 20, 70, 65, 25, 10, 80, 15, 5],\n",
       " [50, 60, 20, 70, 65, 25, 10, 15, 80, 5],\n",
       " [50, 60, 20, 70, 65, 25, 10, 15, 5, 80],\n",
       " [50, 60, 20, 70, 25, 65, 80, 10, 15, 5],\n",
       " [50, 60, 20, 70, 25, 65, 10, 80, 15, 5],\n",
       " [50, 60, 20, 70, 25, 65, 10, 15, 80, 5],\n",
       " [50, 60, 20, 70, 25, 65, 10, 15, 5, 80],\n",
       " [50, 60, 20, 70, 25, 10, 65, 80, 15, 5],\n",
       " [50, 60, 20, 70, 25, 10, 65, 15, 80, 5],\n",
       " [50, 60, 20, 70, 25, 10, 65, 15, 5, 80],\n",
       " [50, 60, 20, 70, 25, 10, 15, 65, 80, 5],\n",
       " [50, 60, 20, 70, 25, 10, 15, 65, 5, 80],\n",
       " [50, 60, 20, 70, 25, 10, 15, 5, 65, 80],\n",
       " [50, 60, 20, 25, 70, 65, 80, 10, 15, 5],\n",
       " [50, 60, 20, 25, 70, 65, 10, 80, 15, 5],\n",
       " [50, 60, 20, 25, 70, 65, 10, 15, 80, 5],\n",
       " [50, 60, 20, 25, 70, 65, 10, 15, 5, 80],\n",
       " [50, 60, 20, 25, 70, 10, 65, 80, 15, 5],\n",
       " [50, 60, 20, 25, 70, 10, 65, 15, 80, 5],\n",
       " [50, 60, 20, 25, 70, 10, 65, 15, 5, 80],\n",
       " [50, 60, 20, 25, 70, 10, 15, 65, 80, 5],\n",
       " [50, 60, 20, 25, 70, 10, 15, 65, 5, 80],\n",
       " [50, 60, 20, 25, 70, 10, 15, 5, 65, 80],\n",
       " [50, 60, 20, 25, 10, 70, 65, 80, 15, 5],\n",
       " [50, 60, 20, 25, 10, 70, 65, 15, 80, 5],\n",
       " [50, 60, 20, 25, 10, 70, 65, 15, 5, 80],\n",
       " [50, 60, 20, 25, 10, 70, 15, 65, 80, 5],\n",
       " [50, 60, 20, 25, 10, 70, 15, 65, 5, 80],\n",
       " [50, 60, 20, 25, 10, 70, 15, 5, 65, 80],\n",
       " [50, 60, 20, 25, 10, 15, 70, 65, 80, 5],\n",
       " [50, 60, 20, 25, 10, 15, 70, 65, 5, 80],\n",
       " [50, 60, 20, 25, 10, 15, 70, 5, 65, 80],\n",
       " [50, 60, 20, 25, 10, 15, 5, 70, 65, 80],\n",
       " [50, 20, 60, 70, 65, 80, 25, 10, 15, 5],\n",
       " [50, 20, 60, 70, 65, 25, 80, 10, 15, 5],\n",
       " [50, 20, 60, 70, 65, 25, 10, 80, 15, 5],\n",
       " [50, 20, 60, 70, 65, 25, 10, 15, 80, 5],\n",
       " [50, 20, 60, 70, 65, 25, 10, 15, 5, 80],\n",
       " [50, 20, 60, 70, 25, 65, 80, 10, 15, 5],\n",
       " [50, 20, 60, 70, 25, 65, 10, 80, 15, 5],\n",
       " [50, 20, 60, 70, 25, 65, 10, 15, 80, 5],\n",
       " [50, 20, 60, 70, 25, 65, 10, 15, 5, 80],\n",
       " [50, 20, 60, 70, 25, 10, 65, 80, 15, 5],\n",
       " [50, 20, 60, 70, 25, 10, 65, 15, 80, 5],\n",
       " [50, 20, 60, 70, 25, 10, 65, 15, 5, 80],\n",
       " [50, 20, 60, 70, 25, 10, 15, 65, 80, 5],\n",
       " [50, 20, 60, 70, 25, 10, 15, 65, 5, 80],\n",
       " [50, 20, 60, 70, 25, 10, 15, 5, 65, 80],\n",
       " [50, 20, 60, 25, 70, 65, 80, 10, 15, 5],\n",
       " [50, 20, 60, 25, 70, 65, 10, 80, 15, 5],\n",
       " [50, 20, 60, 25, 70, 65, 10, 15, 80, 5],\n",
       " [50, 20, 60, 25, 70, 65, 10, 15, 5, 80],\n",
       " [50, 20, 60, 25, 70, 10, 65, 80, 15, 5],\n",
       " [50, 20, 60, 25, 70, 10, 65, 15, 80, 5],\n",
       " [50, 20, 60, 25, 70, 10, 65, 15, 5, 80],\n",
       " [50, 20, 60, 25, 70, 10, 15, 65, 80, 5],\n",
       " [50, 20, 60, 25, 70, 10, 15, 65, 5, 80],\n",
       " [50, 20, 60, 25, 70, 10, 15, 5, 65, 80],\n",
       " [50, 20, 60, 25, 10, 70, 65, 80, 15, 5],\n",
       " [50, 20, 60, 25, 10, 70, 65, 15, 80, 5],\n",
       " [50, 20, 60, 25, 10, 70, 65, 15, 5, 80],\n",
       " [50, 20, 60, 25, 10, 70, 15, 65, 80, 5],\n",
       " [50, 20, 60, 25, 10, 70, 15, 65, 5, 80],\n",
       " [50, 20, 60, 25, 10, 70, 15, 5, 65, 80],\n",
       " [50, 20, 60, 25, 10, 15, 70, 65, 80, 5],\n",
       " [50, 20, 60, 25, 10, 15, 70, 65, 5, 80],\n",
       " [50, 20, 60, 25, 10, 15, 70, 5, 65, 80],\n",
       " [50, 20, 60, 25, 10, 15, 5, 70, 65, 80],\n",
       " [50, 20, 25, 60, 70, 65, 80, 10, 15, 5],\n",
       " [50, 20, 25, 60, 70, 65, 10, 80, 15, 5],\n",
       " [50, 20, 25, 60, 70, 65, 10, 15, 80, 5],\n",
       " [50, 20, 25, 60, 70, 65, 10, 15, 5, 80],\n",
       " [50, 20, 25, 60, 70, 10, 65, 80, 15, 5],\n",
       " [50, 20, 25, 60, 70, 10, 65, 15, 80, 5],\n",
       " [50, 20, 25, 60, 70, 10, 65, 15, 5, 80],\n",
       " [50, 20, 25, 60, 70, 10, 15, 65, 80, 5],\n",
       " [50, 20, 25, 60, 70, 10, 15, 65, 5, 80],\n",
       " [50, 20, 25, 60, 70, 10, 15, 5, 65, 80],\n",
       " [50, 20, 25, 60, 10, 70, 65, 80, 15, 5],\n",
       " [50, 20, 25, 60, 10, 70, 65, 15, 80, 5],\n",
       " [50, 20, 25, 60, 10, 70, 65, 15, 5, 80],\n",
       " [50, 20, 25, 60, 10, 70, 15, 65, 80, 5],\n",
       " [50, 20, 25, 60, 10, 70, 15, 65, 5, 80],\n",
       " [50, 20, 25, 60, 10, 70, 15, 5, 65, 80],\n",
       " [50, 20, 25, 60, 10, 15, 70, 65, 80, 5],\n",
       " [50, 20, 25, 60, 10, 15, 70, 65, 5, 80],\n",
       " [50, 20, 25, 60, 10, 15, 70, 5, 65, 80],\n",
       " [50, 20, 25, 60, 10, 15, 5, 70, 65, 80],\n",
       " [50, 20, 25, 10, 60, 70, 65, 80, 15, 5],\n",
       " [50, 20, 25, 10, 60, 70, 65, 15, 80, 5],\n",
       " [50, 20, 25, 10, 60, 70, 65, 15, 5, 80],\n",
       " [50, 20, 25, 10, 60, 70, 15, 65, 80, 5],\n",
       " [50, 20, 25, 10, 60, 70, 15, 65, 5, 80],\n",
       " [50, 20, 25, 10, 60, 70, 15, 5, 65, 80],\n",
       " [50, 20, 25, 10, 60, 15, 70, 65, 80, 5],\n",
       " [50, 20, 25, 10, 60, 15, 70, 65, 5, 80],\n",
       " [50, 20, 25, 10, 60, 15, 70, 5, 65, 80],\n",
       " [50, 20, 25, 10, 60, 15, 5, 70, 65, 80],\n",
       " [50, 20, 25, 10, 15, 60, 70, 65, 80, 5],\n",
       " [50, 20, 25, 10, 15, 60, 70, 65, 5, 80],\n",
       " [50, 20, 25, 10, 15, 60, 70, 5, 65, 80],\n",
       " [50, 20, 25, 10, 15, 60, 5, 70, 65, 80],\n",
       " [50, 20, 25, 10, 15, 5, 60, 70, 65, 80],\n",
       " [50, 60, 70, 80, 65, 20, 10, 25, 15, 5],\n",
       " [50, 60, 70, 80, 20, 65, 10, 25, 15, 5],\n",
       " [50, 60, 70, 80, 20, 10, 65, 25, 15, 5],\n",
       " [50, 60, 70, 80, 20, 10, 25, 65, 15, 5],\n",
       " [50, 60, 70, 80, 20, 10, 25, 15, 65, 5],\n",
       " [50, 60, 70, 80, 20, 10, 25, 15, 5, 65],\n",
       " [50, 60, 70, 20, 80, 65, 10, 25, 15, 5],\n",
       " [50, 60, 70, 20, 80, 10, 65, 25, 15, 5],\n",
       " [50, 60, 70, 20, 80, 10, 25, 65, 15, 5],\n",
       " [50, 60, 70, 20, 80, 10, 25, 15, 65, 5],\n",
       " [50, 60, 70, 20, 80, 10, 25, 15, 5, 65],\n",
       " [50, 60, 70, 20, 10, 80, 65, 25, 15, 5],\n",
       " [50, 60, 70, 20, 10, 80, 25, 65, 15, 5],\n",
       " [50, 60, 70, 20, 10, 80, 25, 15, 65, 5],\n",
       " [50, 60, 70, 20, 10, 80, 25, 15, 5, 65],\n",
       " [50, 60, 70, 20, 10, 25, 80, 65, 15, 5],\n",
       " [50, 60, 70, 20, 10, 25, 80, 15, 65, 5],\n",
       " [50, 60, 70, 20, 10, 25, 80, 15, 5, 65],\n",
       " [50, 60, 70, 20, 10, 25, 15, 80, 65, 5],\n",
       " [50, 60, 70, 20, 10, 25, 15, 80, 5, 65],\n",
       " [50, 60, 70, 20, 10, 25, 15, 5, 80, 65],\n",
       " [50, 60, 20, 70, 80, 65, 10, 25, 15, 5],\n",
       " [50, 60, 20, 70, 80, 10, 65, 25, 15, 5],\n",
       " [50, 60, 20, 70, 80, 10, 25, 65, 15, 5],\n",
       " [50, 60, 20, 70, 80, 10, 25, 15, 65, 5],\n",
       " [50, 60, 20, 70, 80, 10, 25, 15, 5, 65],\n",
       " [50, 60, 20, 70, 10, 80, 65, 25, 15, 5],\n",
       " [50, 60, 20, 70, 10, 80, 25, 65, 15, 5],\n",
       " [50, 60, 20, 70, 10, 80, 25, 15, 65, 5],\n",
       " [50, 60, 20, 70, 10, 80, 25, 15, 5, 65],\n",
       " [50, 60, 20, 70, 10, 25, 80, 65, 15, 5],\n",
       " [50, 60, 20, 70, 10, 25, 80, 15, 65, 5],\n",
       " [50, 60, 20, 70, 10, 25, 80, 15, 5, 65],\n",
       " [50, 60, 20, 70, 10, 25, 15, 80, 65, 5],\n",
       " [50, 60, 20, 70, 10, 25, 15, 80, 5, 65],\n",
       " [50, 60, 20, 70, 10, 25, 15, 5, 80, 65],\n",
       " [50, 60, 20, 10, 70, 80, 65, 25, 15, 5],\n",
       " [50, 60, 20, 10, 70, 80, 25, 65, 15, 5],\n",
       " [50, 60, 20, 10, 70, 80, 25, 15, 65, 5],\n",
       " [50, 60, 20, 10, 70, 80, 25, 15, 5, 65],\n",
       " [50, 60, 20, 10, 70, 25, 80, 65, 15, 5],\n",
       " [50, 60, 20, 10, 70, 25, 80, 15, 65, 5],\n",
       " [50, 60, 20, 10, 70, 25, 80, 15, 5, 65],\n",
       " [50, 60, 20, 10, 70, 25, 15, 80, 65, 5],\n",
       " [50, 60, 20, 10, 70, 25, 15, 80, 5, 65],\n",
       " [50, 60, 20, 10, 70, 25, 15, 5, 80, 65],\n",
       " [50, 60, 20, 10, 25, 70, 80, 65, 15, 5],\n",
       " [50, 60, 20, 10, 25, 70, 80, 15, 65, 5],\n",
       " [50, 60, 20, 10, 25, 70, 80, 15, 5, 65],\n",
       " [50, 60, 20, 10, 25, 70, 15, 80, 65, 5],\n",
       " [50, 60, 20, 10, 25, 70, 15, 80, 5, 65],\n",
       " [50, 60, 20, 10, 25, 70, 15, 5, 80, 65],\n",
       " [50, 60, 20, 10, 25, 15, 70, 80, 65, 5],\n",
       " [50, 60, 20, 10, 25, 15, 70, 80, 5, 65],\n",
       " [50, 60, 20, 10, 25, 15, 70, 5, 80, 65],\n",
       " [50, 60, 20, 10, 25, 15, 5, 70, 80, 65],\n",
       " [50, 20, 60, 70, 80, 65, 10, 25, 15, 5],\n",
       " [50, 20, 60, 70, 80, 10, 65, 25, 15, 5],\n",
       " [50, 20, 60, 70, 80, 10, 25, 65, 15, 5],\n",
       " [50, 20, 60, 70, 80, 10, 25, 15, 65, 5],\n",
       " [50, 20, 60, 70, 80, 10, 25, 15, 5, 65],\n",
       " [50, 20, 60, 70, 10, 80, 65, 25, 15, 5],\n",
       " [50, 20, 60, 70, 10, 80, 25, 65, 15, 5],\n",
       " [50, 20, 60, 70, 10, 80, 25, 15, 65, 5],\n",
       " [50, 20, 60, 70, 10, 80, 25, 15, 5, 65],\n",
       " [50, 20, 60, 70, 10, 25, 80, 65, 15, 5],\n",
       " [50, 20, 60, 70, 10, 25, 80, 15, 65, 5],\n",
       " [50, 20, 60, 70, 10, 25, 80, 15, 5, 65],\n",
       " [50, 20, 60, 70, 10, 25, 15, 80, 65, 5],\n",
       " [50, 20, 60, 70, 10, 25, 15, 80, 5, 65],\n",
       " [50, 20, 60, 70, 10, 25, 15, 5, 80, 65],\n",
       " [50, 20, 60, 10, 70, 80, 65, 25, 15, 5],\n",
       " [50, 20, 60, 10, 70, 80, 25, 65, 15, 5],\n",
       " [50, 20, 60, 10, 70, 80, 25, 15, 65, 5],\n",
       " [50, 20, 60, 10, 70, 80, 25, 15, 5, 65],\n",
       " [50, 20, 60, 10, 70, 25, 80, 65, 15, 5],\n",
       " [50, 20, 60, 10, 70, 25, 80, 15, 65, 5],\n",
       " [50, 20, 60, 10, 70, 25, 80, 15, 5, 65],\n",
       " [50, 20, 60, 10, 70, 25, 15, 80, 65, 5],\n",
       " [50, 20, 60, 10, 70, 25, 15, 80, 5, 65],\n",
       " [50, 20, 60, 10, 70, 25, 15, 5, 80, 65],\n",
       " [50, 20, 60, 10, 25, 70, 80, 65, 15, 5],\n",
       " [50, 20, 60, 10, 25, 70, 80, 15, 65, 5],\n",
       " [50, 20, 60, 10, 25, 70, 80, 15, 5, 65],\n",
       " [50, 20, 60, 10, 25, 70, 15, 80, 65, 5],\n",
       " [50, 20, 60, 10, 25, 70, 15, 80, 5, 65],\n",
       " [50, 20, 60, 10, 25, 70, 15, 5, 80, 65],\n",
       " [50, 20, 60, 10, 25, 15, 70, 80, 65, 5],\n",
       " [50, 20, 60, 10, 25, 15, 70, 80, 5, 65],\n",
       " [50, 20, 60, 10, 25, 15, 70, 5, 80, 65],\n",
       " [50, 20, 60, 10, 25, 15, 5, 70, 80, 65],\n",
       " [50, 20, 10, 60, 70, 80, 65, 25, 15, 5],\n",
       " [50, 20, 10, 60, 70, 80, 25, 65, 15, 5],\n",
       " [50, 20, 10, 60, 70, 80, 25, 15, 65, 5],\n",
       " [50, 20, 10, 60, 70, 80, 25, 15, 5, 65],\n",
       " [50, 20, 10, 60, 70, 25, 80, 65, 15, 5],\n",
       " [50, 20, 10, 60, 70, 25, 80, 15, 65, 5],\n",
       " [50, 20, 10, 60, 70, 25, 80, 15, 5, 65],\n",
       " [50, 20, 10, 60, 70, 25, 15, 80, 65, 5],\n",
       " [50, 20, 10, 60, 70, 25, 15, 80, 5, 65],\n",
       " [50, 20, 10, 60, 70, 25, 15, 5, 80, 65],\n",
       " [50, 20, 10, 60, 25, 70, 80, 65, 15, 5],\n",
       " [50, 20, 10, 60, 25, 70, 80, 15, 65, 5],\n",
       " [50, 20, 10, 60, 25, 70, 80, 15, 5, 65],\n",
       " [50, 20, 10, 60, 25, 70, 15, 80, 65, 5],\n",
       " [50, 20, 10, 60, 25, 70, 15, 80, 5, 65],\n",
       " [50, 20, 10, 60, 25, 70, 15, 5, 80, 65],\n",
       " [50, 20, 10, 60, 25, 15, 70, 80, 65, 5],\n",
       " [50, 20, 10, 60, 25, 15, 70, 80, 5, 65],\n",
       " [50, 20, 10, 60, 25, 15, 70, 5, 80, 65],\n",
       " [50, 20, 10, 60, 25, 15, 5, 70, 80, 65],\n",
       " [50, 20, 10, 25, 60, 70, 80, 65, 15, 5],\n",
       " [50, 20, 10, 25, 60, 70, 80, 15, 65, 5],\n",
       " [50, 20, 10, 25, 60, 70, 80, 15, 5, 65],\n",
       " [50, 20, 10, 25, 60, 70, 15, 80, 65, 5],\n",
       " [50, 20, 10, 25, 60, 70, 15, 80, 5, 65],\n",
       " [50, 20, 10, 25, 60, 70, 15, 5, 80, 65],\n",
       " [50, 20, 10, 25, 60, 15, 70, 80, 65, 5],\n",
       " [50, 20, 10, 25, 60, 15, 70, 80, 5, 65],\n",
       " [50, 20, 10, 25, 60, 15, 70, 5, 80, 65],\n",
       " [50, 20, 10, 25, 60, 15, 5, 70, 80, 65],\n",
       " [50, 20, 10, 25, 15, 60, 70, 80, 65, 5],\n",
       " [50, 20, 10, 25, 15, 60, 70, 80, 5, 65],\n",
       " [50, 20, 10, 25, 15, 60, 70, 5, 80, 65],\n",
       " [50, 20, 10, 25, 15, 60, 5, 70, 80, 65],\n",
       " [50, 20, 10, 25, 15, 5, 60, 70, 80, 65],\n",
       " [50, 60, 70, 65, 80, 20, 10, 25, 15, 5],\n",
       " [50, 60, 70, 65, 20, 80, 10, 25, 15, 5],\n",
       " [50, 60, 70, 65, 20, 10, 80, 25, 15, 5],\n",
       " [50, 60, 70, 65, 20, 10, 25, 80, 15, 5],\n",
       " [50, 60, 70, 65, 20, 10, 25, 15, 80, 5],\n",
       " [50, 60, 70, 65, 20, 10, 25, 15, 5, 80],\n",
       " [50, 60, 70, 20, 65, 80, 10, 25, 15, 5],\n",
       " [50, 60, 70, 20, 65, 10, 80, 25, 15, 5],\n",
       " [50, 60, 70, 20, 65, 10, 25, 80, 15, 5],\n",
       " [50, 60, 70, 20, 65, 10, 25, 15, 80, 5],\n",
       " [50, 60, 70, 20, 65, 10, 25, 15, 5, 80],\n",
       " [50, 60, 70, 20, 10, 65, 80, 25, 15, 5],\n",
       " [50, 60, 70, 20, 10, 65, 25, 80, 15, 5],\n",
       " [50, 60, 70, 20, 10, 65, 25, 15, 80, 5],\n",
       " [50, 60, 70, 20, 10, 65, 25, 15, 5, 80],\n",
       " [50, 60, 70, 20, 10, 25, 65, 80, 15, 5],\n",
       " [50, 60, 70, 20, 10, 25, 65, 15, 80, 5],\n",
       " [50, 60, 70, 20, 10, 25, 65, 15, 5, 80],\n",
       " [50, 60, 70, 20, 10, 25, 15, 65, 80, 5],\n",
       " [50, 60, 70, 20, 10, 25, 15, 65, 5, 80],\n",
       " [50, 60, 70, 20, 10, 25, 15, 5, 65, 80],\n",
       " [50, 60, 20, 70, 65, 80, 10, 25, 15, 5],\n",
       " [50, 60, 20, 70, 65, 10, 80, 25, 15, 5],\n",
       " [50, 60, 20, 70, 65, 10, 25, 80, 15, 5],\n",
       " [50, 60, 20, 70, 65, 10, 25, 15, 80, 5],\n",
       " [50, 60, 20, 70, 65, 10, 25, 15, 5, 80],\n",
       " [50, 60, 20, 70, 10, 65, 80, 25, 15, 5],\n",
       " [50, 60, 20, 70, 10, 65, 25, 80, 15, 5],\n",
       " [50, 60, 20, 70, 10, 65, 25, 15, 80, 5],\n",
       " [50, 60, 20, 70, 10, 65, 25, 15, 5, 80],\n",
       " [50, 60, 20, 70, 10, 25, 65, 80, 15, 5],\n",
       " [50, 60, 20, 70, 10, 25, 65, 15, 80, 5],\n",
       " [50, 60, 20, 70, 10, 25, 65, 15, 5, 80],\n",
       " [50, 60, 20, 70, 10, 25, 15, 65, 80, 5],\n",
       " [50, 60, 20, 70, 10, 25, 15, 65, 5, 80],\n",
       " [50, 60, 20, 70, 10, 25, 15, 5, 65, 80],\n",
       " [50, 60, 20, 10, 70, 65, 80, 25, 15, 5],\n",
       " [50, 60, 20, 10, 70, 65, 25, 80, 15, 5],\n",
       " [50, 60, 20, 10, 70, 65, 25, 15, 80, 5],\n",
       " [50, 60, 20, 10, 70, 65, 25, 15, 5, 80],\n",
       " [50, 60, 20, 10, 70, 25, 65, 80, 15, 5],\n",
       " [50, 60, 20, 10, 70, 25, 65, 15, 80, 5],\n",
       " [50, 60, 20, 10, 70, 25, 65, 15, 5, 80],\n",
       " [50, 60, 20, 10, 70, 25, 15, 65, 80, 5],\n",
       " [50, 60, 20, 10, 70, 25, 15, 65, 5, 80],\n",
       " [50, 60, 20, 10, 70, 25, 15, 5, 65, 80],\n",
       " [50, 60, 20, 10, 25, 70, 65, 80, 15, 5],\n",
       " [50, 60, 20, 10, 25, 70, 65, 15, 80, 5],\n",
       " [50, 60, 20, 10, 25, 70, 65, 15, 5, 80],\n",
       " [50, 60, 20, 10, 25, 70, 15, 65, 80, 5],\n",
       " [50, 60, 20, 10, 25, 70, 15, 65, 5, 80],\n",
       " [50, 60, 20, 10, 25, 70, 15, 5, 65, 80],\n",
       " [50, 60, 20, 10, 25, 15, 70, 65, 80, 5],\n",
       " [50, 60, 20, 10, 25, 15, 70, 65, 5, 80],\n",
       " [50, 60, 20, 10, 25, 15, 70, 5, 65, 80],\n",
       " [50, 60, 20, 10, 25, 15, 5, 70, 65, 80],\n",
       " [50, 20, 60, 70, 65, 80, 10, 25, 15, 5],\n",
       " [50, 20, 60, 70, 65, 10, 80, 25, 15, 5],\n",
       " [50, 20, 60, 70, 65, 10, 25, 80, 15, 5],\n",
       " [50, 20, 60, 70, 65, 10, 25, 15, 80, 5],\n",
       " [50, 20, 60, 70, 65, 10, 25, 15, 5, 80],\n",
       " [50, 20, 60, 70, 10, 65, 80, 25, 15, 5],\n",
       " [50, 20, 60, 70, 10, 65, 25, 80, 15, 5],\n",
       " [50, 20, 60, 70, 10, 65, 25, 15, 80, 5],\n",
       " [50, 20, 60, 70, 10, 65, 25, 15, 5, 80],\n",
       " [50, 20, 60, 70, 10, 25, 65, 80, 15, 5],\n",
       " [50, 20, 60, 70, 10, 25, 65, 15, 80, 5],\n",
       " [50, 20, 60, 70, 10, 25, 65, 15, 5, 80],\n",
       " [50, 20, 60, 70, 10, 25, 15, 65, 80, 5],\n",
       " [50, 20, 60, 70, 10, 25, 15, 65, 5, 80],\n",
       " [50, 20, 60, 70, 10, 25, 15, 5, 65, 80],\n",
       " [50, 20, 60, 10, 70, 65, 80, 25, 15, 5],\n",
       " [50, 20, 60, 10, 70, 65, 25, 80, 15, 5],\n",
       " [50, 20, 60, 10, 70, 65, 25, 15, 80, 5],\n",
       " [50, 20, 60, 10, 70, 65, 25, 15, 5, 80],\n",
       " [50, 20, 60, 10, 70, 25, 65, 80, 15, 5],\n",
       " [50, 20, 60, 10, 70, 25, 65, 15, 80, 5],\n",
       " [50, 20, 60, 10, 70, 25, 65, 15, 5, 80],\n",
       " [50, 20, 60, 10, 70, 25, 15, 65, 80, 5],\n",
       " [50, 20, 60, 10, 70, 25, 15, 65, 5, 80],\n",
       " [50, 20, 60, 10, 70, 25, 15, 5, 65, 80],\n",
       " [50, 20, 60, 10, 25, 70, 65, 80, 15, 5],\n",
       " [50, 20, 60, 10, 25, 70, 65, 15, 80, 5],\n",
       " [50, 20, 60, 10, 25, 70, 65, 15, 5, 80],\n",
       " [50, 20, 60, 10, 25, 70, 15, 65, 80, 5],\n",
       " [50, 20, 60, 10, 25, 70, 15, 65, 5, 80],\n",
       " [50, 20, 60, 10, 25, 70, 15, 5, 65, 80],\n",
       " [50, 20, 60, 10, 25, 15, 70, 65, 80, 5],\n",
       " [50, 20, 60, 10, 25, 15, 70, 65, 5, 80],\n",
       " [50, 20, 60, 10, 25, 15, 70, 5, 65, 80],\n",
       " [50, 20, 60, 10, 25, 15, 5, 70, 65, 80],\n",
       " [50, 20, 10, 60, 70, 65, 80, 25, 15, 5],\n",
       " [50, 20, 10, 60, 70, 65, 25, 80, 15, 5],\n",
       " [50, 20, 10, 60, 70, 65, 25, 15, 80, 5],\n",
       " [50, 20, 10, 60, 70, 65, 25, 15, 5, 80],\n",
       " [50, 20, 10, 60, 70, 25, 65, 80, 15, 5],\n",
       " [50, 20, 10, 60, 70, 25, 65, 15, 80, 5],\n",
       " [50, 20, 10, 60, 70, 25, 65, 15, 5, 80],\n",
       " [50, 20, 10, 60, 70, 25, 15, 65, 80, 5],\n",
       " [50, 20, 10, 60, 70, 25, 15, 65, 5, 80],\n",
       " [50, 20, 10, 60, 70, 25, 15, 5, 65, 80],\n",
       " [50, 20, 10, 60, 25, 70, 65, 80, 15, 5],\n",
       " [50, 20, 10, 60, 25, 70, 65, 15, 80, 5],\n",
       " [50, 20, 10, 60, 25, 70, 65, 15, 5, 80],\n",
       " [50, 20, 10, 60, 25, 70, 15, 65, 80, 5],\n",
       " [50, 20, 10, 60, 25, 70, 15, 65, 5, 80],\n",
       " [50, 20, 10, 60, 25, 70, 15, 5, 65, 80],\n",
       " [50, 20, 10, 60, 25, 15, 70, 65, 80, 5],\n",
       " [50, 20, 10, 60, 25, 15, 70, 65, 5, 80],\n",
       " [50, 20, 10, 60, 25, 15, 70, 5, 65, 80],\n",
       " [50, 20, 10, 60, 25, 15, 5, 70, 65, 80],\n",
       " [50, 20, 10, 25, 60, 70, 65, 80, 15, 5],\n",
       " [50, 20, 10, 25, 60, 70, 65, 15, 80, 5],\n",
       " [50, 20, 10, 25, 60, 70, 65, 15, 5, 80],\n",
       " [50, 20, 10, 25, 60, 70, 15, 65, 80, 5],\n",
       " [50, 20, 10, 25, 60, 70, 15, 65, 5, 80],\n",
       " [50, 20, 10, 25, 60, 70, 15, 5, 65, 80],\n",
       " [50, 20, 10, 25, 60, 15, 70, 65, 80, 5],\n",
       " [50, 20, 10, 25, 60, 15, 70, 65, 5, 80],\n",
       " [50, 20, 10, 25, 60, 15, 70, 5, 65, 80],\n",
       " [50, 20, 10, 25, 60, 15, 5, 70, 65, 80],\n",
       " [50, 20, 10, 25, 15, 60, 70, 65, 80, 5],\n",
       " [50, 20, 10, 25, 15, 60, 70, 65, 5, 80],\n",
       " [50, 20, 10, 25, 15, 60, 70, 5, 65, 80],\n",
       " [50, 20, 10, 25, 15, 60, 5, 70, 65, 80],\n",
       " [50, 20, 10, 25, 15, 5, 60, 70, 65, 80],\n",
       " [50, 60, 70, 80, 65, 20, 10, 15, 25, 5],\n",
       " [50, 60, 70, 80, 20, 65, 10, 15, 25, 5],\n",
       " [50, 60, 70, 80, 20, 10, 65, 15, 25, 5],\n",
       " [50, 60, 70, 80, 20, 10, 15, 65, 25, 5],\n",
       " [50, 60, 70, 80, 20, 10, 15, 25, 65, 5],\n",
       " [50, 60, 70, 80, 20, 10, 15, 25, 5, 65],\n",
       " [50, 60, 70, 20, 80, 65, 10, 15, 25, 5],\n",
       " [50, 60, 70, 20, 80, 10, 65, 15, 25, 5],\n",
       " [50, 60, 70, 20, 80, 10, 15, 65, 25, 5],\n",
       " [50, 60, 70, 20, 80, 10, 15, 25, 65, 5],\n",
       " [50, 60, 70, 20, 80, 10, 15, 25, 5, 65],\n",
       " [50, 60, 70, 20, 10, 80, 65, 15, 25, 5],\n",
       " [50, 60, 70, 20, 10, 80, 15, 65, 25, 5],\n",
       " [50, 60, 70, 20, 10, 80, 15, 25, 65, 5],\n",
       " [50, 60, 70, 20, 10, 80, 15, 25, 5, 65],\n",
       " [50, 60, 70, 20, 10, 15, 80, 65, 25, 5],\n",
       " [50, 60, 70, 20, 10, 15, 80, 25, 65, 5],\n",
       " [50, 60, 70, 20, 10, 15, 80, 25, 5, 65],\n",
       " [50, 60, 70, 20, 10, 15, 25, 80, 65, 5],\n",
       " [50, 60, 70, 20, 10, 15, 25, 80, 5, 65],\n",
       " [50, 60, 70, 20, 10, 15, 25, 5, 80, 65],\n",
       " [50, 60, 20, 70, 80, 65, 10, 15, 25, 5],\n",
       " [50, 60, 20, 70, 80, 10, 65, 15, 25, 5],\n",
       " [50, 60, 20, 70, 80, 10, 15, 65, 25, 5],\n",
       " [50, 60, 20, 70, 80, 10, 15, 25, 65, 5],\n",
       " [50, 60, 20, 70, 80, 10, 15, 25, 5, 65],\n",
       " [50, 60, 20, 70, 10, 80, 65, 15, 25, 5],\n",
       " [50, 60, 20, 70, 10, 80, 15, 65, 25, 5],\n",
       " [50, 60, 20, 70, 10, 80, 15, 25, 65, 5],\n",
       " [50, 60, 20, 70, 10, 80, 15, 25, 5, 65],\n",
       " [50, 60, 20, 70, 10, 15, 80, 65, 25, 5],\n",
       " [50, 60, 20, 70, 10, 15, 80, 25, 65, 5],\n",
       " [50, 60, 20, 70, 10, 15, 80, 25, 5, 65],\n",
       " [50, 60, 20, 70, 10, 15, 25, 80, 65, 5],\n",
       " [50, 60, 20, 70, 10, 15, 25, 80, 5, 65],\n",
       " [50, 60, 20, 70, 10, 15, 25, 5, 80, 65],\n",
       " [50, 60, 20, 10, 70, 80, 65, 15, 25, 5],\n",
       " [50, 60, 20, 10, 70, 80, 15, 65, 25, 5],\n",
       " [50, 60, 20, 10, 70, 80, 15, 25, 65, 5],\n",
       " [50, 60, 20, 10, 70, 80, 15, 25, 5, 65],\n",
       " [50, 60, 20, 10, 70, 15, 80, 65, 25, 5],\n",
       " [50, 60, 20, 10, 70, 15, 80, 25, 65, 5],\n",
       " [50, 60, 20, 10, 70, 15, 80, 25, 5, 65],\n",
       " [50, 60, 20, 10, 70, 15, 25, 80, 65, 5],\n",
       " [50, 60, 20, 10, 70, 15, 25, 80, 5, 65],\n",
       " [50, 60, 20, 10, 70, 15, 25, 5, 80, 65],\n",
       " [50, 60, 20, 10, 15, 70, 80, 65, 25, 5],\n",
       " [50, 60, 20, 10, 15, 70, 80, 25, 65, 5],\n",
       " [50, 60, 20, 10, 15, 70, 80, 25, 5, 65],\n",
       " [50, 60, 20, 10, 15, 70, 25, 80, 65, 5],\n",
       " [50, 60, 20, 10, 15, 70, 25, 80, 5, 65],\n",
       " [50, 60, 20, 10, 15, 70, 25, 5, 80, 65],\n",
       " [50, 60, 20, 10, 15, 25, 70, 80, 65, 5],\n",
       " [50, 60, 20, 10, 15, 25, 70, 80, 5, 65],\n",
       " [50, 60, 20, 10, 15, 25, 70, 5, 80, 65],\n",
       " [50, 60, 20, 10, 15, 25, 5, 70, 80, 65],\n",
       " [50, 20, 60, 70, 80, 65, 10, 15, 25, 5],\n",
       " [50, 20, 60, 70, 80, 10, 65, 15, 25, 5],\n",
       " [50, 20, 60, 70, 80, 10, 15, 65, 25, 5],\n",
       " [50, 20, 60, 70, 80, 10, 15, 25, 65, 5],\n",
       " [50, 20, 60, 70, 80, 10, 15, 25, 5, 65],\n",
       " [50, 20, 60, 70, 10, 80, 65, 15, 25, 5],\n",
       " [50, 20, 60, 70, 10, 80, 15, 65, 25, 5],\n",
       " [50, 20, 60, 70, 10, 80, 15, 25, 65, 5],\n",
       " [50, 20, 60, 70, 10, 80, 15, 25, 5, 65],\n",
       " [50, 20, 60, 70, 10, 15, 80, 65, 25, 5],\n",
       " [50, 20, 60, 70, 10, 15, 80, 25, 65, 5],\n",
       " [50, 20, 60, 70, 10, 15, 80, 25, 5, 65],\n",
       " [50, 20, 60, 70, 10, 15, 25, 80, 65, 5],\n",
       " [50, 20, 60, 70, 10, 15, 25, 80, 5, 65],\n",
       " [50, 20, 60, 70, 10, 15, 25, 5, 80, 65],\n",
       " [50, 20, 60, 10, 70, 80, 65, 15, 25, 5],\n",
       " [50, 20, 60, 10, 70, 80, 15, 65, 25, 5],\n",
       " [50, 20, 60, 10, 70, 80, 15, 25, 65, 5],\n",
       " [50, 20, 60, 10, 70, 80, 15, 25, 5, 65],\n",
       " [50, 20, 60, 10, 70, 15, 80, 65, 25, 5],\n",
       " [50, 20, 60, 10, 70, 15, 80, 25, 65, 5],\n",
       " [50, 20, 60, 10, 70, 15, 80, 25, 5, 65],\n",
       " [50, 20, 60, 10, 70, 15, 25, 80, 65, 5],\n",
       " [50, 20, 60, 10, 70, 15, 25, 80, 5, 65],\n",
       " [50, 20, 60, 10, 70, 15, 25, 5, 80, 65],\n",
       " [50, 20, 60, 10, 15, 70, 80, 65, 25, 5],\n",
       " [50, 20, 60, 10, 15, 70, 80, 25, 65, 5],\n",
       " [50, 20, 60, 10, 15, 70, 80, 25, 5, 65],\n",
       " [50, 20, 60, 10, 15, 70, 25, 80, 65, 5],\n",
       " [50, 20, 60, 10, 15, 70, 25, 80, 5, 65],\n",
       " [50, 20, 60, 10, 15, 70, 25, 5, 80, 65],\n",
       " [50, 20, 60, 10, 15, 25, 70, 80, 65, 5],\n",
       " [50, 20, 60, 10, 15, 25, 70, 80, 5, 65],\n",
       " [50, 20, 60, 10, 15, 25, 70, 5, 80, 65],\n",
       " [50, 20, 60, 10, 15, 25, 5, 70, 80, 65],\n",
       " [50, 20, 10, 60, 70, 80, 65, 15, 25, 5],\n",
       " [50, 20, 10, 60, 70, 80, 15, 65, 25, 5],\n",
       " [50, 20, 10, 60, 70, 80, 15, 25, 65, 5],\n",
       " [50, 20, 10, 60, 70, 80, 15, 25, 5, 65],\n",
       " [50, 20, 10, 60, 70, 15, 80, 65, 25, 5],\n",
       " [50, 20, 10, 60, 70, 15, 80, 25, 65, 5],\n",
       " [50, 20, 10, 60, 70, 15, 80, 25, 5, 65],\n",
       " [50, 20, 10, 60, 70, 15, 25, 80, 65, 5],\n",
       " [50, 20, 10, 60, 70, 15, 25, 80, 5, 65],\n",
       " [50, 20, 10, 60, 70, 15, 25, 5, 80, 65],\n",
       " [50, 20, 10, 60, 15, 70, 80, 65, 25, 5],\n",
       " [50, 20, 10, 60, 15, 70, 80, 25, 65, 5],\n",
       " [50, 20, 10, 60, 15, 70, 80, 25, 5, 65],\n",
       " [50, 20, 10, 60, 15, 70, 25, 80, 65, 5],\n",
       " [50, 20, 10, 60, 15, 70, 25, 80, 5, 65],\n",
       " [50, 20, 10, 60, 15, 70, 25, 5, 80, 65],\n",
       " [50, 20, 10, 60, 15, 25, 70, 80, 65, 5],\n",
       " [50, 20, 10, 60, 15, 25, 70, 80, 5, 65],\n",
       " [50, 20, 10, 60, 15, 25, 70, 5, 80, 65],\n",
       " [50, 20, 10, 60, 15, 25, 5, 70, 80, 65],\n",
       " [50, 20, 10, 15, 60, 70, 80, 65, 25, 5],\n",
       " [50, 20, 10, 15, 60, 70, 80, 25, 65, 5],\n",
       " [50, 20, 10, 15, 60, 70, 80, 25, 5, 65],\n",
       " [50, 20, 10, 15, 60, 70, 25, 80, 65, 5],\n",
       " [50, 20, 10, 15, 60, 70, 25, 80, 5, 65],\n",
       " [50, 20, 10, 15, 60, 70, 25, 5, 80, 65],\n",
       " [50, 20, 10, 15, 60, 25, 70, 80, 65, 5],\n",
       " [50, 20, 10, 15, 60, 25, 70, 80, 5, 65],\n",
       " [50, 20, 10, 15, 60, 25, 70, 5, 80, 65],\n",
       " [50, 20, 10, 15, 60, 25, 5, 70, 80, 65],\n",
       " [50, 20, 10, 15, 25, 60, 70, 80, 65, 5],\n",
       " [50, 20, 10, 15, 25, 60, 70, 80, 5, 65],\n",
       " [50, 20, 10, 15, 25, 60, 70, 5, 80, 65],\n",
       " [50, 20, 10, 15, 25, 60, 5, 70, 80, 65],\n",
       " [50, 20, 10, 15, 25, 5, 60, 70, 80, 65],\n",
       " [50, 60, 70, 65, 80, 20, 10, 15, 25, 5],\n",
       " [50, 60, 70, 65, 20, 80, 10, 15, 25, 5],\n",
       " [50, 60, 70, 65, 20, 10, 80, 15, 25, 5],\n",
       " [50, 60, 70, 65, 20, 10, 15, 80, 25, 5],\n",
       " [50, 60, 70, 65, 20, 10, 15, 25, 80, 5],\n",
       " [50, 60, 70, 65, 20, 10, 15, 25, 5, 80],\n",
       " [50, 60, 70, 20, 65, 80, 10, 15, 25, 5],\n",
       " [50, 60, 70, 20, 65, 10, 80, 15, 25, 5],\n",
       " [50, 60, 70, 20, 65, 10, 15, 80, 25, 5],\n",
       " [50, 60, 70, 20, 65, 10, 15, 25, 80, 5],\n",
       " [50, 60, 70, 20, 65, 10, 15, 25, 5, 80],\n",
       " [50, 60, 70, 20, 10, 65, 80, 15, 25, 5],\n",
       " [50, 60, 70, 20, 10, 65, 15, 80, 25, 5],\n",
       " [50, 60, 70, 20, 10, 65, 15, 25, 80, 5],\n",
       " [50, 60, 70, 20, 10, 65, 15, 25, 5, 80],\n",
       " [50, 60, 70, 20, 10, 15, 65, 80, 25, 5],\n",
       " [50, 60, 70, 20, 10, 15, 65, 25, 80, 5],\n",
       " [50, 60, 70, 20, 10, 15, 65, 25, 5, 80],\n",
       " [50, 60, 70, 20, 10, 15, 25, 65, 80, 5],\n",
       " [50, 60, 70, 20, 10, 15, 25, 65, 5, 80],\n",
       " [50, 60, 70, 20, 10, 15, 25, 5, 65, 80],\n",
       " [50, 60, 20, 70, 65, 80, 10, 15, 25, 5],\n",
       " [50, 60, 20, 70, 65, 10, 80, 15, 25, 5],\n",
       " [50, 60, 20, 70, 65, 10, 15, 80, 25, 5],\n",
       " [50, 60, 20, 70, 65, 10, 15, 25, 80, 5],\n",
       " [50, 60, 20, 70, 65, 10, 15, 25, 5, 80],\n",
       " [50, 60, 20, 70, 10, 65, 80, 15, 25, 5],\n",
       " [50, 60, 20, 70, 10, 65, 15, 80, 25, 5],\n",
       " [50, 60, 20, 70, 10, 65, 15, 25, 80, 5],\n",
       " [50, 60, 20, 70, 10, 65, 15, 25, 5, 80],\n",
       " [50, 60, 20, 70, 10, 15, 65, 80, 25, 5],\n",
       " [50, 60, 20, 70, 10, 15, 65, 25, 80, 5],\n",
       " [50, 60, 20, 70, 10, 15, 65, 25, 5, 80],\n",
       " [50, 60, 20, 70, 10, 15, 25, 65, 80, 5],\n",
       " [50, 60, 20, 70, 10, 15, 25, 65, 5, 80],\n",
       " [50, 60, 20, 70, 10, 15, 25, 5, 65, 80],\n",
       " [50, 60, 20, 10, 70, 65, 80, 15, 25, 5],\n",
       " [50, 60, 20, 10, 70, 65, 15, 80, 25, 5],\n",
       " [50, 60, 20, 10, 70, 65, 15, 25, 80, 5],\n",
       " [50, 60, 20, 10, 70, 65, 15, 25, 5, 80],\n",
       " [50, 60, 20, 10, 70, 15, 65, 80, 25, 5],\n",
       " [50, 60, 20, 10, 70, 15, 65, 25, 80, 5],\n",
       " [50, 60, 20, 10, 70, 15, 65, 25, 5, 80],\n",
       " [50, 60, 20, 10, 70, 15, 25, 65, 80, 5],\n",
       " [50, 60, 20, 10, 70, 15, 25, 65, 5, 80],\n",
       " [50, 60, 20, 10, 70, 15, 25, 5, 65, 80],\n",
       " [50, 60, 20, 10, 15, 70, 65, 80, 25, 5],\n",
       " [50, 60, 20, 10, 15, 70, 65, 25, 80, 5],\n",
       " [50, 60, 20, 10, 15, 70, 65, 25, 5, 80],\n",
       " [50, 60, 20, 10, 15, 70, 25, 65, 80, 5],\n",
       " [50, 60, 20, 10, 15, 70, 25, 65, 5, 80],\n",
       " [50, 60, 20, 10, 15, 70, 25, 5, 65, 80],\n",
       " [50, 60, 20, 10, 15, 25, 70, 65, 80, 5],\n",
       " [50, 60, 20, 10, 15, 25, 70, 65, 5, 80],\n",
       " [50, 60, 20, 10, 15, 25, 70, 5, 65, 80],\n",
       " [50, 60, 20, 10, 15, 25, 5, 70, 65, 80],\n",
       " [50, 20, 60, 70, 65, 80, 10, 15, 25, 5],\n",
       " [50, 20, 60, 70, 65, 10, 80, 15, 25, 5],\n",
       " [50, 20, 60, 70, 65, 10, 15, 80, 25, 5],\n",
       " [50, 20, 60, 70, 65, 10, 15, 25, 80, 5],\n",
       " [50, 20, 60, 70, 65, 10, 15, 25, 5, 80],\n",
       " [50, 20, 60, 70, 10, 65, 80, 15, 25, 5],\n",
       " [50, 20, 60, 70, 10, 65, 15, 80, 25, 5],\n",
       " [50, 20, 60, 70, 10, 65, 15, 25, 80, 5],\n",
       " [50, 20, 60, 70, 10, 65, 15, 25, 5, 80],\n",
       " [50, 20, 60, 70, 10, 15, 65, 80, 25, 5],\n",
       " [50, 20, 60, 70, 10, 15, 65, 25, 80, 5],\n",
       " [50, 20, 60, 70, 10, 15, 65, 25, 5, 80],\n",
       " [50, 20, 60, 70, 10, 15, 25, 65, 80, 5],\n",
       " [50, 20, 60, 70, 10, 15, 25, 65, 5, 80],\n",
       " [50, 20, 60, 70, 10, 15, 25, 5, 65, 80],\n",
       " [50, 20, 60, 10, 70, 65, 80, 15, 25, 5],\n",
       " [50, 20, 60, 10, 70, 65, 15, 80, 25, 5],\n",
       " [50, 20, 60, 10, 70, 65, 15, 25, 80, 5],\n",
       " [50, 20, 60, 10, 70, 65, 15, 25, 5, 80],\n",
       " [50, 20, 60, 10, 70, 15, 65, 80, 25, 5],\n",
       " [50, 20, 60, 10, 70, 15, 65, 25, 80, 5],\n",
       " [50, 20, 60, 10, 70, 15, 65, 25, 5, 80],\n",
       " [50, 20, 60, 10, 70, 15, 25, 65, 80, 5],\n",
       " [50, 20, 60, 10, 70, 15, 25, 65, 5, 80],\n",
       " [50, 20, 60, 10, 70, 15, 25, 5, 65, 80],\n",
       " [50, 20, 60, 10, 15, 70, 65, 80, 25, 5],\n",
       " [50, 20, 60, 10, 15, 70, 65, 25, 80, 5],\n",
       " [50, 20, 60, 10, 15, 70, 65, 25, 5, 80],\n",
       " [50, 20, 60, 10, 15, 70, 25, 65, 80, 5],\n",
       " [50, 20, 60, 10, 15, 70, 25, 65, 5, 80],\n",
       " [50, 20, 60, 10, 15, 70, 25, 5, 65, 80],\n",
       " [50, 20, 60, 10, 15, 25, 70, 65, 80, 5],\n",
       " [50, 20, 60, 10, 15, 25, 70, 65, 5, 80],\n",
       " [50, 20, 60, 10, 15, 25, 70, 5, 65, 80],\n",
       " [50, 20, 60, 10, 15, 25, 5, 70, 65, 80],\n",
       " [50, 20, 10, 60, 70, 65, 80, 15, 25, 5],\n",
       " [50, 20, 10, 60, 70, 65, 15, 80, 25, 5],\n",
       " [50, 20, 10, 60, 70, 65, 15, 25, 80, 5],\n",
       " [50, 20, 10, 60, 70, 65, 15, 25, 5, 80],\n",
       " [50, 20, 10, 60, 70, 15, 65, 80, 25, 5],\n",
       " [50, 20, 10, 60, 70, 15, 65, 25, 80, 5],\n",
       " [50, 20, 10, 60, 70, 15, 65, 25, 5, 80],\n",
       " [50, 20, 10, 60, 70, 15, 25, 65, 80, 5],\n",
       " [50, 20, 10, 60, 70, 15, 25, 65, 5, 80],\n",
       " [50, 20, 10, 60, 70, 15, 25, 5, 65, 80],\n",
       " [50, 20, 10, 60, 15, 70, 65, 80, 25, 5],\n",
       " [50, 20, 10, 60, 15, 70, 65, 25, 80, 5],\n",
       " [50, 20, 10, 60, 15, 70, 65, 25, 5, 80],\n",
       " [50, 20, 10, 60, 15, 70, 25, 65, 80, 5],\n",
       " [50, 20, 10, 60, 15, 70, 25, 65, 5, 80],\n",
       " [50, 20, 10, 60, 15, 70, 25, 5, 65, 80],\n",
       " [50, 20, 10, 60, 15, 25, 70, 65, 80, 5],\n",
       " [50, 20, 10, 60, 15, 25, 70, 65, 5, 80],\n",
       " [50, 20, 10, 60, 15, 25, 70, 5, 65, 80],\n",
       " [50, 20, 10, 60, 15, 25, 5, 70, 65, 80],\n",
       " [50, 20, 10, 15, 60, 70, 65, 80, 25, 5],\n",
       " [50, 20, 10, 15, 60, 70, 65, 25, 80, 5],\n",
       " [50, 20, 10, 15, 60, 70, 65, 25, 5, 80],\n",
       " [50, 20, 10, 15, 60, 70, 25, 65, 80, 5],\n",
       " [50, 20, 10, 15, 60, 70, 25, 65, 5, 80],\n",
       " [50, 20, 10, 15, 60, 70, 25, 5, 65, 80],\n",
       " [50, 20, 10, 15, 60, 25, 70, 65, 80, 5],\n",
       " [50, 20, 10, 15, 60, 25, 70, 65, 5, 80],\n",
       " [50, 20, 10, 15, 60, 25, 70, 5, 65, 80],\n",
       " [50, 20, 10, 15, 60, 25, 5, 70, 65, 80],\n",
       " [50, 20, 10, 15, 25, 60, 70, 65, 80, 5],\n",
       " [50, 20, 10, 15, 25, 60, 70, 65, 5, 80],\n",
       " [50, 20, 10, 15, 25, 60, 70, 5, 65, 80],\n",
       " [50, 20, 10, 15, 25, 60, 5, 70, 65, 80],\n",
       " [50, 20, 10, 15, 25, 5, 60, 70, 65, 80],\n",
       " [50, 60, 70, 80, 65, 20, 10, 15, 5, 25],\n",
       " [50, 60, 70, 80, 20, 65, 10, 15, 5, 25],\n",
       " [50, 60, 70, 80, 20, 10, 65, 15, 5, 25],\n",
       " [50, 60, 70, 80, 20, 10, 15, 65, 5, 25],\n",
       " [50, 60, 70, 80, 20, 10, 15, 5, 65, 25],\n",
       " [50, 60, 70, 80, 20, 10, 15, 5, 25, 65],\n",
       " [50, 60, 70, 20, 80, 65, 10, 15, 5, 25],\n",
       " [50, 60, 70, 20, 80, 10, 65, 15, 5, 25],\n",
       " [50, 60, 70, 20, 80, 10, 15, 65, 5, 25],\n",
       " [50, 60, 70, 20, 80, 10, 15, 5, 65, 25],\n",
       " [50, 60, 70, 20, 80, 10, 15, 5, 25, 65],\n",
       " [50, 60, 70, 20, 10, 80, 65, 15, 5, 25],\n",
       " [50, 60, 70, 20, 10, 80, 15, 65, 5, 25],\n",
       " [50, 60, 70, 20, 10, 80, 15, 5, 65, 25],\n",
       " [50, 60, 70, 20, 10, 80, 15, 5, 25, 65],\n",
       " [50, 60, 70, 20, 10, 15, 80, 65, 5, 25],\n",
       " [50, 60, 70, 20, 10, 15, 80, 5, 65, 25],\n",
       " [50, 60, 70, 20, 10, 15, 80, 5, 25, 65],\n",
       " [50, 60, 70, 20, 10, 15, 5, 80, 65, 25],\n",
       " [50, 60, 70, 20, 10, 15, 5, 80, 25, 65],\n",
       " [50, 60, 70, 20, 10, 15, 5, 25, 80, 65],\n",
       " [50, 60, 20, 70, 80, 65, 10, 15, 5, 25],\n",
       " [50, 60, 20, 70, 80, 10, 65, 15, 5, 25],\n",
       " [50, 60, 20, 70, 80, 10, 15, 65, 5, 25],\n",
       " [50, 60, 20, 70, 80, 10, 15, 5, 65, 25],\n",
       " [50, 60, 20, 70, 80, 10, 15, 5, 25, 65],\n",
       " [50, 60, 20, 70, 10, 80, 65, 15, 5, 25],\n",
       " [50, 60, 20, 70, 10, 80, 15, 65, 5, 25],\n",
       " [50, 60, 20, 70, 10, 80, 15, 5, 65, 25],\n",
       " [50, 60, 20, 70, 10, 80, 15, 5, 25, 65],\n",
       " [50, 60, 20, 70, 10, 15, 80, 65, 5, 25],\n",
       " [50, 60, 20, 70, 10, 15, 80, 5, 65, 25],\n",
       " [50, 60, 20, 70, 10, 15, 80, 5, 25, 65],\n",
       " [50, 60, 20, 70, 10, 15, 5, 80, 65, 25],\n",
       " [50, 60, 20, 70, 10, 15, 5, 80, 25, 65],\n",
       " [50, 60, 20, 70, 10, 15, 5, 25, 80, 65],\n",
       " [50, 60, 20, 10, 70, 80, 65, 15, 5, 25],\n",
       " [50, 60, 20, 10, 70, 80, 15, 65, 5, 25],\n",
       " [50, 60, 20, 10, 70, 80, 15, 5, 65, 25],\n",
       " [50, 60, 20, 10, 70, 80, 15, 5, 25, 65],\n",
       " [50, 60, 20, 10, 70, 15, 80, 65, 5, 25],\n",
       " [50, 60, 20, 10, 70, 15, 80, 5, 65, 25],\n",
       " [50, 60, 20, 10, 70, 15, 80, 5, 25, 65],\n",
       " [50, 60, 20, 10, 70, 15, 5, 80, 65, 25],\n",
       " [50, 60, 20, 10, 70, 15, 5, 80, 25, 65],\n",
       " [50, 60, 20, 10, 70, 15, 5, 25, 80, 65],\n",
       " [50, 60, 20, 10, 15, 70, 80, 65, 5, 25],\n",
       " [50, 60, 20, 10, 15, 70, 80, 5, 65, 25],\n",
       " [50, 60, 20, 10, 15, 70, 80, 5, 25, 65],\n",
       " [50, 60, 20, 10, 15, 70, 5, 80, 65, 25],\n",
       " [50, 60, 20, 10, 15, 70, 5, 80, 25, 65],\n",
       " [50, 60, 20, 10, 15, 70, 5, 25, 80, 65],\n",
       " [50, 60, 20, 10, 15, 5, 70, 80, 65, 25],\n",
       " [50, 60, 20, 10, 15, 5, 70, 80, 25, 65],\n",
       " [50, 60, 20, 10, 15, 5, 70, 25, 80, 65],\n",
       " [50, 60, 20, 10, 15, 5, 25, 70, 80, 65],\n",
       " [50, 20, 60, 70, 80, 65, 10, 15, 5, 25],\n",
       " [50, 20, 60, 70, 80, 10, 65, 15, 5, 25],\n",
       " [50, 20, 60, 70, 80, 10, 15, 65, 5, 25],\n",
       " [50, 20, 60, 70, 80, 10, 15, 5, 65, 25],\n",
       " [50, 20, 60, 70, 80, 10, 15, 5, 25, 65],\n",
       " [50, 20, 60, 70, 10, 80, 65, 15, 5, 25],\n",
       " [50, 20, 60, 70, 10, 80, 15, 65, 5, 25],\n",
       " [50, 20, 60, 70, 10, 80, 15, 5, 65, 25],\n",
       " [50, 20, 60, 70, 10, 80, 15, 5, 25, 65],\n",
       " [50, 20, 60, 70, 10, 15, 80, 65, 5, 25],\n",
       " [50, 20, 60, 70, 10, 15, 80, 5, 65, 25],\n",
       " [50, 20, 60, 70, 10, 15, 80, 5, 25, 65],\n",
       " [50, 20, 60, 70, 10, 15, 5, 80, 65, 25],\n",
       " [50, 20, 60, 70, 10, 15, 5, 80, 25, 65],\n",
       " [50, 20, 60, 70, 10, 15, 5, 25, 80, 65],\n",
       " [50, 20, 60, 10, 70, 80, 65, 15, 5, 25],\n",
       " [50, 20, 60, 10, 70, 80, 15, 65, 5, 25],\n",
       " [50, 20, 60, 10, 70, 80, 15, 5, 65, 25],\n",
       " [50, 20, 60, 10, 70, 80, 15, 5, 25, 65],\n",
       " [50, 20, 60, 10, 70, 15, 80, 65, 5, 25],\n",
       " [50, 20, 60, 10, 70, 15, 80, 5, 65, 25],\n",
       " [50, 20, 60, 10, 70, 15, 80, 5, 25, 65],\n",
       " [50, 20, 60, 10, 70, 15, 5, 80, 65, 25],\n",
       " [50, 20, 60, 10, 70, 15, 5, 80, 25, 65],\n",
       " [50, 20, 60, 10, 70, 15, 5, 25, 80, 65],\n",
       " [50, 20, 60, 10, 15, 70, 80, 65, 5, 25],\n",
       " [50, 20, 60, 10, 15, 70, 80, 5, 65, 25],\n",
       " [50, 20, 60, 10, 15, 70, 80, 5, 25, 65],\n",
       " [50, 20, 60, 10, 15, 70, 5, 80, 65, 25],\n",
       " [50, 20, 60, 10, 15, 70, 5, 80, 25, 65],\n",
       " [50, 20, 60, 10, 15, 70, 5, 25, 80, 65],\n",
       " [50, 20, 60, 10, 15, 5, 70, 80, 65, 25],\n",
       " [50, 20, 60, 10, 15, 5, 70, 80, 25, 65],\n",
       " [50, 20, 60, 10, 15, 5, 70, 25, 80, 65],\n",
       " [50, 20, 60, 10, 15, 5, 25, 70, 80, 65],\n",
       " [50, 20, 10, 60, 70, 80, 65, 15, 5, 25],\n",
       " [50, 20, 10, 60, 70, 80, 15, 65, 5, 25],\n",
       " [50, 20, 10, 60, 70, 80, 15, 5, 65, 25],\n",
       " [50, 20, 10, 60, 70, 80, 15, 5, 25, 65],\n",
       " [50, 20, 10, 60, 70, 15, 80, 65, 5, 25],\n",
       " [50, 20, 10, 60, 70, 15, 80, 5, 65, 25],\n",
       " [50, 20, 10, 60, 70, 15, 80, 5, 25, 65],\n",
       " [50, 20, 10, 60, 70, 15, 5, 80, 65, 25],\n",
       " [50, 20, 10, 60, 70, 15, 5, 80, 25, 65],\n",
       " [50, 20, 10, 60, 70, 15, 5, 25, 80, 65],\n",
       " [50, 20, 10, 60, 15, 70, 80, 65, 5, 25],\n",
       " [50, 20, 10, 60, 15, 70, 80, 5, 65, 25],\n",
       " [50, 20, 10, 60, 15, 70, 80, 5, 25, 65],\n",
       " [50, 20, 10, 60, 15, 70, 5, 80, 65, 25],\n",
       " [50, 20, 10, 60, 15, 70, 5, 80, 25, 65],\n",
       " [50, 20, 10, 60, 15, 70, 5, 25, 80, 65],\n",
       " [50, 20, 10, 60, 15, 5, 70, 80, 65, 25],\n",
       " [50, 20, 10, 60, 15, 5, 70, 80, 25, 65],\n",
       " [50, 20, 10, 60, 15, 5, 70, 25, 80, 65],\n",
       " [50, 20, 10, 60, 15, 5, 25, 70, 80, 65],\n",
       " [50, 20, 10, 15, 60, 70, 80, 65, 5, 25],\n",
       " [50, 20, 10, 15, 60, 70, 80, 5, 65, 25],\n",
       " [50, 20, 10, 15, 60, 70, 80, 5, 25, 65],\n",
       " [50, 20, 10, 15, 60, 70, 5, 80, 65, 25],\n",
       " [50, 20, 10, 15, 60, 70, 5, 80, 25, 65],\n",
       " [50, 20, 10, 15, 60, 70, 5, 25, 80, 65],\n",
       " [50, 20, 10, 15, 60, 5, 70, 80, 65, 25],\n",
       " [50, 20, 10, 15, 60, 5, 70, 80, 25, 65],\n",
       " [50, 20, 10, 15, 60, 5, 70, 25, 80, 65],\n",
       " [50, 20, 10, 15, 60, 5, 25, 70, 80, 65],\n",
       " [50, 20, 10, 15, 5, 60, 70, 80, 65, 25],\n",
       " [50, 20, 10, 15, 5, 60, 70, 80, 25, 65],\n",
       " [50, 20, 10, 15, 5, 60, 70, 25, 80, 65],\n",
       " [50, 20, 10, 15, 5, 60, 25, 70, 80, 65],\n",
       " [50, 20, 10, 15, 5, 25, 60, 70, 80, 65],\n",
       " [50, 60, 70, 65, 80, 20, 10, 15, 5, 25],\n",
       " [50, 60, 70, 65, 20, 80, 10, 15, 5, 25],\n",
       " [50, 60, 70, 65, 20, 10, 80, 15, 5, 25],\n",
       " [50, 60, 70, 65, 20, 10, 15, 80, 5, 25],\n",
       " [50, 60, 70, 65, 20, 10, 15, 5, 80, 25],\n",
       " [50, 60, 70, 65, 20, 10, 15, 5, 25, 80],\n",
       " [50, 60, 70, 20, 65, 80, 10, 15, 5, 25],\n",
       " [50, 60, 70, 20, 65, 10, 80, 15, 5, 25],\n",
       " [50, 60, 70, 20, 65, 10, 15, 80, 5, 25],\n",
       " [50, 60, 70, 20, 65, 10, 15, 5, 80, 25],\n",
       " [50, 60, 70, 20, 65, 10, 15, 5, 25, 80],\n",
       " [50, 60, 70, 20, 10, 65, 80, 15, 5, 25],\n",
       " [50, 60, 70, 20, 10, 65, 15, 80, 5, 25],\n",
       " [50, 60, 70, 20, 10, 65, 15, 5, 80, 25],\n",
       " [50, 60, 70, 20, 10, 65, 15, 5, 25, 80],\n",
       " [50, 60, 70, 20, 10, 15, 65, 80, 5, 25],\n",
       " [50, 60, 70, 20, 10, 15, 65, 5, 80, 25],\n",
       " [50, 60, 70, 20, 10, 15, 65, 5, 25, 80],\n",
       " [50, 60, 70, 20, 10, 15, 5, 65, 80, 25],\n",
       " [50, 60, 70, 20, 10, 15, 5, 65, 25, 80],\n",
       " [50, 60, 70, 20, 10, 15, 5, 25, 65, 80],\n",
       " [50, 60, 20, 70, 65, 80, 10, 15, 5, 25],\n",
       " [50, 60, 20, 70, 65, 10, 80, 15, 5, 25],\n",
       " [50, 60, 20, 70, 65, 10, 15, 80, 5, 25],\n",
       " [50, 60, 20, 70, 65, 10, 15, 5, 80, 25],\n",
       " [50, 60, 20, 70, 65, 10, 15, 5, 25, 80],\n",
       " [50, 60, 20, 70, 10, 65, 80, 15, 5, 25],\n",
       " [50, 60, 20, 70, 10, 65, 15, 80, 5, 25],\n",
       " [50, 60, 20, 70, 10, 65, 15, 5, 80, 25],\n",
       " [50, 60, 20, 70, 10, 65, 15, 5, 25, 80],\n",
       " [50, 60, 20, 70, 10, 15, 65, 80, 5, 25],\n",
       " [50, 60, 20, 70, 10, 15, 65, 5, 80, 25],\n",
       " [50, 60, 20, 70, 10, 15, 65, 5, 25, 80],\n",
       " [50, 60, 20, 70, 10, 15, 5, 65, 80, 25],\n",
       " [50, 60, 20, 70, 10, 15, 5, 65, 25, 80],\n",
       " [50, 60, 20, 70, 10, 15, 5, 25, 65, 80],\n",
       " [50, 60, 20, 10, 70, 65, 80, 15, 5, 25],\n",
       " [50, 60, 20, 10, 70, 65, 15, 80, 5, 25],\n",
       " [50, 60, 20, 10, 70, 65, 15, 5, 80, 25],\n",
       " [50, 60, 20, 10, 70, 65, 15, 5, 25, 80],\n",
       " [50, 60, 20, 10, 70, 15, 65, 80, 5, 25],\n",
       " [50, 60, 20, 10, 70, 15, 65, 5, 80, 25],\n",
       " [50, 60, 20, 10, 70, 15, 65, 5, 25, 80],\n",
       " [50, 60, 20, 10, 70, 15, 5, 65, 80, 25],\n",
       " [50, 60, 20, 10, 70, 15, 5, 65, 25, 80],\n",
       " [50, 60, 20, 10, 70, 15, 5, 25, 65, 80],\n",
       " [50, 60, 20, 10, 15, 70, 65, 80, 5, 25],\n",
       " [50, 60, 20, 10, 15, 70, 65, 5, 80, 25],\n",
       " [50, 60, 20, 10, 15, 70, 65, 5, 25, 80],\n",
       " [50, 60, 20, 10, 15, 70, 5, 65, 80, 25],\n",
       " [50, 60, 20, 10, 15, 70, 5, 65, 25, 80],\n",
       " [50, 60, 20, 10, 15, 70, 5, 25, 65, 80],\n",
       " [50, 60, 20, 10, 15, 5, 70, 65, 80, 25],\n",
       " [50, 60, 20, 10, 15, 5, 70, 65, 25, 80],\n",
       " [50, 60, 20, 10, 15, 5, 70, 25, 65, 80],\n",
       " [50, 60, 20, 10, 15, 5, 25, 70, 65, 80],\n",
       " [50, 20, 60, 70, 65, 80, 10, 15, 5, 25],\n",
       " [50, 20, 60, 70, 65, 10, 80, 15, 5, 25],\n",
       " [50, 20, 60, 70, 65, 10, 15, 80, 5, 25],\n",
       " [50, 20, 60, 70, 65, 10, 15, 5, 80, 25],\n",
       " [50, 20, 60, 70, 65, 10, 15, 5, 25, 80],\n",
       " [50, 20, 60, 70, 10, 65, 80, 15, 5, 25],\n",
       " [50, 20, 60, 70, 10, 65, 15, 80, 5, 25],\n",
       " [50, 20, 60, 70, 10, 65, 15, 5, 80, 25],\n",
       " [50, 20, 60, 70, 10, 65, 15, 5, 25, 80],\n",
       " [50, 20, 60, 70, 10, 15, 65, 80, 5, 25],\n",
       " [50, 20, 60, 70, 10, 15, 65, 5, 80, 25],\n",
       " [50, 20, 60, 70, 10, 15, 65, 5, 25, 80],\n",
       " [50, 20, 60, 70, 10, 15, 5, 65, 80, 25],\n",
       " [50, 20, 60, 70, 10, 15, 5, 65, 25, 80],\n",
       " [50, 20, 60, 70, 10, 15, 5, 25, 65, 80],\n",
       " [50, 20, 60, 10, 70, 65, 80, 15, 5, 25],\n",
       " [50, 20, 60, 10, 70, 65, 15, 80, 5, 25],\n",
       " [50, 20, 60, 10, 70, 65, 15, 5, 80, 25],\n",
       " [50, 20, 60, 10, 70, 65, 15, 5, 25, 80],\n",
       " [50, 20, 60, 10, 70, 15, 65, 80, 5, 25],\n",
       " [50, 20, 60, 10, 70, 15, 65, 5, 80, 25],\n",
       " [50, 20, 60, 10, 70, 15, 65, 5, 25, 80],\n",
       " [50, 20, 60, 10, 70, 15, 5, 65, 80, 25],\n",
       " [50, 20, 60, 10, 70, 15, 5, 65, 25, 80],\n",
       " [50, 20, 60, 10, 70, 15, 5, 25, 65, 80],\n",
       " [50, 20, 60, 10, 15, 70, 65, 80, 5, 25],\n",
       " [50, 20, 60, 10, 15, 70, 65, 5, 80, 25],\n",
       " [50, 20, 60, 10, 15, 70, 65, 5, 25, 80],\n",
       " [50, 20, 60, 10, 15, 70, 5, 65, 80, 25],\n",
       " [50, 20, 60, 10, 15, 70, 5, 65, 25, 80],\n",
       " [50, 20, 60, 10, 15, 70, 5, 25, 65, 80],\n",
       " [50, 20, 60, 10, 15, 5, 70, 65, 80, 25],\n",
       " [50, 20, 60, 10, 15, 5, 70, 65, 25, 80],\n",
       " [50, 20, 60, 10, 15, 5, 70, 25, 65, 80],\n",
       " [50, 20, 60, 10, 15, 5, 25, 70, 65, 80],\n",
       " [50, 20, 10, 60, 70, 65, 80, 15, 5, 25],\n",
       " [50, 20, 10, 60, 70, 65, 15, 80, 5, 25],\n",
       " [50, 20, 10, 60, 70, 65, 15, 5, 80, 25],\n",
       " [50, 20, 10, 60, 70, 65, 15, 5, 25, 80],\n",
       " [50, 20, 10, 60, 70, 15, 65, 80, 5, 25],\n",
       " [50, 20, 10, 60, 70, 15, 65, 5, 80, 25],\n",
       " [50, 20, 10, 60, 70, 15, 65, 5, 25, 80],\n",
       " [50, 20, 10, 60, 70, 15, 5, 65, 80, 25],\n",
       " [50, 20, 10, 60, 70, 15, 5, 65, 25, 80],\n",
       " [50, 20, 10, 60, 70, 15, 5, 25, 65, 80],\n",
       " [50, 20, 10, 60, 15, 70, 65, 80, 5, 25],\n",
       " [50, 20, 10, 60, 15, 70, 65, 5, 80, 25],\n",
       " [50, 20, 10, 60, 15, 70, 65, 5, 25, 80],\n",
       " [50, 20, 10, 60, 15, 70, 5, 65, 80, 25],\n",
       " [50, 20, 10, 60, 15, 70, 5, 65, 25, 80],\n",
       " [50, 20, 10, 60, 15, 70, 5, 25, 65, 80],\n",
       " [50, 20, 10, 60, 15, 5, 70, 65, 80, 25],\n",
       " [50, 20, 10, 60, 15, 5, 70, 65, 25, 80],\n",
       " [50, 20, 10, 60, 15, 5, 70, 25, 65, 80],\n",
       " [50, 20, 10, 60, 15, 5, 25, 70, 65, 80],\n",
       " [50, 20, 10, 15, 60, 70, 65, 80, 5, 25],\n",
       " [50, 20, 10, 15, 60, 70, 65, 5, 80, 25],\n",
       " [50, 20, 10, 15, 60, 70, 65, 5, 25, 80],\n",
       " [50, 20, 10, 15, 60, 70, 5, 65, 80, 25],\n",
       " [50, 20, 10, 15, 60, 70, 5, 65, 25, 80],\n",
       " [50, 20, 10, 15, 60, 70, 5, 25, 65, 80],\n",
       " [50, 20, 10, 15, 60, 5, 70, 65, 80, 25],\n",
       " ...]"
      ]
     },
     "execution_count": 83,
     "metadata": {},
     "output_type": "execute_result"
    }
   ],
   "source": [
    "get_sequence_arrays(arbol10)"
   ]
  },
  {
   "cell_type": "code",
   "execution_count": 84,
   "metadata": {},
   "outputs": [],
   "source": [
    "def weave(arr1, arr2, prefix, result):\n",
    "    if not arr1 or not arr2:\n",
    "        result.append(prefix + arr1 + arr2)\n",
    "        return result\n",
    " \n",
    "    h1 = arr1.pop(0)\n",
    "    prefix += [h1]\n",
    "    weave(arr1, arr2, prefix, result)\n",
    "    arr1.insert(0, h1)\n",
    "    prefix.pop()\n",
    " \n",
    "    h2 = arr2.pop(0)\n",
    "    prefix += [h2]\n",
    "    weave(arr1, arr2, prefix, result)\n",
    "    arr2.insert(0, h2)\n",
    "    prefix.pop()\n",
    " \n",
    "    return result\n",
    " \n",
    "def bst_seq(node):\n",
    "    if not node:\n",
    "        return []\n",
    "     \n",
    "    if not node.left and not node.right:\n",
    "        return [[node.value]]\n",
    " \n",
    "    bst_result = []\n",
    "    left = bst_seq(node.left)\n",
    "    right = bst_seq(node.right)\n",
    " \n",
    "    if left and right:\n",
    "        for left_seq in left:\n",
    "            for right_seq in right:\n",
    "                suffix = weave(left_seq, right_seq, [], [])\n",
    "                bst_result += [[node.value] + seq for seq in suffix]\n",
    "    else:\n",
    "        remaining = left or right\n",
    "        bst_result += [[node.value] + a_seq for a_seq in remaining]\n",
    " \n",
    "    return bst_result"
   ]
  },
  {
   "cell_type": "code",
   "execution_count": 85,
   "metadata": {},
   "outputs": [
    {
     "data": {
      "text/plain": [
       "[[50, 20, 10, 5, 15, 25, 60, 70, 65, 80],\n",
       " [50, 20, 10, 5, 15, 60, 25, 70, 65, 80],\n",
       " [50, 20, 10, 5, 15, 60, 70, 25, 65, 80],\n",
       " [50, 20, 10, 5, 15, 60, 70, 65, 25, 80],\n",
       " [50, 20, 10, 5, 15, 60, 70, 65, 80, 25],\n",
       " [50, 20, 10, 5, 60, 15, 25, 70, 65, 80],\n",
       " [50, 20, 10, 5, 60, 15, 70, 25, 65, 80],\n",
       " [50, 20, 10, 5, 60, 15, 70, 65, 25, 80],\n",
       " [50, 20, 10, 5, 60, 15, 70, 65, 80, 25],\n",
       " [50, 20, 10, 5, 60, 70, 15, 25, 65, 80],\n",
       " [50, 20, 10, 5, 60, 70, 15, 65, 25, 80],\n",
       " [50, 20, 10, 5, 60, 70, 15, 65, 80, 25],\n",
       " [50, 20, 10, 5, 60, 70, 65, 15, 25, 80],\n",
       " [50, 20, 10, 5, 60, 70, 65, 15, 80, 25],\n",
       " [50, 20, 10, 5, 60, 70, 65, 80, 15, 25],\n",
       " [50, 20, 10, 60, 5, 15, 25, 70, 65, 80],\n",
       " [50, 20, 10, 60, 5, 15, 70, 25, 65, 80],\n",
       " [50, 20, 10, 60, 5, 15, 70, 65, 25, 80],\n",
       " [50, 20, 10, 60, 5, 15, 70, 65, 80, 25],\n",
       " [50, 20, 10, 60, 5, 70, 15, 25, 65, 80],\n",
       " [50, 20, 10, 60, 5, 70, 15, 65, 25, 80],\n",
       " [50, 20, 10, 60, 5, 70, 15, 65, 80, 25],\n",
       " [50, 20, 10, 60, 5, 70, 65, 15, 25, 80],\n",
       " [50, 20, 10, 60, 5, 70, 65, 15, 80, 25],\n",
       " [50, 20, 10, 60, 5, 70, 65, 80, 15, 25],\n",
       " [50, 20, 10, 60, 70, 5, 15, 25, 65, 80],\n",
       " [50, 20, 10, 60, 70, 5, 15, 65, 25, 80],\n",
       " [50, 20, 10, 60, 70, 5, 15, 65, 80, 25],\n",
       " [50, 20, 10, 60, 70, 5, 65, 15, 25, 80],\n",
       " [50, 20, 10, 60, 70, 5, 65, 15, 80, 25],\n",
       " [50, 20, 10, 60, 70, 5, 65, 80, 15, 25],\n",
       " [50, 20, 10, 60, 70, 65, 5, 15, 25, 80],\n",
       " [50, 20, 10, 60, 70, 65, 5, 15, 80, 25],\n",
       " [50, 20, 10, 60, 70, 65, 5, 80, 15, 25],\n",
       " [50, 20, 10, 60, 70, 65, 80, 5, 15, 25],\n",
       " [50, 20, 60, 10, 5, 15, 25, 70, 65, 80],\n",
       " [50, 20, 60, 10, 5, 15, 70, 25, 65, 80],\n",
       " [50, 20, 60, 10, 5, 15, 70, 65, 25, 80],\n",
       " [50, 20, 60, 10, 5, 15, 70, 65, 80, 25],\n",
       " [50, 20, 60, 10, 5, 70, 15, 25, 65, 80],\n",
       " [50, 20, 60, 10, 5, 70, 15, 65, 25, 80],\n",
       " [50, 20, 60, 10, 5, 70, 15, 65, 80, 25],\n",
       " [50, 20, 60, 10, 5, 70, 65, 15, 25, 80],\n",
       " [50, 20, 60, 10, 5, 70, 65, 15, 80, 25],\n",
       " [50, 20, 60, 10, 5, 70, 65, 80, 15, 25],\n",
       " [50, 20, 60, 10, 70, 5, 15, 25, 65, 80],\n",
       " [50, 20, 60, 10, 70, 5, 15, 65, 25, 80],\n",
       " [50, 20, 60, 10, 70, 5, 15, 65, 80, 25],\n",
       " [50, 20, 60, 10, 70, 5, 65, 15, 25, 80],\n",
       " [50, 20, 60, 10, 70, 5, 65, 15, 80, 25],\n",
       " [50, 20, 60, 10, 70, 5, 65, 80, 15, 25],\n",
       " [50, 20, 60, 10, 70, 65, 5, 15, 25, 80],\n",
       " [50, 20, 60, 10, 70, 65, 5, 15, 80, 25],\n",
       " [50, 20, 60, 10, 70, 65, 5, 80, 15, 25],\n",
       " [50, 20, 60, 10, 70, 65, 80, 5, 15, 25],\n",
       " [50, 20, 60, 70, 10, 5, 15, 25, 65, 80],\n",
       " [50, 20, 60, 70, 10, 5, 15, 65, 25, 80],\n",
       " [50, 20, 60, 70, 10, 5, 15, 65, 80, 25],\n",
       " [50, 20, 60, 70, 10, 5, 65, 15, 25, 80],\n",
       " [50, 20, 60, 70, 10, 5, 65, 15, 80, 25],\n",
       " [50, 20, 60, 70, 10, 5, 65, 80, 15, 25],\n",
       " [50, 20, 60, 70, 10, 65, 5, 15, 25, 80],\n",
       " [50, 20, 60, 70, 10, 65, 5, 15, 80, 25],\n",
       " [50, 20, 60, 70, 10, 65, 5, 80, 15, 25],\n",
       " [50, 20, 60, 70, 10, 65, 80, 5, 15, 25],\n",
       " [50, 20, 60, 70, 65, 10, 5, 15, 25, 80],\n",
       " [50, 20, 60, 70, 65, 10, 5, 15, 80, 25],\n",
       " [50, 20, 60, 70, 65, 10, 5, 80, 15, 25],\n",
       " [50, 20, 60, 70, 65, 10, 80, 5, 15, 25],\n",
       " [50, 20, 60, 70, 65, 80, 10, 5, 15, 25],\n",
       " [50, 60, 20, 10, 5, 15, 25, 70, 65, 80],\n",
       " [50, 60, 20, 10, 5, 15, 70, 25, 65, 80],\n",
       " [50, 60, 20, 10, 5, 15, 70, 65, 25, 80],\n",
       " [50, 60, 20, 10, 5, 15, 70, 65, 80, 25],\n",
       " [50, 60, 20, 10, 5, 70, 15, 25, 65, 80],\n",
       " [50, 60, 20, 10, 5, 70, 15, 65, 25, 80],\n",
       " [50, 60, 20, 10, 5, 70, 15, 65, 80, 25],\n",
       " [50, 60, 20, 10, 5, 70, 65, 15, 25, 80],\n",
       " [50, 60, 20, 10, 5, 70, 65, 15, 80, 25],\n",
       " [50, 60, 20, 10, 5, 70, 65, 80, 15, 25],\n",
       " [50, 60, 20, 10, 70, 5, 15, 25, 65, 80],\n",
       " [50, 60, 20, 10, 70, 5, 15, 65, 25, 80],\n",
       " [50, 60, 20, 10, 70, 5, 15, 65, 80, 25],\n",
       " [50, 60, 20, 10, 70, 5, 65, 15, 25, 80],\n",
       " [50, 60, 20, 10, 70, 5, 65, 15, 80, 25],\n",
       " [50, 60, 20, 10, 70, 5, 65, 80, 15, 25],\n",
       " [50, 60, 20, 10, 70, 65, 5, 15, 25, 80],\n",
       " [50, 60, 20, 10, 70, 65, 5, 15, 80, 25],\n",
       " [50, 60, 20, 10, 70, 65, 5, 80, 15, 25],\n",
       " [50, 60, 20, 10, 70, 65, 80, 5, 15, 25],\n",
       " [50, 60, 20, 70, 10, 5, 15, 25, 65, 80],\n",
       " [50, 60, 20, 70, 10, 5, 15, 65, 25, 80],\n",
       " [50, 60, 20, 70, 10, 5, 15, 65, 80, 25],\n",
       " [50, 60, 20, 70, 10, 5, 65, 15, 25, 80],\n",
       " [50, 60, 20, 70, 10, 5, 65, 15, 80, 25],\n",
       " [50, 60, 20, 70, 10, 5, 65, 80, 15, 25],\n",
       " [50, 60, 20, 70, 10, 65, 5, 15, 25, 80],\n",
       " [50, 60, 20, 70, 10, 65, 5, 15, 80, 25],\n",
       " [50, 60, 20, 70, 10, 65, 5, 80, 15, 25],\n",
       " [50, 60, 20, 70, 10, 65, 80, 5, 15, 25],\n",
       " [50, 60, 20, 70, 65, 10, 5, 15, 25, 80],\n",
       " [50, 60, 20, 70, 65, 10, 5, 15, 80, 25],\n",
       " [50, 60, 20, 70, 65, 10, 5, 80, 15, 25],\n",
       " [50, 60, 20, 70, 65, 10, 80, 5, 15, 25],\n",
       " [50, 60, 20, 70, 65, 80, 10, 5, 15, 25],\n",
       " [50, 60, 70, 20, 10, 5, 15, 25, 65, 80],\n",
       " [50, 60, 70, 20, 10, 5, 15, 65, 25, 80],\n",
       " [50, 60, 70, 20, 10, 5, 15, 65, 80, 25],\n",
       " [50, 60, 70, 20, 10, 5, 65, 15, 25, 80],\n",
       " [50, 60, 70, 20, 10, 5, 65, 15, 80, 25],\n",
       " [50, 60, 70, 20, 10, 5, 65, 80, 15, 25],\n",
       " [50, 60, 70, 20, 10, 65, 5, 15, 25, 80],\n",
       " [50, 60, 70, 20, 10, 65, 5, 15, 80, 25],\n",
       " [50, 60, 70, 20, 10, 65, 5, 80, 15, 25],\n",
       " [50, 60, 70, 20, 10, 65, 80, 5, 15, 25],\n",
       " [50, 60, 70, 20, 65, 10, 5, 15, 25, 80],\n",
       " [50, 60, 70, 20, 65, 10, 5, 15, 80, 25],\n",
       " [50, 60, 70, 20, 65, 10, 5, 80, 15, 25],\n",
       " [50, 60, 70, 20, 65, 10, 80, 5, 15, 25],\n",
       " [50, 60, 70, 20, 65, 80, 10, 5, 15, 25],\n",
       " [50, 60, 70, 65, 20, 10, 5, 15, 25, 80],\n",
       " [50, 60, 70, 65, 20, 10, 5, 15, 80, 25],\n",
       " [50, 60, 70, 65, 20, 10, 5, 80, 15, 25],\n",
       " [50, 60, 70, 65, 20, 10, 80, 5, 15, 25],\n",
       " [50, 60, 70, 65, 20, 80, 10, 5, 15, 25],\n",
       " [50, 60, 70, 65, 80, 20, 10, 5, 15, 25],\n",
       " [50, 20, 10, 5, 15, 25, 60, 70, 80, 65],\n",
       " [50, 20, 10, 5, 15, 60, 25, 70, 80, 65],\n",
       " [50, 20, 10, 5, 15, 60, 70, 25, 80, 65],\n",
       " [50, 20, 10, 5, 15, 60, 70, 80, 25, 65],\n",
       " [50, 20, 10, 5, 15, 60, 70, 80, 65, 25],\n",
       " [50, 20, 10, 5, 60, 15, 25, 70, 80, 65],\n",
       " [50, 20, 10, 5, 60, 15, 70, 25, 80, 65],\n",
       " [50, 20, 10, 5, 60, 15, 70, 80, 25, 65],\n",
       " [50, 20, 10, 5, 60, 15, 70, 80, 65, 25],\n",
       " [50, 20, 10, 5, 60, 70, 15, 25, 80, 65],\n",
       " [50, 20, 10, 5, 60, 70, 15, 80, 25, 65],\n",
       " [50, 20, 10, 5, 60, 70, 15, 80, 65, 25],\n",
       " [50, 20, 10, 5, 60, 70, 80, 15, 25, 65],\n",
       " [50, 20, 10, 5, 60, 70, 80, 15, 65, 25],\n",
       " [50, 20, 10, 5, 60, 70, 80, 65, 15, 25],\n",
       " [50, 20, 10, 60, 5, 15, 25, 70, 80, 65],\n",
       " [50, 20, 10, 60, 5, 15, 70, 25, 80, 65],\n",
       " [50, 20, 10, 60, 5, 15, 70, 80, 25, 65],\n",
       " [50, 20, 10, 60, 5, 15, 70, 80, 65, 25],\n",
       " [50, 20, 10, 60, 5, 70, 15, 25, 80, 65],\n",
       " [50, 20, 10, 60, 5, 70, 15, 80, 25, 65],\n",
       " [50, 20, 10, 60, 5, 70, 15, 80, 65, 25],\n",
       " [50, 20, 10, 60, 5, 70, 80, 15, 25, 65],\n",
       " [50, 20, 10, 60, 5, 70, 80, 15, 65, 25],\n",
       " [50, 20, 10, 60, 5, 70, 80, 65, 15, 25],\n",
       " [50, 20, 10, 60, 70, 5, 15, 25, 80, 65],\n",
       " [50, 20, 10, 60, 70, 5, 15, 80, 25, 65],\n",
       " [50, 20, 10, 60, 70, 5, 15, 80, 65, 25],\n",
       " [50, 20, 10, 60, 70, 5, 80, 15, 25, 65],\n",
       " [50, 20, 10, 60, 70, 5, 80, 15, 65, 25],\n",
       " [50, 20, 10, 60, 70, 5, 80, 65, 15, 25],\n",
       " [50, 20, 10, 60, 70, 80, 5, 15, 25, 65],\n",
       " [50, 20, 10, 60, 70, 80, 5, 15, 65, 25],\n",
       " [50, 20, 10, 60, 70, 80, 5, 65, 15, 25],\n",
       " [50, 20, 10, 60, 70, 80, 65, 5, 15, 25],\n",
       " [50, 20, 60, 10, 5, 15, 25, 70, 80, 65],\n",
       " [50, 20, 60, 10, 5, 15, 70, 25, 80, 65],\n",
       " [50, 20, 60, 10, 5, 15, 70, 80, 25, 65],\n",
       " [50, 20, 60, 10, 5, 15, 70, 80, 65, 25],\n",
       " [50, 20, 60, 10, 5, 70, 15, 25, 80, 65],\n",
       " [50, 20, 60, 10, 5, 70, 15, 80, 25, 65],\n",
       " [50, 20, 60, 10, 5, 70, 15, 80, 65, 25],\n",
       " [50, 20, 60, 10, 5, 70, 80, 15, 25, 65],\n",
       " [50, 20, 60, 10, 5, 70, 80, 15, 65, 25],\n",
       " [50, 20, 60, 10, 5, 70, 80, 65, 15, 25],\n",
       " [50, 20, 60, 10, 70, 5, 15, 25, 80, 65],\n",
       " [50, 20, 60, 10, 70, 5, 15, 80, 25, 65],\n",
       " [50, 20, 60, 10, 70, 5, 15, 80, 65, 25],\n",
       " [50, 20, 60, 10, 70, 5, 80, 15, 25, 65],\n",
       " [50, 20, 60, 10, 70, 5, 80, 15, 65, 25],\n",
       " [50, 20, 60, 10, 70, 5, 80, 65, 15, 25],\n",
       " [50, 20, 60, 10, 70, 80, 5, 15, 25, 65],\n",
       " [50, 20, 60, 10, 70, 80, 5, 15, 65, 25],\n",
       " [50, 20, 60, 10, 70, 80, 5, 65, 15, 25],\n",
       " [50, 20, 60, 10, 70, 80, 65, 5, 15, 25],\n",
       " [50, 20, 60, 70, 10, 5, 15, 25, 80, 65],\n",
       " [50, 20, 60, 70, 10, 5, 15, 80, 25, 65],\n",
       " [50, 20, 60, 70, 10, 5, 15, 80, 65, 25],\n",
       " [50, 20, 60, 70, 10, 5, 80, 15, 25, 65],\n",
       " [50, 20, 60, 70, 10, 5, 80, 15, 65, 25],\n",
       " [50, 20, 60, 70, 10, 5, 80, 65, 15, 25],\n",
       " [50, 20, 60, 70, 10, 80, 5, 15, 25, 65],\n",
       " [50, 20, 60, 70, 10, 80, 5, 15, 65, 25],\n",
       " [50, 20, 60, 70, 10, 80, 5, 65, 15, 25],\n",
       " [50, 20, 60, 70, 10, 80, 65, 5, 15, 25],\n",
       " [50, 20, 60, 70, 80, 10, 5, 15, 25, 65],\n",
       " [50, 20, 60, 70, 80, 10, 5, 15, 65, 25],\n",
       " [50, 20, 60, 70, 80, 10, 5, 65, 15, 25],\n",
       " [50, 20, 60, 70, 80, 10, 65, 5, 15, 25],\n",
       " [50, 20, 60, 70, 80, 65, 10, 5, 15, 25],\n",
       " [50, 60, 20, 10, 5, 15, 25, 70, 80, 65],\n",
       " [50, 60, 20, 10, 5, 15, 70, 25, 80, 65],\n",
       " [50, 60, 20, 10, 5, 15, 70, 80, 25, 65],\n",
       " [50, 60, 20, 10, 5, 15, 70, 80, 65, 25],\n",
       " [50, 60, 20, 10, 5, 70, 15, 25, 80, 65],\n",
       " [50, 60, 20, 10, 5, 70, 15, 80, 25, 65],\n",
       " [50, 60, 20, 10, 5, 70, 15, 80, 65, 25],\n",
       " [50, 60, 20, 10, 5, 70, 80, 15, 25, 65],\n",
       " [50, 60, 20, 10, 5, 70, 80, 15, 65, 25],\n",
       " [50, 60, 20, 10, 5, 70, 80, 65, 15, 25],\n",
       " [50, 60, 20, 10, 70, 5, 15, 25, 80, 65],\n",
       " [50, 60, 20, 10, 70, 5, 15, 80, 25, 65],\n",
       " [50, 60, 20, 10, 70, 5, 15, 80, 65, 25],\n",
       " [50, 60, 20, 10, 70, 5, 80, 15, 25, 65],\n",
       " [50, 60, 20, 10, 70, 5, 80, 15, 65, 25],\n",
       " [50, 60, 20, 10, 70, 5, 80, 65, 15, 25],\n",
       " [50, 60, 20, 10, 70, 80, 5, 15, 25, 65],\n",
       " [50, 60, 20, 10, 70, 80, 5, 15, 65, 25],\n",
       " [50, 60, 20, 10, 70, 80, 5, 65, 15, 25],\n",
       " [50, 60, 20, 10, 70, 80, 65, 5, 15, 25],\n",
       " [50, 60, 20, 70, 10, 5, 15, 25, 80, 65],\n",
       " [50, 60, 20, 70, 10, 5, 15, 80, 25, 65],\n",
       " [50, 60, 20, 70, 10, 5, 15, 80, 65, 25],\n",
       " [50, 60, 20, 70, 10, 5, 80, 15, 25, 65],\n",
       " [50, 60, 20, 70, 10, 5, 80, 15, 65, 25],\n",
       " [50, 60, 20, 70, 10, 5, 80, 65, 15, 25],\n",
       " [50, 60, 20, 70, 10, 80, 5, 15, 25, 65],\n",
       " [50, 60, 20, 70, 10, 80, 5, 15, 65, 25],\n",
       " [50, 60, 20, 70, 10, 80, 5, 65, 15, 25],\n",
       " [50, 60, 20, 70, 10, 80, 65, 5, 15, 25],\n",
       " [50, 60, 20, 70, 80, 10, 5, 15, 25, 65],\n",
       " [50, 60, 20, 70, 80, 10, 5, 15, 65, 25],\n",
       " [50, 60, 20, 70, 80, 10, 5, 65, 15, 25],\n",
       " [50, 60, 20, 70, 80, 10, 65, 5, 15, 25],\n",
       " [50, 60, 20, 70, 80, 65, 10, 5, 15, 25],\n",
       " [50, 60, 70, 20, 10, 5, 15, 25, 80, 65],\n",
       " [50, 60, 70, 20, 10, 5, 15, 80, 25, 65],\n",
       " [50, 60, 70, 20, 10, 5, 15, 80, 65, 25],\n",
       " [50, 60, 70, 20, 10, 5, 80, 15, 25, 65],\n",
       " [50, 60, 70, 20, 10, 5, 80, 15, 65, 25],\n",
       " [50, 60, 70, 20, 10, 5, 80, 65, 15, 25],\n",
       " [50, 60, 70, 20, 10, 80, 5, 15, 25, 65],\n",
       " [50, 60, 70, 20, 10, 80, 5, 15, 65, 25],\n",
       " [50, 60, 70, 20, 10, 80, 5, 65, 15, 25],\n",
       " [50, 60, 70, 20, 10, 80, 65, 5, 15, 25],\n",
       " [50, 60, 70, 20, 80, 10, 5, 15, 25, 65],\n",
       " [50, 60, 70, 20, 80, 10, 5, 15, 65, 25],\n",
       " [50, 60, 70, 20, 80, 10, 5, 65, 15, 25],\n",
       " [50, 60, 70, 20, 80, 10, 65, 5, 15, 25],\n",
       " [50, 60, 70, 20, 80, 65, 10, 5, 15, 25],\n",
       " [50, 60, 70, 80, 20, 10, 5, 15, 25, 65],\n",
       " [50, 60, 70, 80, 20, 10, 5, 15, 65, 25],\n",
       " [50, 60, 70, 80, 20, 10, 5, 65, 15, 25],\n",
       " [50, 60, 70, 80, 20, 10, 65, 5, 15, 25],\n",
       " [50, 60, 70, 80, 20, 65, 10, 5, 15, 25],\n",
       " [50, 60, 70, 80, 65, 20, 10, 5, 15, 25],\n",
       " [50, 20, 10, 5, 25, 15, 60, 70, 65, 80],\n",
       " [50, 20, 10, 5, 25, 60, 15, 70, 65, 80],\n",
       " [50, 20, 10, 5, 25, 60, 70, 15, 65, 80],\n",
       " [50, 20, 10, 5, 25, 60, 70, 65, 15, 80],\n",
       " [50, 20, 10, 5, 25, 60, 70, 65, 80, 15],\n",
       " [50, 20, 10, 5, 60, 25, 15, 70, 65, 80],\n",
       " [50, 20, 10, 5, 60, 25, 70, 15, 65, 80],\n",
       " [50, 20, 10, 5, 60, 25, 70, 65, 15, 80],\n",
       " [50, 20, 10, 5, 60, 25, 70, 65, 80, 15],\n",
       " [50, 20, 10, 5, 60, 70, 25, 15, 65, 80],\n",
       " [50, 20, 10, 5, 60, 70, 25, 65, 15, 80],\n",
       " [50, 20, 10, 5, 60, 70, 25, 65, 80, 15],\n",
       " [50, 20, 10, 5, 60, 70, 65, 25, 15, 80],\n",
       " [50, 20, 10, 5, 60, 70, 65, 25, 80, 15],\n",
       " [50, 20, 10, 5, 60, 70, 65, 80, 25, 15],\n",
       " [50, 20, 10, 60, 5, 25, 15, 70, 65, 80],\n",
       " [50, 20, 10, 60, 5, 25, 70, 15, 65, 80],\n",
       " [50, 20, 10, 60, 5, 25, 70, 65, 15, 80],\n",
       " [50, 20, 10, 60, 5, 25, 70, 65, 80, 15],\n",
       " [50, 20, 10, 60, 5, 70, 25, 15, 65, 80],\n",
       " [50, 20, 10, 60, 5, 70, 25, 65, 15, 80],\n",
       " [50, 20, 10, 60, 5, 70, 25, 65, 80, 15],\n",
       " [50, 20, 10, 60, 5, 70, 65, 25, 15, 80],\n",
       " [50, 20, 10, 60, 5, 70, 65, 25, 80, 15],\n",
       " [50, 20, 10, 60, 5, 70, 65, 80, 25, 15],\n",
       " [50, 20, 10, 60, 70, 5, 25, 15, 65, 80],\n",
       " [50, 20, 10, 60, 70, 5, 25, 65, 15, 80],\n",
       " [50, 20, 10, 60, 70, 5, 25, 65, 80, 15],\n",
       " [50, 20, 10, 60, 70, 5, 65, 25, 15, 80],\n",
       " [50, 20, 10, 60, 70, 5, 65, 25, 80, 15],\n",
       " [50, 20, 10, 60, 70, 5, 65, 80, 25, 15],\n",
       " [50, 20, 10, 60, 70, 65, 5, 25, 15, 80],\n",
       " [50, 20, 10, 60, 70, 65, 5, 25, 80, 15],\n",
       " [50, 20, 10, 60, 70, 65, 5, 80, 25, 15],\n",
       " [50, 20, 10, 60, 70, 65, 80, 5, 25, 15],\n",
       " [50, 20, 60, 10, 5, 25, 15, 70, 65, 80],\n",
       " [50, 20, 60, 10, 5, 25, 70, 15, 65, 80],\n",
       " [50, 20, 60, 10, 5, 25, 70, 65, 15, 80],\n",
       " [50, 20, 60, 10, 5, 25, 70, 65, 80, 15],\n",
       " [50, 20, 60, 10, 5, 70, 25, 15, 65, 80],\n",
       " [50, 20, 60, 10, 5, 70, 25, 65, 15, 80],\n",
       " [50, 20, 60, 10, 5, 70, 25, 65, 80, 15],\n",
       " [50, 20, 60, 10, 5, 70, 65, 25, 15, 80],\n",
       " [50, 20, 60, 10, 5, 70, 65, 25, 80, 15],\n",
       " [50, 20, 60, 10, 5, 70, 65, 80, 25, 15],\n",
       " [50, 20, 60, 10, 70, 5, 25, 15, 65, 80],\n",
       " [50, 20, 60, 10, 70, 5, 25, 65, 15, 80],\n",
       " [50, 20, 60, 10, 70, 5, 25, 65, 80, 15],\n",
       " [50, 20, 60, 10, 70, 5, 65, 25, 15, 80],\n",
       " [50, 20, 60, 10, 70, 5, 65, 25, 80, 15],\n",
       " [50, 20, 60, 10, 70, 5, 65, 80, 25, 15],\n",
       " [50, 20, 60, 10, 70, 65, 5, 25, 15, 80],\n",
       " [50, 20, 60, 10, 70, 65, 5, 25, 80, 15],\n",
       " [50, 20, 60, 10, 70, 65, 5, 80, 25, 15],\n",
       " [50, 20, 60, 10, 70, 65, 80, 5, 25, 15],\n",
       " [50, 20, 60, 70, 10, 5, 25, 15, 65, 80],\n",
       " [50, 20, 60, 70, 10, 5, 25, 65, 15, 80],\n",
       " [50, 20, 60, 70, 10, 5, 25, 65, 80, 15],\n",
       " [50, 20, 60, 70, 10, 5, 65, 25, 15, 80],\n",
       " [50, 20, 60, 70, 10, 5, 65, 25, 80, 15],\n",
       " [50, 20, 60, 70, 10, 5, 65, 80, 25, 15],\n",
       " [50, 20, 60, 70, 10, 65, 5, 25, 15, 80],\n",
       " [50, 20, 60, 70, 10, 65, 5, 25, 80, 15],\n",
       " [50, 20, 60, 70, 10, 65, 5, 80, 25, 15],\n",
       " [50, 20, 60, 70, 10, 65, 80, 5, 25, 15],\n",
       " [50, 20, 60, 70, 65, 10, 5, 25, 15, 80],\n",
       " [50, 20, 60, 70, 65, 10, 5, 25, 80, 15],\n",
       " [50, 20, 60, 70, 65, 10, 5, 80, 25, 15],\n",
       " [50, 20, 60, 70, 65, 10, 80, 5, 25, 15],\n",
       " [50, 20, 60, 70, 65, 80, 10, 5, 25, 15],\n",
       " [50, 60, 20, 10, 5, 25, 15, 70, 65, 80],\n",
       " [50, 60, 20, 10, 5, 25, 70, 15, 65, 80],\n",
       " [50, 60, 20, 10, 5, 25, 70, 65, 15, 80],\n",
       " [50, 60, 20, 10, 5, 25, 70, 65, 80, 15],\n",
       " [50, 60, 20, 10, 5, 70, 25, 15, 65, 80],\n",
       " [50, 60, 20, 10, 5, 70, 25, 65, 15, 80],\n",
       " [50, 60, 20, 10, 5, 70, 25, 65, 80, 15],\n",
       " [50, 60, 20, 10, 5, 70, 65, 25, 15, 80],\n",
       " [50, 60, 20, 10, 5, 70, 65, 25, 80, 15],\n",
       " [50, 60, 20, 10, 5, 70, 65, 80, 25, 15],\n",
       " [50, 60, 20, 10, 70, 5, 25, 15, 65, 80],\n",
       " [50, 60, 20, 10, 70, 5, 25, 65, 15, 80],\n",
       " [50, 60, 20, 10, 70, 5, 25, 65, 80, 15],\n",
       " [50, 60, 20, 10, 70, 5, 65, 25, 15, 80],\n",
       " [50, 60, 20, 10, 70, 5, 65, 25, 80, 15],\n",
       " [50, 60, 20, 10, 70, 5, 65, 80, 25, 15],\n",
       " [50, 60, 20, 10, 70, 65, 5, 25, 15, 80],\n",
       " [50, 60, 20, 10, 70, 65, 5, 25, 80, 15],\n",
       " [50, 60, 20, 10, 70, 65, 5, 80, 25, 15],\n",
       " [50, 60, 20, 10, 70, 65, 80, 5, 25, 15],\n",
       " [50, 60, 20, 70, 10, 5, 25, 15, 65, 80],\n",
       " [50, 60, 20, 70, 10, 5, 25, 65, 15, 80],\n",
       " [50, 60, 20, 70, 10, 5, 25, 65, 80, 15],\n",
       " [50, 60, 20, 70, 10, 5, 65, 25, 15, 80],\n",
       " [50, 60, 20, 70, 10, 5, 65, 25, 80, 15],\n",
       " [50, 60, 20, 70, 10, 5, 65, 80, 25, 15],\n",
       " [50, 60, 20, 70, 10, 65, 5, 25, 15, 80],\n",
       " [50, 60, 20, 70, 10, 65, 5, 25, 80, 15],\n",
       " [50, 60, 20, 70, 10, 65, 5, 80, 25, 15],\n",
       " [50, 60, 20, 70, 10, 65, 80, 5, 25, 15],\n",
       " [50, 60, 20, 70, 65, 10, 5, 25, 15, 80],\n",
       " [50, 60, 20, 70, 65, 10, 5, 25, 80, 15],\n",
       " [50, 60, 20, 70, 65, 10, 5, 80, 25, 15],\n",
       " [50, 60, 20, 70, 65, 10, 80, 5, 25, 15],\n",
       " [50, 60, 20, 70, 65, 80, 10, 5, 25, 15],\n",
       " [50, 60, 70, 20, 10, 5, 25, 15, 65, 80],\n",
       " [50, 60, 70, 20, 10, 5, 25, 65, 15, 80],\n",
       " [50, 60, 70, 20, 10, 5, 25, 65, 80, 15],\n",
       " [50, 60, 70, 20, 10, 5, 65, 25, 15, 80],\n",
       " [50, 60, 70, 20, 10, 5, 65, 25, 80, 15],\n",
       " [50, 60, 70, 20, 10, 5, 65, 80, 25, 15],\n",
       " [50, 60, 70, 20, 10, 65, 5, 25, 15, 80],\n",
       " [50, 60, 70, 20, 10, 65, 5, 25, 80, 15],\n",
       " [50, 60, 70, 20, 10, 65, 5, 80, 25, 15],\n",
       " [50, 60, 70, 20, 10, 65, 80, 5, 25, 15],\n",
       " [50, 60, 70, 20, 65, 10, 5, 25, 15, 80],\n",
       " [50, 60, 70, 20, 65, 10, 5, 25, 80, 15],\n",
       " [50, 60, 70, 20, 65, 10, 5, 80, 25, 15],\n",
       " [50, 60, 70, 20, 65, 10, 80, 5, 25, 15],\n",
       " [50, 60, 70, 20, 65, 80, 10, 5, 25, 15],\n",
       " [50, 60, 70, 65, 20, 10, 5, 25, 15, 80],\n",
       " [50, 60, 70, 65, 20, 10, 5, 25, 80, 15],\n",
       " [50, 60, 70, 65, 20, 10, 5, 80, 25, 15],\n",
       " [50, 60, 70, 65, 20, 10, 80, 5, 25, 15],\n",
       " [50, 60, 70, 65, 20, 80, 10, 5, 25, 15],\n",
       " [50, 60, 70, 65, 80, 20, 10, 5, 25, 15],\n",
       " [50, 20, 10, 5, 25, 15, 60, 70, 80, 65],\n",
       " [50, 20, 10, 5, 25, 60, 15, 70, 80, 65],\n",
       " [50, 20, 10, 5, 25, 60, 70, 15, 80, 65],\n",
       " [50, 20, 10, 5, 25, 60, 70, 80, 15, 65],\n",
       " [50, 20, 10, 5, 25, 60, 70, 80, 65, 15],\n",
       " [50, 20, 10, 5, 60, 25, 15, 70, 80, 65],\n",
       " [50, 20, 10, 5, 60, 25, 70, 15, 80, 65],\n",
       " [50, 20, 10, 5, 60, 25, 70, 80, 15, 65],\n",
       " [50, 20, 10, 5, 60, 25, 70, 80, 65, 15],\n",
       " [50, 20, 10, 5, 60, 70, 25, 15, 80, 65],\n",
       " [50, 20, 10, 5, 60, 70, 25, 80, 15, 65],\n",
       " [50, 20, 10, 5, 60, 70, 25, 80, 65, 15],\n",
       " [50, 20, 10, 5, 60, 70, 80, 25, 15, 65],\n",
       " [50, 20, 10, 5, 60, 70, 80, 25, 65, 15],\n",
       " [50, 20, 10, 5, 60, 70, 80, 65, 25, 15],\n",
       " [50, 20, 10, 60, 5, 25, 15, 70, 80, 65],\n",
       " [50, 20, 10, 60, 5, 25, 70, 15, 80, 65],\n",
       " [50, 20, 10, 60, 5, 25, 70, 80, 15, 65],\n",
       " [50, 20, 10, 60, 5, 25, 70, 80, 65, 15],\n",
       " [50, 20, 10, 60, 5, 70, 25, 15, 80, 65],\n",
       " [50, 20, 10, 60, 5, 70, 25, 80, 15, 65],\n",
       " [50, 20, 10, 60, 5, 70, 25, 80, 65, 15],\n",
       " [50, 20, 10, 60, 5, 70, 80, 25, 15, 65],\n",
       " [50, 20, 10, 60, 5, 70, 80, 25, 65, 15],\n",
       " [50, 20, 10, 60, 5, 70, 80, 65, 25, 15],\n",
       " [50, 20, 10, 60, 70, 5, 25, 15, 80, 65],\n",
       " [50, 20, 10, 60, 70, 5, 25, 80, 15, 65],\n",
       " [50, 20, 10, 60, 70, 5, 25, 80, 65, 15],\n",
       " [50, 20, 10, 60, 70, 5, 80, 25, 15, 65],\n",
       " [50, 20, 10, 60, 70, 5, 80, 25, 65, 15],\n",
       " [50, 20, 10, 60, 70, 5, 80, 65, 25, 15],\n",
       " [50, 20, 10, 60, 70, 80, 5, 25, 15, 65],\n",
       " [50, 20, 10, 60, 70, 80, 5, 25, 65, 15],\n",
       " [50, 20, 10, 60, 70, 80, 5, 65, 25, 15],\n",
       " [50, 20, 10, 60, 70, 80, 65, 5, 25, 15],\n",
       " [50, 20, 60, 10, 5, 25, 15, 70, 80, 65],\n",
       " [50, 20, 60, 10, 5, 25, 70, 15, 80, 65],\n",
       " [50, 20, 60, 10, 5, 25, 70, 80, 15, 65],\n",
       " [50, 20, 60, 10, 5, 25, 70, 80, 65, 15],\n",
       " [50, 20, 60, 10, 5, 70, 25, 15, 80, 65],\n",
       " [50, 20, 60, 10, 5, 70, 25, 80, 15, 65],\n",
       " [50, 20, 60, 10, 5, 70, 25, 80, 65, 15],\n",
       " [50, 20, 60, 10, 5, 70, 80, 25, 15, 65],\n",
       " [50, 20, 60, 10, 5, 70, 80, 25, 65, 15],\n",
       " [50, 20, 60, 10, 5, 70, 80, 65, 25, 15],\n",
       " [50, 20, 60, 10, 70, 5, 25, 15, 80, 65],\n",
       " [50, 20, 60, 10, 70, 5, 25, 80, 15, 65],\n",
       " [50, 20, 60, 10, 70, 5, 25, 80, 65, 15],\n",
       " [50, 20, 60, 10, 70, 5, 80, 25, 15, 65],\n",
       " [50, 20, 60, 10, 70, 5, 80, 25, 65, 15],\n",
       " [50, 20, 60, 10, 70, 5, 80, 65, 25, 15],\n",
       " [50, 20, 60, 10, 70, 80, 5, 25, 15, 65],\n",
       " [50, 20, 60, 10, 70, 80, 5, 25, 65, 15],\n",
       " [50, 20, 60, 10, 70, 80, 5, 65, 25, 15],\n",
       " [50, 20, 60, 10, 70, 80, 65, 5, 25, 15],\n",
       " [50, 20, 60, 70, 10, 5, 25, 15, 80, 65],\n",
       " [50, 20, 60, 70, 10, 5, 25, 80, 15, 65],\n",
       " [50, 20, 60, 70, 10, 5, 25, 80, 65, 15],\n",
       " [50, 20, 60, 70, 10, 5, 80, 25, 15, 65],\n",
       " [50, 20, 60, 70, 10, 5, 80, 25, 65, 15],\n",
       " [50, 20, 60, 70, 10, 5, 80, 65, 25, 15],\n",
       " [50, 20, 60, 70, 10, 80, 5, 25, 15, 65],\n",
       " [50, 20, 60, 70, 10, 80, 5, 25, 65, 15],\n",
       " [50, 20, 60, 70, 10, 80, 5, 65, 25, 15],\n",
       " [50, 20, 60, 70, 10, 80, 65, 5, 25, 15],\n",
       " [50, 20, 60, 70, 80, 10, 5, 25, 15, 65],\n",
       " [50, 20, 60, 70, 80, 10, 5, 25, 65, 15],\n",
       " [50, 20, 60, 70, 80, 10, 5, 65, 25, 15],\n",
       " [50, 20, 60, 70, 80, 10, 65, 5, 25, 15],\n",
       " [50, 20, 60, 70, 80, 65, 10, 5, 25, 15],\n",
       " [50, 60, 20, 10, 5, 25, 15, 70, 80, 65],\n",
       " [50, 60, 20, 10, 5, 25, 70, 15, 80, 65],\n",
       " [50, 60, 20, 10, 5, 25, 70, 80, 15, 65],\n",
       " [50, 60, 20, 10, 5, 25, 70, 80, 65, 15],\n",
       " [50, 60, 20, 10, 5, 70, 25, 15, 80, 65],\n",
       " [50, 60, 20, 10, 5, 70, 25, 80, 15, 65],\n",
       " [50, 60, 20, 10, 5, 70, 25, 80, 65, 15],\n",
       " [50, 60, 20, 10, 5, 70, 80, 25, 15, 65],\n",
       " [50, 60, 20, 10, 5, 70, 80, 25, 65, 15],\n",
       " [50, 60, 20, 10, 5, 70, 80, 65, 25, 15],\n",
       " [50, 60, 20, 10, 70, 5, 25, 15, 80, 65],\n",
       " [50, 60, 20, 10, 70, 5, 25, 80, 15, 65],\n",
       " [50, 60, 20, 10, 70, 5, 25, 80, 65, 15],\n",
       " [50, 60, 20, 10, 70, 5, 80, 25, 15, 65],\n",
       " [50, 60, 20, 10, 70, 5, 80, 25, 65, 15],\n",
       " [50, 60, 20, 10, 70, 5, 80, 65, 25, 15],\n",
       " [50, 60, 20, 10, 70, 80, 5, 25, 15, 65],\n",
       " [50, 60, 20, 10, 70, 80, 5, 25, 65, 15],\n",
       " [50, 60, 20, 10, 70, 80, 5, 65, 25, 15],\n",
       " [50, 60, 20, 10, 70, 80, 65, 5, 25, 15],\n",
       " [50, 60, 20, 70, 10, 5, 25, 15, 80, 65],\n",
       " [50, 60, 20, 70, 10, 5, 25, 80, 15, 65],\n",
       " [50, 60, 20, 70, 10, 5, 25, 80, 65, 15],\n",
       " [50, 60, 20, 70, 10, 5, 80, 25, 15, 65],\n",
       " [50, 60, 20, 70, 10, 5, 80, 25, 65, 15],\n",
       " [50, 60, 20, 70, 10, 5, 80, 65, 25, 15],\n",
       " [50, 60, 20, 70, 10, 80, 5, 25, 15, 65],\n",
       " [50, 60, 20, 70, 10, 80, 5, 25, 65, 15],\n",
       " [50, 60, 20, 70, 10, 80, 5, 65, 25, 15],\n",
       " [50, 60, 20, 70, 10, 80, 65, 5, 25, 15],\n",
       " [50, 60, 20, 70, 80, 10, 5, 25, 15, 65],\n",
       " [50, 60, 20, 70, 80, 10, 5, 25, 65, 15],\n",
       " [50, 60, 20, 70, 80, 10, 5, 65, 25, 15],\n",
       " [50, 60, 20, 70, 80, 10, 65, 5, 25, 15],\n",
       " [50, 60, 20, 70, 80, 65, 10, 5, 25, 15],\n",
       " [50, 60, 70, 20, 10, 5, 25, 15, 80, 65],\n",
       " [50, 60, 70, 20, 10, 5, 25, 80, 15, 65],\n",
       " [50, 60, 70, 20, 10, 5, 25, 80, 65, 15],\n",
       " [50, 60, 70, 20, 10, 5, 80, 25, 15, 65],\n",
       " [50, 60, 70, 20, 10, 5, 80, 25, 65, 15],\n",
       " [50, 60, 70, 20, 10, 5, 80, 65, 25, 15],\n",
       " [50, 60, 70, 20, 10, 80, 5, 25, 15, 65],\n",
       " [50, 60, 70, 20, 10, 80, 5, 25, 65, 15],\n",
       " [50, 60, 70, 20, 10, 80, 5, 65, 25, 15],\n",
       " [50, 60, 70, 20, 10, 80, 65, 5, 25, 15],\n",
       " [50, 60, 70, 20, 80, 10, 5, 25, 15, 65],\n",
       " [50, 60, 70, 20, 80, 10, 5, 25, 65, 15],\n",
       " [50, 60, 70, 20, 80, 10, 5, 65, 25, 15],\n",
       " [50, 60, 70, 20, 80, 10, 65, 5, 25, 15],\n",
       " [50, 60, 70, 20, 80, 65, 10, 5, 25, 15],\n",
       " [50, 60, 70, 80, 20, 10, 5, 25, 15, 65],\n",
       " [50, 60, 70, 80, 20, 10, 5, 25, 65, 15],\n",
       " [50, 60, 70, 80, 20, 10, 5, 65, 25, 15],\n",
       " [50, 60, 70, 80, 20, 10, 65, 5, 25, 15],\n",
       " [50, 60, 70, 80, 20, 65, 10, 5, 25, 15],\n",
       " [50, 60, 70, 80, 65, 20, 10, 5, 25, 15],\n",
       " [50, 20, 10, 25, 5, 15, 60, 70, 65, 80],\n",
       " [50, 20, 10, 25, 5, 60, 15, 70, 65, 80],\n",
       " [50, 20, 10, 25, 5, 60, 70, 15, 65, 80],\n",
       " [50, 20, 10, 25, 5, 60, 70, 65, 15, 80],\n",
       " [50, 20, 10, 25, 5, 60, 70, 65, 80, 15],\n",
       " [50, 20, 10, 25, 60, 5, 15, 70, 65, 80],\n",
       " [50, 20, 10, 25, 60, 5, 70, 15, 65, 80],\n",
       " [50, 20, 10, 25, 60, 5, 70, 65, 15, 80],\n",
       " [50, 20, 10, 25, 60, 5, 70, 65, 80, 15],\n",
       " [50, 20, 10, 25, 60, 70, 5, 15, 65, 80],\n",
       " [50, 20, 10, 25, 60, 70, 5, 65, 15, 80],\n",
       " [50, 20, 10, 25, 60, 70, 5, 65, 80, 15],\n",
       " [50, 20, 10, 25, 60, 70, 65, 5, 15, 80],\n",
       " [50, 20, 10, 25, 60, 70, 65, 5, 80, 15],\n",
       " [50, 20, 10, 25, 60, 70, 65, 80, 5, 15],\n",
       " [50, 20, 10, 60, 25, 5, 15, 70, 65, 80],\n",
       " [50, 20, 10, 60, 25, 5, 70, 15, 65, 80],\n",
       " [50, 20, 10, 60, 25, 5, 70, 65, 15, 80],\n",
       " [50, 20, 10, 60, 25, 5, 70, 65, 80, 15],\n",
       " [50, 20, 10, 60, 25, 70, 5, 15, 65, 80],\n",
       " [50, 20, 10, 60, 25, 70, 5, 65, 15, 80],\n",
       " [50, 20, 10, 60, 25, 70, 5, 65, 80, 15],\n",
       " [50, 20, 10, 60, 25, 70, 65, 5, 15, 80],\n",
       " [50, 20, 10, 60, 25, 70, 65, 5, 80, 15],\n",
       " [50, 20, 10, 60, 25, 70, 65, 80, 5, 15],\n",
       " [50, 20, 10, 60, 70, 25, 5, 15, 65, 80],\n",
       " [50, 20, 10, 60, 70, 25, 5, 65, 15, 80],\n",
       " [50, 20, 10, 60, 70, 25, 5, 65, 80, 15],\n",
       " [50, 20, 10, 60, 70, 25, 65, 5, 15, 80],\n",
       " [50, 20, 10, 60, 70, 25, 65, 5, 80, 15],\n",
       " [50, 20, 10, 60, 70, 25, 65, 80, 5, 15],\n",
       " [50, 20, 10, 60, 70, 65, 25, 5, 15, 80],\n",
       " [50, 20, 10, 60, 70, 65, 25, 5, 80, 15],\n",
       " [50, 20, 10, 60, 70, 65, 25, 80, 5, 15],\n",
       " [50, 20, 10, 60, 70, 65, 80, 25, 5, 15],\n",
       " [50, 20, 60, 10, 25, 5, 15, 70, 65, 80],\n",
       " [50, 20, 60, 10, 25, 5, 70, 15, 65, 80],\n",
       " [50, 20, 60, 10, 25, 5, 70, 65, 15, 80],\n",
       " [50, 20, 60, 10, 25, 5, 70, 65, 80, 15],\n",
       " [50, 20, 60, 10, 25, 70, 5, 15, 65, 80],\n",
       " [50, 20, 60, 10, 25, 70, 5, 65, 15, 80],\n",
       " [50, 20, 60, 10, 25, 70, 5, 65, 80, 15],\n",
       " [50, 20, 60, 10, 25, 70, 65, 5, 15, 80],\n",
       " [50, 20, 60, 10, 25, 70, 65, 5, 80, 15],\n",
       " [50, 20, 60, 10, 25, 70, 65, 80, 5, 15],\n",
       " [50, 20, 60, 10, 70, 25, 5, 15, 65, 80],\n",
       " [50, 20, 60, 10, 70, 25, 5, 65, 15, 80],\n",
       " [50, 20, 60, 10, 70, 25, 5, 65, 80, 15],\n",
       " [50, 20, 60, 10, 70, 25, 65, 5, 15, 80],\n",
       " [50, 20, 60, 10, 70, 25, 65, 5, 80, 15],\n",
       " [50, 20, 60, 10, 70, 25, 65, 80, 5, 15],\n",
       " [50, 20, 60, 10, 70, 65, 25, 5, 15, 80],\n",
       " [50, 20, 60, 10, 70, 65, 25, 5, 80, 15],\n",
       " [50, 20, 60, 10, 70, 65, 25, 80, 5, 15],\n",
       " [50, 20, 60, 10, 70, 65, 80, 25, 5, 15],\n",
       " [50, 20, 60, 70, 10, 25, 5, 15, 65, 80],\n",
       " [50, 20, 60, 70, 10, 25, 5, 65, 15, 80],\n",
       " [50, 20, 60, 70, 10, 25, 5, 65, 80, 15],\n",
       " [50, 20, 60, 70, 10, 25, 65, 5, 15, 80],\n",
       " [50, 20, 60, 70, 10, 25, 65, 5, 80, 15],\n",
       " [50, 20, 60, 70, 10, 25, 65, 80, 5, 15],\n",
       " [50, 20, 60, 70, 10, 65, 25, 5, 15, 80],\n",
       " [50, 20, 60, 70, 10, 65, 25, 5, 80, 15],\n",
       " [50, 20, 60, 70, 10, 65, 25, 80, 5, 15],\n",
       " [50, 20, 60, 70, 10, 65, 80, 25, 5, 15],\n",
       " [50, 20, 60, 70, 65, 10, 25, 5, 15, 80],\n",
       " [50, 20, 60, 70, 65, 10, 25, 5, 80, 15],\n",
       " [50, 20, 60, 70, 65, 10, 25, 80, 5, 15],\n",
       " [50, 20, 60, 70, 65, 10, 80, 25, 5, 15],\n",
       " [50, 20, 60, 70, 65, 80, 10, 25, 5, 15],\n",
       " [50, 60, 20, 10, 25, 5, 15, 70, 65, 80],\n",
       " [50, 60, 20, 10, 25, 5, 70, 15, 65, 80],\n",
       " [50, 60, 20, 10, 25, 5, 70, 65, 15, 80],\n",
       " [50, 60, 20, 10, 25, 5, 70, 65, 80, 15],\n",
       " [50, 60, 20, 10, 25, 70, 5, 15, 65, 80],\n",
       " [50, 60, 20, 10, 25, 70, 5, 65, 15, 80],\n",
       " [50, 60, 20, 10, 25, 70, 5, 65, 80, 15],\n",
       " [50, 60, 20, 10, 25, 70, 65, 5, 15, 80],\n",
       " [50, 60, 20, 10, 25, 70, 65, 5, 80, 15],\n",
       " [50, 60, 20, 10, 25, 70, 65, 80, 5, 15],\n",
       " [50, 60, 20, 10, 70, 25, 5, 15, 65, 80],\n",
       " [50, 60, 20, 10, 70, 25, 5, 65, 15, 80],\n",
       " [50, 60, 20, 10, 70, 25, 5, 65, 80, 15],\n",
       " [50, 60, 20, 10, 70, 25, 65, 5, 15, 80],\n",
       " [50, 60, 20, 10, 70, 25, 65, 5, 80, 15],\n",
       " [50, 60, 20, 10, 70, 25, 65, 80, 5, 15],\n",
       " [50, 60, 20, 10, 70, 65, 25, 5, 15, 80],\n",
       " [50, 60, 20, 10, 70, 65, 25, 5, 80, 15],\n",
       " [50, 60, 20, 10, 70, 65, 25, 80, 5, 15],\n",
       " [50, 60, 20, 10, 70, 65, 80, 25, 5, 15],\n",
       " [50, 60, 20, 70, 10, 25, 5, 15, 65, 80],\n",
       " [50, 60, 20, 70, 10, 25, 5, 65, 15, 80],\n",
       " [50, 60, 20, 70, 10, 25, 5, 65, 80, 15],\n",
       " [50, 60, 20, 70, 10, 25, 65, 5, 15, 80],\n",
       " [50, 60, 20, 70, 10, 25, 65, 5, 80, 15],\n",
       " [50, 60, 20, 70, 10, 25, 65, 80, 5, 15],\n",
       " [50, 60, 20, 70, 10, 65, 25, 5, 15, 80],\n",
       " [50, 60, 20, 70, 10, 65, 25, 5, 80, 15],\n",
       " [50, 60, 20, 70, 10, 65, 25, 80, 5, 15],\n",
       " [50, 60, 20, 70, 10, 65, 80, 25, 5, 15],\n",
       " [50, 60, 20, 70, 65, 10, 25, 5, 15, 80],\n",
       " [50, 60, 20, 70, 65, 10, 25, 5, 80, 15],\n",
       " [50, 60, 20, 70, 65, 10, 25, 80, 5, 15],\n",
       " [50, 60, 20, 70, 65, 10, 80, 25, 5, 15],\n",
       " [50, 60, 20, 70, 65, 80, 10, 25, 5, 15],\n",
       " [50, 60, 70, 20, 10, 25, 5, 15, 65, 80],\n",
       " [50, 60, 70, 20, 10, 25, 5, 65, 15, 80],\n",
       " [50, 60, 70, 20, 10, 25, 5, 65, 80, 15],\n",
       " [50, 60, 70, 20, 10, 25, 65, 5, 15, 80],\n",
       " [50, 60, 70, 20, 10, 25, 65, 5, 80, 15],\n",
       " [50, 60, 70, 20, 10, 25, 65, 80, 5, 15],\n",
       " [50, 60, 70, 20, 10, 65, 25, 5, 15, 80],\n",
       " [50, 60, 70, 20, 10, 65, 25, 5, 80, 15],\n",
       " [50, 60, 70, 20, 10, 65, 25, 80, 5, 15],\n",
       " [50, 60, 70, 20, 10, 65, 80, 25, 5, 15],\n",
       " [50, 60, 70, 20, 65, 10, 25, 5, 15, 80],\n",
       " [50, 60, 70, 20, 65, 10, 25, 5, 80, 15],\n",
       " [50, 60, 70, 20, 65, 10, 25, 80, 5, 15],\n",
       " [50, 60, 70, 20, 65, 10, 80, 25, 5, 15],\n",
       " [50, 60, 70, 20, 65, 80, 10, 25, 5, 15],\n",
       " [50, 60, 70, 65, 20, 10, 25, 5, 15, 80],\n",
       " [50, 60, 70, 65, 20, 10, 25, 5, 80, 15],\n",
       " [50, 60, 70, 65, 20, 10, 25, 80, 5, 15],\n",
       " [50, 60, 70, 65, 20, 10, 80, 25, 5, 15],\n",
       " [50, 60, 70, 65, 20, 80, 10, 25, 5, 15],\n",
       " [50, 60, 70, 65, 80, 20, 10, 25, 5, 15],\n",
       " [50, 20, 10, 25, 5, 15, 60, 70, 80, 65],\n",
       " [50, 20, 10, 25, 5, 60, 15, 70, 80, 65],\n",
       " [50, 20, 10, 25, 5, 60, 70, 15, 80, 65],\n",
       " [50, 20, 10, 25, 5, 60, 70, 80, 15, 65],\n",
       " [50, 20, 10, 25, 5, 60, 70, 80, 65, 15],\n",
       " [50, 20, 10, 25, 60, 5, 15, 70, 80, 65],\n",
       " [50, 20, 10, 25, 60, 5, 70, 15, 80, 65],\n",
       " [50, 20, 10, 25, 60, 5, 70, 80, 15, 65],\n",
       " [50, 20, 10, 25, 60, 5, 70, 80, 65, 15],\n",
       " [50, 20, 10, 25, 60, 70, 5, 15, 80, 65],\n",
       " [50, 20, 10, 25, 60, 70, 5, 80, 15, 65],\n",
       " [50, 20, 10, 25, 60, 70, 5, 80, 65, 15],\n",
       " [50, 20, 10, 25, 60, 70, 80, 5, 15, 65],\n",
       " [50, 20, 10, 25, 60, 70, 80, 5, 65, 15],\n",
       " [50, 20, 10, 25, 60, 70, 80, 65, 5, 15],\n",
       " [50, 20, 10, 60, 25, 5, 15, 70, 80, 65],\n",
       " [50, 20, 10, 60, 25, 5, 70, 15, 80, 65],\n",
       " [50, 20, 10, 60, 25, 5, 70, 80, 15, 65],\n",
       " [50, 20, 10, 60, 25, 5, 70, 80, 65, 15],\n",
       " [50, 20, 10, 60, 25, 70, 5, 15, 80, 65],\n",
       " [50, 20, 10, 60, 25, 70, 5, 80, 15, 65],\n",
       " [50, 20, 10, 60, 25, 70, 5, 80, 65, 15],\n",
       " [50, 20, 10, 60, 25, 70, 80, 5, 15, 65],\n",
       " [50, 20, 10, 60, 25, 70, 80, 5, 65, 15],\n",
       " [50, 20, 10, 60, 25, 70, 80, 65, 5, 15],\n",
       " [50, 20, 10, 60, 70, 25, 5, 15, 80, 65],\n",
       " [50, 20, 10, 60, 70, 25, 5, 80, 15, 65],\n",
       " [50, 20, 10, 60, 70, 25, 5, 80, 65, 15],\n",
       " [50, 20, 10, 60, 70, 25, 80, 5, 15, 65],\n",
       " [50, 20, 10, 60, 70, 25, 80, 5, 65, 15],\n",
       " [50, 20, 10, 60, 70, 25, 80, 65, 5, 15],\n",
       " [50, 20, 10, 60, 70, 80, 25, 5, 15, 65],\n",
       " [50, 20, 10, 60, 70, 80, 25, 5, 65, 15],\n",
       " [50, 20, 10, 60, 70, 80, 25, 65, 5, 15],\n",
       " [50, 20, 10, 60, 70, 80, 65, 25, 5, 15],\n",
       " [50, 20, 60, 10, 25, 5, 15, 70, 80, 65],\n",
       " [50, 20, 60, 10, 25, 5, 70, 15, 80, 65],\n",
       " [50, 20, 60, 10, 25, 5, 70, 80, 15, 65],\n",
       " [50, 20, 60, 10, 25, 5, 70, 80, 65, 15],\n",
       " [50, 20, 60, 10, 25, 70, 5, 15, 80, 65],\n",
       " [50, 20, 60, 10, 25, 70, 5, 80, 15, 65],\n",
       " [50, 20, 60, 10, 25, 70, 5, 80, 65, 15],\n",
       " [50, 20, 60, 10, 25, 70, 80, 5, 15, 65],\n",
       " [50, 20, 60, 10, 25, 70, 80, 5, 65, 15],\n",
       " [50, 20, 60, 10, 25, 70, 80, 65, 5, 15],\n",
       " [50, 20, 60, 10, 70, 25, 5, 15, 80, 65],\n",
       " [50, 20, 60, 10, 70, 25, 5, 80, 15, 65],\n",
       " [50, 20, 60, 10, 70, 25, 5, 80, 65, 15],\n",
       " [50, 20, 60, 10, 70, 25, 80, 5, 15, 65],\n",
       " [50, 20, 60, 10, 70, 25, 80, 5, 65, 15],\n",
       " [50, 20, 60, 10, 70, 25, 80, 65, 5, 15],\n",
       " [50, 20, 60, 10, 70, 80, 25, 5, 15, 65],\n",
       " [50, 20, 60, 10, 70, 80, 25, 5, 65, 15],\n",
       " [50, 20, 60, 10, 70, 80, 25, 65, 5, 15],\n",
       " [50, 20, 60, 10, 70, 80, 65, 25, 5, 15],\n",
       " [50, 20, 60, 70, 10, 25, 5, 15, 80, 65],\n",
       " [50, 20, 60, 70, 10, 25, 5, 80, 15, 65],\n",
       " [50, 20, 60, 70, 10, 25, 5, 80, 65, 15],\n",
       " [50, 20, 60, 70, 10, 25, 80, 5, 15, 65],\n",
       " [50, 20, 60, 70, 10, 25, 80, 5, 65, 15],\n",
       " [50, 20, 60, 70, 10, 25, 80, 65, 5, 15],\n",
       " [50, 20, 60, 70, 10, 80, 25, 5, 15, 65],\n",
       " [50, 20, 60, 70, 10, 80, 25, 5, 65, 15],\n",
       " [50, 20, 60, 70, 10, 80, 25, 65, 5, 15],\n",
       " [50, 20, 60, 70, 10, 80, 65, 25, 5, 15],\n",
       " [50, 20, 60, 70, 80, 10, 25, 5, 15, 65],\n",
       " [50, 20, 60, 70, 80, 10, 25, 5, 65, 15],\n",
       " [50, 20, 60, 70, 80, 10, 25, 65, 5, 15],\n",
       " [50, 20, 60, 70, 80, 10, 65, 25, 5, 15],\n",
       " [50, 20, 60, 70, 80, 65, 10, 25, 5, 15],\n",
       " [50, 60, 20, 10, 25, 5, 15, 70, 80, 65],\n",
       " [50, 60, 20, 10, 25, 5, 70, 15, 80, 65],\n",
       " [50, 60, 20, 10, 25, 5, 70, 80, 15, 65],\n",
       " [50, 60, 20, 10, 25, 5, 70, 80, 65, 15],\n",
       " [50, 60, 20, 10, 25, 70, 5, 15, 80, 65],\n",
       " [50, 60, 20, 10, 25, 70, 5, 80, 15, 65],\n",
       " [50, 60, 20, 10, 25, 70, 5, 80, 65, 15],\n",
       " [50, 60, 20, 10, 25, 70, 80, 5, 15, 65],\n",
       " [50, 60, 20, 10, 25, 70, 80, 5, 65, 15],\n",
       " [50, 60, 20, 10, 25, 70, 80, 65, 5, 15],\n",
       " [50, 60, 20, 10, 70, 25, 5, 15, 80, 65],\n",
       " [50, 60, 20, 10, 70, 25, 5, 80, 15, 65],\n",
       " [50, 60, 20, 10, 70, 25, 5, 80, 65, 15],\n",
       " [50, 60, 20, 10, 70, 25, 80, 5, 15, 65],\n",
       " [50, 60, 20, 10, 70, 25, 80, 5, 65, 15],\n",
       " [50, 60, 20, 10, 70, 25, 80, 65, 5, 15],\n",
       " [50, 60, 20, 10, 70, 80, 25, 5, 15, 65],\n",
       " [50, 60, 20, 10, 70, 80, 25, 5, 65, 15],\n",
       " [50, 60, 20, 10, 70, 80, 25, 65, 5, 15],\n",
       " [50, 60, 20, 10, 70, 80, 65, 25, 5, 15],\n",
       " [50, 60, 20, 70, 10, 25, 5, 15, 80, 65],\n",
       " [50, 60, 20, 70, 10, 25, 5, 80, 15, 65],\n",
       " [50, 60, 20, 70, 10, 25, 5, 80, 65, 15],\n",
       " [50, 60, 20, 70, 10, 25, 80, 5, 15, 65],\n",
       " [50, 60, 20, 70, 10, 25, 80, 5, 65, 15],\n",
       " [50, 60, 20, 70, 10, 25, 80, 65, 5, 15],\n",
       " [50, 60, 20, 70, 10, 80, 25, 5, 15, 65],\n",
       " [50, 60, 20, 70, 10, 80, 25, 5, 65, 15],\n",
       " [50, 60, 20, 70, 10, 80, 25, 65, 5, 15],\n",
       " [50, 60, 20, 70, 10, 80, 65, 25, 5, 15],\n",
       " [50, 60, 20, 70, 80, 10, 25, 5, 15, 65],\n",
       " [50, 60, 20, 70, 80, 10, 25, 5, 65, 15],\n",
       " [50, 60, 20, 70, 80, 10, 25, 65, 5, 15],\n",
       " [50, 60, 20, 70, 80, 10, 65, 25, 5, 15],\n",
       " [50, 60, 20, 70, 80, 65, 10, 25, 5, 15],\n",
       " [50, 60, 70, 20, 10, 25, 5, 15, 80, 65],\n",
       " [50, 60, 70, 20, 10, 25, 5, 80, 15, 65],\n",
       " [50, 60, 70, 20, 10, 25, 5, 80, 65, 15],\n",
       " [50, 60, 70, 20, 10, 25, 80, 5, 15, 65],\n",
       " [50, 60, 70, 20, 10, 25, 80, 5, 65, 15],\n",
       " [50, 60, 70, 20, 10, 25, 80, 65, 5, 15],\n",
       " [50, 60, 70, 20, 10, 80, 25, 5, 15, 65],\n",
       " [50, 60, 70, 20, 10, 80, 25, 5, 65, 15],\n",
       " [50, 60, 70, 20, 10, 80, 25, 65, 5, 15],\n",
       " [50, 60, 70, 20, 10, 80, 65, 25, 5, 15],\n",
       " [50, 60, 70, 20, 80, 10, 25, 5, 15, 65],\n",
       " [50, 60, 70, 20, 80, 10, 25, 5, 65, 15],\n",
       " [50, 60, 70, 20, 80, 10, 25, 65, 5, 15],\n",
       " [50, 60, 70, 20, 80, 10, 65, 25, 5, 15],\n",
       " [50, 60, 70, 20, 80, 65, 10, 25, 5, 15],\n",
       " [50, 60, 70, 80, 20, 10, 25, 5, 15, 65],\n",
       " [50, 60, 70, 80, 20, 10, 25, 5, 65, 15],\n",
       " [50, 60, 70, 80, 20, 10, 25, 65, 5, 15],\n",
       " [50, 60, 70, 80, 20, 10, 65, 25, 5, 15],\n",
       " [50, 60, 70, 80, 20, 65, 10, 25, 5, 15],\n",
       " [50, 60, 70, 80, 65, 20, 10, 25, 5, 15],\n",
       " [50, 20, 25, 10, 5, 15, 60, 70, 65, 80],\n",
       " [50, 20, 25, 10, 5, 60, 15, 70, 65, 80],\n",
       " [50, 20, 25, 10, 5, 60, 70, 15, 65, 80],\n",
       " [50, 20, 25, 10, 5, 60, 70, 65, 15, 80],\n",
       " [50, 20, 25, 10, 5, 60, 70, 65, 80, 15],\n",
       " [50, 20, 25, 10, 60, 5, 15, 70, 65, 80],\n",
       " [50, 20, 25, 10, 60, 5, 70, 15, 65, 80],\n",
       " [50, 20, 25, 10, 60, 5, 70, 65, 15, 80],\n",
       " [50, 20, 25, 10, 60, 5, 70, 65, 80, 15],\n",
       " [50, 20, 25, 10, 60, 70, 5, 15, 65, 80],\n",
       " [50, 20, 25, 10, 60, 70, 5, 65, 15, 80],\n",
       " [50, 20, 25, 10, 60, 70, 5, 65, 80, 15],\n",
       " [50, 20, 25, 10, 60, 70, 65, 5, 15, 80],\n",
       " [50, 20, 25, 10, 60, 70, 65, 5, 80, 15],\n",
       " [50, 20, 25, 10, 60, 70, 65, 80, 5, 15],\n",
       " [50, 20, 25, 60, 10, 5, 15, 70, 65, 80],\n",
       " [50, 20, 25, 60, 10, 5, 70, 15, 65, 80],\n",
       " [50, 20, 25, 60, 10, 5, 70, 65, 15, 80],\n",
       " [50, 20, 25, 60, 10, 5, 70, 65, 80, 15],\n",
       " [50, 20, 25, 60, 10, 70, 5, 15, 65, 80],\n",
       " [50, 20, 25, 60, 10, 70, 5, 65, 15, 80],\n",
       " [50, 20, 25, 60, 10, 70, 5, 65, 80, 15],\n",
       " [50, 20, 25, 60, 10, 70, 65, 5, 15, 80],\n",
       " [50, 20, 25, 60, 10, 70, 65, 5, 80, 15],\n",
       " [50, 20, 25, 60, 10, 70, 65, 80, 5, 15],\n",
       " [50, 20, 25, 60, 70, 10, 5, 15, 65, 80],\n",
       " [50, 20, 25, 60, 70, 10, 5, 65, 15, 80],\n",
       " [50, 20, 25, 60, 70, 10, 5, 65, 80, 15],\n",
       " [50, 20, 25, 60, 70, 10, 65, 5, 15, 80],\n",
       " [50, 20, 25, 60, 70, 10, 65, 5, 80, 15],\n",
       " [50, 20, 25, 60, 70, 10, 65, 80, 5, 15],\n",
       " [50, 20, 25, 60, 70, 65, 10, 5, 15, 80],\n",
       " [50, 20, 25, 60, 70, 65, 10, 5, 80, 15],\n",
       " [50, 20, 25, 60, 70, 65, 10, 80, 5, 15],\n",
       " [50, 20, 25, 60, 70, 65, 80, 10, 5, 15],\n",
       " [50, 20, 60, 25, 10, 5, 15, 70, 65, 80],\n",
       " [50, 20, 60, 25, 10, 5, 70, 15, 65, 80],\n",
       " [50, 20, 60, 25, 10, 5, 70, 65, 15, 80],\n",
       " [50, 20, 60, 25, 10, 5, 70, 65, 80, 15],\n",
       " [50, 20, 60, 25, 10, 70, 5, 15, 65, 80],\n",
       " [50, 20, 60, 25, 10, 70, 5, 65, 15, 80],\n",
       " [50, 20, 60, 25, 10, 70, 5, 65, 80, 15],\n",
       " [50, 20, 60, 25, 10, 70, 65, 5, 15, 80],\n",
       " [50, 20, 60, 25, 10, 70, 65, 5, 80, 15],\n",
       " [50, 20, 60, 25, 10, 70, 65, 80, 5, 15],\n",
       " [50, 20, 60, 25, 70, 10, 5, 15, 65, 80],\n",
       " [50, 20, 60, 25, 70, 10, 5, 65, 15, 80],\n",
       " [50, 20, 60, 25, 70, 10, 5, 65, 80, 15],\n",
       " [50, 20, 60, 25, 70, 10, 65, 5, 15, 80],\n",
       " [50, 20, 60, 25, 70, 10, 65, 5, 80, 15],\n",
       " [50, 20, 60, 25, 70, 10, 65, 80, 5, 15],\n",
       " [50, 20, 60, 25, 70, 65, 10, 5, 15, 80],\n",
       " [50, 20, 60, 25, 70, 65, 10, 5, 80, 15],\n",
       " [50, 20, 60, 25, 70, 65, 10, 80, 5, 15],\n",
       " [50, 20, 60, 25, 70, 65, 80, 10, 5, 15],\n",
       " [50, 20, 60, 70, 25, 10, 5, 15, 65, 80],\n",
       " [50, 20, 60, 70, 25, 10, 5, 65, 15, 80],\n",
       " [50, 20, 60, 70, 25, 10, 5, 65, 80, 15],\n",
       " [50, 20, 60, 70, 25, 10, 65, 5, 15, 80],\n",
       " [50, 20, 60, 70, 25, 10, 65, 5, 80, 15],\n",
       " [50, 20, 60, 70, 25, 10, 65, 80, 5, 15],\n",
       " [50, 20, 60, 70, 25, 65, 10, 5, 15, 80],\n",
       " [50, 20, 60, 70, 25, 65, 10, 5, 80, 15],\n",
       " [50, 20, 60, 70, 25, 65, 10, 80, 5, 15],\n",
       " [50, 20, 60, 70, 25, 65, 80, 10, 5, 15],\n",
       " [50, 20, 60, 70, 65, 25, 10, 5, 15, 80],\n",
       " [50, 20, 60, 70, 65, 25, 10, 5, 80, 15],\n",
       " [50, 20, 60, 70, 65, 25, 10, 80, 5, 15],\n",
       " [50, 20, 60, 70, 65, 25, 80, 10, 5, 15],\n",
       " [50, 20, 60, 70, 65, 80, 25, 10, 5, 15],\n",
       " [50, 60, 20, 25, 10, 5, 15, 70, 65, 80],\n",
       " [50, 60, 20, 25, 10, 5, 70, 15, 65, 80],\n",
       " [50, 60, 20, 25, 10, 5, 70, 65, 15, 80],\n",
       " [50, 60, 20, 25, 10, 5, 70, 65, 80, 15],\n",
       " [50, 60, 20, 25, 10, 70, 5, 15, 65, 80],\n",
       " [50, 60, 20, 25, 10, 70, 5, 65, 15, 80],\n",
       " [50, 60, 20, 25, 10, 70, 5, 65, 80, 15],\n",
       " [50, 60, 20, 25, 10, 70, 65, 5, 15, 80],\n",
       " [50, 60, 20, 25, 10, 70, 65, 5, 80, 15],\n",
       " [50, 60, 20, 25, 10, 70, 65, 80, 5, 15],\n",
       " [50, 60, 20, 25, 70, 10, 5, 15, 65, 80],\n",
       " [50, 60, 20, 25, 70, 10, 5, 65, 15, 80],\n",
       " [50, 60, 20, 25, 70, 10, 5, 65, 80, 15],\n",
       " [50, 60, 20, 25, 70, 10, 65, 5, 15, 80],\n",
       " [50, 60, 20, 25, 70, 10, 65, 5, 80, 15],\n",
       " [50, 60, 20, 25, 70, 10, 65, 80, 5, 15],\n",
       " [50, 60, 20, 25, 70, 65, 10, 5, 15, 80],\n",
       " [50, 60, 20, 25, 70, 65, 10, 5, 80, 15],\n",
       " [50, 60, 20, 25, 70, 65, 10, 80, 5, 15],\n",
       " [50, 60, 20, 25, 70, 65, 80, 10, 5, 15],\n",
       " [50, 60, 20, 70, 25, 10, 5, 15, 65, 80],\n",
       " [50, 60, 20, 70, 25, 10, 5, 65, 15, 80],\n",
       " [50, 60, 20, 70, 25, 10, 5, 65, 80, 15],\n",
       " [50, 60, 20, 70, 25, 10, 65, 5, 15, 80],\n",
       " [50, 60, 20, 70, 25, 10, 65, 5, 80, 15],\n",
       " [50, 60, 20, 70, 25, 10, 65, 80, 5, 15],\n",
       " [50, 60, 20, 70, 25, 65, 10, 5, 15, 80],\n",
       " [50, 60, 20, 70, 25, 65, 10, 5, 80, 15],\n",
       " [50, 60, 20, 70, 25, 65, 10, 80, 5, 15],\n",
       " [50, 60, 20, 70, 25, 65, 80, 10, 5, 15],\n",
       " [50, 60, 20, 70, 65, 25, 10, 5, 15, 80],\n",
       " [50, 60, 20, 70, 65, 25, 10, 5, 80, 15],\n",
       " [50, 60, 20, 70, 65, 25, 10, 80, 5, 15],\n",
       " [50, 60, 20, 70, 65, 25, 80, 10, 5, 15],\n",
       " [50, 60, 20, 70, 65, 80, 25, 10, 5, 15],\n",
       " [50, 60, 70, 20, 25, 10, 5, 15, 65, 80],\n",
       " [50, 60, 70, 20, 25, 10, 5, 65, 15, 80],\n",
       " [50, 60, 70, 20, 25, 10, 5, 65, 80, 15],\n",
       " [50, 60, 70, 20, 25, 10, 65, 5, 15, 80],\n",
       " [50, 60, 70, 20, 25, 10, 65, 5, 80, 15],\n",
       " [50, 60, 70, 20, 25, 10, 65, 80, 5, 15],\n",
       " [50, 60, 70, 20, 25, 65, 10, 5, 15, 80],\n",
       " [50, 60, 70, 20, 25, 65, 10, 5, 80, 15],\n",
       " [50, 60, 70, 20, 25, 65, 10, 80, 5, 15],\n",
       " [50, 60, 70, 20, 25, 65, 80, 10, 5, 15],\n",
       " [50, 60, 70, 20, 65, 25, 10, 5, 15, 80],\n",
       " [50, 60, 70, 20, 65, 25, 10, 5, 80, 15],\n",
       " [50, 60, 70, 20, 65, 25, 10, 80, 5, 15],\n",
       " [50, 60, 70, 20, 65, 25, 80, 10, 5, 15],\n",
       " [50, 60, 70, 20, 65, 80, 25, 10, 5, 15],\n",
       " [50, 60, 70, 65, 20, 25, 10, 5, 15, 80],\n",
       " [50, 60, 70, 65, 20, 25, 10, 5, 80, 15],\n",
       " [50, 60, 70, 65, 20, 25, 10, 80, 5, 15],\n",
       " [50, 60, 70, 65, 20, 25, 80, 10, 5, 15],\n",
       " [50, 60, 70, 65, 20, 80, 25, 10, 5, 15],\n",
       " [50, 60, 70, 65, 80, 20, 25, 10, 5, 15],\n",
       " [50, 20, 25, 10, 5, 15, 60, 70, 80, 65],\n",
       " [50, 20, 25, 10, 5, 60, 15, 70, 80, 65],\n",
       " [50, 20, 25, 10, 5, 60, 70, 15, 80, 65],\n",
       " [50, 20, 25, 10, 5, 60, 70, 80, 15, 65],\n",
       " [50, 20, 25, 10, 5, 60, 70, 80, 65, 15],\n",
       " [50, 20, 25, 10, 60, 5, 15, 70, 80, 65],\n",
       " [50, 20, 25, 10, 60, 5, 70, 15, 80, 65],\n",
       " [50, 20, 25, 10, 60, 5, 70, 80, 15, 65],\n",
       " [50, 20, 25, 10, 60, 5, 70, 80, 65, 15],\n",
       " [50, 20, 25, 10, 60, 70, 5, 15, 80, 65],\n",
       " [50, 20, 25, 10, 60, 70, 5, 80, 15, 65],\n",
       " [50, 20, 25, 10, 60, 70, 5, 80, 65, 15],\n",
       " [50, 20, 25, 10, 60, 70, 80, 5, 15, 65],\n",
       " [50, 20, 25, 10, 60, 70, 80, 5, 65, 15],\n",
       " [50, 20, 25, 10, 60, 70, 80, 65, 5, 15],\n",
       " [50, 20, 25, 60, 10, 5, 15, 70, 80, 65],\n",
       " [50, 20, 25, 60, 10, 5, 70, 15, 80, 65],\n",
       " [50, 20, 25, 60, 10, 5, 70, 80, 15, 65],\n",
       " [50, 20, 25, 60, 10, 5, 70, 80, 65, 15],\n",
       " [50, 20, 25, 60, 10, 70, 5, 15, 80, 65],\n",
       " [50, 20, 25, 60, 10, 70, 5, 80, 15, 65],\n",
       " [50, 20, 25, 60, 10, 70, 5, 80, 65, 15],\n",
       " [50, 20, 25, 60, 10, 70, 80, 5, 15, 65],\n",
       " [50, 20, 25, 60, 10, 70, 80, 5, 65, 15],\n",
       " [50, 20, 25, 60, 10, 70, 80, 65, 5, 15],\n",
       " [50, 20, 25, 60, 70, 10, 5, 15, 80, 65],\n",
       " [50, 20, 25, 60, 70, 10, 5, 80, 15, 65],\n",
       " [50, 20, 25, 60, 70, 10, 5, 80, 65, 15],\n",
       " [50, 20, 25, 60, 70, 10, 80, 5, 15, 65],\n",
       " [50, 20, 25, 60, 70, 10, 80, 5, 65, 15],\n",
       " [50, 20, 25, 60, 70, 10, 80, 65, 5, 15],\n",
       " [50, 20, 25, 60, 70, 80, 10, 5, 15, 65],\n",
       " [50, 20, 25, 60, 70, 80, 10, 5, 65, 15],\n",
       " [50, 20, 25, 60, 70, 80, 10, 65, 5, 15],\n",
       " [50, 20, 25, 60, 70, 80, 65, 10, 5, 15],\n",
       " [50, 20, 60, 25, 10, 5, 15, 70, 80, 65],\n",
       " [50, 20, 60, 25, 10, 5, 70, 15, 80, 65],\n",
       " [50, 20, 60, 25, 10, 5, 70, 80, 15, 65],\n",
       " [50, 20, 60, 25, 10, 5, 70, 80, 65, 15],\n",
       " [50, 20, 60, 25, 10, 70, 5, 15, 80, 65],\n",
       " [50, 20, 60, 25, 10, 70, 5, 80, 15, 65],\n",
       " [50, 20, 60, 25, 10, 70, 5, 80, 65, 15],\n",
       " [50, 20, 60, 25, 10, 70, 80, 5, 15, 65],\n",
       " [50, 20, 60, 25, 10, 70, 80, 5, 65, 15],\n",
       " [50, 20, 60, 25, 10, 70, 80, 65, 5, 15],\n",
       " [50, 20, 60, 25, 70, 10, 5, 15, 80, 65],\n",
       " [50, 20, 60, 25, 70, 10, 5, 80, 15, 65],\n",
       " [50, 20, 60, 25, 70, 10, 5, 80, 65, 15],\n",
       " [50, 20, 60, 25, 70, 10, 80, 5, 15, 65],\n",
       " [50, 20, 60, 25, 70, 10, 80, 5, 65, 15],\n",
       " [50, 20, 60, 25, 70, 10, 80, 65, 5, 15],\n",
       " [50, 20, 60, 25, 70, 80, 10, 5, 15, 65],\n",
       " [50, 20, 60, 25, 70, 80, 10, 5, 65, 15],\n",
       " [50, 20, 60, 25, 70, 80, 10, 65, 5, 15],\n",
       " [50, 20, 60, 25, 70, 80, 65, 10, 5, 15],\n",
       " [50, 20, 60, 70, 25, 10, 5, 15, 80, 65],\n",
       " [50, 20, 60, 70, 25, 10, 5, 80, 15, 65],\n",
       " [50, 20, 60, 70, 25, 10, 5, 80, 65, 15],\n",
       " [50, 20, 60, 70, 25, 10, 80, 5, 15, 65],\n",
       " [50, 20, 60, 70, 25, 10, 80, 5, 65, 15],\n",
       " [50, 20, 60, 70, 25, 10, 80, 65, 5, 15],\n",
       " [50, 20, 60, 70, 25, 80, 10, 5, 15, 65],\n",
       " [50, 20, 60, 70, 25, 80, 10, 5, 65, 15],\n",
       " [50, 20, 60, 70, 25, 80, 10, 65, 5, 15],\n",
       " [50, 20, 60, 70, 25, 80, 65, 10, 5, 15],\n",
       " [50, 20, 60, 70, 80, 25, 10, 5, 15, 65],\n",
       " [50, 20, 60, 70, 80, 25, 10, 5, 65, 15],\n",
       " [50, 20, 60, 70, 80, 25, 10, 65, 5, 15],\n",
       " [50, 20, 60, 70, 80, 25, 65, 10, 5, 15],\n",
       " [50, 20, 60, 70, 80, 65, 25, 10, 5, 15],\n",
       " [50, 60, 20, 25, 10, 5, 15, 70, 80, 65],\n",
       " [50, 60, 20, 25, 10, 5, 70, 15, 80, 65],\n",
       " [50, 60, 20, 25, 10, 5, 70, 80, 15, 65],\n",
       " [50, 60, 20, 25, 10, 5, 70, 80, 65, 15],\n",
       " [50, 60, 20, 25, 10, 70, 5, 15, 80, 65],\n",
       " [50, 60, 20, 25, 10, 70, 5, 80, 15, 65],\n",
       " [50, 60, 20, 25, 10, 70, 5, 80, 65, 15],\n",
       " [50, 60, 20, 25, 10, 70, 80, 5, 15, 65],\n",
       " [50, 60, 20, 25, 10, 70, 80, 5, 65, 15],\n",
       " [50, 60, 20, 25, 10, 70, 80, 65, 5, 15],\n",
       " [50, 60, 20, 25, 70, 10, 5, 15, 80, 65],\n",
       " [50, 60, 20, 25, 70, 10, 5, 80, 15, 65],\n",
       " [50, 60, 20, 25, 70, 10, 5, 80, 65, 15],\n",
       " [50, 60, 20, 25, 70, 10, 80, 5, 15, 65],\n",
       " [50, 60, 20, 25, 70, 10, 80, 5, 65, 15],\n",
       " [50, 60, 20, 25, 70, 10, 80, 65, 5, 15],\n",
       " [50, 60, 20, 25, 70, 80, 10, 5, 15, 65],\n",
       " [50, 60, 20, 25, 70, 80, 10, 5, 65, 15],\n",
       " [50, 60, 20, 25, 70, 80, 10, 65, 5, 15],\n",
       " [50, 60, 20, 25, 70, 80, 65, 10, 5, 15],\n",
       " [50, 60, 20, 70, 25, 10, 5, 15, 80, 65],\n",
       " [50, 60, 20, 70, 25, 10, 5, 80, 15, 65],\n",
       " [50, 60, 20, 70, 25, 10, 5, 80, 65, 15],\n",
       " [50, 60, 20, 70, 25, 10, 80, 5, 15, 65],\n",
       " [50, 60, 20, 70, 25, 10, 80, 5, 65, 15],\n",
       " [50, 60, 20, 70, 25, 10, 80, 65, 5, 15],\n",
       " [50, 60, 20, 70, 25, 80, 10, 5, 15, 65],\n",
       " [50, 60, 20, 70, 25, 80, 10, 5, 65, 15],\n",
       " [50, 60, 20, 70, 25, 80, 10, 65, 5, 15],\n",
       " [50, 60, 20, 70, 25, 80, 65, 10, 5, 15],\n",
       " [50, 60, 20, 70, 80, 25, 10, 5, 15, 65],\n",
       " [50, 60, 20, 70, 80, 25, 10, 5, 65, 15],\n",
       " [50, 60, 20, 70, 80, 25, 10, 65, 5, 15],\n",
       " [50, 60, 20, 70, 80, 25, 65, 10, 5, 15],\n",
       " [50, 60, 20, 70, 80, 65, 25, 10, 5, 15],\n",
       " [50, 60, 70, 20, 25, 10, 5, 15, 80, 65],\n",
       " [50, 60, 70, 20, 25, 10, 5, 80, 15, 65],\n",
       " [50, 60, 70, 20, 25, 10, 5, 80, 65, 15],\n",
       " [50, 60, 70, 20, 25, 10, 80, 5, 15, 65],\n",
       " [50, 60, 70, 20, 25, 10, 80, 5, 65, 15],\n",
       " [50, 60, 70, 20, 25, 10, 80, 65, 5, 15],\n",
       " [50, 60, 70, 20, 25, 80, 10, 5, 15, 65],\n",
       " [50, 60, 70, 20, 25, 80, 10, 5, 65, 15],\n",
       " [50, 60, 70, 20, 25, 80, 10, 65, 5, 15],\n",
       " [50, 60, 70, 20, 25, 80, 65, 10, 5, 15],\n",
       " [50, 60, 70, 20, 80, 25, 10, 5, 15, 65],\n",
       " [50, 60, 70, 20, 80, 25, 10, 5, 65, 15],\n",
       " [50, 60, 70, 20, 80, 25, 10, 65, 5, 15],\n",
       " ...]"
      ]
     },
     "execution_count": 85,
     "metadata": {},
     "output_type": "execute_result"
    }
   ],
   "source": [
    "bst_seq(arbol10)"
   ]
  },
  {
   "cell_type": "markdown",
   "metadata": {},
   "source": [
    "run time O(n) porque recorre todos los elementos del arbol, en memoria debe ser algo como factorial "
   ]
  },
  {
   "cell_type": "markdown",
   "metadata": {},
   "source": [
    "# check subtree"
   ]
  },
  {
   "cell_type": "code",
   "execution_count": 73,
   "metadata": {},
   "outputs": [],
   "source": [
    "# nodo prueba\n",
    "ndo1=Node(4)\n",
    "##\n",
    "ndo2=Node(2,ndo1)\n",
    "ndo3=Node(3)\n",
    "##\n",
    "ndo4=Node(1,ndo2,ndo3)"
   ]
  },
  {
   "cell_type": "code",
   "execution_count": 74,
   "metadata": {},
   "outputs": [
    {
     "data": {
      "text/plain": [
       "[1, 2, 4, 3]"
      ]
     },
     "execution_count": 74,
     "metadata": {},
     "output_type": "execute_result"
    }
   ],
   "source": [
    "preOrder(ndo4,[])"
   ]
  },
  {
   "cell_type": "code",
   "execution_count": null,
   "metadata": {},
   "outputs": [],
   "source": []
  },
  {
   "cell_type": "code",
   "execution_count": 75,
   "metadata": {},
   "outputs": [],
   "source": [
    "def matchTree(root1,root2):\n",
    "    if root1 is None and root2 is None:\n",
    "        return True\n",
    "    elif root1 is None or root2 is None:\n",
    "        return False\n",
    "    elif root1.value!= root2.value:\n",
    "        return False\n",
    "    else:\n",
    "        return  matchTree(root1.left,root2.left) and matchTree(root1.right,root2.right)"
   ]
  },
  {
   "cell_type": "code",
   "execution_count": 76,
   "metadata": {},
   "outputs": [],
   "source": [
    "def subTree(root1,root2):\n",
    "    if root1 is None:\n",
    "        return False\n",
    "    elif root1.value==root2.value and matchTree(root1,root2):\n",
    "        return True\n",
    "    return subTree(root1.left,root2) or subTree(root1.right,root2)"
   ]
  },
  {
   "cell_type": "code",
   "execution_count": 77,
   "metadata": {},
   "outputs": [],
   "source": [
    "def containsTree(root1,root2):\n",
    "    if root2 is None:\n",
    "        return True\n",
    "    return subTree(root1,root2)"
   ]
  },
  {
   "cell_type": "code",
   "execution_count": 78,
   "metadata": {},
   "outputs": [
    {
     "data": {
      "text/plain": [
       "True"
      ]
     },
     "execution_count": 78,
     "metadata": {},
     "output_type": "execute_result"
    }
   ],
   "source": [
    "containsTree(ndo4,ndo2)"
   ]
  },
  {
   "cell_type": "code",
   "execution_count": 79,
   "metadata": {},
   "outputs": [],
   "source": [
    "ndo5=Node(9)"
   ]
  },
  {
   "cell_type": "code",
   "execution_count": 80,
   "metadata": {},
   "outputs": [
    {
     "data": {
      "text/plain": [
       "False"
      ]
     },
     "execution_count": 80,
     "metadata": {},
     "output_type": "execute_result"
    }
   ],
   "source": [
    "containsTree(ndo4,ndo5)"
   ]
  },
  {
   "cell_type": "markdown",
   "metadata": {},
   "source": [
    "run time about O(n +km), memory O(n+m)"
   ]
  },
  {
   "cell_type": "markdown",
   "metadata": {},
   "source": [
    "# Random Node"
   ]
  },
  {
   "cell_type": "code",
   "execution_count": 81,
   "metadata": {},
   "outputs": [],
   "source": [
    "import random\n",
    "class BST(object):\n",
    "    def __init__(self,value):\n",
    "        self.value=value\n",
    "        self.left=None\n",
    "        self.right=None\n",
    "        self.size=1\n",
    "    \n",
    "    \n",
    "    def insert(self,value):\n",
    "        if self.value==value:\n",
    "            return False # BST no tiene duplicados\n",
    "        elif value<self.value:\n",
    "            if self.left:\n",
    "                return self.left.insert(value)\n",
    "            else:\n",
    "                self.left=BST(value)\n",
    "                return True\n",
    "                \n",
    "        else:\n",
    "            if self.right:\n",
    "                return self.right.insert(value)\n",
    "            else:\n",
    "                self.right=BST(value)\n",
    "                return True\n",
    "        self.size+=1\n",
    "            \n",
    "    def find(self,value):\n",
    "        if self.value==value:\n",
    "            return True\n",
    "        if self and self.left:\n",
    "            self.left.find(value)\n",
    "        if self and self.right:\n",
    "            self.right.find(value)\n",
    "        return False\n",
    "    \n",
    "    def delete(self,value):\n",
    "        if self is None:\n",
    "            return None\n",
    "        if value<self.value:\n",
    "            self.left=self.left.delete(value)\n",
    "        elif value>self.value:\n",
    "            self.right=self.right.delete(value)\n",
    "            \n",
    "        else:\n",
    "            if self.left is None:\n",
    "                temp=self.right\n",
    "                \n",
    "                self=None\n",
    "                return temp\n",
    "            elif self.right is None:\n",
    "                temp=self.left\n",
    "                self=None\n",
    "                return temp\n",
    "            \n",
    "            \n",
    "            temp=self.minValueNode(self.right)\n",
    "            self.value=temp.value\n",
    "            self.right=self.right.delete(temp.value)\n",
    "            \n",
    "        return self\n",
    "    \n",
    "    \n",
    "    def minValueNode(self,node):\n",
    "        current=node\n",
    "        while current.left:\n",
    "            current=current.left\n",
    "        \n",
    "        return current\n",
    "    \n",
    "    \n",
    "    def getRandomNode(self):\n",
    "        if self.left is None:\n",
    "            leftSize=0\n",
    "        else:\n",
    "            leftSize=self.left.size\n",
    "        \n",
    "        index=random.randint(1,self.size)\n",
    "        \n",
    "        if index<leftSize:\n",
    "            return self.left.getRandomNode()\n",
    "        elif index==leftSize:\n",
    "            return self\n",
    "        else:\n",
    "            return self.right.getRandomNode()\n",
    "    \n",
    "\n",
    "        \n",
    "                            \n",
    "                \n",
    "    \n",
    "    \n",
    "    \n",
    "        \n",
    "        "
   ]
  },
  {
   "cell_type": "code",
   "execution_count": 82,
   "metadata": {},
   "outputs": [
    {
     "data": {
      "text/plain": [
       "True"
      ]
     },
     "execution_count": 82,
     "metadata": {},
     "output_type": "execute_result"
    }
   ],
   "source": [
    "tree = BST(20)\n",
    "#tree.insert(10)\n",
    "tree.insert(10)\n",
    "tree.insert(30)\n",
    "tree.insert(5)\n",
    "tree.insert(15)\n",
    "tree.insert(35)\n",
    "tree.insert(3)\n",
    "tree.insert(7)\n",
    "tree.insert(17)"
   ]
  },
  {
   "cell_type": "code",
   "execution_count": 83,
   "metadata": {},
   "outputs": [
    {
     "data": {
      "text/plain": [
       "[20, 10, 5, 3, 7, 15, 17, 30, 35]"
      ]
     },
     "execution_count": 83,
     "metadata": {},
     "output_type": "execute_result"
    }
   ],
   "source": [
    "preOrder(tree,[])"
   ]
  },
  {
   "cell_type": "code",
   "execution_count": 84,
   "metadata": {},
   "outputs": [
    {
     "data": {
      "text/plain": [
       "[3, 5, 7, 10, 15, 17, 20, 30, 35]"
      ]
     },
     "execution_count": 84,
     "metadata": {},
     "output_type": "execute_result"
    }
   ],
   "source": [
    "inOrder(tree,[])"
   ]
  },
  {
   "cell_type": "code",
   "execution_count": 85,
   "metadata": {},
   "outputs": [
    {
     "data": {
      "text/plain": [
       "[3, 7, 5, 17, 15, 10, 35, 30, 20]"
      ]
     },
     "execution_count": 85,
     "metadata": {},
     "output_type": "execute_result"
    }
   ],
   "source": [
    "postOrder(tree,[])"
   ]
  },
  {
   "cell_type": "code",
   "execution_count": 86,
   "metadata": {},
   "outputs": [],
   "source": [
    "r=tree.getRandomNode()"
   ]
  },
  {
   "cell_type": "code",
   "execution_count": 87,
   "metadata": {},
   "outputs": [
    {
     "data": {
      "text/plain": [
       "20"
      ]
     },
     "execution_count": 87,
     "metadata": {},
     "output_type": "execute_result"
    }
   ],
   "source": [
    "r.value"
   ]
  },
  {
   "cell_type": "code",
   "execution_count": 88,
   "metadata": {},
   "outputs": [
    {
     "data": {
      "text/plain": [
       "False"
      ]
     },
     "execution_count": 88,
     "metadata": {},
     "output_type": "execute_result"
    }
   ],
   "source": [
    "tree.find(15)"
   ]
  },
  {
   "cell_type": "code",
   "execution_count": null,
   "metadata": {},
   "outputs": [],
   "source": []
  },
  {
   "cell_type": "code",
   "execution_count": null,
   "metadata": {},
   "outputs": [],
   "source": []
  },
  {
   "cell_type": "markdown",
   "metadata": {},
   "source": [
    "## esta version es la mas decente genera la clase nodo y clase arbol binario y encuentra el nodo random de manera iterativa y equiprobable entre los nodos"
   ]
  },
  {
   "cell_type": "code",
   "execution_count": 89,
   "metadata": {},
   "outputs": [],
   "source": [
    "class Node2(object):\n",
    "    def __init__(self,value):\n",
    "        self.value=value\n",
    "        self.left=None\n",
    "        self.right=None\n",
    "        self.size=0"
   ]
  },
  {
   "cell_type": "code",
   "execution_count": 90,
   "metadata": {},
   "outputs": [],
   "source": [
    "import random\n",
    "class BST2(object):\n",
    "    def __init__(self):\n",
    "        self.root=None\n",
    "        \n",
    "    \n",
    "    def insert(self,value):\n",
    "        if self.root is None:\n",
    "            self.root=Node2(value)\n",
    "            self.root.size+=1\n",
    "            \n",
    "        \n",
    "        elif self.root.value==value:\n",
    "            return False # BST no tiene duplicados\n",
    "        else:\n",
    "            self.insert2(value,self.root)\n",
    "        \n",
    "        \n",
    "    def insert2(self,value,current):\n",
    "        \n",
    "        #if current.value==value:\n",
    "         #   return False # BST no tiene duplicados\n",
    "    \n",
    "        if value<current.value:\n",
    "            if current.left:\n",
    "                return self.insert2(value,current.left)\n",
    "            else:\n",
    "                current.left=Node2(value)\n",
    "                self.root.size+=1\n",
    "                self.root.left.size+=1\n",
    "\n",
    "                return True\n",
    "                \n",
    "        else:\n",
    "            if current.right:\n",
    "                return self.insert2(value,current.right)\n",
    "            else:\n",
    "                current.right=Node2(value)\n",
    "                self.root.size+=1\n",
    "                self.root.right.size+=1\n",
    "\n",
    "                return True\n",
    "                    \n",
    "    def find(self,value):\n",
    "        if self.root.value==value:\n",
    "            return self.root\n",
    "        if self.root and self.root.left:\n",
    "            self.root.left.find(value)\n",
    "        if self.root and self.root.right:\n",
    "            self.root.right.find(value)\n",
    "        return None\n",
    "    \n",
    "    def delete(self,value):\n",
    "        if self.root is None:\n",
    "            return None\n",
    "        if value<self.root.value:\n",
    "            self.left=self.left.delete(value)\n",
    "        elif value>self.root.value:\n",
    "            self.right=self.root.right.delete(value)\n",
    "            \n",
    "        else:\n",
    "            if self.root.left is None:\n",
    "                temp=self.root.right\n",
    "                \n",
    "                self=None\n",
    "                return temp\n",
    "            elif self.root.right is None:\n",
    "                temp=self.root.left\n",
    "                self.root=None\n",
    "                return temp\n",
    "            \n",
    "            \n",
    "            temp=self.minValueNode(self.root.right)\n",
    "            self.root.value=temp.value\n",
    "            self.root.right=self.root.right.delete(temp.value)\n",
    "            \n",
    "        return self\n",
    "    \n",
    "    \n",
    "    def minValueNode(self,node):\n",
    "        current=node\n",
    "        while current.left:\n",
    "            current=current.left\n",
    "        \n",
    "        return current\n",
    "## esta funcion solo si se declara un nodo como otra clase aparte\n",
    "    \n",
    "    #def getRandomTree(self):\n",
    "     #   if self.root.left is None:\n",
    "      #      leftSize=0\n",
    "       # else:\n",
    "        #    leftSize=self.root.left.size\n",
    "            \n",
    "        #index=random.randint(0,self.root.size)\n",
    "        #if index<leftSize:\n",
    "         #   return self.root.left.getRandomTree()\n",
    "        #elif index==leftSize:\n",
    "         #   return self\n",
    "        #else:\n",
    "         #   return self.root.right.getRandomTree()\n",
    " \n",
    "    #def getRandomTree(self):\n",
    "     #   index=random.randint(1,self.root.size)\n",
    "      #  current=self.root\n",
    "       # for i in range(1,index+1):\n",
    "        #    if current and current.left:\n",
    "         #       current=current.left\n",
    "          #  if current and current.right:\n",
    "           #     current=current.right\n",
    "        \n",
    "        #return current\n",
    "        \n",
    "    def getRandomNode(self):\n",
    "        # Set current to root of binary tree\n",
    "        current = self.root \n",
    "        s = [] # initialze stack\n",
    "        done = 0\n",
    "        count=0\n",
    "        limit=random.randint(1,current.size)\n",
    "        while(not done):\n",
    "         \n",
    "            # Reach the left most Node of the current Node\n",
    "            if current is not None:\n",
    "             \n",
    "                # Place pointer to a tree node on the stack \n",
    "                # before traversing the node's left subtree\n",
    "                s.append(current)\n",
    "         \n",
    "                current = current.left \n",
    " \n",
    "         \n",
    "            # BackTrack from the empty subtree and visit the Node\n",
    "            # at the top of the stack; however, if the stack is \n",
    "            # empty you are done\n",
    "            else:\n",
    "                if(len(s) >0 ):\n",
    "                    current = s.pop()\n",
    "    #                print(current.value)\n",
    "                    count+=1\n",
    "                if count==limit:\n",
    "                    done=1\n",
    "                \n",
    "                    return current.value\n",
    "\n",
    "         \n",
    "                # We have visited the node and its left \n",
    "                # subtree. Now, it's right subtree's turn\n",
    "                current = current.right \n",
    " \n",
    "           # else:\n",
    "            #    done = 1\n",
    "\n",
    " "
   ]
  },
  {
   "cell_type": "code",
   "execution_count": 91,
   "metadata": {},
   "outputs": [],
   "source": [
    "tree2 = BST2()\n",
    "tree2.insert(8)\n",
    "tree2.insert(3)\n",
    "tree2.insert(10)\n",
    "tree2.insert(1)\n",
    "tree2.insert(6)\n",
    "tree2.insert(4)\n",
    "tree2.insert(7)\n",
    "tree2.insert(14)\n",
    "tree2.insert(13)"
   ]
  },
  {
   "cell_type": "code",
   "execution_count": 92,
   "metadata": {},
   "outputs": [
    {
     "data": {
      "text/plain": [
       "8"
      ]
     },
     "execution_count": 92,
     "metadata": {},
     "output_type": "execute_result"
    }
   ],
   "source": [
    "tree2.root.value"
   ]
  },
  {
   "cell_type": "code",
   "execution_count": 93,
   "metadata": {},
   "outputs": [
    {
     "data": {
      "text/plain": [
       "7"
      ]
     },
     "execution_count": 93,
     "metadata": {},
     "output_type": "execute_result"
    }
   ],
   "source": [
    "tree2.getRandomNode()"
   ]
  },
  {
   "cell_type": "code",
   "execution_count": 94,
   "metadata": {},
   "outputs": [
    {
     "data": {
      "text/plain": [
       "[8, 3, 1, 6, 4, 7, 10, 14, 13]"
      ]
     },
     "execution_count": 94,
     "metadata": {},
     "output_type": "execute_result"
    }
   ],
   "source": [
    "preOrder(tree2.root,[])"
   ]
  },
  {
   "cell_type": "code",
   "execution_count": 95,
   "metadata": {},
   "outputs": [
    {
     "data": {
      "text/plain": [
       "[1, 3, 4, 6, 7, 8, 10, 13, 14]"
      ]
     },
     "execution_count": 95,
     "metadata": {},
     "output_type": "execute_result"
    }
   ],
   "source": [
    "inOrder(tree2.root,[])"
   ]
  },
  {
   "cell_type": "code",
   "execution_count": 96,
   "metadata": {},
   "outputs": [
    {
     "data": {
      "text/plain": [
       "[1, 4, 7, 6, 3, 13, 14, 10, 8]"
      ]
     },
     "execution_count": 96,
     "metadata": {},
     "output_type": "execute_result"
    }
   ],
   "source": [
    "postOrder(tree2.root,[])"
   ]
  },
  {
   "cell_type": "code",
   "execution_count": 97,
   "metadata": {},
   "outputs": [],
   "source": [
    "from random import randint\n",
    "\n",
    "class TreeNode2(object):\n",
    "\tdef __init__(self, x):\n",
    "\t\tself.val = x\n",
    "\t\tself.left = None\n",
    "\t\tself.right = None\n",
    "\t\tself.size = 1\n",
    "\n",
    "\tdef __str__(self):\n",
    "\t\treturn str(self.val)\n",
    "\n",
    "\tdef getRandomNode(self):\n",
    "\t\tleftSize = 0 if self.left == None else self.left.size\n",
    "\t\tindex = randint(0,self.size+1)\n",
    "\t\tif index < leftSize:\n",
    "\t\t\treturn self.left.getRandomNode()\n",
    "\t\telif index == leftSize:\n",
    "\t\t\treturn self\n",
    "\t\telse:\n",
    "\t\t\treturn self.right.getRandomNode()\n",
    "\n",
    "\n",
    "\tdef insert(self, x):\n",
    "\n",
    "\t\tif x < self.val:\n",
    "\t\t\tif not self.left:\n",
    "\t\t\t\tself.left = TreeNode2(x)\n",
    "\t\t\telse:\n",
    "\t\t\t\tself.left.insert(x)\n",
    "\t\telse:\n",
    "\t\t\tif not self.right:\n",
    "\t\t\t\tself.right = TreeNode2(x)\n",
    "\t\t\telse:\n",
    "\t\t\t\tself.right.insert(x)\n",
    "\t\tself.size += 1\n",
    "\n",
    "\n",
    "\tdef findElement(self,x):\n",
    "\t\tif self.val == x:\n",
    "\t\t\treturn self\n",
    "\t\telif self.val > x:\n",
    "\t\t\treturn None if not self.left else self.left.findElement(x)\n",
    "\t\telif self.val < x:\n",
    "\t\t\treturn None if not self.right else self.right.findElement(x)\n"
   ]
  },
  {
   "cell_type": "code",
   "execution_count": null,
   "metadata": {},
   "outputs": [],
   "source": []
  },
  {
   "cell_type": "code",
   "execution_count": 98,
   "metadata": {},
   "outputs": [],
   "source": [
    "tree = TreeNode2(20)\n",
    "#tree.insert(10)\n",
    "tree.insert(10)\n",
    "tree.insert(30)\n",
    "tree.insert(5)\n",
    "tree.insert(15)\n",
    "tree.insert(35)\n",
    "tree.insert(3)\n",
    "tree.insert(7)\n",
    "tree.insert(17)"
   ]
  },
  {
   "cell_type": "code",
   "execution_count": 99,
   "metadata": {},
   "outputs": [],
   "source": [
    "r=tree.findElement(15)"
   ]
  },
  {
   "cell_type": "code",
   "execution_count": 100,
   "metadata": {},
   "outputs": [
    {
     "data": {
      "text/plain": [
       "15"
      ]
     },
     "execution_count": 100,
     "metadata": {},
     "output_type": "execute_result"
    }
   ],
   "source": [
    "r.val\n"
   ]
  },
  {
   "cell_type": "code",
   "execution_count": 101,
   "metadata": {},
   "outputs": [],
   "source": [
    "#re=tree.getRandomNode()"
   ]
  },
  {
   "cell_type": "code",
   "execution_count": 102,
   "metadata": {},
   "outputs": [],
   "source": [
    "#re.val"
   ]
  },
  {
   "cell_type": "code",
   "execution_count": 103,
   "metadata": {},
   "outputs": [],
   "source": [
    "## tengo mis dudas de como realizar el movimiento de manera recursiva "
   ]
  },
  {
   "cell_type": "code",
   "execution_count": null,
   "metadata": {},
   "outputs": [],
   "source": []
  },
  {
   "cell_type": "markdown",
   "metadata": {},
   "source": [
    "# Path with sum"
   ]
  },
  {
   "cell_type": "code",
   "execution_count": 131,
   "metadata": {},
   "outputs": [],
   "source": [
    "# book solution runtime O(N log N)\n",
    "def PathsWithSum(root,target):\n",
    "    return countPathWithSum(root,target,0,pathCount={})"
   ]
  },
  {
   "cell_type": "code",
   "execution_count": 132,
   "metadata": {},
   "outputs": [],
   "source": [
    "def countPathWithSum(root,targetSum,runningSum,pathCount):\n",
    "    \n",
    "    if root is None:\n",
    "        return 0\n",
    "    \n",
    "    runningSum+=root.value\n",
    "    suma=runningSum-targetSum\n",
    "    totalPaths = pathCount.get(suma, 0)\n",
    "    \n",
    "    if runningSum==targetSum:\n",
    "        totalPaths+=1\n",
    "    \n",
    "    totalPaths+=countPathWithSum(root.left,targetSum,runningSum,pathCount)\n",
    "    totalPaths+=countPathWithSum(root.right,targetSum,runningSum,pathCount)\n",
    "    incrementPathCount(pathCount,runningSum,-1)\n",
    "    \n",
    "    return totalPaths"
   ]
  },
  {
   "cell_type": "code",
   "execution_count": 133,
   "metadata": {},
   "outputs": [],
   "source": [
    "def incrementPathCount(pathCount,key,delta):\n",
    "    newCount=pathCount.get(key,0)+delta\n",
    "    if newCount==0:\n",
    "        _=pathCount.pop(key,None)\n",
    "    else:\n",
    "        pathCount[key]=newCount"
   ]
  },
  {
   "cell_type": "code",
   "execution_count": 134,
   "metadata": {},
   "outputs": [],
   "source": [
    "# demo\n",
    "path1=Node(3)\n",
    "path2=Node(-2)\n",
    "path3=Node(2)\n",
    "\n",
    "path4=Node(3,path1,path2)\n",
    "path5=Node(1,None,path3)\n",
    "path6=Node(11)\n",
    "\n",
    "path7=Node(5,path4,path5)\n",
    "path8=Node(-3,None,path6)\n",
    "\n",
    "path9=Node(10,path7,path8)"
   ]
  },
  {
   "cell_type": "code",
   "execution_count": 135,
   "metadata": {},
   "outputs": [
    {
     "data": {
      "text/plain": [
       "0"
      ]
     },
     "execution_count": 135,
     "metadata": {},
     "output_type": "execute_result"
    }
   ],
   "source": [
    "PathsWithSum(path9,8)"
   ]
  },
  {
   "cell_type": "code",
   "execution_count": 124,
   "metadata": {},
   "outputs": [
    {
     "data": {
      "text/plain": [
       "[10, 5, 3, 3, -2, 1, 2, -3, 11]"
      ]
     },
     "execution_count": 124,
     "metadata": {},
     "output_type": "execute_result"
    }
   ],
   "source": [
    "preOrder(path9,[])"
   ]
  },
  {
   "cell_type": "code",
   "execution_count": 130,
   "metadata": {},
   "outputs": [],
   "source": [
    "#solution brute force github run time O(N^2)  memory O(N)\n",
    "def path_sum(root, sum):\n",
    "    if not root:\n",
    "        return 0\n",
    "        \n",
    "    # Return all the paths from the root and call it on each node\n",
    "    return count_paths(root, sum, 0) + path_sum(root.left, sum) + path_sum(root.right, sum)\n",
    "    \n",
    "def count_paths(root, sum, curr):\n",
    "    # traversal preOrder\n",
    "    if not root:\n",
    "        return 0\n",
    "    \n",
    "    curr += root.value\n",
    "    \n",
    "    total_paths = 0\n",
    "    # If sum is equal to the running sum\n",
    "    if curr == sum:\n",
    "        total_paths += 1\n",
    "    \n",
    "    # Continue for left and right tree to find all paths\n",
    "    total_paths += count_paths(root.left, sum, curr)\n",
    "    total_paths += count_paths(root.right, sum, curr)\n",
    "    \n",
    "    return total_paths"
   ]
  },
  {
   "cell_type": "code",
   "execution_count": 137,
   "metadata": {},
   "outputs": [
    {
     "data": {
      "text/plain": [
       "2"
      ]
     },
     "execution_count": 137,
     "metadata": {},
     "output_type": "execute_result"
    }
   ],
   "source": [
    "path_sum(path9,11)"
   ]
  },
  {
   "cell_type": "code",
   "execution_count": null,
   "metadata": {},
   "outputs": [],
   "source": []
  }
 ],
 "metadata": {
  "kernelspec": {
   "display_name": "Python 3",
   "language": "python",
   "name": "python3"
  },
  "language_info": {
   "codemirror_mode": {
    "name": "ipython",
    "version": 3
   },
   "file_extension": ".py",
   "mimetype": "text/x-python",
   "name": "python",
   "nbconvert_exporter": "python",
   "pygments_lexer": "ipython3",
   "version": "3.6.8"
  }
 },
 "nbformat": 4,
 "nbformat_minor": 2
}
