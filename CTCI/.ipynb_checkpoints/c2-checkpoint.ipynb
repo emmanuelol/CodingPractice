{
 "cells": [
  {
   "cell_type": "markdown",
   "metadata": {},
   "source": [
    "# Linked List"
   ]
  },
  {
   "cell_type": "markdown",
   "metadata": {},
   "source": [
    "## Remove Dups\n",
    "remover duplicados en una lista enlazada sin ordenar"
   ]
  },
  {
   "cell_type": "code",
   "execution_count": 1,
   "metadata": {},
   "outputs": [],
   "source": [
    "class Node(object):\n",
    "    def __init__(self,value=None,next=None):\n",
    "    #def __init__(self,value):\n",
    "        self.value=value\n",
    "     #   self.next=None\n",
    "\n",
    "        self.next=next\n",
    "        "
   ]
  },
  {
   "cell_type": "code",
   "execution_count": 2,
   "metadata": {},
   "outputs": [],
   "source": [
    "#class LinkedList(object):\n",
    "#    def __init__(self,head=None):\n",
    "#        self.head=head\n",
    "        \n",
    "#    def append(self,new_element):\n",
    "#        current=self.head\n",
    "#        if self.head:\n",
    "#            while current.next:\n",
    "#                current= current.next\n",
    "#            current.next=new_element\n",
    "#        else:\n",
    "#           self.head=new_element\n",
    "#"
   ]
  },
  {
   "cell_type": "code",
   "execution_count": 3,
   "metadata": {},
   "outputs": [],
   "source": [
    "#n1=Node('c')\n",
    "#n2=Node('a')\n",
    "#n3=Node('b')\n",
    "#n4=Node('a')\n",
    "#n5=Node('d')\n",
    "#ll1=LinkedList(n5)\n",
    "#ll1.append(n4)\n",
    "#ll1.append(n3)\n",
    "#ll1.append(n2)\n",
    "#ll1.append(n1)\n",
    "\n"
   ]
  },
  {
   "cell_type": "code",
   "execution_count": 4,
   "metadata": {},
   "outputs": [],
   "source": [
    "# sin crear la clase lista enlazada solo usando el nodo\n",
    "#n1=Node('c',None)\n",
    "n1=Node('c')\n",
    "n2=Node('a',n1)\n",
    "n3=Node('b',n2)\n",
    "n4=Node('a',n3)\n",
    "n5=Node('d',n4)\n",
    "head=n5"
   ]
  },
  {
   "cell_type": "code",
   "execution_count": 5,
   "metadata": {},
   "outputs": [
    {
     "data": {
      "text/plain": [
       "'a'"
      ]
     },
     "execution_count": 5,
     "metadata": {},
     "output_type": "execute_result"
    }
   ],
   "source": [
    "head.next.next.next.value"
   ]
  },
  {
   "cell_type": "code",
   "execution_count": 6,
   "metadata": {},
   "outputs": [],
   "source": [
    "def removeDups(head):\n",
    "## tomado de github\n",
    "    local_dict={}\n",
    "    curr_node = head\n",
    "    prev_node = None\n",
    "    while curr_node != None:\n",
    "        if prev_node == None:\n",
    "            prev_node = head\n",
    "        if curr_node.value in local_dict:\n",
    "            prev_node.next = curr_node.next\n",
    "            curr_node = curr_node.next\n",
    "        else:\n",
    "            local_dict[curr_node.value] = 1\n",
    "            prev_node = curr_node\n",
    "        \n",
    "        curr_node = curr_node.next\n",
    "    return head"
   ]
  },
  {
   "cell_type": "code",
   "execution_count": 7,
   "metadata": {},
   "outputs": [
    {
     "data": {
      "text/plain": [
       "<__main__.Node at 0x17890763240>"
      ]
     },
     "execution_count": 7,
     "metadata": {},
     "output_type": "execute_result"
    }
   ],
   "source": [
    "removeDups(head)"
   ]
  },
  {
   "cell_type": "code",
   "execution_count": 8,
   "metadata": {},
   "outputs": [
    {
     "data": {
      "text/plain": [
       "'c'"
      ]
     },
     "execution_count": 8,
     "metadata": {},
     "output_type": "execute_result"
    }
   ],
   "source": [
    "head.next.next.next.value"
   ]
  },
  {
   "cell_type": "markdown",
   "metadata": {},
   "source": [
    "## run time O(n)"
   ]
  },
  {
   "cell_type": "markdown",
   "metadata": {},
   "source": [
    "# find the k element of a linked list"
   ]
  },
  {
   "cell_type": "code",
   "execution_count": 9,
   "metadata": {},
   "outputs": [],
   "source": [
    "def findNLast(head,k):\n",
    "    fast=head\n",
    "    slow=head\n",
    "    \n",
    "    for i in range(k):\n",
    "        fast=fast.next\n",
    "    \n",
    "    while fast.next:\n",
    "        fast=fast.next\n",
    "        slow=slow.next\n",
    "        \n",
    "    return slow.value"
   ]
  },
  {
   "cell_type": "code",
   "execution_count": 10,
   "metadata": {},
   "outputs": [
    {
     "data": {
      "text/plain": [
       "'d'"
      ]
     },
     "execution_count": 10,
     "metadata": {},
     "output_type": "execute_result"
    }
   ],
   "source": [
    "findNLast(head,3)"
   ]
  },
  {
   "cell_type": "markdown",
   "metadata": {},
   "source": [
    "## run time O(n)"
   ]
  },
  {
   "cell_type": "markdown",
   "metadata": {},
   "source": [
    "# delete the middle node"
   ]
  },
  {
   "cell_type": "code",
   "execution_count": 11,
   "metadata": {},
   "outputs": [],
   "source": [
    "n1=Node('f')\n",
    "n2=Node('e',n1)\n",
    "n3=Node('d',n2)\n",
    "n4=Node('c',n3)\n",
    "n5=Node('b',n4)\n",
    "n6=Node('a',n5)\n",
    "head=n6\n"
   ]
  },
  {
   "cell_type": "code",
   "execution_count": 12,
   "metadata": {},
   "outputs": [],
   "source": [
    "def middle_list(head):\n",
    "    fasterPointer=head\n",
    "    slowPointer=head\n",
    "    \n",
    "    while fasterPointer.next!=None and fasterPointer.next.next!=None:\n",
    "        fasterPointer=fasterPointer.next.next\n",
    "        slowPointer=slowPointer.next\n",
    "        \n",
    "    return slowPointer.value"
   ]
  },
  {
   "cell_type": "code",
   "execution_count": 13,
   "metadata": {},
   "outputs": [
    {
     "data": {
      "text/plain": [
       "'c'"
      ]
     },
     "execution_count": 13,
     "metadata": {},
     "output_type": "execute_result"
    }
   ],
   "source": [
    "middle_list(head)"
   ]
  },
  {
   "cell_type": "code",
   "execution_count": 14,
   "metadata": {},
   "outputs": [],
   "source": [
    "def deleteMiddle(head):\n",
    "    elemento=middle_list(head)\n",
    "    \n",
    "    current=head\n",
    "    prev_node = None\n",
    "\n",
    "    \n",
    "    while current:\n",
    "        if prev_node == None:\n",
    "            prev_node = head\n",
    "        if current.value ==elemento:\n",
    "            prev_node.next = current.next\n",
    "            current = current.next\n",
    "        else:\n",
    "            prev_node=current\n",
    "        \n",
    "        \n",
    "        \n",
    "        current=current.next\n",
    "    return head"
   ]
  },
  {
   "cell_type": "code",
   "execution_count": 15,
   "metadata": {},
   "outputs": [
    {
     "data": {
      "text/plain": [
       "<__main__.Node at 0x17890799588>"
      ]
     },
     "execution_count": 15,
     "metadata": {},
     "output_type": "execute_result"
    }
   ],
   "source": [
    "deleteMiddle(head)"
   ]
  },
  {
   "cell_type": "code",
   "execution_count": 16,
   "metadata": {},
   "outputs": [
    {
     "data": {
      "text/plain": [
       "'a'"
      ]
     },
     "execution_count": 16,
     "metadata": {},
     "output_type": "execute_result"
    }
   ],
   "source": [
    "head.value"
   ]
  },
  {
   "cell_type": "code",
   "execution_count": 17,
   "metadata": {},
   "outputs": [
    {
     "data": {
      "text/plain": [
       "'b'"
      ]
     },
     "execution_count": 17,
     "metadata": {},
     "output_type": "execute_result"
    }
   ],
   "source": [
    "head.next.value"
   ]
  },
  {
   "cell_type": "code",
   "execution_count": 18,
   "metadata": {},
   "outputs": [
    {
     "data": {
      "text/plain": [
       "'d'"
      ]
     },
     "execution_count": 18,
     "metadata": {},
     "output_type": "execute_result"
    }
   ],
   "source": [
    "head.next.next.value"
   ]
  },
  {
   "cell_type": "code",
   "execution_count": 19,
   "metadata": {},
   "outputs": [
    {
     "data": {
      "text/plain": [
       "'e'"
      ]
     },
     "execution_count": 19,
     "metadata": {},
     "output_type": "execute_result"
    }
   ],
   "source": [
    "head.next.next.next.value"
   ]
  },
  {
   "cell_type": "markdown",
   "metadata": {},
   "source": [
    "## Not sure but could be O(n^2) or O(2n)"
   ]
  },
  {
   "cell_type": "markdown",
   "metadata": {},
   "source": [
    "# remove sorted duplicates"
   ]
  },
  {
   "cell_type": "code",
   "execution_count": 23,
   "metadata": {},
   "outputs": [],
   "source": [
    "def RemoveDuplicates(head):\n",
    "    current=head\n",
    "    #fast=head\n",
    "    \n",
    "    while current.next:\n",
    " \n",
    "        if current.value==current.next.value:\n",
    "            current.next = current.next.next\n",
    "        else:\n",
    "            current=current.next\n",
    "        \n",
    "    return head\n",
    "  \n",
    "  "
   ]
  },
  {
   "cell_type": "markdown",
   "metadata": {},
   "source": [
    "# function add or append "
   ]
  },
  {
   "cell_type": "code",
   "execution_count": 87,
   "metadata": {},
   "outputs": [],
   "source": [
    "def addNode(head,new_element):\n",
    "        current=head\n",
    "        nodo=Node(elemento)\n",
    "        while current.next:\n",
    "            current= current.next\n",
    "        current.next=new_element\n",
    "      "
   ]
  },
  {
   "cell_type": "code",
   "execution_count": 88,
   "metadata": {},
   "outputs": [],
   "source": [
    "n1=Node(1)\n",
    "n2=Node(2,n1)\n",
    "n3=Node(10,n2)\n",
    "n4=Node(5,n3)\n",
    "n5=Node(8,n4)\n",
    "n6=Node(5,n5)\n",
    "n7=Node(3,n6)\n",
    "head=n7\n",
    "n8=Node(9)"
   ]
  },
  {
   "cell_type": "code",
   "execution_count": 89,
   "metadata": {},
   "outputs": [],
   "source": [
    "head.next.next.next.next.next.next.next=n8"
   ]
  },
  {
   "cell_type": "code",
   "execution_count": 90,
   "metadata": {},
   "outputs": [
    {
     "data": {
      "text/plain": [
       "9"
      ]
     },
     "execution_count": 90,
     "metadata": {},
     "output_type": "execute_result"
    }
   ],
   "source": [
    "head.next.next.next.next.next.next.next.value"
   ]
  },
  {
   "cell_type": "code",
   "execution_count": 91,
   "metadata": {},
   "outputs": [],
   "source": [
    "def addNode(head,elemento):\n",
    "    nodo=Node(elemento)\n",
    "    current=head\n",
    "    while current.next:\n",
    "        current=current.next\n",
    "        \n",
    "    current.next=nodo\n",
    "        \n",
    "            \n",
    "    "
   ]
  },
  {
   "cell_type": "code",
   "execution_count": 92,
   "metadata": {},
   "outputs": [],
   "source": [
    "addNode(head,9)"
   ]
  },
  {
   "cell_type": "code",
   "execution_count": 93,
   "metadata": {},
   "outputs": [
    {
     "data": {
      "text/plain": [
       "9"
      ]
     },
     "execution_count": 93,
     "metadata": {},
     "output_type": "execute_result"
    }
   ],
   "source": [
    "head.next.next.next.next.next.next.next.value"
   ]
  },
  {
   "cell_type": "markdown",
   "metadata": {},
   "source": [
    "# Partition"
   ]
  },
  {
   "cell_type": "code",
   "execution_count": 112,
   "metadata": {},
   "outputs": [],
   "source": [
    "n1=Node(1)\n",
    "n2=Node(2,n1)\n",
    "n3=Node(10,n2)\n",
    "n4=Node(5,n3)\n",
    "n5=Node(8,n4)\n",
    "n6=Node(5,n5)\n",
    "n7=Node(3,n6)\n",
    "head=n7"
   ]
  },
  {
   "cell_type": "code",
   "execution_count": 113,
   "metadata": {},
   "outputs": [],
   "source": [
    "def partition(head,elemento):\n",
    "    current=head\n",
    "    leftPartition=[]\n",
    "    rightPartition=[]\n",
    "    \n",
    "    \n",
    "    while current:\n",
    "        if current.value>=elemento:\n",
    "            rightPartition.append(current.value)\n",
    "        else:\n",
    "            leftPartition.append(current.value)\n",
    "            \n",
    "        current=current.next\n",
    "        \n",
    "    for i in range(len(leftPartition)):\n",
    "        if i==0:\n",
    "            prev=Node(leftPartition[i])\n",
    "        else:\n",
    "            addNode(prev,leftPartition[i])\n",
    "    \n",
    "    for value in rightPartition:\n",
    "        addNode(prev,value)\n",
    "        \n",
    "    \n",
    "    return prev\n",
    "        \n",
    "        \n",
    "    \n",
    "                \n",
    "            \n",
    "    "
   ]
  },
  {
   "cell_type": "code",
   "execution_count": 114,
   "metadata": {},
   "outputs": [],
   "source": [
    "p=partition(head,5)"
   ]
  },
  {
   "cell_type": "code",
   "execution_count": 115,
   "metadata": {},
   "outputs": [
    {
     "name": "stdout",
     "output_type": "stream",
     "text": [
      "3\n",
      "2\n",
      "1\n",
      "5\n",
      "8\n",
      "5\n",
      "10\n"
     ]
    }
   ],
   "source": [
    "print(p.value)\n",
    "print(p.next.value)\n",
    "print(p.next.next.value)\n",
    "print(p.next.next.next.value)\n",
    "print(p.next.next.next.next.value)\n",
    "print(p.next.next.next.next.next.value)\n",
    "print(p.next.next.next.next.next.next.value)\n",
    "#print(head.next.next.next.next.next.next.next.value)\n",
    "#print(head.next.value)"
   ]
  },
  {
   "cell_type": "markdown",
   "metadata": {},
   "source": [
    "## run time could be O(4n) or O(n^4) worst case "
   ]
  },
  {
   "cell_type": "markdown",
   "metadata": {},
   "source": [
    "# Sum List"
   ]
  },
  {
   "cell_type": "markdown",
   "metadata": {},
   "source": [
    "## input\n",
    "7->1->6 + 5->9->2 \n",
    "## output\n",
    "2->1->9\n",
    "\n",
    "### resultado de la suma 617+295=912"
   ]
  },
  {
   "cell_type": "code",
   "execution_count": 280,
   "metadata": {},
   "outputs": [],
   "source": [
    "nodo1_1=Node(6)\n",
    "nodo1_2=Node(1,nodo1_1)\n",
    "nodo1_3=Node(7,nodo1_2)\n",
    "\n",
    "Lista1=nodo1_3\n"
   ]
  },
  {
   "cell_type": "code",
   "execution_count": 281,
   "metadata": {},
   "outputs": [],
   "source": [
    "nodo2_1=Node(2)\n",
    "nodo2_2=Node(9,nodo2_1)\n",
    "nodo2_3=Node(5,nodo2_2)\n",
    "\n",
    "Lista2=nodo2_3\n"
   ]
  },
  {
   "cell_type": "code",
   "execution_count": 282,
   "metadata": {},
   "outputs": [],
   "source": [
    "def sumLinkedList(Lista1,Lista2):\n",
    "    \n",
    "    carry=0 # flag to overflow\n",
    "    current_lista1=Lista1\n",
    "    current_lista2=Lista2\n",
    "    count=True\n",
    "    while current_lista1 or current_lista2 or carry:\n",
    "        current=carry\n",
    "        if current_lista1:\n",
    "            current+=current_lista1.value\n",
    "        if current_lista2:\n",
    "            current+=current_lista2.value\n",
    "        if current>=10:\n",
    "            carry=1\n",
    "            current%=10\n",
    "        else:\n",
    "            carry=0\n",
    "            \n",
    "        if current_lista1: \n",
    "            current_lista1=current_lista1.next\n",
    "        if current_lista2: \n",
    "            current_lista2=current_lista2.next\n",
    "       \n",
    "        if count==True:\n",
    "            prev=Node(current)\n",
    "            count=False\n",
    "        else:\n",
    "            addNode(prev,current)\n",
    "            \n",
    "    return prev \n",
    "\n"
   ]
  },
  {
   "cell_type": "code",
   "execution_count": 283,
   "metadata": {},
   "outputs": [],
   "source": [
    "lista3=sumLinkedList(Lista1,Lista2)"
   ]
  },
  {
   "cell_type": "code",
   "execution_count": 308,
   "metadata": {},
   "outputs": [
    {
     "name": "stdout",
     "output_type": "stream",
     "text": [
      "2\n",
      "1\n",
      "9\n"
     ]
    }
   ],
   "source": [
    "print(lista3.value)\n",
    "print(lista3.next.value)\n",
    "print(lista3.next.next.value)\n",
    "#print(lista3.next.next.next.value)\n",
    "#print(lista3.next.next.next.next.value)"
   ]
  },
  {
   "cell_type": "code",
   "execution_count": null,
   "metadata": {},
   "outputs": [],
   "source": []
  },
  {
   "cell_type": "markdown",
   "metadata": {},
   "source": [
    "## foward order"
   ]
  },
  {
   "cell_type": "code",
   "execution_count": 310,
   "metadata": {},
   "outputs": [],
   "source": [
    "nodo1_1=Node(7)\n",
    "nodo1_2=Node(1,nodo1_1)\n",
    "nodo1_3=Node(6,nodo1_2)\n",
    "\n",
    "Lista1=nodo1_3\n"
   ]
  },
  {
   "cell_type": "code",
   "execution_count": 311,
   "metadata": {},
   "outputs": [],
   "source": [
    "nodo2_1=Node(5)\n",
    "nodo2_2=Node(9,nodo2_1)\n",
    "nodo2_3=Node(2,nodo2_2)\n",
    "\n",
    "Lista2=nodo2_3"
   ]
  },
  {
   "cell_type": "code",
   "execution_count": null,
   "metadata": {},
   "outputs": [],
   "source": []
  },
  {
   "cell_type": "code",
   "execution_count": 362,
   "metadata": {},
   "outputs": [],
   "source": [
    "def sumLinkedListFoward(Lista1,Lista2):\n",
    "    \n",
    "    carry=0 # flag to overflow\n",
    "    current_lista1=Lista1\n",
    "    current_lista2=Lista2\n",
    "    count=True\n",
    "    arreglo=[]\n",
    "    while current_lista1 or current_lista2 or carry:\n",
    "        current=carry\n",
    "        if current_lista1:\n",
    "            current+=current_lista1.value\n",
    "        if current_lista2:\n",
    "            current+=current_lista2.value\n",
    "\n",
    "            \n",
    "        if current_lista1: \n",
    "            current_lista1=current_lista1.next\n",
    "        if current_lista2: \n",
    "            current_lista2=current_lista2.next\n",
    "\n",
    "        arreglo.append(current)\n",
    "        \n",
    " ## suma correcta \n",
    "\n",
    "    for i in range(1,len(arreglo)+1):\n",
    "        variable=arreglo[-i]\n",
    "        variable+=carry\n",
    "        if variable>=10:\n",
    "            carry=1\n",
    "            variable%=10\n",
    "        else:\n",
    "            carry=0\n",
    "        \n",
    "        arreglo2.append(variable)\n",
    "            \n",
    "    # volver a colocar la lista en modo foward        \n",
    "    for j in range(1,len(arreglo2)+1):  \n",
    "        \n",
    "        if j==1:\n",
    "            prev=Node(arreglo2[-j])\n",
    "        else:\n",
    "            addNode(prev,arreglo2[-j])\n",
    "    \n",
    "    return prev\n",
    "    \n",
    "    \n",
    "    "
   ]
  },
  {
   "cell_type": "code",
   "execution_count": 363,
   "metadata": {},
   "outputs": [],
   "source": [
    "lista4=sumLinkedListFoward(Lista1,Lista2)"
   ]
  },
  {
   "cell_type": "code",
   "execution_count": 365,
   "metadata": {},
   "outputs": [
    {
     "data": {
      "text/plain": [
       "1"
      ]
     },
     "execution_count": 365,
     "metadata": {},
     "output_type": "execute_result"
    }
   ],
   "source": [
    "lista4.next.value"
   ]
  },
  {
   "cell_type": "markdown",
   "metadata": {},
   "source": [
    "## run time cuasi O(n)\n",
    "podria ser mas O(n+m+p)"
   ]
  },
  {
   "cell_type": "markdown",
   "metadata": {},
   "source": [
    "# palindrome"
   ]
  },
  {
   "cell_type": "code",
   "execution_count": 411,
   "metadata": {},
   "outputs": [],
   "source": [
    "def isPalindrome(head):\n",
    "    current=head\n",
    "    lista=[]\n",
    "    while current:\n",
    "        \n",
    "        lista.append(current.value)\n",
    "        \n",
    "        current=current.next\n",
    "    \n",
    "    for i in range(len(lista)//2):\n",
    "        if lista[i]!=lista[-i-1]:\n",
    "            return False\n",
    "    return True\n",
    "        "
   ]
  },
  {
   "cell_type": "code",
   "execution_count": 412,
   "metadata": {},
   "outputs": [],
   "source": [
    "n1=Node(1)\n",
    "n2=Node(0,n1)\n",
    "n3=Node(0,n2)\n",
    "n4=Node(1,n3)\n",
    "head=n4"
   ]
  },
  {
   "cell_type": "code",
   "execution_count": 413,
   "metadata": {},
   "outputs": [
    {
     "data": {
      "text/plain": [
       "True"
      ]
     },
     "execution_count": 413,
     "metadata": {},
     "output_type": "execute_result"
    }
   ],
   "source": [
    "isPalindrome(head)"
   ]
  },
  {
   "cell_type": "code",
   "execution_count": 414,
   "metadata": {},
   "outputs": [],
   "source": [
    "listo=[1,0,0,1]"
   ]
  },
  {
   "cell_type": "code",
   "execution_count": 415,
   "metadata": {},
   "outputs": [
    {
     "name": "stdout",
     "output_type": "stream",
     "text": [
      "1 1\n",
      "0 0\n",
      "0 0\n",
      "1 1\n"
     ]
    }
   ],
   "source": [
    "for i in range(len(listo)):\n",
    "    print(listo[i],listo[-i-1])"
   ]
  },
  {
   "cell_type": "code",
   "execution_count": 416,
   "metadata": {},
   "outputs": [],
   "source": [
    "n1=Node(1)\n",
    "n2=Node(0,n1)\n",
    "n3=Node(0,n2)\n",
    "n4=Node(3,n3)\n",
    "head=n4"
   ]
  },
  {
   "cell_type": "code",
   "execution_count": 417,
   "metadata": {},
   "outputs": [
    {
     "data": {
      "text/plain": [
       "False"
      ]
     },
     "execution_count": 417,
     "metadata": {},
     "output_type": "execute_result"
    }
   ],
   "source": [
    "isPalindrome(head)"
   ]
  },
  {
   "cell_type": "markdown",
   "metadata": {},
   "source": [
    "## O(n)"
   ]
  },
  {
   "cell_type": "markdown",
   "metadata": {},
   "source": [
    "## usando dos punteros"
   ]
  },
  {
   "cell_type": "code",
   "execution_count": 424,
   "metadata": {},
   "outputs": [],
   "source": [
    "def isPalindrome2(head):\n",
    "    fast=head\n",
    "    slow=head\n",
    "    stack=[]\n",
    "    #almacena la mitad de los elementos en stack\n",
    "    while fast and fast.next:\n",
    "        stack.append(slow.value)\n",
    "        slow=slow.next\n",
    "        fast=fast.next.next\n",
    "    \n",
    "    #inicia desde la mitad \n",
    "    if fast:\n",
    "        slow=slow.next\n",
    "    \n",
    "    # recorre desde la mitad para adelante\n",
    "    while slow:\n",
    "        if stack.pop()!=slow.value:\n",
    "            return  False\n",
    "        slow=slow.next\n",
    "        \n",
    "    return True"
   ]
  },
  {
   "cell_type": "code",
   "execution_count": 425,
   "metadata": {},
   "outputs": [
    {
     "data": {
      "text/plain": [
       "True"
      ]
     },
     "execution_count": 425,
     "metadata": {},
     "output_type": "execute_result"
    }
   ],
   "source": [
    "isPalindrome2(head)"
   ]
  },
  {
   "cell_type": "code",
   "execution_count": 426,
   "metadata": {},
   "outputs": [],
   "source": [
    "n1=Node(1)\n",
    "n2=Node(0,n1)\n",
    "n3=Node(0,n2)\n",
    "n4=Node(1,n3)\n",
    "head=n4"
   ]
  },
  {
   "cell_type": "code",
   "execution_count": 427,
   "metadata": {},
   "outputs": [
    {
     "data": {
      "text/plain": [
       "True"
      ]
     },
     "execution_count": 427,
     "metadata": {},
     "output_type": "execute_result"
    }
   ],
   "source": [
    "isPalindrome2(head)"
   ]
  },
  {
   "cell_type": "markdown",
   "metadata": {},
   "source": [
    "## O(n)"
   ]
  },
  {
   "cell_type": "code",
   "execution_count": null,
   "metadata": {},
   "outputs": [],
   "source": []
  }
 ],
 "metadata": {
  "kernelspec": {
   "display_name": "Python 3",
   "language": "python",
   "name": "python3"
  },
  "language_info": {
   "codemirror_mode": {
    "name": "ipython",
    "version": 3
   },
   "file_extension": ".py",
   "mimetype": "text/x-python",
   "name": "python",
   "nbconvert_exporter": "python",
   "pygments_lexer": "ipython3",
   "version": "3.6.4rc1"
  }
 },
 "nbformat": 4,
 "nbformat_minor": 2
}
