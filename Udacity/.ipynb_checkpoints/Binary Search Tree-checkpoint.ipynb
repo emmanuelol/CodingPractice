{
 "cells": [
  {
   "cell_type": "markdown",
   "metadata": {},
   "source": [
    "# Binary Search Tree"
   ]
  },
  {
   "cell_type": "code",
   "execution_count": 1,
   "metadata": {},
   "outputs": [],
   "source": [
    "class Node(object):\n",
    "    def __init__(self,value):\n",
    "        self.value=value\n",
    "        self.left=None\n",
    "        self.right=None"
   ]
  },
  {
   "cell_type": "code",
   "execution_count": 5,
   "metadata": {},
   "outputs": [],
   "source": [
    "class BST(object):\n",
    "    def __init__(self,root):\n",
    "        self.root=Node(root)\n",
    "    \n",
    "    \n",
    "    def insert(self,new_val):\n",
    "        return self.insert_helper(self.root,new_val)\n",
    "    \n",
    "    \n",
    "    def insert_helper(self, current, new_val):\n",
    "        if current.value<new_val:\n",
    "            if current.right:\n",
    "                self.isert_helper(current.right,new_val)\n",
    "            else:\n",
    "                current.right=Node(new_val)\n",
    "        else:\n",
    "            if current.left:\n",
    "                self.insert_helper(current.left,new_val)\n",
    "            else:\n",
    "                current.left=Node(new_val)\n",
    "                \n",
    "    def search(self,find_val):\n",
    "        return self.search_helper(self.root,find_val)\n",
    "    \n",
    "    def search_helper(self,current,find_val):\n",
    "        if current:\n",
    "            if current.value==find_val:\n",
    "                return True\n",
    "            elif current.value<find_val:\n",
    "                return self.search_helper(current.right,find_val)\n",
    "            else:\n",
    "                return self.search_helper(current.left,find_val)\n",
    "        return False"
   ]
  },
  {
   "cell_type": "code",
   "execution_count": 6,
   "metadata": {},
   "outputs": [],
   "source": [
    "# Set up tree\n",
    "tree = BST(4)"
   ]
  },
  {
   "cell_type": "code",
   "execution_count": 7,
   "metadata": {},
   "outputs": [],
   "source": [
    "# Insert elements\n",
    "tree.insert(2)\n",
    "tree.insert(1)\n",
    "tree.insert(3)\n",
    "tree.insert(5)\n"
   ]
  },
  {
   "cell_type": "code",
   "execution_count": 8,
   "metadata": {},
   "outputs": [
    {
     "name": "stdout",
     "output_type": "stream",
     "text": [
      "True\n",
      "False\n"
     ]
    }
   ],
   "source": [
    "# Check search\n",
    "# Should be True\n",
    "print(tree.search(4))\n",
    "# Should be False\n",
    "print(tree.search(6))"
   ]
  },
  {
   "cell_type": "code",
   "execution_count": null,
   "metadata": {},
   "outputs": [],
   "source": []
  }
 ],
 "metadata": {
  "kernelspec": {
   "display_name": "Python 3",
   "language": "python",
   "name": "python3"
  },
  "language_info": {
   "codemirror_mode": {
    "name": "ipython",
    "version": 3
   },
   "file_extension": ".py",
   "mimetype": "text/x-python",
   "name": "python",
   "nbconvert_exporter": "python",
   "pygments_lexer": "ipython3",
   "version": "3.6.4rc1"
  }
 },
 "nbformat": 4,
 "nbformat_minor": 2
}
