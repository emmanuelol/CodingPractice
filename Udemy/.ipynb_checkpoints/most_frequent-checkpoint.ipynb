{
 "cells": [
  {
   "cell_type": "code",
   "execution_count": 1,
   "metadata": {},
   "outputs": [],
   "source": [
    "# Implement your function below.\n",
    "#notation O(n)\n",
    "def most_frequent(given_list):\n",
    "    max_count=-1\n",
    "    count={}\n",
    "    max_item = None    \n",
    "    \n",
    "    for item in given_list:\n",
    "        if item not in count:\n",
    "            count[item]=1\n",
    "        else:\n",
    "            count[item]+=1\n",
    "        if count[item]>max_count:\n",
    "            max_count=count[item]\n",
    "            max_item=item\n",
    "            \n",
    "    \n",
    "    return max_item\n",
    "\n"
   ]
  },
  {
   "cell_type": "code",
   "execution_count": 2,
   "metadata": {},
   "outputs": [],
   "source": [
    "# NOTE: The following input values will be used for testing your solution.\n",
    "# most_frequent(list1) should return 1\n",
    "list1 = [1, 3, 1, 3, 2, 1]\n",
    "# most_frequent(list2) should return 3\n",
    "list2 = [3, 3, 1, 3, 2, 1]\n",
    "# most_frequent(list3) should return None\n",
    "list3 = []\n",
    "# most_frequent(list4) should return 0\n",
    "list4 = [0]\n",
    "# most_frequent(list5) should return -1\n",
    "list5 = [0, -1, 10, 10, -1, 10, -1, -1, -1, 1]"
   ]
  },
  {
   "cell_type": "code",
   "execution_count": 4,
   "metadata": {},
   "outputs": [
    {
     "name": "stdout",
     "output_type": "stream",
     "text": [
      "1\n",
      "3\n",
      "None\n",
      "0\n",
      "-1\n"
     ]
    }
   ],
   "source": [
    "print(most_frequent(list1))\n",
    "print(most_frequent(list2))\n",
    "print(most_frequent(list3))\n",
    "print(most_frequent(list4))\n",
    "print(most_frequent(list5))"
   ]
  },
  {
   "cell_type": "markdown",
   "metadata": {},
   "source": [
    "Common elements in two sorted arrays\n",
    "a function that retunrs the common elemnts (as an array) between two sorted of integers\n",
    "notation O(max(n,m))"
   ]
  },
  {
   "cell_type": "code",
   "execution_count": 8,
   "metadata": {},
   "outputs": [],
   "source": [
    "# Implement your function below.\n",
    "def common_elements(list1, list2):\n",
    "    result = []\n",
    "    pointer1=0\n",
    "    pointer2=0\n",
    "    \n",
    "    while pointer1<len(list1) and pointer2<len(list2):\n",
    "        if list1[pointer1]==list2[pointer2]:\n",
    "            result.append(list1[pointer1])\n",
    "            pointer1+=1\n",
    "            pointer2+=1\n",
    "        elif list1[pointer1]>list2[pointer2]:\n",
    "            pointer2+=1\n",
    "        else:\n",
    "            pointer1+=1\n",
    "    \n",
    "    return result\n",
    "\n",
    "\n"
   ]
  },
  {
   "cell_type": "code",
   "execution_count": 9,
   "metadata": {},
   "outputs": [],
   "source": [
    "# NOTE: The following input values will be used for testing your solution.\n",
    "list_a1 = [1, 3, 4, 6, 7, 9]\n",
    "list_a2 = [1, 2, 4, 5, 9, 10]\n",
    "# common_elements(list_a1, list_a2) should return [1, 4, 9] (a list).\n",
    "\n",
    "list_b1 = [1, 2, 9, 10, 11, 12]\n",
    "list_b2 = [0, 1, 2, 3, 4, 5, 8, 9, 10, 12, 14, 15]\n",
    "# common_elements(list_b1, list_b2) should return [1, 2, 9, 10, 12] (a list).\n",
    "\n",
    "list_c1 = [0, 1, 2, 3, 4, 5]\n",
    "list_c2 = [6, 7, 8, 9, 10, 11]\n",
    "# common_elements(list_b1, list_b2) should return [] (an empty list)."
   ]
  },
  {
   "cell_type": "code",
   "execution_count": 10,
   "metadata": {},
   "outputs": [
    {
     "name": "stdout",
     "output_type": "stream",
     "text": [
      "[1, 4, 9]\n",
      "[1, 2, 9, 10, 12]\n",
      "[]\n"
     ]
    }
   ],
   "source": [
    "print(common_elements(list_a1,list_a2))\n",
    "print(common_elements(list_b1,list_b2))\n",
    "print(common_elements(list_c1,list_c2))"
   ]
  },
  {
   "cell_type": "code",
   "execution_count": null,
   "metadata": {},
   "outputs": [],
   "source": []
  }
 ],
 "metadata": {
  "kernelspec": {
   "display_name": "Python 3",
   "language": "python",
   "name": "python3"
  },
  "language_info": {
   "codemirror_mode": {
    "name": "ipython",
    "version": 3
   },
   "file_extension": ".py",
   "mimetype": "text/x-python",
   "name": "python",
   "nbconvert_exporter": "python",
   "pygments_lexer": "ipython3",
   "version": "3.6.4rc1"
  }
 },
 "nbformat": 4,
 "nbformat_minor": 2
}
