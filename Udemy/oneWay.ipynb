{
 "cells": [
  {
   "cell_type": "code",
   "execution_count": 41,
   "metadata": {},
   "outputs": [],
   "source": [
    "stringA='abc'\n",
    "stringB='ac'"
   ]
  },
  {
   "cell_type": "code",
   "execution_count": 42,
   "metadata": {},
   "outputs": [
    {
     "data": {
      "text/plain": [
       "'b'"
      ]
     },
     "execution_count": 42,
     "metadata": {},
     "output_type": "execute_result"
    }
   ],
   "source": [
    "stringA[1]"
   ]
  },
  {
   "cell_type": "code",
   "execution_count": 43,
   "metadata": {},
   "outputs": [],
   "source": [
    "def oneWaySameLength(stringA,stringB):\n",
    "    count=0\n",
    "    for i in range(len(stringA)):\n",
    "        if stringA[i]!=stringB[i]:\n",
    "            count+=1\n",
    "    if count>1:\n",
    "        return False\n",
    "    else:\n",
    "        return True"
   ]
  },
  {
   "cell_type": "code",
   "execution_count": 44,
   "metadata": {},
   "outputs": [],
   "source": [
    "def oneWayDiffLength(stringA,stringB):\n",
    "    count=0\n",
    "    for i in range(len(stringB)):\n",
    "        if stringA[i+count]!=stringB[i]:\n",
    "            count+=1\n",
    "    if count>1:\n",
    "        return False\n",
    "    else:\n",
    "        return True"
   ]
  },
  {
   "cell_type": "code",
   "execution_count": 45,
   "metadata": {},
   "outputs": [],
   "source": [
    "def oneWay(stringA,stringB):\n",
    "    if len(stringA)<=(len(stringB)-2) or len(stringA)>=(len(stringB)+2):\n",
    "        return False\n",
    "    elif len(stringA)==len(stringB):\n",
    "        return oneWaySameLength(stringA,stringB)\n",
    "    elif len(stringA)>len(stringB):\n",
    "        return oneWayDiffLength(stringA,stringB)\n",
    "    else:\n",
    "        return oneWayDiffLength(stringB,stringA)\n",
    "        "
   ]
  },
  {
   "cell_type": "code",
   "execution_count": 46,
   "metadata": {},
   "outputs": [
    {
     "data": {
      "text/plain": [
       "True"
      ]
     },
     "execution_count": 46,
     "metadata": {},
     "output_type": "execute_result"
    }
   ],
   "source": [
    "oneWay(stringA,stringB)"
   ]
  },
  {
   "cell_type": "code",
   "execution_count": 35,
   "metadata": {},
   "outputs": [
    {
     "name": "stdout",
     "output_type": "stream",
     "text": [
      "True\n"
     ]
    }
   ],
   "source": [
    "count=0\n",
    "for i in range(len(stringB)):\n",
    "    if stringA[i+count]!=stringB[i]:\n",
    "        count+=1\n",
    "if count>1:\n",
    "    print('False')\n",
    "else:\n",
    "    print('True')"
   ]
  },
  {
   "cell_type": "code",
   "execution_count": 39,
   "metadata": {},
   "outputs": [],
   "source": [
    "stringA='abc'\n",
    "stringB='aed'"
   ]
  },
  {
   "cell_type": "code",
   "execution_count": 40,
   "metadata": {},
   "outputs": [
    {
     "name": "stdout",
     "output_type": "stream",
     "text": [
      "False\n"
     ]
    }
   ],
   "source": [
    "count=0\n",
    "for i in range(len(stringA)):\n",
    "    if stringA[i]!=stringB[i]:\n",
    "        count+=1\n",
    "if count>1:\n",
    "    print('False')\n",
    "else:\n",
    "    print('True')"
   ]
  },
  {
   "cell_type": "code",
   "execution_count": null,
   "metadata": {},
   "outputs": [],
   "source": []
  }
 ],
 "metadata": {
  "kernelspec": {
   "display_name": "Python 3",
   "language": "python",
   "name": "python3"
  },
  "language_info": {
   "codemirror_mode": {
    "name": "ipython",
    "version": 3
   },
   "file_extension": ".py",
   "mimetype": "text/x-python",
   "name": "python",
   "nbconvert_exporter": "python",
   "pygments_lexer": "ipython3",
   "version": "3.6.4rc1"
  }
 },
 "nbformat": 4,
 "nbformat_minor": 2
}
