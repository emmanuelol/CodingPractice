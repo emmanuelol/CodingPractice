{
 "cells": [
  {
   "cell_type": "code",
   "execution_count": 174,
   "metadata": {},
   "outputs": [],
   "source": [
    "import numpy as np"
   ]
  },
  {
   "cell_type": "code",
   "execution_count": 175,
   "metadata": {},
   "outputs": [],
   "source": [
    "field=np.zeros([3,4])"
   ]
  },
  {
   "cell_type": "code",
   "execution_count": 176,
   "metadata": {},
   "outputs": [],
   "source": [
    "bombas=[[0,0],[0,1]]"
   ]
  },
  {
   "cell_type": "code",
   "execution_count": 177,
   "metadata": {},
   "outputs": [
    {
     "data": {
      "text/plain": [
       "[[0, 0], [0, 1]]"
      ]
     },
     "execution_count": 177,
     "metadata": {},
     "output_type": "execute_result"
    }
   ],
   "source": [
    "A\n"
   ]
  },
  {
   "cell_type": "code",
   "execution_count": 178,
   "metadata": {},
   "outputs": [],
   "source": [
    "columnas=4\n",
    "renglones=3"
   ]
  },
  {
   "cell_type": "code",
   "execution_count": 179,
   "metadata": {},
   "outputs": [
    {
     "name": "stdout",
     "output_type": "stream",
     "text": [
      "[0, 0]\n",
      "-1 , -1\n",
      "-1 , 0\n",
      "-1 , 1\n",
      "0 , -1\n",
      "0 , 0\n",
      "0 , 1\n",
      "1 , -1\n",
      "1 , 0\n",
      "1 , 1\n",
      "[0, 1]\n",
      "-1 , 0\n",
      "-1 , 1\n",
      "-1 , 2\n",
      "0 , 0\n",
      "0 , 1\n",
      "0 , 2\n",
      "1 , 0\n",
      "1 , 1\n",
      "1 , 2\n"
     ]
    }
   ],
   "source": [
    "for bomba in bombas:\n",
    "    print(bomba)\n",
    "    \n",
    "    renglon=bomba[0]\n",
    "    columna=bomba[1]\n",
    "    \n",
    "    field[renglon][columna]=-1\n",
    "    \n",
    "    for i in range(renglon-1, renglon+2):\n",
    "        for j in range(columna-1, columna+2):\n",
    "            print(i, ',', j)\n",
    "       \n",
    "            if 0<=i<renglones and 0<=j<columnas and field[i][j]!=-1:\n",
    "                field[i][j]+=1\n"
   ]
  },
  {
   "cell_type": "code",
   "execution_count": 180,
   "metadata": {},
   "outputs": [
    {
     "data": {
      "text/plain": [
       "array([[-1., -1.,  1.,  0.],\n",
       "       [ 2.,  2.,  1.,  0.],\n",
       "       [ 0.,  0.,  0.,  0.]])"
      ]
     },
     "execution_count": 180,
     "metadata": {},
     "output_type": "execute_result"
    }
   ],
   "source": [
    "field"
   ]
  },
  {
   "cell_type": "code",
   "execution_count": 181,
   "metadata": {},
   "outputs": [],
   "source": [
    "def busca_minas(bombas,renglones,columnas):\n",
    "    field=np.zeros([renglones,columnas])\n",
    "    for bomba in bombas:    \n",
    "        renglon=bomba[0]\n",
    "        columna=bomba[1]\n",
    "        field[renglon][columna]=-1\n",
    "        for i in range(renglon-1, renglon+2):\n",
    "            for j in range(columna-1, columna+2):\n",
    "                if 0<=i<renglones and 0<=j<columnas and field[i][j]!=-1:\n",
    "                    field[i][j]+=1\n",
    "    return field\n",
    "    \n",
    "    "
   ]
  },
  {
   "cell_type": "code",
   "execution_count": 182,
   "metadata": {},
   "outputs": [
    {
     "data": {
      "text/plain": [
       "array([[-1., -1.,  1.,  0.],\n",
       "       [ 2.,  2.,  1.,  0.],\n",
       "       [ 0.,  0.,  0.,  0.]])"
      ]
     },
     "execution_count": 182,
     "metadata": {},
     "output_type": "execute_result"
    }
   ],
   "source": [
    "busca_minas(bombas,renglones,columnas)"
   ]
  },
  {
   "cell_type": "code",
   "execution_count": 183,
   "metadata": {},
   "outputs": [
    {
     "data": {
      "text/plain": [
       "3"
      ]
     },
     "execution_count": 183,
     "metadata": {},
     "output_type": "execute_result"
    }
   ],
   "source": [
    "(field==0)\n",
    "field.shape[0]\n",
    "\n"
   ]
  },
  {
   "cell_type": "code",
   "execution_count": 184,
   "metadata": {},
   "outputs": [],
   "source": [
    "given_i=2\n",
    "given_j=2"
   ]
  },
  {
   "cell_type": "code",
   "execution_count": 185,
   "metadata": {},
   "outputs": [
    {
     "data": {
      "text/plain": [
       "array([[-1., -1.,  1.,  0.],\n",
       "       [ 2.,  2.,  1.,  0.],\n",
       "       [ 0.,  0.,  0.,  0.]])"
      ]
     },
     "execution_count": 185,
     "metadata": {},
     "output_type": "execute_result"
    }
   ],
   "source": [
    "field"
   ]
  },
  {
   "cell_type": "code",
   "execution_count": 186,
   "metadata": {},
   "outputs": [],
   "source": [
    "import queue\n"
   ]
  },
  {
   "cell_type": "code",
   "execution_count": 187,
   "metadata": {},
   "outputs": [],
   "source": [
    "def click(field,renglones,columnas, given_i,given_j):\n",
    "    to_check=queue.Queue()\n",
    "    if field[given_i][given_j]!=0:\n",
    "        return field\n",
    "    else:\n",
    "        field[given_i][given_j]=-2\n",
    "        to_check.put((given_i,given_j))\n",
    "    \n",
    "    while not to_check.empty():\n",
    "        (current_i,current_j)=to_check.get()\n",
    "        for i in range((current_i-1),(current_i+2)):\n",
    "            for j in range((current_j-1),(current_j+2)):\n",
    "                if 0<=i<renglones and 0<=j<columnas and field[i][j]==0:\n",
    "                    field[i][j]=-2\n",
    "                    to_check.put((i,j))\n",
    "    return field\n",
    "        \n",
    "        \n",
    "        "
   ]
  },
  {
   "cell_type": "code",
   "execution_count": 188,
   "metadata": {},
   "outputs": [
    {
     "data": {
      "text/plain": [
       "array([[-1., -1.,  1., -2.],\n",
       "       [ 2.,  2.,  1., -2.],\n",
       "       [-2., -2., -2., -2.]])"
      ]
     },
     "execution_count": 188,
     "metadata": {},
     "output_type": "execute_result"
    }
   ],
   "source": [
    "click(field,renglones,columnas,given_i,given_j)"
   ]
  },
  {
   "cell_type": "code",
   "execution_count": 189,
   "metadata": {},
   "outputs": [],
   "source": [
    "bombas=[[0,0],[3,3]]\n",
    "renglones=4\n",
    "columnas=4"
   ]
  },
  {
   "cell_type": "code",
   "execution_count": 190,
   "metadata": {},
   "outputs": [],
   "source": [
    "field=busca_minas(bombas,renglones,columnas)"
   ]
  },
  {
   "cell_type": "code",
   "execution_count": 191,
   "metadata": {},
   "outputs": [
    {
     "data": {
      "text/plain": [
       "array([[-1.,  1.,  0.,  0.],\n",
       "       [ 1.,  1.,  0.,  0.],\n",
       "       [ 0.,  0.,  1.,  1.],\n",
       "       [ 0.,  0.,  1., -1.]])"
      ]
     },
     "execution_count": 191,
     "metadata": {},
     "output_type": "execute_result"
    }
   ],
   "source": [
    "field"
   ]
  },
  {
   "cell_type": "code",
   "execution_count": 192,
   "metadata": {},
   "outputs": [],
   "source": [
    "given_i=1\n",
    "given_j=2\n"
   ]
  },
  {
   "cell_type": "code",
   "execution_count": 193,
   "metadata": {},
   "outputs": [
    {
     "data": {
      "text/plain": [
       "array([[-1.,  1., -2., -2.],\n",
       "       [ 1.,  1., -2., -2.],\n",
       "       [-2., -2.,  1.,  1.],\n",
       "       [-2., -2.,  1., -1.]])"
      ]
     },
     "execution_count": 193,
     "metadata": {},
     "output_type": "execute_result"
    }
   ],
   "source": [
    "click(field,renglones,columnas,given_i,given_j)"
   ]
  },
  {
   "cell_type": "code",
   "execution_count": null,
   "metadata": {},
   "outputs": [],
   "source": []
  },
  {
   "cell_type": "code",
   "execution_count": null,
   "metadata": {},
   "outputs": [],
   "source": []
  }
 ],
 "metadata": {
  "kernelspec": {
   "display_name": "Python 3",
   "language": "python",
   "name": "python3"
  },
  "language_info": {
   "codemirror_mode": {
    "name": "ipython",
    "version": 3
   },
   "file_extension": ".py",
   "mimetype": "text/x-python",
   "name": "python",
   "nbconvert_exporter": "python",
   "pygments_lexer": "ipython3",
   "version": "3.6.4rc1"
  }
 },
 "nbformat": 4,
 "nbformat_minor": 2
}
