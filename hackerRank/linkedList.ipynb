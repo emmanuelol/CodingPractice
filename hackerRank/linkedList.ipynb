{
 "cells": [
  {
   "cell_type": "markdown",
   "metadata": {},
   "source": [
    "# stock price"
   ]
  },
  {
   "cell_type": "code",
   "execution_count": 1,
   "metadata": {},
   "outputs": [],
   "source": [
    "price=[45,24,35,31,40,38,11]"
   ]
  },
  {
   "cell_type": "code",
   "execution_count": 2,
   "metadata": {},
   "outputs": [],
   "source": [
    "def stockPrice(array):\n",
    "    precio=array[0]\n",
    "    max_ganancia=0\n",
    "    compra=0\n",
    "    venta=0\n",
    "    for i in range(len(array)-1):\n",
    "        sell=array[i+1]\n",
    "        \n",
    "        if sell<precio:\n",
    "            precio=array[i]\n",
    "            \n",
    "        ganancia_temp=sell-precio\n",
    "        if ganancia_temp>0 and ganancia_temp>max_ganancia:\n",
    "            max_ganancia=ganancia_temp\n",
    "            compra=precio\n",
    "            venta=sell\n",
    "    return max_ganancia,compra,venta\n",
    "        "
   ]
  },
  {
   "cell_type": "code",
   "execution_count": 3,
   "metadata": {},
   "outputs": [
    {
     "data": {
      "text/plain": [
       "(16, 24, 40)"
      ]
     },
     "execution_count": 3,
     "metadata": {},
     "output_type": "execute_result"
    }
   ],
   "source": [
    "stockPrice(price)"
   ]
  },
  {
   "cell_type": "code",
   "execution_count": 4,
   "metadata": {},
   "outputs": [],
   "source": [
    "def StockPicker(arr): \n",
    "  \n",
    "  max_profit = -1\n",
    "  buy_price = 0\n",
    "  sell_price = 0\n",
    "  \n",
    "  # this allows our loop to keep iterating the buying\n",
    "  # price until a cheap stock price is found\n",
    "  change_buy_index = True\n",
    "  \n",
    "  # loop through list of stock prices once\n",
    "  for i in range(0, len(arr)-1):\n",
    "    \n",
    "    # selling price is the next element in list\n",
    "    sell_price = arr[i+1]\n",
    "    \n",
    "    # if we have not found a suitable cheap buying price yet\n",
    "    # we set the buying price equal to the current element\n",
    "    if change_buy_index: \n",
    "      buy_price = arr[i]\n",
    "    \n",
    "    # if the selling price is less than the buying price\n",
    "    # we know we cannot make a profit so we continue to the \n",
    "    # next element in the list which will be the new buying price\n",
    "    if sell_price < buy_price:\n",
    "      change_buy_index = True \n",
    "      continue\n",
    "    \n",
    "    # if the selling price is greater than the buying price\n",
    "    # we check to see if these two indices give us a better \n",
    "    # profit then what we currently have\n",
    "    else:\n",
    "      temp_profit = sell_price - buy_price\n",
    "      if temp_profit > max_profit:\n",
    "        max_profit = temp_profit\n",
    "      change_buy_index = False\n",
    "      \n",
    "  return max_profit\n",
    "\n"
   ]
  },
  {
   "cell_type": "code",
   "execution_count": 5,
   "metadata": {},
   "outputs": [
    {
     "name": "stdout",
     "output_type": "stream",
     "text": [
      "16\n"
     ]
    }
   ],
   "source": [
    "print (StockPicker([44, 30, 24, 32, 35, 30, 40, 38, 15]))"
   ]
  },
  {
   "cell_type": "markdown",
   "metadata": {},
   "source": [
    "# encontrar el punto medio de una lista enlazada"
   ]
  },
  {
   "cell_type": "code",
   "execution_count": 6,
   "metadata": {},
   "outputs": [],
   "source": [
    "class Node(object):\n",
    "    def __init__(self,value,next):\n",
    "        self.value=value\n",
    "        self.next=next"
   ]
  },
  {
   "cell_type": "code",
   "execution_count": 7,
   "metadata": {},
   "outputs": [],
   "source": [
    "n1=Node('Oscar',None)\n",
    "n2=Node('Carlos',n1)\n",
    "n3=Node('Emmanuel',n2)\n",
    "n4=Node('Manuel',n3)\n",
    "n5=Node('Imelda',n4)\n"
   ]
  },
  {
   "cell_type": "code",
   "execution_count": 8,
   "metadata": {},
   "outputs": [],
   "source": [
    "head=n5"
   ]
  },
  {
   "cell_type": "code",
   "execution_count": 9,
   "metadata": {},
   "outputs": [],
   "source": [
    "def middle_list(head):\n",
    "    fasterPointer=head\n",
    "    slowPointer=head\n",
    "    \n",
    "    while fasterPointer.next!=None and fasterPointer.next.next!=None:\n",
    "        fasterPointer=fasterPointer.next.next\n",
    "        slowPointer=slowPointer.next\n",
    "        \n",
    "    return slowPointer.value"
   ]
  },
  {
   "cell_type": "code",
   "execution_count": 10,
   "metadata": {},
   "outputs": [
    {
     "data": {
      "text/plain": [
       "'Emmanuel'"
      ]
     },
     "execution_count": 10,
     "metadata": {},
     "output_type": "execute_result"
    }
   ],
   "source": [
    "middle_list(head)"
   ]
  },
  {
   "cell_type": "code",
   "execution_count": 77,
   "metadata": {},
   "outputs": [],
   "source": [
    "n1=Node('Oscar',None)\n",
    "n2=Node('Carlos',n1)\n",
    "n3=Node('Emmanuel',n2)\n",
    "n4=Node('Manuel',n3)\n",
    "n5=Node('Imelda',n4)\n",
    "n6=Node('Lourders',n5)\n",
    "n7=Node('Tomas',n6)"
   ]
  },
  {
   "cell_type": "code",
   "execution_count": 78,
   "metadata": {},
   "outputs": [],
   "source": [
    "head=n7"
   ]
  },
  {
   "cell_type": "code",
   "execution_count": 79,
   "metadata": {},
   "outputs": [
    {
     "data": {
      "text/plain": [
       "'Manuel'"
      ]
     },
     "execution_count": 79,
     "metadata": {},
     "output_type": "execute_result"
    }
   ],
   "source": [
    "middle_list(head)"
   ]
  },
  {
   "cell_type": "code",
   "execution_count": 80,
   "metadata": {},
   "outputs": [],
   "source": [
    "n1=Node('Oscar',None)\n",
    "n2=Node('Carlos',n1)\n",
    "n3=Node('Emmanuel',n2)\n",
    "n4=Node('Manuel',n3)\n",
    "n5=Node('Imelda',n4)\n",
    "n6=Node('Lourders',n5)\n",
    "head=n6"
   ]
  },
  {
   "cell_type": "code",
   "execution_count": 81,
   "metadata": {},
   "outputs": [
    {
     "data": {
      "text/plain": [
       "'Manuel'"
      ]
     },
     "execution_count": 81,
     "metadata": {},
     "output_type": "execute_result"
    }
   ],
   "source": [
    "middle_list(head)"
   ]
  },
  {
   "cell_type": "code",
   "execution_count": 82,
   "metadata": {},
   "outputs": [],
   "source": [
    "n1=Node('Oscar',None)\n",
    "n2=Node('Carlos',n1)\n",
    "n3=Node('Emmanuel',n2)\n",
    "n4=Node('Manuel',n3)\n",
    "n5=Node('Imelda',n4)\n",
    "n6=Node('Lourders',n5)\n",
    "n7=Node('Tomas',n6)\n",
    "n8=Node('Clementina',n7)\n",
    "n9=Node('Jesus',n8)\n",
    "head=n9"
   ]
  },
  {
   "cell_type": "code",
   "execution_count": 83,
   "metadata": {},
   "outputs": [
    {
     "data": {
      "text/plain": [
       "'Imelda'"
      ]
     },
     "execution_count": 83,
     "metadata": {},
     "output_type": "execute_result"
    }
   ],
   "source": [
    "middle_list(head)"
   ]
  },
  {
   "cell_type": "code",
   "execution_count": 84,
   "metadata": {},
   "outputs": [],
   "source": [
    "n1=Node(4,None)\n",
    "n2=Node(3,n1)\n",
    "n3=Node(2,n2)\n",
    "n4=Node(1,n3)\n",
    "n5=Node(0,n4)\n",
    "head=n5"
   ]
  },
  {
   "cell_type": "code",
   "execution_count": 97,
   "metadata": {},
   "outputs": [],
   "source": [
    "counter=0\n",
    "current=head\n",
    "fast=head\n",
    "G=[0,3,1,4]"
   ]
  },
  {
   "cell_type": "code",
   "execution_count": 98,
   "metadata": {},
   "outputs": [],
   "source": [
    "\n",
    "while current.next:\n",
    "    \n",
    "    if current.value and current.next.value in G:\n",
    "        counter+=1\n",
    "    current=current.next"
   ]
  },
  {
   "cell_type": "code",
   "execution_count": 99,
   "metadata": {},
   "outputs": [
    {
     "data": {
      "text/plain": [
       "2"
      ]
     },
     "execution_count": 99,
     "metadata": {},
     "output_type": "execute_result"
    }
   ],
   "source": [
    "counter"
   ]
  },
  {
   "cell_type": "code",
   "execution_count": 111,
   "metadata": {},
   "outputs": [],
   "source": [
    "n=4"
   ]
  },
  {
   "cell_type": "code",
   "execution_count": 112,
   "metadata": {},
   "outputs": [],
   "source": [
    "def n_from_last(head,n):\n",
    "    faster=head\n",
    "    slow=head\n",
    "    for i in range(n):\n",
    "        if faster==None:\n",
    "            return None\n",
    "        faster=faster.next\n",
    "    while faster:\n",
    "        faster=faster.next\n",
    "        slow=slow.next\n",
    "    return slow.value"
   ]
  },
  {
   "cell_type": "code",
   "execution_count": 113,
   "metadata": {},
   "outputs": [
    {
     "data": {
      "text/plain": [
       "1"
      ]
     },
     "execution_count": 113,
     "metadata": {},
     "output_type": "execute_result"
    }
   ],
   "source": [
    "n_from_last(head,n)"
   ]
  },
  {
   "cell_type": "code",
   "execution_count": null,
   "metadata": {},
   "outputs": [],
   "source": []
  }
 ],
 "metadata": {
  "kernelspec": {
   "display_name": "Python 3",
   "language": "python",
   "name": "python3"
  },
  "language_info": {
   "codemirror_mode": {
    "name": "ipython",
    "version": 3
   },
   "file_extension": ".py",
   "mimetype": "text/x-python",
   "name": "python",
   "nbconvert_exporter": "python",
   "pygments_lexer": "ipython3",
   "version": "3.6.4rc1"
  }
 },
 "nbformat": 4,
 "nbformat_minor": 2
}
